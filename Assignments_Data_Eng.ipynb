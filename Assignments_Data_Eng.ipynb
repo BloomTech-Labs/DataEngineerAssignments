{
 "nbformat": 4,
 "nbformat_minor": 0,
 "metadata": {
  "colab": {
   "name": "Data_Engineer.ipynb",
   "provenance": [],
   "collapsed_sections": []
  },
  "kernelspec": {
   "name": "python3",
   "display_name": "Python 3"
  },
  "language_info": {
   "name": "python"
  }
 },
 "cells": [
  {
   "cell_type": "markdown",
   "metadata": {
    "id": "jMy6vjgrmViW"
   },
   "source": [
    "# Data Engineer & Analyst"
   ]
  },
  {
   "cell_type": "markdown",
   "metadata": {
    "id": "spjvO0ld_x5G"
   },
   "source": [
    "Finding just the right data for a project can be a challenge. Finding perfectly clean data ready for machine learning can be impossible. For our first assignment we'll generate some data, but before we do that we'll need a place to store it! For that I've included a MongoDB interface, all you need to do is enter your credentials when prompted."
   ]
  },
  {
   "cell_type": "markdown",
   "metadata": {
    "id": "1fhHRZLjQEHD"
   },
   "source": [
    "## MongoDB Database Interface"
   ]
  },
  {
   "cell_type": "markdown",
   "metadata": {
    "id": "l1tZUc0uN7nu"
   },
   "source": [
    "Our first assignment is to generate some random data, but first we need a place to put it!\n",
    "\n",
    "MongoDB is a good place to start when learning database operations in Python. Unlike relational databases, working with a no-SQL database (MongoDB) is more like working with other Python libraries and less like writing obscure SQL queries. For some of these assignments you will need a free [MongoDB account](https://www.mongodb.com/). In assignment 2 you'll create your own database interface much like the one below.\n"
   ]
  },
  {
   "cell_type": "code",
   "metadata": {
    "id": "5TojwVhinKnA"
   },
   "source": [
    "# PyMongo requires dnspython to be installed\n",
    "!pip install dnspython"
   ],
   "execution_count": 1,
   "outputs": [
    {
     "name": "stdout",
     "output_type": "stream",
     "text": [
      "Requirement already satisfied: dnspython in /Library/Frameworks/Python.framework/Versions/3.8/lib/python3.8/site-packages (2.0.0)\r\n"
     ]
    }
   ]
  },
  {
   "cell_type": "code",
   "metadata": {
    "id": "lZz_z9M6mIuq"
   },
   "source": [
    "from typing import Dict, Iterable\n",
    "from pymongo import MongoClient\n",
    "import pandas as pd"
   ],
   "execution_count": 2,
   "outputs": []
  },
  {
   "cell_type": "code",
   "metadata": {
    "id": "rY7TXZ5rmoEF"
   },
   "source": [
    "class MongoDB:\n",
    "\n",
    "    def __init__(self, url, database, collection):\n",
    "        self.url = url\n",
    "        self.database = database\n",
    "        self.collection = collection\n",
    "\n",
    "    def connect(self):\n",
    "        return MongoClient(self.url)[self.database][self.collection]\n",
    "\n",
    "    def find(self, query_obj: Dict) -> pd.DataFrame:\n",
    "        return pd.DataFrame(self.connect().find(query_obj))\n",
    "\n",
    "    def insert(self, insert_obj: Iterable[Dict]):\n",
    "        self.connect().insert_many(insert_obj)\n",
    "\n",
    "    def update(self, query: Dict, data: Dict):\n",
    "        self.connect().update_many(query, {\"$set\": data})\n",
    "\n",
    "    def delete(self, query_obj: Dict):\n",
    "        self.connect().delete_many(query_obj)\n",
    "\n",
    "    def get_df(self, query_obj: Dict = None) -> pd.DataFrame:\n",
    "        return pd.DataFrame(self.find(query_obj or {}))"
   ],
   "execution_count": 14,
   "outputs": []
  },
  {
   "cell_type": "markdown",
   "metadata": {
    "id": "20oCzfEwoPCA"
   },
   "source": [
    "# Mock Data"
   ]
  },
  {
   "cell_type": "markdown",
   "source": [
    "\n",
    "1. Sign up for MongoDB if you don't already have an account.\n",
    "2. Run the cells below to get a feel for it. Edit the code, and have fun.\n",
    "3. Create and store at least 1000 monsters using the database interface and MonsterLab's Monster class.\n",
    "4. Find all the Dragons, print them as a DataFrame.\n",
    "5. Get all the monsters into a pandas DataFrame.\n",
    "\n",
    "Bandersnatch should be very happy, indeed!"
   ],
   "metadata": {
    "collapsed": false
   }
  },
  {
   "cell_type": "markdown",
   "source": [
    "It's best practice to store passwords and credentials in a `.env` file. Here the notebook will ask you for your database info when you run the cell below. Make sure you have your MongoDB account setup first."
   ],
   "metadata": {
    "collapsed": false
   }
  },
  {
   "cell_type": "code",
   "execution_count": 12,
   "outputs": [],
   "source": [
    "base_url = input(\"URL? \")\n",
    "user_name = input(\"Username? \")\n",
    "password = input(\"Password? \")\n",
    "\n",
    "database = input(\"Database? \")  # This can be named anything you like: MonsterLab\n",
    "collection = input(\"Collection? \")  # This can be named anything you like: Monsters\n",
    "\n",
    "url = f\"mongodb+srv://{user_name}:{password}@{base_url}\""
   ],
   "metadata": {
    "collapsed": false,
    "pycharm": {
     "name": "#%%\n"
    }
   }
  },
  {
   "cell_type": "code",
   "execution_count": 15,
   "outputs": [
    {
     "name": "stdout",
     "output_type": "stream",
     "text": [
      "Empty DataFrame\n",
      "Columns: []\n",
      "Index: []\n"
     ]
    }
   ],
   "source": [
    "db = MongoDB(url, database, collection)\n",
    "print(db.get_df())"
   ],
   "metadata": {
    "collapsed": false,
    "pycharm": {
     "name": "#%%\n"
    }
   }
  },
  {
   "cell_type": "markdown",
   "metadata": {
    "id": "fTzd0t_TNp4M"
   },
   "source": [
    "Now we need some data! Random data can be generated in many ways. Here's an examples using MonsterLab and the database interface above. Mock data should have the same shape as expected in the *real data*. \n",
    "\n",
    "[MonsterLab](https://pypi.org/project/MonsterLab/) MonsterLab is how Bandersnatch generates its data, more on that later...\n",
    "\n",
    "For this assignment review the code cells below and have a go playing with the generators in MonsterLab. See what you can do!"
   ]
  },
  {
   "cell_type": "markdown",
   "metadata": {
    "id": "4dA2FFM6htNJ"
   },
   "source": [
    "## Random Monsters: MonsterLab"
   ]
  },
  {
   "cell_type": "code",
   "metadata": {
    "id": "isk20jhXIaP7"
   },
   "source": [
    "!pip install MonsterLab"
   ],
   "execution_count": 16,
   "outputs": [
    {
     "name": "stdout",
     "output_type": "stream",
     "text": [
      "Requirement already satisfied: MonsterLab in /Library/Frameworks/Python.framework/Versions/3.8/lib/python3.8/site-packages (1.2.2)\r\n",
      "Requirement already satisfied: pytz in /Library/Frameworks/Python.framework/Versions/3.8/lib/python3.8/site-packages (from MonsterLab) (2020.1)\r\n"
     ]
    }
   ]
  },
  {
   "cell_type": "code",
   "metadata": {
    "id": "GDnBfBzsnno7"
   },
   "source": [
    "from MonsterLab import Monster"
   ],
   "execution_count": 17,
   "outputs": []
  },
  {
   "cell_type": "code",
   "metadata": {
    "id": "zJipDGup6ysh"
   },
   "source": [
    "help(Monster)"
   ],
   "execution_count": 18,
   "outputs": [
    {
     "name": "stdout",
     "output_type": "stream",
     "text": [
      "Help on class Monster in module MonsterLab.monster_lab:\n",
      "\n",
      "class Monster(builtins.object)\n",
      " |  Monster(name=None, monster_type=None, level=None, rarity=None)\n",
      " |  \n",
      " |  Methods defined here:\n",
      " |  \n",
      " |  __init__(self, name=None, monster_type=None, level=None, rarity=None)\n",
      " |      Initialize self.  See help(type(self)) for accurate signature.\n",
      " |  \n",
      " |  __repr__(self)\n",
      " |      Return repr(self).\n",
      " |  \n",
      " |  __str__(self)\n",
      " |      Return str(self).\n",
      " |  \n",
      " |  to_dict(self)\n",
      " |  \n",
      " |  ----------------------------------------------------------------------\n",
      " |  Data descriptors defined here:\n",
      " |  \n",
      " |  __dict__\n",
      " |      dictionary for instance variables (if defined)\n",
      " |  \n",
      " |  __weakref__\n",
      " |      list of weak references to the object (if defined)\n",
      "\n"
     ]
    }
   ]
  },
  {
   "cell_type": "markdown",
   "metadata": {
    "id": "-XZNHDl6KNw2"
   },
   "source": [
    "### A Random Monster"
   ]
  },
  {
   "cell_type": "code",
   "metadata": {
    "id": "iyfhF9f0o-Xi"
   },
   "source": [
    "m1 = Monster()\n",
    "m1"
   ],
   "execution_count": 19,
   "outputs": [
    {
     "data": {
      "text/plain": "Name: Wyvern\nType: Dragon\nLevel: 3\nRarity: Rank 1\nDamage: 3d4\nHealth: 12.85\nEnergy: 11.02\nSanity: 11.74\nTime Stamp: 2022-03-31 07:23:35"
     },
     "execution_count": 19,
     "metadata": {},
     "output_type": "execute_result"
    }
   ]
  },
  {
   "cell_type": "markdown",
   "metadata": {
    "id": "jnaHbH8QD8MX"
   },
   "source": [
    "### Monster as a Dict"
   ]
  },
  {
   "cell_type": "code",
   "metadata": {
    "id": "VgGz-hyI7GP-"
   },
   "source": [
    "m2 = Monster()\n",
    "m2.to_dict()"
   ],
   "execution_count": 20,
   "outputs": [
    {
     "data": {
      "text/plain": "{'Name': 'Succubus',\n 'Type': 'Devilkin',\n 'Level': 8,\n 'Rarity': 'Rank 0',\n 'Damage': '8d2+5',\n 'Health': 15.78,\n 'Energy': 15.92,\n 'Sanity': 16.36,\n 'Time Stamp': '2022-03-31 07:23:43'}"
     },
     "execution_count": 20,
     "metadata": {},
     "output_type": "execute_result"
    }
   ]
  },
  {
   "cell_type": "markdown",
   "metadata": {
    "id": "IXHjH5sfJ9Nz"
   },
   "source": [
    "### Insert a Single Custom Monster into the database"
   ]
  },
  {
   "cell_type": "code",
   "metadata": {
    "id": "dSgq6BjIpbQx"
   },
   "source": [
    "monster = Monster(\n",
    "    name=\"Bandersnatch\", \n",
    "    monster_type=\"Demonic\", \n",
    "    level=20, \n",
    "    rarity=\"Rank 5\",\n",
    ")\n",
    "\n",
    "db.insert([monster.to_dict()])\n",
    "\n",
    "db.get_df()"
   ],
   "execution_count": 21,
   "outputs": [
    {
     "data": {
      "text/plain": "                        _id          Name     Type  Level  Rarity   Damage  \\\n0  6245b9736c1283d7863dff86  Bandersnatch  Demonic     20  Rank 5  20d12+2   \n\n   Health  Energy  Sanity           Time Stamp  \n0  240.43  239.76  240.13  2022-03-31 07:23:47  ",
      "text/html": "<div>\n<style scoped>\n    .dataframe tbody tr th:only-of-type {\n        vertical-align: middle;\n    }\n\n    .dataframe tbody tr th {\n        vertical-align: top;\n    }\n\n    .dataframe thead th {\n        text-align: right;\n    }\n</style>\n<table border=\"1\" class=\"dataframe\">\n  <thead>\n    <tr style=\"text-align: right;\">\n      <th></th>\n      <th>_id</th>\n      <th>Name</th>\n      <th>Type</th>\n      <th>Level</th>\n      <th>Rarity</th>\n      <th>Damage</th>\n      <th>Health</th>\n      <th>Energy</th>\n      <th>Sanity</th>\n      <th>Time Stamp</th>\n    </tr>\n  </thead>\n  <tbody>\n    <tr>\n      <th>0</th>\n      <td>6245b9736c1283d7863dff86</td>\n      <td>Bandersnatch</td>\n      <td>Demonic</td>\n      <td>20</td>\n      <td>Rank 5</td>\n      <td>20d12+2</td>\n      <td>240.43</td>\n      <td>239.76</td>\n      <td>240.13</td>\n      <td>2022-03-31 07:23:47</td>\n    </tr>\n  </tbody>\n</table>\n</div>"
     },
     "execution_count": 21,
     "metadata": {},
     "output_type": "execute_result"
    }
   ]
  },
  {
   "cell_type": "markdown",
   "metadata": {
    "id": "3KFrJFJLKWS_"
   },
   "source": [
    "### Insert Many Random Monsters"
   ]
  },
  {
   "cell_type": "code",
   "metadata": {
    "id": "-zIOJmGmnWTB"
   },
   "source": [
    "n_monsters = 1024\n",
    "db.insert(Monster().to_dict() for _ in range(n_monsters))"
   ],
   "execution_count": 22,
   "outputs": []
  },
  {
   "cell_type": "code",
   "metadata": {
    "id": "JfUcf01JrE66"
   },
   "source": [
    "db.get_df()"
   ],
   "execution_count": 23,
   "outputs": [
    {
     "data": {
      "text/plain": "                           _id           Name      Type  Level  Rarity  \\\n0     6245b9736c1283d7863dff86   Bandersnatch   Demonic     20  Rank 5   \n1     6245b97b6c1283d7863dff89     Hell Hound   Demonic      6  Rank 4   \n2     6245b97b6c1283d7863dff8a   Death Knight    Undead      8  Rank 3   \n3     6245b97b6c1283d7863dff8b    Dust Spirit       Fey      4  Rank 0   \n4     6245b97b6c1283d7863dff8c  Faerie Dragon    Dragon     14  Rank 3   \n...                        ...            ...       ...    ...     ...   \n1020  6245b97b6c1283d7863e0384      Pit Fiend   Demonic     10  Rank 3   \n1021  6245b97b6c1283d7863e0385        Banshee    Undead      2  Rank 1   \n1022  6245b97b6c1283d7863e0386      Mud Devil  Devilkin      6  Rank 3   \n1023  6245b97b6c1283d7863e0387  Emerald Demon   Demonic      9  Rank 0   \n1024  6245b97b6c1283d7863e0388           Lich    Undead      7  Rank 1   \n\n       Damage  Health  Energy  Sanity           Time Stamp  \n0     20d12+2  240.43  239.76  240.13  2022-03-31 07:23:47  \n1        6d10   57.97   60.36   56.12  2022-03-31 07:23:55  \n2       8d8+1   63.31   61.66   63.90  2022-03-31 07:23:55  \n3       4d2+3    7.73    8.10    8.62  2022-03-31 07:23:55  \n4      14d8+4  111.46  112.30  110.41  2022-03-31 07:23:55  \n...       ...     ...     ...     ...                  ...  \n1020   10d8+2   76.99   77.45   78.79  2022-03-31 07:23:55  \n1021    2d4+1    8.42    9.23    6.26  2022-03-31 07:23:55  \n1022      6d8   46.21   51.79   49.64  2022-03-31 07:23:55  \n1023    9d2+1   17.02   17.91   18.64  2022-03-31 07:23:55  \n1024    7d4+2   26.79   28.99   27.36  2022-03-31 07:23:55  \n\n[1025 rows x 10 columns]",
      "text/html": "<div>\n<style scoped>\n    .dataframe tbody tr th:only-of-type {\n        vertical-align: middle;\n    }\n\n    .dataframe tbody tr th {\n        vertical-align: top;\n    }\n\n    .dataframe thead th {\n        text-align: right;\n    }\n</style>\n<table border=\"1\" class=\"dataframe\">\n  <thead>\n    <tr style=\"text-align: right;\">\n      <th></th>\n      <th>_id</th>\n      <th>Name</th>\n      <th>Type</th>\n      <th>Level</th>\n      <th>Rarity</th>\n      <th>Damage</th>\n      <th>Health</th>\n      <th>Energy</th>\n      <th>Sanity</th>\n      <th>Time Stamp</th>\n    </tr>\n  </thead>\n  <tbody>\n    <tr>\n      <th>0</th>\n      <td>6245b9736c1283d7863dff86</td>\n      <td>Bandersnatch</td>\n      <td>Demonic</td>\n      <td>20</td>\n      <td>Rank 5</td>\n      <td>20d12+2</td>\n      <td>240.43</td>\n      <td>239.76</td>\n      <td>240.13</td>\n      <td>2022-03-31 07:23:47</td>\n    </tr>\n    <tr>\n      <th>1</th>\n      <td>6245b97b6c1283d7863dff89</td>\n      <td>Hell Hound</td>\n      <td>Demonic</td>\n      <td>6</td>\n      <td>Rank 4</td>\n      <td>6d10</td>\n      <td>57.97</td>\n      <td>60.36</td>\n      <td>56.12</td>\n      <td>2022-03-31 07:23:55</td>\n    </tr>\n    <tr>\n      <th>2</th>\n      <td>6245b97b6c1283d7863dff8a</td>\n      <td>Death Knight</td>\n      <td>Undead</td>\n      <td>8</td>\n      <td>Rank 3</td>\n      <td>8d8+1</td>\n      <td>63.31</td>\n      <td>61.66</td>\n      <td>63.90</td>\n      <td>2022-03-31 07:23:55</td>\n    </tr>\n    <tr>\n      <th>3</th>\n      <td>6245b97b6c1283d7863dff8b</td>\n      <td>Dust Spirit</td>\n      <td>Fey</td>\n      <td>4</td>\n      <td>Rank 0</td>\n      <td>4d2+3</td>\n      <td>7.73</td>\n      <td>8.10</td>\n      <td>8.62</td>\n      <td>2022-03-31 07:23:55</td>\n    </tr>\n    <tr>\n      <th>4</th>\n      <td>6245b97b6c1283d7863dff8c</td>\n      <td>Faerie Dragon</td>\n      <td>Dragon</td>\n      <td>14</td>\n      <td>Rank 3</td>\n      <td>14d8+4</td>\n      <td>111.46</td>\n      <td>112.30</td>\n      <td>110.41</td>\n      <td>2022-03-31 07:23:55</td>\n    </tr>\n    <tr>\n      <th>...</th>\n      <td>...</td>\n      <td>...</td>\n      <td>...</td>\n      <td>...</td>\n      <td>...</td>\n      <td>...</td>\n      <td>...</td>\n      <td>...</td>\n      <td>...</td>\n      <td>...</td>\n    </tr>\n    <tr>\n      <th>1020</th>\n      <td>6245b97b6c1283d7863e0384</td>\n      <td>Pit Fiend</td>\n      <td>Demonic</td>\n      <td>10</td>\n      <td>Rank 3</td>\n      <td>10d8+2</td>\n      <td>76.99</td>\n      <td>77.45</td>\n      <td>78.79</td>\n      <td>2022-03-31 07:23:55</td>\n    </tr>\n    <tr>\n      <th>1021</th>\n      <td>6245b97b6c1283d7863e0385</td>\n      <td>Banshee</td>\n      <td>Undead</td>\n      <td>2</td>\n      <td>Rank 1</td>\n      <td>2d4+1</td>\n      <td>8.42</td>\n      <td>9.23</td>\n      <td>6.26</td>\n      <td>2022-03-31 07:23:55</td>\n    </tr>\n    <tr>\n      <th>1022</th>\n      <td>6245b97b6c1283d7863e0386</td>\n      <td>Mud Devil</td>\n      <td>Devilkin</td>\n      <td>6</td>\n      <td>Rank 3</td>\n      <td>6d8</td>\n      <td>46.21</td>\n      <td>51.79</td>\n      <td>49.64</td>\n      <td>2022-03-31 07:23:55</td>\n    </tr>\n    <tr>\n      <th>1023</th>\n      <td>6245b97b6c1283d7863e0387</td>\n      <td>Emerald Demon</td>\n      <td>Demonic</td>\n      <td>9</td>\n      <td>Rank 0</td>\n      <td>9d2+1</td>\n      <td>17.02</td>\n      <td>17.91</td>\n      <td>18.64</td>\n      <td>2022-03-31 07:23:55</td>\n    </tr>\n    <tr>\n      <th>1024</th>\n      <td>6245b97b6c1283d7863e0388</td>\n      <td>Lich</td>\n      <td>Undead</td>\n      <td>7</td>\n      <td>Rank 1</td>\n      <td>7d4+2</td>\n      <td>26.79</td>\n      <td>28.99</td>\n      <td>27.36</td>\n      <td>2022-03-31 07:23:55</td>\n    </tr>\n  </tbody>\n</table>\n<p>1025 rows × 10 columns</p>\n</div>"
     },
     "execution_count": 23,
     "metadata": {},
     "output_type": "execute_result"
    }
   ]
  },
  {
   "cell_type": "markdown",
   "metadata": {
    "id": "mGFjHxJRwtaw"
   },
   "source": [
    "### Find all the monsters that match a simple query"
   ]
  },
  {
   "cell_type": "code",
   "metadata": {
    "id": "6o5k3-IMm9x5"
   },
   "source": [
    "db.find({\"Name\": \"Vampire\"})"
   ],
   "execution_count": 24,
   "outputs": [
    {
     "data": {
      "text/plain": "                        _id     Name    Type  Level  Rarity   Damage  Health  \\\n0  6245b97b6c1283d7863dffc2  Vampire  Undead     10  Rank 1   10d4+3   39.92   \n1  6245b97b6c1283d7863e00f5  Vampire  Undead      3  Rank 4   3d10+2   32.29   \n2  6245b97b6c1283d7863e00f9  Vampire  Undead      2  Rank 0    2d2+2    3.31   \n3  6245b97b6c1283d7863e0153  Vampire  Undead     15  Rank 4  15d10+1  146.77   \n4  6245b97b6c1283d7863e0156  Vampire  Undead     17  Rank 2     17d6  101.59   \n5  6245b97b6c1283d7863e018b  Vampire  Undead     11  Rank 1   11d4+5   43.41   \n6  6245b97b6c1283d7863e0270  Vampire  Undead      3  Rank 3      3d8   22.59   \n7  6245b97b6c1283d7863e0338  Vampire  Undead     11  Rank 0     11d2   21.94   \n8  6245b97b6c1283d7863e036d  Vampire  Undead      3  Rank 4     3d10   31.77   \n\n   Energy  Sanity           Time Stamp  \n0   38.75   39.90  2022-03-31 07:23:55  \n1   29.52   30.26  2022-03-31 07:23:55  \n2    3.28    4.35  2022-03-31 07:23:55  \n3  153.68  146.83  2022-03-31 07:23:55  \n4  103.41  101.02  2022-03-31 07:23:55  \n5   43.23   45.60  2022-03-31 07:23:55  \n6   22.37   23.45  2022-03-31 07:23:55  \n7   22.38   21.29  2022-03-31 07:23:55  \n8   30.92   26.38  2022-03-31 07:23:55  ",
      "text/html": "<div>\n<style scoped>\n    .dataframe tbody tr th:only-of-type {\n        vertical-align: middle;\n    }\n\n    .dataframe tbody tr th {\n        vertical-align: top;\n    }\n\n    .dataframe thead th {\n        text-align: right;\n    }\n</style>\n<table border=\"1\" class=\"dataframe\">\n  <thead>\n    <tr style=\"text-align: right;\">\n      <th></th>\n      <th>_id</th>\n      <th>Name</th>\n      <th>Type</th>\n      <th>Level</th>\n      <th>Rarity</th>\n      <th>Damage</th>\n      <th>Health</th>\n      <th>Energy</th>\n      <th>Sanity</th>\n      <th>Time Stamp</th>\n    </tr>\n  </thead>\n  <tbody>\n    <tr>\n      <th>0</th>\n      <td>6245b97b6c1283d7863dffc2</td>\n      <td>Vampire</td>\n      <td>Undead</td>\n      <td>10</td>\n      <td>Rank 1</td>\n      <td>10d4+3</td>\n      <td>39.92</td>\n      <td>38.75</td>\n      <td>39.90</td>\n      <td>2022-03-31 07:23:55</td>\n    </tr>\n    <tr>\n      <th>1</th>\n      <td>6245b97b6c1283d7863e00f5</td>\n      <td>Vampire</td>\n      <td>Undead</td>\n      <td>3</td>\n      <td>Rank 4</td>\n      <td>3d10+2</td>\n      <td>32.29</td>\n      <td>29.52</td>\n      <td>30.26</td>\n      <td>2022-03-31 07:23:55</td>\n    </tr>\n    <tr>\n      <th>2</th>\n      <td>6245b97b6c1283d7863e00f9</td>\n      <td>Vampire</td>\n      <td>Undead</td>\n      <td>2</td>\n      <td>Rank 0</td>\n      <td>2d2+2</td>\n      <td>3.31</td>\n      <td>3.28</td>\n      <td>4.35</td>\n      <td>2022-03-31 07:23:55</td>\n    </tr>\n    <tr>\n      <th>3</th>\n      <td>6245b97b6c1283d7863e0153</td>\n      <td>Vampire</td>\n      <td>Undead</td>\n      <td>15</td>\n      <td>Rank 4</td>\n      <td>15d10+1</td>\n      <td>146.77</td>\n      <td>153.68</td>\n      <td>146.83</td>\n      <td>2022-03-31 07:23:55</td>\n    </tr>\n    <tr>\n      <th>4</th>\n      <td>6245b97b6c1283d7863e0156</td>\n      <td>Vampire</td>\n      <td>Undead</td>\n      <td>17</td>\n      <td>Rank 2</td>\n      <td>17d6</td>\n      <td>101.59</td>\n      <td>103.41</td>\n      <td>101.02</td>\n      <td>2022-03-31 07:23:55</td>\n    </tr>\n    <tr>\n      <th>5</th>\n      <td>6245b97b6c1283d7863e018b</td>\n      <td>Vampire</td>\n      <td>Undead</td>\n      <td>11</td>\n      <td>Rank 1</td>\n      <td>11d4+5</td>\n      <td>43.41</td>\n      <td>43.23</td>\n      <td>45.60</td>\n      <td>2022-03-31 07:23:55</td>\n    </tr>\n    <tr>\n      <th>6</th>\n      <td>6245b97b6c1283d7863e0270</td>\n      <td>Vampire</td>\n      <td>Undead</td>\n      <td>3</td>\n      <td>Rank 3</td>\n      <td>3d8</td>\n      <td>22.59</td>\n      <td>22.37</td>\n      <td>23.45</td>\n      <td>2022-03-31 07:23:55</td>\n    </tr>\n    <tr>\n      <th>7</th>\n      <td>6245b97b6c1283d7863e0338</td>\n      <td>Vampire</td>\n      <td>Undead</td>\n      <td>11</td>\n      <td>Rank 0</td>\n      <td>11d2</td>\n      <td>21.94</td>\n      <td>22.38</td>\n      <td>21.29</td>\n      <td>2022-03-31 07:23:55</td>\n    </tr>\n    <tr>\n      <th>8</th>\n      <td>6245b97b6c1283d7863e036d</td>\n      <td>Vampire</td>\n      <td>Undead</td>\n      <td>3</td>\n      <td>Rank 4</td>\n      <td>3d10</td>\n      <td>31.77</td>\n      <td>30.92</td>\n      <td>26.38</td>\n      <td>2022-03-31 07:23:55</td>\n    </tr>\n  </tbody>\n</table>\n</div>"
     },
     "execution_count": 24,
     "metadata": {},
     "output_type": "execute_result"
    }
   ]
  },
  {
   "cell_type": "markdown",
   "metadata": {
    "id": "wds0Ilb-wrBZ"
   },
   "source": [
    "### Find the monsters that match a complex query"
   ]
  },
  {
   "cell_type": "markdown",
   "source": [
    "All Undead with level less than 10 and rarity rank 0."
   ],
   "metadata": {
    "collapsed": false
   }
  },
  {
   "cell_type": "code",
   "metadata": {
    "id": "YzeFhsUBklK3"
   },
   "source": [
    "db.find({\"Type\": \"Undead\", \"Level\": {\"$lt\": 10}, \"Rarity\": \"Rank 0\"})"
   ],
   "execution_count": 27,
   "outputs": [
    {
     "data": {
      "text/plain": "                         _id             Name    Type  Level  Rarity Damage  \\\n0   6245b97b6c1283d7863dffc9        Lich King  Undead      6  Rank 0  6d2+1   \n1   6245b97b6c1283d7863e0017         Revenant  Undead      6  Rank 0  6d2+2   \n2   6245b97b6c1283d7863e001d         Revenant  Undead      7  Rank 0  7d2+3   \n3   6245b97b6c1283d7863e002c         Demilich  Undead      2  Rank 0  2d2+3   \n4   6245b97b6c1283d7863e005f         Revenant  Undead      2  Rank 0  2d2+1   \n5   6245b97b6c1283d7863e0068    Zombie Knight  Undead      3  Rank 0  3d2+2   \n6   6245b97b6c1283d7863e0096    Skeletal Mage  Undead      2  Rank 0  2d2+1   \n7   6245b97b6c1283d7863e0099       Mummy Lord  Undead      9  Rank 0    9d2   \n8   6245b97b6c1283d7863e00e2             Lich  Undead      7  Rank 0  7d2+2   \n9   6245b97b6c1283d7863e00f9          Vampire  Undead      2  Rank 0  2d2+2   \n10  6245b97b6c1283d7863e0117            Mummy  Undead      8  Rank 0  8d2+1   \n11  6245b97b6c1283d7863e0128         Demilich  Undead      2  Rank 0    2d2   \n12  6245b97b6c1283d7863e012e  Zombie Villager  Undead      6  Rank 0  6d2+2   \n13  6245b97b6c1283d7863e013e      Zombie Mage  Undead      7  Rank 0  7d2+1   \n14  6245b97b6c1283d7863e0175      Poltergeist  Undead      8  Rank 0  8d2+2   \n15  6245b97b6c1283d7863e019e      Poltergeist  Undead      4  Rank 0    4d2   \n16  6245b97b6c1283d7863e01bc           Wraith  Undead      8  Rank 0  8d2+2   \n17  6245b97b6c1283d7863e01cb       Mummy Lord  Undead      6  Rank 0  6d2+3   \n18  6245b97b6c1283d7863e01ef            Ghoul  Undead      5  Rank 0  5d2+2   \n19  6245b97b6c1283d7863e0221      Zombie Mage  Undead      5  Rank 0  5d2+2   \n20  6245b97b6c1283d7863e0264      Poltergeist  Undead      9  Rank 0    9d2   \n21  6245b97b6c1283d7863e027a         Demilich  Undead      8  Rank 0  8d2+1   \n22  6245b97b6c1283d7863e02e6          Banshee  Undead      8  Rank 0  8d2+3   \n23  6245b97b6c1283d7863e0340     Ghostly Mage  Undead      1  Rank 0    1d2   \n24  6245b97b6c1283d7863e0343             Lich  Undead      3  Rank 0  3d2+2   \n25  6245b97b6c1283d7863e0358             Lich  Undead      2  Rank 0  2d2+1   \n26  6245b97b6c1283d7863e0374     Zombie Guard  Undead      4  Rank 0  4d2+5   \n\n    Health  Energy  Sanity           Time Stamp  \n0    11.48   11.25   11.83  2022-03-31 07:23:55  \n1    12.46   12.23   12.90  2022-03-31 07:23:55  \n2    14.21   14.00   14.31  2022-03-31 07:23:55  \n3     3.20    4.12    3.60  2022-03-31 07:23:55  \n4     4.41    3.54    4.35  2022-03-31 07:23:55  \n5     5.30    6.22    5.29  2022-03-31 07:23:55  \n6     3.12    4.43    4.94  2022-03-31 07:23:55  \n7    18.00   17.83   18.55  2022-03-31 07:23:55  \n8    13.67   13.49   14.09  2022-03-31 07:23:55  \n9     3.31    3.28    4.35  2022-03-31 07:23:55  \n10   16.75   15.60   15.92  2022-03-31 07:23:55  \n11    3.29    4.04    3.45  2022-03-31 07:23:55  \n12   11.44   11.28   12.53  2022-03-31 07:23:55  \n13   14.86   14.19   13.21  2022-03-31 07:23:55  \n14   16.03   15.69   15.10  2022-03-31 07:23:55  \n15    7.83    8.80    8.09  2022-03-31 07:23:55  \n16   16.87   15.14   15.12  2022-03-31 07:23:55  \n17   11.91   12.45   12.08  2022-03-31 07:23:55  \n18    9.46    9.53    9.54  2022-03-31 07:23:55  \n19    9.26    9.31   10.07  2022-03-31 07:23:55  \n20   17.01   18.79   18.22  2022-03-31 07:23:55  \n21   15.37   16.55   15.17  2022-03-31 07:23:55  \n22   16.23   16.51   15.37  2022-03-31 07:23:55  \n23    2.67    2.28    1.17  2022-03-31 07:23:55  \n24    6.30    5.92    5.23  2022-03-31 07:23:55  \n25    4.14    3.49    4.85  2022-03-31 07:23:55  \n26    8.45    7.44    8.46  2022-03-31 07:23:55  ",
      "text/html": "<div>\n<style scoped>\n    .dataframe tbody tr th:only-of-type {\n        vertical-align: middle;\n    }\n\n    .dataframe tbody tr th {\n        vertical-align: top;\n    }\n\n    .dataframe thead th {\n        text-align: right;\n    }\n</style>\n<table border=\"1\" class=\"dataframe\">\n  <thead>\n    <tr style=\"text-align: right;\">\n      <th></th>\n      <th>_id</th>\n      <th>Name</th>\n      <th>Type</th>\n      <th>Level</th>\n      <th>Rarity</th>\n      <th>Damage</th>\n      <th>Health</th>\n      <th>Energy</th>\n      <th>Sanity</th>\n      <th>Time Stamp</th>\n    </tr>\n  </thead>\n  <tbody>\n    <tr>\n      <th>0</th>\n      <td>6245b97b6c1283d7863dffc9</td>\n      <td>Lich King</td>\n      <td>Undead</td>\n      <td>6</td>\n      <td>Rank 0</td>\n      <td>6d2+1</td>\n      <td>11.48</td>\n      <td>11.25</td>\n      <td>11.83</td>\n      <td>2022-03-31 07:23:55</td>\n    </tr>\n    <tr>\n      <th>1</th>\n      <td>6245b97b6c1283d7863e0017</td>\n      <td>Revenant</td>\n      <td>Undead</td>\n      <td>6</td>\n      <td>Rank 0</td>\n      <td>6d2+2</td>\n      <td>12.46</td>\n      <td>12.23</td>\n      <td>12.90</td>\n      <td>2022-03-31 07:23:55</td>\n    </tr>\n    <tr>\n      <th>2</th>\n      <td>6245b97b6c1283d7863e001d</td>\n      <td>Revenant</td>\n      <td>Undead</td>\n      <td>7</td>\n      <td>Rank 0</td>\n      <td>7d2+3</td>\n      <td>14.21</td>\n      <td>14.00</td>\n      <td>14.31</td>\n      <td>2022-03-31 07:23:55</td>\n    </tr>\n    <tr>\n      <th>3</th>\n      <td>6245b97b6c1283d7863e002c</td>\n      <td>Demilich</td>\n      <td>Undead</td>\n      <td>2</td>\n      <td>Rank 0</td>\n      <td>2d2+3</td>\n      <td>3.20</td>\n      <td>4.12</td>\n      <td>3.60</td>\n      <td>2022-03-31 07:23:55</td>\n    </tr>\n    <tr>\n      <th>4</th>\n      <td>6245b97b6c1283d7863e005f</td>\n      <td>Revenant</td>\n      <td>Undead</td>\n      <td>2</td>\n      <td>Rank 0</td>\n      <td>2d2+1</td>\n      <td>4.41</td>\n      <td>3.54</td>\n      <td>4.35</td>\n      <td>2022-03-31 07:23:55</td>\n    </tr>\n    <tr>\n      <th>5</th>\n      <td>6245b97b6c1283d7863e0068</td>\n      <td>Zombie Knight</td>\n      <td>Undead</td>\n      <td>3</td>\n      <td>Rank 0</td>\n      <td>3d2+2</td>\n      <td>5.30</td>\n      <td>6.22</td>\n      <td>5.29</td>\n      <td>2022-03-31 07:23:55</td>\n    </tr>\n    <tr>\n      <th>6</th>\n      <td>6245b97b6c1283d7863e0096</td>\n      <td>Skeletal Mage</td>\n      <td>Undead</td>\n      <td>2</td>\n      <td>Rank 0</td>\n      <td>2d2+1</td>\n      <td>3.12</td>\n      <td>4.43</td>\n      <td>4.94</td>\n      <td>2022-03-31 07:23:55</td>\n    </tr>\n    <tr>\n      <th>7</th>\n      <td>6245b97b6c1283d7863e0099</td>\n      <td>Mummy Lord</td>\n      <td>Undead</td>\n      <td>9</td>\n      <td>Rank 0</td>\n      <td>9d2</td>\n      <td>18.00</td>\n      <td>17.83</td>\n      <td>18.55</td>\n      <td>2022-03-31 07:23:55</td>\n    </tr>\n    <tr>\n      <th>8</th>\n      <td>6245b97b6c1283d7863e00e2</td>\n      <td>Lich</td>\n      <td>Undead</td>\n      <td>7</td>\n      <td>Rank 0</td>\n      <td>7d2+2</td>\n      <td>13.67</td>\n      <td>13.49</td>\n      <td>14.09</td>\n      <td>2022-03-31 07:23:55</td>\n    </tr>\n    <tr>\n      <th>9</th>\n      <td>6245b97b6c1283d7863e00f9</td>\n      <td>Vampire</td>\n      <td>Undead</td>\n      <td>2</td>\n      <td>Rank 0</td>\n      <td>2d2+2</td>\n      <td>3.31</td>\n      <td>3.28</td>\n      <td>4.35</td>\n      <td>2022-03-31 07:23:55</td>\n    </tr>\n    <tr>\n      <th>10</th>\n      <td>6245b97b6c1283d7863e0117</td>\n      <td>Mummy</td>\n      <td>Undead</td>\n      <td>8</td>\n      <td>Rank 0</td>\n      <td>8d2+1</td>\n      <td>16.75</td>\n      <td>15.60</td>\n      <td>15.92</td>\n      <td>2022-03-31 07:23:55</td>\n    </tr>\n    <tr>\n      <th>11</th>\n      <td>6245b97b6c1283d7863e0128</td>\n      <td>Demilich</td>\n      <td>Undead</td>\n      <td>2</td>\n      <td>Rank 0</td>\n      <td>2d2</td>\n      <td>3.29</td>\n      <td>4.04</td>\n      <td>3.45</td>\n      <td>2022-03-31 07:23:55</td>\n    </tr>\n    <tr>\n      <th>12</th>\n      <td>6245b97b6c1283d7863e012e</td>\n      <td>Zombie Villager</td>\n      <td>Undead</td>\n      <td>6</td>\n      <td>Rank 0</td>\n      <td>6d2+2</td>\n      <td>11.44</td>\n      <td>11.28</td>\n      <td>12.53</td>\n      <td>2022-03-31 07:23:55</td>\n    </tr>\n    <tr>\n      <th>13</th>\n      <td>6245b97b6c1283d7863e013e</td>\n      <td>Zombie Mage</td>\n      <td>Undead</td>\n      <td>7</td>\n      <td>Rank 0</td>\n      <td>7d2+1</td>\n      <td>14.86</td>\n      <td>14.19</td>\n      <td>13.21</td>\n      <td>2022-03-31 07:23:55</td>\n    </tr>\n    <tr>\n      <th>14</th>\n      <td>6245b97b6c1283d7863e0175</td>\n      <td>Poltergeist</td>\n      <td>Undead</td>\n      <td>8</td>\n      <td>Rank 0</td>\n      <td>8d2+2</td>\n      <td>16.03</td>\n      <td>15.69</td>\n      <td>15.10</td>\n      <td>2022-03-31 07:23:55</td>\n    </tr>\n    <tr>\n      <th>15</th>\n      <td>6245b97b6c1283d7863e019e</td>\n      <td>Poltergeist</td>\n      <td>Undead</td>\n      <td>4</td>\n      <td>Rank 0</td>\n      <td>4d2</td>\n      <td>7.83</td>\n      <td>8.80</td>\n      <td>8.09</td>\n      <td>2022-03-31 07:23:55</td>\n    </tr>\n    <tr>\n      <th>16</th>\n      <td>6245b97b6c1283d7863e01bc</td>\n      <td>Wraith</td>\n      <td>Undead</td>\n      <td>8</td>\n      <td>Rank 0</td>\n      <td>8d2+2</td>\n      <td>16.87</td>\n      <td>15.14</td>\n      <td>15.12</td>\n      <td>2022-03-31 07:23:55</td>\n    </tr>\n    <tr>\n      <th>17</th>\n      <td>6245b97b6c1283d7863e01cb</td>\n      <td>Mummy Lord</td>\n      <td>Undead</td>\n      <td>6</td>\n      <td>Rank 0</td>\n      <td>6d2+3</td>\n      <td>11.91</td>\n      <td>12.45</td>\n      <td>12.08</td>\n      <td>2022-03-31 07:23:55</td>\n    </tr>\n    <tr>\n      <th>18</th>\n      <td>6245b97b6c1283d7863e01ef</td>\n      <td>Ghoul</td>\n      <td>Undead</td>\n      <td>5</td>\n      <td>Rank 0</td>\n      <td>5d2+2</td>\n      <td>9.46</td>\n      <td>9.53</td>\n      <td>9.54</td>\n      <td>2022-03-31 07:23:55</td>\n    </tr>\n    <tr>\n      <th>19</th>\n      <td>6245b97b6c1283d7863e0221</td>\n      <td>Zombie Mage</td>\n      <td>Undead</td>\n      <td>5</td>\n      <td>Rank 0</td>\n      <td>5d2+2</td>\n      <td>9.26</td>\n      <td>9.31</td>\n      <td>10.07</td>\n      <td>2022-03-31 07:23:55</td>\n    </tr>\n    <tr>\n      <th>20</th>\n      <td>6245b97b6c1283d7863e0264</td>\n      <td>Poltergeist</td>\n      <td>Undead</td>\n      <td>9</td>\n      <td>Rank 0</td>\n      <td>9d2</td>\n      <td>17.01</td>\n      <td>18.79</td>\n      <td>18.22</td>\n      <td>2022-03-31 07:23:55</td>\n    </tr>\n    <tr>\n      <th>21</th>\n      <td>6245b97b6c1283d7863e027a</td>\n      <td>Demilich</td>\n      <td>Undead</td>\n      <td>8</td>\n      <td>Rank 0</td>\n      <td>8d2+1</td>\n      <td>15.37</td>\n      <td>16.55</td>\n      <td>15.17</td>\n      <td>2022-03-31 07:23:55</td>\n    </tr>\n    <tr>\n      <th>22</th>\n      <td>6245b97b6c1283d7863e02e6</td>\n      <td>Banshee</td>\n      <td>Undead</td>\n      <td>8</td>\n      <td>Rank 0</td>\n      <td>8d2+3</td>\n      <td>16.23</td>\n      <td>16.51</td>\n      <td>15.37</td>\n      <td>2022-03-31 07:23:55</td>\n    </tr>\n    <tr>\n      <th>23</th>\n      <td>6245b97b6c1283d7863e0340</td>\n      <td>Ghostly Mage</td>\n      <td>Undead</td>\n      <td>1</td>\n      <td>Rank 0</td>\n      <td>1d2</td>\n      <td>2.67</td>\n      <td>2.28</td>\n      <td>1.17</td>\n      <td>2022-03-31 07:23:55</td>\n    </tr>\n    <tr>\n      <th>24</th>\n      <td>6245b97b6c1283d7863e0343</td>\n      <td>Lich</td>\n      <td>Undead</td>\n      <td>3</td>\n      <td>Rank 0</td>\n      <td>3d2+2</td>\n      <td>6.30</td>\n      <td>5.92</td>\n      <td>5.23</td>\n      <td>2022-03-31 07:23:55</td>\n    </tr>\n    <tr>\n      <th>25</th>\n      <td>6245b97b6c1283d7863e0358</td>\n      <td>Lich</td>\n      <td>Undead</td>\n      <td>2</td>\n      <td>Rank 0</td>\n      <td>2d2+1</td>\n      <td>4.14</td>\n      <td>3.49</td>\n      <td>4.85</td>\n      <td>2022-03-31 07:23:55</td>\n    </tr>\n    <tr>\n      <th>26</th>\n      <td>6245b97b6c1283d7863e0374</td>\n      <td>Zombie Guard</td>\n      <td>Undead</td>\n      <td>4</td>\n      <td>Rank 0</td>\n      <td>4d2+5</td>\n      <td>8.45</td>\n      <td>7.44</td>\n      <td>8.46</td>\n      <td>2022-03-31 07:23:55</td>\n    </tr>\n  </tbody>\n</table>\n</div>"
     },
     "execution_count": 27,
     "metadata": {},
     "output_type": "execute_result"
    }
   ]
  },
  {
   "cell_type": "markdown",
   "source": [
    "### Get all the monsters into a pandas dataframe."
   ],
   "metadata": {
    "collapsed": false
   }
  },
  {
   "cell_type": "code",
   "metadata": {
    "id": "jtrgJsH3Eepi"
   },
   "source": [
    "vampires = db.get_df({\"Name\": \"Vampire\"})\n",
    "vampires"
   ],
   "execution_count": 28,
   "outputs": [
    {
     "data": {
      "text/plain": "                        _id     Name    Type  Level  Rarity   Damage  Health  \\\n0  6245b97b6c1283d7863dffc2  Vampire  Undead     10  Rank 1   10d4+3   39.92   \n1  6245b97b6c1283d7863e00f5  Vampire  Undead      3  Rank 4   3d10+2   32.29   \n2  6245b97b6c1283d7863e00f9  Vampire  Undead      2  Rank 0    2d2+2    3.31   \n3  6245b97b6c1283d7863e0153  Vampire  Undead     15  Rank 4  15d10+1  146.77   \n4  6245b97b6c1283d7863e0156  Vampire  Undead     17  Rank 2     17d6  101.59   \n5  6245b97b6c1283d7863e018b  Vampire  Undead     11  Rank 1   11d4+5   43.41   \n6  6245b97b6c1283d7863e0270  Vampire  Undead      3  Rank 3      3d8   22.59   \n7  6245b97b6c1283d7863e0338  Vampire  Undead     11  Rank 0     11d2   21.94   \n8  6245b97b6c1283d7863e036d  Vampire  Undead      3  Rank 4     3d10   31.77   \n\n   Energy  Sanity           Time Stamp  \n0   38.75   39.90  2022-03-31 07:23:55  \n1   29.52   30.26  2022-03-31 07:23:55  \n2    3.28    4.35  2022-03-31 07:23:55  \n3  153.68  146.83  2022-03-31 07:23:55  \n4  103.41  101.02  2022-03-31 07:23:55  \n5   43.23   45.60  2022-03-31 07:23:55  \n6   22.37   23.45  2022-03-31 07:23:55  \n7   22.38   21.29  2022-03-31 07:23:55  \n8   30.92   26.38  2022-03-31 07:23:55  ",
      "text/html": "<div>\n<style scoped>\n    .dataframe tbody tr th:only-of-type {\n        vertical-align: middle;\n    }\n\n    .dataframe tbody tr th {\n        vertical-align: top;\n    }\n\n    .dataframe thead th {\n        text-align: right;\n    }\n</style>\n<table border=\"1\" class=\"dataframe\">\n  <thead>\n    <tr style=\"text-align: right;\">\n      <th></th>\n      <th>_id</th>\n      <th>Name</th>\n      <th>Type</th>\n      <th>Level</th>\n      <th>Rarity</th>\n      <th>Damage</th>\n      <th>Health</th>\n      <th>Energy</th>\n      <th>Sanity</th>\n      <th>Time Stamp</th>\n    </tr>\n  </thead>\n  <tbody>\n    <tr>\n      <th>0</th>\n      <td>6245b97b6c1283d7863dffc2</td>\n      <td>Vampire</td>\n      <td>Undead</td>\n      <td>10</td>\n      <td>Rank 1</td>\n      <td>10d4+3</td>\n      <td>39.92</td>\n      <td>38.75</td>\n      <td>39.90</td>\n      <td>2022-03-31 07:23:55</td>\n    </tr>\n    <tr>\n      <th>1</th>\n      <td>6245b97b6c1283d7863e00f5</td>\n      <td>Vampire</td>\n      <td>Undead</td>\n      <td>3</td>\n      <td>Rank 4</td>\n      <td>3d10+2</td>\n      <td>32.29</td>\n      <td>29.52</td>\n      <td>30.26</td>\n      <td>2022-03-31 07:23:55</td>\n    </tr>\n    <tr>\n      <th>2</th>\n      <td>6245b97b6c1283d7863e00f9</td>\n      <td>Vampire</td>\n      <td>Undead</td>\n      <td>2</td>\n      <td>Rank 0</td>\n      <td>2d2+2</td>\n      <td>3.31</td>\n      <td>3.28</td>\n      <td>4.35</td>\n      <td>2022-03-31 07:23:55</td>\n    </tr>\n    <tr>\n      <th>3</th>\n      <td>6245b97b6c1283d7863e0153</td>\n      <td>Vampire</td>\n      <td>Undead</td>\n      <td>15</td>\n      <td>Rank 4</td>\n      <td>15d10+1</td>\n      <td>146.77</td>\n      <td>153.68</td>\n      <td>146.83</td>\n      <td>2022-03-31 07:23:55</td>\n    </tr>\n    <tr>\n      <th>4</th>\n      <td>6245b97b6c1283d7863e0156</td>\n      <td>Vampire</td>\n      <td>Undead</td>\n      <td>17</td>\n      <td>Rank 2</td>\n      <td>17d6</td>\n      <td>101.59</td>\n      <td>103.41</td>\n      <td>101.02</td>\n      <td>2022-03-31 07:23:55</td>\n    </tr>\n    <tr>\n      <th>5</th>\n      <td>6245b97b6c1283d7863e018b</td>\n      <td>Vampire</td>\n      <td>Undead</td>\n      <td>11</td>\n      <td>Rank 1</td>\n      <td>11d4+5</td>\n      <td>43.41</td>\n      <td>43.23</td>\n      <td>45.60</td>\n      <td>2022-03-31 07:23:55</td>\n    </tr>\n    <tr>\n      <th>6</th>\n      <td>6245b97b6c1283d7863e0270</td>\n      <td>Vampire</td>\n      <td>Undead</td>\n      <td>3</td>\n      <td>Rank 3</td>\n      <td>3d8</td>\n      <td>22.59</td>\n      <td>22.37</td>\n      <td>23.45</td>\n      <td>2022-03-31 07:23:55</td>\n    </tr>\n    <tr>\n      <th>7</th>\n      <td>6245b97b6c1283d7863e0338</td>\n      <td>Vampire</td>\n      <td>Undead</td>\n      <td>11</td>\n      <td>Rank 0</td>\n      <td>11d2</td>\n      <td>21.94</td>\n      <td>22.38</td>\n      <td>21.29</td>\n      <td>2022-03-31 07:23:55</td>\n    </tr>\n    <tr>\n      <th>8</th>\n      <td>6245b97b6c1283d7863e036d</td>\n      <td>Vampire</td>\n      <td>Undead</td>\n      <td>3</td>\n      <td>Rank 4</td>\n      <td>3d10</td>\n      <td>31.77</td>\n      <td>30.92</td>\n      <td>26.38</td>\n      <td>2022-03-31 07:23:55</td>\n    </tr>\n  </tbody>\n</table>\n</div>"
     },
     "execution_count": 28,
     "metadata": {},
     "output_type": "execute_result"
    }
   ]
  },
  {
   "cell_type": "markdown",
   "metadata": {
    "id": "Nu8hkyrZ0wyH"
   },
   "source": [
    "# Assignment 3: Visualizations"
   ]
  },
  {
   "cell_type": "code",
   "metadata": {
    "id": "i193Nryb0v7K"
   },
   "source": [
    "import plotly.graph_objects as go\n",
    "import plotly.express as px"
   ],
   "execution_count": 29,
   "outputs": []
  },
  {
   "cell_type": "code",
   "metadata": {
    "id": "stsF0bU5xQ7f"
   },
   "source": [
    "def rank_lookup(rank: str) -> str:\n",
    "    return {\n",
    "        \"Rank 0\": \"Very Common\",\n",
    "        \"Rank 1\": \"Common\",\n",
    "        \"Rank 2\": \"Uncommon\",\n",
    "        \"Rank 3\": \"Rare\",\n",
    "        \"Rank 4\": \"Epic\",\n",
    "        \"Rank 5\": \"Legendary\",\n",
    "    }.get(rank, \"Unknown\")"
   ],
   "execution_count": 30,
   "outputs": []
  },
  {
   "cell_type": "markdown",
   "metadata": {
    "id": "aFRBqq3j1gwj"
   },
   "source": [
    "## Pie Chart: Monsters by Rarity"
   ]
  },
  {
   "cell_type": "code",
   "metadata": {
    "id": "KphPkcFQ0scm"
   },
   "source": [
    "target = \"Rarity\"\n",
    "\n",
    "df = db.get_df()[target].value_counts()\n",
    "df.index = [rank_lookup(col) for col in df.index]\n",
    "data = go.Pie(labels=df.index, values=df.values, hole=0.5)\n",
    "\n",
    "layout = go.Layout(\n",
    "    title=f\"Monsters by {target}\",\n",
    "    colorway=px.colors.qualitative.Antique,\n",
    "    height=700,\n",
    "    width=770,\n",
    ")\n",
    "\n",
    "figure = go.Figure(data, layout)\n",
    "\n",
    "figure.update_traces(\n",
    "    textfont_size=14,\n",
    "    textinfo='percent+label',\n",
    ")\n",
    "\n",
    "figure.show()"
   ],
   "execution_count": 33,
   "outputs": [
    {
     "data": {
      "application/vnd.plotly.v1+json": {
       "data": [
        {
         "hole": 0.5,
         "labels": [
          "Very Common",
          "Common",
          "Uncommon",
          "Rare",
          "Epic",
          "Legendary"
         ],
         "values": [
          294,
          260,
          187,
          160,
          103,
          21
         ],
         "type": "pie",
         "textfont": {
          "size": 14
         },
         "textinfo": "percent+label"
        }
       ],
       "layout": {
        "colorway": [
         "rgb(133, 92, 117)",
         "rgb(217, 175, 107)",
         "rgb(175, 100, 88)",
         "rgb(115, 111, 76)",
         "rgb(82, 106, 131)",
         "rgb(98, 83, 119)",
         "rgb(104, 133, 92)",
         "rgb(156, 156, 94)",
         "rgb(160, 97, 119)",
         "rgb(140, 120, 93)",
         "rgb(124, 124, 124)"
        ],
        "height": 700,
        "title": {
         "text": "Monsters by Rarity"
        },
        "width": 770,
        "template": {
         "data": {
          "bar": [
           {
            "error_x": {
             "color": "#2a3f5f"
            },
            "error_y": {
             "color": "#2a3f5f"
            },
            "marker": {
             "line": {
              "color": "#E5ECF6",
              "width": 0.5
             },
             "pattern": {
              "fillmode": "overlay",
              "size": 10,
              "solidity": 0.2
             }
            },
            "type": "bar"
           }
          ],
          "barpolar": [
           {
            "marker": {
             "line": {
              "color": "#E5ECF6",
              "width": 0.5
             },
             "pattern": {
              "fillmode": "overlay",
              "size": 10,
              "solidity": 0.2
             }
            },
            "type": "barpolar"
           }
          ],
          "carpet": [
           {
            "aaxis": {
             "endlinecolor": "#2a3f5f",
             "gridcolor": "white",
             "linecolor": "white",
             "minorgridcolor": "white",
             "startlinecolor": "#2a3f5f"
            },
            "baxis": {
             "endlinecolor": "#2a3f5f",
             "gridcolor": "white",
             "linecolor": "white",
             "minorgridcolor": "white",
             "startlinecolor": "#2a3f5f"
            },
            "type": "carpet"
           }
          ],
          "choropleth": [
           {
            "colorbar": {
             "outlinewidth": 0,
             "ticks": ""
            },
            "type": "choropleth"
           }
          ],
          "contour": [
           {
            "colorbar": {
             "outlinewidth": 0,
             "ticks": ""
            },
            "colorscale": [
             [
              0.0,
              "#0d0887"
             ],
             [
              0.1111111111111111,
              "#46039f"
             ],
             [
              0.2222222222222222,
              "#7201a8"
             ],
             [
              0.3333333333333333,
              "#9c179e"
             ],
             [
              0.4444444444444444,
              "#bd3786"
             ],
             [
              0.5555555555555556,
              "#d8576b"
             ],
             [
              0.6666666666666666,
              "#ed7953"
             ],
             [
              0.7777777777777778,
              "#fb9f3a"
             ],
             [
              0.8888888888888888,
              "#fdca26"
             ],
             [
              1.0,
              "#f0f921"
             ]
            ],
            "type": "contour"
           }
          ],
          "contourcarpet": [
           {
            "colorbar": {
             "outlinewidth": 0,
             "ticks": ""
            },
            "type": "contourcarpet"
           }
          ],
          "heatmap": [
           {
            "colorbar": {
             "outlinewidth": 0,
             "ticks": ""
            },
            "colorscale": [
             [
              0.0,
              "#0d0887"
             ],
             [
              0.1111111111111111,
              "#46039f"
             ],
             [
              0.2222222222222222,
              "#7201a8"
             ],
             [
              0.3333333333333333,
              "#9c179e"
             ],
             [
              0.4444444444444444,
              "#bd3786"
             ],
             [
              0.5555555555555556,
              "#d8576b"
             ],
             [
              0.6666666666666666,
              "#ed7953"
             ],
             [
              0.7777777777777778,
              "#fb9f3a"
             ],
             [
              0.8888888888888888,
              "#fdca26"
             ],
             [
              1.0,
              "#f0f921"
             ]
            ],
            "type": "heatmap"
           }
          ],
          "heatmapgl": [
           {
            "colorbar": {
             "outlinewidth": 0,
             "ticks": ""
            },
            "colorscale": [
             [
              0.0,
              "#0d0887"
             ],
             [
              0.1111111111111111,
              "#46039f"
             ],
             [
              0.2222222222222222,
              "#7201a8"
             ],
             [
              0.3333333333333333,
              "#9c179e"
             ],
             [
              0.4444444444444444,
              "#bd3786"
             ],
             [
              0.5555555555555556,
              "#d8576b"
             ],
             [
              0.6666666666666666,
              "#ed7953"
             ],
             [
              0.7777777777777778,
              "#fb9f3a"
             ],
             [
              0.8888888888888888,
              "#fdca26"
             ],
             [
              1.0,
              "#f0f921"
             ]
            ],
            "type": "heatmapgl"
           }
          ],
          "histogram": [
           {
            "marker": {
             "pattern": {
              "fillmode": "overlay",
              "size": 10,
              "solidity": 0.2
             }
            },
            "type": "histogram"
           }
          ],
          "histogram2d": [
           {
            "colorbar": {
             "outlinewidth": 0,
             "ticks": ""
            },
            "colorscale": [
             [
              0.0,
              "#0d0887"
             ],
             [
              0.1111111111111111,
              "#46039f"
             ],
             [
              0.2222222222222222,
              "#7201a8"
             ],
             [
              0.3333333333333333,
              "#9c179e"
             ],
             [
              0.4444444444444444,
              "#bd3786"
             ],
             [
              0.5555555555555556,
              "#d8576b"
             ],
             [
              0.6666666666666666,
              "#ed7953"
             ],
             [
              0.7777777777777778,
              "#fb9f3a"
             ],
             [
              0.8888888888888888,
              "#fdca26"
             ],
             [
              1.0,
              "#f0f921"
             ]
            ],
            "type": "histogram2d"
           }
          ],
          "histogram2dcontour": [
           {
            "colorbar": {
             "outlinewidth": 0,
             "ticks": ""
            },
            "colorscale": [
             [
              0.0,
              "#0d0887"
             ],
             [
              0.1111111111111111,
              "#46039f"
             ],
             [
              0.2222222222222222,
              "#7201a8"
             ],
             [
              0.3333333333333333,
              "#9c179e"
             ],
             [
              0.4444444444444444,
              "#bd3786"
             ],
             [
              0.5555555555555556,
              "#d8576b"
             ],
             [
              0.6666666666666666,
              "#ed7953"
             ],
             [
              0.7777777777777778,
              "#fb9f3a"
             ],
             [
              0.8888888888888888,
              "#fdca26"
             ],
             [
              1.0,
              "#f0f921"
             ]
            ],
            "type": "histogram2dcontour"
           }
          ],
          "mesh3d": [
           {
            "colorbar": {
             "outlinewidth": 0,
             "ticks": ""
            },
            "type": "mesh3d"
           }
          ],
          "parcoords": [
           {
            "line": {
             "colorbar": {
              "outlinewidth": 0,
              "ticks": ""
             }
            },
            "type": "parcoords"
           }
          ],
          "pie": [
           {
            "automargin": true,
            "type": "pie"
           }
          ],
          "scatter": [
           {
            "marker": {
             "colorbar": {
              "outlinewidth": 0,
              "ticks": ""
             }
            },
            "type": "scatter"
           }
          ],
          "scatter3d": [
           {
            "line": {
             "colorbar": {
              "outlinewidth": 0,
              "ticks": ""
             }
            },
            "marker": {
             "colorbar": {
              "outlinewidth": 0,
              "ticks": ""
             }
            },
            "type": "scatter3d"
           }
          ],
          "scattercarpet": [
           {
            "marker": {
             "colorbar": {
              "outlinewidth": 0,
              "ticks": ""
             }
            },
            "type": "scattercarpet"
           }
          ],
          "scattergeo": [
           {
            "marker": {
             "colorbar": {
              "outlinewidth": 0,
              "ticks": ""
             }
            },
            "type": "scattergeo"
           }
          ],
          "scattergl": [
           {
            "marker": {
             "colorbar": {
              "outlinewidth": 0,
              "ticks": ""
             }
            },
            "type": "scattergl"
           }
          ],
          "scattermapbox": [
           {
            "marker": {
             "colorbar": {
              "outlinewidth": 0,
              "ticks": ""
             }
            },
            "type": "scattermapbox"
           }
          ],
          "scatterpolar": [
           {
            "marker": {
             "colorbar": {
              "outlinewidth": 0,
              "ticks": ""
             }
            },
            "type": "scatterpolar"
           }
          ],
          "scatterpolargl": [
           {
            "marker": {
             "colorbar": {
              "outlinewidth": 0,
              "ticks": ""
             }
            },
            "type": "scatterpolargl"
           }
          ],
          "scatterternary": [
           {
            "marker": {
             "colorbar": {
              "outlinewidth": 0,
              "ticks": ""
             }
            },
            "type": "scatterternary"
           }
          ],
          "surface": [
           {
            "colorbar": {
             "outlinewidth": 0,
             "ticks": ""
            },
            "colorscale": [
             [
              0.0,
              "#0d0887"
             ],
             [
              0.1111111111111111,
              "#46039f"
             ],
             [
              0.2222222222222222,
              "#7201a8"
             ],
             [
              0.3333333333333333,
              "#9c179e"
             ],
             [
              0.4444444444444444,
              "#bd3786"
             ],
             [
              0.5555555555555556,
              "#d8576b"
             ],
             [
              0.6666666666666666,
              "#ed7953"
             ],
             [
              0.7777777777777778,
              "#fb9f3a"
             ],
             [
              0.8888888888888888,
              "#fdca26"
             ],
             [
              1.0,
              "#f0f921"
             ]
            ],
            "type": "surface"
           }
          ],
          "table": [
           {
            "cells": {
             "fill": {
              "color": "#EBF0F8"
             },
             "line": {
              "color": "white"
             }
            },
            "header": {
             "fill": {
              "color": "#C8D4E3"
             },
             "line": {
              "color": "white"
             }
            },
            "type": "table"
           }
          ]
         },
         "layout": {
          "annotationdefaults": {
           "arrowcolor": "#2a3f5f",
           "arrowhead": 0,
           "arrowwidth": 1
          },
          "autotypenumbers": "strict",
          "coloraxis": {
           "colorbar": {
            "outlinewidth": 0,
            "ticks": ""
           }
          },
          "colorscale": {
           "diverging": [
            [
             0,
             "#8e0152"
            ],
            [
             0.1,
             "#c51b7d"
            ],
            [
             0.2,
             "#de77ae"
            ],
            [
             0.3,
             "#f1b6da"
            ],
            [
             0.4,
             "#fde0ef"
            ],
            [
             0.5,
             "#f7f7f7"
            ],
            [
             0.6,
             "#e6f5d0"
            ],
            [
             0.7,
             "#b8e186"
            ],
            [
             0.8,
             "#7fbc41"
            ],
            [
             0.9,
             "#4d9221"
            ],
            [
             1,
             "#276419"
            ]
           ],
           "sequential": [
            [
             0.0,
             "#0d0887"
            ],
            [
             0.1111111111111111,
             "#46039f"
            ],
            [
             0.2222222222222222,
             "#7201a8"
            ],
            [
             0.3333333333333333,
             "#9c179e"
            ],
            [
             0.4444444444444444,
             "#bd3786"
            ],
            [
             0.5555555555555556,
             "#d8576b"
            ],
            [
             0.6666666666666666,
             "#ed7953"
            ],
            [
             0.7777777777777778,
             "#fb9f3a"
            ],
            [
             0.8888888888888888,
             "#fdca26"
            ],
            [
             1.0,
             "#f0f921"
            ]
           ],
           "sequentialminus": [
            [
             0.0,
             "#0d0887"
            ],
            [
             0.1111111111111111,
             "#46039f"
            ],
            [
             0.2222222222222222,
             "#7201a8"
            ],
            [
             0.3333333333333333,
             "#9c179e"
            ],
            [
             0.4444444444444444,
             "#bd3786"
            ],
            [
             0.5555555555555556,
             "#d8576b"
            ],
            [
             0.6666666666666666,
             "#ed7953"
            ],
            [
             0.7777777777777778,
             "#fb9f3a"
            ],
            [
             0.8888888888888888,
             "#fdca26"
            ],
            [
             1.0,
             "#f0f921"
            ]
           ]
          },
          "colorway": [
           "#636efa",
           "#EF553B",
           "#00cc96",
           "#ab63fa",
           "#FFA15A",
           "#19d3f3",
           "#FF6692",
           "#B6E880",
           "#FF97FF",
           "#FECB52"
          ],
          "font": {
           "color": "#2a3f5f"
          },
          "geo": {
           "bgcolor": "white",
           "lakecolor": "white",
           "landcolor": "#E5ECF6",
           "showlakes": true,
           "showland": true,
           "subunitcolor": "white"
          },
          "hoverlabel": {
           "align": "left"
          },
          "hovermode": "closest",
          "mapbox": {
           "style": "light"
          },
          "paper_bgcolor": "white",
          "plot_bgcolor": "#E5ECF6",
          "polar": {
           "angularaxis": {
            "gridcolor": "white",
            "linecolor": "white",
            "ticks": ""
           },
           "bgcolor": "#E5ECF6",
           "radialaxis": {
            "gridcolor": "white",
            "linecolor": "white",
            "ticks": ""
           }
          },
          "scene": {
           "xaxis": {
            "backgroundcolor": "#E5ECF6",
            "gridcolor": "white",
            "gridwidth": 2,
            "linecolor": "white",
            "showbackground": true,
            "ticks": "",
            "zerolinecolor": "white"
           },
           "yaxis": {
            "backgroundcolor": "#E5ECF6",
            "gridcolor": "white",
            "gridwidth": 2,
            "linecolor": "white",
            "showbackground": true,
            "ticks": "",
            "zerolinecolor": "white"
           },
           "zaxis": {
            "backgroundcolor": "#E5ECF6",
            "gridcolor": "white",
            "gridwidth": 2,
            "linecolor": "white",
            "showbackground": true,
            "ticks": "",
            "zerolinecolor": "white"
           }
          },
          "shapedefaults": {
           "line": {
            "color": "#2a3f5f"
           }
          },
          "ternary": {
           "aaxis": {
            "gridcolor": "white",
            "linecolor": "white",
            "ticks": ""
           },
           "baxis": {
            "gridcolor": "white",
            "linecolor": "white",
            "ticks": ""
           },
           "bgcolor": "#E5ECF6",
           "caxis": {
            "gridcolor": "white",
            "linecolor": "white",
            "ticks": ""
           }
          },
          "title": {
           "x": 0.05
          },
          "xaxis": {
           "automargin": true,
           "gridcolor": "white",
           "linecolor": "white",
           "ticks": "",
           "title": {
            "standoff": 15
           },
           "zerolinecolor": "white",
           "zerolinewidth": 2
          },
          "yaxis": {
           "automargin": true,
           "gridcolor": "white",
           "linecolor": "white",
           "ticks": "",
           "title": {
            "standoff": 15
           },
           "zerolinecolor": "white",
           "zerolinewidth": 2
          }
         }
        }
       },
       "config": {
        "plotlyServerURL": "https://plot.ly"
       }
      },
      "text/html": "<div>                            <div id=\"1ca2569c-62cf-47ca-b040-bdd41dd1a483\" class=\"plotly-graph-div\" style=\"height:700px; width:770px;\"></div>            <script type=\"text/javascript\">                require([\"plotly\"], function(Plotly) {                    window.PLOTLYENV=window.PLOTLYENV || {};                                    if (document.getElementById(\"1ca2569c-62cf-47ca-b040-bdd41dd1a483\")) {                    Plotly.newPlot(                        \"1ca2569c-62cf-47ca-b040-bdd41dd1a483\",                        [{\"hole\":0.5,\"labels\":[\"Very Common\",\"Common\",\"Uncommon\",\"Rare\",\"Epic\",\"Legendary\"],\"values\":[294,260,187,160,103,21],\"type\":\"pie\",\"textfont\":{\"size\":14},\"textinfo\":\"percent+label\"}],                        {\"colorway\":[\"rgb(133, 92, 117)\",\"rgb(217, 175, 107)\",\"rgb(175, 100, 88)\",\"rgb(115, 111, 76)\",\"rgb(82, 106, 131)\",\"rgb(98, 83, 119)\",\"rgb(104, 133, 92)\",\"rgb(156, 156, 94)\",\"rgb(160, 97, 119)\",\"rgb(140, 120, 93)\",\"rgb(124, 124, 124)\"],\"height\":700,\"title\":{\"text\":\"Monsters by Rarity\"},\"width\":770,\"template\":{\"data\":{\"bar\":[{\"error_x\":{\"color\":\"#2a3f5f\"},\"error_y\":{\"color\":\"#2a3f5f\"},\"marker\":{\"line\":{\"color\":\"#E5ECF6\",\"width\":0.5},\"pattern\":{\"fillmode\":\"overlay\",\"size\":10,\"solidity\":0.2}},\"type\":\"bar\"}],\"barpolar\":[{\"marker\":{\"line\":{\"color\":\"#E5ECF6\",\"width\":0.5},\"pattern\":{\"fillmode\":\"overlay\",\"size\":10,\"solidity\":0.2}},\"type\":\"barpolar\"}],\"carpet\":[{\"aaxis\":{\"endlinecolor\":\"#2a3f5f\",\"gridcolor\":\"white\",\"linecolor\":\"white\",\"minorgridcolor\":\"white\",\"startlinecolor\":\"#2a3f5f\"},\"baxis\":{\"endlinecolor\":\"#2a3f5f\",\"gridcolor\":\"white\",\"linecolor\":\"white\",\"minorgridcolor\":\"white\",\"startlinecolor\":\"#2a3f5f\"},\"type\":\"carpet\"}],\"choropleth\":[{\"colorbar\":{\"outlinewidth\":0,\"ticks\":\"\"},\"type\":\"choropleth\"}],\"contour\":[{\"colorbar\":{\"outlinewidth\":0,\"ticks\":\"\"},\"colorscale\":[[0.0,\"#0d0887\"],[0.1111111111111111,\"#46039f\"],[0.2222222222222222,\"#7201a8\"],[0.3333333333333333,\"#9c179e\"],[0.4444444444444444,\"#bd3786\"],[0.5555555555555556,\"#d8576b\"],[0.6666666666666666,\"#ed7953\"],[0.7777777777777778,\"#fb9f3a\"],[0.8888888888888888,\"#fdca26\"],[1.0,\"#f0f921\"]],\"type\":\"contour\"}],\"contourcarpet\":[{\"colorbar\":{\"outlinewidth\":0,\"ticks\":\"\"},\"type\":\"contourcarpet\"}],\"heatmap\":[{\"colorbar\":{\"outlinewidth\":0,\"ticks\":\"\"},\"colorscale\":[[0.0,\"#0d0887\"],[0.1111111111111111,\"#46039f\"],[0.2222222222222222,\"#7201a8\"],[0.3333333333333333,\"#9c179e\"],[0.4444444444444444,\"#bd3786\"],[0.5555555555555556,\"#d8576b\"],[0.6666666666666666,\"#ed7953\"],[0.7777777777777778,\"#fb9f3a\"],[0.8888888888888888,\"#fdca26\"],[1.0,\"#f0f921\"]],\"type\":\"heatmap\"}],\"heatmapgl\":[{\"colorbar\":{\"outlinewidth\":0,\"ticks\":\"\"},\"colorscale\":[[0.0,\"#0d0887\"],[0.1111111111111111,\"#46039f\"],[0.2222222222222222,\"#7201a8\"],[0.3333333333333333,\"#9c179e\"],[0.4444444444444444,\"#bd3786\"],[0.5555555555555556,\"#d8576b\"],[0.6666666666666666,\"#ed7953\"],[0.7777777777777778,\"#fb9f3a\"],[0.8888888888888888,\"#fdca26\"],[1.0,\"#f0f921\"]],\"type\":\"heatmapgl\"}],\"histogram\":[{\"marker\":{\"pattern\":{\"fillmode\":\"overlay\",\"size\":10,\"solidity\":0.2}},\"type\":\"histogram\"}],\"histogram2d\":[{\"colorbar\":{\"outlinewidth\":0,\"ticks\":\"\"},\"colorscale\":[[0.0,\"#0d0887\"],[0.1111111111111111,\"#46039f\"],[0.2222222222222222,\"#7201a8\"],[0.3333333333333333,\"#9c179e\"],[0.4444444444444444,\"#bd3786\"],[0.5555555555555556,\"#d8576b\"],[0.6666666666666666,\"#ed7953\"],[0.7777777777777778,\"#fb9f3a\"],[0.8888888888888888,\"#fdca26\"],[1.0,\"#f0f921\"]],\"type\":\"histogram2d\"}],\"histogram2dcontour\":[{\"colorbar\":{\"outlinewidth\":0,\"ticks\":\"\"},\"colorscale\":[[0.0,\"#0d0887\"],[0.1111111111111111,\"#46039f\"],[0.2222222222222222,\"#7201a8\"],[0.3333333333333333,\"#9c179e\"],[0.4444444444444444,\"#bd3786\"],[0.5555555555555556,\"#d8576b\"],[0.6666666666666666,\"#ed7953\"],[0.7777777777777778,\"#fb9f3a\"],[0.8888888888888888,\"#fdca26\"],[1.0,\"#f0f921\"]],\"type\":\"histogram2dcontour\"}],\"mesh3d\":[{\"colorbar\":{\"outlinewidth\":0,\"ticks\":\"\"},\"type\":\"mesh3d\"}],\"parcoords\":[{\"line\":{\"colorbar\":{\"outlinewidth\":0,\"ticks\":\"\"}},\"type\":\"parcoords\"}],\"pie\":[{\"automargin\":true,\"type\":\"pie\"}],\"scatter\":[{\"marker\":{\"colorbar\":{\"outlinewidth\":0,\"ticks\":\"\"}},\"type\":\"scatter\"}],\"scatter3d\":[{\"line\":{\"colorbar\":{\"outlinewidth\":0,\"ticks\":\"\"}},\"marker\":{\"colorbar\":{\"outlinewidth\":0,\"ticks\":\"\"}},\"type\":\"scatter3d\"}],\"scattercarpet\":[{\"marker\":{\"colorbar\":{\"outlinewidth\":0,\"ticks\":\"\"}},\"type\":\"scattercarpet\"}],\"scattergeo\":[{\"marker\":{\"colorbar\":{\"outlinewidth\":0,\"ticks\":\"\"}},\"type\":\"scattergeo\"}],\"scattergl\":[{\"marker\":{\"colorbar\":{\"outlinewidth\":0,\"ticks\":\"\"}},\"type\":\"scattergl\"}],\"scattermapbox\":[{\"marker\":{\"colorbar\":{\"outlinewidth\":0,\"ticks\":\"\"}},\"type\":\"scattermapbox\"}],\"scatterpolar\":[{\"marker\":{\"colorbar\":{\"outlinewidth\":0,\"ticks\":\"\"}},\"type\":\"scatterpolar\"}],\"scatterpolargl\":[{\"marker\":{\"colorbar\":{\"outlinewidth\":0,\"ticks\":\"\"}},\"type\":\"scatterpolargl\"}],\"scatterternary\":[{\"marker\":{\"colorbar\":{\"outlinewidth\":0,\"ticks\":\"\"}},\"type\":\"scatterternary\"}],\"surface\":[{\"colorbar\":{\"outlinewidth\":0,\"ticks\":\"\"},\"colorscale\":[[0.0,\"#0d0887\"],[0.1111111111111111,\"#46039f\"],[0.2222222222222222,\"#7201a8\"],[0.3333333333333333,\"#9c179e\"],[0.4444444444444444,\"#bd3786\"],[0.5555555555555556,\"#d8576b\"],[0.6666666666666666,\"#ed7953\"],[0.7777777777777778,\"#fb9f3a\"],[0.8888888888888888,\"#fdca26\"],[1.0,\"#f0f921\"]],\"type\":\"surface\"}],\"table\":[{\"cells\":{\"fill\":{\"color\":\"#EBF0F8\"},\"line\":{\"color\":\"white\"}},\"header\":{\"fill\":{\"color\":\"#C8D4E3\"},\"line\":{\"color\":\"white\"}},\"type\":\"table\"}]},\"layout\":{\"annotationdefaults\":{\"arrowcolor\":\"#2a3f5f\",\"arrowhead\":0,\"arrowwidth\":1},\"autotypenumbers\":\"strict\",\"coloraxis\":{\"colorbar\":{\"outlinewidth\":0,\"ticks\":\"\"}},\"colorscale\":{\"diverging\":[[0,\"#8e0152\"],[0.1,\"#c51b7d\"],[0.2,\"#de77ae\"],[0.3,\"#f1b6da\"],[0.4,\"#fde0ef\"],[0.5,\"#f7f7f7\"],[0.6,\"#e6f5d0\"],[0.7,\"#b8e186\"],[0.8,\"#7fbc41\"],[0.9,\"#4d9221\"],[1,\"#276419\"]],\"sequential\":[[0.0,\"#0d0887\"],[0.1111111111111111,\"#46039f\"],[0.2222222222222222,\"#7201a8\"],[0.3333333333333333,\"#9c179e\"],[0.4444444444444444,\"#bd3786\"],[0.5555555555555556,\"#d8576b\"],[0.6666666666666666,\"#ed7953\"],[0.7777777777777778,\"#fb9f3a\"],[0.8888888888888888,\"#fdca26\"],[1.0,\"#f0f921\"]],\"sequentialminus\":[[0.0,\"#0d0887\"],[0.1111111111111111,\"#46039f\"],[0.2222222222222222,\"#7201a8\"],[0.3333333333333333,\"#9c179e\"],[0.4444444444444444,\"#bd3786\"],[0.5555555555555556,\"#d8576b\"],[0.6666666666666666,\"#ed7953\"],[0.7777777777777778,\"#fb9f3a\"],[0.8888888888888888,\"#fdca26\"],[1.0,\"#f0f921\"]]},\"colorway\":[\"#636efa\",\"#EF553B\",\"#00cc96\",\"#ab63fa\",\"#FFA15A\",\"#19d3f3\",\"#FF6692\",\"#B6E880\",\"#FF97FF\",\"#FECB52\"],\"font\":{\"color\":\"#2a3f5f\"},\"geo\":{\"bgcolor\":\"white\",\"lakecolor\":\"white\",\"landcolor\":\"#E5ECF6\",\"showlakes\":true,\"showland\":true,\"subunitcolor\":\"white\"},\"hoverlabel\":{\"align\":\"left\"},\"hovermode\":\"closest\",\"mapbox\":{\"style\":\"light\"},\"paper_bgcolor\":\"white\",\"plot_bgcolor\":\"#E5ECF6\",\"polar\":{\"angularaxis\":{\"gridcolor\":\"white\",\"linecolor\":\"white\",\"ticks\":\"\"},\"bgcolor\":\"#E5ECF6\",\"radialaxis\":{\"gridcolor\":\"white\",\"linecolor\":\"white\",\"ticks\":\"\"}},\"scene\":{\"xaxis\":{\"backgroundcolor\":\"#E5ECF6\",\"gridcolor\":\"white\",\"gridwidth\":2,\"linecolor\":\"white\",\"showbackground\":true,\"ticks\":\"\",\"zerolinecolor\":\"white\"},\"yaxis\":{\"backgroundcolor\":\"#E5ECF6\",\"gridcolor\":\"white\",\"gridwidth\":2,\"linecolor\":\"white\",\"showbackground\":true,\"ticks\":\"\",\"zerolinecolor\":\"white\"},\"zaxis\":{\"backgroundcolor\":\"#E5ECF6\",\"gridcolor\":\"white\",\"gridwidth\":2,\"linecolor\":\"white\",\"showbackground\":true,\"ticks\":\"\",\"zerolinecolor\":\"white\"}},\"shapedefaults\":{\"line\":{\"color\":\"#2a3f5f\"}},\"ternary\":{\"aaxis\":{\"gridcolor\":\"white\",\"linecolor\":\"white\",\"ticks\":\"\"},\"baxis\":{\"gridcolor\":\"white\",\"linecolor\":\"white\",\"ticks\":\"\"},\"bgcolor\":\"#E5ECF6\",\"caxis\":{\"gridcolor\":\"white\",\"linecolor\":\"white\",\"ticks\":\"\"}},\"title\":{\"x\":0.05},\"xaxis\":{\"automargin\":true,\"gridcolor\":\"white\",\"linecolor\":\"white\",\"ticks\":\"\",\"title\":{\"standoff\":15},\"zerolinecolor\":\"white\",\"zerolinewidth\":2},\"yaxis\":{\"automargin\":true,\"gridcolor\":\"white\",\"linecolor\":\"white\",\"ticks\":\"\",\"title\":{\"standoff\":15},\"zerolinecolor\":\"white\",\"zerolinewidth\":2}}}},                        {\"responsive\": true}                    ).then(function(){\n                            \nvar gd = document.getElementById('1ca2569c-62cf-47ca-b040-bdd41dd1a483');\nvar x = new MutationObserver(function (mutations, observer) {{\n        var display = window.getComputedStyle(gd).display;\n        if (!display || display === 'none') {{\n            console.log([gd, 'removed!']);\n            Plotly.purge(gd);\n            observer.disconnect();\n        }}\n}});\n\n// Listen for the removal of the full notebook cells\nvar notebookContainer = gd.closest('#notebook-container');\nif (notebookContainer) {{\n    x.observe(notebookContainer, {childList: true});\n}}\n\n// Listen for the clearing of the current output cell\nvar outputEl = gd.closest('.output');\nif (outputEl) {{\n    x.observe(outputEl, {childList: true});\n}}\n\n                        })                };                });            </script>        </div>"
     },
     "metadata": {},
     "output_type": "display_data"
    }
   ]
  },
  {
   "cell_type": "markdown",
   "metadata": {
    "id": "LrpzQ9S3-mew"
   },
   "source": [
    "## Line Chart: Monster Rarity Totals Over Time"
   ]
  },
  {
   "cell_type": "code",
   "metadata": {
    "id": "aBmbirKj5_Ge"
   },
   "source": [
    "from itertools import accumulate"
   ],
   "execution_count": 35,
   "outputs": []
  },
  {
   "cell_type": "code",
   "metadata": {
    "id": "pvDFbHtb08a-"
   },
   "source": [
    "target = \"Rarity\"  # [\"Rarity\", \"Level\", \"Type\"]\n",
    "\n",
    "df = db.get_df()\n",
    "\n",
    "df_cross = pd.crosstab(df['Time Stamp'], df[target])\n",
    "\n",
    "for column in df_cross.columns:\n",
    "    df_cross[column] = list(accumulate(df_cross[column]))\n",
    "\n",
    "title = f\"Monster {target} Totals Over Time\"\n",
    "\n",
    "data = [go.Scatter(\n",
    "    x=df_cross.index, \n",
    "    y=df_cross[col],\n",
    "    name=col,\n",
    "    line={\"width\": 1.5},\n",
    ") for col in df_cross.columns]\n",
    "\n",
    "layout = go.Layout(\n",
    "    title=title,\n",
    "    colorway=px.colors.qualitative.Antique,\n",
    "    height=600,\n",
    "    width=800,\n",
    "    yaxis={\"title\": \"Monster Count\"},\n",
    "    xaxis={\"title\": \"Time Stamp\"},\n",
    ")\n",
    "\n",
    "figure = go.Figure(data, layout)\n",
    "figure.show()"
   ],
   "execution_count": 39,
   "outputs": [
    {
     "data": {
      "application/vnd.plotly.v1+json": {
       "data": [
        {
         "line": {
          "width": 1.5
         },
         "name": "Rank 0",
         "x": [
          "2022-03-31 07:23:47",
          "2022-03-31 07:23:55"
         ],
         "y": [
          0,
          294
         ],
         "type": "scatter"
        },
        {
         "line": {
          "width": 1.5
         },
         "name": "Rank 1",
         "x": [
          "2022-03-31 07:23:47",
          "2022-03-31 07:23:55"
         ],
         "y": [
          0,
          260
         ],
         "type": "scatter"
        },
        {
         "line": {
          "width": 1.5
         },
         "name": "Rank 2",
         "x": [
          "2022-03-31 07:23:47",
          "2022-03-31 07:23:55"
         ],
         "y": [
          0,
          187
         ],
         "type": "scatter"
        },
        {
         "line": {
          "width": 1.5
         },
         "name": "Rank 3",
         "x": [
          "2022-03-31 07:23:47",
          "2022-03-31 07:23:55"
         ],
         "y": [
          0,
          160
         ],
         "type": "scatter"
        },
        {
         "line": {
          "width": 1.5
         },
         "name": "Rank 4",
         "x": [
          "2022-03-31 07:23:47",
          "2022-03-31 07:23:55"
         ],
         "y": [
          0,
          103
         ],
         "type": "scatter"
        },
        {
         "line": {
          "width": 1.5
         },
         "name": "Rank 5",
         "x": [
          "2022-03-31 07:23:47",
          "2022-03-31 07:23:55"
         ],
         "y": [
          1,
          21
         ],
         "type": "scatter"
        }
       ],
       "layout": {
        "colorway": [
         "rgb(133, 92, 117)",
         "rgb(217, 175, 107)",
         "rgb(175, 100, 88)",
         "rgb(115, 111, 76)",
         "rgb(82, 106, 131)",
         "rgb(98, 83, 119)",
         "rgb(104, 133, 92)",
         "rgb(156, 156, 94)",
         "rgb(160, 97, 119)",
         "rgb(140, 120, 93)",
         "rgb(124, 124, 124)"
        ],
        "height": 600,
        "title": {
         "text": "Monster Rarity Totals Over Time"
        },
        "width": 800,
        "xaxis": {
         "title": {
          "text": "Time Stamp"
         }
        },
        "yaxis": {
         "title": {
          "text": "Monster Count"
         }
        },
        "template": {
         "data": {
          "bar": [
           {
            "error_x": {
             "color": "#2a3f5f"
            },
            "error_y": {
             "color": "#2a3f5f"
            },
            "marker": {
             "line": {
              "color": "#E5ECF6",
              "width": 0.5
             },
             "pattern": {
              "fillmode": "overlay",
              "size": 10,
              "solidity": 0.2
             }
            },
            "type": "bar"
           }
          ],
          "barpolar": [
           {
            "marker": {
             "line": {
              "color": "#E5ECF6",
              "width": 0.5
             },
             "pattern": {
              "fillmode": "overlay",
              "size": 10,
              "solidity": 0.2
             }
            },
            "type": "barpolar"
           }
          ],
          "carpet": [
           {
            "aaxis": {
             "endlinecolor": "#2a3f5f",
             "gridcolor": "white",
             "linecolor": "white",
             "minorgridcolor": "white",
             "startlinecolor": "#2a3f5f"
            },
            "baxis": {
             "endlinecolor": "#2a3f5f",
             "gridcolor": "white",
             "linecolor": "white",
             "minorgridcolor": "white",
             "startlinecolor": "#2a3f5f"
            },
            "type": "carpet"
           }
          ],
          "choropleth": [
           {
            "colorbar": {
             "outlinewidth": 0,
             "ticks": ""
            },
            "type": "choropleth"
           }
          ],
          "contour": [
           {
            "colorbar": {
             "outlinewidth": 0,
             "ticks": ""
            },
            "colorscale": [
             [
              0.0,
              "#0d0887"
             ],
             [
              0.1111111111111111,
              "#46039f"
             ],
             [
              0.2222222222222222,
              "#7201a8"
             ],
             [
              0.3333333333333333,
              "#9c179e"
             ],
             [
              0.4444444444444444,
              "#bd3786"
             ],
             [
              0.5555555555555556,
              "#d8576b"
             ],
             [
              0.6666666666666666,
              "#ed7953"
             ],
             [
              0.7777777777777778,
              "#fb9f3a"
             ],
             [
              0.8888888888888888,
              "#fdca26"
             ],
             [
              1.0,
              "#f0f921"
             ]
            ],
            "type": "contour"
           }
          ],
          "contourcarpet": [
           {
            "colorbar": {
             "outlinewidth": 0,
             "ticks": ""
            },
            "type": "contourcarpet"
           }
          ],
          "heatmap": [
           {
            "colorbar": {
             "outlinewidth": 0,
             "ticks": ""
            },
            "colorscale": [
             [
              0.0,
              "#0d0887"
             ],
             [
              0.1111111111111111,
              "#46039f"
             ],
             [
              0.2222222222222222,
              "#7201a8"
             ],
             [
              0.3333333333333333,
              "#9c179e"
             ],
             [
              0.4444444444444444,
              "#bd3786"
             ],
             [
              0.5555555555555556,
              "#d8576b"
             ],
             [
              0.6666666666666666,
              "#ed7953"
             ],
             [
              0.7777777777777778,
              "#fb9f3a"
             ],
             [
              0.8888888888888888,
              "#fdca26"
             ],
             [
              1.0,
              "#f0f921"
             ]
            ],
            "type": "heatmap"
           }
          ],
          "heatmapgl": [
           {
            "colorbar": {
             "outlinewidth": 0,
             "ticks": ""
            },
            "colorscale": [
             [
              0.0,
              "#0d0887"
             ],
             [
              0.1111111111111111,
              "#46039f"
             ],
             [
              0.2222222222222222,
              "#7201a8"
             ],
             [
              0.3333333333333333,
              "#9c179e"
             ],
             [
              0.4444444444444444,
              "#bd3786"
             ],
             [
              0.5555555555555556,
              "#d8576b"
             ],
             [
              0.6666666666666666,
              "#ed7953"
             ],
             [
              0.7777777777777778,
              "#fb9f3a"
             ],
             [
              0.8888888888888888,
              "#fdca26"
             ],
             [
              1.0,
              "#f0f921"
             ]
            ],
            "type": "heatmapgl"
           }
          ],
          "histogram": [
           {
            "marker": {
             "pattern": {
              "fillmode": "overlay",
              "size": 10,
              "solidity": 0.2
             }
            },
            "type": "histogram"
           }
          ],
          "histogram2d": [
           {
            "colorbar": {
             "outlinewidth": 0,
             "ticks": ""
            },
            "colorscale": [
             [
              0.0,
              "#0d0887"
             ],
             [
              0.1111111111111111,
              "#46039f"
             ],
             [
              0.2222222222222222,
              "#7201a8"
             ],
             [
              0.3333333333333333,
              "#9c179e"
             ],
             [
              0.4444444444444444,
              "#bd3786"
             ],
             [
              0.5555555555555556,
              "#d8576b"
             ],
             [
              0.6666666666666666,
              "#ed7953"
             ],
             [
              0.7777777777777778,
              "#fb9f3a"
             ],
             [
              0.8888888888888888,
              "#fdca26"
             ],
             [
              1.0,
              "#f0f921"
             ]
            ],
            "type": "histogram2d"
           }
          ],
          "histogram2dcontour": [
           {
            "colorbar": {
             "outlinewidth": 0,
             "ticks": ""
            },
            "colorscale": [
             [
              0.0,
              "#0d0887"
             ],
             [
              0.1111111111111111,
              "#46039f"
             ],
             [
              0.2222222222222222,
              "#7201a8"
             ],
             [
              0.3333333333333333,
              "#9c179e"
             ],
             [
              0.4444444444444444,
              "#bd3786"
             ],
             [
              0.5555555555555556,
              "#d8576b"
             ],
             [
              0.6666666666666666,
              "#ed7953"
             ],
             [
              0.7777777777777778,
              "#fb9f3a"
             ],
             [
              0.8888888888888888,
              "#fdca26"
             ],
             [
              1.0,
              "#f0f921"
             ]
            ],
            "type": "histogram2dcontour"
           }
          ],
          "mesh3d": [
           {
            "colorbar": {
             "outlinewidth": 0,
             "ticks": ""
            },
            "type": "mesh3d"
           }
          ],
          "parcoords": [
           {
            "line": {
             "colorbar": {
              "outlinewidth": 0,
              "ticks": ""
             }
            },
            "type": "parcoords"
           }
          ],
          "pie": [
           {
            "automargin": true,
            "type": "pie"
           }
          ],
          "scatter": [
           {
            "marker": {
             "colorbar": {
              "outlinewidth": 0,
              "ticks": ""
             }
            },
            "type": "scatter"
           }
          ],
          "scatter3d": [
           {
            "line": {
             "colorbar": {
              "outlinewidth": 0,
              "ticks": ""
             }
            },
            "marker": {
             "colorbar": {
              "outlinewidth": 0,
              "ticks": ""
             }
            },
            "type": "scatter3d"
           }
          ],
          "scattercarpet": [
           {
            "marker": {
             "colorbar": {
              "outlinewidth": 0,
              "ticks": ""
             }
            },
            "type": "scattercarpet"
           }
          ],
          "scattergeo": [
           {
            "marker": {
             "colorbar": {
              "outlinewidth": 0,
              "ticks": ""
             }
            },
            "type": "scattergeo"
           }
          ],
          "scattergl": [
           {
            "marker": {
             "colorbar": {
              "outlinewidth": 0,
              "ticks": ""
             }
            },
            "type": "scattergl"
           }
          ],
          "scattermapbox": [
           {
            "marker": {
             "colorbar": {
              "outlinewidth": 0,
              "ticks": ""
             }
            },
            "type": "scattermapbox"
           }
          ],
          "scatterpolar": [
           {
            "marker": {
             "colorbar": {
              "outlinewidth": 0,
              "ticks": ""
             }
            },
            "type": "scatterpolar"
           }
          ],
          "scatterpolargl": [
           {
            "marker": {
             "colorbar": {
              "outlinewidth": 0,
              "ticks": ""
             }
            },
            "type": "scatterpolargl"
           }
          ],
          "scatterternary": [
           {
            "marker": {
             "colorbar": {
              "outlinewidth": 0,
              "ticks": ""
             }
            },
            "type": "scatterternary"
           }
          ],
          "surface": [
           {
            "colorbar": {
             "outlinewidth": 0,
             "ticks": ""
            },
            "colorscale": [
             [
              0.0,
              "#0d0887"
             ],
             [
              0.1111111111111111,
              "#46039f"
             ],
             [
              0.2222222222222222,
              "#7201a8"
             ],
             [
              0.3333333333333333,
              "#9c179e"
             ],
             [
              0.4444444444444444,
              "#bd3786"
             ],
             [
              0.5555555555555556,
              "#d8576b"
             ],
             [
              0.6666666666666666,
              "#ed7953"
             ],
             [
              0.7777777777777778,
              "#fb9f3a"
             ],
             [
              0.8888888888888888,
              "#fdca26"
             ],
             [
              1.0,
              "#f0f921"
             ]
            ],
            "type": "surface"
           }
          ],
          "table": [
           {
            "cells": {
             "fill": {
              "color": "#EBF0F8"
             },
             "line": {
              "color": "white"
             }
            },
            "header": {
             "fill": {
              "color": "#C8D4E3"
             },
             "line": {
              "color": "white"
             }
            },
            "type": "table"
           }
          ]
         },
         "layout": {
          "annotationdefaults": {
           "arrowcolor": "#2a3f5f",
           "arrowhead": 0,
           "arrowwidth": 1
          },
          "autotypenumbers": "strict",
          "coloraxis": {
           "colorbar": {
            "outlinewidth": 0,
            "ticks": ""
           }
          },
          "colorscale": {
           "diverging": [
            [
             0,
             "#8e0152"
            ],
            [
             0.1,
             "#c51b7d"
            ],
            [
             0.2,
             "#de77ae"
            ],
            [
             0.3,
             "#f1b6da"
            ],
            [
             0.4,
             "#fde0ef"
            ],
            [
             0.5,
             "#f7f7f7"
            ],
            [
             0.6,
             "#e6f5d0"
            ],
            [
             0.7,
             "#b8e186"
            ],
            [
             0.8,
             "#7fbc41"
            ],
            [
             0.9,
             "#4d9221"
            ],
            [
             1,
             "#276419"
            ]
           ],
           "sequential": [
            [
             0.0,
             "#0d0887"
            ],
            [
             0.1111111111111111,
             "#46039f"
            ],
            [
             0.2222222222222222,
             "#7201a8"
            ],
            [
             0.3333333333333333,
             "#9c179e"
            ],
            [
             0.4444444444444444,
             "#bd3786"
            ],
            [
             0.5555555555555556,
             "#d8576b"
            ],
            [
             0.6666666666666666,
             "#ed7953"
            ],
            [
             0.7777777777777778,
             "#fb9f3a"
            ],
            [
             0.8888888888888888,
             "#fdca26"
            ],
            [
             1.0,
             "#f0f921"
            ]
           ],
           "sequentialminus": [
            [
             0.0,
             "#0d0887"
            ],
            [
             0.1111111111111111,
             "#46039f"
            ],
            [
             0.2222222222222222,
             "#7201a8"
            ],
            [
             0.3333333333333333,
             "#9c179e"
            ],
            [
             0.4444444444444444,
             "#bd3786"
            ],
            [
             0.5555555555555556,
             "#d8576b"
            ],
            [
             0.6666666666666666,
             "#ed7953"
            ],
            [
             0.7777777777777778,
             "#fb9f3a"
            ],
            [
             0.8888888888888888,
             "#fdca26"
            ],
            [
             1.0,
             "#f0f921"
            ]
           ]
          },
          "colorway": [
           "#636efa",
           "#EF553B",
           "#00cc96",
           "#ab63fa",
           "#FFA15A",
           "#19d3f3",
           "#FF6692",
           "#B6E880",
           "#FF97FF",
           "#FECB52"
          ],
          "font": {
           "color": "#2a3f5f"
          },
          "geo": {
           "bgcolor": "white",
           "lakecolor": "white",
           "landcolor": "#E5ECF6",
           "showlakes": true,
           "showland": true,
           "subunitcolor": "white"
          },
          "hoverlabel": {
           "align": "left"
          },
          "hovermode": "closest",
          "mapbox": {
           "style": "light"
          },
          "paper_bgcolor": "white",
          "plot_bgcolor": "#E5ECF6",
          "polar": {
           "angularaxis": {
            "gridcolor": "white",
            "linecolor": "white",
            "ticks": ""
           },
           "bgcolor": "#E5ECF6",
           "radialaxis": {
            "gridcolor": "white",
            "linecolor": "white",
            "ticks": ""
           }
          },
          "scene": {
           "xaxis": {
            "backgroundcolor": "#E5ECF6",
            "gridcolor": "white",
            "gridwidth": 2,
            "linecolor": "white",
            "showbackground": true,
            "ticks": "",
            "zerolinecolor": "white"
           },
           "yaxis": {
            "backgroundcolor": "#E5ECF6",
            "gridcolor": "white",
            "gridwidth": 2,
            "linecolor": "white",
            "showbackground": true,
            "ticks": "",
            "zerolinecolor": "white"
           },
           "zaxis": {
            "backgroundcolor": "#E5ECF6",
            "gridcolor": "white",
            "gridwidth": 2,
            "linecolor": "white",
            "showbackground": true,
            "ticks": "",
            "zerolinecolor": "white"
           }
          },
          "shapedefaults": {
           "line": {
            "color": "#2a3f5f"
           }
          },
          "ternary": {
           "aaxis": {
            "gridcolor": "white",
            "linecolor": "white",
            "ticks": ""
           },
           "baxis": {
            "gridcolor": "white",
            "linecolor": "white",
            "ticks": ""
           },
           "bgcolor": "#E5ECF6",
           "caxis": {
            "gridcolor": "white",
            "linecolor": "white",
            "ticks": ""
           }
          },
          "title": {
           "x": 0.05
          },
          "xaxis": {
           "automargin": true,
           "gridcolor": "white",
           "linecolor": "white",
           "ticks": "",
           "title": {
            "standoff": 15
           },
           "zerolinecolor": "white",
           "zerolinewidth": 2
          },
          "yaxis": {
           "automargin": true,
           "gridcolor": "white",
           "linecolor": "white",
           "ticks": "",
           "title": {
            "standoff": 15
           },
           "zerolinecolor": "white",
           "zerolinewidth": 2
          }
         }
        }
       },
       "config": {
        "plotlyServerURL": "https://plot.ly"
       }
      },
      "text/html": "<div>                            <div id=\"655f6b0a-3c13-4fc8-aaf6-39852a490dd5\" class=\"plotly-graph-div\" style=\"height:600px; width:800px;\"></div>            <script type=\"text/javascript\">                require([\"plotly\"], function(Plotly) {                    window.PLOTLYENV=window.PLOTLYENV || {};                                    if (document.getElementById(\"655f6b0a-3c13-4fc8-aaf6-39852a490dd5\")) {                    Plotly.newPlot(                        \"655f6b0a-3c13-4fc8-aaf6-39852a490dd5\",                        [{\"line\":{\"width\":1.5},\"name\":\"Rank 0\",\"x\":[\"2022-03-31 07:23:47\",\"2022-03-31 07:23:55\"],\"y\":[0,294],\"type\":\"scatter\"},{\"line\":{\"width\":1.5},\"name\":\"Rank 1\",\"x\":[\"2022-03-31 07:23:47\",\"2022-03-31 07:23:55\"],\"y\":[0,260],\"type\":\"scatter\"},{\"line\":{\"width\":1.5},\"name\":\"Rank 2\",\"x\":[\"2022-03-31 07:23:47\",\"2022-03-31 07:23:55\"],\"y\":[0,187],\"type\":\"scatter\"},{\"line\":{\"width\":1.5},\"name\":\"Rank 3\",\"x\":[\"2022-03-31 07:23:47\",\"2022-03-31 07:23:55\"],\"y\":[0,160],\"type\":\"scatter\"},{\"line\":{\"width\":1.5},\"name\":\"Rank 4\",\"x\":[\"2022-03-31 07:23:47\",\"2022-03-31 07:23:55\"],\"y\":[0,103],\"type\":\"scatter\"},{\"line\":{\"width\":1.5},\"name\":\"Rank 5\",\"x\":[\"2022-03-31 07:23:47\",\"2022-03-31 07:23:55\"],\"y\":[1,21],\"type\":\"scatter\"}],                        {\"colorway\":[\"rgb(133, 92, 117)\",\"rgb(217, 175, 107)\",\"rgb(175, 100, 88)\",\"rgb(115, 111, 76)\",\"rgb(82, 106, 131)\",\"rgb(98, 83, 119)\",\"rgb(104, 133, 92)\",\"rgb(156, 156, 94)\",\"rgb(160, 97, 119)\",\"rgb(140, 120, 93)\",\"rgb(124, 124, 124)\"],\"height\":600,\"title\":{\"text\":\"Monster Rarity Totals Over Time\"},\"width\":800,\"xaxis\":{\"title\":{\"text\":\"Time Stamp\"}},\"yaxis\":{\"title\":{\"text\":\"Monster Count\"}},\"template\":{\"data\":{\"bar\":[{\"error_x\":{\"color\":\"#2a3f5f\"},\"error_y\":{\"color\":\"#2a3f5f\"},\"marker\":{\"line\":{\"color\":\"#E5ECF6\",\"width\":0.5},\"pattern\":{\"fillmode\":\"overlay\",\"size\":10,\"solidity\":0.2}},\"type\":\"bar\"}],\"barpolar\":[{\"marker\":{\"line\":{\"color\":\"#E5ECF6\",\"width\":0.5},\"pattern\":{\"fillmode\":\"overlay\",\"size\":10,\"solidity\":0.2}},\"type\":\"barpolar\"}],\"carpet\":[{\"aaxis\":{\"endlinecolor\":\"#2a3f5f\",\"gridcolor\":\"white\",\"linecolor\":\"white\",\"minorgridcolor\":\"white\",\"startlinecolor\":\"#2a3f5f\"},\"baxis\":{\"endlinecolor\":\"#2a3f5f\",\"gridcolor\":\"white\",\"linecolor\":\"white\",\"minorgridcolor\":\"white\",\"startlinecolor\":\"#2a3f5f\"},\"type\":\"carpet\"}],\"choropleth\":[{\"colorbar\":{\"outlinewidth\":0,\"ticks\":\"\"},\"type\":\"choropleth\"}],\"contour\":[{\"colorbar\":{\"outlinewidth\":0,\"ticks\":\"\"},\"colorscale\":[[0.0,\"#0d0887\"],[0.1111111111111111,\"#46039f\"],[0.2222222222222222,\"#7201a8\"],[0.3333333333333333,\"#9c179e\"],[0.4444444444444444,\"#bd3786\"],[0.5555555555555556,\"#d8576b\"],[0.6666666666666666,\"#ed7953\"],[0.7777777777777778,\"#fb9f3a\"],[0.8888888888888888,\"#fdca26\"],[1.0,\"#f0f921\"]],\"type\":\"contour\"}],\"contourcarpet\":[{\"colorbar\":{\"outlinewidth\":0,\"ticks\":\"\"},\"type\":\"contourcarpet\"}],\"heatmap\":[{\"colorbar\":{\"outlinewidth\":0,\"ticks\":\"\"},\"colorscale\":[[0.0,\"#0d0887\"],[0.1111111111111111,\"#46039f\"],[0.2222222222222222,\"#7201a8\"],[0.3333333333333333,\"#9c179e\"],[0.4444444444444444,\"#bd3786\"],[0.5555555555555556,\"#d8576b\"],[0.6666666666666666,\"#ed7953\"],[0.7777777777777778,\"#fb9f3a\"],[0.8888888888888888,\"#fdca26\"],[1.0,\"#f0f921\"]],\"type\":\"heatmap\"}],\"heatmapgl\":[{\"colorbar\":{\"outlinewidth\":0,\"ticks\":\"\"},\"colorscale\":[[0.0,\"#0d0887\"],[0.1111111111111111,\"#46039f\"],[0.2222222222222222,\"#7201a8\"],[0.3333333333333333,\"#9c179e\"],[0.4444444444444444,\"#bd3786\"],[0.5555555555555556,\"#d8576b\"],[0.6666666666666666,\"#ed7953\"],[0.7777777777777778,\"#fb9f3a\"],[0.8888888888888888,\"#fdca26\"],[1.0,\"#f0f921\"]],\"type\":\"heatmapgl\"}],\"histogram\":[{\"marker\":{\"pattern\":{\"fillmode\":\"overlay\",\"size\":10,\"solidity\":0.2}},\"type\":\"histogram\"}],\"histogram2d\":[{\"colorbar\":{\"outlinewidth\":0,\"ticks\":\"\"},\"colorscale\":[[0.0,\"#0d0887\"],[0.1111111111111111,\"#46039f\"],[0.2222222222222222,\"#7201a8\"],[0.3333333333333333,\"#9c179e\"],[0.4444444444444444,\"#bd3786\"],[0.5555555555555556,\"#d8576b\"],[0.6666666666666666,\"#ed7953\"],[0.7777777777777778,\"#fb9f3a\"],[0.8888888888888888,\"#fdca26\"],[1.0,\"#f0f921\"]],\"type\":\"histogram2d\"}],\"histogram2dcontour\":[{\"colorbar\":{\"outlinewidth\":0,\"ticks\":\"\"},\"colorscale\":[[0.0,\"#0d0887\"],[0.1111111111111111,\"#46039f\"],[0.2222222222222222,\"#7201a8\"],[0.3333333333333333,\"#9c179e\"],[0.4444444444444444,\"#bd3786\"],[0.5555555555555556,\"#d8576b\"],[0.6666666666666666,\"#ed7953\"],[0.7777777777777778,\"#fb9f3a\"],[0.8888888888888888,\"#fdca26\"],[1.0,\"#f0f921\"]],\"type\":\"histogram2dcontour\"}],\"mesh3d\":[{\"colorbar\":{\"outlinewidth\":0,\"ticks\":\"\"},\"type\":\"mesh3d\"}],\"parcoords\":[{\"line\":{\"colorbar\":{\"outlinewidth\":0,\"ticks\":\"\"}},\"type\":\"parcoords\"}],\"pie\":[{\"automargin\":true,\"type\":\"pie\"}],\"scatter\":[{\"marker\":{\"colorbar\":{\"outlinewidth\":0,\"ticks\":\"\"}},\"type\":\"scatter\"}],\"scatter3d\":[{\"line\":{\"colorbar\":{\"outlinewidth\":0,\"ticks\":\"\"}},\"marker\":{\"colorbar\":{\"outlinewidth\":0,\"ticks\":\"\"}},\"type\":\"scatter3d\"}],\"scattercarpet\":[{\"marker\":{\"colorbar\":{\"outlinewidth\":0,\"ticks\":\"\"}},\"type\":\"scattercarpet\"}],\"scattergeo\":[{\"marker\":{\"colorbar\":{\"outlinewidth\":0,\"ticks\":\"\"}},\"type\":\"scattergeo\"}],\"scattergl\":[{\"marker\":{\"colorbar\":{\"outlinewidth\":0,\"ticks\":\"\"}},\"type\":\"scattergl\"}],\"scattermapbox\":[{\"marker\":{\"colorbar\":{\"outlinewidth\":0,\"ticks\":\"\"}},\"type\":\"scattermapbox\"}],\"scatterpolar\":[{\"marker\":{\"colorbar\":{\"outlinewidth\":0,\"ticks\":\"\"}},\"type\":\"scatterpolar\"}],\"scatterpolargl\":[{\"marker\":{\"colorbar\":{\"outlinewidth\":0,\"ticks\":\"\"}},\"type\":\"scatterpolargl\"}],\"scatterternary\":[{\"marker\":{\"colorbar\":{\"outlinewidth\":0,\"ticks\":\"\"}},\"type\":\"scatterternary\"}],\"surface\":[{\"colorbar\":{\"outlinewidth\":0,\"ticks\":\"\"},\"colorscale\":[[0.0,\"#0d0887\"],[0.1111111111111111,\"#46039f\"],[0.2222222222222222,\"#7201a8\"],[0.3333333333333333,\"#9c179e\"],[0.4444444444444444,\"#bd3786\"],[0.5555555555555556,\"#d8576b\"],[0.6666666666666666,\"#ed7953\"],[0.7777777777777778,\"#fb9f3a\"],[0.8888888888888888,\"#fdca26\"],[1.0,\"#f0f921\"]],\"type\":\"surface\"}],\"table\":[{\"cells\":{\"fill\":{\"color\":\"#EBF0F8\"},\"line\":{\"color\":\"white\"}},\"header\":{\"fill\":{\"color\":\"#C8D4E3\"},\"line\":{\"color\":\"white\"}},\"type\":\"table\"}]},\"layout\":{\"annotationdefaults\":{\"arrowcolor\":\"#2a3f5f\",\"arrowhead\":0,\"arrowwidth\":1},\"autotypenumbers\":\"strict\",\"coloraxis\":{\"colorbar\":{\"outlinewidth\":0,\"ticks\":\"\"}},\"colorscale\":{\"diverging\":[[0,\"#8e0152\"],[0.1,\"#c51b7d\"],[0.2,\"#de77ae\"],[0.3,\"#f1b6da\"],[0.4,\"#fde0ef\"],[0.5,\"#f7f7f7\"],[0.6,\"#e6f5d0\"],[0.7,\"#b8e186\"],[0.8,\"#7fbc41\"],[0.9,\"#4d9221\"],[1,\"#276419\"]],\"sequential\":[[0.0,\"#0d0887\"],[0.1111111111111111,\"#46039f\"],[0.2222222222222222,\"#7201a8\"],[0.3333333333333333,\"#9c179e\"],[0.4444444444444444,\"#bd3786\"],[0.5555555555555556,\"#d8576b\"],[0.6666666666666666,\"#ed7953\"],[0.7777777777777778,\"#fb9f3a\"],[0.8888888888888888,\"#fdca26\"],[1.0,\"#f0f921\"]],\"sequentialminus\":[[0.0,\"#0d0887\"],[0.1111111111111111,\"#46039f\"],[0.2222222222222222,\"#7201a8\"],[0.3333333333333333,\"#9c179e\"],[0.4444444444444444,\"#bd3786\"],[0.5555555555555556,\"#d8576b\"],[0.6666666666666666,\"#ed7953\"],[0.7777777777777778,\"#fb9f3a\"],[0.8888888888888888,\"#fdca26\"],[1.0,\"#f0f921\"]]},\"colorway\":[\"#636efa\",\"#EF553B\",\"#00cc96\",\"#ab63fa\",\"#FFA15A\",\"#19d3f3\",\"#FF6692\",\"#B6E880\",\"#FF97FF\",\"#FECB52\"],\"font\":{\"color\":\"#2a3f5f\"},\"geo\":{\"bgcolor\":\"white\",\"lakecolor\":\"white\",\"landcolor\":\"#E5ECF6\",\"showlakes\":true,\"showland\":true,\"subunitcolor\":\"white\"},\"hoverlabel\":{\"align\":\"left\"},\"hovermode\":\"closest\",\"mapbox\":{\"style\":\"light\"},\"paper_bgcolor\":\"white\",\"plot_bgcolor\":\"#E5ECF6\",\"polar\":{\"angularaxis\":{\"gridcolor\":\"white\",\"linecolor\":\"white\",\"ticks\":\"\"},\"bgcolor\":\"#E5ECF6\",\"radialaxis\":{\"gridcolor\":\"white\",\"linecolor\":\"white\",\"ticks\":\"\"}},\"scene\":{\"xaxis\":{\"backgroundcolor\":\"#E5ECF6\",\"gridcolor\":\"white\",\"gridwidth\":2,\"linecolor\":\"white\",\"showbackground\":true,\"ticks\":\"\",\"zerolinecolor\":\"white\"},\"yaxis\":{\"backgroundcolor\":\"#E5ECF6\",\"gridcolor\":\"white\",\"gridwidth\":2,\"linecolor\":\"white\",\"showbackground\":true,\"ticks\":\"\",\"zerolinecolor\":\"white\"},\"zaxis\":{\"backgroundcolor\":\"#E5ECF6\",\"gridcolor\":\"white\",\"gridwidth\":2,\"linecolor\":\"white\",\"showbackground\":true,\"ticks\":\"\",\"zerolinecolor\":\"white\"}},\"shapedefaults\":{\"line\":{\"color\":\"#2a3f5f\"}},\"ternary\":{\"aaxis\":{\"gridcolor\":\"white\",\"linecolor\":\"white\",\"ticks\":\"\"},\"baxis\":{\"gridcolor\":\"white\",\"linecolor\":\"white\",\"ticks\":\"\"},\"bgcolor\":\"#E5ECF6\",\"caxis\":{\"gridcolor\":\"white\",\"linecolor\":\"white\",\"ticks\":\"\"}},\"title\":{\"x\":0.05},\"xaxis\":{\"automargin\":true,\"gridcolor\":\"white\",\"linecolor\":\"white\",\"ticks\":\"\",\"title\":{\"standoff\":15},\"zerolinecolor\":\"white\",\"zerolinewidth\":2},\"yaxis\":{\"automargin\":true,\"gridcolor\":\"white\",\"linecolor\":\"white\",\"ticks\":\"\",\"title\":{\"standoff\":15},\"zerolinecolor\":\"white\",\"zerolinewidth\":2}}}},                        {\"responsive\": true}                    ).then(function(){\n                            \nvar gd = document.getElementById('655f6b0a-3c13-4fc8-aaf6-39852a490dd5');\nvar x = new MutationObserver(function (mutations, observer) {{\n        var display = window.getComputedStyle(gd).display;\n        if (!display || display === 'none') {{\n            console.log([gd, 'removed!']);\n            Plotly.purge(gd);\n            observer.disconnect();\n        }}\n}});\n\n// Listen for the removal of the full notebook cells\nvar notebookContainer = gd.closest('#notebook-container');\nif (notebookContainer) {{\n    x.observe(notebookContainer, {childList: true});\n}}\n\n// Listen for the clearing of the current output cell\nvar outputEl = gd.closest('.output');\nif (outputEl) {{\n    x.observe(outputEl, {childList: true});\n}}\n\n                        })                };                });            </script>        </div>"
     },
     "metadata": {},
     "output_type": "display_data"
    }
   ]
  },
  {
   "cell_type": "markdown",
   "metadata": {
    "id": "TXNPXv94_akH"
   },
   "source": [
    "## Stacked Bar Chart Crosstab: Rarity by Level"
   ]
  },
  {
   "cell_type": "markdown",
   "metadata": {
    "id": "DoLAlShmlwKg"
   },
   "source": [
    "Dynaically add the name of the target to the title of the y-axis."
   ]
  },
  {
   "cell_type": "code",
   "metadata": {
    "id": "4BkB9fjD6A3v"
   },
   "source": [
    "feature = \"Level\"  # [\"Level\", \"Type\", \"Rarity\"]\n",
    "target = \"Rarity\"  # [\"Level\", \"Type\", \"Rarity\"]\n",
    "\n",
    "df = db.get_df()\n",
    "\n",
    "df_cross = pd.crosstab(df[feature], df[target])\n",
    "\n",
    "title = f\"{target} by {feature}\"\n",
    "\n",
    "data = [\n",
    "    go.Bar(name=col, x=df_cross.index, y=df_cross[col])\n",
    "    for col in df_cross.columns\n",
    "]\n",
    "\n",
    "layout = go.Layout(\n",
    "    title=title,\n",
    "    colorway=px.colors.qualitative.Antique,\n",
    "    height=600,\n",
    "    width=810,\n",
    "    barmode=\"stack\",\n",
    "    yaxis={\"title\": \"Monster Count\"},\n",
    "    xaxis={'title': feature}\n",
    ")\n",
    "\n",
    "figure = go.Figure(data, layout)\n",
    "\n",
    "figure.show()"
   ],
   "execution_count": 40,
   "outputs": [
    {
     "data": {
      "application/vnd.plotly.v1+json": {
       "data": [
        {
         "name": "Rank 0",
         "x": [
          1,
          2,
          3,
          4,
          5,
          6,
          7,
          8,
          9,
          10,
          11,
          12,
          13,
          14,
          15,
          16,
          17,
          18,
          19,
          20
         ],
         "y": [
          3,
          29,
          27,
          19,
          18,
          21,
          36,
          28,
          16,
          19,
          19,
          15,
          17,
          5,
          8,
          4,
          5,
          4,
          1,
          0
         ],
         "type": "bar"
        },
        {
         "name": "Rank 1",
         "x": [
          1,
          2,
          3,
          4,
          5,
          6,
          7,
          8,
          9,
          10,
          11,
          12,
          13,
          14,
          15,
          16,
          17,
          18,
          19,
          20
         ],
         "y": [
          10,
          19,
          23,
          20,
          25,
          22,
          21,
          11,
          19,
          15,
          12,
          8,
          15,
          14,
          11,
          5,
          5,
          4,
          1,
          0
         ],
         "type": "bar"
        },
        {
         "name": "Rank 2",
         "x": [
          1,
          2,
          3,
          4,
          5,
          6,
          7,
          8,
          9,
          10,
          11,
          12,
          13,
          14,
          15,
          16,
          17,
          18,
          19,
          20
         ],
         "y": [
          6,
          15,
          12,
          22,
          11,
          12,
          8,
          18,
          15,
          15,
          10,
          11,
          7,
          2,
          6,
          5,
          3,
          5,
          4,
          0
         ],
         "type": "bar"
        },
        {
         "name": "Rank 3",
         "x": [
          1,
          2,
          3,
          4,
          5,
          6,
          7,
          8,
          9,
          10,
          11,
          12,
          13,
          14,
          15,
          16,
          17,
          18,
          19,
          20
         ],
         "y": [
          5,
          9,
          18,
          9,
          14,
          15,
          15,
          11,
          10,
          8,
          7,
          8,
          7,
          8,
          7,
          5,
          2,
          1,
          0,
          1
         ],
         "type": "bar"
        },
        {
         "name": "Rank 4",
         "x": [
          1,
          2,
          3,
          4,
          5,
          6,
          7,
          8,
          9,
          10,
          11,
          12,
          13,
          14,
          15,
          16,
          17,
          18,
          19,
          20
         ],
         "y": [
          5,
          8,
          10,
          2,
          7,
          15,
          10,
          4,
          7,
          8,
          7,
          5,
          4,
          1,
          2,
          4,
          2,
          1,
          0,
          1
         ],
         "type": "bar"
        },
        {
         "name": "Rank 5",
         "x": [
          1,
          2,
          3,
          4,
          5,
          6,
          7,
          8,
          9,
          10,
          11,
          12,
          13,
          14,
          15,
          16,
          17,
          18,
          19,
          20
         ],
         "y": [
          0,
          1,
          3,
          2,
          3,
          3,
          0,
          1,
          0,
          2,
          1,
          0,
          1,
          1,
          1,
          0,
          1,
          0,
          0,
          1
         ],
         "type": "bar"
        }
       ],
       "layout": {
        "barmode": "stack",
        "colorway": [
         "rgb(133, 92, 117)",
         "rgb(217, 175, 107)",
         "rgb(175, 100, 88)",
         "rgb(115, 111, 76)",
         "rgb(82, 106, 131)",
         "rgb(98, 83, 119)",
         "rgb(104, 133, 92)",
         "rgb(156, 156, 94)",
         "rgb(160, 97, 119)",
         "rgb(140, 120, 93)",
         "rgb(124, 124, 124)"
        ],
        "height": 600,
        "title": {
         "text": "Rarity by Level"
        },
        "width": 810,
        "xaxis": {
         "title": {
          "text": "Level"
         }
        },
        "yaxis": {
         "title": {
          "text": "Monster Count"
         }
        },
        "template": {
         "data": {
          "bar": [
           {
            "error_x": {
             "color": "#2a3f5f"
            },
            "error_y": {
             "color": "#2a3f5f"
            },
            "marker": {
             "line": {
              "color": "#E5ECF6",
              "width": 0.5
             },
             "pattern": {
              "fillmode": "overlay",
              "size": 10,
              "solidity": 0.2
             }
            },
            "type": "bar"
           }
          ],
          "barpolar": [
           {
            "marker": {
             "line": {
              "color": "#E5ECF6",
              "width": 0.5
             },
             "pattern": {
              "fillmode": "overlay",
              "size": 10,
              "solidity": 0.2
             }
            },
            "type": "barpolar"
           }
          ],
          "carpet": [
           {
            "aaxis": {
             "endlinecolor": "#2a3f5f",
             "gridcolor": "white",
             "linecolor": "white",
             "minorgridcolor": "white",
             "startlinecolor": "#2a3f5f"
            },
            "baxis": {
             "endlinecolor": "#2a3f5f",
             "gridcolor": "white",
             "linecolor": "white",
             "minorgridcolor": "white",
             "startlinecolor": "#2a3f5f"
            },
            "type": "carpet"
           }
          ],
          "choropleth": [
           {
            "colorbar": {
             "outlinewidth": 0,
             "ticks": ""
            },
            "type": "choropleth"
           }
          ],
          "contour": [
           {
            "colorbar": {
             "outlinewidth": 0,
             "ticks": ""
            },
            "colorscale": [
             [
              0.0,
              "#0d0887"
             ],
             [
              0.1111111111111111,
              "#46039f"
             ],
             [
              0.2222222222222222,
              "#7201a8"
             ],
             [
              0.3333333333333333,
              "#9c179e"
             ],
             [
              0.4444444444444444,
              "#bd3786"
             ],
             [
              0.5555555555555556,
              "#d8576b"
             ],
             [
              0.6666666666666666,
              "#ed7953"
             ],
             [
              0.7777777777777778,
              "#fb9f3a"
             ],
             [
              0.8888888888888888,
              "#fdca26"
             ],
             [
              1.0,
              "#f0f921"
             ]
            ],
            "type": "contour"
           }
          ],
          "contourcarpet": [
           {
            "colorbar": {
             "outlinewidth": 0,
             "ticks": ""
            },
            "type": "contourcarpet"
           }
          ],
          "heatmap": [
           {
            "colorbar": {
             "outlinewidth": 0,
             "ticks": ""
            },
            "colorscale": [
             [
              0.0,
              "#0d0887"
             ],
             [
              0.1111111111111111,
              "#46039f"
             ],
             [
              0.2222222222222222,
              "#7201a8"
             ],
             [
              0.3333333333333333,
              "#9c179e"
             ],
             [
              0.4444444444444444,
              "#bd3786"
             ],
             [
              0.5555555555555556,
              "#d8576b"
             ],
             [
              0.6666666666666666,
              "#ed7953"
             ],
             [
              0.7777777777777778,
              "#fb9f3a"
             ],
             [
              0.8888888888888888,
              "#fdca26"
             ],
             [
              1.0,
              "#f0f921"
             ]
            ],
            "type": "heatmap"
           }
          ],
          "heatmapgl": [
           {
            "colorbar": {
             "outlinewidth": 0,
             "ticks": ""
            },
            "colorscale": [
             [
              0.0,
              "#0d0887"
             ],
             [
              0.1111111111111111,
              "#46039f"
             ],
             [
              0.2222222222222222,
              "#7201a8"
             ],
             [
              0.3333333333333333,
              "#9c179e"
             ],
             [
              0.4444444444444444,
              "#bd3786"
             ],
             [
              0.5555555555555556,
              "#d8576b"
             ],
             [
              0.6666666666666666,
              "#ed7953"
             ],
             [
              0.7777777777777778,
              "#fb9f3a"
             ],
             [
              0.8888888888888888,
              "#fdca26"
             ],
             [
              1.0,
              "#f0f921"
             ]
            ],
            "type": "heatmapgl"
           }
          ],
          "histogram": [
           {
            "marker": {
             "pattern": {
              "fillmode": "overlay",
              "size": 10,
              "solidity": 0.2
             }
            },
            "type": "histogram"
           }
          ],
          "histogram2d": [
           {
            "colorbar": {
             "outlinewidth": 0,
             "ticks": ""
            },
            "colorscale": [
             [
              0.0,
              "#0d0887"
             ],
             [
              0.1111111111111111,
              "#46039f"
             ],
             [
              0.2222222222222222,
              "#7201a8"
             ],
             [
              0.3333333333333333,
              "#9c179e"
             ],
             [
              0.4444444444444444,
              "#bd3786"
             ],
             [
              0.5555555555555556,
              "#d8576b"
             ],
             [
              0.6666666666666666,
              "#ed7953"
             ],
             [
              0.7777777777777778,
              "#fb9f3a"
             ],
             [
              0.8888888888888888,
              "#fdca26"
             ],
             [
              1.0,
              "#f0f921"
             ]
            ],
            "type": "histogram2d"
           }
          ],
          "histogram2dcontour": [
           {
            "colorbar": {
             "outlinewidth": 0,
             "ticks": ""
            },
            "colorscale": [
             [
              0.0,
              "#0d0887"
             ],
             [
              0.1111111111111111,
              "#46039f"
             ],
             [
              0.2222222222222222,
              "#7201a8"
             ],
             [
              0.3333333333333333,
              "#9c179e"
             ],
             [
              0.4444444444444444,
              "#bd3786"
             ],
             [
              0.5555555555555556,
              "#d8576b"
             ],
             [
              0.6666666666666666,
              "#ed7953"
             ],
             [
              0.7777777777777778,
              "#fb9f3a"
             ],
             [
              0.8888888888888888,
              "#fdca26"
             ],
             [
              1.0,
              "#f0f921"
             ]
            ],
            "type": "histogram2dcontour"
           }
          ],
          "mesh3d": [
           {
            "colorbar": {
             "outlinewidth": 0,
             "ticks": ""
            },
            "type": "mesh3d"
           }
          ],
          "parcoords": [
           {
            "line": {
             "colorbar": {
              "outlinewidth": 0,
              "ticks": ""
             }
            },
            "type": "parcoords"
           }
          ],
          "pie": [
           {
            "automargin": true,
            "type": "pie"
           }
          ],
          "scatter": [
           {
            "marker": {
             "colorbar": {
              "outlinewidth": 0,
              "ticks": ""
             }
            },
            "type": "scatter"
           }
          ],
          "scatter3d": [
           {
            "line": {
             "colorbar": {
              "outlinewidth": 0,
              "ticks": ""
             }
            },
            "marker": {
             "colorbar": {
              "outlinewidth": 0,
              "ticks": ""
             }
            },
            "type": "scatter3d"
           }
          ],
          "scattercarpet": [
           {
            "marker": {
             "colorbar": {
              "outlinewidth": 0,
              "ticks": ""
             }
            },
            "type": "scattercarpet"
           }
          ],
          "scattergeo": [
           {
            "marker": {
             "colorbar": {
              "outlinewidth": 0,
              "ticks": ""
             }
            },
            "type": "scattergeo"
           }
          ],
          "scattergl": [
           {
            "marker": {
             "colorbar": {
              "outlinewidth": 0,
              "ticks": ""
             }
            },
            "type": "scattergl"
           }
          ],
          "scattermapbox": [
           {
            "marker": {
             "colorbar": {
              "outlinewidth": 0,
              "ticks": ""
             }
            },
            "type": "scattermapbox"
           }
          ],
          "scatterpolar": [
           {
            "marker": {
             "colorbar": {
              "outlinewidth": 0,
              "ticks": ""
             }
            },
            "type": "scatterpolar"
           }
          ],
          "scatterpolargl": [
           {
            "marker": {
             "colorbar": {
              "outlinewidth": 0,
              "ticks": ""
             }
            },
            "type": "scatterpolargl"
           }
          ],
          "scatterternary": [
           {
            "marker": {
             "colorbar": {
              "outlinewidth": 0,
              "ticks": ""
             }
            },
            "type": "scatterternary"
           }
          ],
          "surface": [
           {
            "colorbar": {
             "outlinewidth": 0,
             "ticks": ""
            },
            "colorscale": [
             [
              0.0,
              "#0d0887"
             ],
             [
              0.1111111111111111,
              "#46039f"
             ],
             [
              0.2222222222222222,
              "#7201a8"
             ],
             [
              0.3333333333333333,
              "#9c179e"
             ],
             [
              0.4444444444444444,
              "#bd3786"
             ],
             [
              0.5555555555555556,
              "#d8576b"
             ],
             [
              0.6666666666666666,
              "#ed7953"
             ],
             [
              0.7777777777777778,
              "#fb9f3a"
             ],
             [
              0.8888888888888888,
              "#fdca26"
             ],
             [
              1.0,
              "#f0f921"
             ]
            ],
            "type": "surface"
           }
          ],
          "table": [
           {
            "cells": {
             "fill": {
              "color": "#EBF0F8"
             },
             "line": {
              "color": "white"
             }
            },
            "header": {
             "fill": {
              "color": "#C8D4E3"
             },
             "line": {
              "color": "white"
             }
            },
            "type": "table"
           }
          ]
         },
         "layout": {
          "annotationdefaults": {
           "arrowcolor": "#2a3f5f",
           "arrowhead": 0,
           "arrowwidth": 1
          },
          "autotypenumbers": "strict",
          "coloraxis": {
           "colorbar": {
            "outlinewidth": 0,
            "ticks": ""
           }
          },
          "colorscale": {
           "diverging": [
            [
             0,
             "#8e0152"
            ],
            [
             0.1,
             "#c51b7d"
            ],
            [
             0.2,
             "#de77ae"
            ],
            [
             0.3,
             "#f1b6da"
            ],
            [
             0.4,
             "#fde0ef"
            ],
            [
             0.5,
             "#f7f7f7"
            ],
            [
             0.6,
             "#e6f5d0"
            ],
            [
             0.7,
             "#b8e186"
            ],
            [
             0.8,
             "#7fbc41"
            ],
            [
             0.9,
             "#4d9221"
            ],
            [
             1,
             "#276419"
            ]
           ],
           "sequential": [
            [
             0.0,
             "#0d0887"
            ],
            [
             0.1111111111111111,
             "#46039f"
            ],
            [
             0.2222222222222222,
             "#7201a8"
            ],
            [
             0.3333333333333333,
             "#9c179e"
            ],
            [
             0.4444444444444444,
             "#bd3786"
            ],
            [
             0.5555555555555556,
             "#d8576b"
            ],
            [
             0.6666666666666666,
             "#ed7953"
            ],
            [
             0.7777777777777778,
             "#fb9f3a"
            ],
            [
             0.8888888888888888,
             "#fdca26"
            ],
            [
             1.0,
             "#f0f921"
            ]
           ],
           "sequentialminus": [
            [
             0.0,
             "#0d0887"
            ],
            [
             0.1111111111111111,
             "#46039f"
            ],
            [
             0.2222222222222222,
             "#7201a8"
            ],
            [
             0.3333333333333333,
             "#9c179e"
            ],
            [
             0.4444444444444444,
             "#bd3786"
            ],
            [
             0.5555555555555556,
             "#d8576b"
            ],
            [
             0.6666666666666666,
             "#ed7953"
            ],
            [
             0.7777777777777778,
             "#fb9f3a"
            ],
            [
             0.8888888888888888,
             "#fdca26"
            ],
            [
             1.0,
             "#f0f921"
            ]
           ]
          },
          "colorway": [
           "#636efa",
           "#EF553B",
           "#00cc96",
           "#ab63fa",
           "#FFA15A",
           "#19d3f3",
           "#FF6692",
           "#B6E880",
           "#FF97FF",
           "#FECB52"
          ],
          "font": {
           "color": "#2a3f5f"
          },
          "geo": {
           "bgcolor": "white",
           "lakecolor": "white",
           "landcolor": "#E5ECF6",
           "showlakes": true,
           "showland": true,
           "subunitcolor": "white"
          },
          "hoverlabel": {
           "align": "left"
          },
          "hovermode": "closest",
          "mapbox": {
           "style": "light"
          },
          "paper_bgcolor": "white",
          "plot_bgcolor": "#E5ECF6",
          "polar": {
           "angularaxis": {
            "gridcolor": "white",
            "linecolor": "white",
            "ticks": ""
           },
           "bgcolor": "#E5ECF6",
           "radialaxis": {
            "gridcolor": "white",
            "linecolor": "white",
            "ticks": ""
           }
          },
          "scene": {
           "xaxis": {
            "backgroundcolor": "#E5ECF6",
            "gridcolor": "white",
            "gridwidth": 2,
            "linecolor": "white",
            "showbackground": true,
            "ticks": "",
            "zerolinecolor": "white"
           },
           "yaxis": {
            "backgroundcolor": "#E5ECF6",
            "gridcolor": "white",
            "gridwidth": 2,
            "linecolor": "white",
            "showbackground": true,
            "ticks": "",
            "zerolinecolor": "white"
           },
           "zaxis": {
            "backgroundcolor": "#E5ECF6",
            "gridcolor": "white",
            "gridwidth": 2,
            "linecolor": "white",
            "showbackground": true,
            "ticks": "",
            "zerolinecolor": "white"
           }
          },
          "shapedefaults": {
           "line": {
            "color": "#2a3f5f"
           }
          },
          "ternary": {
           "aaxis": {
            "gridcolor": "white",
            "linecolor": "white",
            "ticks": ""
           },
           "baxis": {
            "gridcolor": "white",
            "linecolor": "white",
            "ticks": ""
           },
           "bgcolor": "#E5ECF6",
           "caxis": {
            "gridcolor": "white",
            "linecolor": "white",
            "ticks": ""
           }
          },
          "title": {
           "x": 0.05
          },
          "xaxis": {
           "automargin": true,
           "gridcolor": "white",
           "linecolor": "white",
           "ticks": "",
           "title": {
            "standoff": 15
           },
           "zerolinecolor": "white",
           "zerolinewidth": 2
          },
          "yaxis": {
           "automargin": true,
           "gridcolor": "white",
           "linecolor": "white",
           "ticks": "",
           "title": {
            "standoff": 15
           },
           "zerolinecolor": "white",
           "zerolinewidth": 2
          }
         }
        }
       },
       "config": {
        "plotlyServerURL": "https://plot.ly"
       }
      },
      "text/html": "<div>                            <div id=\"07711672-7b81-4eaf-94c5-0fe5896992bd\" class=\"plotly-graph-div\" style=\"height:600px; width:810px;\"></div>            <script type=\"text/javascript\">                require([\"plotly\"], function(Plotly) {                    window.PLOTLYENV=window.PLOTLYENV || {};                                    if (document.getElementById(\"07711672-7b81-4eaf-94c5-0fe5896992bd\")) {                    Plotly.newPlot(                        \"07711672-7b81-4eaf-94c5-0fe5896992bd\",                        [{\"name\":\"Rank 0\",\"x\":[1,2,3,4,5,6,7,8,9,10,11,12,13,14,15,16,17,18,19,20],\"y\":[3,29,27,19,18,21,36,28,16,19,19,15,17,5,8,4,5,4,1,0],\"type\":\"bar\"},{\"name\":\"Rank 1\",\"x\":[1,2,3,4,5,6,7,8,9,10,11,12,13,14,15,16,17,18,19,20],\"y\":[10,19,23,20,25,22,21,11,19,15,12,8,15,14,11,5,5,4,1,0],\"type\":\"bar\"},{\"name\":\"Rank 2\",\"x\":[1,2,3,4,5,6,7,8,9,10,11,12,13,14,15,16,17,18,19,20],\"y\":[6,15,12,22,11,12,8,18,15,15,10,11,7,2,6,5,3,5,4,0],\"type\":\"bar\"},{\"name\":\"Rank 3\",\"x\":[1,2,3,4,5,6,7,8,9,10,11,12,13,14,15,16,17,18,19,20],\"y\":[5,9,18,9,14,15,15,11,10,8,7,8,7,8,7,5,2,1,0,1],\"type\":\"bar\"},{\"name\":\"Rank 4\",\"x\":[1,2,3,4,5,6,7,8,9,10,11,12,13,14,15,16,17,18,19,20],\"y\":[5,8,10,2,7,15,10,4,7,8,7,5,4,1,2,4,2,1,0,1],\"type\":\"bar\"},{\"name\":\"Rank 5\",\"x\":[1,2,3,4,5,6,7,8,9,10,11,12,13,14,15,16,17,18,19,20],\"y\":[0,1,3,2,3,3,0,1,0,2,1,0,1,1,1,0,1,0,0,1],\"type\":\"bar\"}],                        {\"barmode\":\"stack\",\"colorway\":[\"rgb(133, 92, 117)\",\"rgb(217, 175, 107)\",\"rgb(175, 100, 88)\",\"rgb(115, 111, 76)\",\"rgb(82, 106, 131)\",\"rgb(98, 83, 119)\",\"rgb(104, 133, 92)\",\"rgb(156, 156, 94)\",\"rgb(160, 97, 119)\",\"rgb(140, 120, 93)\",\"rgb(124, 124, 124)\"],\"height\":600,\"title\":{\"text\":\"Rarity by Level\"},\"width\":810,\"xaxis\":{\"title\":{\"text\":\"Level\"}},\"yaxis\":{\"title\":{\"text\":\"Monster Count\"}},\"template\":{\"data\":{\"bar\":[{\"error_x\":{\"color\":\"#2a3f5f\"},\"error_y\":{\"color\":\"#2a3f5f\"},\"marker\":{\"line\":{\"color\":\"#E5ECF6\",\"width\":0.5},\"pattern\":{\"fillmode\":\"overlay\",\"size\":10,\"solidity\":0.2}},\"type\":\"bar\"}],\"barpolar\":[{\"marker\":{\"line\":{\"color\":\"#E5ECF6\",\"width\":0.5},\"pattern\":{\"fillmode\":\"overlay\",\"size\":10,\"solidity\":0.2}},\"type\":\"barpolar\"}],\"carpet\":[{\"aaxis\":{\"endlinecolor\":\"#2a3f5f\",\"gridcolor\":\"white\",\"linecolor\":\"white\",\"minorgridcolor\":\"white\",\"startlinecolor\":\"#2a3f5f\"},\"baxis\":{\"endlinecolor\":\"#2a3f5f\",\"gridcolor\":\"white\",\"linecolor\":\"white\",\"minorgridcolor\":\"white\",\"startlinecolor\":\"#2a3f5f\"},\"type\":\"carpet\"}],\"choropleth\":[{\"colorbar\":{\"outlinewidth\":0,\"ticks\":\"\"},\"type\":\"choropleth\"}],\"contour\":[{\"colorbar\":{\"outlinewidth\":0,\"ticks\":\"\"},\"colorscale\":[[0.0,\"#0d0887\"],[0.1111111111111111,\"#46039f\"],[0.2222222222222222,\"#7201a8\"],[0.3333333333333333,\"#9c179e\"],[0.4444444444444444,\"#bd3786\"],[0.5555555555555556,\"#d8576b\"],[0.6666666666666666,\"#ed7953\"],[0.7777777777777778,\"#fb9f3a\"],[0.8888888888888888,\"#fdca26\"],[1.0,\"#f0f921\"]],\"type\":\"contour\"}],\"contourcarpet\":[{\"colorbar\":{\"outlinewidth\":0,\"ticks\":\"\"},\"type\":\"contourcarpet\"}],\"heatmap\":[{\"colorbar\":{\"outlinewidth\":0,\"ticks\":\"\"},\"colorscale\":[[0.0,\"#0d0887\"],[0.1111111111111111,\"#46039f\"],[0.2222222222222222,\"#7201a8\"],[0.3333333333333333,\"#9c179e\"],[0.4444444444444444,\"#bd3786\"],[0.5555555555555556,\"#d8576b\"],[0.6666666666666666,\"#ed7953\"],[0.7777777777777778,\"#fb9f3a\"],[0.8888888888888888,\"#fdca26\"],[1.0,\"#f0f921\"]],\"type\":\"heatmap\"}],\"heatmapgl\":[{\"colorbar\":{\"outlinewidth\":0,\"ticks\":\"\"},\"colorscale\":[[0.0,\"#0d0887\"],[0.1111111111111111,\"#46039f\"],[0.2222222222222222,\"#7201a8\"],[0.3333333333333333,\"#9c179e\"],[0.4444444444444444,\"#bd3786\"],[0.5555555555555556,\"#d8576b\"],[0.6666666666666666,\"#ed7953\"],[0.7777777777777778,\"#fb9f3a\"],[0.8888888888888888,\"#fdca26\"],[1.0,\"#f0f921\"]],\"type\":\"heatmapgl\"}],\"histogram\":[{\"marker\":{\"pattern\":{\"fillmode\":\"overlay\",\"size\":10,\"solidity\":0.2}},\"type\":\"histogram\"}],\"histogram2d\":[{\"colorbar\":{\"outlinewidth\":0,\"ticks\":\"\"},\"colorscale\":[[0.0,\"#0d0887\"],[0.1111111111111111,\"#46039f\"],[0.2222222222222222,\"#7201a8\"],[0.3333333333333333,\"#9c179e\"],[0.4444444444444444,\"#bd3786\"],[0.5555555555555556,\"#d8576b\"],[0.6666666666666666,\"#ed7953\"],[0.7777777777777778,\"#fb9f3a\"],[0.8888888888888888,\"#fdca26\"],[1.0,\"#f0f921\"]],\"type\":\"histogram2d\"}],\"histogram2dcontour\":[{\"colorbar\":{\"outlinewidth\":0,\"ticks\":\"\"},\"colorscale\":[[0.0,\"#0d0887\"],[0.1111111111111111,\"#46039f\"],[0.2222222222222222,\"#7201a8\"],[0.3333333333333333,\"#9c179e\"],[0.4444444444444444,\"#bd3786\"],[0.5555555555555556,\"#d8576b\"],[0.6666666666666666,\"#ed7953\"],[0.7777777777777778,\"#fb9f3a\"],[0.8888888888888888,\"#fdca26\"],[1.0,\"#f0f921\"]],\"type\":\"histogram2dcontour\"}],\"mesh3d\":[{\"colorbar\":{\"outlinewidth\":0,\"ticks\":\"\"},\"type\":\"mesh3d\"}],\"parcoords\":[{\"line\":{\"colorbar\":{\"outlinewidth\":0,\"ticks\":\"\"}},\"type\":\"parcoords\"}],\"pie\":[{\"automargin\":true,\"type\":\"pie\"}],\"scatter\":[{\"marker\":{\"colorbar\":{\"outlinewidth\":0,\"ticks\":\"\"}},\"type\":\"scatter\"}],\"scatter3d\":[{\"line\":{\"colorbar\":{\"outlinewidth\":0,\"ticks\":\"\"}},\"marker\":{\"colorbar\":{\"outlinewidth\":0,\"ticks\":\"\"}},\"type\":\"scatter3d\"}],\"scattercarpet\":[{\"marker\":{\"colorbar\":{\"outlinewidth\":0,\"ticks\":\"\"}},\"type\":\"scattercarpet\"}],\"scattergeo\":[{\"marker\":{\"colorbar\":{\"outlinewidth\":0,\"ticks\":\"\"}},\"type\":\"scattergeo\"}],\"scattergl\":[{\"marker\":{\"colorbar\":{\"outlinewidth\":0,\"ticks\":\"\"}},\"type\":\"scattergl\"}],\"scattermapbox\":[{\"marker\":{\"colorbar\":{\"outlinewidth\":0,\"ticks\":\"\"}},\"type\":\"scattermapbox\"}],\"scatterpolar\":[{\"marker\":{\"colorbar\":{\"outlinewidth\":0,\"ticks\":\"\"}},\"type\":\"scatterpolar\"}],\"scatterpolargl\":[{\"marker\":{\"colorbar\":{\"outlinewidth\":0,\"ticks\":\"\"}},\"type\":\"scatterpolargl\"}],\"scatterternary\":[{\"marker\":{\"colorbar\":{\"outlinewidth\":0,\"ticks\":\"\"}},\"type\":\"scatterternary\"}],\"surface\":[{\"colorbar\":{\"outlinewidth\":0,\"ticks\":\"\"},\"colorscale\":[[0.0,\"#0d0887\"],[0.1111111111111111,\"#46039f\"],[0.2222222222222222,\"#7201a8\"],[0.3333333333333333,\"#9c179e\"],[0.4444444444444444,\"#bd3786\"],[0.5555555555555556,\"#d8576b\"],[0.6666666666666666,\"#ed7953\"],[0.7777777777777778,\"#fb9f3a\"],[0.8888888888888888,\"#fdca26\"],[1.0,\"#f0f921\"]],\"type\":\"surface\"}],\"table\":[{\"cells\":{\"fill\":{\"color\":\"#EBF0F8\"},\"line\":{\"color\":\"white\"}},\"header\":{\"fill\":{\"color\":\"#C8D4E3\"},\"line\":{\"color\":\"white\"}},\"type\":\"table\"}]},\"layout\":{\"annotationdefaults\":{\"arrowcolor\":\"#2a3f5f\",\"arrowhead\":0,\"arrowwidth\":1},\"autotypenumbers\":\"strict\",\"coloraxis\":{\"colorbar\":{\"outlinewidth\":0,\"ticks\":\"\"}},\"colorscale\":{\"diverging\":[[0,\"#8e0152\"],[0.1,\"#c51b7d\"],[0.2,\"#de77ae\"],[0.3,\"#f1b6da\"],[0.4,\"#fde0ef\"],[0.5,\"#f7f7f7\"],[0.6,\"#e6f5d0\"],[0.7,\"#b8e186\"],[0.8,\"#7fbc41\"],[0.9,\"#4d9221\"],[1,\"#276419\"]],\"sequential\":[[0.0,\"#0d0887\"],[0.1111111111111111,\"#46039f\"],[0.2222222222222222,\"#7201a8\"],[0.3333333333333333,\"#9c179e\"],[0.4444444444444444,\"#bd3786\"],[0.5555555555555556,\"#d8576b\"],[0.6666666666666666,\"#ed7953\"],[0.7777777777777778,\"#fb9f3a\"],[0.8888888888888888,\"#fdca26\"],[1.0,\"#f0f921\"]],\"sequentialminus\":[[0.0,\"#0d0887\"],[0.1111111111111111,\"#46039f\"],[0.2222222222222222,\"#7201a8\"],[0.3333333333333333,\"#9c179e\"],[0.4444444444444444,\"#bd3786\"],[0.5555555555555556,\"#d8576b\"],[0.6666666666666666,\"#ed7953\"],[0.7777777777777778,\"#fb9f3a\"],[0.8888888888888888,\"#fdca26\"],[1.0,\"#f0f921\"]]},\"colorway\":[\"#636efa\",\"#EF553B\",\"#00cc96\",\"#ab63fa\",\"#FFA15A\",\"#19d3f3\",\"#FF6692\",\"#B6E880\",\"#FF97FF\",\"#FECB52\"],\"font\":{\"color\":\"#2a3f5f\"},\"geo\":{\"bgcolor\":\"white\",\"lakecolor\":\"white\",\"landcolor\":\"#E5ECF6\",\"showlakes\":true,\"showland\":true,\"subunitcolor\":\"white\"},\"hoverlabel\":{\"align\":\"left\"},\"hovermode\":\"closest\",\"mapbox\":{\"style\":\"light\"},\"paper_bgcolor\":\"white\",\"plot_bgcolor\":\"#E5ECF6\",\"polar\":{\"angularaxis\":{\"gridcolor\":\"white\",\"linecolor\":\"white\",\"ticks\":\"\"},\"bgcolor\":\"#E5ECF6\",\"radialaxis\":{\"gridcolor\":\"white\",\"linecolor\":\"white\",\"ticks\":\"\"}},\"scene\":{\"xaxis\":{\"backgroundcolor\":\"#E5ECF6\",\"gridcolor\":\"white\",\"gridwidth\":2,\"linecolor\":\"white\",\"showbackground\":true,\"ticks\":\"\",\"zerolinecolor\":\"white\"},\"yaxis\":{\"backgroundcolor\":\"#E5ECF6\",\"gridcolor\":\"white\",\"gridwidth\":2,\"linecolor\":\"white\",\"showbackground\":true,\"ticks\":\"\",\"zerolinecolor\":\"white\"},\"zaxis\":{\"backgroundcolor\":\"#E5ECF6\",\"gridcolor\":\"white\",\"gridwidth\":2,\"linecolor\":\"white\",\"showbackground\":true,\"ticks\":\"\",\"zerolinecolor\":\"white\"}},\"shapedefaults\":{\"line\":{\"color\":\"#2a3f5f\"}},\"ternary\":{\"aaxis\":{\"gridcolor\":\"white\",\"linecolor\":\"white\",\"ticks\":\"\"},\"baxis\":{\"gridcolor\":\"white\",\"linecolor\":\"white\",\"ticks\":\"\"},\"bgcolor\":\"#E5ECF6\",\"caxis\":{\"gridcolor\":\"white\",\"linecolor\":\"white\",\"ticks\":\"\"}},\"title\":{\"x\":0.05},\"xaxis\":{\"automargin\":true,\"gridcolor\":\"white\",\"linecolor\":\"white\",\"ticks\":\"\",\"title\":{\"standoff\":15},\"zerolinecolor\":\"white\",\"zerolinewidth\":2},\"yaxis\":{\"automargin\":true,\"gridcolor\":\"white\",\"linecolor\":\"white\",\"ticks\":\"\",\"title\":{\"standoff\":15},\"zerolinecolor\":\"white\",\"zerolinewidth\":2}}}},                        {\"responsive\": true}                    ).then(function(){\n                            \nvar gd = document.getElementById('07711672-7b81-4eaf-94c5-0fe5896992bd');\nvar x = new MutationObserver(function (mutations, observer) {{\n        var display = window.getComputedStyle(gd).display;\n        if (!display || display === 'none') {{\n            console.log([gd, 'removed!']);\n            Plotly.purge(gd);\n            observer.disconnect();\n        }}\n}});\n\n// Listen for the removal of the full notebook cells\nvar notebookContainer = gd.closest('#notebook-container');\nif (notebookContainer) {{\n    x.observe(notebookContainer, {childList: true});\n}}\n\n// Listen for the clearing of the current output cell\nvar outputEl = gd.closest('.output');\nif (outputEl) {{\n    x.observe(outputEl, {childList: true});\n}}\n\n                        })                };                });            </script>        </div>"
     },
     "metadata": {},
     "output_type": "display_data"
    }
   ]
  },
  {
   "cell_type": "markdown",
   "metadata": {
    "id": "WpkvjMEHWatK"
   },
   "source": [
    "## Altair"
   ]
  },
  {
   "cell_type": "code",
   "metadata": {
    "id": "5siSHE99PEce"
   },
   "source": [
    "import altair as alt"
   ],
   "execution_count": 41,
   "outputs": []
  },
  {
   "cell_type": "code",
   "metadata": {
    "id": "-9OJtYQmAazM"
   },
   "source": [
    "x_axis = \"Health\"  # [\"Energy\", \"Sanity\", \"Health\"]\n",
    "y_axis = \"Energy\"  # [\"Energy\", \"Sanity\", \"Health\"]\n",
    "target = \"Rarity\"  # [\"Rarity\", \"Level\", \"Type\"]\n",
    "rarity = \"All\"     # [\"All\", \"Rank 0\", ... \"Rank 5\"]\n",
    "\n",
    "monsters = db.get_df().drop(columns=['_id'])\n",
    "\n",
    "if rarity != \"All\":\n",
    "    monsters = monsters[monsters['Rarity'] == rarity]\n",
    "\n",
    "graph = alt.Chart(\n",
    "    monsters,\n",
    "    title=f\"{rarity} Monsters\",\n",
    ").mark_circle(size=100).encode(\n",
    "    x=alt.X(\n",
    "        x_axis,\n",
    "        axis=alt.Axis(title=x_axis),\n",
    "    ),\n",
    "    y=alt.Y(\n",
    "        y_axis,\n",
    "        axis=alt.Axis(title=y_axis),\n",
    "    ),\n",
    "    color=target,\n",
    "    tooltip=alt.Tooltip(list(monsters.columns)),\n",
    ").properties(\n",
    "    height=500,\n",
    "    width=500,\n",
    ")\n",
    "\n",
    "graph"
   ],
   "execution_count": 42,
   "outputs": [
    {
     "data": {
      "text/html": "\n<div id=\"altair-viz-0c4f403d4bdc493fbd4339f48d8d478a\"></div>\n<script type=\"text/javascript\">\n  (function(spec, embedOpt){\n    let outputDiv = document.currentScript.previousElementSibling;\n    if (outputDiv.id !== \"altair-viz-0c4f403d4bdc493fbd4339f48d8d478a\") {\n      outputDiv = document.getElementById(\"altair-viz-0c4f403d4bdc493fbd4339f48d8d478a\");\n    }\n    const paths = {\n      \"vega\": \"https://cdn.jsdelivr.net/npm//vega@5?noext\",\n      \"vega-lib\": \"https://cdn.jsdelivr.net/npm//vega-lib?noext\",\n      \"vega-lite\": \"https://cdn.jsdelivr.net/npm//vega-lite@4.8.1?noext\",\n      \"vega-embed\": \"https://cdn.jsdelivr.net/npm//vega-embed@6?noext\",\n    };\n\n    function loadScript(lib) {\n      return new Promise(function(resolve, reject) {\n        var s = document.createElement('script');\n        s.src = paths[lib];\n        s.async = true;\n        s.onload = () => resolve(paths[lib]);\n        s.onerror = () => reject(`Error loading script: ${paths[lib]}`);\n        document.getElementsByTagName(\"head\")[0].appendChild(s);\n      });\n    }\n\n    function showError(err) {\n      outputDiv.innerHTML = `<div class=\"error\" style=\"color:red;\">${err}</div>`;\n      throw err;\n    }\n\n    function displayChart(vegaEmbed) {\n      vegaEmbed(outputDiv, spec, embedOpt)\n        .catch(err => showError(`Javascript Error: ${err.message}<br>This usually means there's a typo in your chart specification. See the javascript console for the full traceback.`));\n    }\n\n    if(typeof define === \"function\" && define.amd) {\n      requirejs.config({paths});\n      require([\"vega-embed\"], displayChart, err => showError(`Error loading script: ${err.message}`));\n    } else if (typeof vegaEmbed === \"function\") {\n      displayChart(vegaEmbed);\n    } else {\n      loadScript(\"vega\")\n        .then(() => loadScript(\"vega-lite\"))\n        .then(() => loadScript(\"vega-embed\"))\n        .catch(showError)\n        .then(() => displayChart(vegaEmbed));\n    }\n  })({\"config\": {\"view\": {\"continuousWidth\": 400, \"continuousHeight\": 300}}, \"data\": {\"name\": \"data-30b8fff901ed66749f69a6fb68e3d960\"}, \"mark\": {\"type\": \"circle\", \"size\": 100}, \"encoding\": {\"color\": {\"type\": \"nominal\", \"field\": \"Rarity\"}, \"tooltip\": [{\"type\": \"nominal\", \"field\": \"Name\"}, {\"type\": \"nominal\", \"field\": \"Type\"}, {\"type\": \"quantitative\", \"field\": \"Level\"}, {\"type\": \"nominal\", \"field\": \"Rarity\"}, {\"type\": \"nominal\", \"field\": \"Damage\"}, {\"type\": \"quantitative\", \"field\": \"Health\"}, {\"type\": \"quantitative\", \"field\": \"Energy\"}, {\"type\": \"quantitative\", \"field\": \"Sanity\"}, {\"type\": \"nominal\", \"field\": \"Time Stamp\"}], \"x\": {\"type\": \"quantitative\", \"axis\": {\"title\": \"Health\"}, \"field\": \"Health\"}, \"y\": {\"type\": \"quantitative\", \"axis\": {\"title\": \"Energy\"}, \"field\": \"Energy\"}}, \"height\": 500, \"title\": \"All Monsters\", \"width\": 500, \"$schema\": \"https://vega.github.io/schema/vega-lite/v4.8.1.json\", \"datasets\": {\"data-30b8fff901ed66749f69a6fb68e3d960\": [{\"Name\": \"Bandersnatch\", \"Type\": \"Demonic\", \"Level\": 20, \"Rarity\": \"Rank 5\", \"Damage\": \"20d12+2\", \"Health\": 240.43, \"Energy\": 239.76, \"Sanity\": 240.13, \"Time Stamp\": \"2022-03-31 07:23:47\"}, {\"Name\": \"Hell Hound\", \"Type\": \"Demonic\", \"Level\": 6, \"Rarity\": \"Rank 4\", \"Damage\": \"6d10\", \"Health\": 57.97, \"Energy\": 60.36, \"Sanity\": 56.12, \"Time Stamp\": \"2022-03-31 07:23:55\"}, {\"Name\": \"Death Knight\", \"Type\": \"Undead\", \"Level\": 8, \"Rarity\": \"Rank 3\", \"Damage\": \"8d8+1\", \"Health\": 63.31, \"Energy\": 61.66, \"Sanity\": 63.9, \"Time Stamp\": \"2022-03-31 07:23:55\"}, {\"Name\": \"Dust Spirit\", \"Type\": \"Fey\", \"Level\": 4, \"Rarity\": \"Rank 0\", \"Damage\": \"4d2+3\", \"Health\": 7.73, \"Energy\": 8.1, \"Sanity\": 8.62, \"Time Stamp\": \"2022-03-31 07:23:55\"}, {\"Name\": \"Faerie Dragon\", \"Type\": \"Dragon\", \"Level\": 14, \"Rarity\": \"Rank 3\", \"Damage\": \"14d8+4\", \"Health\": 111.46, \"Energy\": 112.3, \"Sanity\": 110.41, \"Time Stamp\": \"2022-03-31 07:23:55\"}, {\"Name\": \"Ice Elemental\", \"Type\": \"Elemental\", \"Level\": 3, \"Rarity\": \"Rank 2\", \"Damage\": \"3d6+3\", \"Health\": 20.58, \"Energy\": 18.94, \"Sanity\": 18.22, \"Time Stamp\": \"2022-03-31 07:23:55\"}, {\"Name\": \"Platinum Archfey\", \"Type\": \"Fey\", \"Level\": 5, \"Rarity\": \"Rank 1\", \"Damage\": \"5d4+3\", \"Health\": 18.71, \"Energy\": 20.34, \"Sanity\": 20.89, \"Time Stamp\": \"2022-03-31 07:23:55\"}, {\"Name\": \"Diamond Dragon\", \"Type\": \"Dragon\", \"Level\": 11, \"Rarity\": \"Rank 2\", \"Damage\": \"11d6+2\", \"Health\": 64.1, \"Energy\": 64.12, \"Sanity\": 65.87, \"Time Stamp\": \"2022-03-31 07:23:55\"}, {\"Name\": \"Efreeti\", \"Type\": \"Elemental\", \"Level\": 8, \"Rarity\": \"Rank 4\", \"Damage\": \"8d10+3\", \"Health\": 80.36, \"Energy\": 82.28, \"Sanity\": 78.47, \"Time Stamp\": \"2022-03-31 07:23:55\"}, {\"Name\": \"Goblin Villager\", \"Type\": \"Devilkin\", \"Level\": 8, \"Rarity\": \"Rank 1\", \"Damage\": \"8d4+3\", \"Health\": 33.04, \"Energy\": 30.33, \"Sanity\": 33.6, \"Time Stamp\": \"2022-03-31 07:23:55\"}, {\"Name\": \"Emerald Dragon\", \"Type\": \"Dragon\", \"Level\": 12, \"Rarity\": \"Rank 0\", \"Damage\": \"12d2\", \"Health\": 24.01, \"Energy\": 24.32, \"Sanity\": 23.85, \"Time Stamp\": \"2022-03-31 07:23:55\"}, {\"Name\": \"Djinni\", \"Type\": \"Elemental\", \"Level\": 13, \"Rarity\": \"Rank 0\", \"Damage\": \"13d2+1\", \"Health\": 26.77, \"Energy\": 25.26, \"Sanity\": 25.07, \"Time Stamp\": \"2022-03-31 07:23:55\"}, {\"Name\": \"Steam Archfey\", \"Type\": \"Fey\", \"Level\": 8, \"Rarity\": \"Rank 0\", \"Damage\": \"8d2\", \"Health\": 15.57, \"Energy\": 16.85, \"Sanity\": 15.07, \"Time Stamp\": \"2022-03-31 07:23:55\"}, {\"Name\": \"Wyvern\", \"Type\": \"Dragon\", \"Level\": 2, \"Rarity\": \"Rank 4\", \"Damage\": \"2d10+3\", \"Health\": 18.07, \"Energy\": 18.08, \"Sanity\": 20.47, \"Time Stamp\": \"2022-03-31 07:23:55\"}, {\"Name\": \"Mud Devil\", \"Type\": \"Devilkin\", \"Level\": 14, \"Rarity\": \"Rank 5\", \"Damage\": \"14d12+4\", \"Health\": 171.19, \"Energy\": 166.36, \"Sanity\": 163.89, \"Time Stamp\": \"2022-03-31 07:23:55\"}, {\"Name\": \"White Archfey\", \"Type\": \"Fey\", \"Level\": 11, \"Rarity\": \"Rank 4\", \"Damage\": \"11d10\", \"Health\": 105.83, \"Energy\": 112.77, \"Sanity\": 113.76, \"Time Stamp\": \"2022-03-31 07:23:55\"}, {\"Name\": \"Lich King\", \"Type\": \"Undead\", \"Level\": 2, \"Rarity\": \"Rank 4\", \"Damage\": \"2d10\", \"Health\": 21.32, \"Energy\": 22.83, \"Sanity\": 17.58, \"Time Stamp\": \"2022-03-31 07:23:55\"}, {\"Name\": \"Pit Lord\", \"Type\": \"Devilkin\", \"Level\": 12, \"Rarity\": \"Rank 0\", \"Damage\": \"12d2\", \"Health\": 24.12, \"Energy\": 23.42, \"Sanity\": 24.62, \"Time Stamp\": \"2022-03-31 07:23:55\"}, {\"Name\": \"Ruby Demon\", \"Type\": \"Demonic\", \"Level\": 2, \"Rarity\": \"Rank 2\", \"Damage\": \"2d6\", \"Health\": 11.54, \"Energy\": 10.18, \"Sanity\": 14.01, \"Time Stamp\": \"2022-03-31 07:23:55\"}, {\"Name\": \"Mummy Lord\", \"Type\": \"Undead\", \"Level\": 11, \"Rarity\": \"Rank 1\", \"Damage\": \"11d4\", \"Health\": 43.76, \"Energy\": 44.02, \"Sanity\": 43.24, \"Time Stamp\": \"2022-03-31 07:23:55\"}, {\"Name\": \"Prince of Fear\", \"Type\": \"Devilkin\", \"Level\": 4, \"Rarity\": \"Rank 1\", \"Damage\": \"4d4\", \"Health\": 17.96, \"Energy\": 15.97, \"Sanity\": 14.57, \"Time Stamp\": \"2022-03-31 07:23:55\"}, {\"Name\": \"Smoke Archfey\", \"Type\": \"Fey\", \"Level\": 3, \"Rarity\": \"Rank 0\", \"Damage\": \"3d2+3\", \"Health\": 6.38, \"Energy\": 6.84, \"Sanity\": 6.35, \"Time Stamp\": \"2022-03-31 07:23:55\"}, {\"Name\": \"Pseudodragon\", \"Type\": \"Dragon\", \"Level\": 10, \"Rarity\": \"Rank 2\", \"Damage\": \"10d6\", \"Health\": 57.74, \"Energy\": 58.74, \"Sanity\": 58.11, \"Time Stamp\": \"2022-03-31 07:23:55\"}, {\"Name\": \"Djinni\", \"Type\": \"Elemental\", \"Level\": 8, \"Rarity\": \"Rank 1\", \"Damage\": \"8d4+1\", \"Health\": 30.47, \"Energy\": 31.7, \"Sanity\": 31.57, \"Time Stamp\": \"2022-03-31 07:23:55\"}, {\"Name\": \"Magma Spirit\", \"Type\": \"Fey\", \"Level\": 1, \"Rarity\": \"Rank 0\", \"Damage\": \"1d2+2\", \"Health\": 1.24, \"Energy\": 2.97, \"Sanity\": 1.03, \"Time Stamp\": \"2022-03-31 07:23:55\"}, {\"Name\": \"Hook Horror\", \"Type\": \"Demonic\", \"Level\": 13, \"Rarity\": \"Rank 0\", \"Damage\": \"13d2\", \"Health\": 26.92, \"Energy\": 26.15, \"Sanity\": 25.93, \"Time Stamp\": \"2022-03-31 07:23:55\"}, {\"Name\": \"Poltergeist\", \"Type\": \"Undead\", \"Level\": 3, \"Rarity\": \"Rank 3\", \"Damage\": \"3d8+2\", \"Health\": 23.87, \"Energy\": 23.98, \"Sanity\": 26.16, \"Time Stamp\": \"2022-03-31 07:23:55\"}, {\"Name\": \"Emerald Archfey\", \"Type\": \"Fey\", \"Level\": 17, \"Rarity\": \"Rank 1\", \"Damage\": \"17d4+1\", \"Health\": 67.19, \"Energy\": 66.53, \"Sanity\": 66.41, \"Time Stamp\": \"2022-03-31 07:23:55\"}, {\"Name\": \"Pseudodragon\", \"Type\": \"Dragon\", \"Level\": 5, \"Rarity\": \"Rank 0\", \"Damage\": \"5d2\", \"Health\": 9.87, \"Energy\": 9.99, \"Sanity\": 10.62, \"Time Stamp\": \"2022-03-31 07:23:55\"}, {\"Name\": \"Efreeti\", \"Type\": \"Elemental\", \"Level\": 5, \"Rarity\": \"Rank 3\", \"Damage\": \"5d8+1\", \"Health\": 40.41, \"Energy\": 40.62, \"Sanity\": 42.36, \"Time Stamp\": \"2022-03-31 07:23:55\"}, {\"Name\": \"Shadow Archfey\", \"Type\": \"Fey\", \"Level\": 13, \"Rarity\": \"Rank 0\", \"Damage\": \"13d2\", \"Health\": 26.85, \"Energy\": 25.05, \"Sanity\": 25.12, \"Time Stamp\": \"2022-03-31 07:23:55\"}, {\"Name\": \"Sapphire Dragon\", \"Type\": \"Dragon\", \"Level\": 7, \"Rarity\": \"Rank 1\", \"Damage\": \"7d4+3\", \"Health\": 27.18, \"Energy\": 27.44, \"Sanity\": 29.53, \"Time Stamp\": \"2022-03-31 07:23:55\"}, {\"Name\": \"Ice Elemental\", \"Type\": \"Elemental\", \"Level\": 11, \"Rarity\": \"Rank 2\", \"Damage\": \"11d6+3\", \"Health\": 67.26, \"Energy\": 67.1, \"Sanity\": 67.67, \"Time Stamp\": \"2022-03-31 07:23:55\"}, {\"Name\": \"Flame Spirit\", \"Type\": \"Fey\", \"Level\": 13, \"Rarity\": \"Rank 2\", \"Damage\": \"13d6+1\", \"Health\": 79.08, \"Energy\": 77.07, \"Sanity\": 78.23, \"Time Stamp\": \"2022-03-31 07:23:55\"}, {\"Name\": \"Faerie Dragon\", \"Type\": \"Dragon\", \"Level\": 2, \"Rarity\": \"Rank 0\", \"Damage\": \"2d2+2\", \"Health\": 3.21, \"Energy\": 4.15, \"Sanity\": 4.45, \"Time Stamp\": \"2022-03-31 07:23:55\"}, {\"Name\": \"Efreeti\", \"Type\": \"Elemental\", \"Level\": 7, \"Rarity\": \"Rank 2\", \"Damage\": \"7d6+2\", \"Health\": 43.06, \"Energy\": 44.71, \"Sanity\": 39.47, \"Time Stamp\": \"2022-03-31 07:23:55\"}, {\"Name\": \"Silver Faerie\", \"Type\": \"Fey\", \"Level\": 10, \"Rarity\": \"Rank 1\", \"Damage\": \"10d4\", \"Health\": 40.18, \"Energy\": 38.8, \"Sanity\": 40.75, \"Time Stamp\": \"2022-03-31 07:23:55\"}, {\"Name\": \"Emerald Drake\", \"Type\": \"Dragon\", \"Level\": 9, \"Rarity\": \"Rank 1\", \"Damage\": \"9d4\", \"Health\": 37.26, \"Energy\": 35.87, \"Sanity\": 36.41, \"Time Stamp\": \"2022-03-31 07:23:55\"}, {\"Name\": \"Dust Elemental\", \"Type\": \"Elemental\", \"Level\": 9, \"Rarity\": \"Rank 1\", \"Damage\": \"9d4+2\", \"Health\": 36.41, \"Energy\": 36.56, \"Sanity\": 34.32, \"Time Stamp\": \"2022-03-31 07:23:55\"}, {\"Name\": \"Sapphire Archfey\", \"Type\": \"Fey\", \"Level\": 4, \"Rarity\": \"Rank 1\", \"Damage\": \"4d4\", \"Health\": 14.31, \"Energy\": 15.63, \"Sanity\": 17.44, \"Time Stamp\": \"2022-03-31 07:23:55\"}, {\"Name\": \"Quasit\", \"Type\": \"Demonic\", \"Level\": 8, \"Rarity\": \"Rank 1\", \"Damage\": \"8d4\", \"Health\": 33.16, \"Energy\": 33.01, \"Sanity\": 32.04, \"Time Stamp\": \"2022-03-31 07:23:55\"}, {\"Name\": \"Demilich\", \"Type\": \"Undead\", \"Level\": 7, \"Rarity\": \"Rank 1\", \"Damage\": \"7d4+3\", \"Health\": 30.0, \"Energy\": 28.36, \"Sanity\": 28.27, \"Time Stamp\": \"2022-03-31 07:23:55\"}, {\"Name\": \"Lightning Elemental\", \"Type\": \"Elemental\", \"Level\": 7, \"Rarity\": \"Rank 1\", \"Damage\": \"7d4+1\", \"Health\": 26.73, \"Energy\": 28.55, \"Sanity\": 28.82, \"Time Stamp\": \"2022-03-31 07:23:55\"}, {\"Name\": \"Onyx Faerie\", \"Type\": \"Fey\", \"Level\": 2, \"Rarity\": \"Rank 0\", \"Damage\": \"2d2+2\", \"Health\": 4.28, \"Energy\": 3.37, \"Sanity\": 4.54, \"Time Stamp\": \"2022-03-31 07:23:55\"}, {\"Name\": \"Prismatic Drake\", \"Type\": \"Dragon\", \"Level\": 2, \"Rarity\": \"Rank 1\", \"Damage\": \"2d4+1\", \"Health\": 8.01, \"Energy\": 7.56, \"Sanity\": 7.86, \"Time Stamp\": \"2022-03-31 07:23:55\"}, {\"Name\": \"Djinni\", \"Type\": \"Elemental\", \"Level\": 4, \"Rarity\": \"Rank 1\", \"Damage\": \"4d4+2\", \"Health\": 14.98, \"Energy\": 15.42, \"Sanity\": 14.41, \"Time Stamp\": \"2022-03-31 07:23:55\"}, {\"Name\": \"Nightmare\", \"Type\": \"Demonic\", \"Level\": 3, \"Rarity\": \"Rank 0\", \"Damage\": \"3d2+1\", \"Health\": 5.61, \"Energy\": 6.18, \"Sanity\": 6.17, \"Time Stamp\": \"2022-03-31 07:23:55\"}, {\"Name\": \"Zombie Knight\", \"Type\": \"Undead\", \"Level\": 10, \"Rarity\": \"Rank 3\", \"Damage\": \"10d8+1\", \"Health\": 79.39, \"Energy\": 76.84, \"Sanity\": 79.62, \"Time Stamp\": \"2022-03-31 07:23:55\"}, {\"Name\": \"Pit Lord\", \"Type\": \"Devilkin\", \"Level\": 2, \"Rarity\": \"Rank 0\", \"Damage\": \"2d2+2\", \"Health\": 3.79, \"Energy\": 3.24, \"Sanity\": 3.29, \"Time Stamp\": \"2022-03-31 07:23:55\"}, {\"Name\": \"Wyvern\", \"Type\": \"Dragon\", \"Level\": 7, \"Rarity\": \"Rank 0\", \"Damage\": \"7d2+1\", \"Health\": 13.17, \"Energy\": 13.47, \"Sanity\": 14.58, \"Time Stamp\": \"2022-03-31 07:23:55\"}, {\"Name\": \"Ghostly Archer\", \"Type\": \"Undead\", \"Level\": 7, \"Rarity\": \"Rank 4\", \"Damage\": \"7d10+3\", \"Health\": 68.83, \"Energy\": 66.94, \"Sanity\": 68.24, \"Time Stamp\": \"2022-03-31 07:23:55\"}, {\"Name\": \"Succubus\", \"Type\": \"Devilkin\", \"Level\": 8, \"Rarity\": \"Rank 0\", \"Damage\": \"8d2+2\", \"Health\": 16.66, \"Energy\": 15.35, \"Sanity\": 16.35, \"Time Stamp\": \"2022-03-31 07:23:55\"}, {\"Name\": \"White Faerie\", \"Type\": \"Fey\", \"Level\": 15, \"Rarity\": \"Rank 2\", \"Damage\": \"15d6\", \"Health\": 87.11, \"Energy\": 92.76, \"Sanity\": 91.35, \"Time Stamp\": \"2022-03-31 07:23:55\"}, {\"Name\": \"Hell Hound\", \"Type\": \"Demonic\", \"Level\": 8, \"Rarity\": \"Rank 2\", \"Damage\": \"8d6+1\", \"Health\": 45.57, \"Energy\": 50.5, \"Sanity\": 48.65, \"Time Stamp\": \"2022-03-31 07:23:55\"}, {\"Name\": \"Wyvern\", \"Type\": \"Dragon\", \"Level\": 10, \"Rarity\": \"Rank 0\", \"Damage\": \"10d2\", \"Health\": 19.75, \"Energy\": 20.73, \"Sanity\": 19.53, \"Time Stamp\": \"2022-03-31 07:23:55\"}, {\"Name\": \"Smoke Mephit\", \"Type\": \"Elemental\", \"Level\": 9, \"Rarity\": \"Rank 1\", \"Damage\": \"9d4\", \"Health\": 36.98, \"Energy\": 36.93, \"Sanity\": 36.38, \"Time Stamp\": \"2022-03-31 07:23:55\"}, {\"Name\": \"Prince of Fear\", \"Type\": \"Devilkin\", \"Level\": 3, \"Rarity\": \"Rank 1\", \"Damage\": \"3d4+4\", \"Health\": 11.73, \"Energy\": 10.05, \"Sanity\": 13.04, \"Time Stamp\": \"2022-03-31 07:23:55\"}, {\"Name\": \"Hook Horror\", \"Type\": \"Demonic\", \"Level\": 4, \"Rarity\": \"Rank 3\", \"Damage\": \"4d8+1\", \"Health\": 35.99, \"Energy\": 33.88, \"Sanity\": 33.81, \"Time Stamp\": \"2022-03-31 07:23:55\"}, {\"Name\": \"Vampire\", \"Type\": \"Undead\", \"Level\": 10, \"Rarity\": \"Rank 1\", \"Damage\": \"10d4+3\", \"Health\": 39.92, \"Energy\": 38.75, \"Sanity\": 39.9, \"Time Stamp\": \"2022-03-31 07:23:55\"}, {\"Name\": \"Spore Mephit\", \"Type\": \"Elemental\", \"Level\": 5, \"Rarity\": \"Rank 4\", \"Damage\": \"5d10+4\", \"Health\": 51.89, \"Energy\": 51.21, \"Sanity\": 46.08, \"Time Stamp\": \"2022-03-31 07:23:55\"}, {\"Name\": \"Diamond Faerie\", \"Type\": \"Fey\", \"Level\": 8, \"Rarity\": \"Rank 2\", \"Damage\": \"8d6+1\", \"Health\": 49.59, \"Energy\": 49.08, \"Sanity\": 49.28, \"Time Stamp\": \"2022-03-31 07:23:55\"}, {\"Name\": \"Pseudodragon\", \"Type\": \"Dragon\", \"Level\": 8, \"Rarity\": \"Rank 2\", \"Damage\": \"8d6\", \"Health\": 45.63, \"Energy\": 46.8, \"Sanity\": 49.77, \"Time Stamp\": \"2022-03-31 07:23:55\"}, {\"Name\": \"Shadow Mephit\", \"Type\": \"Elemental\", \"Level\": 16, \"Rarity\": \"Rank 0\", \"Damage\": \"16d2+2\", \"Health\": 31.35, \"Energy\": 31.18, \"Sanity\": 32.25, \"Time Stamp\": \"2022-03-31 07:23:55\"}, {\"Name\": \"Ruby Faerie\", \"Type\": \"Fey\", \"Level\": 1, \"Rarity\": \"Rank 3\", \"Damage\": \"1d8+1\", \"Health\": 5.05, \"Energy\": 7.82, \"Sanity\": 7.82, \"Time Stamp\": \"2022-03-31 07:23:55\"}, {\"Name\": \"Black Dragon\", \"Type\": \"Dragon\", \"Level\": 17, \"Rarity\": \"Rank 1\", \"Damage\": \"17d4+1\", \"Health\": 66.34, \"Energy\": 68.2, \"Sanity\": 68.75, \"Time Stamp\": \"2022-03-31 07:23:55\"}, {\"Name\": \"Lich King\", \"Type\": \"Undead\", \"Level\": 6, \"Rarity\": \"Rank 0\", \"Damage\": \"6d2+1\", \"Health\": 11.48, \"Energy\": 11.25, \"Sanity\": 11.83, \"Time Stamp\": \"2022-03-31 07:23:55\"}, {\"Name\": \"Pit Lord\", \"Type\": \"Devilkin\", \"Level\": 3, \"Rarity\": \"Rank 5\", \"Damage\": \"3d12+2\", \"Health\": 37.35, \"Energy\": 39.79, \"Sanity\": 31.01, \"Time Stamp\": \"2022-03-31 07:23:55\"}, {\"Name\": \"Balor\", \"Type\": \"Demonic\", \"Level\": 17, \"Rarity\": \"Rank 0\", \"Damage\": \"17d2+3\", \"Health\": 33.41, \"Energy\": 33.36, \"Sanity\": 34.21, \"Time Stamp\": \"2022-03-31 07:23:55\"}, {\"Name\": \"Revenant\", \"Type\": \"Undead\", \"Level\": 2, \"Rarity\": \"Rank 2\", \"Damage\": \"2d6\", \"Health\": 12.64, \"Energy\": 12.26, \"Sanity\": 11.93, \"Time Stamp\": \"2022-03-31 07:23:55\"}, {\"Name\": \"Prince of Fear\", \"Type\": \"Devilkin\", \"Level\": 4, \"Rarity\": \"Rank 0\", \"Damage\": \"4d2+1\", \"Health\": 8.72, \"Energy\": 7.34, \"Sanity\": 7.22, \"Time Stamp\": \"2022-03-31 07:23:55\"}, {\"Name\": \"Faerie Dragon\", \"Type\": \"Dragon\", \"Level\": 6, \"Rarity\": \"Rank 0\", \"Damage\": \"6d2\", \"Health\": 11.19, \"Energy\": 11.39, \"Sanity\": 11.14, \"Time Stamp\": \"2022-03-31 07:23:55\"}, {\"Name\": \"Efreeti\", \"Type\": \"Elemental\", \"Level\": 13, \"Rarity\": \"Rank 4\", \"Damage\": \"13d10+5\", \"Health\": 131.21, \"Energy\": 130.23, \"Sanity\": 125.14, \"Time Stamp\": \"2022-03-31 07:23:55\"}, {\"Name\": \"Prismatic Demon\", \"Type\": \"Demonic\", \"Level\": 8, \"Rarity\": \"Rank 3\", \"Damage\": \"8d8+2\", \"Health\": 66.04, \"Energy\": 61.41, \"Sanity\": 62.64, \"Time Stamp\": \"2022-03-31 07:23:55\"}, {\"Name\": \"Faerie Dragon\", \"Type\": \"Dragon\", \"Level\": 10, \"Rarity\": \"Rank 2\", \"Damage\": \"10d6\", \"Health\": 59.28, \"Energy\": 60.91, \"Sanity\": 60.61, \"Time Stamp\": \"2022-03-31 07:23:55\"}, {\"Name\": \"Efreeti\", \"Type\": \"Elemental\", \"Level\": 5, \"Rarity\": \"Rank 1\", \"Damage\": \"5d4\", \"Health\": 19.44, \"Energy\": 20.63, \"Sanity\": 18.01, \"Time Stamp\": \"2022-03-31 07:23:55\"}, {\"Name\": \"Flame Archfey\", \"Type\": \"Fey\", \"Level\": 7, \"Rarity\": \"Rank 2\", \"Damage\": \"7d6\", \"Health\": 42.71, \"Energy\": 41.73, \"Sanity\": 39.57, \"Time Stamp\": \"2022-03-31 07:23:55\"}, {\"Name\": \"Green Dragon\", \"Type\": \"Dragon\", \"Level\": 12, \"Rarity\": \"Rank 2\", \"Damage\": \"12d6\", \"Health\": 70.91, \"Energy\": 72.8, \"Sanity\": 73.22, \"Time Stamp\": \"2022-03-31 07:23:55\"}, {\"Name\": \"Dust Devil\", \"Type\": \"Devilkin\", \"Level\": 9, \"Rarity\": \"Rank 0\", \"Damage\": \"9d2\", \"Health\": 17.86, \"Energy\": 17.4, \"Sanity\": 18.08, \"Time Stamp\": \"2022-03-31 07:23:55\"}, {\"Name\": \"Hook Horror\", \"Type\": \"Demonic\", \"Level\": 6, \"Rarity\": \"Rank 4\", \"Damage\": \"6d10\", \"Health\": 57.54, \"Energy\": 59.93, \"Sanity\": 58.18, \"Time Stamp\": \"2022-03-31 07:23:55\"}, {\"Name\": \"Lich King\", \"Type\": \"Undead\", \"Level\": 10, \"Rarity\": \"Rank 0\", \"Damage\": \"10d2\", \"Health\": 19.91, \"Energy\": 20.97, \"Sanity\": 20.56, \"Time Stamp\": \"2022-03-31 07:23:55\"}, {\"Name\": \"Kobold Villager\", \"Type\": \"Devilkin\", \"Level\": 9, \"Rarity\": \"Rank 4\", \"Damage\": \"9d10+3\", \"Health\": 93.45, \"Energy\": 85.29, \"Sanity\": 92.75, \"Time Stamp\": \"2022-03-31 07:23:55\"}, {\"Name\": \"Ruby Archfey\", \"Type\": \"Fey\", \"Level\": 5, \"Rarity\": \"Rank 1\", \"Damage\": \"5d4+2\", \"Health\": 20.84, \"Energy\": 20.69, \"Sanity\": 20.27, \"Time Stamp\": \"2022-03-31 07:23:55\"}, {\"Name\": \"Prismatic Dragon\", \"Type\": \"Dragon\", \"Level\": 2, \"Rarity\": \"Rank 1\", \"Damage\": \"2d4+3\", \"Health\": 7.18, \"Energy\": 9.17, \"Sanity\": 9.87, \"Time Stamp\": \"2022-03-31 07:23:55\"}, {\"Name\": \"Shadow Elemental\", \"Type\": \"Elemental\", \"Level\": 18, \"Rarity\": \"Rank 2\", \"Damage\": \"18d6+4\", \"Health\": 108.41, \"Energy\": 105.29, \"Sanity\": 109.16, \"Time Stamp\": \"2022-03-31 07:23:55\"}, {\"Name\": \"Goblin Mage\", \"Type\": \"Devilkin\", \"Level\": 4, \"Rarity\": \"Rank 2\", \"Damage\": \"4d6+1\", \"Health\": 21.57, \"Energy\": 24.5, \"Sanity\": 25.55, \"Time Stamp\": \"2022-03-31 07:23:55\"}, {\"Name\": \"Faerie Dragon\", \"Type\": \"Dragon\", \"Level\": 3, \"Rarity\": \"Rank 0\", \"Damage\": \"3d2+2\", \"Health\": 5.21, \"Energy\": 6.58, \"Sanity\": 6.17, \"Time Stamp\": \"2022-03-31 07:23:55\"}, {\"Name\": \"Smoke Mephit\", \"Type\": \"Elemental\", \"Level\": 4, \"Rarity\": \"Rank 3\", \"Damage\": \"4d8+4\", \"Health\": 32.98, \"Energy\": 29.5, \"Sanity\": 34.94, \"Time Stamp\": \"2022-03-31 07:23:55\"}, {\"Name\": \"Gold Faerie\", \"Type\": \"Fey\", \"Level\": 8, \"Rarity\": \"Rank 3\", \"Damage\": \"8d8\", \"Health\": 65.18, \"Energy\": 60.05, \"Sanity\": 66.04, \"Time Stamp\": \"2022-03-31 07:23:55\"}, {\"Name\": \"Quasit\", \"Type\": \"Demonic\", \"Level\": 4, \"Rarity\": \"Rank 2\", \"Damage\": \"4d6\", \"Health\": 22.72, \"Energy\": 24.77, \"Sanity\": 23.17, \"Time Stamp\": \"2022-03-31 07:23:55\"}, {\"Name\": \"Zombie Guard\", \"Type\": \"Undead\", \"Level\": 12, \"Rarity\": \"Rank 4\", \"Damage\": \"12d10+3\", \"Health\": 123.94, \"Energy\": 123.78, \"Sanity\": 115.68, \"Time Stamp\": \"2022-03-31 07:23:55\"}, {\"Name\": \"Spore Devil\", \"Type\": \"Devilkin\", \"Level\": 4, \"Rarity\": \"Rank 2\", \"Damage\": \"4d6+1\", \"Health\": 24.26, \"Energy\": 23.87, \"Sanity\": 23.84, \"Time Stamp\": \"2022-03-31 07:23:55\"}, {\"Name\": \"Diamond Demon\", \"Type\": \"Demonic\", \"Level\": 3, \"Rarity\": \"Rank 3\", \"Damage\": \"3d8+3\", \"Health\": 21.4, \"Energy\": 20.16, \"Sanity\": 27.3, \"Time Stamp\": \"2022-03-31 07:23:55\"}, {\"Name\": \"Wyvern\", \"Type\": \"Dragon\", \"Level\": 9, \"Rarity\": \"Rank 1\", \"Damage\": \"9d4\", \"Health\": 36.88, \"Energy\": 35.3, \"Sanity\": 35.53, \"Time Stamp\": \"2022-03-31 07:23:55\"}, {\"Name\": \"Wraith\", \"Type\": \"Undead\", \"Level\": 10, \"Rarity\": \"Rank 1\", \"Damage\": \"10d4+2\", \"Health\": 39.17, \"Energy\": 39.62, \"Sanity\": 40.86, \"Time Stamp\": \"2022-03-31 07:23:55\"}, {\"Name\": \"Djinni\", \"Type\": \"Elemental\", \"Level\": 11, \"Rarity\": \"Rank 2\", \"Damage\": \"11d6+3\", \"Health\": 67.69, \"Energy\": 66.48, \"Sanity\": 65.56, \"Time Stamp\": \"2022-03-31 07:23:55\"}, {\"Name\": \"Pit Fiend\", \"Type\": \"Demonic\", \"Level\": 7, \"Rarity\": \"Rank 0\", \"Damage\": \"7d2\", \"Health\": 13.4, \"Energy\": 13.26, \"Sanity\": 14.14, \"Time Stamp\": \"2022-03-31 07:23:55\"}, {\"Name\": \"Death Knight\", \"Type\": \"Undead\", \"Level\": 3, \"Rarity\": \"Rank 4\", \"Damage\": \"3d10\", \"Health\": 31.86, \"Energy\": 25.94, \"Sanity\": 29.4, \"Time Stamp\": \"2022-03-31 07:23:55\"}, {\"Name\": \"Goblin Knight\", \"Type\": \"Devilkin\", \"Level\": 12, \"Rarity\": \"Rank 2\", \"Damage\": \"12d6\", \"Health\": 69.16, \"Energy\": 72.92, \"Sanity\": 72.69, \"Time Stamp\": \"2022-03-31 07:23:55\"}, {\"Name\": \"Pit Fiend\", \"Type\": \"Demonic\", \"Level\": 5, \"Rarity\": \"Rank 0\", \"Damage\": \"5d2\", \"Health\": 10.46, \"Energy\": 10.59, \"Sanity\": 10.62, \"Time Stamp\": \"2022-03-31 07:23:55\"}, {\"Name\": \"Copper Wyrmling\", \"Type\": \"Dragon\", \"Level\": 7, \"Rarity\": \"Rank 4\", \"Damage\": \"7d10+1\", \"Health\": 66.76, \"Energy\": 66.03, \"Sanity\": 69.08, \"Time Stamp\": \"2022-03-31 07:23:55\"}, {\"Name\": \"Zombie Mage\", \"Type\": \"Undead\", \"Level\": 4, \"Rarity\": \"Rank 2\", \"Damage\": \"4d6+2\", \"Health\": 25.95, \"Energy\": 22.32, \"Sanity\": 24.99, \"Time Stamp\": \"2022-03-31 07:23:55\"}, {\"Name\": \"Goblin Guard\", \"Type\": \"Devilkin\", \"Level\": 8, \"Rarity\": \"Rank 0\", \"Damage\": \"8d2+1\", \"Health\": 16.32, \"Energy\": 16.51, \"Sanity\": 15.54, \"Time Stamp\": \"2022-03-31 07:23:55\"}, {\"Name\": \"Mud Archfey\", \"Type\": \"Fey\", \"Level\": 5, \"Rarity\": \"Rank 1\", \"Damage\": \"5d4+1\", \"Health\": 21.51, \"Energy\": 21.32, \"Sanity\": 19.81, \"Time Stamp\": \"2022-03-31 07:23:55\"}, {\"Name\": \"Dracolich\", \"Type\": \"Undead\", \"Level\": 15, \"Rarity\": \"Rank 1\", \"Damage\": \"15d4+5\", \"Health\": 60.58, \"Energy\": 59.56, \"Sanity\": 60.94, \"Time Stamp\": \"2022-03-31 07:23:55\"}, {\"Name\": \"Smoke Spirit\", \"Type\": \"Fey\", \"Level\": 2, \"Rarity\": \"Rank 2\", \"Damage\": \"2d6\", \"Health\": 13.66, \"Energy\": 14.2, \"Sanity\": 10.46, \"Time Stamp\": \"2022-03-31 07:23:55\"}, {\"Name\": \"Wyvern\", \"Type\": \"Dragon\", \"Level\": 5, \"Rarity\": \"Rank 2\", \"Damage\": \"5d6\", \"Health\": 30.46, \"Energy\": 27.01, \"Sanity\": 31.44, \"Time Stamp\": \"2022-03-31 07:23:55\"}, {\"Name\": \"Djinni\", \"Type\": \"Elemental\", \"Level\": 6, \"Rarity\": \"Rank 3\", \"Damage\": \"6d8+2\", \"Health\": 46.02, \"Energy\": 48.72, \"Sanity\": 44.43, \"Time Stamp\": \"2022-03-31 07:23:55\"}, {\"Name\": \"Blue Archfey\", \"Type\": \"Fey\", \"Level\": 1, \"Rarity\": \"Rank 1\", \"Damage\": \"1d4+4\", \"Health\": 3.85, \"Energy\": 4.56, \"Sanity\": 3.61, \"Time Stamp\": \"2022-03-31 07:23:55\"}, {\"Name\": \"Hook Horror\", \"Type\": \"Demonic\", \"Level\": 10, \"Rarity\": \"Rank 0\", \"Damage\": \"10d2+3\", \"Health\": 19.37, \"Energy\": 19.08, \"Sanity\": 19.85, \"Time Stamp\": \"2022-03-31 07:23:55\"}, {\"Name\": \"Magma Mephit\", \"Type\": \"Elemental\", \"Level\": 2, \"Rarity\": \"Rank 2\", \"Damage\": \"2d6\", \"Health\": 12.32, \"Energy\": 13.35, \"Sanity\": 14.72, \"Time Stamp\": \"2022-03-31 07:23:55\"}, {\"Name\": \"Pit Lord\", \"Type\": \"Devilkin\", \"Level\": 2, \"Rarity\": \"Rank 0\", \"Damage\": \"2d2+2\", \"Health\": 3.13, \"Energy\": 3.12, \"Sanity\": 4.07, \"Time Stamp\": \"2022-03-31 07:23:55\"}, {\"Name\": \"Shadow Spirit\", \"Type\": \"Fey\", \"Level\": 5, \"Rarity\": \"Rank 3\", \"Damage\": \"5d8+1\", \"Health\": 42.08, \"Energy\": 38.39, \"Sanity\": 36.36, \"Time Stamp\": \"2022-03-31 07:23:55\"}, {\"Name\": \"Silver Drake\", \"Type\": \"Dragon\", \"Level\": 12, \"Rarity\": \"Rank 0\", \"Damage\": \"12d2\", \"Health\": 24.64, \"Energy\": 23.39, \"Sanity\": 23.14, \"Time Stamp\": \"2022-03-31 07:23:55\"}, {\"Name\": \"Djinni\", \"Type\": \"Elemental\", \"Level\": 9, \"Rarity\": \"Rank 2\", \"Damage\": \"9d6+1\", \"Health\": 52.01, \"Energy\": 51.61, \"Sanity\": 54.81, \"Time Stamp\": \"2022-03-31 07:23:55\"}, {\"Name\": \"Lightning Spirit\", \"Type\": \"Fey\", \"Level\": 11, \"Rarity\": \"Rank 1\", \"Damage\": \"11d4+4\", \"Health\": 45.1, \"Energy\": 44.65, \"Sanity\": 44.21, \"Time Stamp\": \"2022-03-31 07:23:55\"}, {\"Name\": \"Black Dragon\", \"Type\": \"Dragon\", \"Level\": 4, \"Rarity\": \"Rank 2\", \"Damage\": \"4d6\", \"Health\": 24.74, \"Energy\": 23.51, \"Sanity\": 24.9, \"Time Stamp\": \"2022-03-31 07:23:55\"}, {\"Name\": \"Zombie Knight\", \"Type\": \"Undead\", \"Level\": 4, \"Rarity\": \"Rank 1\", \"Damage\": \"4d4\", \"Health\": 16.35, \"Energy\": 15.51, \"Sanity\": 16.22, \"Time Stamp\": \"2022-03-31 07:23:55\"}, {\"Name\": \"Steam Mephit\", \"Type\": \"Elemental\", \"Level\": 5, \"Rarity\": \"Rank 2\", \"Damage\": \"5d6+2\", \"Health\": 31.74, \"Energy\": 30.91, \"Sanity\": 28.2, \"Time Stamp\": \"2022-03-31 07:23:55\"}, {\"Name\": \"Platinum Faerie\", \"Type\": \"Fey\", \"Level\": 2, \"Rarity\": \"Rank 0\", \"Damage\": \"2d2+4\", \"Health\": 3.19, \"Energy\": 3.98, \"Sanity\": 4.49, \"Time Stamp\": \"2022-03-31 07:23:55\"}, {\"Name\": \"Red Dragon\", \"Type\": \"Dragon\", \"Level\": 6, \"Rarity\": \"Rank 0\", \"Damage\": \"6d2\", \"Health\": 12.28, \"Energy\": 12.6, \"Sanity\": 12.03, \"Time Stamp\": \"2022-03-31 07:23:55\"}, {\"Name\": \"Efreeti\", \"Type\": \"Elemental\", \"Level\": 9, \"Rarity\": \"Rank 0\", \"Damage\": \"9d2\", \"Health\": 17.53, \"Energy\": 18.38, \"Sanity\": 17.84, \"Time Stamp\": \"2022-03-31 07:23:55\"}, {\"Name\": \"Onyx Faerie\", \"Type\": \"Fey\", \"Level\": 8, \"Rarity\": \"Rank 2\", \"Damage\": \"8d6+1\", \"Health\": 46.4, \"Energy\": 47.58, \"Sanity\": 50.2, \"Time Stamp\": \"2022-03-31 07:23:55\"}, {\"Name\": \"Bronze Dragon\", \"Type\": \"Dragon\", \"Level\": 7, \"Rarity\": \"Rank 4\", \"Damage\": \"7d10\", \"Health\": 66.51, \"Energy\": 67.1, \"Sanity\": 73.39, \"Time Stamp\": \"2022-03-31 07:23:55\"}, {\"Name\": \"Efreeti\", \"Type\": \"Elemental\", \"Level\": 12, \"Rarity\": \"Rank 3\", \"Damage\": \"12d8+3\", \"Health\": 95.51, \"Energy\": 93.36, \"Sanity\": 92.83, \"Time Stamp\": \"2022-03-31 07:23:55\"}, {\"Name\": \"Imp\", \"Type\": \"Demonic\", \"Level\": 12, \"Rarity\": \"Rank 0\", \"Damage\": \"12d2\", \"Health\": 23.4, \"Energy\": 23.09, \"Sanity\": 24.74, \"Time Stamp\": \"2022-03-31 07:23:55\"}, {\"Name\": \"Revenant\", \"Type\": \"Undead\", \"Level\": 4, \"Rarity\": \"Rank 1\", \"Damage\": \"4d4\", \"Health\": 15.73, \"Energy\": 15.23, \"Sanity\": 15.84, \"Time Stamp\": \"2022-03-31 07:23:55\"}, {\"Name\": \"Goblin Archer\", \"Type\": \"Devilkin\", \"Level\": 14, \"Rarity\": \"Rank 1\", \"Damage\": \"14d4+1\", \"Health\": 57.8, \"Energy\": 57.0, \"Sanity\": 55.9, \"Time Stamp\": \"2022-03-31 07:23:55\"}, {\"Name\": \"Nightmare\", \"Type\": \"Demonic\", \"Level\": 3, \"Rarity\": \"Rank 1\", \"Damage\": \"3d4\", \"Health\": 12.37, \"Energy\": 12.23, \"Sanity\": 11.65, \"Time Stamp\": \"2022-03-31 07:23:55\"}, {\"Name\": \"Sapphire Wyrmling\", \"Type\": \"Dragon\", \"Level\": 6, \"Rarity\": \"Rank 3\", \"Damage\": \"6d8\", \"Health\": 44.56, \"Energy\": 50.82, \"Sanity\": 45.74, \"Time Stamp\": \"2022-03-31 07:23:55\"}, {\"Name\": \"Goblin Villager\", \"Type\": \"Devilkin\", \"Level\": 10, \"Rarity\": \"Rank 2\", \"Damage\": \"10d6\", \"Health\": 57.0, \"Energy\": 60.33, \"Sanity\": 62.84, \"Time Stamp\": \"2022-03-31 07:23:55\"}, {\"Name\": \"Ruby Drake\", \"Type\": \"Dragon\", \"Level\": 18, \"Rarity\": \"Rank 1\", \"Damage\": \"18d4\", \"Health\": 73.47, \"Energy\": 71.55, \"Sanity\": 73.81, \"Time Stamp\": \"2022-03-31 07:23:55\"}, {\"Name\": \"Kobold Knight\", \"Type\": \"Devilkin\", \"Level\": 9, \"Rarity\": \"Rank 1\", \"Damage\": \"9d4+1\", \"Health\": 35.62, \"Energy\": 36.55, \"Sanity\": 36.42, \"Time Stamp\": \"2022-03-31 07:23:55\"}, {\"Name\": \"Dust Archfey\", \"Type\": \"Fey\", \"Level\": 10, \"Rarity\": \"Rank 2\", \"Damage\": \"10d6\", \"Health\": 60.77, \"Energy\": 59.86, \"Sanity\": 62.95, \"Time Stamp\": \"2022-03-31 07:23:55\"}, {\"Name\": \"Black Wyrmling\", \"Type\": \"Dragon\", \"Level\": 8, \"Rarity\": \"Rank 1\", \"Damage\": \"8d4\", \"Health\": 33.47, \"Energy\": 31.06, \"Sanity\": 30.51, \"Time Stamp\": \"2022-03-31 07:23:55\"}, {\"Name\": \"Lightning Elemental\", \"Type\": \"Elemental\", \"Level\": 4, \"Rarity\": \"Rank 1\", \"Damage\": \"4d4+4\", \"Health\": 15.28, \"Energy\": 17.75, \"Sanity\": 15.27, \"Time Stamp\": \"2022-03-31 07:23:55\"}, {\"Name\": \"Hook Horror\", \"Type\": \"Demonic\", \"Level\": 13, \"Rarity\": \"Rank 1\", \"Damage\": \"13d4\", \"Health\": 53.24, \"Energy\": 52.59, \"Sanity\": 52.24, \"Time Stamp\": \"2022-03-31 07:23:55\"}, {\"Name\": \"Ghoul\", \"Type\": \"Undead\", \"Level\": 12, \"Rarity\": \"Rank 2\", \"Damage\": \"12d6+4\", \"Health\": 73.34, \"Energy\": 69.83, \"Sanity\": 71.95, \"Time Stamp\": \"2022-03-31 07:23:55\"}, {\"Name\": \"Emerald Archfey\", \"Type\": \"Fey\", \"Level\": 10, \"Rarity\": \"Rank 0\", \"Damage\": \"10d2+1\", \"Health\": 20.78, \"Energy\": 20.19, \"Sanity\": 20.59, \"Time Stamp\": \"2022-03-31 07:23:55\"}, {\"Name\": \"White Wyrmling\", \"Type\": \"Dragon\", \"Level\": 3, \"Rarity\": \"Rank 1\", \"Damage\": \"3d4+2\", \"Health\": 11.38, \"Energy\": 10.14, \"Sanity\": 12.65, \"Time Stamp\": \"2022-03-31 07:23:55\"}, {\"Name\": \"Flame Elemental\", \"Type\": \"Elemental\", \"Level\": 12, \"Rarity\": \"Rank 2\", \"Damage\": \"12d6+3\", \"Health\": 72.77, \"Energy\": 74.7, \"Sanity\": 70.82, \"Time Stamp\": \"2022-03-31 07:23:55\"}, {\"Name\": \"Red Faerie\", \"Type\": \"Fey\", \"Level\": 7, \"Rarity\": \"Rank 2\", \"Damage\": \"7d6\", \"Health\": 40.77, \"Energy\": 40.7, \"Sanity\": 43.97, \"Time Stamp\": \"2022-03-31 07:23:55\"}, {\"Name\": \"Copper Demon\", \"Type\": \"Demonic\", \"Level\": 13, \"Rarity\": \"Rank 1\", \"Damage\": \"13d4\", \"Health\": 50.72, \"Energy\": 51.3, \"Sanity\": 52.71, \"Time Stamp\": \"2022-03-31 07:23:55\"}, {\"Name\": \"Prismatic Drake\", \"Type\": \"Dragon\", \"Level\": 7, \"Rarity\": \"Rank 0\", \"Damage\": \"7d2+2\", \"Health\": 14.19, \"Energy\": 13.02, \"Sanity\": 13.2, \"Time Stamp\": \"2022-03-31 07:23:55\"}, {\"Name\": \"Revenant\", \"Type\": \"Undead\", \"Level\": 6, \"Rarity\": \"Rank 0\", \"Damage\": \"6d2+2\", \"Health\": 12.46, \"Energy\": 12.23, \"Sanity\": 12.9, \"Time Stamp\": \"2022-03-31 07:23:55\"}, {\"Name\": \"Mud Mephit\", \"Type\": \"Elemental\", \"Level\": 12, \"Rarity\": \"Rank 1\", \"Damage\": \"12d4\", \"Health\": 48.79, \"Energy\": 46.25, \"Sanity\": 48.41, \"Time Stamp\": \"2022-03-31 07:23:55\"}, {\"Name\": \"Night Hag\", \"Type\": \"Demonic\", \"Level\": 7, \"Rarity\": \"Rank 3\", \"Damage\": \"7d8+2\", \"Health\": 53.45, \"Energy\": 55.26, \"Sanity\": 55.44, \"Time Stamp\": \"2022-03-31 07:23:55\"}, {\"Name\": \"Efreeti\", \"Type\": \"Elemental\", \"Level\": 6, \"Rarity\": \"Rank 2\", \"Damage\": \"6d6\", \"Health\": 34.01, \"Energy\": 38.21, \"Sanity\": 35.75, \"Time Stamp\": \"2022-03-31 07:23:55\"}, {\"Name\": \"Goblin Mage\", \"Type\": \"Devilkin\", \"Level\": 15, \"Rarity\": \"Rank 0\", \"Damage\": \"15d2+1\", \"Health\": 30.52, \"Energy\": 29.84, \"Sanity\": 30.57, \"Time Stamp\": \"2022-03-31 07:23:55\"}, {\"Name\": \"Green Demon\", \"Type\": \"Demonic\", \"Level\": 8, \"Rarity\": \"Rank 0\", \"Damage\": \"8d2+5\", \"Health\": 15.43, \"Energy\": 15.42, \"Sanity\": 16.59, \"Time Stamp\": \"2022-03-31 07:23:55\"}, {\"Name\": \"Revenant\", \"Type\": \"Undead\", \"Level\": 7, \"Rarity\": \"Rank 0\", \"Damage\": \"7d2+3\", \"Health\": 14.21, \"Energy\": 14.0, \"Sanity\": 14.31, \"Time Stamp\": \"2022-03-31 07:23:55\"}, {\"Name\": \"Kobold Guard\", \"Type\": \"Devilkin\", \"Level\": 6, \"Rarity\": \"Rank 1\", \"Damage\": \"6d4\", \"Health\": 24.74, \"Energy\": 24.98, \"Sanity\": 22.1, \"Time Stamp\": \"2022-03-31 07:23:55\"}, {\"Name\": \"Diamond Dragon\", \"Type\": \"Dragon\", \"Level\": 17, \"Rarity\": \"Rank 5\", \"Damage\": \"17d12\", \"Health\": 201.49, \"Energy\": 198.5, \"Sanity\": 198.96, \"Time Stamp\": \"2022-03-31 07:23:55\"}, {\"Name\": \"Djinni\", \"Type\": \"Elemental\", \"Level\": 7, \"Rarity\": \"Rank 1\", \"Damage\": \"7d4+3\", \"Health\": 28.51, \"Energy\": 27.85, \"Sanity\": 29.1, \"Time Stamp\": \"2022-03-31 07:23:55\"}, {\"Name\": \"Flame Archfey\", \"Type\": \"Fey\", \"Level\": 8, \"Rarity\": \"Rank 2\", \"Damage\": \"8d6+2\", \"Health\": 47.4, \"Energy\": 48.08, \"Sanity\": 49.84, \"Time Stamp\": \"2022-03-31 07:23:55\"}, {\"Name\": \"Copper Drake\", \"Type\": \"Dragon\", \"Level\": 15, \"Rarity\": \"Rank 1\", \"Damage\": \"15d4\", \"Health\": 59.34, \"Energy\": 58.28, \"Sanity\": 59.68, \"Time Stamp\": \"2022-03-31 07:23:55\"}, {\"Name\": \"Prince of Fear\", \"Type\": \"Devilkin\", \"Level\": 4, \"Rarity\": \"Rank 2\", \"Damage\": \"4d6\", \"Health\": 24.78, \"Energy\": 21.56, \"Sanity\": 24.01, \"Time Stamp\": \"2022-03-31 07:23:55\"}, {\"Name\": \"Hook Horror\", \"Type\": \"Demonic\", \"Level\": 8, \"Rarity\": \"Rank 2\", \"Damage\": \"8d6+1\", \"Health\": 46.81, \"Energy\": 49.17, \"Sanity\": 47.49, \"Time Stamp\": \"2022-03-31 07:23:55\"}, {\"Name\": \"Skeletal Knight\", \"Type\": \"Undead\", \"Level\": 15, \"Rarity\": \"Rank 0\", \"Damage\": \"15d2+2\", \"Health\": 29.79, \"Energy\": 29.29, \"Sanity\": 30.58, \"Time Stamp\": \"2022-03-31 07:23:55\"}, {\"Name\": \"Succubus\", \"Type\": \"Devilkin\", \"Level\": 10, \"Rarity\": \"Rank 0\", \"Damage\": \"10d2+1\", \"Health\": 20.46, \"Energy\": 20.03, \"Sanity\": 19.46, \"Time Stamp\": \"2022-03-31 07:23:55\"}, {\"Name\": \"Balor\", \"Type\": \"Demonic\", \"Level\": 4, \"Rarity\": \"Rank 0\", \"Damage\": \"4d2+3\", \"Health\": 8.03, \"Energy\": 7.26, \"Sanity\": 8.74, \"Time Stamp\": \"2022-03-31 07:23:55\"}, {\"Name\": \"Gold Dragon\", \"Type\": \"Dragon\", \"Level\": 12, \"Rarity\": \"Rank 0\", \"Damage\": \"12d2+3\", \"Health\": 23.27, \"Energy\": 24.19, \"Sanity\": 23.4, \"Time Stamp\": \"2022-03-31 07:23:55\"}, {\"Name\": \"Death Knight\", \"Type\": \"Undead\", \"Level\": 4, \"Rarity\": \"Rank 2\", \"Damage\": \"4d6+2\", \"Health\": 25.89, \"Energy\": 23.83, \"Sanity\": 24.4, \"Time Stamp\": \"2022-03-31 07:23:55\"}, {\"Name\": \"Diamond Archfey\", \"Type\": \"Fey\", \"Level\": 15, \"Rarity\": \"Rank 2\", \"Damage\": \"15d6+1\", \"Health\": 87.78, \"Energy\": 89.02, \"Sanity\": 90.31, \"Time Stamp\": \"2022-03-31 07:23:55\"}, {\"Name\": \"Balor\", \"Type\": \"Demonic\", \"Level\": 7, \"Rarity\": \"Rank 0\", \"Damage\": \"7d2+3\", \"Health\": 14.86, \"Energy\": 13.61, \"Sanity\": 13.45, \"Time Stamp\": \"2022-03-31 07:23:55\"}, {\"Name\": \"Demilich\", \"Type\": \"Undead\", \"Level\": 2, \"Rarity\": \"Rank 0\", \"Damage\": \"2d2+3\", \"Health\": 3.2, \"Energy\": 4.12, \"Sanity\": 3.6, \"Time Stamp\": \"2022-03-31 07:23:55\"}, {\"Name\": \"Pit Lord\", \"Type\": \"Devilkin\", \"Level\": 3, \"Rarity\": \"Rank 1\", \"Damage\": \"3d4+3\", \"Health\": 11.89, \"Energy\": 13.69, \"Sanity\": 11.76, \"Time Stamp\": \"2022-03-31 07:23:55\"}, {\"Name\": \"Nightmare\", \"Type\": \"Demonic\", \"Level\": 7, \"Rarity\": \"Rank 0\", \"Damage\": \"7d2+2\", \"Health\": 14.29, \"Energy\": 14.13, \"Sanity\": 13.48, \"Time Stamp\": \"2022-03-31 07:23:55\"}, {\"Name\": \"Emerald Wyrmling\", \"Type\": \"Dragon\", \"Level\": 6, \"Rarity\": \"Rank 4\", \"Damage\": \"6d10+2\", \"Health\": 56.07, \"Energy\": 62.94, \"Sanity\": 60.5, \"Time Stamp\": \"2022-03-31 07:23:55\"}, {\"Name\": \"Magma Elemental\", \"Type\": \"Elemental\", \"Level\": 14, \"Rarity\": \"Rank 1\", \"Damage\": \"14d4\", \"Health\": 56.24, \"Energy\": 56.77, \"Sanity\": 54.18, \"Time Stamp\": \"2022-03-31 07:23:55\"}, {\"Name\": \"Blue Faerie\", \"Type\": \"Fey\", \"Level\": 5, \"Rarity\": \"Rank 1\", \"Damage\": \"5d4+3\", \"Health\": 21.03, \"Energy\": 19.2, \"Sanity\": 19.7, \"Time Stamp\": \"2022-03-31 07:23:55\"}, {\"Name\": \"Skeletal Mage\", \"Type\": \"Undead\", \"Level\": 6, \"Rarity\": \"Rank 4\", \"Damage\": \"6d10+1\", \"Health\": 62.14, \"Energy\": 63.86, \"Sanity\": 55.94, \"Time Stamp\": \"2022-03-31 07:23:55\"}, {\"Name\": \"Incubus\", \"Type\": \"Devilkin\", \"Level\": 10, \"Rarity\": \"Rank 2\", \"Damage\": \"10d6+1\", \"Health\": 61.84, \"Energy\": 62.0, \"Sanity\": 59.99, \"Time Stamp\": \"2022-03-31 07:23:55\"}, {\"Name\": \"Quasit\", \"Type\": \"Demonic\", \"Level\": 8, \"Rarity\": \"Rank 0\", \"Damage\": \"8d2+4\", \"Health\": 16.09, \"Energy\": 16.17, \"Sanity\": 16.54, \"Time Stamp\": \"2022-03-31 07:23:55\"}, {\"Name\": \"Pseudodragon\", \"Type\": \"Dragon\", \"Level\": 7, \"Rarity\": \"Rank 4\", \"Damage\": \"7d10\", \"Health\": 67.06, \"Energy\": 73.51, \"Sanity\": 66.4, \"Time Stamp\": \"2022-03-31 07:23:55\"}, {\"Name\": \"Djinni\", \"Type\": \"Elemental\", \"Level\": 9, \"Rarity\": \"Rank 0\", \"Damage\": \"9d2\", \"Health\": 17.41, \"Energy\": 17.49, \"Sanity\": 17.87, \"Time Stamp\": \"2022-03-31 07:23:55\"}, {\"Name\": \"Lightning Spirit\", \"Type\": \"Fey\", \"Level\": 6, \"Rarity\": \"Rank 3\", \"Damage\": \"6d8+2\", \"Health\": 47.52, \"Energy\": 49.64, \"Sanity\": 49.81, \"Time Stamp\": \"2022-03-31 07:23:55\"}, {\"Name\": \"Balor\", \"Type\": \"Demonic\", \"Level\": 4, \"Rarity\": \"Rank 0\", \"Damage\": \"4d2+5\", \"Health\": 8.3, \"Energy\": 7.08, \"Sanity\": 7.17, \"Time Stamp\": \"2022-03-31 07:23:55\"}, {\"Name\": \"Mummy Lord\", \"Type\": \"Undead\", \"Level\": 7, \"Rarity\": \"Rank 4\", \"Damage\": \"7d10+4\", \"Health\": 71.73, \"Energy\": 67.3, \"Sanity\": 71.97, \"Time Stamp\": \"2022-03-31 07:23:55\"}, {\"Name\": \"Steam Devil\", \"Type\": \"Devilkin\", \"Level\": 1, \"Rarity\": \"Rank 2\", \"Damage\": \"1d6\", \"Health\": 5.15, \"Energy\": 6.67, \"Sanity\": 5.8, \"Time Stamp\": \"2022-03-31 07:23:55\"}, {\"Name\": \"Quasit\", \"Type\": \"Demonic\", \"Level\": 3, \"Rarity\": \"Rank 0\", \"Damage\": \"3d2\", \"Health\": 5.25, \"Energy\": 5.88, \"Sanity\": 6.79, \"Time Stamp\": \"2022-03-31 07:23:55\"}, {\"Name\": \"Dust Elemental\", \"Type\": \"Elemental\", \"Level\": 4, \"Rarity\": \"Rank 5\", \"Damage\": \"4d12+2\", \"Health\": 43.65, \"Energy\": 53.44, \"Sanity\": 52.32, \"Time Stamp\": \"2022-03-31 07:23:55\"}, {\"Name\": \"Nightmare\", \"Type\": \"Demonic\", \"Level\": 17, \"Rarity\": \"Rank 1\", \"Damage\": \"17d4+3\", \"Health\": 66.44, \"Energy\": 68.52, \"Sanity\": 67.35, \"Time Stamp\": \"2022-03-31 07:23:55\"}, {\"Name\": \"Death Knight\", \"Type\": \"Undead\", \"Level\": 9, \"Rarity\": \"Rank 4\", \"Damage\": \"9d10+1\", \"Health\": 85.73, \"Energy\": 86.82, \"Sanity\": 86.87, \"Time Stamp\": \"2022-03-31 07:23:55\"}, {\"Name\": \"Kobold Guard\", \"Type\": \"Devilkin\", \"Level\": 8, \"Rarity\": \"Rank 2\", \"Damage\": \"8d6+4\", \"Health\": 49.27, \"Energy\": 50.79, \"Sanity\": 47.42, \"Time Stamp\": \"2022-03-31 07:23:55\"}, {\"Name\": \"Hell Hound\", \"Type\": \"Demonic\", \"Level\": 3, \"Rarity\": \"Rank 1\", \"Damage\": \"3d4+4\", \"Health\": 13.63, \"Energy\": 11.88, \"Sanity\": 13.3, \"Time Stamp\": \"2022-03-31 07:23:55\"}, {\"Name\": \"Demilich\", \"Type\": \"Undead\", \"Level\": 3, \"Rarity\": \"Rank 1\", \"Damage\": \"3d4\", \"Health\": 11.85, \"Energy\": 10.14, \"Sanity\": 11.57, \"Time Stamp\": \"2022-03-31 07:23:55\"}, {\"Name\": \"Prince of Fear\", \"Type\": \"Devilkin\", \"Level\": 10, \"Rarity\": \"Rank 3\", \"Damage\": \"10d8+3\", \"Health\": 79.23, \"Energy\": 78.58, \"Sanity\": 80.55, \"Time Stamp\": \"2022-03-31 07:23:55\"}, {\"Name\": \"Balor\", \"Type\": \"Demonic\", \"Level\": 3, \"Rarity\": \"Rank 3\", \"Damage\": \"3d8+1\", \"Health\": 25.21, \"Energy\": 21.64, \"Sanity\": 23.4, \"Time Stamp\": \"2022-03-31 07:23:55\"}, {\"Name\": \"Banshee\", \"Type\": \"Undead\", \"Level\": 11, \"Rarity\": \"Rank 4\", \"Damage\": \"11d10+2\", \"Health\": 108.46, \"Energy\": 112.6, \"Sanity\": 106.68, \"Time Stamp\": \"2022-03-31 07:23:55\"}, {\"Name\": \"Djinni\", \"Type\": \"Elemental\", \"Level\": 8, \"Rarity\": \"Rank 0\", \"Damage\": \"8d2+1\", \"Health\": 15.11, \"Energy\": 16.11, \"Sanity\": 15.06, \"Time Stamp\": \"2022-03-31 07:23:55\"}, {\"Name\": \"Night Hag\", \"Type\": \"Demonic\", \"Level\": 4, \"Rarity\": \"Rank 0\", \"Damage\": \"4d2+1\", \"Health\": 8.34, \"Energy\": 7.32, \"Sanity\": 8.88, \"Time Stamp\": \"2022-03-31 07:23:55\"}, {\"Name\": \"Ice Elemental\", \"Type\": \"Elemental\", \"Level\": 18, \"Rarity\": \"Rank 2\", \"Damage\": \"18d6+1\", \"Health\": 108.71, \"Energy\": 108.85, \"Sanity\": 108.7, \"Time Stamp\": \"2022-03-31 07:23:55\"}, {\"Name\": \"Brass Faerie\", \"Type\": \"Fey\", \"Level\": 4, \"Rarity\": \"Rank 1\", \"Damage\": \"4d4\", \"Health\": 16.83, \"Energy\": 17.82, \"Sanity\": 14.86, \"Time Stamp\": \"2022-03-31 07:23:55\"}, {\"Name\": \"Bronze Wyrmling\", \"Type\": \"Dragon\", \"Level\": 12, \"Rarity\": \"Rank 3\", \"Damage\": \"12d8\", \"Health\": 96.92, \"Energy\": 93.13, \"Sanity\": 92.18, \"Time Stamp\": \"2022-03-31 07:23:55\"}, {\"Name\": \"Djinni\", \"Type\": \"Elemental\", \"Level\": 4, \"Rarity\": \"Rank 2\", \"Damage\": \"4d6\", \"Health\": 22.25, \"Energy\": 24.39, \"Sanity\": 22.56, \"Time Stamp\": \"2022-03-31 07:23:55\"}, {\"Name\": \"Goblin Villager\", \"Type\": \"Devilkin\", \"Level\": 3, \"Rarity\": \"Rank 2\", \"Damage\": \"3d6+2\", \"Health\": 20.71, \"Energy\": 19.01, \"Sanity\": 18.19, \"Time Stamp\": \"2022-03-31 07:23:55\"}, {\"Name\": \"Gold Demon\", \"Type\": \"Demonic\", \"Level\": 4, \"Rarity\": \"Rank 1\", \"Damage\": \"4d4+3\", \"Health\": 15.91, \"Energy\": 14.89, \"Sanity\": 14.7, \"Time Stamp\": \"2022-03-31 07:23:55\"}, {\"Name\": \"Green Wyrmling\", \"Type\": \"Dragon\", \"Level\": 11, \"Rarity\": \"Rank 0\", \"Damage\": \"11d2+1\", \"Health\": 21.89, \"Energy\": 22.47, \"Sanity\": 21.38, \"Time Stamp\": \"2022-03-31 07:23:55\"}, {\"Name\": \"Kobold Mage\", \"Type\": \"Devilkin\", \"Level\": 8, \"Rarity\": \"Rank 0\", \"Damage\": \"8d2+2\", \"Health\": 16.38, \"Energy\": 16.92, \"Sanity\": 16.57, \"Time Stamp\": \"2022-03-31 07:23:55\"}, {\"Name\": \"Quasit\", \"Type\": \"Demonic\", \"Level\": 5, \"Rarity\": \"Rank 5\", \"Damage\": \"5d12+1\", \"Health\": 55.39, \"Energy\": 58.5, \"Sanity\": 54.52, \"Time Stamp\": \"2022-03-31 07:23:55\"}, {\"Name\": \"Lich King\", \"Type\": \"Undead\", \"Level\": 3, \"Rarity\": \"Rank 1\", \"Damage\": \"3d4\", \"Health\": 10.58, \"Energy\": 13.3, \"Sanity\": 13.14, \"Time Stamp\": \"2022-03-31 07:23:55\"}, {\"Name\": \"Pit Lord\", \"Type\": \"Devilkin\", \"Level\": 2, \"Rarity\": \"Rank 1\", \"Damage\": \"2d4+2\", \"Health\": 6.2, \"Energy\": 7.36, \"Sanity\": 7.46, \"Time Stamp\": \"2022-03-31 07:23:55\"}, {\"Name\": \"Spore Spirit\", \"Type\": \"Fey\", \"Level\": 12, \"Rarity\": \"Rank 2\", \"Damage\": \"12d6+2\", \"Health\": 71.24, \"Energy\": 73.49, \"Sanity\": 73.29, \"Time Stamp\": \"2022-03-31 07:23:55\"}, {\"Name\": \"Wyvern\", \"Type\": \"Dragon\", \"Level\": 10, \"Rarity\": \"Rank 1\", \"Damage\": \"10d4\", \"Health\": 40.59, \"Energy\": 40.24, \"Sanity\": 40.26, \"Time Stamp\": \"2022-03-31 07:23:55\"}, {\"Name\": \"Magma Elemental\", \"Type\": \"Elemental\", \"Level\": 12, \"Rarity\": \"Rank 1\", \"Damage\": \"12d4\", \"Health\": 48.2, \"Energy\": 47.26, \"Sanity\": 47.35, \"Time Stamp\": \"2022-03-31 07:23:55\"}, {\"Name\": \"Pit Lord\", \"Type\": \"Devilkin\", \"Level\": 9, \"Rarity\": \"Rank 1\", \"Damage\": \"9d4+1\", \"Health\": 35.22, \"Energy\": 36.59, \"Sanity\": 35.5, \"Time Stamp\": \"2022-03-31 07:23:55\"}, {\"Name\": \"Pseudodragon\", \"Type\": \"Dragon\", \"Level\": 8, \"Rarity\": \"Rank 1\", \"Damage\": \"8d4+1\", \"Health\": 30.35, \"Energy\": 32.99, \"Sanity\": 31.5, \"Time Stamp\": \"2022-03-31 07:23:55\"}, {\"Name\": \"Dust Elemental\", \"Type\": \"Elemental\", \"Level\": 1, \"Rarity\": \"Rank 1\", \"Damage\": \"1d4+2\", \"Health\": 3.33, \"Energy\": 5.72, \"Sanity\": 3.53, \"Time Stamp\": \"2022-03-31 07:23:55\"}, {\"Name\": \"Ruby Demon\", \"Type\": \"Demonic\", \"Level\": 9, \"Rarity\": \"Rank 1\", \"Damage\": \"9d4\", \"Health\": 35.32, \"Energy\": 37.94, \"Sanity\": 36.31, \"Time Stamp\": \"2022-03-31 07:23:55\"}, {\"Name\": \"Poltergeist\", \"Type\": \"Undead\", \"Level\": 11, \"Rarity\": \"Rank 5\", \"Damage\": \"11d12+1\", \"Health\": 130.51, \"Energy\": 128.8, \"Sanity\": 132.16, \"Time Stamp\": \"2022-03-31 07:23:55\"}, {\"Name\": \"Prince of Fear\", \"Type\": \"Devilkin\", \"Level\": 8, \"Rarity\": \"Rank 1\", \"Damage\": \"8d4\", \"Health\": 31.6, \"Energy\": 31.75, \"Sanity\": 31.99, \"Time Stamp\": \"2022-03-31 07:23:55\"}, {\"Name\": \"Balor\", \"Type\": \"Demonic\", \"Level\": 13, \"Rarity\": \"Rank 0\", \"Damage\": \"13d2+1\", \"Health\": 26.05, \"Energy\": 25.25, \"Sanity\": 25.2, \"Time Stamp\": \"2022-03-31 07:23:55\"}, {\"Name\": \"Onyx Dragon\", \"Type\": \"Dragon\", \"Level\": 16, \"Rarity\": \"Rank 3\", \"Damage\": \"16d8+4\", \"Health\": 127.14, \"Energy\": 130.27, \"Sanity\": 127.97, \"Time Stamp\": \"2022-03-31 07:23:55\"}, {\"Name\": \"Ice Elemental\", \"Type\": \"Elemental\", \"Level\": 10, \"Rarity\": \"Rank 2\", \"Damage\": \"10d6\", \"Health\": 59.15, \"Energy\": 57.71, \"Sanity\": 58.02, \"Time Stamp\": \"2022-03-31 07:23:55\"}, {\"Name\": \"Steam Archfey\", \"Type\": \"Fey\", \"Level\": 8, \"Rarity\": \"Rank 4\", \"Damage\": \"8d10\", \"Health\": 78.35, \"Energy\": 80.1, \"Sanity\": 78.35, \"Time Stamp\": \"2022-03-31 07:23:55\"}, {\"Name\": \"Revenant\", \"Type\": \"Undead\", \"Level\": 2, \"Rarity\": \"Rank 0\", \"Damage\": \"2d2+1\", \"Health\": 4.41, \"Energy\": 3.54, \"Sanity\": 4.35, \"Time Stamp\": \"2022-03-31 07:23:55\"}, {\"Name\": \"Spore Elemental\", \"Type\": \"Elemental\", \"Level\": 6, \"Rarity\": \"Rank 1\", \"Damage\": \"6d4\", \"Health\": 23.18, \"Energy\": 22.13, \"Sanity\": 24.13, \"Time Stamp\": \"2022-03-31 07:23:55\"}, {\"Name\": \"Platinum Archfey\", \"Type\": \"Fey\", \"Level\": 9, \"Rarity\": \"Rank 0\", \"Damage\": \"9d2\", \"Health\": 17.32, \"Energy\": 18.51, \"Sanity\": 17.13, \"Time Stamp\": \"2022-03-31 07:23:55\"}, {\"Name\": \"White Wyrmling\", \"Type\": \"Dragon\", \"Level\": 6, \"Rarity\": \"Rank 1\", \"Damage\": \"6d4+4\", \"Health\": 24.72, \"Energy\": 25.92, \"Sanity\": 23.74, \"Time Stamp\": \"2022-03-31 07:23:55\"}, {\"Name\": \"Goblin Guard\", \"Type\": \"Devilkin\", \"Level\": 10, \"Rarity\": \"Rank 2\", \"Damage\": \"10d6+3\", \"Health\": 58.08, \"Energy\": 59.33, \"Sanity\": 57.09, \"Time Stamp\": \"2022-03-31 07:23:55\"}, {\"Name\": \"Pseudodragon\", \"Type\": \"Dragon\", \"Level\": 7, \"Rarity\": \"Rank 3\", \"Damage\": \"7d8+2\", \"Health\": 55.64, \"Energy\": 59.86, \"Sanity\": 53.55, \"Time Stamp\": \"2022-03-31 07:23:55\"}, {\"Name\": \"Lightning Mephit\", \"Type\": \"Elemental\", \"Level\": 8, \"Rarity\": \"Rank 3\", \"Damage\": \"8d8\", \"Health\": 64.3, \"Energy\": 67.66, \"Sanity\": 64.09, \"Time Stamp\": \"2022-03-31 07:23:55\"}, {\"Name\": \"Ice Archfey\", \"Type\": \"Fey\", \"Level\": 7, \"Rarity\": \"Rank 3\", \"Damage\": \"7d8\", \"Health\": 53.27, \"Energy\": 54.98, \"Sanity\": 59.65, \"Time Stamp\": \"2022-03-31 07:23:55\"}, {\"Name\": \"Pseudodragon\", \"Type\": \"Dragon\", \"Level\": 2, \"Rarity\": \"Rank 1\", \"Damage\": \"2d4+1\", \"Health\": 8.39, \"Energy\": 7.91, \"Sanity\": 8.51, \"Time Stamp\": \"2022-03-31 07:23:55\"}, {\"Name\": \"Zombie Knight\", \"Type\": \"Undead\", \"Level\": 3, \"Rarity\": \"Rank 0\", \"Damage\": \"3d2+2\", \"Health\": 5.3, \"Energy\": 6.22, \"Sanity\": 5.29, \"Time Stamp\": \"2022-03-31 07:23:55\"}, {\"Name\": \"Ruby Faerie\", \"Type\": \"Fey\", \"Level\": 8, \"Rarity\": \"Rank 0\", \"Damage\": \"8d2+2\", \"Health\": 15.83, \"Energy\": 16.56, \"Sanity\": 16.99, \"Time Stamp\": \"2022-03-31 07:23:55\"}, {\"Name\": \"Copper Dragon\", \"Type\": \"Dragon\", \"Level\": 11, \"Rarity\": \"Rank 4\", \"Damage\": \"11d10+1\", \"Health\": 110.4, \"Energy\": 109.46, \"Sanity\": 109.0, \"Time Stamp\": \"2022-03-31 07:23:55\"}, {\"Name\": \"Kobold Archer\", \"Type\": \"Devilkin\", \"Level\": 8, \"Rarity\": \"Rank 3\", \"Damage\": \"8d8\", \"Health\": 66.32, \"Energy\": 64.87, \"Sanity\": 64.67, \"Time Stamp\": \"2022-03-31 07:23:55\"}, {\"Name\": \"Quasit\", \"Type\": \"Demonic\", \"Level\": 8, \"Rarity\": \"Rank 0\", \"Damage\": \"8d2+1\", \"Health\": 15.54, \"Energy\": 16.52, \"Sanity\": 15.37, \"Time Stamp\": \"2022-03-31 07:23:55\"}, {\"Name\": \"Faerie Dragon\", \"Type\": \"Dragon\", \"Level\": 7, \"Rarity\": \"Rank 0\", \"Damage\": \"7d2\", \"Health\": 13.36, \"Energy\": 13.07, \"Sanity\": 14.08, \"Time Stamp\": \"2022-03-31 07:23:55\"}, {\"Name\": \"Efreeti\", \"Type\": \"Elemental\", \"Level\": 9, \"Rarity\": \"Rank 1\", \"Damage\": \"9d4+3\", \"Health\": 37.45, \"Energy\": 37.46, \"Sanity\": 34.05, \"Time Stamp\": \"2022-03-31 07:23:55\"}, {\"Name\": \"White Faerie\", \"Type\": \"Fey\", \"Level\": 3, \"Rarity\": \"Rank 0\", \"Damage\": \"3d2+1\", \"Health\": 6.15, \"Energy\": 6.37, \"Sanity\": 5.16, \"Time Stamp\": \"2022-03-31 07:23:55\"}, {\"Name\": \"Ghoul\", \"Type\": \"Undead\", \"Level\": 3, \"Rarity\": \"Rank 2\", \"Damage\": \"3d6+2\", \"Health\": 18.21, \"Energy\": 19.54, \"Sanity\": 20.04, \"Time Stamp\": \"2022-03-31 07:23:55\"}, {\"Name\": \"Diamond Archfey\", \"Type\": \"Fey\", \"Level\": 9, \"Rarity\": \"Rank 0\", \"Damage\": \"9d2+3\", \"Health\": 17.16, \"Energy\": 18.38, \"Sanity\": 17.81, \"Time Stamp\": \"2022-03-31 07:23:55\"}, {\"Name\": \"Pseudodragon\", \"Type\": \"Dragon\", \"Level\": 11, \"Rarity\": \"Rank 3\", \"Damage\": \"11d8+2\", \"Health\": 87.72, \"Energy\": 90.71, \"Sanity\": 84.22, \"Time Stamp\": \"2022-03-31 07:23:55\"}, {\"Name\": \"Efreeti\", \"Type\": \"Elemental\", \"Level\": 14, \"Rarity\": \"Rank 1\", \"Damage\": \"14d4+1\", \"Health\": 55.46, \"Energy\": 56.7, \"Sanity\": 57.53, \"Time Stamp\": \"2022-03-31 07:23:55\"}, {\"Name\": \"Onyx Faerie\", \"Type\": \"Fey\", \"Level\": 16, \"Rarity\": \"Rank 0\", \"Damage\": \"16d2+1\", \"Health\": 32.94, \"Energy\": 32.47, \"Sanity\": 31.36, \"Time Stamp\": \"2022-03-31 07:23:55\"}, {\"Name\": \"Pseudodragon\", \"Type\": \"Dragon\", \"Level\": 8, \"Rarity\": \"Rank 0\", \"Damage\": \"8d2\", \"Health\": 16.73, \"Energy\": 15.38, \"Sanity\": 15.22, \"Time Stamp\": \"2022-03-31 07:23:55\"}, {\"Name\": \"Magma Mephit\", \"Type\": \"Elemental\", \"Level\": 17, \"Rarity\": \"Rank 3\", \"Damage\": \"17d8+2\", \"Health\": 139.18, \"Energy\": 132.21, \"Sanity\": 138.3, \"Time Stamp\": \"2022-03-31 07:23:55\"}, {\"Name\": \"Ice Archfey\", \"Type\": \"Fey\", \"Level\": 9, \"Rarity\": \"Rank 0\", \"Damage\": \"9d2+1\", \"Health\": 18.39, \"Energy\": 18.19, \"Sanity\": 17.78, \"Time Stamp\": \"2022-03-31 07:23:55\"}, {\"Name\": \"Copper Drake\", \"Type\": \"Dragon\", \"Level\": 8, \"Rarity\": \"Rank 3\", \"Damage\": \"8d8+2\", \"Health\": 64.39, \"Energy\": 65.34, \"Sanity\": 61.07, \"Time Stamp\": \"2022-03-31 07:23:55\"}, {\"Name\": \"Spore Devil\", \"Type\": \"Devilkin\", \"Level\": 15, \"Rarity\": \"Rank 1\", \"Damage\": \"15d4+4\", \"Health\": 60.74, \"Energy\": 60.44, \"Sanity\": 60.58, \"Time Stamp\": \"2022-03-31 07:23:55\"}, {\"Name\": \"White Archfey\", \"Type\": \"Fey\", \"Level\": 13, \"Rarity\": \"Rank 0\", \"Damage\": \"13d2\", \"Health\": 25.82, \"Energy\": 26.44, \"Sanity\": 25.71, \"Time Stamp\": \"2022-03-31 07:23:55\"}, {\"Name\": \"Diamond Drake\", \"Type\": \"Dragon\", \"Level\": 6, \"Rarity\": \"Rank 2\", \"Damage\": \"6d6+4\", \"Health\": 37.8, \"Energy\": 33.04, \"Sanity\": 35.64, \"Time Stamp\": \"2022-03-31 07:23:55\"}, {\"Name\": \"Efreeti\", \"Type\": \"Elemental\", \"Level\": 10, \"Rarity\": \"Rank 0\", \"Damage\": \"10d2+1\", \"Health\": 19.93, \"Energy\": 19.58, \"Sanity\": 20.39, \"Time Stamp\": \"2022-03-31 07:23:55\"}, {\"Name\": \"Emerald Faerie\", \"Type\": \"Fey\", \"Level\": 12, \"Rarity\": \"Rank 2\", \"Damage\": \"12d6\", \"Health\": 72.54, \"Energy\": 71.01, \"Sanity\": 74.67, \"Time Stamp\": \"2022-03-31 07:23:55\"}, {\"Name\": \"Sapphire Dragon\", \"Type\": \"Dragon\", \"Level\": 8, \"Rarity\": \"Rank 4\", \"Damage\": \"8d10\", \"Health\": 83.64, \"Energy\": 81.16, \"Sanity\": 76.17, \"Time Stamp\": \"2022-03-31 07:23:55\"}, {\"Name\": \"Efreeti\", \"Type\": \"Elemental\", \"Level\": 13, \"Rarity\": \"Rank 0\", \"Damage\": \"13d2+3\", \"Health\": 25.93, \"Energy\": 26.92, \"Sanity\": 26.93, \"Time Stamp\": \"2022-03-31 07:23:55\"}, {\"Name\": \"Magma Devil\", \"Type\": \"Devilkin\", \"Level\": 6, \"Rarity\": \"Rank 2\", \"Damage\": \"6d6\", \"Health\": 36.4, \"Energy\": 35.45, \"Sanity\": 37.07, \"Time Stamp\": \"2022-03-31 07:23:55\"}, {\"Name\": \"Balor\", \"Type\": \"Demonic\", \"Level\": 3, \"Rarity\": \"Rank 2\", \"Damage\": \"3d6+3\", \"Health\": 15.98, \"Energy\": 20.47, \"Sanity\": 18.05, \"Time Stamp\": \"2022-03-31 07:23:55\"}, {\"Name\": \"Mummy Lord\", \"Type\": \"Undead\", \"Level\": 13, \"Rarity\": \"Rank 1\", \"Damage\": \"13d4+2\", \"Health\": 52.17, \"Energy\": 51.38, \"Sanity\": 51.49, \"Time Stamp\": \"2022-03-31 07:23:55\"}, {\"Name\": \"Efreeti\", \"Type\": \"Elemental\", \"Level\": 3, \"Rarity\": \"Rank 1\", \"Damage\": \"3d4+1\", \"Health\": 10.71, \"Energy\": 12.14, \"Sanity\": 11.2, \"Time Stamp\": \"2022-03-31 07:23:55\"}, {\"Name\": \"Pit Lord\", \"Type\": \"Devilkin\", \"Level\": 6, \"Rarity\": \"Rank 3\", \"Damage\": \"6d8\", \"Health\": 45.46, \"Energy\": 48.85, \"Sanity\": 48.07, \"Time Stamp\": \"2022-03-31 07:23:55\"}, {\"Name\": \"Quasit\", \"Type\": \"Demonic\", \"Level\": 3, \"Rarity\": \"Rank 0\", \"Damage\": \"3d2\", \"Health\": 6.33, \"Energy\": 6.93, \"Sanity\": 5.56, \"Time Stamp\": \"2022-03-31 07:23:55\"}, {\"Name\": \"Lich King\", \"Type\": \"Undead\", \"Level\": 4, \"Rarity\": \"Rank 1\", \"Damage\": \"4d4\", \"Health\": 16.42, \"Energy\": 15.61, \"Sanity\": 14.93, \"Time Stamp\": \"2022-03-31 07:23:55\"}, {\"Name\": \"Shadow Mephit\", \"Type\": \"Elemental\", \"Level\": 16, \"Rarity\": \"Rank 3\", \"Damage\": \"16d8\", \"Health\": 126.49, \"Energy\": 129.06, \"Sanity\": 129.53, \"Time Stamp\": \"2022-03-31 07:23:55\"}, {\"Name\": \"Pit Lord\", \"Type\": \"Devilkin\", \"Level\": 14, \"Rarity\": \"Rank 0\", \"Damage\": \"14d2\", \"Health\": 28.1, \"Energy\": 27.53, \"Sanity\": 27.25, \"Time Stamp\": \"2022-03-31 07:23:55\"}, {\"Name\": \"Onyx Demon\", \"Type\": \"Demonic\", \"Level\": 5, \"Rarity\": \"Rank 4\", \"Damage\": \"5d10\", \"Health\": 54.99, \"Energy\": 52.24, \"Sanity\": 51.86, \"Time Stamp\": \"2022-03-31 07:23:55\"}, {\"Name\": \"Djinni\", \"Type\": \"Elemental\", \"Level\": 1, \"Rarity\": \"Rank 1\", \"Damage\": \"1d4+4\", \"Health\": 3.74, \"Energy\": 4.96, \"Sanity\": 4.36, \"Time Stamp\": \"2022-03-31 07:23:55\"}, {\"Name\": \"Smoke Devil\", \"Type\": \"Devilkin\", \"Level\": 16, \"Rarity\": \"Rank 1\", \"Damage\": \"16d4\", \"Health\": 63.48, \"Energy\": 62.97, \"Sanity\": 63.42, \"Time Stamp\": \"2022-03-31 07:23:55\"}, {\"Name\": \"Pit Fiend\", \"Type\": \"Demonic\", \"Level\": 10, \"Rarity\": \"Rank 1\", \"Damage\": \"10d4+1\", \"Health\": 38.61, \"Energy\": 38.14, \"Sanity\": 40.87, \"Time Stamp\": \"2022-03-31 07:23:55\"}, {\"Name\": \"Platinum Dragon\", \"Type\": \"Dragon\", \"Level\": 2, \"Rarity\": \"Rank 0\", \"Damage\": \"2d2\", \"Health\": 4.02, \"Energy\": 4.06, \"Sanity\": 3.58, \"Time Stamp\": \"2022-03-31 07:23:55\"}, {\"Name\": \"Succubus\", \"Type\": \"Devilkin\", \"Level\": 2, \"Rarity\": \"Rank 3\", \"Damage\": \"2d8+1\", \"Health\": 15.47, \"Energy\": 12.85, \"Sanity\": 14.84, \"Time Stamp\": \"2022-03-31 07:23:55\"}, {\"Name\": \"Red Demon\", \"Type\": \"Demonic\", \"Level\": 9, \"Rarity\": \"Rank 0\", \"Damage\": \"9d2+3\", \"Health\": 18.66, \"Energy\": 17.87, \"Sanity\": 17.63, \"Time Stamp\": \"2022-03-31 07:23:55\"}, {\"Name\": \"Pseudodragon\", \"Type\": \"Dragon\", \"Level\": 2, \"Rarity\": \"Rank 1\", \"Damage\": \"2d4\", \"Health\": 7.26, \"Energy\": 8.7, \"Sanity\": 7.32, \"Time Stamp\": \"2022-03-31 07:23:55\"}, {\"Name\": \"Djinni\", \"Type\": \"Elemental\", \"Level\": 10, \"Rarity\": \"Rank 0\", \"Damage\": \"10d2+1\", \"Health\": 20.4, \"Energy\": 20.61, \"Sanity\": 19.08, \"Time Stamp\": \"2022-03-31 07:23:55\"}, {\"Name\": \"Copper Demon\", \"Type\": \"Demonic\", \"Level\": 5, \"Rarity\": \"Rank 1\", \"Damage\": \"5d4+1\", \"Health\": 18.71, \"Energy\": 18.06, \"Sanity\": 20.32, \"Time Stamp\": \"2022-03-31 07:23:55\"}, {\"Name\": \"Blue Drake\", \"Type\": \"Dragon\", \"Level\": 1, \"Rarity\": \"Rank 2\", \"Damage\": \"1d6\", \"Health\": 4.63, \"Energy\": 5.13, \"Sanity\": 5.46, \"Time Stamp\": \"2022-03-31 07:23:55\"}, {\"Name\": \"Kobold Villager\", \"Type\": \"Devilkin\", \"Level\": 10, \"Rarity\": \"Rank 0\", \"Damage\": \"10d2+1\", \"Health\": 19.9, \"Energy\": 20.7, \"Sanity\": 20.59, \"Time Stamp\": \"2022-03-31 07:23:55\"}, {\"Name\": \"Imp\", \"Type\": \"Demonic\", \"Level\": 4, \"Rarity\": \"Rank 0\", \"Damage\": \"4d2\", \"Health\": 7.44, \"Energy\": 7.27, \"Sanity\": 7.77, \"Time Stamp\": \"2022-03-31 07:23:55\"}, {\"Name\": \"Skeletal Mage\", \"Type\": \"Undead\", \"Level\": 2, \"Rarity\": \"Rank 0\", \"Damage\": \"2d2+1\", \"Health\": 3.12, \"Energy\": 4.43, \"Sanity\": 4.94, \"Time Stamp\": \"2022-03-31 07:23:55\"}, {\"Name\": \"Djinni\", \"Type\": \"Elemental\", \"Level\": 7, \"Rarity\": \"Rank 2\", \"Damage\": \"7d6+2\", \"Health\": 40.15, \"Energy\": 40.92, \"Sanity\": 42.61, \"Time Stamp\": \"2022-03-31 07:23:55\"}, {\"Name\": \"Nightmare\", \"Type\": \"Demonic\", \"Level\": 3, \"Rarity\": \"Rank 1\", \"Damage\": \"3d4+3\", \"Health\": 11.67, \"Energy\": 11.92, \"Sanity\": 11.78, \"Time Stamp\": \"2022-03-31 07:23:55\"}, {\"Name\": \"Mummy Lord\", \"Type\": \"Undead\", \"Level\": 9, \"Rarity\": \"Rank 0\", \"Damage\": \"9d2\", \"Health\": 18.0, \"Energy\": 17.83, \"Sanity\": 18.55, \"Time Stamp\": \"2022-03-31 07:23:55\"}, {\"Name\": \"Kobold Guard\", \"Type\": \"Devilkin\", \"Level\": 9, \"Rarity\": \"Rank 2\", \"Damage\": \"9d6\", \"Health\": 54.07, \"Energy\": 55.68, \"Sanity\": 52.04, \"Time Stamp\": \"2022-03-31 07:23:55\"}, {\"Name\": \"Pit Fiend\", \"Type\": \"Demonic\", \"Level\": 12, \"Rarity\": \"Rank 2\", \"Damage\": \"12d6+2\", \"Health\": 71.94, \"Energy\": 73.23, \"Sanity\": 70.77, \"Time Stamp\": \"2022-03-31 07:23:55\"}, {\"Name\": \"Pseudodragon\", \"Type\": \"Dragon\", \"Level\": 6, \"Rarity\": \"Rank 3\", \"Damage\": \"6d8+5\", \"Health\": 50.91, \"Energy\": 45.03, \"Sanity\": 45.41, \"Time Stamp\": \"2022-03-31 07:23:55\"}, {\"Name\": \"Kobold Knight\", \"Type\": \"Devilkin\", \"Level\": 8, \"Rarity\": \"Rank 5\", \"Damage\": \"8d12\", \"Health\": 93.35, \"Energy\": 95.16, \"Sanity\": 94.81, \"Time Stamp\": \"2022-03-31 07:23:55\"}, {\"Name\": \"Night Hag\", \"Type\": \"Demonic\", \"Level\": 4, \"Rarity\": \"Rank 3\", \"Damage\": \"4d8+4\", \"Health\": 31.2, \"Energy\": 31.21, \"Sanity\": 34.62, \"Time Stamp\": \"2022-03-31 07:23:55\"}, {\"Name\": \"Dracolich\", \"Type\": \"Undead\", \"Level\": 12, \"Rarity\": \"Rank 0\", \"Damage\": \"12d2+4\", \"Health\": 24.62, \"Energy\": 23.24, \"Sanity\": 24.81, \"Time Stamp\": \"2022-03-31 07:23:55\"}, {\"Name\": \"Dust Mephit\", \"Type\": \"Elemental\", \"Level\": 9, \"Rarity\": \"Rank 1\", \"Damage\": \"9d4+1\", \"Health\": 35.19, \"Energy\": 35.08, \"Sanity\": 36.6, \"Time Stamp\": \"2022-03-31 07:23:55\"}, {\"Name\": \"Hell Hound\", \"Type\": \"Demonic\", \"Level\": 12, \"Rarity\": \"Rank 2\", \"Damage\": \"12d6\", \"Health\": 73.49, \"Energy\": 70.4, \"Sanity\": 71.04, \"Time Stamp\": \"2022-03-31 07:23:55\"}, {\"Name\": \"Brass Drake\", \"Type\": \"Dragon\", \"Level\": 10, \"Rarity\": \"Rank 0\", \"Damage\": \"10d2+1\", \"Health\": 19.71, \"Energy\": 19.5, \"Sanity\": 19.02, \"Time Stamp\": \"2022-03-31 07:23:55\"}, {\"Name\": \"Lightning Mephit\", \"Type\": \"Elemental\", \"Level\": 3, \"Rarity\": \"Rank 4\", \"Damage\": \"3d10+3\", \"Health\": 34.73, \"Energy\": 29.09, \"Sanity\": 27.1, \"Time Stamp\": \"2022-03-31 07:23:55\"}, {\"Name\": \"Flame Archfey\", \"Type\": \"Fey\", \"Level\": 16, \"Rarity\": \"Rank 2\", \"Damage\": \"16d6+3\", \"Health\": 95.48, \"Energy\": 97.84, \"Sanity\": 94.54, \"Time Stamp\": \"2022-03-31 07:23:55\"}, {\"Name\": \"Bronze Dragon\", \"Type\": \"Dragon\", \"Level\": 2, \"Rarity\": \"Rank 0\", \"Damage\": \"2d2\", \"Health\": 3.66, \"Energy\": 3.33, \"Sanity\": 4.02, \"Time Stamp\": \"2022-03-31 07:23:55\"}, {\"Name\": \"Goblin Archer\", \"Type\": \"Devilkin\", \"Level\": 3, \"Rarity\": \"Rank 4\", \"Damage\": \"3d10+4\", \"Health\": 33.19, \"Energy\": 33.43, \"Sanity\": 29.61, \"Time Stamp\": \"2022-03-31 07:23:55\"}, {\"Name\": \"Blue Faerie\", \"Type\": \"Fey\", \"Level\": 13, \"Rarity\": \"Rank 1\", \"Damage\": \"13d4\", \"Health\": 51.62, \"Energy\": 52.17, \"Sanity\": 53.6, \"Time Stamp\": \"2022-03-31 07:23:55\"}, {\"Name\": \"Ruby Wyrmling\", \"Type\": \"Dragon\", \"Level\": 3, \"Rarity\": \"Rank 1\", \"Damage\": \"3d4+2\", \"Health\": 10.21, \"Energy\": 10.55, \"Sanity\": 11.65, \"Time Stamp\": \"2022-03-31 07:23:55\"}, {\"Name\": \"Efreeti\", \"Type\": \"Elemental\", \"Level\": 6, \"Rarity\": \"Rank 3\", \"Damage\": \"6d8\", \"Health\": 46.56, \"Energy\": 48.34, \"Sanity\": 45.55, \"Time Stamp\": \"2022-03-31 07:23:55\"}, {\"Name\": \"Kobold Villager\", \"Type\": \"Devilkin\", \"Level\": 12, \"Rarity\": \"Rank 0\", \"Damage\": \"12d2\", \"Health\": 23.15, \"Energy\": 24.82, \"Sanity\": 24.55, \"Time Stamp\": \"2022-03-31 07:23:55\"}, {\"Name\": \"Prismatic Demon\", \"Type\": \"Demonic\", \"Level\": 10, \"Rarity\": \"Rank 3\", \"Damage\": \"10d8+4\", \"Health\": 77.31, \"Energy\": 80.71, \"Sanity\": 77.56, \"Time Stamp\": \"2022-03-31 07:23:55\"}, {\"Name\": \"Spore Mephit\", \"Type\": \"Elemental\", \"Level\": 15, \"Rarity\": \"Rank 2\", \"Damage\": \"15d6+3\", \"Health\": 87.32, \"Energy\": 89.29, \"Sanity\": 87.38, \"Time Stamp\": \"2022-03-31 07:23:55\"}, {\"Name\": \"Gold Archfey\", \"Type\": \"Fey\", \"Level\": 13, \"Rarity\": \"Rank 1\", \"Damage\": \"13d4\", \"Health\": 50.16, \"Energy\": 51.17, \"Sanity\": 53.3, \"Time Stamp\": \"2022-03-31 07:23:55\"}, {\"Name\": \"Ghoul\", \"Type\": \"Undead\", \"Level\": 5, \"Rarity\": \"Rank 2\", \"Damage\": \"5d6+2\", \"Health\": 30.32, \"Energy\": 29.8, \"Sanity\": 28.73, \"Time Stamp\": \"2022-03-31 07:23:55\"}, {\"Name\": \"Efreeti\", \"Type\": \"Elemental\", \"Level\": 14, \"Rarity\": \"Rank 1\", \"Damage\": \"14d4+1\", \"Health\": 56.78, \"Energy\": 54.66, \"Sanity\": 55.07, \"Time Stamp\": \"2022-03-31 07:23:55\"}, {\"Name\": \"Shadow Spirit\", \"Type\": \"Fey\", \"Level\": 11, \"Rarity\": \"Rank 1\", \"Damage\": \"11d4+3\", \"Health\": 45.89, \"Energy\": 43.03, \"Sanity\": 44.87, \"Time Stamp\": \"2022-03-31 07:23:55\"}, {\"Name\": \"Pseudodragon\", \"Type\": \"Dragon\", \"Level\": 5, \"Rarity\": \"Rank 1\", \"Damage\": \"5d4+1\", \"Health\": 20.95, \"Energy\": 19.92, \"Sanity\": 21.29, \"Time Stamp\": \"2022-03-31 07:23:55\"}, {\"Name\": \"Revenant\", \"Type\": \"Undead\", \"Level\": 15, \"Rarity\": \"Rank 1\", \"Damage\": \"15d4+4\", \"Health\": 61.33, \"Energy\": 60.87, \"Sanity\": 60.51, \"Time Stamp\": \"2022-03-31 07:23:55\"}, {\"Name\": \"Goblin Mage\", \"Type\": \"Devilkin\", \"Level\": 2, \"Rarity\": \"Rank 1\", \"Damage\": \"2d4\", \"Health\": 8.09, \"Energy\": 7.93, \"Sanity\": 6.6, \"Time Stamp\": \"2022-03-31 07:23:55\"}, {\"Name\": \"Ice Archfey\", \"Type\": \"Fey\", \"Level\": 9, \"Rarity\": \"Rank 3\", \"Damage\": \"9d8\", \"Health\": 74.49, \"Energy\": 72.58, \"Sanity\": 73.75, \"Time Stamp\": \"2022-03-31 07:23:55\"}, {\"Name\": \"Imp\", \"Type\": \"Demonic\", \"Level\": 5, \"Rarity\": \"Rank 3\", \"Damage\": \"5d8+3\", \"Health\": 38.95, \"Energy\": 40.22, \"Sanity\": 43.0, \"Time Stamp\": \"2022-03-31 07:23:55\"}, {\"Name\": \"Flame Mephit\", \"Type\": \"Elemental\", \"Level\": 9, \"Rarity\": \"Rank 3\", \"Damage\": \"9d8+1\", \"Health\": 72.74, \"Energy\": 75.15, \"Sanity\": 69.57, \"Time Stamp\": \"2022-03-31 07:23:55\"}, {\"Name\": \"Hook Horror\", \"Type\": \"Demonic\", \"Level\": 6, \"Rarity\": \"Rank 0\", \"Damage\": \"6d2+3\", \"Health\": 11.05, \"Energy\": 12.94, \"Sanity\": 11.95, \"Time Stamp\": \"2022-03-31 07:23:55\"}, {\"Name\": \"Faerie Dragon\", \"Type\": \"Dragon\", \"Level\": 18, \"Rarity\": \"Rank 0\", \"Damage\": \"18d2+2\", \"Health\": 35.5, \"Energy\": 36.69, \"Sanity\": 36.74, \"Time Stamp\": \"2022-03-31 07:23:55\"}, {\"Name\": \"Efreeti\", \"Type\": \"Elemental\", \"Level\": 3, \"Rarity\": \"Rank 1\", \"Damage\": \"3d4+1\", \"Health\": 11.02, \"Energy\": 12.76, \"Sanity\": 13.88, \"Time Stamp\": \"2022-03-31 07:23:55\"}, {\"Name\": \"Sapphire Demon\", \"Type\": \"Demonic\", \"Level\": 11, \"Rarity\": \"Rank 4\", \"Damage\": \"11d10+4\", \"Health\": 114.96, \"Energy\": 110.49, \"Sanity\": 108.68, \"Time Stamp\": \"2022-03-31 07:23:55\"}, {\"Name\": \"Brass Drake\", \"Type\": \"Dragon\", \"Level\": 7, \"Rarity\": \"Rank 0\", \"Damage\": \"7d2\", \"Health\": 13.2, \"Energy\": 13.93, \"Sanity\": 13.27, \"Time Stamp\": \"2022-03-31 07:23:55\"}, {\"Name\": \"Succubus\", \"Type\": \"Devilkin\", \"Level\": 6, \"Rarity\": \"Rank 1\", \"Damage\": \"6d4\", \"Health\": 22.68, \"Energy\": 25.82, \"Sanity\": 24.77, \"Time Stamp\": \"2022-03-31 07:23:55\"}, {\"Name\": \"Quasit\", \"Type\": \"Demonic\", \"Level\": 3, \"Rarity\": \"Rank 1\", \"Damage\": \"3d4+2\", \"Health\": 10.68, \"Energy\": 13.84, \"Sanity\": 11.31, \"Time Stamp\": \"2022-03-31 07:23:55\"}, {\"Name\": \"Ghostly Archer\", \"Type\": \"Undead\", \"Level\": 8, \"Rarity\": \"Rank 3\", \"Damage\": \"8d8\", \"Health\": 61.79, \"Energy\": 60.02, \"Sanity\": 66.94, \"Time Stamp\": \"2022-03-31 07:23:55\"}, {\"Name\": \"Succubus\", \"Type\": \"Devilkin\", \"Level\": 11, \"Rarity\": \"Rank 0\", \"Damage\": \"11d2\", \"Health\": 21.95, \"Energy\": 22.87, \"Sanity\": 22.58, \"Time Stamp\": \"2022-03-31 07:23:55\"}, {\"Name\": \"Hook Horror\", \"Type\": \"Demonic\", \"Level\": 10, \"Rarity\": \"Rank 1\", \"Damage\": \"10d4+2\", \"Health\": 40.41, \"Energy\": 40.22, \"Sanity\": 41.56, \"Time Stamp\": \"2022-03-31 07:23:55\"}, {\"Name\": \"Wraith\", \"Type\": \"Undead\", \"Level\": 4, \"Rarity\": \"Rank 2\", \"Damage\": \"4d6+5\", \"Health\": 26.7, \"Energy\": 26.64, \"Sanity\": 23.2, \"Time Stamp\": \"2022-03-31 07:23:55\"}, {\"Name\": \"Dust Devil\", \"Type\": \"Devilkin\", \"Level\": 17, \"Rarity\": \"Rank 1\", \"Damage\": \"17d4+5\", \"Health\": 68.66, \"Energy\": 68.48, \"Sanity\": 67.37, \"Time Stamp\": \"2022-03-31 07:23:55\"}, {\"Name\": \"Wyvern\", \"Type\": \"Dragon\", \"Level\": 4, \"Rarity\": \"Rank 1\", \"Damage\": \"4d4\", \"Health\": 15.61, \"Energy\": 17.38, \"Sanity\": 17.06, \"Time Stamp\": \"2022-03-31 07:23:55\"}, {\"Name\": \"Djinni\", \"Type\": \"Elemental\", \"Level\": 3, \"Rarity\": \"Rank 0\", \"Damage\": \"3d2+2\", \"Health\": 6.24, \"Energy\": 6.09, \"Sanity\": 5.24, \"Time Stamp\": \"2022-03-31 07:23:55\"}, {\"Name\": \"Bronze Faerie\", \"Type\": \"Fey\", \"Level\": 10, \"Rarity\": \"Rank 0\", \"Damage\": \"10d2\", \"Health\": 20.2, \"Energy\": 20.97, \"Sanity\": 19.75, \"Time Stamp\": \"2022-03-31 07:23:55\"}, {\"Name\": \"Red Drake\", \"Type\": \"Dragon\", \"Level\": 5, \"Rarity\": \"Rank 1\", \"Damage\": \"5d4\", \"Health\": 19.94, \"Energy\": 19.89, \"Sanity\": 21.68, \"Time Stamp\": \"2022-03-31 07:23:55\"}, {\"Name\": \"Smoke Mephit\", \"Type\": \"Elemental\", \"Level\": 5, \"Rarity\": \"Rank 1\", \"Damage\": \"5d4+1\", \"Health\": 18.88, \"Energy\": 19.37, \"Sanity\": 20.33, \"Time Stamp\": \"2022-03-31 07:23:55\"}, {\"Name\": \"Onyx Faerie\", \"Type\": \"Fey\", \"Level\": 4, \"Rarity\": \"Rank 5\", \"Damage\": \"4d12\", \"Health\": 50.75, \"Energy\": 42.56, \"Sanity\": 52.36, \"Time Stamp\": \"2022-03-31 07:23:55\"}, {\"Name\": \"Faerie Dragon\", \"Type\": \"Dragon\", \"Level\": 10, \"Rarity\": \"Rank 4\", \"Damage\": \"10d10\", \"Health\": 101.2, \"Energy\": 103.78, \"Sanity\": 101.97, \"Time Stamp\": \"2022-03-31 07:23:55\"}, {\"Name\": \"Dust Elemental\", \"Type\": \"Elemental\", \"Level\": 16, \"Rarity\": \"Rank 2\", \"Damage\": \"16d6+1\", \"Health\": 97.66, \"Energy\": 96.33, \"Sanity\": 93.7, \"Time Stamp\": \"2022-03-31 07:23:55\"}, {\"Name\": \"Lightning Spirit\", \"Type\": \"Fey\", \"Level\": 16, \"Rarity\": \"Rank 2\", \"Damage\": \"16d6+2\", \"Health\": 94.31, \"Energy\": 93.56, \"Sanity\": 93.29, \"Time Stamp\": \"2022-03-31 07:23:55\"}, {\"Name\": \"Hook Horror\", \"Type\": \"Demonic\", \"Level\": 10, \"Rarity\": \"Rank 2\", \"Damage\": \"10d6+1\", \"Health\": 62.92, \"Energy\": 61.37, \"Sanity\": 57.7, \"Time Stamp\": \"2022-03-31 07:23:55\"}, {\"Name\": \"Steam Mephit\", \"Type\": \"Elemental\", \"Level\": 12, \"Rarity\": \"Rank 0\", \"Damage\": \"12d2+3\", \"Health\": 24.64, \"Energy\": 23.95, \"Sanity\": 23.46, \"Time Stamp\": \"2022-03-31 07:23:55\"}, {\"Name\": \"Mud Spirit\", \"Type\": \"Fey\", \"Level\": 6, \"Rarity\": \"Rank 1\", \"Damage\": \"6d4\", \"Health\": 22.78, \"Energy\": 23.08, \"Sanity\": 25.6, \"Time Stamp\": \"2022-03-31 07:23:55\"}, {\"Name\": \"Gold Dragon\", \"Type\": \"Dragon\", \"Level\": 6, \"Rarity\": \"Rank 1\", \"Damage\": \"6d4+2\", \"Health\": 24.95, \"Energy\": 22.44, \"Sanity\": 23.27, \"Time Stamp\": \"2022-03-31 07:23:55\"}, {\"Name\": \"Lightning Mephit\", \"Type\": \"Elemental\", \"Level\": 11, \"Rarity\": \"Rank 0\", \"Damage\": \"11d2\", \"Health\": 21.18, \"Energy\": 21.82, \"Sanity\": 22.96, \"Time Stamp\": \"2022-03-31 07:23:55\"}, {\"Name\": \"Balor\", \"Type\": \"Demonic\", \"Level\": 5, \"Rarity\": \"Rank 0\", \"Damage\": \"5d2+1\", \"Health\": 9.01, \"Energy\": 10.71, \"Sanity\": 10.61, \"Time Stamp\": \"2022-03-31 07:23:55\"}, {\"Name\": \"Flame Elemental\", \"Type\": \"Elemental\", \"Level\": 15, \"Rarity\": \"Rank 1\", \"Damage\": \"15d4\", \"Health\": 58.41, \"Energy\": 61.68, \"Sanity\": 60.22, \"Time Stamp\": \"2022-03-31 07:23:55\"}, {\"Name\": \"Prince of Fear\", \"Type\": \"Devilkin\", \"Level\": 6, \"Rarity\": \"Rank 3\", \"Damage\": \"6d8+1\", \"Health\": 51.12, \"Energy\": 51.08, \"Sanity\": 49.16, \"Time Stamp\": \"2022-03-31 07:23:55\"}, {\"Name\": \"Wyvern\", \"Type\": \"Dragon\", \"Level\": 8, \"Rarity\": \"Rank 2\", \"Damage\": \"8d6+1\", \"Health\": 46.43, \"Energy\": 49.16, \"Sanity\": 47.41, \"Time Stamp\": \"2022-03-31 07:23:55\"}, {\"Name\": \"Magma Elemental\", \"Type\": \"Elemental\", \"Level\": 5, \"Rarity\": \"Rank 0\", \"Damage\": \"5d2+2\", \"Health\": 10.84, \"Energy\": 10.85, \"Sanity\": 10.41, \"Time Stamp\": \"2022-03-31 07:23:55\"}, {\"Name\": \"Silver Faerie\", \"Type\": \"Fey\", \"Level\": 10, \"Rarity\": \"Rank 4\", \"Damage\": \"10d10+2\", \"Health\": 101.84, \"Energy\": 101.67, \"Sanity\": 101.53, \"Time Stamp\": \"2022-03-31 07:23:55\"}, {\"Name\": \"Prismatic Dragon\", \"Type\": \"Dragon\", \"Level\": 7, \"Rarity\": \"Rank 1\", \"Damage\": \"7d4\", \"Health\": 28.91, \"Energy\": 29.4, \"Sanity\": 27.59, \"Time Stamp\": \"2022-03-31 07:23:55\"}, {\"Name\": \"Efreeti\", \"Type\": \"Elemental\", \"Level\": 9, \"Rarity\": \"Rank 3\", \"Damage\": \"9d8+2\", \"Health\": 71.28, \"Energy\": 73.83, \"Sanity\": 73.97, \"Time Stamp\": \"2022-03-31 07:23:55\"}, {\"Name\": \"White Faerie\", \"Type\": \"Fey\", \"Level\": 13, \"Rarity\": \"Rank 0\", \"Damage\": \"13d2+2\", \"Health\": 25.65, \"Energy\": 25.12, \"Sanity\": 25.28, \"Time Stamp\": \"2022-03-31 07:23:55\"}, {\"Name\": \"Nightmare\", \"Type\": \"Demonic\", \"Level\": 9, \"Rarity\": \"Rank 1\", \"Damage\": \"9d4+5\", \"Health\": 35.37, \"Energy\": 37.34, \"Sanity\": 34.81, \"Time Stamp\": \"2022-03-31 07:23:55\"}, {\"Name\": \"Death Knight\", \"Type\": \"Undead\", \"Level\": 14, \"Rarity\": \"Rank 3\", \"Damage\": \"14d8+2\", \"Health\": 114.92, \"Energy\": 112.21, \"Sanity\": 110.02, \"Time Stamp\": \"2022-03-31 07:23:55\"}, {\"Name\": \"Lightning Elemental\", \"Type\": \"Elemental\", \"Level\": 6, \"Rarity\": \"Rank 1\", \"Damage\": \"6d4+3\", \"Health\": 22.68, \"Energy\": 23.52, \"Sanity\": 23.75, \"Time Stamp\": \"2022-03-31 07:23:55\"}, {\"Name\": \"Hell Hound\", \"Type\": \"Demonic\", \"Level\": 13, \"Rarity\": \"Rank 1\", \"Damage\": \"13d4\", \"Health\": 52.36, \"Energy\": 50.5, \"Sanity\": 50.96, \"Time Stamp\": \"2022-03-31 07:23:55\"}, {\"Name\": \"Ghostly Guard\", \"Type\": \"Undead\", \"Level\": 5, \"Rarity\": \"Rank 2\", \"Damage\": \"5d6\", \"Health\": 30.84, \"Energy\": 28.12, \"Sanity\": 29.76, \"Time Stamp\": \"2022-03-31 07:23:55\"}, {\"Name\": \"Smoke Mephit\", \"Type\": \"Elemental\", \"Level\": 9, \"Rarity\": \"Rank 2\", \"Damage\": \"9d6+1\", \"Health\": 56.68, \"Energy\": 52.75, \"Sanity\": 53.81, \"Time Stamp\": \"2022-03-31 07:23:55\"}, {\"Name\": \"Balor\", \"Type\": \"Demonic\", \"Level\": 5, \"Rarity\": \"Rank 2\", \"Damage\": \"5d6+3\", \"Health\": 29.65, \"Energy\": 31.59, \"Sanity\": 27.41, \"Time Stamp\": \"2022-03-31 07:23:55\"}, {\"Name\": \"Faerie Dragon\", \"Type\": \"Dragon\", \"Level\": 16, \"Rarity\": \"Rank 3\", \"Damage\": \"16d8+5\", \"Health\": 127.64, \"Energy\": 127.71, \"Sanity\": 125.62, \"Time Stamp\": \"2022-03-31 07:23:55\"}, {\"Name\": \"Lich\", \"Type\": \"Undead\", \"Level\": 7, \"Rarity\": \"Rank 0\", \"Damage\": \"7d2+2\", \"Health\": 13.67, \"Energy\": 13.49, \"Sanity\": 14.09, \"Time Stamp\": \"2022-03-31 07:23:55\"}, {\"Name\": \"Goblin Knight\", \"Type\": \"Devilkin\", \"Level\": 16, \"Rarity\": \"Rank 1\", \"Damage\": \"16d4+1\", \"Health\": 62.97, \"Energy\": 63.71, \"Sanity\": 63.33, \"Time Stamp\": \"2022-03-31 07:23:55\"}, {\"Name\": \"Wyvern\", \"Type\": \"Dragon\", \"Level\": 5, \"Rarity\": \"Rank 0\", \"Damage\": \"5d2+2\", \"Health\": 10.24, \"Energy\": 10.62, \"Sanity\": 9.18, \"Time Stamp\": \"2022-03-31 07:23:55\"}, {\"Name\": \"Spore Mephit\", \"Type\": \"Elemental\", \"Level\": 10, \"Rarity\": \"Rank 1\", \"Damage\": \"10d4+3\", \"Health\": 38.03, \"Energy\": 40.93, \"Sanity\": 39.34, \"Time Stamp\": \"2022-03-31 07:23:55\"}, {\"Name\": \"Pit Fiend\", \"Type\": \"Demonic\", \"Level\": 15, \"Rarity\": \"Rank 2\", \"Damage\": \"15d6\", \"Health\": 91.27, \"Energy\": 89.63, \"Sanity\": 87.73, \"Time Stamp\": \"2022-03-31 07:23:55\"}, {\"Name\": \"Pseudodragon\", \"Type\": \"Dragon\", \"Level\": 6, \"Rarity\": \"Rank 1\", \"Damage\": \"6d4\", \"Health\": 22.97, \"Energy\": 24.25, \"Sanity\": 24.05, \"Time Stamp\": \"2022-03-31 07:23:55\"}, {\"Name\": \"Shadow Elemental\", \"Type\": \"Elemental\", \"Level\": 2, \"Rarity\": \"Rank 1\", \"Damage\": \"2d4+5\", \"Health\": 7.21, \"Energy\": 8.21, \"Sanity\": 6.68, \"Time Stamp\": \"2022-03-31 07:23:55\"}, {\"Name\": \"Ruby Archfey\", \"Type\": \"Fey\", \"Level\": 7, \"Rarity\": \"Rank 1\", \"Damage\": \"7d4\", \"Health\": 29.93, \"Energy\": 28.51, \"Sanity\": 29.24, \"Time Stamp\": \"2022-03-31 07:23:55\"}, {\"Name\": \"Faerie Dragon\", \"Type\": \"Dragon\", \"Level\": 2, \"Rarity\": \"Rank 3\", \"Damage\": \"2d8+3\", \"Health\": 14.11, \"Energy\": 19.61, \"Sanity\": 13.55, \"Time Stamp\": \"2022-03-31 07:23:55\"}, {\"Name\": \"Revenant\", \"Type\": \"Undead\", \"Level\": 6, \"Rarity\": \"Rank 1\", \"Damage\": \"6d4\", \"Health\": 25.78, \"Energy\": 25.77, \"Sanity\": 24.1, \"Time Stamp\": \"2022-03-31 07:23:55\"}, {\"Name\": \"Succubus\", \"Type\": \"Devilkin\", \"Level\": 6, \"Rarity\": \"Rank 3\", \"Damage\": \"6d8+1\", \"Health\": 51.16, \"Energy\": 47.64, \"Sanity\": 50.24, \"Time Stamp\": \"2022-03-31 07:23:55\"}, {\"Name\": \"Pit Fiend\", \"Type\": \"Demonic\", \"Level\": 6, \"Rarity\": \"Rank 0\", \"Damage\": \"6d2+3\", \"Health\": 11.89, \"Energy\": 11.73, \"Sanity\": 12.77, \"Time Stamp\": \"2022-03-31 07:23:55\"}, {\"Name\": \"Emerald Dragon\", \"Type\": \"Dragon\", \"Level\": 1, \"Rarity\": \"Rank 3\", \"Damage\": \"1d8+1\", \"Health\": 7.82, \"Energy\": 7.29, \"Sanity\": 8.44, \"Time Stamp\": \"2022-03-31 07:23:55\"}, {\"Name\": \"Smoke Elemental\", \"Type\": \"Elemental\", \"Level\": 3, \"Rarity\": \"Rank 1\", \"Damage\": \"3d4+2\", \"Health\": 13.69, \"Energy\": 12.85, \"Sanity\": 10.41, \"Time Stamp\": \"2022-03-31 07:23:55\"}, {\"Name\": \"Magma Spirit\", \"Type\": \"Fey\", \"Level\": 13, \"Rarity\": \"Rank 1\", \"Damage\": \"13d4+2\", \"Health\": 50.72, \"Energy\": 51.06, \"Sanity\": 53.26, \"Time Stamp\": \"2022-03-31 07:23:55\"}, {\"Name\": \"Sapphire Wyrmling\", \"Type\": \"Dragon\", \"Level\": 4, \"Rarity\": \"Rank 0\", \"Damage\": \"4d2+3\", \"Health\": 8.31, \"Energy\": 7.29, \"Sanity\": 8.41, \"Time Stamp\": \"2022-03-31 07:23:55\"}, {\"Name\": \"Wraith\", \"Type\": \"Undead\", \"Level\": 11, \"Rarity\": \"Rank 0\", \"Damage\": \"11d2+1\", \"Health\": 22.74, \"Energy\": 22.83, \"Sanity\": 22.01, \"Time Stamp\": \"2022-03-31 07:23:55\"}, {\"Name\": \"Goblin Archer\", \"Type\": \"Devilkin\", \"Level\": 6, \"Rarity\": \"Rank 3\", \"Damage\": \"6d8+2\", \"Health\": 49.16, \"Energy\": 49.24, \"Sanity\": 50.65, \"Time Stamp\": \"2022-03-31 07:23:55\"}, {\"Name\": \"Quasit\", \"Type\": \"Demonic\", \"Level\": 10, \"Rarity\": \"Rank 2\", \"Damage\": \"10d6+1\", \"Health\": 62.11, \"Energy\": 59.13, \"Sanity\": 57.54, \"Time Stamp\": \"2022-03-31 07:23:55\"}, {\"Name\": \"Vampire\", \"Type\": \"Undead\", \"Level\": 3, \"Rarity\": \"Rank 4\", \"Damage\": \"3d10+2\", \"Health\": 32.29, \"Energy\": 29.52, \"Sanity\": 30.26, \"Time Stamp\": \"2022-03-31 07:23:55\"}, {\"Name\": \"Mud Elemental\", \"Type\": \"Elemental\", \"Level\": 14, \"Rarity\": \"Rank 0\", \"Damage\": \"14d2\", \"Health\": 28.32, \"Energy\": 28.38, \"Sanity\": 28.58, \"Time Stamp\": \"2022-03-31 07:23:55\"}, {\"Name\": \"Lightning Devil\", \"Type\": \"Devilkin\", \"Level\": 9, \"Rarity\": \"Rank 3\", \"Damage\": \"9d8+4\", \"Health\": 73.81, \"Energy\": 72.41, \"Sanity\": 69.61, \"Time Stamp\": \"2022-03-31 07:23:55\"}, {\"Name\": \"Nightmare\", \"Type\": \"Demonic\", \"Level\": 6, \"Rarity\": \"Rank 4\", \"Damage\": \"6d10+4\", \"Health\": 61.69, \"Energy\": 55.08, \"Sanity\": 63.21, \"Time Stamp\": \"2022-03-31 07:23:55\"}, {\"Name\": \"Vampire\", \"Type\": \"Undead\", \"Level\": 2, \"Rarity\": \"Rank 0\", \"Damage\": \"2d2+2\", \"Health\": 3.31, \"Energy\": 3.28, \"Sanity\": 4.35, \"Time Stamp\": \"2022-03-31 07:23:55\"}, {\"Name\": \"Pit Lord\", \"Type\": \"Devilkin\", \"Level\": 14, \"Rarity\": \"Rank 1\", \"Damage\": \"14d4+1\", \"Health\": 55.92, \"Energy\": 54.94, \"Sanity\": 55.73, \"Time Stamp\": \"2022-03-31 07:23:55\"}, {\"Name\": \"Pseudodragon\", \"Type\": \"Dragon\", \"Level\": 12, \"Rarity\": \"Rank 4\", \"Damage\": \"12d10+4\", \"Health\": 116.82, \"Energy\": 116.32, \"Sanity\": 122.35, \"Time Stamp\": \"2022-03-31 07:23:55\"}, {\"Name\": \"Ghoul\", \"Type\": \"Undead\", \"Level\": 3, \"Rarity\": \"Rank 4\", \"Damage\": \"3d10\", \"Health\": 28.8, \"Energy\": 28.53, \"Sanity\": 27.31, \"Time Stamp\": \"2022-03-31 07:23:55\"}, {\"Name\": \"Steam Spirit\", \"Type\": \"Fey\", \"Level\": 8, \"Rarity\": \"Rank 2\", \"Damage\": \"8d6+4\", \"Health\": 49.57, \"Energy\": 49.67, \"Sanity\": 48.7, \"Time Stamp\": \"2022-03-31 07:23:55\"}, {\"Name\": \"Pseudodragon\", \"Type\": \"Dragon\", \"Level\": 9, \"Rarity\": \"Rank 1\", \"Damage\": \"9d4+1\", \"Health\": 34.83, \"Energy\": 35.36, \"Sanity\": 36.96, \"Time Stamp\": \"2022-03-31 07:23:55\"}, {\"Name\": \"Mud Elemental\", \"Type\": \"Elemental\", \"Level\": 12, \"Rarity\": \"Rank 1\", \"Damage\": \"12d4\", \"Health\": 48.75, \"Energy\": 49.81, \"Sanity\": 48.46, \"Time Stamp\": \"2022-03-31 07:23:55\"}, {\"Name\": \"Diamond Faerie\", \"Type\": \"Fey\", \"Level\": 19, \"Rarity\": \"Rank 2\", \"Damage\": \"19d6\", \"Health\": 111.42, \"Energy\": 113.25, \"Sanity\": 113.54, \"Time Stamp\": \"2022-03-31 07:23:55\"}, {\"Name\": \"Death Knight\", \"Type\": \"Undead\", \"Level\": 13, \"Rarity\": \"Rank 3\", \"Damage\": \"13d8+1\", \"Health\": 101.03, \"Energy\": 104.59, \"Sanity\": 103.25, \"Time Stamp\": \"2022-03-31 07:23:55\"}, {\"Name\": \"Kobold Villager\", \"Type\": \"Devilkin\", \"Level\": 5, \"Rarity\": \"Rank 1\", \"Damage\": \"5d4\", \"Health\": 18.91, \"Energy\": 21.06, \"Sanity\": 20.77, \"Time Stamp\": \"2022-03-31 07:23:55\"}, {\"Name\": \"Hook Horror\", \"Type\": \"Demonic\", \"Level\": 6, \"Rarity\": \"Rank 0\", \"Damage\": \"6d2+1\", \"Health\": 11.63, \"Energy\": 12.84, \"Sanity\": 11.2, \"Time Stamp\": \"2022-03-31 07:23:55\"}, {\"Name\": \"Lightning Mephit\", \"Type\": \"Elemental\", \"Level\": 14, \"Rarity\": \"Rank 3\", \"Damage\": \"14d8\", \"Health\": 110.41, \"Energy\": 115.83, \"Sanity\": 112.13, \"Time Stamp\": \"2022-03-31 07:23:55\"}, {\"Name\": \"Hell Hound\", \"Type\": \"Demonic\", \"Level\": 4, \"Rarity\": \"Rank 2\", \"Damage\": \"4d6+1\", \"Health\": 23.54, \"Energy\": 24.61, \"Sanity\": 24.98, \"Time Stamp\": \"2022-03-31 07:23:55\"}, {\"Name\": \"Wraith\", \"Type\": \"Undead\", \"Level\": 7, \"Rarity\": \"Rank 1\", \"Damage\": \"7d4+4\", \"Health\": 27.75, \"Energy\": 28.79, \"Sanity\": 29.16, \"Time Stamp\": \"2022-03-31 07:23:55\"}, {\"Name\": \"Succubus\", \"Type\": \"Devilkin\", \"Level\": 8, \"Rarity\": \"Rank 0\", \"Damage\": \"8d2+2\", \"Health\": 16.67, \"Energy\": 16.12, \"Sanity\": 16.98, \"Time Stamp\": \"2022-03-31 07:23:55\"}, {\"Name\": \"Ice Spirit\", \"Type\": \"Fey\", \"Level\": 17, \"Rarity\": \"Rank 3\", \"Damage\": \"17d8\", \"Health\": 136.62, \"Energy\": 136.53, \"Sanity\": 132.86, \"Time Stamp\": \"2022-03-31 07:23:55\"}, {\"Name\": \"Wyvern\", \"Type\": \"Dragon\", \"Level\": 3, \"Rarity\": \"Rank 0\", \"Damage\": \"3d2+1\", \"Health\": 5.01, \"Energy\": 5.53, \"Sanity\": 5.76, \"Time Stamp\": \"2022-03-31 07:23:55\"}, {\"Name\": \"Mummy\", \"Type\": \"Undead\", \"Level\": 1, \"Rarity\": \"Rank 2\", \"Damage\": \"1d6+1\", \"Health\": 5.86, \"Energy\": 4.03, \"Sanity\": 5.7, \"Time Stamp\": \"2022-03-31 07:23:55\"}, {\"Name\": \"Pit Lord\", \"Type\": \"Devilkin\", \"Level\": 17, \"Rarity\": \"Rank 0\", \"Damage\": \"17d2+2\", \"Health\": 33.28, \"Energy\": 33.93, \"Sanity\": 33.45, \"Time Stamp\": \"2022-03-31 07:23:55\"}, {\"Name\": \"Night Hag\", \"Type\": \"Demonic\", \"Level\": 3, \"Rarity\": \"Rank 2\", \"Damage\": \"3d6+3\", \"Health\": 18.03, \"Energy\": 18.69, \"Sanity\": 15.89, \"Time Stamp\": \"2022-03-31 07:23:55\"}, {\"Name\": \"Pseudodragon\", \"Type\": \"Dragon\", \"Level\": 16, \"Rarity\": \"Rank 0\", \"Damage\": \"16d2+2\", \"Health\": 31.98, \"Energy\": 31.4, \"Sanity\": 32.57, \"Time Stamp\": \"2022-03-31 07:23:55\"}, {\"Name\": \"Wraith\", \"Type\": \"Undead\", \"Level\": 11, \"Rarity\": \"Rank 0\", \"Damage\": \"11d2+5\", \"Health\": 21.29, \"Energy\": 22.78, \"Sanity\": 22.54, \"Time Stamp\": \"2022-03-31 07:23:55\"}, {\"Name\": \"Spore Elemental\", \"Type\": \"Elemental\", \"Level\": 7, \"Rarity\": \"Rank 3\", \"Damage\": \"7d8\", \"Health\": 56.06, \"Energy\": 59.02, \"Sanity\": 56.14, \"Time Stamp\": \"2022-03-31 07:23:55\"}, {\"Name\": \"Shadow Spirit\", \"Type\": \"Fey\", \"Level\": 13, \"Rarity\": \"Rank 1\", \"Damage\": \"13d4+1\", \"Health\": 52.86, \"Energy\": 50.36, \"Sanity\": 52.95, \"Time Stamp\": \"2022-03-31 07:23:55\"}, {\"Name\": \"Quasit\", \"Type\": \"Demonic\", \"Level\": 8, \"Rarity\": \"Rank 0\", \"Damage\": \"8d2+3\", \"Health\": 15.82, \"Energy\": 15.85, \"Sanity\": 15.38, \"Time Stamp\": \"2022-03-31 07:23:55\"}, {\"Name\": \"Flame Elemental\", \"Type\": \"Elemental\", \"Level\": 12, \"Rarity\": \"Rank 1\", \"Damage\": \"12d4+3\", \"Health\": 47.67, \"Energy\": 48.5, \"Sanity\": 49.43, \"Time Stamp\": \"2022-03-31 07:23:55\"}, {\"Name\": \"Mud Archfey\", \"Type\": \"Fey\", \"Level\": 11, \"Rarity\": \"Rank 0\", \"Damage\": \"11d2\", \"Health\": 21.99, \"Energy\": 21.39, \"Sanity\": 21.28, \"Time Stamp\": \"2022-03-31 07:23:55\"}, {\"Name\": \"Brass Wyrmling\", \"Type\": \"Dragon\", \"Level\": 4, \"Rarity\": \"Rank 0\", \"Damage\": \"4d2+2\", \"Health\": 7.89, \"Energy\": 8.76, \"Sanity\": 7.06, \"Time Stamp\": \"2022-03-31 07:23:55\"}, {\"Name\": \"Djinni\", \"Type\": \"Elemental\", \"Level\": 2, \"Rarity\": \"Rank 0\", \"Damage\": \"2d2+4\", \"Health\": 3.83, \"Energy\": 3.55, \"Sanity\": 3.48, \"Time Stamp\": \"2022-03-31 07:23:55\"}, {\"Name\": \"Copper Archfey\", \"Type\": \"Fey\", \"Level\": 5, \"Rarity\": \"Rank 2\", \"Damage\": \"5d6\", \"Health\": 30.83, \"Energy\": 30.57, \"Sanity\": 29.74, \"Time Stamp\": \"2022-03-31 07:23:55\"}, {\"Name\": \"Mummy\", \"Type\": \"Undead\", \"Level\": 8, \"Rarity\": \"Rank 0\", \"Damage\": \"8d2+1\", \"Health\": 16.75, \"Energy\": 15.6, \"Sanity\": 15.92, \"Time Stamp\": \"2022-03-31 07:23:55\"}, {\"Name\": \"Lightning Spirit\", \"Type\": \"Fey\", \"Level\": 3, \"Rarity\": \"Rank 0\", \"Damage\": \"3d2+2\", \"Health\": 5.21, \"Energy\": 6.66, \"Sanity\": 6.36, \"Time Stamp\": \"2022-03-31 07:23:55\"}, {\"Name\": \"Wyvern\", \"Type\": \"Dragon\", \"Level\": 9, \"Rarity\": \"Rank 0\", \"Damage\": \"9d2\", \"Health\": 18.12, \"Energy\": 18.16, \"Sanity\": 18.15, \"Time Stamp\": \"2022-03-31 07:23:55\"}, {\"Name\": \"Banshee\", \"Type\": \"Undead\", \"Level\": 3, \"Rarity\": \"Rank 1\", \"Damage\": \"3d4+3\", \"Health\": 11.07, \"Energy\": 12.25, \"Sanity\": 11.63, \"Time Stamp\": \"2022-03-31 07:23:55\"}, {\"Name\": \"Efreeti\", \"Type\": \"Elemental\", \"Level\": 2, \"Rarity\": \"Rank 1\", \"Damage\": \"2d4\", \"Health\": 7.44, \"Energy\": 9.61, \"Sanity\": 7.68, \"Time Stamp\": \"2022-03-31 07:23:55\"}, {\"Name\": \"Kobold Knight\", \"Type\": \"Devilkin\", \"Level\": 8, \"Rarity\": \"Rank 3\", \"Damage\": \"8d8+2\", \"Health\": 67.9, \"Energy\": 67.43, \"Sanity\": 60.96, \"Time Stamp\": \"2022-03-31 07:23:55\"}, {\"Name\": \"Imp\", \"Type\": \"Demonic\", \"Level\": 8, \"Rarity\": \"Rank 1\", \"Damage\": \"8d4+3\", \"Health\": 31.63, \"Energy\": 33.34, \"Sanity\": 31.24, \"Time Stamp\": \"2022-03-31 07:23:55\"}, {\"Name\": \"Lich\", \"Type\": \"Undead\", \"Level\": 12, \"Rarity\": \"Rank 0\", \"Damage\": \"12d2+2\", \"Health\": 24.55, \"Energy\": 23.57, \"Sanity\": 24.39, \"Time Stamp\": \"2022-03-31 07:23:55\"}, {\"Name\": \"Platinum Faerie\", \"Type\": \"Fey\", \"Level\": 6, \"Rarity\": \"Rank 1\", \"Damage\": \"6d4+2\", \"Health\": 22.08, \"Energy\": 23.66, \"Sanity\": 25.21, \"Time Stamp\": \"2022-03-31 07:23:55\"}, {\"Name\": \"Sapphire Dragon\", \"Type\": \"Dragon\", \"Level\": 15, \"Rarity\": \"Rank 3\", \"Damage\": \"15d8\", \"Health\": 118.81, \"Energy\": 122.97, \"Sanity\": 120.86, \"Time Stamp\": \"2022-03-31 07:23:55\"}, {\"Name\": \"Prince of Fear\", \"Type\": \"Devilkin\", \"Level\": 6, \"Rarity\": \"Rank 0\", \"Damage\": \"6d2\", \"Health\": 12.5, \"Energy\": 12.51, \"Sanity\": 11.79, \"Time Stamp\": \"2022-03-31 07:23:55\"}, {\"Name\": \"Wyvern\", \"Type\": \"Dragon\", \"Level\": 12, \"Rarity\": \"Rank 1\", \"Damage\": \"12d4\", \"Health\": 47.67, \"Energy\": 48.14, \"Sanity\": 47.07, \"Time Stamp\": \"2022-03-31 07:23:55\"}, {\"Name\": \"Kobold Archer\", \"Type\": \"Devilkin\", \"Level\": 4, \"Rarity\": \"Rank 1\", \"Damage\": \"4d4+1\", \"Health\": 16.94, \"Energy\": 15.64, \"Sanity\": 16.05, \"Time Stamp\": \"2022-03-31 07:23:55\"}, {\"Name\": \"Hell Hound\", \"Type\": \"Demonic\", \"Level\": 4, \"Rarity\": \"Rank 3\", \"Damage\": \"4d8+2\", \"Health\": 33.39, \"Energy\": 29.16, \"Sanity\": 29.42, \"Time Stamp\": \"2022-03-31 07:23:55\"}, {\"Name\": \"Ghast\", \"Type\": \"Undead\", \"Level\": 2, \"Rarity\": \"Rank 4\", \"Damage\": \"2d10\", \"Health\": 16.81, \"Energy\": 17.05, \"Sanity\": 18.58, \"Time Stamp\": \"2022-03-31 07:23:55\"}, {\"Name\": \"Flame Archfey\", \"Type\": \"Fey\", \"Level\": 11, \"Rarity\": \"Rank 3\", \"Damage\": \"11d8+2\", \"Health\": 87.32, \"Energy\": 87.53, \"Sanity\": 87.56, \"Time Stamp\": \"2022-03-31 07:23:55\"}, {\"Name\": \"Red Wyrmling\", \"Type\": \"Dragon\", \"Level\": 6, \"Rarity\": \"Rank 3\", \"Damage\": \"6d8+4\", \"Health\": 50.59, \"Energy\": 47.72, \"Sanity\": 48.7, \"Time Stamp\": \"2022-03-31 07:23:55\"}, {\"Name\": \"Demilich\", \"Type\": \"Undead\", \"Level\": 2, \"Rarity\": \"Rank 0\", \"Damage\": \"2d2\", \"Health\": 3.29, \"Energy\": 4.04, \"Sanity\": 3.45, \"Time Stamp\": \"2022-03-31 07:23:55\"}, {\"Name\": \"Magma Elemental\", \"Type\": \"Elemental\", \"Level\": 7, \"Rarity\": \"Rank 3\", \"Damage\": \"7d8+2\", \"Health\": 58.47, \"Energy\": 56.56, \"Sanity\": 55.02, \"Time Stamp\": \"2022-03-31 07:23:55\"}, {\"Name\": \"Lightning Spirit\", \"Type\": \"Fey\", \"Level\": 20, \"Rarity\": \"Rank 4\", \"Damage\": \"20d10+3\", \"Health\": 200.47, \"Energy\": 201.57, \"Sanity\": 201.33, \"Time Stamp\": \"2022-03-31 07:23:55\"}, {\"Name\": \"Brass Drake\", \"Type\": \"Dragon\", \"Level\": 4, \"Rarity\": \"Rank 4\", \"Damage\": \"4d10\", \"Health\": 44.24, \"Energy\": 40.37, \"Sanity\": 38.0, \"Time Stamp\": \"2022-03-31 07:23:55\"}, {\"Name\": \"Prince of Fear\", \"Type\": \"Devilkin\", \"Level\": 12, \"Rarity\": \"Rank 1\", \"Damage\": \"12d4+1\", \"Health\": 49.56, \"Energy\": 48.93, \"Sanity\": 49.56, \"Time Stamp\": \"2022-03-31 07:23:55\"}, {\"Name\": \"Wyvern\", \"Type\": \"Dragon\", \"Level\": 16, \"Rarity\": \"Rank 4\", \"Damage\": \"16d10+3\", \"Health\": 157.87, \"Energy\": 158.26, \"Sanity\": 163.79, \"Time Stamp\": \"2022-03-31 07:23:55\"}, {\"Name\": \"Zombie Villager\", \"Type\": \"Undead\", \"Level\": 6, \"Rarity\": \"Rank 0\", \"Damage\": \"6d2+2\", \"Health\": 11.44, \"Energy\": 11.28, \"Sanity\": 12.53, \"Time Stamp\": \"2022-03-31 07:23:55\"}, {\"Name\": \"Smoke Devil\", \"Type\": \"Devilkin\", \"Level\": 9, \"Rarity\": \"Rank 1\", \"Damage\": \"9d4+2\", \"Health\": 36.77, \"Energy\": 35.44, \"Sanity\": 36.64, \"Time Stamp\": \"2022-03-31 07:23:55\"}, {\"Name\": \"Prismatic Drake\", \"Type\": \"Dragon\", \"Level\": 13, \"Rarity\": \"Rank 0\", \"Damage\": \"13d2+4\", \"Health\": 25.33, \"Energy\": 26.86, \"Sanity\": 26.14, \"Time Stamp\": \"2022-03-31 07:23:55\"}, {\"Name\": \"Efreeti\", \"Type\": \"Elemental\", \"Level\": 1, \"Rarity\": \"Rank 1\", \"Damage\": \"1d4+2\", \"Health\": 3.32, \"Energy\": 4.23, \"Sanity\": 3.0, \"Time Stamp\": \"2022-03-31 07:23:55\"}, {\"Name\": \"Green Archfey\", \"Type\": \"Fey\", \"Level\": 8, \"Rarity\": \"Rank 1\", \"Damage\": \"8d4+1\", \"Health\": 32.44, \"Energy\": 32.34, \"Sanity\": 30.58, \"Time Stamp\": \"2022-03-31 07:23:55\"}, {\"Name\": \"Black Wyrmling\", \"Type\": \"Dragon\", \"Level\": 4, \"Rarity\": \"Rank 2\", \"Damage\": \"4d6\", \"Health\": 26.34, \"Energy\": 22.68, \"Sanity\": 22.93, \"Time Stamp\": \"2022-03-31 07:23:55\"}, {\"Name\": \"Ghoul\", \"Type\": \"Undead\", \"Level\": 2, \"Rarity\": \"Rank 1\", \"Damage\": \"2d4+1\", \"Health\": 7.96, \"Energy\": 6.0, \"Sanity\": 7.46, \"Time Stamp\": \"2022-03-31 07:23:55\"}, {\"Name\": \"Steam Mephit\", \"Type\": \"Elemental\", \"Level\": 18, \"Rarity\": \"Rank 4\", \"Damage\": \"18d10+5\", \"Health\": 179.4, \"Energy\": 182.0, \"Sanity\": 182.77, \"Time Stamp\": \"2022-03-31 07:23:55\"}, {\"Name\": \"Hook Horror\", \"Type\": \"Demonic\", \"Level\": 13, \"Rarity\": \"Rank 0\", \"Damage\": \"13d2+1\", \"Health\": 25.41, \"Energy\": 26.77, \"Sanity\": 26.03, \"Time Stamp\": \"2022-03-31 07:23:55\"}, {\"Name\": \"Efreeti\", \"Type\": \"Elemental\", \"Level\": 4, \"Rarity\": \"Rank 3\", \"Damage\": \"4d8+2\", \"Health\": 34.35, \"Energy\": 32.85, \"Sanity\": 31.02, \"Time Stamp\": \"2022-03-31 07:23:55\"}, {\"Name\": \"Platinum Faerie\", \"Type\": \"Fey\", \"Level\": 11, \"Rarity\": \"Rank 0\", \"Damage\": \"11d2+1\", \"Health\": 22.4, \"Energy\": 21.29, \"Sanity\": 21.14, \"Time Stamp\": \"2022-03-31 07:23:55\"}, {\"Name\": \"Hell Hound\", \"Type\": \"Demonic\", \"Level\": 8, \"Rarity\": \"Rank 0\", \"Damage\": \"8d2+3\", \"Health\": 16.54, \"Energy\": 15.35, \"Sanity\": 15.63, \"Time Stamp\": \"2022-03-31 07:23:55\"}, {\"Name\": \"Green Drake\", \"Type\": \"Dragon\", \"Level\": 6, \"Rarity\": \"Rank 3\", \"Damage\": \"6d8+3\", \"Health\": 45.52, \"Energy\": 45.02, \"Sanity\": 50.29, \"Time Stamp\": \"2022-03-31 07:23:55\"}, {\"Name\": \"Efreeti\", \"Type\": \"Elemental\", \"Level\": 7, \"Rarity\": \"Rank 0\", \"Damage\": \"7d2\", \"Health\": 13.4, \"Energy\": 14.1, \"Sanity\": 13.33, \"Time Stamp\": \"2022-03-31 07:23:55\"}, {\"Name\": \"Pit Lord\", \"Type\": \"Devilkin\", \"Level\": 5, \"Rarity\": \"Rank 1\", \"Damage\": \"5d4+1\", \"Health\": 19.18, \"Energy\": 19.94, \"Sanity\": 20.9, \"Time Stamp\": \"2022-03-31 07:23:55\"}, {\"Name\": \"Imp\", \"Type\": \"Demonic\", \"Level\": 4, \"Rarity\": \"Rank 1\", \"Damage\": \"4d4+2\", \"Health\": 17.13, \"Energy\": 15.89, \"Sanity\": 17.04, \"Time Stamp\": \"2022-03-31 07:23:55\"}, {\"Name\": \"Zombie Mage\", \"Type\": \"Undead\", \"Level\": 7, \"Rarity\": \"Rank 0\", \"Damage\": \"7d2+1\", \"Health\": 14.86, \"Energy\": 14.19, \"Sanity\": 13.21, \"Time Stamp\": \"2022-03-31 07:23:55\"}, {\"Name\": \"Succubus\", \"Type\": \"Devilkin\", \"Level\": 6, \"Rarity\": \"Rank 4\", \"Damage\": \"6d10\", \"Health\": 60.09, \"Energy\": 64.93, \"Sanity\": 58.12, \"Time Stamp\": \"2022-03-31 07:23:55\"}, {\"Name\": \"Pit Fiend\", \"Type\": \"Demonic\", \"Level\": 5, \"Rarity\": \"Rank 4\", \"Damage\": \"5d10\", \"Health\": 54.04, \"Energy\": 53.54, \"Sanity\": 47.03, \"Time Stamp\": \"2022-03-31 07:23:55\"}, {\"Name\": \"Djinni\", \"Type\": \"Elemental\", \"Level\": 10, \"Rarity\": \"Rank 3\", \"Damage\": \"10d8+1\", \"Health\": 79.79, \"Energy\": 83.25, \"Sanity\": 80.11, \"Time Stamp\": \"2022-03-31 07:23:55\"}, {\"Name\": \"Mud Archfey\", \"Type\": \"Fey\", \"Level\": 6, \"Rarity\": \"Rank 3\", \"Damage\": \"6d8+2\", \"Health\": 46.93, \"Energy\": 47.16, \"Sanity\": 47.35, \"Time Stamp\": \"2022-03-31 07:23:55\"}, {\"Name\": \"Mummy\", \"Type\": \"Undead\", \"Level\": 6, \"Rarity\": \"Rank 1\", \"Damage\": \"6d4+4\", \"Health\": 24.96, \"Energy\": 24.29, \"Sanity\": 24.71, \"Time Stamp\": \"2022-03-31 07:23:55\"}, {\"Name\": \"Ice Elemental\", \"Type\": \"Elemental\", \"Level\": 5, \"Rarity\": \"Rank 3\", \"Damage\": \"5d8\", \"Health\": 37.0, \"Energy\": 38.17, \"Sanity\": 37.92, \"Time Stamp\": \"2022-03-31 07:23:55\"}, {\"Name\": \"Incubus\", \"Type\": \"Devilkin\", \"Level\": 8, \"Rarity\": \"Rank 0\", \"Damage\": \"8d2+1\", \"Health\": 15.14, \"Energy\": 16.47, \"Sanity\": 15.42, \"Time Stamp\": \"2022-03-31 07:23:55\"}, {\"Name\": \"Faerie Dragon\", \"Type\": \"Dragon\", \"Level\": 3, \"Rarity\": \"Rank 1\", \"Damage\": \"3d4+1\", \"Health\": 12.48, \"Energy\": 12.55, \"Sanity\": 11.13, \"Time Stamp\": \"2022-03-31 07:23:55\"}, {\"Name\": \"Efreeti\", \"Type\": \"Elemental\", \"Level\": 9, \"Rarity\": \"Rank 4\", \"Damage\": \"9d10+1\", \"Health\": 85.92, \"Energy\": 87.6, \"Sanity\": 89.32, \"Time Stamp\": \"2022-03-31 07:23:55\"}, {\"Name\": \"Kobold Archer\", \"Type\": \"Devilkin\", \"Level\": 8, \"Rarity\": \"Rank 0\", \"Damage\": \"8d2+1\", \"Health\": 16.15, \"Energy\": 15.4, \"Sanity\": 15.98, \"Time Stamp\": \"2022-03-31 07:23:55\"}, {\"Name\": \"Balor\", \"Type\": \"Demonic\", \"Level\": 7, \"Rarity\": \"Rank 3\", \"Damage\": \"7d8\", \"Health\": 56.31, \"Energy\": 56.62, \"Sanity\": 55.64, \"Time Stamp\": \"2022-03-31 07:23:55\"}, {\"Name\": \"Wraith\", \"Type\": \"Undead\", \"Level\": 2, \"Rarity\": \"Rank 2\", \"Damage\": \"2d6\", \"Health\": 12.64, \"Energy\": 9.36, \"Sanity\": 11.08, \"Time Stamp\": \"2022-03-31 07:23:55\"}, {\"Name\": \"Goblin Villager\", \"Type\": \"Devilkin\", \"Level\": 2, \"Rarity\": \"Rank 1\", \"Damage\": \"2d4\", \"Health\": 6.53, \"Energy\": 8.1, \"Sanity\": 7.08, \"Time Stamp\": \"2022-03-31 07:23:55\"}, {\"Name\": \"Onyx Dragon\", \"Type\": \"Dragon\", \"Level\": 7, \"Rarity\": \"Rank 3\", \"Damage\": \"7d8+4\", \"Health\": 55.02, \"Energy\": 53.56, \"Sanity\": 53.05, \"Time Stamp\": \"2022-03-31 07:23:55\"}, {\"Name\": \"Ghast\", \"Type\": \"Undead\", \"Level\": 18, \"Rarity\": \"Rank 2\", \"Damage\": \"18d6+3\", \"Health\": 108.18, \"Energy\": 108.81, \"Sanity\": 108.83, \"Time Stamp\": \"2022-03-31 07:23:55\"}, {\"Name\": \"Prince of Fear\", \"Type\": \"Devilkin\", \"Level\": 14, \"Rarity\": \"Rank 4\", \"Damage\": \"14d10+1\", \"Health\": 136.02, \"Energy\": 139.24, \"Sanity\": 144.75, \"Time Stamp\": \"2022-03-31 07:23:55\"}, {\"Name\": \"Bronze Drake\", \"Type\": \"Dragon\", \"Level\": 19, \"Rarity\": \"Rank 1\", \"Damage\": \"19d4+3\", \"Health\": 76.65, \"Energy\": 76.71, \"Sanity\": 75.64, \"Time Stamp\": \"2022-03-31 07:23:55\"}, {\"Name\": \"Efreeti\", \"Type\": \"Elemental\", \"Level\": 11, \"Rarity\": \"Rank 2\", \"Damage\": \"11d6+2\", \"Health\": 66.86, \"Energy\": 67.2, \"Sanity\": 63.51, \"Time Stamp\": \"2022-03-31 07:23:55\"}, {\"Name\": \"Green Faerie\", \"Type\": \"Fey\", \"Level\": 5, \"Rarity\": \"Rank 0\", \"Damage\": \"5d2+2\", \"Health\": 10.92, \"Energy\": 9.2, \"Sanity\": 9.02, \"Time Stamp\": \"2022-03-31 07:23:55\"}, {\"Name\": \"Quasit\", \"Type\": \"Demonic\", \"Level\": 14, \"Rarity\": \"Rank 2\", \"Damage\": \"14d6+2\", \"Health\": 82.41, \"Energy\": 84.89, \"Sanity\": 83.54, \"Time Stamp\": \"2022-03-31 07:23:55\"}, {\"Name\": \"Vampire\", \"Type\": \"Undead\", \"Level\": 15, \"Rarity\": \"Rank 4\", \"Damage\": \"15d10+1\", \"Health\": 146.77, \"Energy\": 153.68, \"Sanity\": 146.83, \"Time Stamp\": \"2022-03-31 07:23:55\"}, {\"Name\": \"Spore Devil\", \"Type\": \"Devilkin\", \"Level\": 11, \"Rarity\": \"Rank 4\", \"Damage\": \"11d10+4\", \"Health\": 112.3, \"Energy\": 114.66, \"Sanity\": 107.69, \"Time Stamp\": \"2022-03-31 07:23:55\"}, {\"Name\": \"Pit Fiend\", \"Type\": \"Demonic\", \"Level\": 5, \"Rarity\": \"Rank 2\", \"Damage\": \"5d6\", \"Health\": 32.49, \"Energy\": 30.93, \"Sanity\": 31.46, \"Time Stamp\": \"2022-03-31 07:23:55\"}, {\"Name\": \"Vampire\", \"Type\": \"Undead\", \"Level\": 17, \"Rarity\": \"Rank 2\", \"Damage\": \"17d6\", \"Health\": 101.59, \"Energy\": 103.41, \"Sanity\": 101.02, \"Time Stamp\": \"2022-03-31 07:23:55\"}, {\"Name\": \"Prince of Fear\", \"Type\": \"Devilkin\", \"Level\": 3, \"Rarity\": \"Rank 2\", \"Damage\": \"3d6\", \"Health\": 17.85, \"Energy\": 15.61, \"Sanity\": 18.83, \"Time Stamp\": \"2022-03-31 07:23:55\"}, {\"Name\": \"Balor\", \"Type\": \"Demonic\", \"Level\": 10, \"Rarity\": \"Rank 0\", \"Damage\": \"10d2+4\", \"Health\": 19.36, \"Energy\": 20.79, \"Sanity\": 20.93, \"Time Stamp\": \"2022-03-31 07:23:55\"}, {\"Name\": \"Demilich\", \"Type\": \"Undead\", \"Level\": 15, \"Rarity\": \"Rank 1\", \"Damage\": \"15d4+3\", \"Health\": 59.53, \"Energy\": 58.65, \"Sanity\": 60.3, \"Time Stamp\": \"2022-03-31 07:23:55\"}, {\"Name\": \"Efreeti\", \"Type\": \"Elemental\", \"Level\": 1, \"Rarity\": \"Rank 4\", \"Damage\": \"1d10+1\", \"Health\": 5.99, \"Energy\": 8.0, \"Sanity\": 14.99, \"Time Stamp\": \"2022-03-31 07:23:55\"}, {\"Name\": \"Brass Faerie\", \"Type\": \"Fey\", \"Level\": 2, \"Rarity\": \"Rank 0\", \"Damage\": \"2d2+2\", \"Health\": 3.31, \"Energy\": 4.38, \"Sanity\": 3.25, \"Time Stamp\": \"2022-03-31 07:23:55\"}, {\"Name\": \"Platinum Drake\", \"Type\": \"Dragon\", \"Level\": 7, \"Rarity\": \"Rank 0\", \"Damage\": \"7d2\", \"Health\": 13.32, \"Energy\": 14.21, \"Sanity\": 14.43, \"Time Stamp\": \"2022-03-31 07:23:55\"}, {\"Name\": \"Goblin Mage\", \"Type\": \"Devilkin\", \"Level\": 4, \"Rarity\": \"Rank 3\", \"Damage\": \"4d8+3\", \"Health\": 29.17, \"Energy\": 31.32, \"Sanity\": 35.72, \"Time Stamp\": \"2022-03-31 07:23:55\"}, {\"Name\": \"White Demon\", \"Type\": \"Demonic\", \"Level\": 3, \"Rarity\": \"Rank 0\", \"Damage\": \"3d2+5\", \"Health\": 6.62, \"Energy\": 6.76, \"Sanity\": 6.07, \"Time Stamp\": \"2022-03-31 07:23:55\"}, {\"Name\": \"Efreeti\", \"Type\": \"Elemental\", \"Level\": 9, \"Rarity\": \"Rank 0\", \"Damage\": \"9d2+5\", \"Health\": 17.99, \"Energy\": 18.63, \"Sanity\": 18.74, \"Time Stamp\": \"2022-03-31 07:23:55\"}, {\"Name\": \"Silver Faerie\", \"Type\": \"Fey\", \"Level\": 8, \"Rarity\": \"Rank 3\", \"Damage\": \"8d8+1\", \"Health\": 66.03, \"Energy\": 64.54, \"Sanity\": 62.64, \"Time Stamp\": \"2022-03-31 07:23:55\"}, {\"Name\": \"Prismatic Drake\", \"Type\": \"Dragon\", \"Level\": 11, \"Rarity\": \"Rank 2\", \"Damage\": \"11d6+1\", \"Health\": 67.58, \"Energy\": 67.79, \"Sanity\": 67.86, \"Time Stamp\": \"2022-03-31 07:23:55\"}, {\"Name\": \"Shadow Mephit\", \"Type\": \"Elemental\", \"Level\": 9, \"Rarity\": \"Rank 2\", \"Damage\": \"9d6\", \"Health\": 53.57, \"Energy\": 53.0, \"Sanity\": 54.28, \"Time Stamp\": \"2022-03-31 07:23:55\"}, {\"Name\": \"Green Archfey\", \"Type\": \"Fey\", \"Level\": 14, \"Rarity\": \"Rank 1\", \"Damage\": \"14d4+4\", \"Health\": 55.36, \"Energy\": 56.27, \"Sanity\": 55.79, \"Time Stamp\": \"2022-03-31 07:23:55\"}, {\"Name\": \"Pseudodragon\", \"Type\": \"Dragon\", \"Level\": 9, \"Rarity\": \"Rank 0\", \"Damage\": \"9d2+1\", \"Health\": 17.12, \"Energy\": 18.25, \"Sanity\": 18.46, \"Time Stamp\": \"2022-03-31 07:23:55\"}, {\"Name\": \"Smoke Elemental\", \"Type\": \"Elemental\", \"Level\": 9, \"Rarity\": \"Rank 1\", \"Damage\": \"9d4+2\", \"Health\": 36.63, \"Energy\": 36.62, \"Sanity\": 37.4, \"Time Stamp\": \"2022-03-31 07:23:55\"}, {\"Name\": \"Goblin Guard\", \"Type\": \"Devilkin\", \"Level\": 13, \"Rarity\": \"Rank 2\", \"Damage\": \"13d6\", \"Health\": 75.79, \"Energy\": 79.06, \"Sanity\": 79.41, \"Time Stamp\": \"2022-03-31 07:23:55\"}, {\"Name\": \"Pseudodragon\", \"Type\": \"Dragon\", \"Level\": 5, \"Rarity\": \"Rank 2\", \"Damage\": \"5d6+1\", \"Health\": 30.67, \"Energy\": 30.19, \"Sanity\": 30.8, \"Time Stamp\": \"2022-03-31 07:23:55\"}, {\"Name\": \"Dracolich\", \"Type\": \"Undead\", \"Level\": 6, \"Rarity\": \"Rank 1\", \"Damage\": \"6d4\", \"Health\": 23.73, \"Energy\": 23.55, \"Sanity\": 24.82, \"Time Stamp\": \"2022-03-31 07:23:55\"}, {\"Name\": \"Kobold Knight\", \"Type\": \"Devilkin\", \"Level\": 2, \"Rarity\": \"Rank 4\", \"Damage\": \"2d10+5\", \"Health\": 18.78, \"Energy\": 18.42, \"Sanity\": 18.16, \"Time Stamp\": \"2022-03-31 07:23:55\"}, {\"Name\": \"Silver Wyrmling\", \"Type\": \"Dragon\", \"Level\": 2, \"Rarity\": \"Rank 2\", \"Damage\": \"2d6+2\", \"Health\": 11.08, \"Energy\": 11.25, \"Sanity\": 10.15, \"Time Stamp\": \"2022-03-31 07:23:55\"}, {\"Name\": \"Ghast\", \"Type\": \"Undead\", \"Level\": 3, \"Rarity\": \"Rank 1\", \"Damage\": \"3d4+1\", \"Health\": 13.61, \"Energy\": 13.83, \"Sanity\": 13.21, \"Time Stamp\": \"2022-03-31 07:23:55\"}, {\"Name\": \"Magma Spirit\", \"Type\": \"Fey\", \"Level\": 12, \"Rarity\": \"Rank 2\", \"Damage\": \"12d6+5\", \"Health\": 71.4, \"Energy\": 70.65, \"Sanity\": 71.55, \"Time Stamp\": \"2022-03-31 07:23:55\"}, {\"Name\": \"Wyvern\", \"Type\": \"Dragon\", \"Level\": 12, \"Rarity\": \"Rank 3\", \"Damage\": \"12d8+2\", \"Health\": 96.33, \"Energy\": 96.74, \"Sanity\": 96.99, \"Time Stamp\": \"2022-03-31 07:23:55\"}, {\"Name\": \"Pit Lord\", \"Type\": \"Devilkin\", \"Level\": 2, \"Rarity\": \"Rank 0\", \"Damage\": \"2d2+5\", \"Health\": 4.15, \"Energy\": 3.69, \"Sanity\": 4.79, \"Time Stamp\": \"2022-03-31 07:23:55\"}, {\"Name\": \"Balor\", \"Type\": \"Demonic\", \"Level\": 9, \"Rarity\": \"Rank 2\", \"Damage\": \"9d6+3\", \"Health\": 54.98, \"Energy\": 54.3, \"Sanity\": 52.04, \"Time Stamp\": \"2022-03-31 07:23:55\"}, {\"Name\": \"Djinni\", \"Type\": \"Elemental\", \"Level\": 3, \"Rarity\": \"Rank 3\", \"Damage\": \"3d8\", \"Health\": 26.12, \"Energy\": 24.8, \"Sanity\": 26.49, \"Time Stamp\": \"2022-03-31 07:23:55\"}, {\"Name\": \"Mud Archfey\", \"Type\": \"Fey\", \"Level\": 7, \"Rarity\": \"Rank 1\", \"Damage\": \"7d4+3\", \"Health\": 28.1, \"Energy\": 27.57, \"Sanity\": 29.52, \"Time Stamp\": \"2022-03-31 07:23:55\"}, {\"Name\": \"Copper Dragon\", \"Type\": \"Dragon\", \"Level\": 15, \"Rarity\": \"Rank 1\", \"Damage\": \"15d4+1\", \"Health\": 58.2, \"Energy\": 60.19, \"Sanity\": 59.37, \"Time Stamp\": \"2022-03-31 07:23:55\"}, {\"Name\": \"Ice Elemental\", \"Type\": \"Elemental\", \"Level\": 13, \"Rarity\": \"Rank 2\", \"Damage\": \"13d6\", \"Health\": 78.87, \"Energy\": 76.51, \"Sanity\": 76.13, \"Time Stamp\": \"2022-03-31 07:23:55\"}, {\"Name\": \"Hell Hound\", \"Type\": \"Demonic\", \"Level\": 8, \"Rarity\": \"Rank 2\", \"Damage\": \"8d6+4\", \"Health\": 47.67, \"Energy\": 46.49, \"Sanity\": 47.53, \"Time Stamp\": \"2022-03-31 07:23:55\"}, {\"Name\": \"Poltergeist\", \"Type\": \"Undead\", \"Level\": 8, \"Rarity\": \"Rank 0\", \"Damage\": \"8d2+2\", \"Health\": 16.03, \"Energy\": 15.69, \"Sanity\": 15.1, \"Time Stamp\": \"2022-03-31 07:23:55\"}, {\"Name\": \"Pit Lord\", \"Type\": \"Devilkin\", \"Level\": 3, \"Rarity\": \"Rank 1\", \"Damage\": \"3d4+4\", \"Health\": 12.59, \"Energy\": 10.86, \"Sanity\": 11.67, \"Time Stamp\": \"2022-03-31 07:23:55\"}, {\"Name\": \"Platinum Demon\", \"Type\": \"Demonic\", \"Level\": 12, \"Rarity\": \"Rank 3\", \"Damage\": \"12d8\", \"Health\": 97.64, \"Energy\": 95.18, \"Sanity\": 93.75, \"Time Stamp\": \"2022-03-31 07:23:55\"}, {\"Name\": \"Wight\", \"Type\": \"Undead\", \"Level\": 6, \"Rarity\": \"Rank 1\", \"Damage\": \"6d4+2\", \"Health\": 22.57, \"Energy\": 22.52, \"Sanity\": 24.25, \"Time Stamp\": \"2022-03-31 07:23:55\"}, {\"Name\": \"Smoke Devil\", \"Type\": \"Devilkin\", \"Level\": 15, \"Rarity\": \"Rank 0\", \"Damage\": \"15d2\", \"Health\": 29.55, \"Energy\": 30.17, \"Sanity\": 30.09, \"Time Stamp\": \"2022-03-31 07:23:55\"}, {\"Name\": \"Nightmare\", \"Type\": \"Demonic\", \"Level\": 6, \"Rarity\": \"Rank 4\", \"Damage\": \"6d10+4\", \"Health\": 58.86, \"Energy\": 62.21, \"Sanity\": 56.71, \"Time Stamp\": \"2022-03-31 07:23:55\"}, {\"Name\": \"Efreeti\", \"Type\": \"Elemental\", \"Level\": 1, \"Rarity\": \"Rank 3\", \"Damage\": \"1d8+4\", \"Health\": 8.57, \"Energy\": 7.08, \"Sanity\": 5.93, \"Time Stamp\": \"2022-03-31 07:23:55\"}, {\"Name\": \"Pit Lord\", \"Type\": \"Devilkin\", \"Level\": 2, \"Rarity\": \"Rank 3\", \"Damage\": \"2d8+1\", \"Health\": 14.17, \"Energy\": 18.23, \"Sanity\": 12.93, \"Time Stamp\": \"2022-03-31 07:23:55\"}, {\"Name\": \"Pseudodragon\", \"Type\": \"Dragon\", \"Level\": 7, \"Rarity\": \"Rank 0\", \"Damage\": \"7d2\", \"Health\": 13.97, \"Energy\": 13.7, \"Sanity\": 14.25, \"Time Stamp\": \"2022-03-31 07:23:55\"}, {\"Name\": \"Efreeti\", \"Type\": \"Elemental\", \"Level\": 6, \"Rarity\": \"Rank 0\", \"Damage\": \"6d2+1\", \"Health\": 12.13, \"Energy\": 12.91, \"Sanity\": 12.71, \"Time Stamp\": \"2022-03-31 07:23:55\"}, {\"Name\": \"White Faerie\", \"Type\": \"Fey\", \"Level\": 12, \"Rarity\": \"Rank 3\", \"Damage\": \"12d8\", \"Health\": 96.76, \"Energy\": 96.03, \"Sanity\": 96.08, \"Time Stamp\": \"2022-03-31 07:23:55\"}, {\"Name\": \"Quasit\", \"Type\": \"Demonic\", \"Level\": 9, \"Rarity\": \"Rank 2\", \"Damage\": \"9d6+3\", \"Health\": 55.57, \"Energy\": 53.7, \"Sanity\": 56.08, \"Time Stamp\": \"2022-03-31 07:23:55\"}, {\"Name\": \"Revenant\", \"Type\": \"Undead\", \"Level\": 5, \"Rarity\": \"Rank 1\", \"Damage\": \"5d4+3\", \"Health\": 18.84, \"Energy\": 18.39, \"Sanity\": 20.68, \"Time Stamp\": \"2022-03-31 07:23:55\"}, {\"Name\": \"Kobold Archer\", \"Type\": \"Devilkin\", \"Level\": 3, \"Rarity\": \"Rank 0\", \"Damage\": \"3d2+1\", \"Health\": 6.22, \"Energy\": 6.94, \"Sanity\": 6.76, \"Time Stamp\": \"2022-03-31 07:23:55\"}, {\"Name\": \"Balor\", \"Type\": \"Demonic\", \"Level\": 16, \"Rarity\": \"Rank 4\", \"Damage\": \"16d10+2\", \"Health\": 155.14, \"Energy\": 159.76, \"Sanity\": 156.89, \"Time Stamp\": \"2022-03-31 07:23:55\"}, {\"Name\": \"Banshee\", \"Type\": \"Undead\", \"Level\": 4, \"Rarity\": \"Rank 2\", \"Damage\": \"4d6\", \"Health\": 22.89, \"Energy\": 24.65, \"Sanity\": 22.42, \"Time Stamp\": \"2022-03-31 07:23:55\"}, {\"Name\": \"Goblin Villager\", \"Type\": \"Devilkin\", \"Level\": 14, \"Rarity\": \"Rank 1\", \"Damage\": \"14d4\", \"Health\": 55.28, \"Energy\": 55.94, \"Sanity\": 55.62, \"Time Stamp\": \"2022-03-31 07:23:55\"}, {\"Name\": \"Nightmare\", \"Type\": \"Demonic\", \"Level\": 6, \"Rarity\": \"Rank 1\", \"Damage\": \"6d4+4\", \"Health\": 23.86, \"Energy\": 24.52, \"Sanity\": 22.09, \"Time Stamp\": \"2022-03-31 07:23:55\"}, {\"Name\": \"Pseudodragon\", \"Type\": \"Dragon\", \"Level\": 2, \"Rarity\": \"Rank 0\", \"Damage\": \"2d2\", \"Health\": 4.86, \"Energy\": 4.84, \"Sanity\": 3.33, \"Time Stamp\": \"2022-03-31 07:23:55\"}, {\"Name\": \"Djinni\", \"Type\": \"Elemental\", \"Level\": 10, \"Rarity\": \"Rank 0\", \"Damage\": \"10d2+1\", \"Health\": 20.44, \"Energy\": 20.79, \"Sanity\": 20.55, \"Time Stamp\": \"2022-03-31 07:23:55\"}, {\"Name\": \"Pit Lord\", \"Type\": \"Devilkin\", \"Level\": 7, \"Rarity\": \"Rank 3\", \"Damage\": \"7d8\", \"Health\": 53.01, \"Energy\": 54.64, \"Sanity\": 53.48, \"Time Stamp\": \"2022-03-31 07:23:55\"}, {\"Name\": \"Pit Fiend\", \"Type\": \"Demonic\", \"Level\": 15, \"Rarity\": \"Rank 5\", \"Damage\": \"15d12+1\", \"Health\": 179.22, \"Energy\": 177.75, \"Sanity\": 185.89, \"Time Stamp\": \"2022-03-31 07:23:55\"}, {\"Name\": \"Vampire\", \"Type\": \"Undead\", \"Level\": 11, \"Rarity\": \"Rank 1\", \"Damage\": \"11d4+5\", \"Health\": 43.41, \"Energy\": 43.23, \"Sanity\": 45.6, \"Time Stamp\": \"2022-03-31 07:23:55\"}, {\"Name\": \"Steam Spirit\", \"Type\": \"Fey\", \"Level\": 10, \"Rarity\": \"Rank 0\", \"Damage\": \"10d2+1\", \"Health\": 20.77, \"Energy\": 20.16, \"Sanity\": 20.98, \"Time Stamp\": \"2022-03-31 07:23:55\"}, {\"Name\": \"Banshee\", \"Type\": \"Undead\", \"Level\": 8, \"Rarity\": \"Rank 2\", \"Damage\": \"8d6\", \"Health\": 47.42, \"Energy\": 45.48, \"Sanity\": 46.11, \"Time Stamp\": \"2022-03-31 07:23:55\"}, {\"Name\": \"Dust Devil\", \"Type\": \"Devilkin\", \"Level\": 8, \"Rarity\": \"Rank 2\", \"Damage\": \"8d6+2\", \"Health\": 47.97, \"Energy\": 49.47, \"Sanity\": 47.54, \"Time Stamp\": \"2022-03-31 07:23:55\"}, {\"Name\": \"Pit Fiend\", \"Type\": \"Demonic\", \"Level\": 2, \"Rarity\": \"Rank 0\", \"Damage\": \"2d2+1\", \"Health\": 3.81, \"Energy\": 4.8, \"Sanity\": 3.04, \"Time Stamp\": \"2022-03-31 07:23:55\"}, {\"Name\": \"Red Wyrmling\", \"Type\": \"Dragon\", \"Level\": 12, \"Rarity\": \"Rank 0\", \"Damage\": \"12d2\", \"Health\": 23.89, \"Energy\": 24.6, \"Sanity\": 24.36, \"Time Stamp\": \"2022-03-31 07:23:55\"}, {\"Name\": \"Smoke Devil\", \"Type\": \"Devilkin\", \"Level\": 13, \"Rarity\": \"Rank 4\", \"Damage\": \"13d10\", \"Health\": 126.7, \"Energy\": 127.54, \"Sanity\": 126.79, \"Time Stamp\": \"2022-03-31 07:23:55\"}, {\"Name\": \"Copper Faerie\", \"Type\": \"Fey\", \"Level\": 4, \"Rarity\": \"Rank 0\", \"Damage\": \"4d2+2\", \"Health\": 8.83, \"Energy\": 7.59, \"Sanity\": 8.54, \"Time Stamp\": \"2022-03-31 07:23:55\"}, {\"Name\": \"Ghoul\", \"Type\": \"Undead\", \"Level\": 1, \"Rarity\": \"Rank 1\", \"Damage\": \"1d4\", \"Health\": 4.05, \"Energy\": 3.26, \"Sanity\": 3.17, \"Time Stamp\": \"2022-03-31 07:23:55\"}, {\"Name\": \"Steam Elemental\", \"Type\": \"Elemental\", \"Level\": 11, \"Rarity\": \"Rank 3\", \"Damage\": \"11d8+2\", \"Health\": 86.18, \"Energy\": 85.12, \"Sanity\": 89.85, \"Time Stamp\": \"2022-03-31 07:23:55\"}, {\"Name\": \"White Archfey\", \"Type\": \"Fey\", \"Level\": 5, \"Rarity\": \"Rank 0\", \"Damage\": \"5d2+1\", \"Health\": 9.57, \"Energy\": 10.32, \"Sanity\": 9.12, \"Time Stamp\": \"2022-03-31 07:23:55\"}, {\"Name\": \"Red Drake\", \"Type\": \"Dragon\", \"Level\": 19, \"Rarity\": \"Rank 2\", \"Damage\": \"19d6+2\", \"Health\": 112.89, \"Energy\": 111.9, \"Sanity\": 114.42, \"Time Stamp\": \"2022-03-31 07:23:55\"}, {\"Name\": \"Shadow Mephit\", \"Type\": \"Elemental\", \"Level\": 16, \"Rarity\": \"Rank 3\", \"Damage\": \"16d8\", \"Health\": 130.64, \"Energy\": 127.68, \"Sanity\": 128.01, \"Time Stamp\": \"2022-03-31 07:23:55\"}, {\"Name\": \"Goblin Knight\", \"Type\": \"Devilkin\", \"Level\": 3, \"Rarity\": \"Rank 1\", \"Damage\": \"3d4+3\", \"Health\": 12.46, \"Energy\": 13.16, \"Sanity\": 10.39, \"Time Stamp\": \"2022-03-31 07:23:55\"}, {\"Name\": \"Onyx Wyrmling\", \"Type\": \"Dragon\", \"Level\": 7, \"Rarity\": \"Rank 4\", \"Damage\": \"7d10\", \"Health\": 73.89, \"Energy\": 73.82, \"Sanity\": 74.72, \"Time Stamp\": \"2022-03-31 07:23:55\"}, {\"Name\": \"Pit Lord\", \"Type\": \"Devilkin\", \"Level\": 5, \"Rarity\": \"Rank 0\", \"Damage\": \"5d2\", \"Health\": 9.95, \"Energy\": 9.7, \"Sanity\": 9.9, \"Time Stamp\": \"2022-03-31 07:23:55\"}, {\"Name\": \"Pseudodragon\", \"Type\": \"Dragon\", \"Level\": 9, \"Rarity\": \"Rank 3\", \"Damage\": \"9d8+1\", \"Health\": 73.8, \"Energy\": 74.57, \"Sanity\": 68.85, \"Time Stamp\": \"2022-03-31 07:23:55\"}, {\"Name\": \"Efreeti\", \"Type\": \"Elemental\", \"Level\": 12, \"Rarity\": \"Rank 0\", \"Damage\": \"12d2+1\", \"Health\": 24.87, \"Energy\": 24.14, \"Sanity\": 24.86, \"Time Stamp\": \"2022-03-31 07:23:55\"}, {\"Name\": \"Imp\", \"Type\": \"Demonic\", \"Level\": 3, \"Rarity\": \"Rank 4\", \"Damage\": \"3d10\", \"Health\": 26.23, \"Energy\": 30.77, \"Sanity\": 27.37, \"Time Stamp\": \"2022-03-31 07:23:55\"}, {\"Name\": \"Poltergeist\", \"Type\": \"Undead\", \"Level\": 4, \"Rarity\": \"Rank 0\", \"Damage\": \"4d2\", \"Health\": 7.83, \"Energy\": 8.8, \"Sanity\": 8.09, \"Time Stamp\": \"2022-03-31 07:23:55\"}, {\"Name\": \"Efreeti\", \"Type\": \"Elemental\", \"Level\": 17, \"Rarity\": \"Rank 2\", \"Damage\": \"17d6\", \"Health\": 100.8, \"Energy\": 101.45, \"Sanity\": 103.71, \"Time Stamp\": \"2022-03-31 07:23:55\"}, {\"Name\": \"Smoke Spirit\", \"Type\": \"Fey\", \"Level\": 7, \"Rarity\": \"Rank 4\", \"Damage\": \"7d10+1\", \"Health\": 71.3, \"Energy\": 66.13, \"Sanity\": 69.75, \"Time Stamp\": \"2022-03-31 07:23:55\"}, {\"Name\": \"Lich\", \"Type\": \"Undead\", \"Level\": 4, \"Rarity\": \"Rank 2\", \"Damage\": \"4d6+3\", \"Health\": 25.18, \"Energy\": 23.02, \"Sanity\": 21.09, \"Time Stamp\": \"2022-03-31 07:23:55\"}, {\"Name\": \"Efreeti\", \"Type\": \"Elemental\", \"Level\": 9, \"Rarity\": \"Rank 1\", \"Damage\": \"9d4+2\", \"Health\": 37.51, \"Energy\": 36.37, \"Sanity\": 35.09, \"Time Stamp\": \"2022-03-31 07:23:55\"}, {\"Name\": \"Bronze Demon\", \"Type\": \"Demonic\", \"Level\": 4, \"Rarity\": \"Rank 1\", \"Damage\": \"4d4\", \"Health\": 14.91, \"Energy\": 17.53, \"Sanity\": 16.93, \"Time Stamp\": \"2022-03-31 07:23:55\"}, {\"Name\": \"Djinni\", \"Type\": \"Elemental\", \"Level\": 6, \"Rarity\": \"Rank 2\", \"Damage\": \"6d6\", \"Health\": 38.77, \"Energy\": 33.55, \"Sanity\": 38.41, \"Time Stamp\": \"2022-03-31 07:23:55\"}, {\"Name\": \"Steam Archfey\", \"Type\": \"Fey\", \"Level\": 9, \"Rarity\": \"Rank 1\", \"Damage\": \"9d4+3\", \"Health\": 37.25, \"Energy\": 36.71, \"Sanity\": 35.35, \"Time Stamp\": \"2022-03-31 07:23:55\"}, {\"Name\": \"Imp\", \"Type\": \"Demonic\", \"Level\": 13, \"Rarity\": \"Rank 2\", \"Damage\": \"13d6+2\", \"Health\": 77.3, \"Energy\": 79.36, \"Sanity\": 79.18, \"Time Stamp\": \"2022-03-31 07:23:55\"}, {\"Name\": \"Efreeti\", \"Type\": \"Elemental\", \"Level\": 8, \"Rarity\": \"Rank 2\", \"Damage\": \"8d6+2\", \"Health\": 46.01, \"Energy\": 48.87, \"Sanity\": 47.82, \"Time Stamp\": \"2022-03-31 07:23:55\"}, {\"Name\": \"White Faerie\", \"Type\": \"Fey\", \"Level\": 3, \"Rarity\": \"Rank 2\", \"Damage\": \"3d6\", \"Health\": 19.2, \"Energy\": 17.98, \"Sanity\": 20.38, \"Time Stamp\": \"2022-03-31 07:23:55\"}, {\"Name\": \"Silver Drake\", \"Type\": \"Dragon\", \"Level\": 6, \"Rarity\": \"Rank 0\", \"Damage\": \"6d2+1\", \"Health\": 12.03, \"Energy\": 12.49, \"Sanity\": 11.58, \"Time Stamp\": \"2022-03-31 07:23:55\"}, {\"Name\": \"Banshee\", \"Type\": \"Undead\", \"Level\": 13, \"Rarity\": \"Rank 3\", \"Damage\": \"13d8+2\", \"Health\": 104.46, \"Energy\": 103.78, \"Sanity\": 104.15, \"Time Stamp\": \"2022-03-31 07:23:55\"}, {\"Name\": \"Djinni\", \"Type\": \"Elemental\", \"Level\": 4, \"Rarity\": \"Rank 1\", \"Damage\": \"4d4+4\", \"Health\": 17.49, \"Energy\": 14.17, \"Sanity\": 14.69, \"Time Stamp\": \"2022-03-31 07:23:55\"}, {\"Name\": \"Pit Fiend\", \"Type\": \"Demonic\", \"Level\": 6, \"Rarity\": \"Rank 4\", \"Damage\": \"6d10+2\", \"Health\": 61.87, \"Energy\": 58.8, \"Sanity\": 58.62, \"Time Stamp\": \"2022-03-31 07:23:55\"}, {\"Name\": \"Dracolich\", \"Type\": \"Undead\", \"Level\": 13, \"Rarity\": \"Rank 2\", \"Damage\": \"13d6+3\", \"Health\": 78.99, \"Energy\": 79.97, \"Sanity\": 77.49, \"Time Stamp\": \"2022-03-31 07:23:55\"}, {\"Name\": \"Goblin Archer\", \"Type\": \"Devilkin\", \"Level\": 6, \"Rarity\": \"Rank 5\", \"Damage\": \"6d12+1\", \"Health\": 69.15, \"Energy\": 75.86, \"Sanity\": 74.98, \"Time Stamp\": \"2022-03-31 07:23:55\"}, {\"Name\": \"Black Faerie\", \"Type\": \"Fey\", \"Level\": 11, \"Rarity\": \"Rank 0\", \"Damage\": \"11d2+3\", \"Health\": 21.07, \"Energy\": 21.22, \"Sanity\": 22.29, \"Time Stamp\": \"2022-03-31 07:23:55\"}, {\"Name\": \"Platinum Dragon\", \"Type\": \"Dragon\", \"Level\": 5, \"Rarity\": \"Rank 2\", \"Damage\": \"5d6+3\", \"Health\": 29.16, \"Energy\": 31.9, \"Sanity\": 32.31, \"Time Stamp\": \"2022-03-31 07:23:55\"}, {\"Name\": \"Mummy\", \"Type\": \"Undead\", \"Level\": 13, \"Rarity\": \"Rank 1\", \"Damage\": \"13d4+2\", \"Health\": 52.47, \"Energy\": 52.05, \"Sanity\": 53.53, \"Time Stamp\": \"2022-03-31 07:23:55\"}, {\"Name\": \"Goblin Villager\", \"Type\": \"Devilkin\", \"Level\": 7, \"Rarity\": \"Rank 0\", \"Damage\": \"7d2\", \"Health\": 14.53, \"Energy\": 13.27, \"Sanity\": 13.16, \"Time Stamp\": \"2022-03-31 07:23:55\"}, {\"Name\": \"Hook Horror\", \"Type\": \"Demonic\", \"Level\": 9, \"Rarity\": \"Rank 3\", \"Damage\": \"9d8+2\", \"Health\": 74.5, \"Energy\": 70.01, \"Sanity\": 70.98, \"Time Stamp\": \"2022-03-31 07:23:55\"}, {\"Name\": \"Red Wyrmling\", \"Type\": \"Dragon\", \"Level\": 14, \"Rarity\": \"Rank 1\", \"Damage\": \"14d4+1\", \"Health\": 56.64, \"Energy\": 56.06, \"Sanity\": 56.0, \"Time Stamp\": \"2022-03-31 07:23:55\"}, {\"Name\": \"Banshee\", \"Type\": \"Undead\", \"Level\": 10, \"Rarity\": \"Rank 1\", \"Damage\": \"10d4+3\", \"Health\": 39.41, \"Energy\": 40.38, \"Sanity\": 39.18, \"Time Stamp\": \"2022-03-31 07:23:55\"}, {\"Name\": \"Prince of Fear\", \"Type\": \"Devilkin\", \"Level\": 1, \"Rarity\": \"Rank 3\", \"Damage\": \"1d8+4\", \"Health\": 10.92, \"Energy\": 8.78, \"Sanity\": 10.63, \"Time Stamp\": \"2022-03-31 07:23:55\"}, {\"Name\": \"Nightmare\", \"Type\": \"Demonic\", \"Level\": 1, \"Rarity\": \"Rank 3\", \"Damage\": \"1d8+1\", \"Health\": 10.03, \"Energy\": 11.21, \"Sanity\": 6.52, \"Time Stamp\": \"2022-03-31 07:23:55\"}, {\"Name\": \"Mummy\", \"Type\": \"Undead\", \"Level\": 16, \"Rarity\": \"Rank 0\", \"Damage\": \"16d2+1\", \"Health\": 31.28, \"Energy\": 32.04, \"Sanity\": 31.95, \"Time Stamp\": \"2022-03-31 07:23:55\"}, {\"Name\": \"Spore Devil\", \"Type\": \"Devilkin\", \"Level\": 2, \"Rarity\": \"Rank 0\", \"Damage\": \"2d2+2\", \"Health\": 3.77, \"Energy\": 4.38, \"Sanity\": 3.36, \"Time Stamp\": \"2022-03-31 07:23:55\"}, {\"Name\": \"Mud Spirit\", \"Type\": \"Fey\", \"Level\": 4, \"Rarity\": \"Rank 0\", \"Damage\": \"4d2\", \"Health\": 7.63, \"Energy\": 7.18, \"Sanity\": 7.51, \"Time Stamp\": \"2022-03-31 07:23:55\"}, {\"Name\": \"Quasit\", \"Type\": \"Demonic\", \"Level\": 2, \"Rarity\": \"Rank 2\", \"Damage\": \"2d6+2\", \"Health\": 12.49, \"Energy\": 10.8, \"Sanity\": 10.15, \"Time Stamp\": \"2022-03-31 07:23:55\"}, {\"Name\": \"Wraith\", \"Type\": \"Undead\", \"Level\": 8, \"Rarity\": \"Rank 0\", \"Damage\": \"8d2+2\", \"Health\": 16.87, \"Energy\": 15.14, \"Sanity\": 15.12, \"Time Stamp\": \"2022-03-31 07:23:55\"}, {\"Name\": \"Smoke Mephit\", \"Type\": \"Elemental\", \"Level\": 16, \"Rarity\": \"Rank 2\", \"Damage\": \"16d6+2\", \"Health\": 95.48, \"Energy\": 94.82, \"Sanity\": 94.41, \"Time Stamp\": \"2022-03-31 07:23:55\"}, {\"Name\": \"Onyx Faerie\", \"Type\": \"Fey\", \"Level\": 10, \"Rarity\": \"Rank 2\", \"Damage\": \"10d6+2\", \"Health\": 58.9, \"Energy\": 59.29, \"Sanity\": 61.56, \"Time Stamp\": \"2022-03-31 07:23:55\"}, {\"Name\": \"Dracolich\", \"Type\": \"Undead\", \"Level\": 5, \"Rarity\": \"Rank 1\", \"Damage\": \"5d4+1\", \"Health\": 18.43, \"Energy\": 19.16, \"Sanity\": 20.14, \"Time Stamp\": \"2022-03-31 07:23:55\"}, {\"Name\": \"Gold Faerie\", \"Type\": \"Fey\", \"Level\": 18, \"Rarity\": \"Rank 0\", \"Damage\": \"18d2+4\", \"Health\": 36.33, \"Energy\": 36.13, \"Sanity\": 36.88, \"Time Stamp\": \"2022-03-31 07:23:55\"}, {\"Name\": \"Pit Fiend\", \"Type\": \"Demonic\", \"Level\": 3, \"Rarity\": \"Rank 0\", \"Damage\": \"3d2+3\", \"Health\": 5.14, \"Energy\": 6.03, \"Sanity\": 6.54, \"Time Stamp\": \"2022-03-31 07:23:55\"}, {\"Name\": \"Efreeti\", \"Type\": \"Elemental\", \"Level\": 9, \"Rarity\": \"Rank 3\", \"Damage\": \"9d8\", \"Health\": 71.94, \"Energy\": 70.24, \"Sanity\": 69.94, \"Time Stamp\": \"2022-03-31 07:23:55\"}, {\"Name\": \"Goblin Mage\", \"Type\": \"Devilkin\", \"Level\": 7, \"Rarity\": \"Rank 1\", \"Damage\": \"7d4+1\", \"Health\": 28.21, \"Energy\": 28.77, \"Sanity\": 28.87, \"Time Stamp\": \"2022-03-31 07:23:55\"}, {\"Name\": \"Pit Fiend\", \"Type\": \"Demonic\", \"Level\": 2, \"Rarity\": \"Rank 3\", \"Damage\": \"2d8+1\", \"Health\": 13.38, \"Energy\": 14.46, \"Sanity\": 14.52, \"Time Stamp\": \"2022-03-31 07:23:55\"}, {\"Name\": \"Spore Elemental\", \"Type\": \"Elemental\", \"Level\": 9, \"Rarity\": \"Rank 3\", \"Damage\": \"9d8\", \"Health\": 75.88, \"Energy\": 70.28, \"Sanity\": 74.73, \"Time Stamp\": \"2022-03-31 07:23:55\"}, {\"Name\": \"Silver Archfey\", \"Type\": \"Fey\", \"Level\": 4, \"Rarity\": \"Rank 2\", \"Damage\": \"4d6+4\", \"Health\": 24.53, \"Energy\": 21.21, \"Sanity\": 23.14, \"Time Stamp\": \"2022-03-31 07:23:55\"}, {\"Name\": \"Faerie Dragon\", \"Type\": \"Dragon\", \"Level\": 5, \"Rarity\": \"Rank 3\", \"Damage\": \"5d8+2\", \"Health\": 40.12, \"Energy\": 38.91, \"Sanity\": 42.93, \"Time Stamp\": \"2022-03-31 07:23:55\"}, {\"Name\": \"Djinni\", \"Type\": \"Elemental\", \"Level\": 2, \"Rarity\": \"Rank 1\", \"Damage\": \"2d4\", \"Health\": 7.61, \"Energy\": 8.26, \"Sanity\": 7.25, \"Time Stamp\": \"2022-03-31 07:23:55\"}, {\"Name\": \"Black Faerie\", \"Type\": \"Fey\", \"Level\": 9, \"Rarity\": \"Rank 1\", \"Damage\": \"9d4+1\", \"Health\": 34.75, \"Energy\": 36.28, \"Sanity\": 34.34, \"Time Stamp\": \"2022-03-31 07:23:55\"}, {\"Name\": \"Pit Fiend\", \"Type\": \"Demonic\", \"Level\": 7, \"Rarity\": \"Rank 0\", \"Damage\": \"7d2\", \"Health\": 14.1, \"Energy\": 14.35, \"Sanity\": 14.82, \"Time Stamp\": \"2022-03-31 07:23:55\"}, {\"Name\": \"Mummy Lord\", \"Type\": \"Undead\", \"Level\": 6, \"Rarity\": \"Rank 0\", \"Damage\": \"6d2+3\", \"Health\": 11.91, \"Energy\": 12.45, \"Sanity\": 12.08, \"Time Stamp\": \"2022-03-31 07:23:55\"}, {\"Name\": \"Lightning Elemental\", \"Type\": \"Elemental\", \"Level\": 11, \"Rarity\": \"Rank 0\", \"Damage\": \"11d2+2\", \"Health\": 21.71, \"Energy\": 21.9, \"Sanity\": 21.74, \"Time Stamp\": \"2022-03-31 07:23:55\"}, {\"Name\": \"Platinum Faerie\", \"Type\": \"Fey\", \"Level\": 16, \"Rarity\": \"Rank 1\", \"Damage\": \"16d4\", \"Health\": 65.11, \"Energy\": 62.17, \"Sanity\": 62.94, \"Time Stamp\": \"2022-03-31 07:23:55\"}, {\"Name\": \"Night Hag\", \"Type\": \"Demonic\", \"Level\": 5, \"Rarity\": \"Rank 5\", \"Damage\": \"5d12+1\", \"Health\": 60.38, \"Energy\": 62.74, \"Sanity\": 57.34, \"Time Stamp\": \"2022-03-31 07:23:55\"}, {\"Name\": \"Pseudodragon\", \"Type\": \"Dragon\", \"Level\": 3, \"Rarity\": \"Rank 0\", \"Damage\": \"3d2+2\", \"Health\": 6.69, \"Energy\": 6.77, \"Sanity\": 6.19, \"Time Stamp\": \"2022-03-31 07:23:55\"}, {\"Name\": \"Efreeti\", \"Type\": \"Elemental\", \"Level\": 12, \"Rarity\": \"Rank 4\", \"Damage\": \"12d10+3\", \"Health\": 122.86, \"Energy\": 119.12, \"Sanity\": 121.53, \"Time Stamp\": \"2022-03-31 07:23:55\"}, {\"Name\": \"Sapphire Faerie\", \"Type\": \"Fey\", \"Level\": 3, \"Rarity\": \"Rank 3\", \"Damage\": \"3d8+1\", \"Health\": 25.58, \"Energy\": 21.65, \"Sanity\": 25.3, \"Time Stamp\": \"2022-03-31 07:23:55\"}, {\"Name\": \"Wyvern\", \"Type\": \"Dragon\", \"Level\": 4, \"Rarity\": \"Rank 3\", \"Damage\": \"4d8+5\", \"Health\": 29.93, \"Energy\": 35.84, \"Sanity\": 33.4, \"Time Stamp\": \"2022-03-31 07:23:55\"}, {\"Name\": \"Ice Mephit\", \"Type\": \"Elemental\", \"Level\": 1, \"Rarity\": \"Rank 1\", \"Damage\": \"1d4+2\", \"Health\": 3.63, \"Energy\": 5.46, \"Sanity\": 3.46, \"Time Stamp\": \"2022-03-31 07:23:55\"}, {\"Name\": \"Spore Archfey\", \"Type\": \"Fey\", \"Level\": 8, \"Rarity\": \"Rank 0\", \"Damage\": \"8d2+4\", \"Health\": 15.38, \"Energy\": 16.01, \"Sanity\": 16.37, \"Time Stamp\": \"2022-03-31 07:23:55\"}, {\"Name\": \"Quasit\", \"Type\": \"Demonic\", \"Level\": 3, \"Rarity\": \"Rank 3\", \"Damage\": \"3d8+2\", \"Health\": 21.77, \"Energy\": 25.88, \"Sanity\": 27.77, \"Time Stamp\": \"2022-03-31 07:23:55\"}, {\"Name\": \"Poltergeist\", \"Type\": \"Undead\", \"Level\": 7, \"Rarity\": \"Rank 1\", \"Damage\": \"7d4+4\", \"Health\": 28.88, \"Energy\": 27.73, \"Sanity\": 27.87, \"Time Stamp\": \"2022-03-31 07:23:55\"}, {\"Name\": \"Prince of Fear\", \"Type\": \"Devilkin\", \"Level\": 6, \"Rarity\": \"Rank 1\", \"Damage\": \"6d4+4\", \"Health\": 24.76, \"Energy\": 25.57, \"Sanity\": 22.49, \"Time Stamp\": \"2022-03-31 07:23:55\"}, {\"Name\": \"Hell Hound\", \"Type\": \"Demonic\", \"Level\": 5, \"Rarity\": \"Rank 3\", \"Damage\": \"5d8\", \"Health\": 39.77, \"Energy\": 43.96, \"Sanity\": 42.99, \"Time Stamp\": \"2022-03-31 07:23:55\"}, {\"Name\": \"Poltergeist\", \"Type\": \"Undead\", \"Level\": 12, \"Rarity\": \"Rank 0\", \"Damage\": \"12d2+3\", \"Health\": 24.64, \"Energy\": 23.33, \"Sanity\": 23.11, \"Time Stamp\": \"2022-03-31 07:23:55\"}, {\"Name\": \"Prince of Fear\", \"Type\": \"Devilkin\", \"Level\": 10, \"Rarity\": \"Rank 1\", \"Damage\": \"10d4\", \"Health\": 39.46, \"Energy\": 41.99, \"Sanity\": 41.74, \"Time Stamp\": \"2022-03-31 07:23:55\"}, {\"Name\": \"Pseudodragon\", \"Type\": \"Dragon\", \"Level\": 16, \"Rarity\": \"Rank 1\", \"Damage\": \"16d4+5\", \"Health\": 63.77, \"Energy\": 62.93, \"Sanity\": 64.29, \"Time Stamp\": \"2022-03-31 07:23:55\"}, {\"Name\": \"Incubus\", \"Type\": \"Devilkin\", \"Level\": 9, \"Rarity\": \"Rank 1\", \"Damage\": \"9d4+1\", \"Health\": 34.01, \"Energy\": 37.06, \"Sanity\": 35.41, \"Time Stamp\": \"2022-03-31 07:23:55\"}, {\"Name\": \"Brass Faerie\", \"Type\": \"Fey\", \"Level\": 7, \"Rarity\": \"Rank 3\", \"Damage\": \"7d8+3\", \"Health\": 58.18, \"Energy\": 56.61, \"Sanity\": 57.84, \"Time Stamp\": \"2022-03-31 07:23:55\"}, {\"Name\": \"Wyvern\", \"Type\": \"Dragon\", \"Level\": 6, \"Rarity\": \"Rank 3\", \"Damage\": \"6d8+2\", \"Health\": 46.28, \"Energy\": 46.46, \"Sanity\": 50.72, \"Time Stamp\": \"2022-03-31 07:23:55\"}, {\"Name\": \"Dust Mephit\", \"Type\": \"Elemental\", \"Level\": 7, \"Rarity\": \"Rank 4\", \"Damage\": \"7d10\", \"Health\": 67.31, \"Energy\": 71.88, \"Sanity\": 71.51, \"Time Stamp\": \"2022-03-31 07:23:55\"}, {\"Name\": \"Bronze Faerie\", \"Type\": \"Fey\", \"Level\": 18, \"Rarity\": \"Rank 2\", \"Damage\": \"18d6+1\", \"Health\": 105.66, \"Energy\": 109.2, \"Sanity\": 106.54, \"Time Stamp\": \"2022-03-31 07:23:55\"}, {\"Name\": \"Faerie Dragon\", \"Type\": \"Dragon\", \"Level\": 5, \"Rarity\": \"Rank 3\", \"Damage\": \"5d8\", \"Health\": 38.83, \"Energy\": 38.76, \"Sanity\": 40.51, \"Time Stamp\": \"2022-03-31 07:23:55\"}, {\"Name\": \"Djinni\", \"Type\": \"Elemental\", \"Level\": 3, \"Rarity\": \"Rank 3\", \"Damage\": \"3d8+2\", \"Health\": 22.29, \"Energy\": 27.82, \"Sanity\": 27.22, \"Time Stamp\": \"2022-03-31 07:23:55\"}, {\"Name\": \"Kobold Guard\", \"Type\": \"Devilkin\", \"Level\": 7, \"Rarity\": \"Rank 0\", \"Damage\": \"7d2+3\", \"Health\": 14.52, \"Energy\": 13.17, \"Sanity\": 13.56, \"Time Stamp\": \"2022-03-31 07:23:55\"}, {\"Name\": \"Red Demon\", \"Type\": \"Demonic\", \"Level\": 11, \"Rarity\": \"Rank 1\", \"Damage\": \"11d4\", \"Health\": 44.55, \"Energy\": 44.28, \"Sanity\": 43.65, \"Time Stamp\": \"2022-03-31 07:23:55\"}, {\"Name\": \"Demilich\", \"Type\": \"Undead\", \"Level\": 7, \"Rarity\": \"Rank 3\", \"Damage\": \"7d8\", \"Health\": 56.58, \"Energy\": 55.97, \"Sanity\": 57.94, \"Time Stamp\": \"2022-03-31 07:23:55\"}, {\"Name\": \"Pit Lord\", \"Type\": \"Devilkin\", \"Level\": 8, \"Rarity\": \"Rank 0\", \"Damage\": \"8d2\", \"Health\": 15.6, \"Energy\": 15.78, \"Sanity\": 16.99, \"Time Stamp\": \"2022-03-31 07:23:55\"}, {\"Name\": \"Nightmare\", \"Type\": \"Demonic\", \"Level\": 10, \"Rarity\": \"Rank 1\", \"Damage\": \"10d4+1\", \"Health\": 39.41, \"Energy\": 41.27, \"Sanity\": 40.72, \"Time Stamp\": \"2022-03-31 07:23:55\"}, {\"Name\": \"Banshee\", \"Type\": \"Undead\", \"Level\": 4, \"Rarity\": \"Rank 2\", \"Damage\": \"4d6+4\", \"Health\": 21.56, \"Energy\": 22.03, \"Sanity\": 22.67, \"Time Stamp\": \"2022-03-31 07:23:55\"}, {\"Name\": \"Lightning Devil\", \"Type\": \"Devilkin\", \"Level\": 15, \"Rarity\": \"Rank 3\", \"Damage\": \"15d8\", \"Health\": 119.0, \"Energy\": 123.23, \"Sanity\": 118.76, \"Time Stamp\": \"2022-03-31 07:23:55\"}, {\"Name\": \"Brass Faerie\", \"Type\": \"Fey\", \"Level\": 16, \"Rarity\": \"Rank 1\", \"Damage\": \"16d4+2\", \"Health\": 64.57, \"Energy\": 63.78, \"Sanity\": 63.91, \"Time Stamp\": \"2022-03-31 07:23:55\"}, {\"Name\": \"Copper Wyrmling\", \"Type\": \"Dragon\", \"Level\": 3, \"Rarity\": \"Rank 0\", \"Damage\": \"3d2\", \"Health\": 6.06, \"Energy\": 6.32, \"Sanity\": 6.5, \"Time Stamp\": \"2022-03-31 07:23:55\"}, {\"Name\": \"Flame Elemental\", \"Type\": \"Elemental\", \"Level\": 2, \"Rarity\": \"Rank 1\", \"Damage\": \"2d4\", \"Health\": 6.96, \"Energy\": 9.26, \"Sanity\": 9.61, \"Time Stamp\": \"2022-03-31 07:23:55\"}, {\"Name\": \"Spore Spirit\", \"Type\": \"Fey\", \"Level\": 11, \"Rarity\": \"Rank 2\", \"Damage\": \"11d6+1\", \"Health\": 66.11, \"Energy\": 66.93, \"Sanity\": 64.65, \"Time Stamp\": \"2022-03-31 07:23:55\"}, {\"Name\": \"Imp\", \"Type\": \"Demonic\", \"Level\": 12, \"Rarity\": \"Rank 2\", \"Damage\": \"12d6+2\", \"Health\": 69.12, \"Energy\": 71.2, \"Sanity\": 71.24, \"Time Stamp\": \"2022-03-31 07:23:55\"}, {\"Name\": \"Ghoul\", \"Type\": \"Undead\", \"Level\": 5, \"Rarity\": \"Rank 0\", \"Damage\": \"5d2+2\", \"Health\": 9.46, \"Energy\": 9.53, \"Sanity\": 9.54, \"Time Stamp\": \"2022-03-31 07:23:55\"}, {\"Name\": \"Magma Spirit\", \"Type\": \"Fey\", \"Level\": 14, \"Rarity\": \"Rank 1\", \"Damage\": \"14d4\", \"Health\": 57.73, \"Energy\": 54.32, \"Sanity\": 57.96, \"Time Stamp\": \"2022-03-31 07:23:55\"}, {\"Name\": \"White Drake\", \"Type\": \"Dragon\", \"Level\": 13, \"Rarity\": \"Rank 3\", \"Damage\": \"13d8+2\", \"Health\": 105.97, \"Energy\": 102.56, \"Sanity\": 104.94, \"Time Stamp\": \"2022-03-31 07:23:55\"}, {\"Name\": \"Succubus\", \"Type\": \"Devilkin\", \"Level\": 13, \"Rarity\": \"Rank 1\", \"Damage\": \"13d4+4\", \"Health\": 51.57, \"Energy\": 52.98, \"Sanity\": 52.56, \"Time Stamp\": \"2022-03-31 07:23:55\"}, {\"Name\": \"Nightmare\", \"Type\": \"Demonic\", \"Level\": 7, \"Rarity\": \"Rank 1\", \"Damage\": \"7d4+4\", \"Health\": 28.59, \"Energy\": 28.15, \"Sanity\": 28.74, \"Time Stamp\": \"2022-03-31 07:23:55\"}, {\"Name\": \"Pseudodragon\", \"Type\": \"Dragon\", \"Level\": 11, \"Rarity\": \"Rank 0\", \"Damage\": \"11d2+4\", \"Health\": 21.52, \"Energy\": 21.48, \"Sanity\": 22.49, \"Time Stamp\": \"2022-03-31 07:23:55\"}, {\"Name\": \"Mud Mephit\", \"Type\": \"Elemental\", \"Level\": 13, \"Rarity\": \"Rank 0\", \"Damage\": \"13d2\", \"Health\": 26.84, \"Energy\": 26.63, \"Sanity\": 26.01, \"Time Stamp\": \"2022-03-31 07:23:55\"}, {\"Name\": \"Diamond Demon\", \"Type\": \"Demonic\", \"Level\": 7, \"Rarity\": \"Rank 0\", \"Damage\": \"7d2+3\", \"Health\": 14.8, \"Energy\": 13.9, \"Sanity\": 14.59, \"Time Stamp\": \"2022-03-31 07:23:55\"}, {\"Name\": \"Brass Drake\", \"Type\": \"Dragon\", \"Level\": 8, \"Rarity\": \"Rank 3\", \"Damage\": \"8d8+3\", \"Health\": 61.09, \"Energy\": 63.26, \"Sanity\": 62.05, \"Time Stamp\": \"2022-03-31 07:23:55\"}, {\"Name\": \"Efreeti\", \"Type\": \"Elemental\", \"Level\": 9, \"Rarity\": \"Rank 0\", \"Damage\": \"9d2+1\", \"Health\": 17.01, \"Energy\": 17.94, \"Sanity\": 17.22, \"Time Stamp\": \"2022-03-31 07:23:55\"}, {\"Name\": \"Ice Spirit\", \"Type\": \"Fey\", \"Level\": 7, \"Rarity\": \"Rank 0\", \"Damage\": \"7d2+1\", \"Health\": 13.61, \"Energy\": 13.95, \"Sanity\": 13.19, \"Time Stamp\": \"2022-03-31 07:23:55\"}, {\"Name\": \"Bronze Drake\", \"Type\": \"Dragon\", \"Level\": 14, \"Rarity\": \"Rank 0\", \"Damage\": \"14d2+4\", \"Health\": 27.39, \"Energy\": 28.36, \"Sanity\": 28.63, \"Time Stamp\": \"2022-03-31 07:23:55\"}, {\"Name\": \"Demilich\", \"Type\": \"Undead\", \"Level\": 10, \"Rarity\": \"Rank 4\", \"Damage\": \"10d10\", \"Health\": 97.27, \"Energy\": 99.74, \"Sanity\": 100.16, \"Time Stamp\": \"2022-03-31 07:23:55\"}, {\"Name\": \"Spore Spirit\", \"Type\": \"Fey\", \"Level\": 7, \"Rarity\": \"Rank 0\", \"Damage\": \"7d2+1\", \"Health\": 13.9, \"Energy\": 13.02, \"Sanity\": 14.29, \"Time Stamp\": \"2022-03-31 07:23:55\"}, {\"Name\": \"Sapphire Dragon\", \"Type\": \"Dragon\", \"Level\": 3, \"Rarity\": \"Rank 1\", \"Damage\": \"3d4+5\", \"Health\": 12.47, \"Energy\": 12.39, \"Sanity\": 10.8, \"Time Stamp\": \"2022-03-31 07:23:55\"}, {\"Name\": \"Goblin Knight\", \"Type\": \"Devilkin\", \"Level\": 16, \"Rarity\": \"Rank 2\", \"Damage\": \"16d6+4\", \"Health\": 98.6, \"Energy\": 96.98, \"Sanity\": 97.07, \"Time Stamp\": \"2022-03-31 07:23:55\"}, {\"Name\": \"Pit Fiend\", \"Type\": \"Demonic\", \"Level\": 2, \"Rarity\": \"Rank 1\", \"Damage\": \"2d4\", \"Health\": 9.03, \"Energy\": 9.92, \"Sanity\": 8.36, \"Time Stamp\": \"2022-03-31 07:23:55\"}, {\"Name\": \"Efreeti\", \"Type\": \"Elemental\", \"Level\": 3, \"Rarity\": \"Rank 1\", \"Damage\": \"3d4\", \"Health\": 12.72, \"Energy\": 12.95, \"Sanity\": 11.95, \"Time Stamp\": \"2022-03-31 07:23:55\"}, {\"Name\": \"Quasit\", \"Type\": \"Demonic\", \"Level\": 5, \"Rarity\": \"Rank 3\", \"Damage\": \"5d8+3\", \"Health\": 38.94, \"Energy\": 42.39, \"Sanity\": 38.24, \"Time Stamp\": \"2022-03-31 07:23:55\"}, {\"Name\": \"Shadow Mephit\", \"Type\": \"Elemental\", \"Level\": 13, \"Rarity\": \"Rank 5\", \"Damage\": \"13d12+3\", \"Health\": 157.01, \"Energy\": 155.45, \"Sanity\": 155.55, \"Time Stamp\": \"2022-03-31 07:23:55\"}, {\"Name\": \"Hook Horror\", \"Type\": \"Demonic\", \"Level\": 1, \"Rarity\": \"Rank 1\", \"Damage\": \"1d4+4\", \"Health\": 5.7, \"Energy\": 4.71, \"Sanity\": 3.64, \"Time Stamp\": \"2022-03-31 07:23:55\"}, {\"Name\": \"Skeletal Archer\", \"Type\": \"Undead\", \"Level\": 8, \"Rarity\": \"Rank 1\", \"Damage\": \"8d4+2\", \"Health\": 32.8, \"Energy\": 32.72, \"Sanity\": 31.59, \"Time Stamp\": \"2022-03-31 07:23:55\"}, {\"Name\": \"Smoke Elemental\", \"Type\": \"Elemental\", \"Level\": 4, \"Rarity\": \"Rank 0\", \"Damage\": \"4d2+4\", \"Health\": 7.74, \"Energy\": 7.53, \"Sanity\": 8.48, \"Time Stamp\": \"2022-03-31 07:23:55\"}, {\"Name\": \"Steam Spirit\", \"Type\": \"Fey\", \"Level\": 11, \"Rarity\": \"Rank 1\", \"Damage\": \"11d4+4\", \"Health\": 42.18, \"Energy\": 42.94, \"Sanity\": 45.2, \"Time Stamp\": \"2022-03-31 07:23:55\"}, {\"Name\": \"Wight\", \"Type\": \"Undead\", \"Level\": 1, \"Rarity\": \"Rank 4\", \"Damage\": \"1d10+1\", \"Health\": 10.91, \"Energy\": 9.52, \"Sanity\": 8.84, \"Time Stamp\": \"2022-03-31 07:23:55\"}, {\"Name\": \"Mud Devil\", \"Type\": \"Devilkin\", \"Level\": 5, \"Rarity\": \"Rank 4\", \"Damage\": \"5d10+4\", \"Health\": 49.42, \"Energy\": 50.96, \"Sanity\": 47.56, \"Time Stamp\": \"2022-03-31 07:23:55\"}, {\"Name\": \"Imp\", \"Type\": \"Demonic\", \"Level\": 11, \"Rarity\": \"Rank 0\", \"Damage\": \"11d2+3\", \"Health\": 22.42, \"Energy\": 21.26, \"Sanity\": 22.65, \"Time Stamp\": \"2022-03-31 07:23:55\"}, {\"Name\": \"Flame Mephit\", \"Type\": \"Elemental\", \"Level\": 7, \"Rarity\": \"Rank 0\", \"Damage\": \"7d2\", \"Health\": 14.12, \"Energy\": 13.36, \"Sanity\": 13.9, \"Time Stamp\": \"2022-03-31 07:23:55\"}, {\"Name\": \"Pit Lord\", \"Type\": \"Devilkin\", \"Level\": 10, \"Rarity\": \"Rank 1\", \"Damage\": \"10d4+3\", \"Health\": 41.32, \"Energy\": 39.36, \"Sanity\": 41.22, \"Time Stamp\": \"2022-03-31 07:23:55\"}, {\"Name\": \"Pseudodragon\", \"Type\": \"Dragon\", \"Level\": 6, \"Rarity\": \"Rank 5\", \"Damage\": \"6d12+1\", \"Health\": 71.58, \"Energy\": 69.49, \"Sanity\": 71.91, \"Time Stamp\": \"2022-03-31 07:23:55\"}, {\"Name\": \"Efreeti\", \"Type\": \"Elemental\", \"Level\": 3, \"Rarity\": \"Rank 3\", \"Damage\": \"3d8+4\", \"Health\": 26.43, \"Energy\": 26.65, \"Sanity\": 25.03, \"Time Stamp\": \"2022-03-31 07:23:55\"}, {\"Name\": \"Nightmare\", \"Type\": \"Demonic\", \"Level\": 10, \"Rarity\": \"Rank 1\", \"Damage\": \"10d4+3\", \"Health\": 39.47, \"Energy\": 39.98, \"Sanity\": 41.01, \"Time Stamp\": \"2022-03-31 07:23:55\"}, {\"Name\": \"Wight\", \"Type\": \"Undead\", \"Level\": 5, \"Rarity\": \"Rank 1\", \"Damage\": \"5d4+1\", \"Health\": 19.39, \"Energy\": 21.74, \"Sanity\": 20.11, \"Time Stamp\": \"2022-03-31 07:23:55\"}, {\"Name\": \"Pit Lord\", \"Type\": \"Devilkin\", \"Level\": 10, \"Rarity\": \"Rank 2\", \"Damage\": \"10d6+2\", \"Health\": 57.4, \"Energy\": 57.87, \"Sanity\": 59.15, \"Time Stamp\": \"2022-03-31 07:23:55\"}, {\"Name\": \"Diamond Dragon\", \"Type\": \"Dragon\", \"Level\": 15, \"Rarity\": \"Rank 3\", \"Damage\": \"15d8+1\", \"Health\": 118.82, \"Energy\": 116.71, \"Sanity\": 119.6, \"Time Stamp\": \"2022-03-31 07:23:55\"}, {\"Name\": \"Pit Lord\", \"Type\": \"Devilkin\", \"Level\": 10, \"Rarity\": \"Rank 4\", \"Damage\": \"10d10\", \"Health\": 104.88, \"Energy\": 102.17, \"Sanity\": 95.21, \"Time Stamp\": \"2022-03-31 07:23:55\"}, {\"Name\": \"Emerald Demon\", \"Type\": \"Demonic\", \"Level\": 15, \"Rarity\": \"Rank 3\", \"Damage\": \"15d8\", \"Health\": 118.77, \"Energy\": 117.31, \"Sanity\": 120.07, \"Time Stamp\": \"2022-03-31 07:23:55\"}, {\"Name\": \"Djinni\", \"Type\": \"Elemental\", \"Level\": 3, \"Rarity\": \"Rank 3\", \"Damage\": \"3d8+4\", \"Health\": 23.2, \"Energy\": 24.22, \"Sanity\": 23.82, \"Time Stamp\": \"2022-03-31 07:23:55\"}, {\"Name\": \"Imp\", \"Type\": \"Demonic\", \"Level\": 11, \"Rarity\": \"Rank 1\", \"Damage\": \"11d4+3\", \"Health\": 44.86, \"Energy\": 43.05, \"Sanity\": 44.84, \"Time Stamp\": \"2022-03-31 07:23:55\"}, {\"Name\": \"Wyvern\", \"Type\": \"Dragon\", \"Level\": 6, \"Rarity\": \"Rank 2\", \"Damage\": \"6d6+4\", \"Health\": 35.56, \"Energy\": 35.22, \"Sanity\": 37.23, \"Time Stamp\": \"2022-03-31 07:23:55\"}, {\"Name\": \"Prince of Fear\", \"Type\": \"Devilkin\", \"Level\": 10, \"Rarity\": \"Rank 0\", \"Damage\": \"10d2\", \"Health\": 20.48, \"Energy\": 19.35, \"Sanity\": 19.14, \"Time Stamp\": \"2022-03-31 07:23:55\"}, {\"Name\": \"Pseudodragon\", \"Type\": \"Dragon\", \"Level\": 5, \"Rarity\": \"Rank 3\", \"Damage\": \"5d8+4\", \"Health\": 37.41, \"Energy\": 40.09, \"Sanity\": 38.82, \"Time Stamp\": \"2022-03-31 07:23:55\"}, {\"Name\": \"Dust Mephit\", \"Type\": \"Elemental\", \"Level\": 14, \"Rarity\": \"Rank 0\", \"Damage\": \"14d2\", \"Health\": 28.69, \"Energy\": 28.93, \"Sanity\": 27.97, \"Time Stamp\": \"2022-03-31 07:23:55\"}, {\"Name\": \"Blue Archfey\", \"Type\": \"Fey\", \"Level\": 9, \"Rarity\": \"Rank 1\", \"Damage\": \"9d4+2\", \"Health\": 36.64, \"Energy\": 36.59, \"Sanity\": 35.73, \"Time Stamp\": \"2022-03-31 07:23:55\"}, {\"Name\": \"Wyvern\", \"Type\": \"Dragon\", \"Level\": 3, \"Rarity\": \"Rank 0\", \"Damage\": \"3d2+4\", \"Health\": 6.55, \"Energy\": 5.05, \"Sanity\": 6.69, \"Time Stamp\": \"2022-03-31 07:23:55\"}, {\"Name\": \"Succubus\", \"Type\": \"Devilkin\", \"Level\": 4, \"Rarity\": \"Rank 1\", \"Damage\": \"4d4\", \"Health\": 16.46, \"Energy\": 17.22, \"Sanity\": 16.12, \"Time Stamp\": \"2022-03-31 07:23:55\"}, {\"Name\": \"Pit Fiend\", \"Type\": \"Demonic\", \"Level\": 9, \"Rarity\": \"Rank 4\", \"Damage\": \"9d10\", \"Health\": 90.03, \"Energy\": 90.4, \"Sanity\": 91.4, \"Time Stamp\": \"2022-03-31 07:23:55\"}, {\"Name\": \"Zombie Villager\", \"Type\": \"Undead\", \"Level\": 16, \"Rarity\": \"Rank 4\", \"Damage\": \"16d10+1\", \"Health\": 164.54, \"Energy\": 155.18, \"Sanity\": 156.63, \"Time Stamp\": \"2022-03-31 07:23:55\"}, {\"Name\": \"Pit Lord\", \"Type\": \"Devilkin\", \"Level\": 18, \"Rarity\": \"Rank 1\", \"Damage\": \"18d4+1\", \"Health\": 72.16, \"Energy\": 70.42, \"Sanity\": 71.68, \"Time Stamp\": \"2022-03-31 07:23:55\"}, {\"Name\": \"Brass Demon\", \"Type\": \"Demonic\", \"Level\": 13, \"Rarity\": \"Rank 2\", \"Damage\": \"13d6+4\", \"Health\": 77.23, \"Energy\": 77.82, \"Sanity\": 77.22, \"Time Stamp\": \"2022-03-31 07:23:55\"}, {\"Name\": \"Zombie Mage\", \"Type\": \"Undead\", \"Level\": 5, \"Rarity\": \"Rank 0\", \"Damage\": \"5d2+2\", \"Health\": 9.26, \"Energy\": 9.31, \"Sanity\": 10.07, \"Time Stamp\": \"2022-03-31 07:23:55\"}, {\"Name\": \"Goblin Guard\", \"Type\": \"Devilkin\", \"Level\": 7, \"Rarity\": \"Rank 0\", \"Damage\": \"7d2+1\", \"Health\": 14.07, \"Energy\": 13.37, \"Sanity\": 13.39, \"Time Stamp\": \"2022-03-31 07:23:55\"}, {\"Name\": \"Imp\", \"Type\": \"Demonic\", \"Level\": 3, \"Rarity\": \"Rank 1\", \"Damage\": \"3d4+1\", \"Health\": 11.38, \"Energy\": 12.85, \"Sanity\": 11.06, \"Time Stamp\": \"2022-03-31 07:23:55\"}, {\"Name\": \"Banshee\", \"Type\": \"Undead\", \"Level\": 3, \"Rarity\": \"Rank 2\", \"Damage\": \"3d6+1\", \"Health\": 19.41, \"Energy\": 18.13, \"Sanity\": 16.03, \"Time Stamp\": \"2022-03-31 07:23:55\"}, {\"Name\": \"Lightning Archfey\", \"Type\": \"Fey\", \"Level\": 11, \"Rarity\": \"Rank 0\", \"Damage\": \"11d2+2\", \"Health\": 22.01, \"Energy\": 22.84, \"Sanity\": 21.79, \"Time Stamp\": \"2022-03-31 07:23:55\"}, {\"Name\": \"Wyvern\", \"Type\": \"Dragon\", \"Level\": 7, \"Rarity\": \"Rank 1\", \"Damage\": \"7d4+3\", \"Health\": 28.1, \"Energy\": 29.46, \"Sanity\": 26.89, \"Time Stamp\": \"2022-03-31 07:23:55\"}, {\"Name\": \"Ice Elemental\", \"Type\": \"Elemental\", \"Level\": 18, \"Rarity\": \"Rank 1\", \"Damage\": \"18d4\", \"Health\": 70.22, \"Energy\": 71.71, \"Sanity\": 72.63, \"Time Stamp\": \"2022-03-31 07:23:55\"}, {\"Name\": \"Succubus\", \"Type\": \"Devilkin\", \"Level\": 7, \"Rarity\": \"Rank 0\", \"Damage\": \"7d2+1\", \"Health\": 13.85, \"Energy\": 13.32, \"Sanity\": 13.27, \"Time Stamp\": \"2022-03-31 07:23:55\"}, {\"Name\": \"Black Faerie\", \"Type\": \"Fey\", \"Level\": 5, \"Rarity\": \"Rank 3\", \"Damage\": \"5d8+1\", \"Health\": 37.77, \"Energy\": 41.0, \"Sanity\": 38.21, \"Time Stamp\": \"2022-03-31 07:23:55\"}, {\"Name\": \"White Dragon\", \"Type\": \"Dragon\", \"Level\": 4, \"Rarity\": \"Rank 0\", \"Damage\": \"4d2+1\", \"Health\": 8.38, \"Energy\": 8.43, \"Sanity\": 7.7, \"Time Stamp\": \"2022-03-31 07:23:55\"}, {\"Name\": \"Lich\", \"Type\": \"Undead\", \"Level\": 1, \"Rarity\": \"Rank 2\", \"Damage\": \"1d6+1\", \"Health\": 3.4, \"Energy\": 6.74, \"Sanity\": 8.4, \"Time Stamp\": \"2022-03-31 07:23:55\"}, {\"Name\": \"Magma Elemental\", \"Type\": \"Elemental\", \"Level\": 15, \"Rarity\": \"Rank 1\", \"Damage\": \"15d4\", \"Health\": 60.26, \"Energy\": 59.16, \"Sanity\": 58.34, \"Time Stamp\": \"2022-03-31 07:23:55\"}, {\"Name\": \"Ruby Archfey\", \"Type\": \"Fey\", \"Level\": 14, \"Rarity\": \"Rank 1\", \"Damage\": \"14d4+2\", \"Health\": 55.79, \"Energy\": 55.63, \"Sanity\": 55.9, \"Time Stamp\": \"2022-03-31 07:23:55\"}, {\"Name\": \"Hook Horror\", \"Type\": \"Demonic\", \"Level\": 3, \"Rarity\": \"Rank 2\", \"Damage\": \"3d6\", \"Health\": 18.14, \"Energy\": 19.05, \"Sanity\": 15.55, \"Time Stamp\": \"2022-03-31 07:23:55\"}, {\"Name\": \"Ghostly Knight\", \"Type\": \"Undead\", \"Level\": 1, \"Rarity\": \"Rank 1\", \"Damage\": \"1d4+2\", \"Health\": 3.99, \"Energy\": 4.27, \"Sanity\": 4.18, \"Time Stamp\": \"2022-03-31 07:23:55\"}, {\"Name\": \"Lightning Devil\", \"Type\": \"Devilkin\", \"Level\": 2, \"Rarity\": \"Rank 1\", \"Damage\": \"2d4+3\", \"Health\": 7.42, \"Energy\": 7.95, \"Sanity\": 7.49, \"Time Stamp\": \"2022-03-31 07:23:55\"}, {\"Name\": \"Balor\", \"Type\": \"Demonic\", \"Level\": 6, \"Rarity\": \"Rank 4\", \"Damage\": \"6d10+2\", \"Health\": 61.02, \"Energy\": 57.33, \"Sanity\": 60.96, \"Time Stamp\": \"2022-03-31 07:23:55\"}, {\"Name\": \"Poltergeist\", \"Type\": \"Undead\", \"Level\": 11, \"Rarity\": \"Rank 1\", \"Damage\": \"11d4+1\", \"Health\": 44.57, \"Energy\": 44.82, \"Sanity\": 45.01, \"Time Stamp\": \"2022-03-31 07:23:55\"}, {\"Name\": \"Emerald Faerie\", \"Type\": \"Fey\", \"Level\": 17, \"Rarity\": \"Rank 0\", \"Damage\": \"17d2+1\", \"Health\": 33.41, \"Energy\": 34.62, \"Sanity\": 33.98, \"Time Stamp\": \"2022-03-31 07:23:55\"}, {\"Name\": \"Hook Horror\", \"Type\": \"Demonic\", \"Level\": 11, \"Rarity\": \"Rank 0\", \"Damage\": \"11d2+3\", \"Health\": 21.13, \"Energy\": 21.71, \"Sanity\": 22.92, \"Time Stamp\": \"2022-03-31 07:23:55\"}, {\"Name\": \"Steam Mephit\", \"Type\": \"Elemental\", \"Level\": 2, \"Rarity\": \"Rank 4\", \"Damage\": \"2d10+2\", \"Health\": 17.87, \"Energy\": 19.61, \"Sanity\": 17.87, \"Time Stamp\": \"2022-03-31 07:23:55\"}, {\"Name\": \"Sapphire Faerie\", \"Type\": \"Fey\", \"Level\": 10, \"Rarity\": \"Rank 0\", \"Damage\": \"10d2\", \"Health\": 19.29, \"Energy\": 19.72, \"Sanity\": 20.35, \"Time Stamp\": \"2022-03-31 07:23:55\"}, {\"Name\": \"Faerie Dragon\", \"Type\": \"Dragon\", \"Level\": 10, \"Rarity\": \"Rank 4\", \"Damage\": \"10d10+2\", \"Health\": 100.89, \"Energy\": 104.63, \"Sanity\": 97.16, \"Time Stamp\": \"2022-03-31 07:23:55\"}, {\"Name\": \"Mud Elemental\", \"Type\": \"Elemental\", \"Level\": 5, \"Rarity\": \"Rank 1\", \"Damage\": \"5d4+3\", \"Health\": 20.33, \"Energy\": 18.17, \"Sanity\": 20.86, \"Time Stamp\": \"2022-03-31 07:23:55\"}, {\"Name\": \"Brass Faerie\", \"Type\": \"Fey\", \"Level\": 13, \"Rarity\": \"Rank 1\", \"Damage\": \"13d4\", \"Health\": 51.82, \"Energy\": 51.39, \"Sanity\": 50.75, \"Time Stamp\": \"2022-03-31 07:23:55\"}, {\"Name\": \"Faerie Dragon\", \"Type\": \"Dragon\", \"Level\": 5, \"Rarity\": \"Rank 1\", \"Damage\": \"5d4+5\", \"Health\": 20.79, \"Energy\": 19.51, \"Sanity\": 19.66, \"Time Stamp\": \"2022-03-31 07:23:55\"}, {\"Name\": \"Goblin Mage\", \"Type\": \"Devilkin\", \"Level\": 17, \"Rarity\": \"Rank 2\", \"Damage\": \"17d6+1\", \"Health\": 100.32, \"Energy\": 101.26, \"Sanity\": 101.76, \"Time Stamp\": \"2022-03-31 07:23:55\"}, {\"Name\": \"Imp\", \"Type\": \"Demonic\", \"Level\": 8, \"Rarity\": \"Rank 1\", \"Damage\": \"8d4+4\", \"Health\": 31.86, \"Energy\": 30.58, \"Sanity\": 32.14, \"Time Stamp\": \"2022-03-31 07:23:55\"}, {\"Name\": \"Efreeti\", \"Type\": \"Elemental\", \"Level\": 7, \"Rarity\": \"Rank 2\", \"Damage\": \"7d6+4\", \"Health\": 44.43, \"Energy\": 40.39, \"Sanity\": 40.05, \"Time Stamp\": \"2022-03-31 07:23:55\"}, {\"Name\": \"Bronze Faerie\", \"Type\": \"Fey\", \"Level\": 6, \"Rarity\": \"Rank 4\", \"Damage\": \"6d10\", \"Health\": 60.27, \"Energy\": 64.79, \"Sanity\": 58.81, \"Time Stamp\": \"2022-03-31 07:23:55\"}, {\"Name\": \"Pseudodragon\", \"Type\": \"Dragon\", \"Level\": 12, \"Rarity\": \"Rank 3\", \"Damage\": \"12d8+2\", \"Health\": 96.17, \"Energy\": 97.1, \"Sanity\": 98.85, \"Time Stamp\": \"2022-03-31 07:23:55\"}, {\"Name\": \"Djinni\", \"Type\": \"Elemental\", \"Level\": 15, \"Rarity\": \"Rank 0\", \"Damage\": \"15d2+4\", \"Health\": 30.7, \"Energy\": 30.72, \"Sanity\": 29.33, \"Time Stamp\": \"2022-03-31 07:23:55\"}, {\"Name\": \"Smoke Devil\", \"Type\": \"Devilkin\", \"Level\": 3, \"Rarity\": \"Rank 0\", \"Damage\": \"3d2+4\", \"Health\": 5.11, \"Energy\": 6.81, \"Sanity\": 6.02, \"Time Stamp\": \"2022-03-31 07:23:55\"}, {\"Name\": \"Quasit\", \"Type\": \"Demonic\", \"Level\": 7, \"Rarity\": \"Rank 1\", \"Damage\": \"7d4+1\", \"Health\": 28.59, \"Energy\": 29.93, \"Sanity\": 26.47, \"Time Stamp\": \"2022-03-31 07:23:55\"}, {\"Name\": \"Dracolich\", \"Type\": \"Undead\", \"Level\": 7, \"Rarity\": \"Rank 4\", \"Damage\": \"7d10+2\", \"Health\": 70.41, \"Energy\": 70.73, \"Sanity\": 72.74, \"Time Stamp\": \"2022-03-31 07:23:55\"}, {\"Name\": \"Pit Lord\", \"Type\": \"Devilkin\", \"Level\": 11, \"Rarity\": \"Rank 3\", \"Damage\": \"11d8+1\", \"Health\": 85.6, \"Energy\": 85.53, \"Sanity\": 89.07, \"Time Stamp\": \"2022-03-31 07:23:55\"}, {\"Name\": \"Magma Spirit\", \"Type\": \"Fey\", \"Level\": 8, \"Rarity\": \"Rank 2\", \"Damage\": \"8d6+3\", \"Health\": 47.14, \"Energy\": 46.77, \"Sanity\": 48.07, \"Time Stamp\": \"2022-03-31 07:23:55\"}, {\"Name\": \"Ghostly Guard\", \"Type\": \"Undead\", \"Level\": 3, \"Rarity\": \"Rank 3\", \"Damage\": \"3d8+2\", \"Health\": 23.74, \"Energy\": 27.59, \"Sanity\": 24.96, \"Time Stamp\": \"2022-03-31 07:23:55\"}, {\"Name\": \"Lightning Archfey\", \"Type\": \"Fey\", \"Level\": 11, \"Rarity\": \"Rank 1\", \"Damage\": \"11d4+3\", \"Health\": 44.75, \"Energy\": 45.6, \"Sanity\": 44.88, \"Time Stamp\": \"2022-03-31 07:23:55\"}, {\"Name\": \"Wyvern\", \"Type\": \"Dragon\", \"Level\": 6, \"Rarity\": \"Rank 4\", \"Damage\": \"6d10+2\", \"Health\": 63.84, \"Energy\": 58.08, \"Sanity\": 59.38, \"Time Stamp\": \"2022-03-31 07:23:55\"}, {\"Name\": \"Djinni\", \"Type\": \"Elemental\", \"Level\": 18, \"Rarity\": \"Rank 1\", \"Damage\": \"18d4\", \"Health\": 70.8, \"Energy\": 70.68, \"Sanity\": 72.12, \"Time Stamp\": \"2022-03-31 07:23:55\"}, {\"Name\": \"Flame Devil\", \"Type\": \"Devilkin\", \"Level\": 3, \"Rarity\": \"Rank 5\", \"Damage\": \"3d12\", \"Health\": 35.52, \"Energy\": 37.91, \"Sanity\": 41.96, \"Time Stamp\": \"2022-03-31 07:23:55\"}, {\"Name\": \"Sapphire Faerie\", \"Type\": \"Fey\", \"Level\": 6, \"Rarity\": \"Rank 2\", \"Damage\": \"6d6\", \"Health\": 35.77, \"Energy\": 36.66, \"Sanity\": 36.48, \"Time Stamp\": \"2022-03-31 07:23:55\"}, {\"Name\": \"Mummy Lord\", \"Type\": \"Undead\", \"Level\": 17, \"Rarity\": \"Rank 0\", \"Damage\": \"17d2\", \"Health\": 34.73, \"Energy\": 34.15, \"Sanity\": 34.89, \"Time Stamp\": \"2022-03-31 07:23:55\"}, {\"Name\": \"Goblin Villager\", \"Type\": \"Devilkin\", \"Level\": 2, \"Rarity\": \"Rank 2\", \"Damage\": \"2d6+5\", \"Health\": 14.6, \"Energy\": 11.76, \"Sanity\": 9.29, \"Time Stamp\": \"2022-03-31 07:23:55\"}, {\"Name\": \"Balor\", \"Type\": \"Demonic\", \"Level\": 7, \"Rarity\": \"Rank 0\", \"Damage\": \"7d2+3\", \"Health\": 14.78, \"Energy\": 13.68, \"Sanity\": 14.28, \"Time Stamp\": \"2022-03-31 07:23:55\"}, {\"Name\": \"Wraith\", \"Type\": \"Undead\", \"Level\": 1, \"Rarity\": \"Rank 1\", \"Damage\": \"1d4+1\", \"Health\": 4.04, \"Energy\": 3.15, \"Sanity\": 3.31, \"Time Stamp\": \"2022-03-31 07:23:55\"}, {\"Name\": \"Kobold Knight\", \"Type\": \"Devilkin\", \"Level\": 2, \"Rarity\": \"Rank 3\", \"Damage\": \"2d8+1\", \"Health\": 18.88, \"Energy\": 19.81, \"Sanity\": 14.0, \"Time Stamp\": \"2022-03-31 07:23:55\"}, {\"Name\": \"Night Hag\", \"Type\": \"Demonic\", \"Level\": 4, \"Rarity\": \"Rank 2\", \"Damage\": \"4d6+1\", \"Health\": 22.23, \"Energy\": 23.67, \"Sanity\": 22.11, \"Time Stamp\": \"2022-03-31 07:23:55\"}, {\"Name\": \"Onyx Dragon\", \"Type\": \"Dragon\", \"Level\": 2, \"Rarity\": \"Rank 1\", \"Damage\": \"2d4\", \"Health\": 9.05, \"Energy\": 9.26, \"Sanity\": 8.75, \"Time Stamp\": \"2022-03-31 07:23:55\"}, {\"Name\": \"Efreeti\", \"Type\": \"Elemental\", \"Level\": 12, \"Rarity\": \"Rank 4\", \"Damage\": \"12d10+2\", \"Health\": 117.94, \"Energy\": 120.68, \"Sanity\": 121.48, \"Time Stamp\": \"2022-03-31 07:23:55\"}, {\"Name\": \"Gold Demon\", \"Type\": \"Demonic\", \"Level\": 10, \"Rarity\": \"Rank 0\", \"Damage\": \"10d2+2\", \"Health\": 20.18, \"Energy\": 20.01, \"Sanity\": 19.4, \"Time Stamp\": \"2022-03-31 07:23:55\"}, {\"Name\": \"Lich King\", \"Type\": \"Undead\", \"Level\": 5, \"Rarity\": \"Rank 3\", \"Damage\": \"5d8+2\", \"Health\": 41.61, \"Energy\": 37.3, \"Sanity\": 40.22, \"Time Stamp\": \"2022-03-31 07:23:55\"}, {\"Name\": \"Magma Devil\", \"Type\": \"Devilkin\", \"Level\": 15, \"Rarity\": \"Rank 0\", \"Damage\": \"15d2\", \"Health\": 30.31, \"Energy\": 30.38, \"Sanity\": 30.74, \"Time Stamp\": \"2022-03-31 07:23:55\"}, {\"Name\": \"Red Faerie\", \"Type\": \"Fey\", \"Level\": 19, \"Rarity\": \"Rank 2\", \"Damage\": \"19d6+1\", \"Health\": 115.64, \"Energy\": 115.59, \"Sanity\": 115.69, \"Time Stamp\": \"2022-03-31 07:23:55\"}, {\"Name\": \"Black Dragon\", \"Type\": \"Dragon\", \"Level\": 10, \"Rarity\": \"Rank 0\", \"Damage\": \"10d2\", \"Health\": 20.03, \"Energy\": 20.24, \"Sanity\": 19.41, \"Time Stamp\": \"2022-03-31 07:23:55\"}, {\"Name\": \"Lich\", \"Type\": \"Undead\", \"Level\": 1, \"Rarity\": \"Rank 4\", \"Damage\": \"1d10+4\", \"Health\": 11.59, \"Energy\": 10.9, \"Sanity\": 12.57, \"Time Stamp\": \"2022-03-31 07:23:55\"}, {\"Name\": \"Prince of Fear\", \"Type\": \"Devilkin\", \"Level\": 8, \"Rarity\": \"Rank 0\", \"Damage\": \"8d2+3\", \"Health\": 16.02, \"Energy\": 15.47, \"Sanity\": 15.45, \"Time Stamp\": \"2022-03-31 07:23:55\"}, {\"Name\": \"Lightning Spirit\", \"Type\": \"Fey\", \"Level\": 4, \"Rarity\": \"Rank 1\", \"Damage\": \"4d4+1\", \"Health\": 14.11, \"Energy\": 16.39, \"Sanity\": 15.81, \"Time Stamp\": \"2022-03-31 07:23:55\"}, {\"Name\": \"Gold Drake\", \"Type\": \"Dragon\", \"Level\": 9, \"Rarity\": \"Rank 2\", \"Damage\": \"9d6+1\", \"Health\": 56.02, \"Energy\": 55.62, \"Sanity\": 52.17, \"Time Stamp\": \"2022-03-31 07:23:55\"}, {\"Name\": \"Flame Elemental\", \"Type\": \"Elemental\", \"Level\": 6, \"Rarity\": \"Rank 2\", \"Damage\": \"6d6+2\", \"Health\": 36.61, \"Energy\": 37.69, \"Sanity\": 36.79, \"Time Stamp\": \"2022-03-31 07:23:55\"}, {\"Name\": \"Dust Spirit\", \"Type\": \"Fey\", \"Level\": 10, \"Rarity\": \"Rank 3\", \"Damage\": \"10d8+3\", \"Health\": 77.31, \"Energy\": 78.04, \"Sanity\": 82.43, \"Time Stamp\": \"2022-03-31 07:23:55\"}, {\"Name\": \"Diamond Wyrmling\", \"Type\": \"Dragon\", \"Level\": 3, \"Rarity\": \"Rank 4\", \"Damage\": \"3d10+2\", \"Health\": 28.3, \"Energy\": 33.49, \"Sanity\": 30.57, \"Time Stamp\": \"2022-03-31 07:23:55\"}, {\"Name\": \"Smoke Mephit\", \"Type\": \"Elemental\", \"Level\": 7, \"Rarity\": \"Rank 3\", \"Damage\": \"7d8\", \"Health\": 54.15, \"Energy\": 55.99, \"Sanity\": 53.16, \"Time Stamp\": \"2022-03-31 07:23:55\"}, {\"Name\": \"Goblin Mage\", \"Type\": \"Devilkin\", \"Level\": 7, \"Rarity\": \"Rank 0\", \"Damage\": \"7d2+1\", \"Health\": 14.99, \"Energy\": 14.92, \"Sanity\": 13.26, \"Time Stamp\": \"2022-03-31 07:23:55\"}, {\"Name\": \"Spore Spirit\", \"Type\": \"Fey\", \"Level\": 1, \"Rarity\": \"Rank 4\", \"Damage\": \"1d10\", \"Health\": 11.04, \"Energy\": 6.63, \"Sanity\": 14.24, \"Time Stamp\": \"2022-03-31 07:23:55\"}, {\"Name\": \"Wyvern\", \"Type\": \"Dragon\", \"Level\": 6, \"Rarity\": \"Rank 0\", \"Damage\": \"6d2+1\", \"Health\": 11.12, \"Energy\": 11.66, \"Sanity\": 12.71, \"Time Stamp\": \"2022-03-31 07:23:55\"}, {\"Name\": \"Poltergeist\", \"Type\": \"Undead\", \"Level\": 9, \"Rarity\": \"Rank 0\", \"Damage\": \"9d2\", \"Health\": 17.01, \"Energy\": 18.79, \"Sanity\": 18.22, \"Time Stamp\": \"2022-03-31 07:23:55\"}, {\"Name\": \"Kobold Archer\", \"Type\": \"Devilkin\", \"Level\": 3, \"Rarity\": \"Rank 0\", \"Damage\": \"3d2+4\", \"Health\": 5.39, \"Energy\": 5.91, \"Sanity\": 6.81, \"Time Stamp\": \"2022-03-31 07:23:55\"}, {\"Name\": \"Hook Horror\", \"Type\": \"Demonic\", \"Level\": 4, \"Rarity\": \"Rank 1\", \"Damage\": \"4d4\", \"Health\": 16.09, \"Energy\": 15.83, \"Sanity\": 17.87, \"Time Stamp\": \"2022-03-31 07:23:55\"}, {\"Name\": \"Death Knight\", \"Type\": \"Undead\", \"Level\": 5, \"Rarity\": \"Rank 2\", \"Damage\": \"5d6+2\", \"Health\": 27.89, \"Energy\": 29.48, \"Sanity\": 32.69, \"Time Stamp\": \"2022-03-31 07:23:55\"}, {\"Name\": \"Incubus\", \"Type\": \"Devilkin\", \"Level\": 7, \"Rarity\": \"Rank 0\", \"Damage\": \"7d2\", \"Health\": 14.73, \"Energy\": 14.87, \"Sanity\": 13.05, \"Time Stamp\": \"2022-03-31 07:23:55\"}, {\"Name\": \"Quasit\", \"Type\": \"Demonic\", \"Level\": 2, \"Rarity\": \"Rank 0\", \"Damage\": \"2d2+2\", \"Health\": 4.16, \"Energy\": 4.32, \"Sanity\": 4.56, \"Time Stamp\": \"2022-03-31 07:23:55\"}, {\"Name\": \"Banshee\", \"Type\": \"Undead\", \"Level\": 7, \"Rarity\": \"Rank 2\", \"Damage\": \"7d6+1\", \"Health\": 42.59, \"Energy\": 43.5, \"Sanity\": 43.41, \"Time Stamp\": \"2022-03-31 07:23:55\"}, {\"Name\": \"Ruby Archfey\", \"Type\": \"Fey\", \"Level\": 7, \"Rarity\": \"Rank 0\", \"Damage\": \"7d2+4\", \"Health\": 14.79, \"Energy\": 13.01, \"Sanity\": 13.49, \"Time Stamp\": \"2022-03-31 07:23:55\"}, {\"Name\": \"Wyvern\", \"Type\": \"Dragon\", \"Level\": 13, \"Rarity\": \"Rank 3\", \"Damage\": \"13d8+2\", \"Health\": 100.53, \"Energy\": 101.27, \"Sanity\": 105.3, \"Time Stamp\": \"2022-03-31 07:23:55\"}, {\"Name\": \"Shadow Elemental\", \"Type\": \"Elemental\", \"Level\": 11, \"Rarity\": \"Rank 1\", \"Damage\": \"11d4\", \"Health\": 44.74, \"Energy\": 43.76, \"Sanity\": 45.73, \"Time Stamp\": \"2022-03-31 07:23:55\"}, {\"Name\": \"Emerald Faerie\", \"Type\": \"Fey\", \"Level\": 6, \"Rarity\": \"Rank 0\", \"Damage\": \"6d2+1\", \"Health\": 12.36, \"Energy\": 12.19, \"Sanity\": 11.87, \"Time Stamp\": \"2022-03-31 07:23:55\"}, {\"Name\": \"Imp\", \"Type\": \"Demonic\", \"Level\": 4, \"Rarity\": \"Rank 3\", \"Damage\": \"4d8+2\", \"Health\": 30.33, \"Energy\": 33.9, \"Sanity\": 34.29, \"Time Stamp\": \"2022-03-31 07:23:55\"}, {\"Name\": \"Vampire\", \"Type\": \"Undead\", \"Level\": 3, \"Rarity\": \"Rank 3\", \"Damage\": \"3d8\", \"Health\": 22.59, \"Energy\": 22.37, \"Sanity\": 23.45, \"Time Stamp\": \"2022-03-31 07:23:55\"}, {\"Name\": \"Pit Lord\", \"Type\": \"Devilkin\", \"Level\": 9, \"Rarity\": \"Rank 2\", \"Damage\": \"9d6+3\", \"Health\": 55.07, \"Energy\": 54.42, \"Sanity\": 54.66, \"Time Stamp\": \"2022-03-31 07:23:55\"}, {\"Name\": \"Imp\", \"Type\": \"Demonic\", \"Level\": 11, \"Rarity\": \"Rank 3\", \"Damage\": \"11d8\", \"Health\": 88.06, \"Energy\": 88.0, \"Sanity\": 89.22, \"Time Stamp\": \"2022-03-31 07:23:55\"}, {\"Name\": \"Banshee\", \"Type\": \"Undead\", \"Level\": 3, \"Rarity\": \"Rank 3\", \"Damage\": \"3d8\", \"Health\": 23.8, \"Energy\": 26.38, \"Sanity\": 25.15, \"Time Stamp\": \"2022-03-31 07:23:55\"}, {\"Name\": \"Djinni\", \"Type\": \"Elemental\", \"Level\": 7, \"Rarity\": \"Rank 3\", \"Damage\": \"7d8\", \"Health\": 53.95, \"Energy\": 55.52, \"Sanity\": 52.31, \"Time Stamp\": \"2022-03-31 07:23:55\"}, {\"Name\": \"Flame Spirit\", \"Type\": \"Fey\", \"Level\": 2, \"Rarity\": \"Rank 4\", \"Damage\": \"2d10+4\", \"Health\": 16.68, \"Energy\": 18.53, \"Sanity\": 23.67, \"Time Stamp\": \"2022-03-31 07:23:55\"}, {\"Name\": \"Pseudodragon\", \"Type\": \"Dragon\", \"Level\": 13, \"Rarity\": \"Rank 4\", \"Damage\": \"13d10\", \"Health\": 131.72, \"Energy\": 130.78, \"Sanity\": 127.99, \"Time Stamp\": \"2022-03-31 07:23:55\"}, {\"Name\": \"Death Knight\", \"Type\": \"Undead\", \"Level\": 15, \"Rarity\": \"Rank 0\", \"Damage\": \"15d2\", \"Health\": 30.22, \"Energy\": 29.41, \"Sanity\": 29.12, \"Time Stamp\": \"2022-03-31 07:23:55\"}, {\"Name\": \"Kobold Villager\", \"Type\": \"Devilkin\", \"Level\": 7, \"Rarity\": \"Rank 1\", \"Damage\": \"7d4\", \"Health\": 28.81, \"Energy\": 27.98, \"Sanity\": 26.48, \"Time Stamp\": \"2022-03-31 07:23:55\"}, {\"Name\": \"Pit Fiend\", \"Type\": \"Demonic\", \"Level\": 14, \"Rarity\": \"Rank 3\", \"Damage\": \"14d8\", \"Health\": 109.53, \"Energy\": 112.96, \"Sanity\": 115.1, \"Time Stamp\": \"2022-03-31 07:23:55\"}, {\"Name\": \"Demilich\", \"Type\": \"Undead\", \"Level\": 8, \"Rarity\": \"Rank 0\", \"Damage\": \"8d2+1\", \"Health\": 15.37, \"Energy\": 16.55, \"Sanity\": 15.17, \"Time Stamp\": \"2022-03-31 07:23:55\"}, {\"Name\": \"Blue Faerie\", \"Type\": \"Fey\", \"Level\": 5, \"Rarity\": \"Rank 0\", \"Damage\": \"5d2+1\", \"Health\": 9.98, \"Energy\": 9.55, \"Sanity\": 10.05, \"Time Stamp\": \"2022-03-31 07:23:55\"}, {\"Name\": \"Death Knight\", \"Type\": \"Undead\", \"Level\": 3, \"Rarity\": \"Rank 5\", \"Damage\": \"3d12+1\", \"Health\": 31.2, \"Energy\": 33.64, \"Sanity\": 31.46, \"Time Stamp\": \"2022-03-31 07:23:55\"}, {\"Name\": \"Succubus\", \"Type\": \"Devilkin\", \"Level\": 9, \"Rarity\": \"Rank 0\", \"Damage\": \"9d2\", \"Health\": 18.69, \"Energy\": 17.22, \"Sanity\": 17.46, \"Time Stamp\": \"2022-03-31 07:23:55\"}, {\"Name\": \"Imp\", \"Type\": \"Demonic\", \"Level\": 10, \"Rarity\": \"Rank 1\", \"Damage\": \"10d4+1\", \"Health\": 38.96, \"Energy\": 40.59, \"Sanity\": 40.19, \"Time Stamp\": \"2022-03-31 07:23:55\"}, {\"Name\": \"Mummy Lord\", \"Type\": \"Undead\", \"Level\": 12, \"Rarity\": \"Rank 3\", \"Damage\": \"12d8+3\", \"Health\": 96.9, \"Energy\": 93.55, \"Sanity\": 96.99, \"Time Stamp\": \"2022-03-31 07:23:55\"}, {\"Name\": \"Kobold Knight\", \"Type\": \"Devilkin\", \"Level\": 3, \"Rarity\": \"Rank 1\", \"Damage\": \"3d4+3\", \"Health\": 10.29, \"Energy\": 12.92, \"Sanity\": 13.24, \"Time Stamp\": \"2022-03-31 07:23:55\"}, {\"Name\": \"Faerie Dragon\", \"Type\": \"Dragon\", \"Level\": 8, \"Rarity\": \"Rank 1\", \"Damage\": \"8d4\", \"Health\": 31.63, \"Energy\": 33.98, \"Sanity\": 31.24, \"Time Stamp\": \"2022-03-31 07:23:55\"}, {\"Name\": \"Kobold Archer\", \"Type\": \"Devilkin\", \"Level\": 13, \"Rarity\": \"Rank 3\", \"Damage\": \"13d8+2\", \"Health\": 101.87, \"Energy\": 100.71, \"Sanity\": 102.15, \"Time Stamp\": \"2022-03-31 07:23:55\"}, {\"Name\": \"Dust Spirit\", \"Type\": \"Fey\", \"Level\": 15, \"Rarity\": \"Rank 1\", \"Damage\": \"15d4\", \"Health\": 60.83, \"Energy\": 59.73, \"Sanity\": 60.73, \"Time Stamp\": \"2022-03-31 07:23:55\"}, {\"Name\": \"Wight\", \"Type\": \"Undead\", \"Level\": 2, \"Rarity\": \"Rank 2\", \"Damage\": \"2d6\", \"Health\": 11.47, \"Energy\": 13.34, \"Sanity\": 10.25, \"Time Stamp\": \"2022-03-31 07:23:55\"}, {\"Name\": \"Ice Archfey\", \"Type\": \"Fey\", \"Level\": 6, \"Rarity\": \"Rank 1\", \"Damage\": \"6d4+2\", \"Health\": 23.24, \"Energy\": 24.16, \"Sanity\": 23.5, \"Time Stamp\": \"2022-03-31 07:23:55\"}, {\"Name\": \"Wyvern\", \"Type\": \"Dragon\", \"Level\": 10, \"Rarity\": \"Rank 2\", \"Damage\": \"10d6+4\", \"Health\": 60.75, \"Energy\": 59.8, \"Sanity\": 60.14, \"Time Stamp\": \"2022-03-31 07:23:55\"}, {\"Name\": \"Djinni\", \"Type\": \"Elemental\", \"Level\": 19, \"Rarity\": \"Rank 2\", \"Damage\": \"19d6+1\", \"Health\": 113.59, \"Energy\": 115.01, \"Sanity\": 115.72, \"Time Stamp\": \"2022-03-31 07:23:55\"}, {\"Name\": \"Steam Devil\", \"Type\": \"Devilkin\", \"Level\": 7, \"Rarity\": \"Rank 0\", \"Damage\": \"7d2\", \"Health\": 14.62, \"Energy\": 13.29, \"Sanity\": 14.15, \"Time Stamp\": \"2022-03-31 07:23:55\"}, {\"Name\": \"Night Hag\", \"Type\": \"Demonic\", \"Level\": 10, \"Rarity\": \"Rank 5\", \"Damage\": \"10d12+1\", \"Health\": 122.8, \"Energy\": 115.09, \"Sanity\": 120.52, \"Time Stamp\": \"2022-03-31 07:23:55\"}, {\"Name\": \"Silver Wyrmling\", \"Type\": \"Dragon\", \"Level\": 2, \"Rarity\": \"Rank 5\", \"Damage\": \"2d12+3\", \"Health\": 22.54, \"Energy\": 24.04, \"Sanity\": 24.54, \"Time Stamp\": \"2022-03-31 07:23:55\"}, {\"Name\": \"Dust Elemental\", \"Type\": \"Elemental\", \"Level\": 3, \"Rarity\": \"Rank 0\", \"Damage\": \"3d2+1\", \"Health\": 5.28, \"Energy\": 6.07, \"Sanity\": 5.48, \"Time Stamp\": \"2022-03-31 07:23:55\"}, {\"Name\": \"Prismatic Archfey\", \"Type\": \"Fey\", \"Level\": 4, \"Rarity\": \"Rank 0\", \"Damage\": \"4d2+4\", \"Health\": 7.38, \"Energy\": 8.21, \"Sanity\": 8.93, \"Time Stamp\": \"2022-03-31 07:23:55\"}, {\"Name\": \"Faerie Dragon\", \"Type\": \"Dragon\", \"Level\": 17, \"Rarity\": \"Rank 1\", \"Damage\": \"17d4\", \"Health\": 67.1, \"Energy\": 67.67, \"Sanity\": 67.85, \"Time Stamp\": \"2022-03-31 07:23:55\"}, {\"Name\": \"Ice Elemental\", \"Type\": \"Elemental\", \"Level\": 5, \"Rarity\": \"Rank 2\", \"Damage\": \"5d6+1\", \"Health\": 29.56, \"Energy\": 27.83, \"Sanity\": 31.04, \"Time Stamp\": \"2022-03-31 07:23:55\"}, {\"Name\": \"Gold Faerie\", \"Type\": \"Fey\", \"Level\": 3, \"Rarity\": \"Rank 2\", \"Damage\": \"3d6\", \"Health\": 19.27, \"Energy\": 20.56, \"Sanity\": 19.55, \"Time Stamp\": \"2022-03-31 07:23:55\"}, {\"Name\": \"Nightmare\", \"Type\": \"Demonic\", \"Level\": 14, \"Rarity\": \"Rank 1\", \"Damage\": \"14d4+1\", \"Health\": 56.44, \"Energy\": 56.73, \"Sanity\": 54.56, \"Time Stamp\": \"2022-03-31 07:23:55\"}, {\"Name\": \"Ghoul\", \"Type\": \"Undead\", \"Level\": 7, \"Rarity\": \"Rank 1\", \"Damage\": \"7d4\", \"Health\": 27.55, \"Energy\": 28.39, \"Sanity\": 26.94, \"Time Stamp\": \"2022-03-31 07:23:55\"}, {\"Name\": \"Spore Mephit\", \"Type\": \"Elemental\", \"Level\": 15, \"Rarity\": \"Rank 1\", \"Damage\": \"15d4+1\", \"Health\": 59.86, \"Energy\": 59.93, \"Sanity\": 59.73, \"Time Stamp\": \"2022-03-31 07:23:55\"}, {\"Name\": \"Mud Spirit\", \"Type\": \"Fey\", \"Level\": 13, \"Rarity\": \"Rank 0\", \"Damage\": \"13d2+2\", \"Health\": 26.4, \"Energy\": 25.81, \"Sanity\": 26.46, \"Time Stamp\": \"2022-03-31 07:23:55\"}, {\"Name\": \"Green Dragon\", \"Type\": \"Dragon\", \"Level\": 15, \"Rarity\": \"Rank 3\", \"Damage\": \"15d8+1\", \"Health\": 117.51, \"Energy\": 119.55, \"Sanity\": 120.06, \"Time Stamp\": \"2022-03-31 07:23:55\"}, {\"Name\": \"Smoke Devil\", \"Type\": \"Devilkin\", \"Level\": 2, \"Rarity\": \"Rank 4\", \"Damage\": \"2d10+2\", \"Health\": 18.18, \"Energy\": 17.44, \"Sanity\": 17.62, \"Time Stamp\": \"2022-03-31 07:23:55\"}, {\"Name\": \"Pseudodragon\", \"Type\": \"Dragon\", \"Level\": 9, \"Rarity\": \"Rank 2\", \"Damage\": \"9d6+1\", \"Health\": 55.9, \"Energy\": 55.83, \"Sanity\": 51.78, \"Time Stamp\": \"2022-03-31 07:23:55\"}, {\"Name\": \"Mummy Lord\", \"Type\": \"Undead\", \"Level\": 2, \"Rarity\": \"Rank 2\", \"Damage\": \"2d6\", \"Health\": 10.34, \"Energy\": 12.13, \"Sanity\": 13.66, \"Time Stamp\": \"2022-03-31 07:23:55\"}, {\"Name\": \"Succubus\", \"Type\": \"Devilkin\", \"Level\": 6, \"Rarity\": \"Rank 5\", \"Damage\": \"6d12+1\", \"Health\": 74.2, \"Energy\": 77.91, \"Sanity\": 73.38, \"Time Stamp\": \"2022-03-31 07:23:55\"}, {\"Name\": \"Night Hag\", \"Type\": \"Demonic\", \"Level\": 7, \"Rarity\": \"Rank 0\", \"Damage\": \"7d2+3\", \"Health\": 14.9, \"Energy\": 14.5, \"Sanity\": 14.09, \"Time Stamp\": \"2022-03-31 07:23:55\"}, {\"Name\": \"Djinni\", \"Type\": \"Elemental\", \"Level\": 6, \"Rarity\": \"Rank 1\", \"Damage\": \"6d4+1\", \"Health\": 23.43, \"Energy\": 23.24, \"Sanity\": 23.27, \"Time Stamp\": \"2022-03-31 07:23:55\"}, {\"Name\": \"Magma Devil\", \"Type\": \"Devilkin\", \"Level\": 6, \"Rarity\": \"Rank 0\", \"Damage\": \"6d2+2\", \"Health\": 11.19, \"Energy\": 11.41, \"Sanity\": 11.33, \"Time Stamp\": \"2022-03-31 07:23:55\"}, {\"Name\": \"Balor\", \"Type\": \"Demonic\", \"Level\": 3, \"Rarity\": \"Rank 1\", \"Damage\": \"3d4\", \"Health\": 13.6, \"Energy\": 12.94, \"Sanity\": 13.68, \"Time Stamp\": \"2022-03-31 07:23:55\"}, {\"Name\": \"Black Drake\", \"Type\": \"Dragon\", \"Level\": 2, \"Rarity\": \"Rank 0\", \"Damage\": \"2d2\", \"Health\": 4.38, \"Energy\": 3.06, \"Sanity\": 4.25, \"Time Stamp\": \"2022-03-31 07:23:55\"}, {\"Name\": \"Ice Mephit\", \"Type\": \"Elemental\", \"Level\": 18, \"Rarity\": \"Rank 0\", \"Damage\": \"18d2+2\", \"Health\": 36.34, \"Energy\": 35.37, \"Sanity\": 36.4, \"Time Stamp\": \"2022-03-31 07:23:55\"}, {\"Name\": \"Hell Hound\", \"Type\": \"Demonic\", \"Level\": 18, \"Rarity\": \"Rank 0\", \"Damage\": \"18d2\", \"Health\": 36.24, \"Energy\": 36.32, \"Sanity\": 35.57, \"Time Stamp\": \"2022-03-31 07:23:55\"}, {\"Name\": \"Emerald Drake\", \"Type\": \"Dragon\", \"Level\": 3, \"Rarity\": \"Rank 3\", \"Damage\": \"3d8\", \"Health\": 25.27, \"Energy\": 26.3, \"Sanity\": 22.76, \"Time Stamp\": \"2022-03-31 07:23:55\"}, {\"Name\": \"Steam Elemental\", \"Type\": \"Elemental\", \"Level\": 4, \"Rarity\": \"Rank 1\", \"Damage\": \"4d4+2\", \"Health\": 16.57, \"Energy\": 16.25, \"Sanity\": 15.08, \"Time Stamp\": \"2022-03-31 07:23:55\"}, {\"Name\": \"Mud Spirit\", \"Type\": \"Fey\", \"Level\": 13, \"Rarity\": \"Rank 3\", \"Damage\": \"13d8+5\", \"Health\": 103.22, \"Energy\": 107.0, \"Sanity\": 100.03, \"Time Stamp\": \"2022-03-31 07:23:55\"}, {\"Name\": \"Faerie Dragon\", \"Type\": \"Dragon\", \"Level\": 1, \"Rarity\": \"Rank 2\", \"Damage\": \"1d6+4\", \"Health\": 4.97, \"Energy\": 3.03, \"Sanity\": 4.76, \"Time Stamp\": \"2022-03-31 07:23:55\"}, {\"Name\": \"Lightning Devil\", \"Type\": \"Devilkin\", \"Level\": 8, \"Rarity\": \"Rank 0\", \"Damage\": \"8d2\", \"Health\": 15.98, \"Energy\": 16.68, \"Sanity\": 15.67, \"Time Stamp\": \"2022-03-31 07:23:55\"}, {\"Name\": \"Balor\", \"Type\": \"Demonic\", \"Level\": 5, \"Rarity\": \"Rank 0\", \"Damage\": \"5d2\", \"Health\": 9.55, \"Energy\": 10.86, \"Sanity\": 10.03, \"Time Stamp\": \"2022-03-31 07:23:55\"}, {\"Name\": \"Gold Drake\", \"Type\": \"Dragon\", \"Level\": 11, \"Rarity\": \"Rank 0\", \"Damage\": \"11d2+5\", \"Health\": 21.45, \"Energy\": 21.86, \"Sanity\": 21.2, \"Time Stamp\": \"2022-03-31 07:23:55\"}, {\"Name\": \"Djinni\", \"Type\": \"Elemental\", \"Level\": 15, \"Rarity\": \"Rank 1\", \"Damage\": \"15d4+3\", \"Health\": 59.02, \"Energy\": 59.06, \"Sanity\": 59.96, \"Time Stamp\": \"2022-03-31 07:23:55\"}, {\"Name\": \"Quasit\", \"Type\": \"Demonic\", \"Level\": 7, \"Rarity\": \"Rank 3\", \"Damage\": \"7d8+3\", \"Health\": 58.8, \"Energy\": 56.43, \"Sanity\": 55.36, \"Time Stamp\": \"2022-03-31 07:23:55\"}, {\"Name\": \"Ghast\", \"Type\": \"Undead\", \"Level\": 5, \"Rarity\": \"Rank 4\", \"Damage\": \"5d10\", \"Health\": 49.33, \"Energy\": 52.78, \"Sanity\": 52.65, \"Time Stamp\": \"2022-03-31 07:23:55\"}, {\"Name\": \"Flame Devil\", \"Type\": \"Devilkin\", \"Level\": 12, \"Rarity\": \"Rank 4\", \"Damage\": \"12d10+4\", \"Health\": 122.35, \"Energy\": 122.98, \"Sanity\": 116.48, \"Time Stamp\": \"2022-03-31 07:23:55\"}, {\"Name\": \"Magma Spirit\", \"Type\": \"Fey\", \"Level\": 6, \"Rarity\": \"Rank 3\", \"Damage\": \"6d8+1\", \"Health\": 45.45, \"Energy\": 50.47, \"Sanity\": 49.45, \"Time Stamp\": \"2022-03-31 07:23:55\"}, {\"Name\": \"Diamond Dragon\", \"Type\": \"Dragon\", \"Level\": 10, \"Rarity\": \"Rank 1\", \"Damage\": \"10d4+5\", \"Health\": 39.66, \"Energy\": 40.42, \"Sanity\": 38.29, \"Time Stamp\": \"2022-03-31 07:23:55\"}, {\"Name\": \"Prince of Fear\", \"Type\": \"Devilkin\", \"Level\": 8, \"Rarity\": \"Rank 2\", \"Damage\": \"8d6+3\", \"Health\": 47.53, \"Energy\": 49.5, \"Sanity\": 46.66, \"Time Stamp\": \"2022-03-31 07:23:55\"}, {\"Name\": \"Hook Horror\", \"Type\": \"Demonic\", \"Level\": 8, \"Rarity\": \"Rank 0\", \"Damage\": \"8d2\", \"Health\": 16.27, \"Energy\": 16.87, \"Sanity\": 15.13, \"Time Stamp\": \"2022-03-31 07:23:55\"}, {\"Name\": \"Copper Wyrmling\", \"Type\": \"Dragon\", \"Level\": 7, \"Rarity\": \"Rank 4\", \"Damage\": \"7d10+2\", \"Health\": 68.41, \"Energy\": 69.19, \"Sanity\": 67.95, \"Time Stamp\": \"2022-03-31 07:23:55\"}, {\"Name\": \"Ice Elemental\", \"Type\": \"Elemental\", \"Level\": 3, \"Rarity\": \"Rank 0\", \"Damage\": \"3d2+3\", \"Health\": 5.22, \"Energy\": 5.87, \"Sanity\": 6.3, \"Time Stamp\": \"2022-03-31 07:23:55\"}, {\"Name\": \"Prince of Fear\", \"Type\": \"Devilkin\", \"Level\": 4, \"Rarity\": \"Rank 2\", \"Damage\": \"4d6\", \"Health\": 22.72, \"Energy\": 23.67, \"Sanity\": 23.65, \"Time Stamp\": \"2022-03-31 07:23:55\"}, {\"Name\": \"Bronze Demon\", \"Type\": \"Demonic\", \"Level\": 10, \"Rarity\": \"Rank 2\", \"Damage\": \"10d6+3\", \"Health\": 60.65, \"Energy\": 58.9, \"Sanity\": 62.71, \"Time Stamp\": \"2022-03-31 07:23:55\"}, {\"Name\": \"Efreeti\", \"Type\": \"Elemental\", \"Level\": 1, \"Rarity\": \"Rank 1\", \"Damage\": \"1d4+4\", \"Health\": 3.03, \"Energy\": 4.12, \"Sanity\": 5.78, \"Time Stamp\": \"2022-03-31 07:23:55\"}, {\"Name\": \"Sapphire Demon\", \"Type\": \"Demonic\", \"Level\": 2, \"Rarity\": \"Rank 3\", \"Damage\": \"2d8+1\", \"Health\": 12.62, \"Energy\": 18.98, \"Sanity\": 15.07, \"Time Stamp\": \"2022-03-31 07:23:55\"}, {\"Name\": \"Ghoul\", \"Type\": \"Undead\", \"Level\": 2, \"Rarity\": \"Rank 1\", \"Damage\": \"2d4+3\", \"Health\": 7.96, \"Energy\": 8.58, \"Sanity\": 9.89, \"Time Stamp\": \"2022-03-31 07:23:55\"}, {\"Name\": \"Prince of Fear\", \"Type\": \"Devilkin\", \"Level\": 7, \"Rarity\": \"Rank 0\", \"Damage\": \"7d2\", \"Health\": 14.55, \"Energy\": 13.56, \"Sanity\": 13.73, \"Time Stamp\": \"2022-03-31 07:23:55\"}, {\"Name\": \"Steam Archfey\", \"Type\": \"Fey\", \"Level\": 17, \"Rarity\": \"Rank 4\", \"Damage\": \"17d10+3\", \"Health\": 171.04, \"Energy\": 167.43, \"Sanity\": 166.61, \"Time Stamp\": \"2022-03-31 07:23:55\"}, {\"Name\": \"Onyx Wyrmling\", \"Type\": \"Dragon\", \"Level\": 20, \"Rarity\": \"Rank 3\", \"Damage\": \"20d8+1\", \"Health\": 163.15, \"Energy\": 157.21, \"Sanity\": 159.25, \"Time Stamp\": \"2022-03-31 07:23:55\"}, {\"Name\": \"Magma Elemental\", \"Type\": \"Elemental\", \"Level\": 2, \"Rarity\": \"Rank 3\", \"Damage\": \"2d8\", \"Health\": 18.56, \"Energy\": 18.25, \"Sanity\": 18.65, \"Time Stamp\": \"2022-03-31 07:23:55\"}, {\"Name\": \"Mud Spirit\", \"Type\": \"Fey\", \"Level\": 9, \"Rarity\": \"Rank 2\", \"Damage\": \"9d6\", \"Health\": 56.97, \"Energy\": 52.74, \"Sanity\": 51.01, \"Time Stamp\": \"2022-03-31 07:23:55\"}, {\"Name\": \"Bronze Demon\", \"Type\": \"Demonic\", \"Level\": 2, \"Rarity\": \"Rank 0\", \"Damage\": \"2d2+1\", \"Health\": 3.13, \"Energy\": 3.58, \"Sanity\": 3.08, \"Time Stamp\": \"2022-03-31 07:23:55\"}, {\"Name\": \"Smoke Mephit\", \"Type\": \"Elemental\", \"Level\": 12, \"Rarity\": \"Rank 3\", \"Damage\": \"12d8+1\", \"Health\": 94.46, \"Energy\": 99.0, \"Sanity\": 97.49, \"Time Stamp\": \"2022-03-31 07:23:55\"}, {\"Name\": \"Prince of Fear\", \"Type\": \"Devilkin\", \"Level\": 5, \"Rarity\": \"Rank 3\", \"Damage\": \"5d8\", \"Health\": 40.69, \"Energy\": 42.37, \"Sanity\": 38.16, \"Time Stamp\": \"2022-03-31 07:23:55\"}, {\"Name\": \"Sapphire Wyrmling\", \"Type\": \"Dragon\", \"Level\": 4, \"Rarity\": \"Rank 2\", \"Damage\": \"4d6+3\", \"Health\": 24.56, \"Energy\": 25.76, \"Sanity\": 23.51, \"Time Stamp\": \"2022-03-31 07:23:55\"}, {\"Name\": \"Efreeti\", \"Type\": \"Elemental\", \"Level\": 7, \"Rarity\": \"Rank 0\", \"Damage\": \"7d2+2\", \"Health\": 13.7, \"Energy\": 13.02, \"Sanity\": 13.12, \"Time Stamp\": \"2022-03-31 07:23:55\"}, {\"Name\": \"Goblin Villager\", \"Type\": \"Devilkin\", \"Level\": 7, \"Rarity\": \"Rank 2\", \"Damage\": \"7d6\", \"Health\": 41.52, \"Energy\": 43.99, \"Sanity\": 43.49, \"Time Stamp\": \"2022-03-31 07:23:55\"}, {\"Name\": \"Diamond Faerie\", \"Type\": \"Fey\", \"Level\": 9, \"Rarity\": \"Rank 2\", \"Damage\": \"9d6+1\", \"Health\": 53.09, \"Energy\": 53.51, \"Sanity\": 53.47, \"Time Stamp\": \"2022-03-31 07:23:55\"}, {\"Name\": \"Copper Dragon\", \"Type\": \"Dragon\", \"Level\": 3, \"Rarity\": \"Rank 4\", \"Damage\": \"3d10+1\", \"Health\": 30.39, \"Energy\": 32.17, \"Sanity\": 26.92, \"Time Stamp\": \"2022-03-31 07:23:55\"}, {\"Name\": \"Djinni\", \"Type\": \"Elemental\", \"Level\": 14, \"Rarity\": \"Rank 3\", \"Damage\": \"14d8+1\", \"Health\": 114.24, \"Energy\": 109.75, \"Sanity\": 108.75, \"Time Stamp\": \"2022-03-31 07:23:55\"}, {\"Name\": \"Emerald Archfey\", \"Type\": \"Fey\", \"Level\": 9, \"Rarity\": \"Rank 4\", \"Damage\": \"9d10+1\", \"Health\": 88.73, \"Energy\": 87.26, \"Sanity\": 93.03, \"Time Stamp\": \"2022-03-31 07:23:55\"}, {\"Name\": \"Night Hag\", \"Type\": \"Demonic\", \"Level\": 4, \"Rarity\": \"Rank 0\", \"Damage\": \"4d2+2\", \"Health\": 7.36, \"Energy\": 7.23, \"Sanity\": 7.78, \"Time Stamp\": \"2022-03-31 07:23:55\"}, {\"Name\": \"Efreeti\", \"Type\": \"Elemental\", \"Level\": 3, \"Rarity\": \"Rank 3\", \"Damage\": \"3d8+2\", \"Health\": 24.22, \"Energy\": 22.11, \"Sanity\": 22.09, \"Time Stamp\": \"2022-03-31 07:23:55\"}, {\"Name\": \"Magma Archfey\", \"Type\": \"Fey\", \"Level\": 5, \"Rarity\": \"Rank 0\", \"Damage\": \"5d2\", \"Health\": 10.48, \"Energy\": 9.13, \"Sanity\": 10.79, \"Time Stamp\": \"2022-03-31 07:23:55\"}, {\"Name\": \"Pseudodragon\", \"Type\": \"Dragon\", \"Level\": 4, \"Rarity\": \"Rank 2\", \"Damage\": \"4d6+2\", \"Health\": 22.63, \"Energy\": 22.58, \"Sanity\": 22.1, \"Time Stamp\": \"2022-03-31 07:23:55\"}, {\"Name\": \"Mud Devil\", \"Type\": \"Devilkin\", \"Level\": 3, \"Rarity\": \"Rank 0\", \"Damage\": \"3d2\", \"Health\": 6.63, \"Energy\": 6.71, \"Sanity\": 5.62, \"Time Stamp\": \"2022-03-31 07:23:55\"}, {\"Name\": \"Imp\", \"Type\": \"Demonic\", \"Level\": 10, \"Rarity\": \"Rank 1\", \"Damage\": \"10d4+3\", \"Health\": 39.82, \"Energy\": 39.08, \"Sanity\": 40.62, \"Time Stamp\": \"2022-03-31 07:23:55\"}, {\"Name\": \"Smoke Elemental\", \"Type\": \"Elemental\", \"Level\": 6, \"Rarity\": \"Rank 0\", \"Damage\": \"6d2+2\", \"Health\": 11.38, \"Energy\": 12.3, \"Sanity\": 11.19, \"Time Stamp\": \"2022-03-31 07:23:55\"}, {\"Name\": \"Sapphire Archfey\", \"Type\": \"Fey\", \"Level\": 3, \"Rarity\": \"Rank 3\", \"Damage\": \"3d8+4\", \"Health\": 25.43, \"Energy\": 21.48, \"Sanity\": 20.29, \"Time Stamp\": \"2022-03-31 07:23:55\"}, {\"Name\": \"Brass Drake\", \"Type\": \"Dragon\", \"Level\": 11, \"Rarity\": \"Rank 3\", \"Damage\": \"11d8+1\", \"Health\": 90.97, \"Energy\": 85.78, \"Sanity\": 86.19, \"Time Stamp\": \"2022-03-31 07:23:55\"}, {\"Name\": \"Efreeti\", \"Type\": \"Elemental\", \"Level\": 7, \"Rarity\": \"Rank 2\", \"Damage\": \"7d6+1\", \"Health\": 43.28, \"Energy\": 43.09, \"Sanity\": 44.81, \"Time Stamp\": \"2022-03-31 07:23:55\"}, {\"Name\": \"Dust Archfey\", \"Type\": \"Fey\", \"Level\": 14, \"Rarity\": \"Rank 1\", \"Damage\": \"14d4+1\", \"Health\": 56.2, \"Energy\": 54.34, \"Sanity\": 54.76, \"Time Stamp\": \"2022-03-31 07:23:55\"}, {\"Name\": \"Bronze Drake\", \"Type\": \"Dragon\", \"Level\": 9, \"Rarity\": \"Rank 3\", \"Damage\": \"9d8+1\", \"Health\": 72.07, \"Energy\": 70.06, \"Sanity\": 71.71, \"Time Stamp\": \"2022-03-31 07:23:55\"}, {\"Name\": \"Djinni\", \"Type\": \"Elemental\", \"Level\": 9, \"Rarity\": \"Rank 1\", \"Damage\": \"9d4+4\", \"Health\": 35.64, \"Energy\": 34.05, \"Sanity\": 36.13, \"Time Stamp\": \"2022-03-31 07:23:55\"}, {\"Name\": \"Succubus\", \"Type\": \"Devilkin\", \"Level\": 11, \"Rarity\": \"Rank 4\", \"Damage\": \"11d10+1\", \"Health\": 113.02, \"Energy\": 110.38, \"Sanity\": 108.02, \"Time Stamp\": \"2022-03-31 07:23:55\"}, {\"Name\": \"White Demon\", \"Type\": \"Demonic\", \"Level\": 4, \"Rarity\": \"Rank 0\", \"Damage\": \"4d2+4\", \"Health\": 7.56, \"Energy\": 8.98, \"Sanity\": 7.46, \"Time Stamp\": \"2022-03-31 07:23:55\"}, {\"Name\": \"Dracolich\", \"Type\": \"Undead\", \"Level\": 2, \"Rarity\": \"Rank 1\", \"Damage\": \"2d4\", \"Health\": 7.12, \"Energy\": 6.9, \"Sanity\": 7.29, \"Time Stamp\": \"2022-03-31 07:23:55\"}, {\"Name\": \"Shadow Mephit\", \"Type\": \"Elemental\", \"Level\": 9, \"Rarity\": \"Rank 2\", \"Damage\": \"9d6\", \"Health\": 53.57, \"Energy\": 53.49, \"Sanity\": 54.72, \"Time Stamp\": \"2022-03-31 07:23:55\"}, {\"Name\": \"Incubus\", \"Type\": \"Devilkin\", \"Level\": 3, \"Rarity\": \"Rank 4\", \"Damage\": \"3d10+2\", \"Health\": 28.62, \"Energy\": 33.48, \"Sanity\": 27.16, \"Time Stamp\": \"2022-03-31 07:23:55\"}, {\"Name\": \"Diamond Demon\", \"Type\": \"Demonic\", \"Level\": 4, \"Rarity\": \"Rank 2\", \"Damage\": \"4d6+3\", \"Health\": 22.84, \"Energy\": 24.84, \"Sanity\": 24.1, \"Time Stamp\": \"2022-03-31 07:23:55\"}, {\"Name\": \"Dracolich\", \"Type\": \"Undead\", \"Level\": 6, \"Rarity\": \"Rank 4\", \"Damage\": \"6d10+1\", \"Health\": 62.61, \"Energy\": 59.65, \"Sanity\": 60.84, \"Time Stamp\": \"2022-03-31 07:23:55\"}, {\"Name\": \"Incubus\", \"Type\": \"Devilkin\", \"Level\": 13, \"Rarity\": \"Rank 0\", \"Damage\": \"13d2+2\", \"Health\": 26.15, \"Energy\": 25.26, \"Sanity\": 25.9, \"Time Stamp\": \"2022-03-31 07:23:55\"}, {\"Name\": \"Nightmare\", \"Type\": \"Demonic\", \"Level\": 2, \"Rarity\": \"Rank 0\", \"Damage\": \"2d2+2\", \"Health\": 4.59, \"Energy\": 3.85, \"Sanity\": 3.03, \"Time Stamp\": \"2022-03-31 07:23:55\"}, {\"Name\": \"Black Dragon\", \"Type\": \"Dragon\", \"Level\": 10, \"Rarity\": \"Rank 5\", \"Damage\": \"10d12+1\", \"Health\": 118.83, \"Energy\": 120.92, \"Sanity\": 120.35, \"Time Stamp\": \"2022-03-31 07:23:55\"}, {\"Name\": \"Death Knight\", \"Type\": \"Undead\", \"Level\": 10, \"Rarity\": \"Rank 2\", \"Damage\": \"10d6+1\", \"Health\": 62.99, \"Energy\": 57.28, \"Sanity\": 59.8, \"Time Stamp\": \"2022-03-31 07:23:55\"}, {\"Name\": \"Efreeti\", \"Type\": \"Elemental\", \"Level\": 14, \"Rarity\": \"Rank 1\", \"Damage\": \"14d4\", \"Health\": 55.6, \"Energy\": 56.28, \"Sanity\": 56.63, \"Time Stamp\": \"2022-03-31 07:23:55\"}, {\"Name\": \"Platinum Faerie\", \"Type\": \"Fey\", \"Level\": 13, \"Rarity\": \"Rank 1\", \"Damage\": \"13d4+4\", \"Health\": 50.72, \"Energy\": 50.31, \"Sanity\": 52.96, \"Time Stamp\": \"2022-03-31 07:23:55\"}, {\"Name\": \"Lich King\", \"Type\": \"Undead\", \"Level\": 8, \"Rarity\": \"Rank 2\", \"Damage\": \"8d6+2\", \"Health\": 47.32, \"Energy\": 49.91, \"Sanity\": 46.96, \"Time Stamp\": \"2022-03-31 07:23:55\"}, {\"Name\": \"Flame Devil\", \"Type\": \"Devilkin\", \"Level\": 4, \"Rarity\": \"Rank 1\", \"Damage\": \"4d4\", \"Health\": 15.4, \"Energy\": 17.23, \"Sanity\": 15.33, \"Time Stamp\": \"2022-03-31 07:23:55\"}, {\"Name\": \"Quasit\", \"Type\": \"Demonic\", \"Level\": 8, \"Rarity\": \"Rank 0\", \"Damage\": \"8d2+2\", \"Health\": 15.39, \"Energy\": 16.97, \"Sanity\": 15.35, \"Time Stamp\": \"2022-03-31 07:23:55\"}, {\"Name\": \"Dust Mephit\", \"Type\": \"Elemental\", \"Level\": 6, \"Rarity\": \"Rank 4\", \"Damage\": \"6d10+1\", \"Health\": 64.06, \"Energy\": 61.18, \"Sanity\": 57.58, \"Time Stamp\": \"2022-03-31 07:23:55\"}, {\"Name\": \"Succubus\", \"Type\": \"Devilkin\", \"Level\": 6, \"Rarity\": \"Rank 2\", \"Damage\": \"6d6+4\", \"Health\": 37.53, \"Energy\": 36.83, \"Sanity\": 35.92, \"Time Stamp\": \"2022-03-31 07:23:55\"}, {\"Name\": \"Red Archfey\", \"Type\": \"Fey\", \"Level\": 3, \"Rarity\": \"Rank 0\", \"Damage\": \"3d2+3\", \"Health\": 6.66, \"Energy\": 6.24, \"Sanity\": 5.05, \"Time Stamp\": \"2022-03-31 07:23:55\"}, {\"Name\": \"Faerie Dragon\", \"Type\": \"Dragon\", \"Level\": 5, \"Rarity\": \"Rank 1\", \"Damage\": \"5d4+1\", \"Health\": 18.55, \"Energy\": 19.05, \"Sanity\": 21.32, \"Time Stamp\": \"2022-03-31 07:23:55\"}, {\"Name\": \"Banshee\", \"Type\": \"Undead\", \"Level\": 8, \"Rarity\": \"Rank 0\", \"Damage\": \"8d2+3\", \"Health\": 16.23, \"Energy\": 16.51, \"Sanity\": 15.37, \"Time Stamp\": \"2022-03-31 07:23:55\"}, {\"Name\": \"Ice Elemental\", \"Type\": \"Elemental\", \"Level\": 5, \"Rarity\": \"Rank 1\", \"Damage\": \"5d4+1\", \"Health\": 19.59, \"Energy\": 19.47, \"Sanity\": 19.87, \"Time Stamp\": \"2022-03-31 07:23:55\"}, {\"Name\": \"Ruby Faerie\", \"Type\": \"Fey\", \"Level\": 9, \"Rarity\": \"Rank 2\", \"Damage\": \"9d6+1\", \"Health\": 55.8, \"Energy\": 56.01, \"Sanity\": 54.66, \"Time Stamp\": \"2022-03-31 07:23:55\"}, {\"Name\": \"Emerald Wyrmling\", \"Type\": \"Dragon\", \"Level\": 4, \"Rarity\": \"Rank 4\", \"Damage\": \"4d10\", \"Health\": 42.18, \"Energy\": 39.1, \"Sanity\": 38.41, \"Time Stamp\": \"2022-03-31 07:23:55\"}, {\"Name\": \"Smoke Elemental\", \"Type\": \"Elemental\", \"Level\": 2, \"Rarity\": \"Rank 2\", \"Damage\": \"2d6+3\", \"Health\": 12.08, \"Energy\": 13.16, \"Sanity\": 12.92, \"Time Stamp\": \"2022-03-31 07:23:55\"}, {\"Name\": \"Kobold Mage\", \"Type\": \"Devilkin\", \"Level\": 5, \"Rarity\": \"Rank 0\", \"Damage\": \"5d2+2\", \"Health\": 9.84, \"Energy\": 9.35, \"Sanity\": 9.44, \"Time Stamp\": \"2022-03-31 07:23:55\"}, {\"Name\": \"Hook Horror\", \"Type\": \"Demonic\", \"Level\": 6, \"Rarity\": \"Rank 2\", \"Damage\": \"6d6\", \"Health\": 33.5, \"Energy\": 35.45, \"Sanity\": 36.81, \"Time Stamp\": \"2022-03-31 07:23:55\"}, {\"Name\": \"Magma Elemental\", \"Type\": \"Elemental\", \"Level\": 1, \"Rarity\": \"Rank 2\", \"Damage\": \"1d6\", \"Health\": 5.44, \"Energy\": 5.72, \"Sanity\": 4.08, \"Time Stamp\": \"2022-03-31 07:23:55\"}, {\"Name\": \"Blue Faerie\", \"Type\": \"Fey\", \"Level\": 6, \"Rarity\": \"Rank 1\", \"Damage\": \"6d4+1\", \"Health\": 25.22, \"Energy\": 24.12, \"Sanity\": 22.85, \"Time Stamp\": \"2022-03-31 07:23:55\"}, {\"Name\": \"Pseudodragon\", \"Type\": \"Dragon\", \"Level\": 3, \"Rarity\": \"Rank 2\", \"Damage\": \"3d6+1\", \"Health\": 15.74, \"Energy\": 16.44, \"Sanity\": 19.5, \"Time Stamp\": \"2022-03-31 07:23:55\"}, {\"Name\": \"Shadow Mephit\", \"Type\": \"Elemental\", \"Level\": 13, \"Rarity\": \"Rank 0\", \"Damage\": \"13d2\", \"Health\": 26.74, \"Energy\": 26.13, \"Sanity\": 26.12, \"Time Stamp\": \"2022-03-31 07:23:55\"}, {\"Name\": \"Diamond Faerie\", \"Type\": \"Fey\", \"Level\": 17, \"Rarity\": \"Rank 0\", \"Damage\": \"17d2\", \"Health\": 34.06, \"Energy\": 33.99, \"Sanity\": 34.59, \"Time Stamp\": \"2022-03-31 07:23:55\"}, {\"Name\": \"Demilich\", \"Type\": \"Undead\", \"Level\": 2, \"Rarity\": \"Rank 2\", \"Damage\": \"2d6\", \"Health\": 10.83, \"Energy\": 9.65, \"Sanity\": 13.9, \"Time Stamp\": \"2022-03-31 07:23:55\"}, {\"Name\": \"Copper Faerie\", \"Type\": \"Fey\", \"Level\": 6, \"Rarity\": \"Rank 4\", \"Damage\": \"6d10+3\", \"Health\": 56.85, \"Energy\": 63.33, \"Sanity\": 59.78, \"Time Stamp\": \"2022-03-31 07:23:55\"}, {\"Name\": \"White Wyrmling\", \"Type\": \"Dragon\", \"Level\": 12, \"Rarity\": \"Rank 2\", \"Damage\": \"12d6+4\", \"Health\": 74.55, \"Energy\": 72.44, \"Sanity\": 71.69, \"Time Stamp\": \"2022-03-31 07:23:55\"}, {\"Name\": \"Efreeti\", \"Type\": \"Elemental\", \"Level\": 3, \"Rarity\": \"Rank 0\", \"Damage\": \"3d2+3\", \"Health\": 6.79, \"Energy\": 5.02, \"Sanity\": 6.86, \"Time Stamp\": \"2022-03-31 07:23:55\"}, {\"Name\": \"Balor\", \"Type\": \"Demonic\", \"Level\": 12, \"Rarity\": \"Rank 1\", \"Damage\": \"12d4+2\", \"Health\": 48.06, \"Energy\": 48.53, \"Sanity\": 46.16, \"Time Stamp\": \"2022-03-31 07:23:55\"}, {\"Name\": \"Green Dragon\", \"Type\": \"Dragon\", \"Level\": 13, \"Rarity\": \"Rank 3\", \"Damage\": \"13d8+3\", \"Health\": 103.13, \"Energy\": 102.22, \"Sanity\": 107.5, \"Time Stamp\": \"2022-03-31 07:23:55\"}, {\"Name\": \"Ice Elemental\", \"Type\": \"Elemental\", \"Level\": 15, \"Rarity\": \"Rank 4\", \"Damage\": \"15d10+3\", \"Health\": 153.99, \"Energy\": 149.79, \"Sanity\": 153.12, \"Time Stamp\": \"2022-03-31 07:23:55\"}, {\"Name\": \"Spore Archfey\", \"Type\": \"Fey\", \"Level\": 15, \"Rarity\": \"Rank 0\", \"Damage\": \"15d2\", \"Health\": 30.39, \"Energy\": 30.58, \"Sanity\": 29.57, \"Time Stamp\": \"2022-03-31 07:23:55\"}, {\"Name\": \"Silver Wyrmling\", \"Type\": \"Dragon\", \"Level\": 11, \"Rarity\": \"Rank 1\", \"Damage\": \"11d4+1\", \"Health\": 45.9, \"Energy\": 43.65, \"Sanity\": 44.65, \"Time Stamp\": \"2022-03-31 07:23:55\"}, {\"Name\": \"Ghostly Archer\", \"Type\": \"Undead\", \"Level\": 15, \"Rarity\": \"Rank 2\", \"Damage\": \"15d6+2\", \"Health\": 89.71, \"Energy\": 90.37, \"Sanity\": 92.92, \"Time Stamp\": \"2022-03-31 07:23:55\"}, {\"Name\": \"Shadow Mephit\", \"Type\": \"Elemental\", \"Level\": 9, \"Rarity\": \"Rank 4\", \"Damage\": \"9d10\", \"Health\": 85.98, \"Energy\": 92.43, \"Sanity\": 91.87, \"Time Stamp\": \"2022-03-31 07:23:55\"}, {\"Name\": \"Succubus\", \"Type\": \"Devilkin\", \"Level\": 11, \"Rarity\": \"Rank 2\", \"Damage\": \"11d6+1\", \"Health\": 67.82, \"Energy\": 67.65, \"Sanity\": 67.08, \"Time Stamp\": \"2022-03-31 07:23:55\"}, {\"Name\": \"Hook Horror\", \"Type\": \"Demonic\", \"Level\": 7, \"Rarity\": \"Rank 1\", \"Damage\": \"7d4+1\", \"Health\": 29.2, \"Energy\": 27.11, \"Sanity\": 26.61, \"Time Stamp\": \"2022-03-31 07:23:55\"}, {\"Name\": \"Efreeti\", \"Type\": \"Elemental\", \"Level\": 13, \"Rarity\": \"Rank 1\", \"Damage\": \"13d4+1\", \"Health\": 51.7, \"Energy\": 52.75, \"Sanity\": 52.55, \"Time Stamp\": \"2022-03-31 07:23:55\"}, {\"Name\": \"Night Hag\", \"Type\": \"Demonic\", \"Level\": 5, \"Rarity\": \"Rank 0\", \"Damage\": \"5d2+2\", \"Health\": 9.81, \"Energy\": 10.31, \"Sanity\": 10.2, \"Time Stamp\": \"2022-03-31 07:23:55\"}, {\"Name\": \"Flame Mephit\", \"Type\": \"Elemental\", \"Level\": 14, \"Rarity\": \"Rank 3\", \"Damage\": \"14d8\", \"Health\": 108.95, \"Energy\": 114.74, \"Sanity\": 110.74, \"Time Stamp\": \"2022-03-31 07:23:55\"}, {\"Name\": \"Pit Lord\", \"Type\": \"Devilkin\", \"Level\": 2, \"Rarity\": \"Rank 2\", \"Damage\": \"2d6+3\", \"Health\": 11.5, \"Energy\": 13.68, \"Sanity\": 11.34, \"Time Stamp\": \"2022-03-31 07:23:55\"}, {\"Name\": \"Copper Demon\", \"Type\": \"Demonic\", \"Level\": 5, \"Rarity\": \"Rank 3\", \"Damage\": \"5d8\", \"Health\": 39.08, \"Energy\": 39.46, \"Sanity\": 36.85, \"Time Stamp\": \"2022-03-31 07:23:55\"}, {\"Name\": \"White Drake\", \"Type\": \"Dragon\", \"Level\": 7, \"Rarity\": \"Rank 0\", \"Damage\": \"7d2+3\", \"Health\": 14.77, \"Energy\": 14.41, \"Sanity\": 14.6, \"Time Stamp\": \"2022-03-31 07:23:55\"}, {\"Name\": \"Spore Elemental\", \"Type\": \"Elemental\", \"Level\": 16, \"Rarity\": \"Rank 4\", \"Damage\": \"16d10+2\", \"Health\": 164.86, \"Energy\": 162.94, \"Sanity\": 155.59, \"Time Stamp\": \"2022-03-31 07:23:55\"}, {\"Name\": \"Silver Archfey\", \"Type\": \"Fey\", \"Level\": 6, \"Rarity\": \"Rank 2\", \"Damage\": \"6d6+1\", \"Health\": 35.25, \"Energy\": 34.46, \"Sanity\": 34.4, \"Time Stamp\": \"2022-03-31 07:23:55\"}, {\"Name\": \"Faerie Dragon\", \"Type\": \"Dragon\", \"Level\": 13, \"Rarity\": \"Rank 0\", \"Damage\": \"13d2\", \"Health\": 26.02, \"Energy\": 26.34, \"Sanity\": 25.18, \"Time Stamp\": \"2022-03-31 07:23:55\"}, {\"Name\": \"Shadow Mephit\", \"Type\": \"Elemental\", \"Level\": 8, \"Rarity\": \"Rank 0\", \"Damage\": \"8d2+3\", \"Health\": 16.3, \"Energy\": 16.81, \"Sanity\": 15.45, \"Time Stamp\": \"2022-03-31 07:23:55\"}, {\"Name\": \"Smoke Archfey\", \"Type\": \"Fey\", \"Level\": 10, \"Rarity\": \"Rank 3\", \"Damage\": \"10d8+1\", \"Health\": 77.6, \"Energy\": 78.1, \"Sanity\": 82.3, \"Time Stamp\": \"2022-03-31 07:23:55\"}, {\"Name\": \"Prismatic Wyrmling\", \"Type\": \"Dragon\", \"Level\": 11, \"Rarity\": \"Rank 0\", \"Damage\": \"11d2+3\", \"Health\": 21.03, \"Energy\": 21.26, \"Sanity\": 22.87, \"Time Stamp\": \"2022-03-31 07:23:55\"}, {\"Name\": \"Efreeti\", \"Type\": \"Elemental\", \"Level\": 13, \"Rarity\": \"Rank 2\", \"Damage\": \"13d6+1\", \"Health\": 80.91, \"Energy\": 75.03, \"Sanity\": 75.2, \"Time Stamp\": \"2022-03-31 07:23:55\"}, {\"Name\": \"Spore Devil\", \"Type\": \"Devilkin\", \"Level\": 14, \"Rarity\": \"Rank 3\", \"Damage\": \"14d8\", \"Health\": 110.14, \"Energy\": 111.92, \"Sanity\": 109.42, \"Time Stamp\": \"2022-03-31 07:23:55\"}, {\"Name\": \"Hell Hound\", \"Type\": \"Demonic\", \"Level\": 5, \"Rarity\": \"Rank 1\", \"Damage\": \"5d4+2\", \"Health\": 18.07, \"Energy\": 19.46, \"Sanity\": 19.59, \"Time Stamp\": \"2022-03-31 07:23:55\"}, {\"Name\": \"Banshee\", \"Type\": \"Undead\", \"Level\": 7, \"Rarity\": \"Rank 1\", \"Damage\": \"7d4\", \"Health\": 28.74, \"Energy\": 26.31, \"Sanity\": 28.15, \"Time Stamp\": \"2022-03-31 07:23:55\"}, {\"Name\": \"Succubus\", \"Type\": \"Devilkin\", \"Level\": 13, \"Rarity\": \"Rank 4\", \"Damage\": \"13d10\", \"Health\": 129.85, \"Energy\": 130.18, \"Sanity\": 125.34, \"Time Stamp\": \"2022-03-31 07:23:55\"}, {\"Name\": \"Nightmare\", \"Type\": \"Demonic\", \"Level\": 11, \"Rarity\": \"Rank 3\", \"Damage\": \"11d8+2\", \"Health\": 89.49, \"Energy\": 89.94, \"Sanity\": 87.82, \"Time Stamp\": \"2022-03-31 07:23:55\"}, {\"Name\": \"Demilich\", \"Type\": \"Undead\", \"Level\": 9, \"Rarity\": \"Rank 2\", \"Damage\": \"9d6+1\", \"Health\": 53.18, \"Energy\": 55.18, \"Sanity\": 52.71, \"Time Stamp\": \"2022-03-31 07:23:55\"}, {\"Name\": \"Dust Spirit\", \"Type\": \"Fey\", \"Level\": 6, \"Rarity\": \"Rank 4\", \"Damage\": \"6d10+1\", \"Health\": 63.09, \"Energy\": 57.43, \"Sanity\": 60.57, \"Time Stamp\": \"2022-03-31 07:23:55\"}, {\"Name\": \"Hell Hound\", \"Type\": \"Demonic\", \"Level\": 5, \"Rarity\": \"Rank 5\", \"Damage\": \"5d12+1\", \"Health\": 59.78, \"Energy\": 62.22, \"Sanity\": 63.51, \"Time Stamp\": \"2022-03-31 07:23:55\"}, {\"Name\": \"Lightning Elemental\", \"Type\": \"Elemental\", \"Level\": 9, \"Rarity\": \"Rank 2\", \"Damage\": \"9d6+2\", \"Health\": 55.55, \"Energy\": 53.25, \"Sanity\": 56.02, \"Time Stamp\": \"2022-03-31 07:23:55\"}, {\"Name\": \"Green Archfey\", \"Type\": \"Fey\", \"Level\": 11, \"Rarity\": \"Rank 1\", \"Damage\": \"11d4+1\", \"Health\": 43.55, \"Energy\": 44.73, \"Sanity\": 44.32, \"Time Stamp\": \"2022-03-31 07:23:55\"}, {\"Name\": \"Onyx Wyrmling\", \"Type\": \"Dragon\", \"Level\": 2, \"Rarity\": \"Rank 2\", \"Damage\": \"2d6+1\", \"Health\": 11.47, \"Energy\": 11.08, \"Sanity\": 10.56, \"Time Stamp\": \"2022-03-31 07:23:55\"}, {\"Name\": \"Efreeti\", \"Type\": \"Elemental\", \"Level\": 7, \"Rarity\": \"Rank 0\", \"Damage\": \"7d2\", \"Health\": 14.31, \"Energy\": 13.79, \"Sanity\": 14.59, \"Time Stamp\": \"2022-03-31 07:23:55\"}, {\"Name\": \"Night Hag\", \"Type\": \"Demonic\", \"Level\": 5, \"Rarity\": \"Rank 0\", \"Damage\": \"5d2+5\", \"Health\": 10.53, \"Energy\": 9.36, \"Sanity\": 9.18, \"Time Stamp\": \"2022-03-31 07:23:55\"}, {\"Name\": \"Smoke Elemental\", \"Type\": \"Elemental\", \"Level\": 9, \"Rarity\": \"Rank 0\", \"Damage\": \"9d2+1\", \"Health\": 18.21, \"Energy\": 17.65, \"Sanity\": 18.21, \"Time Stamp\": \"2022-03-31 07:23:55\"}, {\"Name\": \"Magma Archfey\", \"Type\": \"Fey\", \"Level\": 7, \"Rarity\": \"Rank 0\", \"Damage\": \"7d2\", \"Health\": 14.53, \"Energy\": 13.31, \"Sanity\": 13.88, \"Time Stamp\": \"2022-03-31 07:23:55\"}, {\"Name\": \"Platinum Wyrmling\", \"Type\": \"Dragon\", \"Level\": 3, \"Rarity\": \"Rank 0\", \"Damage\": \"3d2+1\", \"Health\": 5.51, \"Energy\": 5.91, \"Sanity\": 6.59, \"Time Stamp\": \"2022-03-31 07:23:55\"}, {\"Name\": \"Efreeti\", \"Type\": \"Elemental\", \"Level\": 13, \"Rarity\": \"Rank 0\", \"Damage\": \"13d2+2\", \"Health\": 25.86, \"Energy\": 26.54, \"Sanity\": 26.94, \"Time Stamp\": \"2022-03-31 07:23:55\"}, {\"Name\": \"Green Faerie\", \"Type\": \"Fey\", \"Level\": 2, \"Rarity\": \"Rank 0\", \"Damage\": \"2d2+1\", \"Health\": 3.91, \"Energy\": 3.27, \"Sanity\": 4.99, \"Time Stamp\": \"2022-03-31 07:23:55\"}, {\"Name\": \"Ghostly Villager\", \"Type\": \"Undead\", \"Level\": 7, \"Rarity\": \"Rank 1\", \"Damage\": \"7d4+1\", \"Health\": 28.28, \"Energy\": 26.32, \"Sanity\": 27.64, \"Time Stamp\": \"2022-03-31 07:23:55\"}, {\"Name\": \"Lightning Mephit\", \"Type\": \"Elemental\", \"Level\": 6, \"Rarity\": \"Rank 0\", \"Damage\": \"6d2+1\", \"Health\": 11.38, \"Energy\": 12.97, \"Sanity\": 11.69, \"Time Stamp\": \"2022-03-31 07:23:55\"}, {\"Name\": \"Flame Spirit\", \"Type\": \"Fey\", \"Level\": 6, \"Rarity\": \"Rank 0\", \"Damage\": \"6d2+1\", \"Health\": 12.42, \"Energy\": 11.13, \"Sanity\": 11.77, \"Time Stamp\": \"2022-03-31 07:23:55\"}, {\"Name\": \"Pseudodragon\", \"Type\": \"Dragon\", \"Level\": 11, \"Rarity\": \"Rank 0\", \"Damage\": \"11d2\", \"Health\": 21.12, \"Energy\": 21.85, \"Sanity\": 22.08, \"Time Stamp\": \"2022-03-31 07:23:55\"}, {\"Name\": \"Djinni\", \"Type\": \"Elemental\", \"Level\": 2, \"Rarity\": \"Rank 0\", \"Damage\": \"2d2\", \"Health\": 4.38, \"Energy\": 3.91, \"Sanity\": 3.17, \"Time Stamp\": \"2022-03-31 07:23:55\"}, {\"Name\": \"Prince of Fear\", \"Type\": \"Devilkin\", \"Level\": 11, \"Rarity\": \"Rank 4\", \"Damage\": \"11d10+1\", \"Health\": 113.99, \"Energy\": 105.24, \"Sanity\": 107.61, \"Time Stamp\": \"2022-03-31 07:23:55\"}, {\"Name\": \"Imp\", \"Type\": \"Demonic\", \"Level\": 7, \"Rarity\": \"Rank 0\", \"Damage\": \"7d2\", \"Health\": 14.19, \"Energy\": 13.05, \"Sanity\": 13.47, \"Time Stamp\": \"2022-03-31 07:23:55\"}, {\"Name\": \"Lich\", \"Type\": \"Undead\", \"Level\": 2, \"Rarity\": \"Rank 3\", \"Damage\": \"2d8\", \"Health\": 18.09, \"Energy\": 14.11, \"Sanity\": 13.26, \"Time Stamp\": \"2022-03-31 07:23:55\"}, {\"Name\": \"Pit Lord\", \"Type\": \"Devilkin\", \"Level\": 5, \"Rarity\": \"Rank 1\", \"Damage\": \"5d4\", \"Health\": 19.82, \"Energy\": 21.96, \"Sanity\": 19.8, \"Time Stamp\": \"2022-03-31 07:23:55\"}, {\"Name\": \"Ruby Drake\", \"Type\": \"Dragon\", \"Level\": 12, \"Rarity\": \"Rank 0\", \"Damage\": \"12d2+2\", \"Health\": 24.43, \"Energy\": 23.72, \"Sanity\": 24.28, \"Time Stamp\": \"2022-03-31 07:23:55\"}, {\"Name\": \"Djinni\", \"Type\": \"Elemental\", \"Level\": 2, \"Rarity\": \"Rank 0\", \"Damage\": \"2d2+3\", \"Health\": 4.25, \"Energy\": 4.18, \"Sanity\": 4.9, \"Time Stamp\": \"2022-03-31 07:23:55\"}, {\"Name\": \"Bronze Faerie\", \"Type\": \"Fey\", \"Level\": 13, \"Rarity\": \"Rank 1\", \"Damage\": \"13d4\", \"Health\": 51.82, \"Energy\": 50.66, \"Sanity\": 52.82, \"Time Stamp\": \"2022-03-31 07:23:55\"}, {\"Name\": \"Pseudodragon\", \"Type\": \"Dragon\", \"Level\": 15, \"Rarity\": \"Rank 0\", \"Damage\": \"15d2\", \"Health\": 29.68, \"Energy\": 29.28, \"Sanity\": 29.08, \"Time Stamp\": \"2022-03-31 07:23:55\"}, {\"Name\": \"Djinni\", \"Type\": \"Elemental\", \"Level\": 14, \"Rarity\": \"Rank 3\", \"Damage\": \"14d8\", \"Health\": 113.91, \"Energy\": 114.35, \"Sanity\": 111.15, \"Time Stamp\": \"2022-03-31 07:23:55\"}, {\"Name\": \"Red Archfey\", \"Type\": \"Fey\", \"Level\": 5, \"Rarity\": \"Rank 4\", \"Damage\": \"5d10+3\", \"Health\": 48.43, \"Energy\": 46.86, \"Sanity\": 51.5, \"Time Stamp\": \"2022-03-31 07:23:55\"}, {\"Name\": \"Quasit\", \"Type\": \"Demonic\", \"Level\": 12, \"Rarity\": \"Rank 1\", \"Damage\": \"12d4\", \"Health\": 49.66, \"Energy\": 46.26, \"Sanity\": 46.33, \"Time Stamp\": \"2022-03-31 07:23:55\"}, {\"Name\": \"Pseudodragon\", \"Type\": \"Dragon\", \"Level\": 13, \"Rarity\": \"Rank 0\", \"Damage\": \"13d2+1\", \"Health\": 25.95, \"Energy\": 25.38, \"Sanity\": 25.1, \"Time Stamp\": \"2022-03-31 07:23:55\"}, {\"Name\": \"Goblin Mage\", \"Type\": \"Devilkin\", \"Level\": 4, \"Rarity\": \"Rank 0\", \"Damage\": \"4d2\", \"Health\": 8.84, \"Energy\": 7.27, \"Sanity\": 7.01, \"Time Stamp\": \"2022-03-31 07:23:55\"}, {\"Name\": \"Balor\", \"Type\": \"Demonic\", \"Level\": 11, \"Rarity\": \"Rank 2\", \"Damage\": \"11d6\", \"Health\": 67.95, \"Energy\": 65.42, \"Sanity\": 67.73, \"Time Stamp\": \"2022-03-31 07:23:55\"}, {\"Name\": \"Faerie Dragon\", \"Type\": \"Dragon\", \"Level\": 10, \"Rarity\": \"Rank 3\", \"Damage\": \"10d8+1\", \"Health\": 82.18, \"Energy\": 82.98, \"Sanity\": 79.37, \"Time Stamp\": \"2022-03-31 07:23:55\"}, {\"Name\": \"Efreeti\", \"Type\": \"Elemental\", \"Level\": 5, \"Rarity\": \"Rank 1\", \"Damage\": \"5d4+3\", \"Health\": 19.99, \"Energy\": 21.53, \"Sanity\": 20.18, \"Time Stamp\": \"2022-03-31 07:23:55\"}, {\"Name\": \"Spore Archfey\", \"Type\": \"Fey\", \"Level\": 1, \"Rarity\": \"Rank 4\", \"Damage\": \"1d10+1\", \"Health\": 8.83, \"Energy\": 8.76, \"Sanity\": 6.08, \"Time Stamp\": \"2022-03-31 07:23:55\"}, {\"Name\": \"Pseudodragon\", \"Type\": \"Dragon\", \"Level\": 6, \"Rarity\": \"Rank 2\", \"Damage\": \"6d6+3\", \"Health\": 36.72, \"Energy\": 38.0, \"Sanity\": 37.8, \"Time Stamp\": \"2022-03-31 07:23:55\"}, {\"Name\": \"Efreeti\", \"Type\": \"Elemental\", \"Level\": 2, \"Rarity\": \"Rank 0\", \"Damage\": \"2d2\", \"Health\": 3.91, \"Energy\": 4.22, \"Sanity\": 3.23, \"Time Stamp\": \"2022-03-31 07:23:55\"}, {\"Name\": \"Goblin Guard\", \"Type\": \"Devilkin\", \"Level\": 10, \"Rarity\": \"Rank 2\", \"Damage\": \"10d6+2\", \"Health\": 59.15, \"Energy\": 60.3, \"Sanity\": 61.66, \"Time Stamp\": \"2022-03-31 07:23:55\"}, {\"Name\": \"Wyvern\", \"Type\": \"Dragon\", \"Level\": 14, \"Rarity\": \"Rank 2\", \"Damage\": \"14d6+5\", \"Health\": 83.78, \"Energy\": 82.36, \"Sanity\": 84.29, \"Time Stamp\": \"2022-03-31 07:23:55\"}, {\"Name\": \"Vampire\", \"Type\": \"Undead\", \"Level\": 11, \"Rarity\": \"Rank 0\", \"Damage\": \"11d2\", \"Health\": 21.94, \"Energy\": 22.38, \"Sanity\": 21.29, \"Time Stamp\": \"2022-03-31 07:23:55\"}, {\"Name\": \"Lightning Elemental\", \"Type\": \"Elemental\", \"Level\": 1, \"Rarity\": \"Rank 0\", \"Damage\": \"1d2+1\", \"Health\": 1.94, \"Energy\": 2.34, \"Sanity\": 1.66, \"Time Stamp\": \"2022-03-31 07:23:55\"}, {\"Name\": \"Steam Spirit\", \"Type\": \"Fey\", \"Level\": 19, \"Rarity\": \"Rank 0\", \"Damage\": \"19d2+4\", \"Health\": 37.71, \"Energy\": 38.23, \"Sanity\": 37.85, \"Time Stamp\": \"2022-03-31 07:23:55\"}, {\"Name\": \"Poltergeist\", \"Type\": \"Undead\", \"Level\": 18, \"Rarity\": \"Rank 3\", \"Damage\": \"18d8+2\", \"Health\": 145.02, \"Energy\": 143.4, \"Sanity\": 141.43, \"Time Stamp\": \"2022-03-31 07:23:55\"}, {\"Name\": \"Kobold Knight\", \"Type\": \"Devilkin\", \"Level\": 8, \"Rarity\": \"Rank 0\", \"Damage\": \"8d2+1\", \"Health\": 15.35, \"Energy\": 15.78, \"Sanity\": 15.79, \"Time Stamp\": \"2022-03-31 07:23:55\"}, {\"Name\": \"Imp\", \"Type\": \"Demonic\", \"Level\": 18, \"Rarity\": \"Rank 2\", \"Damage\": \"18d6+3\", \"Health\": 108.44, \"Energy\": 107.67, \"Sanity\": 106.76, \"Time Stamp\": \"2022-03-31 07:23:55\"}, {\"Name\": \"Death Knight\", \"Type\": \"Undead\", \"Level\": 11, \"Rarity\": \"Rank 2\", \"Damage\": \"11d6+2\", \"Health\": 67.0, \"Energy\": 66.23, \"Sanity\": 66.92, \"Time Stamp\": \"2022-03-31 07:23:55\"}, {\"Name\": \"Diamond Archfey\", \"Type\": \"Fey\", \"Level\": 5, \"Rarity\": \"Rank 1\", \"Damage\": \"5d4\", \"Health\": 18.16, \"Energy\": 18.99, \"Sanity\": 20.19, \"Time Stamp\": \"2022-03-31 07:23:55\"}, {\"Name\": \"Ghostly Mage\", \"Type\": \"Undead\", \"Level\": 1, \"Rarity\": \"Rank 0\", \"Damage\": \"1d2\", \"Health\": 2.67, \"Energy\": 2.28, \"Sanity\": 1.17, \"Time Stamp\": \"2022-03-31 07:23:55\"}, {\"Name\": \"Efreeti\", \"Type\": \"Elemental\", \"Level\": 11, \"Rarity\": \"Rank 0\", \"Damage\": \"11d2\", \"Health\": 22.87, \"Energy\": 22.15, \"Sanity\": 21.32, \"Time Stamp\": \"2022-03-31 07:23:55\"}, {\"Name\": \"Quasit\", \"Type\": \"Demonic\", \"Level\": 7, \"Rarity\": \"Rank 1\", \"Damage\": \"7d4+1\", \"Health\": 28.07, \"Energy\": 27.23, \"Sanity\": 28.94, \"Time Stamp\": \"2022-03-31 07:23:55\"}, {\"Name\": \"Lich\", \"Type\": \"Undead\", \"Level\": 3, \"Rarity\": \"Rank 0\", \"Damage\": \"3d2+2\", \"Health\": 6.3, \"Energy\": 5.92, \"Sanity\": 5.23, \"Time Stamp\": \"2022-03-31 07:23:55\"}, {\"Name\": \"Djinni\", \"Type\": \"Elemental\", \"Level\": 3, \"Rarity\": \"Rank 0\", \"Damage\": \"3d2+2\", \"Health\": 6.72, \"Energy\": 6.81, \"Sanity\": 6.59, \"Time Stamp\": \"2022-03-31 07:23:55\"}, {\"Name\": \"Nightmare\", \"Type\": \"Demonic\", \"Level\": 11, \"Rarity\": \"Rank 0\", \"Damage\": \"11d2\", \"Health\": 22.09, \"Energy\": 22.65, \"Sanity\": 21.69, \"Time Stamp\": \"2022-03-31 07:23:55\"}, {\"Name\": \"Ghostly Guard\", \"Type\": \"Undead\", \"Level\": 10, \"Rarity\": \"Rank 4\", \"Damage\": \"10d10+1\", \"Health\": 97.48, \"Energy\": 104.33, \"Sanity\": 99.18, \"Time Stamp\": \"2022-03-31 07:23:55\"}, {\"Name\": \"Pit Lord\", \"Type\": \"Devilkin\", \"Level\": 5, \"Rarity\": \"Rank 0\", \"Damage\": \"5d2+3\", \"Health\": 9.36, \"Energy\": 10.46, \"Sanity\": 10.89, \"Time Stamp\": \"2022-03-31 07:23:55\"}, {\"Name\": \"Magma Archfey\", \"Type\": \"Fey\", \"Level\": 2, \"Rarity\": \"Rank 4\", \"Damage\": \"2d10+3\", \"Health\": 15.6, \"Energy\": 22.65, \"Sanity\": 17.53, \"Time Stamp\": \"2022-03-31 07:23:55\"}, {\"Name\": \"Copper Wyrmling\", \"Type\": \"Dragon\", \"Level\": 6, \"Rarity\": \"Rank 1\", \"Damage\": \"6d4+3\", \"Health\": 24.75, \"Energy\": 22.37, \"Sanity\": 23.28, \"Time Stamp\": \"2022-03-31 07:23:55\"}, {\"Name\": \"Lightning Elemental\", \"Type\": \"Elemental\", \"Level\": 7, \"Rarity\": \"Rank 0\", \"Damage\": \"7d2\", \"Health\": 13.62, \"Energy\": 14.23, \"Sanity\": 14.08, \"Time Stamp\": \"2022-03-31 07:23:55\"}, {\"Name\": \"Succubus\", \"Type\": \"Devilkin\", \"Level\": 5, \"Rarity\": \"Rank 1\", \"Damage\": \"5d4+2\", \"Health\": 20.97, \"Energy\": 19.65, \"Sanity\": 19.05, \"Time Stamp\": \"2022-03-31 07:23:55\"}, {\"Name\": \"White Faerie\", \"Type\": \"Fey\", \"Level\": 5, \"Rarity\": \"Rank 1\", \"Damage\": \"5d4+1\", \"Health\": 19.65, \"Energy\": 19.5, \"Sanity\": 19.32, \"Time Stamp\": \"2022-03-31 07:23:55\"}, {\"Name\": \"Pseudodragon\", \"Type\": \"Dragon\", \"Level\": 8, \"Rarity\": \"Rank 2\", \"Damage\": \"8d6+1\", \"Health\": 47.56, \"Energy\": 47.41, \"Sanity\": 49.48, \"Time Stamp\": \"2022-03-31 07:23:55\"}, {\"Name\": \"Efreeti\", \"Type\": \"Elemental\", \"Level\": 16, \"Rarity\": \"Rank 3\", \"Damage\": \"16d8+1\", \"Health\": 124.85, \"Energy\": 125.29, \"Sanity\": 130.8, \"Time Stamp\": \"2022-03-31 07:23:55\"}, {\"Name\": \"Red Faerie\", \"Type\": \"Fey\", \"Level\": 4, \"Rarity\": \"Rank 2\", \"Damage\": \"4d6+2\", \"Health\": 25.25, \"Energy\": 24.59, \"Sanity\": 24.46, \"Time Stamp\": \"2022-03-31 07:23:55\"}, {\"Name\": \"Faerie Dragon\", \"Type\": \"Dragon\", \"Level\": 5, \"Rarity\": \"Rank 4\", \"Damage\": \"5d10+1\", \"Health\": 53.43, \"Energy\": 54.66, \"Sanity\": 46.32, \"Time Stamp\": \"2022-03-31 07:23:55\"}, {\"Name\": \"Incubus\", \"Type\": \"Devilkin\", \"Level\": 6, \"Rarity\": \"Rank 2\", \"Damage\": \"6d6+5\", \"Health\": 37.73, \"Energy\": 36.43, \"Sanity\": 36.53, \"Time Stamp\": \"2022-03-31 07:23:55\"}, {\"Name\": \"Pit Fiend\", \"Type\": \"Demonic\", \"Level\": 12, \"Rarity\": \"Rank 0\", \"Damage\": \"12d2+2\", \"Health\": 24.93, \"Energy\": 23.81, \"Sanity\": 24.0, \"Time Stamp\": \"2022-03-31 07:23:55\"}, {\"Name\": \"Banshee\", \"Type\": \"Undead\", \"Level\": 10, \"Rarity\": \"Rank 4\", \"Damage\": \"10d10\", \"Health\": 104.51, \"Energy\": 97.94, \"Sanity\": 102.11, \"Time Stamp\": \"2022-03-31 07:23:55\"}, {\"Name\": \"Goblin Knight\", \"Type\": \"Devilkin\", \"Level\": 6, \"Rarity\": \"Rank 1\", \"Damage\": \"6d4+3\", \"Health\": 23.67, \"Energy\": 23.77, \"Sanity\": 23.51, \"Time Stamp\": \"2022-03-31 07:23:55\"}, {\"Name\": \"Black Dragon\", \"Type\": \"Dragon\", \"Level\": 7, \"Rarity\": \"Rank 1\", \"Damage\": \"7d4+2\", \"Health\": 29.79, \"Energy\": 28.52, \"Sanity\": 27.29, \"Time Stamp\": \"2022-03-31 07:23:55\"}, {\"Name\": \"Steam Elemental\", \"Type\": \"Elemental\", \"Level\": 12, \"Rarity\": \"Rank 0\", \"Damage\": \"12d2+2\", \"Health\": 24.34, \"Energy\": 23.96, \"Sanity\": 24.56, \"Time Stamp\": \"2022-03-31 07:23:55\"}, {\"Name\": \"Nightmare\", \"Type\": \"Demonic\", \"Level\": 15, \"Rarity\": \"Rank 2\", \"Damage\": \"15d6+2\", \"Health\": 91.52, \"Energy\": 90.22, \"Sanity\": 89.69, \"Time Stamp\": \"2022-03-31 07:23:55\"}, {\"Name\": \"Lich\", \"Type\": \"Undead\", \"Level\": 2, \"Rarity\": \"Rank 0\", \"Damage\": \"2d2+1\", \"Health\": 4.14, \"Energy\": 3.49, \"Sanity\": 4.85, \"Time Stamp\": \"2022-03-31 07:23:55\"}, {\"Name\": \"Djinni\", \"Type\": \"Elemental\", \"Level\": 6, \"Rarity\": \"Rank 0\", \"Damage\": \"6d2+1\", \"Health\": 11.37, \"Energy\": 11.05, \"Sanity\": 11.88, \"Time Stamp\": \"2022-03-31 07:23:55\"}, {\"Name\": \"Prismatic Archfey\", \"Type\": \"Fey\", \"Level\": 6, \"Rarity\": \"Rank 0\", \"Damage\": \"6d2+1\", \"Health\": 12.18, \"Energy\": 12.21, \"Sanity\": 12.07, \"Time Stamp\": \"2022-03-31 07:23:55\"}, {\"Name\": \"Faerie Dragon\", \"Type\": \"Dragon\", \"Level\": 10, \"Rarity\": \"Rank 4\", \"Damage\": \"10d10\", \"Health\": 101.69, \"Energy\": 102.5, \"Sanity\": 104.88, \"Time Stamp\": \"2022-03-31 07:23:55\"}, {\"Name\": \"Mummy Lord\", \"Type\": \"Undead\", \"Level\": 3, \"Rarity\": \"Rank 3\", \"Damage\": \"3d8\", \"Health\": 26.01, \"Energy\": 25.92, \"Sanity\": 22.48, \"Time Stamp\": \"2022-03-31 07:23:55\"}, {\"Name\": \"Djinni\", \"Type\": \"Elemental\", \"Level\": 4, \"Rarity\": \"Rank 0\", \"Damage\": \"4d2+1\", \"Health\": 8.47, \"Energy\": 8.09, \"Sanity\": 8.7, \"Time Stamp\": \"2022-03-31 07:23:55\"}, {\"Name\": \"Balor\", \"Type\": \"Demonic\", \"Level\": 7, \"Rarity\": \"Rank 0\", \"Damage\": \"7d2\", \"Health\": 13.0, \"Energy\": 14.9, \"Sanity\": 13.1, \"Time Stamp\": \"2022-03-31 07:23:55\"}, {\"Name\": \"Lich\", \"Type\": \"Undead\", \"Level\": 9, \"Rarity\": \"Rank 4\", \"Damage\": \"9d10+3\", \"Health\": 92.44, \"Energy\": 91.67, \"Sanity\": 88.66, \"Time Stamp\": \"2022-03-31 07:23:55\"}, {\"Name\": \"Kobold Archer\", \"Type\": \"Devilkin\", \"Level\": 8, \"Rarity\": \"Rank 3\", \"Damage\": \"8d8+3\", \"Health\": 63.24, \"Energy\": 62.34, \"Sanity\": 62.09, \"Time Stamp\": \"2022-03-31 07:23:55\"}, {\"Name\": \"Gold Demon\", \"Type\": \"Demonic\", \"Level\": 3, \"Rarity\": \"Rank 0\", \"Damage\": \"3d2\", \"Health\": 6.65, \"Energy\": 6.34, \"Sanity\": 5.47, \"Time Stamp\": \"2022-03-31 07:23:55\"}, {\"Name\": \"Lich\", \"Type\": \"Undead\", \"Level\": 4, \"Rarity\": \"Rank 2\", \"Damage\": \"4d6+5\", \"Health\": 25.24, \"Energy\": 22.78, \"Sanity\": 23.26, \"Time Stamp\": \"2022-03-31 07:23:55\"}, {\"Name\": \"Magma Devil\", \"Type\": \"Devilkin\", \"Level\": 13, \"Rarity\": \"Rank 0\", \"Damage\": \"13d2+1\", \"Health\": 25.71, \"Energy\": 25.6, \"Sanity\": 25.13, \"Time Stamp\": \"2022-03-31 07:23:55\"}, {\"Name\": \"Hook Horror\", \"Type\": \"Demonic\", \"Level\": 8, \"Rarity\": \"Rank 2\", \"Damage\": \"8d6+1\", \"Health\": 49.55, \"Energy\": 50.85, \"Sanity\": 50.97, \"Time Stamp\": \"2022-03-31 07:23:55\"}, {\"Name\": \"Diamond Wyrmling\", \"Type\": \"Dragon\", \"Level\": 10, \"Rarity\": \"Rank 0\", \"Damage\": \"10d2\", \"Health\": 19.2, \"Energy\": 20.31, \"Sanity\": 20.94, \"Time Stamp\": \"2022-03-31 07:23:55\"}, {\"Name\": \"Efreeti\", \"Type\": \"Elemental\", \"Level\": 2, \"Rarity\": \"Rank 0\", \"Damage\": \"2d2+5\", \"Health\": 4.77, \"Energy\": 4.4, \"Sanity\": 3.43, \"Time Stamp\": \"2022-03-31 07:23:55\"}, {\"Name\": \"Night Hag\", \"Type\": \"Demonic\", \"Level\": 14, \"Rarity\": \"Rank 0\", \"Damage\": \"14d2+2\", \"Health\": 27.62, \"Energy\": 28.24, \"Sanity\": 27.03, \"Time Stamp\": \"2022-03-31 07:23:55\"}, {\"Name\": \"Mud Elemental\", \"Type\": \"Elemental\", \"Level\": 17, \"Rarity\": \"Rank 4\", \"Damage\": \"17d10+1\", \"Health\": 174.39, \"Energy\": 171.46, \"Sanity\": 168.33, \"Time Stamp\": \"2022-03-31 07:23:55\"}, {\"Name\": \"Emerald Faerie\", \"Type\": \"Fey\", \"Level\": 2, \"Rarity\": \"Rank 3\", \"Damage\": \"2d8+4\", \"Health\": 17.48, \"Energy\": 13.89, \"Sanity\": 13.22, \"Time Stamp\": \"2022-03-31 07:23:55\"}, {\"Name\": \"Demilich\", \"Type\": \"Undead\", \"Level\": 14, \"Rarity\": \"Rank 1\", \"Damage\": \"14d4+1\", \"Health\": 55.23, \"Energy\": 56.8, \"Sanity\": 57.57, \"Time Stamp\": \"2022-03-31 07:23:55\"}, {\"Name\": \"Smoke Elemental\", \"Type\": \"Elemental\", \"Level\": 15, \"Rarity\": \"Rank 3\", \"Damage\": \"15d8+1\", \"Health\": 118.13, \"Energy\": 121.16, \"Sanity\": 121.77, \"Time Stamp\": \"2022-03-31 07:23:55\"}, {\"Name\": \"Magma Spirit\", \"Type\": \"Fey\", \"Level\": 2, \"Rarity\": \"Rank 2\", \"Damage\": \"2d6+4\", \"Health\": 10.59, \"Energy\": 12.83, \"Sanity\": 13.13, \"Time Stamp\": \"2022-03-31 07:23:55\"}, {\"Name\": \"Vampire\", \"Type\": \"Undead\", \"Level\": 3, \"Rarity\": \"Rank 4\", \"Damage\": \"3d10\", \"Health\": 31.77, \"Energy\": 30.92, \"Sanity\": 26.38, \"Time Stamp\": \"2022-03-31 07:23:55\"}, {\"Name\": \"Pit Lord\", \"Type\": \"Devilkin\", \"Level\": 5, \"Rarity\": \"Rank 1\", \"Damage\": \"5d4\", \"Health\": 20.23, \"Energy\": 20.44, \"Sanity\": 18.24, \"Time Stamp\": \"2022-03-31 07:23:55\"}, {\"Name\": \"Lightning Archfey\", \"Type\": \"Fey\", \"Level\": 10, \"Rarity\": \"Rank 0\", \"Damage\": \"10d2+1\", \"Health\": 20.89, \"Energy\": 19.32, \"Sanity\": 20.38, \"Time Stamp\": \"2022-03-31 07:23:55\"}, {\"Name\": \"Sapphire Wyrmling\", \"Type\": \"Dragon\", \"Level\": 6, \"Rarity\": \"Rank 0\", \"Damage\": \"6d2\", \"Health\": 12.79, \"Energy\": 12.82, \"Sanity\": 11.01, \"Time Stamp\": \"2022-03-31 07:23:55\"}, {\"Name\": \"Djinni\", \"Type\": \"Elemental\", \"Level\": 4, \"Rarity\": \"Rank 1\", \"Damage\": \"4d4+1\", \"Health\": 17.16, \"Energy\": 16.34, \"Sanity\": 17.81, \"Time Stamp\": \"2022-03-31 07:23:55\"}, {\"Name\": \"Red Faerie\", \"Type\": \"Fey\", \"Level\": 6, \"Rarity\": \"Rank 1\", \"Damage\": \"6d4+5\", \"Health\": 22.95, \"Energy\": 23.07, \"Sanity\": 22.73, \"Time Stamp\": \"2022-03-31 07:23:55\"}, {\"Name\": \"Balor\", \"Type\": \"Demonic\", \"Level\": 15, \"Rarity\": \"Rank 3\", \"Damage\": \"15d8+3\", \"Health\": 118.12, \"Energy\": 122.36, \"Sanity\": 120.19, \"Time Stamp\": \"2022-03-31 07:23:55\"}, {\"Name\": \"Zombie Guard\", \"Type\": \"Undead\", \"Level\": 4, \"Rarity\": \"Rank 0\", \"Damage\": \"4d2+5\", \"Health\": 8.45, \"Energy\": 7.44, \"Sanity\": 8.46, \"Time Stamp\": \"2022-03-31 07:23:55\"}, {\"Name\": \"Copper Archfey\", \"Type\": \"Fey\", \"Level\": 13, \"Rarity\": \"Rank 1\", \"Damage\": \"13d4\", \"Health\": 51.4, \"Energy\": 53.77, \"Sanity\": 50.95, \"Time Stamp\": \"2022-03-31 07:23:55\"}, {\"Name\": \"Faerie Dragon\", \"Type\": \"Dragon\", \"Level\": 11, \"Rarity\": \"Rank 2\", \"Damage\": \"11d6\", \"Health\": 68.66, \"Energy\": 64.15, \"Sanity\": 65.92, \"Time Stamp\": \"2022-03-31 07:23:55\"}, {\"Name\": \"Wight\", \"Type\": \"Undead\", \"Level\": 6, \"Rarity\": \"Rank 1\", \"Damage\": \"6d4+2\", \"Health\": 24.14, \"Energy\": 22.97, \"Sanity\": 22.88, \"Time Stamp\": \"2022-03-31 07:23:55\"}, {\"Name\": \"Smoke Mephit\", \"Type\": \"Elemental\", \"Level\": 5, \"Rarity\": \"Rank 3\", \"Damage\": \"5d8+1\", \"Health\": 43.51, \"Energy\": 41.34, \"Sanity\": 42.83, \"Time Stamp\": \"2022-03-31 07:23:55\"}, {\"Name\": \"Prince of Fear\", \"Type\": \"Devilkin\", \"Level\": 2, \"Rarity\": \"Rank 0\", \"Damage\": \"2d2+1\", \"Health\": 4.75, \"Energy\": 3.57, \"Sanity\": 3.04, \"Time Stamp\": \"2022-03-31 07:23:55\"}, {\"Name\": \"Hook Horror\", \"Type\": \"Demonic\", \"Level\": 3, \"Rarity\": \"Rank 2\", \"Damage\": \"3d6+2\", \"Health\": 18.07, \"Energy\": 18.04, \"Sanity\": 19.37, \"Time Stamp\": \"2022-03-31 07:23:55\"}, {\"Name\": \"Zombie Knight\", \"Type\": \"Undead\", \"Level\": 3, \"Rarity\": \"Rank 3\", \"Damage\": \"3d8+3\", \"Health\": 21.86, \"Energy\": 27.5, \"Sanity\": 22.16, \"Time Stamp\": \"2022-03-31 07:23:55\"}, {\"Name\": \"Pit Lord\", \"Type\": \"Devilkin\", \"Level\": 2, \"Rarity\": \"Rank 1\", \"Damage\": \"2d4+3\", \"Health\": 6.38, \"Energy\": 6.86, \"Sanity\": 8.67, \"Time Stamp\": \"2022-03-31 07:23:55\"}, {\"Name\": \"Blue Wyrmling\", \"Type\": \"Dragon\", \"Level\": 7, \"Rarity\": \"Rank 3\", \"Damage\": \"7d8+3\", \"Health\": 55.42, \"Energy\": 57.45, \"Sanity\": 52.09, \"Time Stamp\": \"2022-03-31 07:23:55\"}, {\"Name\": \"Kobold Archer\", \"Type\": \"Devilkin\", \"Level\": 9, \"Rarity\": \"Rank 3\", \"Damage\": \"9d8+1\", \"Health\": 70.18, \"Energy\": 73.52, \"Sanity\": 74.39, \"Time Stamp\": \"2022-03-31 07:23:55\"}, {\"Name\": \"Diamond Dragon\", \"Type\": \"Dragon\", \"Level\": 7, \"Rarity\": \"Rank 3\", \"Damage\": \"7d8+2\", \"Health\": 55.26, \"Energy\": 59.1, \"Sanity\": 55.88, \"Time Stamp\": \"2022-03-31 07:23:55\"}, {\"Name\": \"Djinni\", \"Type\": \"Elemental\", \"Level\": 4, \"Rarity\": \"Rank 3\", \"Damage\": \"4d8+3\", \"Health\": 35.23, \"Energy\": 33.11, \"Sanity\": 33.59, \"Time Stamp\": \"2022-03-31 07:23:55\"}, {\"Name\": \"Spore Archfey\", \"Type\": \"Fey\", \"Level\": 3, \"Rarity\": \"Rank 3\", \"Damage\": \"3d8\", \"Health\": 24.02, \"Energy\": 27.76, \"Sanity\": 22.82, \"Time Stamp\": \"2022-03-31 07:23:55\"}, {\"Name\": \"Brass Drake\", \"Type\": \"Dragon\", \"Level\": 5, \"Rarity\": \"Rank 0\", \"Damage\": \"5d2+2\", \"Health\": 9.57, \"Energy\": 9.3, \"Sanity\": 9.09, \"Time Stamp\": \"2022-03-31 07:23:55\"}, {\"Name\": \"Efreeti\", \"Type\": \"Elemental\", \"Level\": 8, \"Rarity\": \"Rank 4\", \"Damage\": \"8d10+4\", \"Health\": 82.01, \"Energy\": 83.39, \"Sanity\": 81.37, \"Time Stamp\": \"2022-03-31 07:23:55\"}, {\"Name\": \"Pit Fiend\", \"Type\": \"Demonic\", \"Level\": 10, \"Rarity\": \"Rank 3\", \"Damage\": \"10d8+2\", \"Health\": 76.99, \"Energy\": 77.45, \"Sanity\": 78.79, \"Time Stamp\": \"2022-03-31 07:23:55\"}, {\"Name\": \"Banshee\", \"Type\": \"Undead\", \"Level\": 2, \"Rarity\": \"Rank 1\", \"Damage\": \"2d4+1\", \"Health\": 8.42, \"Energy\": 9.23, \"Sanity\": 6.26, \"Time Stamp\": \"2022-03-31 07:23:55\"}, {\"Name\": \"Mud Devil\", \"Type\": \"Devilkin\", \"Level\": 6, \"Rarity\": \"Rank 3\", \"Damage\": \"6d8\", \"Health\": 46.21, \"Energy\": 51.79, \"Sanity\": 49.64, \"Time Stamp\": \"2022-03-31 07:23:55\"}, {\"Name\": \"Emerald Demon\", \"Type\": \"Demonic\", \"Level\": 9, \"Rarity\": \"Rank 0\", \"Damage\": \"9d2+1\", \"Health\": 17.02, \"Energy\": 17.91, \"Sanity\": 18.64, \"Time Stamp\": \"2022-03-31 07:23:55\"}, {\"Name\": \"Lich\", \"Type\": \"Undead\", \"Level\": 7, \"Rarity\": \"Rank 1\", \"Damage\": \"7d4+2\", \"Health\": 26.79, \"Energy\": 28.99, \"Sanity\": 27.36, \"Time Stamp\": \"2022-03-31 07:23:55\"}]}}, {\"mode\": \"vega-lite\"});\n</script>",
      "text/plain": "alt.Chart(...)"
     },
     "execution_count": 42,
     "metadata": {},
     "output_type": "execute_result"
    }
   ]
  },
  {
   "cell_type": "markdown",
   "metadata": {
    "id": "YrbTGOy8PfeX"
   },
   "source": [
    "### Abstraction, Encapsulation, Polymophism\n",
    "\n",
    "Below is one example of an abstraction that encasulates a graph and extends some customization points. Here we'll use a functional interface, but classes work too. \n",
    "\n",
    "You can parameterize every aspect of the graph by adding function arguments. Be mindfull, you don't want to over-do it here. Keep your calling signature simple and usable. Provide good defaults and well named arguments, and your users will enjoy using your code. Make it super complicated and they may as well just use Altair themselves.\n",
    "\n",
    "A good interface should always encapsulate the core logic in such a way that the rest of the app is totally unaware of how it works, but can still interact with the core logic in a general way. One might say that the interface is more abstract than the core logic it encapsulates. At this higher abstraction level it becomes easier to replace our core logic without disrupting parallel development on other parts of the app. And now a word from our sponsor, Polymorphism.\n",
    "\n",
    "One hypothetical example of Polymorphism is if we designed more than one graph, possibly with two different graphing libraries. Then gave them compatible interfaces. This gives us the ability to trade one graph library for another without rewriting the whole app. We could do that at any time during development without disrupting anything."
   ]
  },
  {
   "cell_type": "code",
   "metadata": {
    "id": "I_l36uo4PRnG"
   },
   "source": [
    "def scatter(x_axis=\"Health\", y_axis=\"Energy\", target=\"Rarity\", rarity=\"All\"):\n",
    "\n",
    "    monsters = db.get_df().drop(columns=['_id'])\n",
    "\n",
    "    if rarity != \"All\":\n",
    "        monsters = monsters[monsters['Rarity'] == rarity]\n",
    "\n",
    "    graph = alt.Chart(\n",
    "        monsters,\n",
    "        title=f\"{rarity} Monsters\",\n",
    "    ).mark_circle(size=200).encode(\n",
    "        x=alt.X(\n",
    "            x_axis,\n",
    "            axis=alt.Axis(title=x_axis),\n",
    "        ),\n",
    "        y=alt.Y(\n",
    "            y_axis,\n",
    "            axis=alt.Axis(title=y_axis),\n",
    "        ),\n",
    "        color=target,\n",
    "        tooltip=alt.Tooltip(list(monsters.columns)),\n",
    "    ).properties(\n",
    "        height=500,\n",
    "        width=500,\n",
    "    )\n",
    "\n",
    "    return graph"
   ],
   "execution_count": 43,
   "outputs": []
  },
  {
   "cell_type": "markdown",
   "metadata": {
    "id": "5uT_XhX9l9R0"
   },
   "source": [
    "Try other columns below. In terms of data science, what's the most interesting graph you can make with the scatter_plot function? \n",
    "\n",
    "What feature(s) are missing from this function? \n",
    "\n",
    "What's cool about designing software this way? \n",
    "\n",
    "What's lacking about designing software this way?"
   ]
  },
  {
   "cell_type": "code",
   "metadata": {
    "id": "X5Zy4uzMQ9_A"
   },
   "source": [
    "scatter_plot = scatter(\n",
    "    x_axis=\"Health\",\n",
    "    y_axis=\"Energy\",\n",
    "    target=\"Type\", \n",
    "    rarity=\"Rank 0\",\n",
    ")\n",
    "scatter_plot"
   ],
   "execution_count": 60,
   "outputs": [
    {
     "data": {
      "text/html": "\n<div id=\"altair-viz-e8c798cdc8874b988852a900c7424664\"></div>\n<script type=\"text/javascript\">\n  (function(spec, embedOpt){\n    let outputDiv = document.currentScript.previousElementSibling;\n    if (outputDiv.id !== \"altair-viz-e8c798cdc8874b988852a900c7424664\") {\n      outputDiv = document.getElementById(\"altair-viz-e8c798cdc8874b988852a900c7424664\");\n    }\n    const paths = {\n      \"vega\": \"https://cdn.jsdelivr.net/npm//vega@5?noext\",\n      \"vega-lib\": \"https://cdn.jsdelivr.net/npm//vega-lib?noext\",\n      \"vega-lite\": \"https://cdn.jsdelivr.net/npm//vega-lite@4.8.1?noext\",\n      \"vega-embed\": \"https://cdn.jsdelivr.net/npm//vega-embed@6?noext\",\n    };\n\n    function loadScript(lib) {\n      return new Promise(function(resolve, reject) {\n        var s = document.createElement('script');\n        s.src = paths[lib];\n        s.async = true;\n        s.onload = () => resolve(paths[lib]);\n        s.onerror = () => reject(`Error loading script: ${paths[lib]}`);\n        document.getElementsByTagName(\"head\")[0].appendChild(s);\n      });\n    }\n\n    function showError(err) {\n      outputDiv.innerHTML = `<div class=\"error\" style=\"color:red;\">${err}</div>`;\n      throw err;\n    }\n\n    function displayChart(vegaEmbed) {\n      vegaEmbed(outputDiv, spec, embedOpt)\n        .catch(err => showError(`Javascript Error: ${err.message}<br>This usually means there's a typo in your chart specification. See the javascript console for the full traceback.`));\n    }\n\n    if(typeof define === \"function\" && define.amd) {\n      requirejs.config({paths});\n      require([\"vega-embed\"], displayChart, err => showError(`Error loading script: ${err.message}`));\n    } else if (typeof vegaEmbed === \"function\") {\n      displayChart(vegaEmbed);\n    } else {\n      loadScript(\"vega\")\n        .then(() => loadScript(\"vega-lite\"))\n        .then(() => loadScript(\"vega-embed\"))\n        .catch(showError)\n        .then(() => displayChart(vegaEmbed));\n    }\n  })({\"config\": {\"view\": {\"continuousWidth\": 400, \"continuousHeight\": 300}}, \"data\": {\"name\": \"data-bc909eade4e963ccacb1652308ad0036\"}, \"mark\": {\"type\": \"circle\", \"size\": 200}, \"encoding\": {\"color\": {\"type\": \"nominal\", \"field\": \"Type\"}, \"tooltip\": [{\"type\": \"nominal\", \"field\": \"Name\"}, {\"type\": \"nominal\", \"field\": \"Type\"}, {\"type\": \"quantitative\", \"field\": \"Level\"}, {\"type\": \"nominal\", \"field\": \"Rarity\"}, {\"type\": \"nominal\", \"field\": \"Damage\"}, {\"type\": \"quantitative\", \"field\": \"Health\"}, {\"type\": \"quantitative\", \"field\": \"Energy\"}, {\"type\": \"quantitative\", \"field\": \"Sanity\"}, {\"type\": \"nominal\", \"field\": \"Time Stamp\"}], \"x\": {\"type\": \"quantitative\", \"axis\": {\"title\": \"Health\"}, \"field\": \"Health\"}, \"y\": {\"type\": \"quantitative\", \"axis\": {\"title\": \"Energy\"}, \"field\": \"Energy\"}}, \"height\": 500, \"title\": \"Rank 0 Monsters\", \"width\": 500, \"$schema\": \"https://vega.github.io/schema/vega-lite/v4.8.1.json\", \"datasets\": {\"data-bc909eade4e963ccacb1652308ad0036\": [{\"Name\": \"Dust Spirit\", \"Type\": \"Fey\", \"Level\": 4, \"Rarity\": \"Rank 0\", \"Damage\": \"4d2+3\", \"Health\": 7.73, \"Energy\": 8.1, \"Sanity\": 8.62, \"Time Stamp\": \"2022-03-31 07:23:55\"}, {\"Name\": \"Emerald Dragon\", \"Type\": \"Dragon\", \"Level\": 12, \"Rarity\": \"Rank 0\", \"Damage\": \"12d2\", \"Health\": 24.01, \"Energy\": 24.32, \"Sanity\": 23.85, \"Time Stamp\": \"2022-03-31 07:23:55\"}, {\"Name\": \"Djinni\", \"Type\": \"Elemental\", \"Level\": 13, \"Rarity\": \"Rank 0\", \"Damage\": \"13d2+1\", \"Health\": 26.77, \"Energy\": 25.26, \"Sanity\": 25.07, \"Time Stamp\": \"2022-03-31 07:23:55\"}, {\"Name\": \"Steam Archfey\", \"Type\": \"Fey\", \"Level\": 8, \"Rarity\": \"Rank 0\", \"Damage\": \"8d2\", \"Health\": 15.57, \"Energy\": 16.85, \"Sanity\": 15.07, \"Time Stamp\": \"2022-03-31 07:23:55\"}, {\"Name\": \"Pit Lord\", \"Type\": \"Devilkin\", \"Level\": 12, \"Rarity\": \"Rank 0\", \"Damage\": \"12d2\", \"Health\": 24.12, \"Energy\": 23.42, \"Sanity\": 24.62, \"Time Stamp\": \"2022-03-31 07:23:55\"}, {\"Name\": \"Smoke Archfey\", \"Type\": \"Fey\", \"Level\": 3, \"Rarity\": \"Rank 0\", \"Damage\": \"3d2+3\", \"Health\": 6.38, \"Energy\": 6.84, \"Sanity\": 6.35, \"Time Stamp\": \"2022-03-31 07:23:55\"}, {\"Name\": \"Magma Spirit\", \"Type\": \"Fey\", \"Level\": 1, \"Rarity\": \"Rank 0\", \"Damage\": \"1d2+2\", \"Health\": 1.24, \"Energy\": 2.97, \"Sanity\": 1.03, \"Time Stamp\": \"2022-03-31 07:23:55\"}, {\"Name\": \"Hook Horror\", \"Type\": \"Demonic\", \"Level\": 13, \"Rarity\": \"Rank 0\", \"Damage\": \"13d2\", \"Health\": 26.92, \"Energy\": 26.15, \"Sanity\": 25.93, \"Time Stamp\": \"2022-03-31 07:23:55\"}, {\"Name\": \"Pseudodragon\", \"Type\": \"Dragon\", \"Level\": 5, \"Rarity\": \"Rank 0\", \"Damage\": \"5d2\", \"Health\": 9.87, \"Energy\": 9.99, \"Sanity\": 10.62, \"Time Stamp\": \"2022-03-31 07:23:55\"}, {\"Name\": \"Shadow Archfey\", \"Type\": \"Fey\", \"Level\": 13, \"Rarity\": \"Rank 0\", \"Damage\": \"13d2\", \"Health\": 26.85, \"Energy\": 25.05, \"Sanity\": 25.12, \"Time Stamp\": \"2022-03-31 07:23:55\"}, {\"Name\": \"Faerie Dragon\", \"Type\": \"Dragon\", \"Level\": 2, \"Rarity\": \"Rank 0\", \"Damage\": \"2d2+2\", \"Health\": 3.21, \"Energy\": 4.15, \"Sanity\": 4.45, \"Time Stamp\": \"2022-03-31 07:23:55\"}, {\"Name\": \"Onyx Faerie\", \"Type\": \"Fey\", \"Level\": 2, \"Rarity\": \"Rank 0\", \"Damage\": \"2d2+2\", \"Health\": 4.28, \"Energy\": 3.37, \"Sanity\": 4.54, \"Time Stamp\": \"2022-03-31 07:23:55\"}, {\"Name\": \"Nightmare\", \"Type\": \"Demonic\", \"Level\": 3, \"Rarity\": \"Rank 0\", \"Damage\": \"3d2+1\", \"Health\": 5.61, \"Energy\": 6.18, \"Sanity\": 6.17, \"Time Stamp\": \"2022-03-31 07:23:55\"}, {\"Name\": \"Pit Lord\", \"Type\": \"Devilkin\", \"Level\": 2, \"Rarity\": \"Rank 0\", \"Damage\": \"2d2+2\", \"Health\": 3.79, \"Energy\": 3.24, \"Sanity\": 3.29, \"Time Stamp\": \"2022-03-31 07:23:55\"}, {\"Name\": \"Wyvern\", \"Type\": \"Dragon\", \"Level\": 7, \"Rarity\": \"Rank 0\", \"Damage\": \"7d2+1\", \"Health\": 13.17, \"Energy\": 13.47, \"Sanity\": 14.58, \"Time Stamp\": \"2022-03-31 07:23:55\"}, {\"Name\": \"Succubus\", \"Type\": \"Devilkin\", \"Level\": 8, \"Rarity\": \"Rank 0\", \"Damage\": \"8d2+2\", \"Health\": 16.66, \"Energy\": 15.35, \"Sanity\": 16.35, \"Time Stamp\": \"2022-03-31 07:23:55\"}, {\"Name\": \"Wyvern\", \"Type\": \"Dragon\", \"Level\": 10, \"Rarity\": \"Rank 0\", \"Damage\": \"10d2\", \"Health\": 19.75, \"Energy\": 20.73, \"Sanity\": 19.53, \"Time Stamp\": \"2022-03-31 07:23:55\"}, {\"Name\": \"Shadow Mephit\", \"Type\": \"Elemental\", \"Level\": 16, \"Rarity\": \"Rank 0\", \"Damage\": \"16d2+2\", \"Health\": 31.35, \"Energy\": 31.18, \"Sanity\": 32.25, \"Time Stamp\": \"2022-03-31 07:23:55\"}, {\"Name\": \"Lich King\", \"Type\": \"Undead\", \"Level\": 6, \"Rarity\": \"Rank 0\", \"Damage\": \"6d2+1\", \"Health\": 11.48, \"Energy\": 11.25, \"Sanity\": 11.83, \"Time Stamp\": \"2022-03-31 07:23:55\"}, {\"Name\": \"Balor\", \"Type\": \"Demonic\", \"Level\": 17, \"Rarity\": \"Rank 0\", \"Damage\": \"17d2+3\", \"Health\": 33.41, \"Energy\": 33.36, \"Sanity\": 34.21, \"Time Stamp\": \"2022-03-31 07:23:55\"}, {\"Name\": \"Prince of Fear\", \"Type\": \"Devilkin\", \"Level\": 4, \"Rarity\": \"Rank 0\", \"Damage\": \"4d2+1\", \"Health\": 8.72, \"Energy\": 7.34, \"Sanity\": 7.22, \"Time Stamp\": \"2022-03-31 07:23:55\"}, {\"Name\": \"Faerie Dragon\", \"Type\": \"Dragon\", \"Level\": 6, \"Rarity\": \"Rank 0\", \"Damage\": \"6d2\", \"Health\": 11.19, \"Energy\": 11.39, \"Sanity\": 11.14, \"Time Stamp\": \"2022-03-31 07:23:55\"}, {\"Name\": \"Dust Devil\", \"Type\": \"Devilkin\", \"Level\": 9, \"Rarity\": \"Rank 0\", \"Damage\": \"9d2\", \"Health\": 17.86, \"Energy\": 17.4, \"Sanity\": 18.08, \"Time Stamp\": \"2022-03-31 07:23:55\"}, {\"Name\": \"Lich King\", \"Type\": \"Undead\", \"Level\": 10, \"Rarity\": \"Rank 0\", \"Damage\": \"10d2\", \"Health\": 19.91, \"Energy\": 20.97, \"Sanity\": 20.56, \"Time Stamp\": \"2022-03-31 07:23:55\"}, {\"Name\": \"Faerie Dragon\", \"Type\": \"Dragon\", \"Level\": 3, \"Rarity\": \"Rank 0\", \"Damage\": \"3d2+2\", \"Health\": 5.21, \"Energy\": 6.58, \"Sanity\": 6.17, \"Time Stamp\": \"2022-03-31 07:23:55\"}, {\"Name\": \"Pit Fiend\", \"Type\": \"Demonic\", \"Level\": 7, \"Rarity\": \"Rank 0\", \"Damage\": \"7d2\", \"Health\": 13.4, \"Energy\": 13.26, \"Sanity\": 14.14, \"Time Stamp\": \"2022-03-31 07:23:55\"}, {\"Name\": \"Pit Fiend\", \"Type\": \"Demonic\", \"Level\": 5, \"Rarity\": \"Rank 0\", \"Damage\": \"5d2\", \"Health\": 10.46, \"Energy\": 10.59, \"Sanity\": 10.62, \"Time Stamp\": \"2022-03-31 07:23:55\"}, {\"Name\": \"Goblin Guard\", \"Type\": \"Devilkin\", \"Level\": 8, \"Rarity\": \"Rank 0\", \"Damage\": \"8d2+1\", \"Health\": 16.32, \"Energy\": 16.51, \"Sanity\": 15.54, \"Time Stamp\": \"2022-03-31 07:23:55\"}, {\"Name\": \"Hook Horror\", \"Type\": \"Demonic\", \"Level\": 10, \"Rarity\": \"Rank 0\", \"Damage\": \"10d2+3\", \"Health\": 19.37, \"Energy\": 19.08, \"Sanity\": 19.85, \"Time Stamp\": \"2022-03-31 07:23:55\"}, {\"Name\": \"Pit Lord\", \"Type\": \"Devilkin\", \"Level\": 2, \"Rarity\": \"Rank 0\", \"Damage\": \"2d2+2\", \"Health\": 3.13, \"Energy\": 3.12, \"Sanity\": 4.07, \"Time Stamp\": \"2022-03-31 07:23:55\"}, {\"Name\": \"Silver Drake\", \"Type\": \"Dragon\", \"Level\": 12, \"Rarity\": \"Rank 0\", \"Damage\": \"12d2\", \"Health\": 24.64, \"Energy\": 23.39, \"Sanity\": 23.14, \"Time Stamp\": \"2022-03-31 07:23:55\"}, {\"Name\": \"Platinum Faerie\", \"Type\": \"Fey\", \"Level\": 2, \"Rarity\": \"Rank 0\", \"Damage\": \"2d2+4\", \"Health\": 3.19, \"Energy\": 3.98, \"Sanity\": 4.49, \"Time Stamp\": \"2022-03-31 07:23:55\"}, {\"Name\": \"Red Dragon\", \"Type\": \"Dragon\", \"Level\": 6, \"Rarity\": \"Rank 0\", \"Damage\": \"6d2\", \"Health\": 12.28, \"Energy\": 12.6, \"Sanity\": 12.03, \"Time Stamp\": \"2022-03-31 07:23:55\"}, {\"Name\": \"Efreeti\", \"Type\": \"Elemental\", \"Level\": 9, \"Rarity\": \"Rank 0\", \"Damage\": \"9d2\", \"Health\": 17.53, \"Energy\": 18.38, \"Sanity\": 17.84, \"Time Stamp\": \"2022-03-31 07:23:55\"}, {\"Name\": \"Imp\", \"Type\": \"Demonic\", \"Level\": 12, \"Rarity\": \"Rank 0\", \"Damage\": \"12d2\", \"Health\": 23.4, \"Energy\": 23.09, \"Sanity\": 24.74, \"Time Stamp\": \"2022-03-31 07:23:55\"}, {\"Name\": \"Emerald Archfey\", \"Type\": \"Fey\", \"Level\": 10, \"Rarity\": \"Rank 0\", \"Damage\": \"10d2+1\", \"Health\": 20.78, \"Energy\": 20.19, \"Sanity\": 20.59, \"Time Stamp\": \"2022-03-31 07:23:55\"}, {\"Name\": \"Prismatic Drake\", \"Type\": \"Dragon\", \"Level\": 7, \"Rarity\": \"Rank 0\", \"Damage\": \"7d2+2\", \"Health\": 14.19, \"Energy\": 13.02, \"Sanity\": 13.2, \"Time Stamp\": \"2022-03-31 07:23:55\"}, {\"Name\": \"Revenant\", \"Type\": \"Undead\", \"Level\": 6, \"Rarity\": \"Rank 0\", \"Damage\": \"6d2+2\", \"Health\": 12.46, \"Energy\": 12.23, \"Sanity\": 12.9, \"Time Stamp\": \"2022-03-31 07:23:55\"}, {\"Name\": \"Goblin Mage\", \"Type\": \"Devilkin\", \"Level\": 15, \"Rarity\": \"Rank 0\", \"Damage\": \"15d2+1\", \"Health\": 30.52, \"Energy\": 29.84, \"Sanity\": 30.57, \"Time Stamp\": \"2022-03-31 07:23:55\"}, {\"Name\": \"Green Demon\", \"Type\": \"Demonic\", \"Level\": 8, \"Rarity\": \"Rank 0\", \"Damage\": \"8d2+5\", \"Health\": 15.43, \"Energy\": 15.42, \"Sanity\": 16.59, \"Time Stamp\": \"2022-03-31 07:23:55\"}, {\"Name\": \"Revenant\", \"Type\": \"Undead\", \"Level\": 7, \"Rarity\": \"Rank 0\", \"Damage\": \"7d2+3\", \"Health\": 14.21, \"Energy\": 14.0, \"Sanity\": 14.31, \"Time Stamp\": \"2022-03-31 07:23:55\"}, {\"Name\": \"Skeletal Knight\", \"Type\": \"Undead\", \"Level\": 15, \"Rarity\": \"Rank 0\", \"Damage\": \"15d2+2\", \"Health\": 29.79, \"Energy\": 29.29, \"Sanity\": 30.58, \"Time Stamp\": \"2022-03-31 07:23:55\"}, {\"Name\": \"Succubus\", \"Type\": \"Devilkin\", \"Level\": 10, \"Rarity\": \"Rank 0\", \"Damage\": \"10d2+1\", \"Health\": 20.46, \"Energy\": 20.03, \"Sanity\": 19.46, \"Time Stamp\": \"2022-03-31 07:23:55\"}, {\"Name\": \"Balor\", \"Type\": \"Demonic\", \"Level\": 4, \"Rarity\": \"Rank 0\", \"Damage\": \"4d2+3\", \"Health\": 8.03, \"Energy\": 7.26, \"Sanity\": 8.74, \"Time Stamp\": \"2022-03-31 07:23:55\"}, {\"Name\": \"Gold Dragon\", \"Type\": \"Dragon\", \"Level\": 12, \"Rarity\": \"Rank 0\", \"Damage\": \"12d2+3\", \"Health\": 23.27, \"Energy\": 24.19, \"Sanity\": 23.4, \"Time Stamp\": \"2022-03-31 07:23:55\"}, {\"Name\": \"Balor\", \"Type\": \"Demonic\", \"Level\": 7, \"Rarity\": \"Rank 0\", \"Damage\": \"7d2+3\", \"Health\": 14.86, \"Energy\": 13.61, \"Sanity\": 13.45, \"Time Stamp\": \"2022-03-31 07:23:55\"}, {\"Name\": \"Demilich\", \"Type\": \"Undead\", \"Level\": 2, \"Rarity\": \"Rank 0\", \"Damage\": \"2d2+3\", \"Health\": 3.2, \"Energy\": 4.12, \"Sanity\": 3.6, \"Time Stamp\": \"2022-03-31 07:23:55\"}, {\"Name\": \"Nightmare\", \"Type\": \"Demonic\", \"Level\": 7, \"Rarity\": \"Rank 0\", \"Damage\": \"7d2+2\", \"Health\": 14.29, \"Energy\": 14.13, \"Sanity\": 13.48, \"Time Stamp\": \"2022-03-31 07:23:55\"}, {\"Name\": \"Quasit\", \"Type\": \"Demonic\", \"Level\": 8, \"Rarity\": \"Rank 0\", \"Damage\": \"8d2+4\", \"Health\": 16.09, \"Energy\": 16.17, \"Sanity\": 16.54, \"Time Stamp\": \"2022-03-31 07:23:55\"}, {\"Name\": \"Djinni\", \"Type\": \"Elemental\", \"Level\": 9, \"Rarity\": \"Rank 0\", \"Damage\": \"9d2\", \"Health\": 17.41, \"Energy\": 17.49, \"Sanity\": 17.87, \"Time Stamp\": \"2022-03-31 07:23:55\"}, {\"Name\": \"Balor\", \"Type\": \"Demonic\", \"Level\": 4, \"Rarity\": \"Rank 0\", \"Damage\": \"4d2+5\", \"Health\": 8.3, \"Energy\": 7.08, \"Sanity\": 7.17, \"Time Stamp\": \"2022-03-31 07:23:55\"}, {\"Name\": \"Quasit\", \"Type\": \"Demonic\", \"Level\": 3, \"Rarity\": \"Rank 0\", \"Damage\": \"3d2\", \"Health\": 5.25, \"Energy\": 5.88, \"Sanity\": 6.79, \"Time Stamp\": \"2022-03-31 07:23:55\"}, {\"Name\": \"Djinni\", \"Type\": \"Elemental\", \"Level\": 8, \"Rarity\": \"Rank 0\", \"Damage\": \"8d2+1\", \"Health\": 15.11, \"Energy\": 16.11, \"Sanity\": 15.06, \"Time Stamp\": \"2022-03-31 07:23:55\"}, {\"Name\": \"Night Hag\", \"Type\": \"Demonic\", \"Level\": 4, \"Rarity\": \"Rank 0\", \"Damage\": \"4d2+1\", \"Health\": 8.34, \"Energy\": 7.32, \"Sanity\": 8.88, \"Time Stamp\": \"2022-03-31 07:23:55\"}, {\"Name\": \"Green Wyrmling\", \"Type\": \"Dragon\", \"Level\": 11, \"Rarity\": \"Rank 0\", \"Damage\": \"11d2+1\", \"Health\": 21.89, \"Energy\": 22.47, \"Sanity\": 21.38, \"Time Stamp\": \"2022-03-31 07:23:55\"}, {\"Name\": \"Kobold Mage\", \"Type\": \"Devilkin\", \"Level\": 8, \"Rarity\": \"Rank 0\", \"Damage\": \"8d2+2\", \"Health\": 16.38, \"Energy\": 16.92, \"Sanity\": 16.57, \"Time Stamp\": \"2022-03-31 07:23:55\"}, {\"Name\": \"Balor\", \"Type\": \"Demonic\", \"Level\": 13, \"Rarity\": \"Rank 0\", \"Damage\": \"13d2+1\", \"Health\": 26.05, \"Energy\": 25.25, \"Sanity\": 25.2, \"Time Stamp\": \"2022-03-31 07:23:55\"}, {\"Name\": \"Revenant\", \"Type\": \"Undead\", \"Level\": 2, \"Rarity\": \"Rank 0\", \"Damage\": \"2d2+1\", \"Health\": 4.41, \"Energy\": 3.54, \"Sanity\": 4.35, \"Time Stamp\": \"2022-03-31 07:23:55\"}, {\"Name\": \"Platinum Archfey\", \"Type\": \"Fey\", \"Level\": 9, \"Rarity\": \"Rank 0\", \"Damage\": \"9d2\", \"Health\": 17.32, \"Energy\": 18.51, \"Sanity\": 17.13, \"Time Stamp\": \"2022-03-31 07:23:55\"}, {\"Name\": \"Zombie Knight\", \"Type\": \"Undead\", \"Level\": 3, \"Rarity\": \"Rank 0\", \"Damage\": \"3d2+2\", \"Health\": 5.3, \"Energy\": 6.22, \"Sanity\": 5.29, \"Time Stamp\": \"2022-03-31 07:23:55\"}, {\"Name\": \"Ruby Faerie\", \"Type\": \"Fey\", \"Level\": 8, \"Rarity\": \"Rank 0\", \"Damage\": \"8d2+2\", \"Health\": 15.83, \"Energy\": 16.56, \"Sanity\": 16.99, \"Time Stamp\": \"2022-03-31 07:23:55\"}, {\"Name\": \"Quasit\", \"Type\": \"Demonic\", \"Level\": 8, \"Rarity\": \"Rank 0\", \"Damage\": \"8d2+1\", \"Health\": 15.54, \"Energy\": 16.52, \"Sanity\": 15.37, \"Time Stamp\": \"2022-03-31 07:23:55\"}, {\"Name\": \"Faerie Dragon\", \"Type\": \"Dragon\", \"Level\": 7, \"Rarity\": \"Rank 0\", \"Damage\": \"7d2\", \"Health\": 13.36, \"Energy\": 13.07, \"Sanity\": 14.08, \"Time Stamp\": \"2022-03-31 07:23:55\"}, {\"Name\": \"White Faerie\", \"Type\": \"Fey\", \"Level\": 3, \"Rarity\": \"Rank 0\", \"Damage\": \"3d2+1\", \"Health\": 6.15, \"Energy\": 6.37, \"Sanity\": 5.16, \"Time Stamp\": \"2022-03-31 07:23:55\"}, {\"Name\": \"Diamond Archfey\", \"Type\": \"Fey\", \"Level\": 9, \"Rarity\": \"Rank 0\", \"Damage\": \"9d2+3\", \"Health\": 17.16, \"Energy\": 18.38, \"Sanity\": 17.81, \"Time Stamp\": \"2022-03-31 07:23:55\"}, {\"Name\": \"Onyx Faerie\", \"Type\": \"Fey\", \"Level\": 16, \"Rarity\": \"Rank 0\", \"Damage\": \"16d2+1\", \"Health\": 32.94, \"Energy\": 32.47, \"Sanity\": 31.36, \"Time Stamp\": \"2022-03-31 07:23:55\"}, {\"Name\": \"Pseudodragon\", \"Type\": \"Dragon\", \"Level\": 8, \"Rarity\": \"Rank 0\", \"Damage\": \"8d2\", \"Health\": 16.73, \"Energy\": 15.38, \"Sanity\": 15.22, \"Time Stamp\": \"2022-03-31 07:23:55\"}, {\"Name\": \"Ice Archfey\", \"Type\": \"Fey\", \"Level\": 9, \"Rarity\": \"Rank 0\", \"Damage\": \"9d2+1\", \"Health\": 18.39, \"Energy\": 18.19, \"Sanity\": 17.78, \"Time Stamp\": \"2022-03-31 07:23:55\"}, {\"Name\": \"White Archfey\", \"Type\": \"Fey\", \"Level\": 13, \"Rarity\": \"Rank 0\", \"Damage\": \"13d2\", \"Health\": 25.82, \"Energy\": 26.44, \"Sanity\": 25.71, \"Time Stamp\": \"2022-03-31 07:23:55\"}, {\"Name\": \"Efreeti\", \"Type\": \"Elemental\", \"Level\": 10, \"Rarity\": \"Rank 0\", \"Damage\": \"10d2+1\", \"Health\": 19.93, \"Energy\": 19.58, \"Sanity\": 20.39, \"Time Stamp\": \"2022-03-31 07:23:55\"}, {\"Name\": \"Efreeti\", \"Type\": \"Elemental\", \"Level\": 13, \"Rarity\": \"Rank 0\", \"Damage\": \"13d2+3\", \"Health\": 25.93, \"Energy\": 26.92, \"Sanity\": 26.93, \"Time Stamp\": \"2022-03-31 07:23:55\"}, {\"Name\": \"Quasit\", \"Type\": \"Demonic\", \"Level\": 3, \"Rarity\": \"Rank 0\", \"Damage\": \"3d2\", \"Health\": 6.33, \"Energy\": 6.93, \"Sanity\": 5.56, \"Time Stamp\": \"2022-03-31 07:23:55\"}, {\"Name\": \"Pit Lord\", \"Type\": \"Devilkin\", \"Level\": 14, \"Rarity\": \"Rank 0\", \"Damage\": \"14d2\", \"Health\": 28.1, \"Energy\": 27.53, \"Sanity\": 27.25, \"Time Stamp\": \"2022-03-31 07:23:55\"}, {\"Name\": \"Platinum Dragon\", \"Type\": \"Dragon\", \"Level\": 2, \"Rarity\": \"Rank 0\", \"Damage\": \"2d2\", \"Health\": 4.02, \"Energy\": 4.06, \"Sanity\": 3.58, \"Time Stamp\": \"2022-03-31 07:23:55\"}, {\"Name\": \"Red Demon\", \"Type\": \"Demonic\", \"Level\": 9, \"Rarity\": \"Rank 0\", \"Damage\": \"9d2+3\", \"Health\": 18.66, \"Energy\": 17.87, \"Sanity\": 17.63, \"Time Stamp\": \"2022-03-31 07:23:55\"}, {\"Name\": \"Djinni\", \"Type\": \"Elemental\", \"Level\": 10, \"Rarity\": \"Rank 0\", \"Damage\": \"10d2+1\", \"Health\": 20.4, \"Energy\": 20.61, \"Sanity\": 19.08, \"Time Stamp\": \"2022-03-31 07:23:55\"}, {\"Name\": \"Kobold Villager\", \"Type\": \"Devilkin\", \"Level\": 10, \"Rarity\": \"Rank 0\", \"Damage\": \"10d2+1\", \"Health\": 19.9, \"Energy\": 20.7, \"Sanity\": 20.59, \"Time Stamp\": \"2022-03-31 07:23:55\"}, {\"Name\": \"Imp\", \"Type\": \"Demonic\", \"Level\": 4, \"Rarity\": \"Rank 0\", \"Damage\": \"4d2\", \"Health\": 7.44, \"Energy\": 7.27, \"Sanity\": 7.77, \"Time Stamp\": \"2022-03-31 07:23:55\"}, {\"Name\": \"Skeletal Mage\", \"Type\": \"Undead\", \"Level\": 2, \"Rarity\": \"Rank 0\", \"Damage\": \"2d2+1\", \"Health\": 3.12, \"Energy\": 4.43, \"Sanity\": 4.94, \"Time Stamp\": \"2022-03-31 07:23:55\"}, {\"Name\": \"Mummy Lord\", \"Type\": \"Undead\", \"Level\": 9, \"Rarity\": \"Rank 0\", \"Damage\": \"9d2\", \"Health\": 18.0, \"Energy\": 17.83, \"Sanity\": 18.55, \"Time Stamp\": \"2022-03-31 07:23:55\"}, {\"Name\": \"Dracolich\", \"Type\": \"Undead\", \"Level\": 12, \"Rarity\": \"Rank 0\", \"Damage\": \"12d2+4\", \"Health\": 24.62, \"Energy\": 23.24, \"Sanity\": 24.81, \"Time Stamp\": \"2022-03-31 07:23:55\"}, {\"Name\": \"Brass Drake\", \"Type\": \"Dragon\", \"Level\": 10, \"Rarity\": \"Rank 0\", \"Damage\": \"10d2+1\", \"Health\": 19.71, \"Energy\": 19.5, \"Sanity\": 19.02, \"Time Stamp\": \"2022-03-31 07:23:55\"}, {\"Name\": \"Bronze Dragon\", \"Type\": \"Dragon\", \"Level\": 2, \"Rarity\": \"Rank 0\", \"Damage\": \"2d2\", \"Health\": 3.66, \"Energy\": 3.33, \"Sanity\": 4.02, \"Time Stamp\": \"2022-03-31 07:23:55\"}, {\"Name\": \"Kobold Villager\", \"Type\": \"Devilkin\", \"Level\": 12, \"Rarity\": \"Rank 0\", \"Damage\": \"12d2\", \"Health\": 23.15, \"Energy\": 24.82, \"Sanity\": 24.55, \"Time Stamp\": \"2022-03-31 07:23:55\"}, {\"Name\": \"Hook Horror\", \"Type\": \"Demonic\", \"Level\": 6, \"Rarity\": \"Rank 0\", \"Damage\": \"6d2+3\", \"Health\": 11.05, \"Energy\": 12.94, \"Sanity\": 11.95, \"Time Stamp\": \"2022-03-31 07:23:55\"}, {\"Name\": \"Faerie Dragon\", \"Type\": \"Dragon\", \"Level\": 18, \"Rarity\": \"Rank 0\", \"Damage\": \"18d2+2\", \"Health\": 35.5, \"Energy\": 36.69, \"Sanity\": 36.74, \"Time Stamp\": \"2022-03-31 07:23:55\"}, {\"Name\": \"Brass Drake\", \"Type\": \"Dragon\", \"Level\": 7, \"Rarity\": \"Rank 0\", \"Damage\": \"7d2\", \"Health\": 13.2, \"Energy\": 13.93, \"Sanity\": 13.27, \"Time Stamp\": \"2022-03-31 07:23:55\"}, {\"Name\": \"Succubus\", \"Type\": \"Devilkin\", \"Level\": 11, \"Rarity\": \"Rank 0\", \"Damage\": \"11d2\", \"Health\": 21.95, \"Energy\": 22.87, \"Sanity\": 22.58, \"Time Stamp\": \"2022-03-31 07:23:55\"}, {\"Name\": \"Djinni\", \"Type\": \"Elemental\", \"Level\": 3, \"Rarity\": \"Rank 0\", \"Damage\": \"3d2+2\", \"Health\": 6.24, \"Energy\": 6.09, \"Sanity\": 5.24, \"Time Stamp\": \"2022-03-31 07:23:55\"}, {\"Name\": \"Bronze Faerie\", \"Type\": \"Fey\", \"Level\": 10, \"Rarity\": \"Rank 0\", \"Damage\": \"10d2\", \"Health\": 20.2, \"Energy\": 20.97, \"Sanity\": 19.75, \"Time Stamp\": \"2022-03-31 07:23:55\"}, {\"Name\": \"Steam Mephit\", \"Type\": \"Elemental\", \"Level\": 12, \"Rarity\": \"Rank 0\", \"Damage\": \"12d2+3\", \"Health\": 24.64, \"Energy\": 23.95, \"Sanity\": 23.46, \"Time Stamp\": \"2022-03-31 07:23:55\"}, {\"Name\": \"Lightning Mephit\", \"Type\": \"Elemental\", \"Level\": 11, \"Rarity\": \"Rank 0\", \"Damage\": \"11d2\", \"Health\": 21.18, \"Energy\": 21.82, \"Sanity\": 22.96, \"Time Stamp\": \"2022-03-31 07:23:55\"}, {\"Name\": \"Balor\", \"Type\": \"Demonic\", \"Level\": 5, \"Rarity\": \"Rank 0\", \"Damage\": \"5d2+1\", \"Health\": 9.01, \"Energy\": 10.71, \"Sanity\": 10.61, \"Time Stamp\": \"2022-03-31 07:23:55\"}, {\"Name\": \"Magma Elemental\", \"Type\": \"Elemental\", \"Level\": 5, \"Rarity\": \"Rank 0\", \"Damage\": \"5d2+2\", \"Health\": 10.84, \"Energy\": 10.85, \"Sanity\": 10.41, \"Time Stamp\": \"2022-03-31 07:23:55\"}, {\"Name\": \"White Faerie\", \"Type\": \"Fey\", \"Level\": 13, \"Rarity\": \"Rank 0\", \"Damage\": \"13d2+2\", \"Health\": 25.65, \"Energy\": 25.12, \"Sanity\": 25.28, \"Time Stamp\": \"2022-03-31 07:23:55\"}, {\"Name\": \"Lich\", \"Type\": \"Undead\", \"Level\": 7, \"Rarity\": \"Rank 0\", \"Damage\": \"7d2+2\", \"Health\": 13.67, \"Energy\": 13.49, \"Sanity\": 14.09, \"Time Stamp\": \"2022-03-31 07:23:55\"}, {\"Name\": \"Wyvern\", \"Type\": \"Dragon\", \"Level\": 5, \"Rarity\": \"Rank 0\", \"Damage\": \"5d2+2\", \"Health\": 10.24, \"Energy\": 10.62, \"Sanity\": 9.18, \"Time Stamp\": \"2022-03-31 07:23:55\"}, {\"Name\": \"Pit Fiend\", \"Type\": \"Demonic\", \"Level\": 6, \"Rarity\": \"Rank 0\", \"Damage\": \"6d2+3\", \"Health\": 11.89, \"Energy\": 11.73, \"Sanity\": 12.77, \"Time Stamp\": \"2022-03-31 07:23:55\"}, {\"Name\": \"Sapphire Wyrmling\", \"Type\": \"Dragon\", \"Level\": 4, \"Rarity\": \"Rank 0\", \"Damage\": \"4d2+3\", \"Health\": 8.31, \"Energy\": 7.29, \"Sanity\": 8.41, \"Time Stamp\": \"2022-03-31 07:23:55\"}, {\"Name\": \"Wraith\", \"Type\": \"Undead\", \"Level\": 11, \"Rarity\": \"Rank 0\", \"Damage\": \"11d2+1\", \"Health\": 22.74, \"Energy\": 22.83, \"Sanity\": 22.01, \"Time Stamp\": \"2022-03-31 07:23:55\"}, {\"Name\": \"Mud Elemental\", \"Type\": \"Elemental\", \"Level\": 14, \"Rarity\": \"Rank 0\", \"Damage\": \"14d2\", \"Health\": 28.32, \"Energy\": 28.38, \"Sanity\": 28.58, \"Time Stamp\": \"2022-03-31 07:23:55\"}, {\"Name\": \"Vampire\", \"Type\": \"Undead\", \"Level\": 2, \"Rarity\": \"Rank 0\", \"Damage\": \"2d2+2\", \"Health\": 3.31, \"Energy\": 3.28, \"Sanity\": 4.35, \"Time Stamp\": \"2022-03-31 07:23:55\"}, {\"Name\": \"Hook Horror\", \"Type\": \"Demonic\", \"Level\": 6, \"Rarity\": \"Rank 0\", \"Damage\": \"6d2+1\", \"Health\": 11.63, \"Energy\": 12.84, \"Sanity\": 11.2, \"Time Stamp\": \"2022-03-31 07:23:55\"}, {\"Name\": \"Succubus\", \"Type\": \"Devilkin\", \"Level\": 8, \"Rarity\": \"Rank 0\", \"Damage\": \"8d2+2\", \"Health\": 16.67, \"Energy\": 16.12, \"Sanity\": 16.98, \"Time Stamp\": \"2022-03-31 07:23:55\"}, {\"Name\": \"Wyvern\", \"Type\": \"Dragon\", \"Level\": 3, \"Rarity\": \"Rank 0\", \"Damage\": \"3d2+1\", \"Health\": 5.01, \"Energy\": 5.53, \"Sanity\": 5.76, \"Time Stamp\": \"2022-03-31 07:23:55\"}, {\"Name\": \"Pit Lord\", \"Type\": \"Devilkin\", \"Level\": 17, \"Rarity\": \"Rank 0\", \"Damage\": \"17d2+2\", \"Health\": 33.28, \"Energy\": 33.93, \"Sanity\": 33.45, \"Time Stamp\": \"2022-03-31 07:23:55\"}, {\"Name\": \"Pseudodragon\", \"Type\": \"Dragon\", \"Level\": 16, \"Rarity\": \"Rank 0\", \"Damage\": \"16d2+2\", \"Health\": 31.98, \"Energy\": 31.4, \"Sanity\": 32.57, \"Time Stamp\": \"2022-03-31 07:23:55\"}, {\"Name\": \"Wraith\", \"Type\": \"Undead\", \"Level\": 11, \"Rarity\": \"Rank 0\", \"Damage\": \"11d2+5\", \"Health\": 21.29, \"Energy\": 22.78, \"Sanity\": 22.54, \"Time Stamp\": \"2022-03-31 07:23:55\"}, {\"Name\": \"Quasit\", \"Type\": \"Demonic\", \"Level\": 8, \"Rarity\": \"Rank 0\", \"Damage\": \"8d2+3\", \"Health\": 15.82, \"Energy\": 15.85, \"Sanity\": 15.38, \"Time Stamp\": \"2022-03-31 07:23:55\"}, {\"Name\": \"Mud Archfey\", \"Type\": \"Fey\", \"Level\": 11, \"Rarity\": \"Rank 0\", \"Damage\": \"11d2\", \"Health\": 21.99, \"Energy\": 21.39, \"Sanity\": 21.28, \"Time Stamp\": \"2022-03-31 07:23:55\"}, {\"Name\": \"Brass Wyrmling\", \"Type\": \"Dragon\", \"Level\": 4, \"Rarity\": \"Rank 0\", \"Damage\": \"4d2+2\", \"Health\": 7.89, \"Energy\": 8.76, \"Sanity\": 7.06, \"Time Stamp\": \"2022-03-31 07:23:55\"}, {\"Name\": \"Djinni\", \"Type\": \"Elemental\", \"Level\": 2, \"Rarity\": \"Rank 0\", \"Damage\": \"2d2+4\", \"Health\": 3.83, \"Energy\": 3.55, \"Sanity\": 3.48, \"Time Stamp\": \"2022-03-31 07:23:55\"}, {\"Name\": \"Mummy\", \"Type\": \"Undead\", \"Level\": 8, \"Rarity\": \"Rank 0\", \"Damage\": \"8d2+1\", \"Health\": 16.75, \"Energy\": 15.6, \"Sanity\": 15.92, \"Time Stamp\": \"2022-03-31 07:23:55\"}, {\"Name\": \"Lightning Spirit\", \"Type\": \"Fey\", \"Level\": 3, \"Rarity\": \"Rank 0\", \"Damage\": \"3d2+2\", \"Health\": 5.21, \"Energy\": 6.66, \"Sanity\": 6.36, \"Time Stamp\": \"2022-03-31 07:23:55\"}, {\"Name\": \"Wyvern\", \"Type\": \"Dragon\", \"Level\": 9, \"Rarity\": \"Rank 0\", \"Damage\": \"9d2\", \"Health\": 18.12, \"Energy\": 18.16, \"Sanity\": 18.15, \"Time Stamp\": \"2022-03-31 07:23:55\"}, {\"Name\": \"Lich\", \"Type\": \"Undead\", \"Level\": 12, \"Rarity\": \"Rank 0\", \"Damage\": \"12d2+2\", \"Health\": 24.55, \"Energy\": 23.57, \"Sanity\": 24.39, \"Time Stamp\": \"2022-03-31 07:23:55\"}, {\"Name\": \"Prince of Fear\", \"Type\": \"Devilkin\", \"Level\": 6, \"Rarity\": \"Rank 0\", \"Damage\": \"6d2\", \"Health\": 12.5, \"Energy\": 12.51, \"Sanity\": 11.79, \"Time Stamp\": \"2022-03-31 07:23:55\"}, {\"Name\": \"Demilich\", \"Type\": \"Undead\", \"Level\": 2, \"Rarity\": \"Rank 0\", \"Damage\": \"2d2\", \"Health\": 3.29, \"Energy\": 4.04, \"Sanity\": 3.45, \"Time Stamp\": \"2022-03-31 07:23:55\"}, {\"Name\": \"Zombie Villager\", \"Type\": \"Undead\", \"Level\": 6, \"Rarity\": \"Rank 0\", \"Damage\": \"6d2+2\", \"Health\": 11.44, \"Energy\": 11.28, \"Sanity\": 12.53, \"Time Stamp\": \"2022-03-31 07:23:55\"}, {\"Name\": \"Prismatic Drake\", \"Type\": \"Dragon\", \"Level\": 13, \"Rarity\": \"Rank 0\", \"Damage\": \"13d2+4\", \"Health\": 25.33, \"Energy\": 26.86, \"Sanity\": 26.14, \"Time Stamp\": \"2022-03-31 07:23:55\"}, {\"Name\": \"Hook Horror\", \"Type\": \"Demonic\", \"Level\": 13, \"Rarity\": \"Rank 0\", \"Damage\": \"13d2+1\", \"Health\": 25.41, \"Energy\": 26.77, \"Sanity\": 26.03, \"Time Stamp\": \"2022-03-31 07:23:55\"}, {\"Name\": \"Platinum Faerie\", \"Type\": \"Fey\", \"Level\": 11, \"Rarity\": \"Rank 0\", \"Damage\": \"11d2+1\", \"Health\": 22.4, \"Energy\": 21.29, \"Sanity\": 21.14, \"Time Stamp\": \"2022-03-31 07:23:55\"}, {\"Name\": \"Hell Hound\", \"Type\": \"Demonic\", \"Level\": 8, \"Rarity\": \"Rank 0\", \"Damage\": \"8d2+3\", \"Health\": 16.54, \"Energy\": 15.35, \"Sanity\": 15.63, \"Time Stamp\": \"2022-03-31 07:23:55\"}, {\"Name\": \"Efreeti\", \"Type\": \"Elemental\", \"Level\": 7, \"Rarity\": \"Rank 0\", \"Damage\": \"7d2\", \"Health\": 13.4, \"Energy\": 14.1, \"Sanity\": 13.33, \"Time Stamp\": \"2022-03-31 07:23:55\"}, {\"Name\": \"Zombie Mage\", \"Type\": \"Undead\", \"Level\": 7, \"Rarity\": \"Rank 0\", \"Damage\": \"7d2+1\", \"Health\": 14.86, \"Energy\": 14.19, \"Sanity\": 13.21, \"Time Stamp\": \"2022-03-31 07:23:55\"}, {\"Name\": \"Incubus\", \"Type\": \"Devilkin\", \"Level\": 8, \"Rarity\": \"Rank 0\", \"Damage\": \"8d2+1\", \"Health\": 15.14, \"Energy\": 16.47, \"Sanity\": 15.42, \"Time Stamp\": \"2022-03-31 07:23:55\"}, {\"Name\": \"Kobold Archer\", \"Type\": \"Devilkin\", \"Level\": 8, \"Rarity\": \"Rank 0\", \"Damage\": \"8d2+1\", \"Health\": 16.15, \"Energy\": 15.4, \"Sanity\": 15.98, \"Time Stamp\": \"2022-03-31 07:23:55\"}, {\"Name\": \"Green Faerie\", \"Type\": \"Fey\", \"Level\": 5, \"Rarity\": \"Rank 0\", \"Damage\": \"5d2+2\", \"Health\": 10.92, \"Energy\": 9.2, \"Sanity\": 9.02, \"Time Stamp\": \"2022-03-31 07:23:55\"}, {\"Name\": \"Balor\", \"Type\": \"Demonic\", \"Level\": 10, \"Rarity\": \"Rank 0\", \"Damage\": \"10d2+4\", \"Health\": 19.36, \"Energy\": 20.79, \"Sanity\": 20.93, \"Time Stamp\": \"2022-03-31 07:23:55\"}, {\"Name\": \"Brass Faerie\", \"Type\": \"Fey\", \"Level\": 2, \"Rarity\": \"Rank 0\", \"Damage\": \"2d2+2\", \"Health\": 3.31, \"Energy\": 4.38, \"Sanity\": 3.25, \"Time Stamp\": \"2022-03-31 07:23:55\"}, {\"Name\": \"Platinum Drake\", \"Type\": \"Dragon\", \"Level\": 7, \"Rarity\": \"Rank 0\", \"Damage\": \"7d2\", \"Health\": 13.32, \"Energy\": 14.21, \"Sanity\": 14.43, \"Time Stamp\": \"2022-03-31 07:23:55\"}, {\"Name\": \"White Demon\", \"Type\": \"Demonic\", \"Level\": 3, \"Rarity\": \"Rank 0\", \"Damage\": \"3d2+5\", \"Health\": 6.62, \"Energy\": 6.76, \"Sanity\": 6.07, \"Time Stamp\": \"2022-03-31 07:23:55\"}, {\"Name\": \"Efreeti\", \"Type\": \"Elemental\", \"Level\": 9, \"Rarity\": \"Rank 0\", \"Damage\": \"9d2+5\", \"Health\": 17.99, \"Energy\": 18.63, \"Sanity\": 18.74, \"Time Stamp\": \"2022-03-31 07:23:55\"}, {\"Name\": \"Pseudodragon\", \"Type\": \"Dragon\", \"Level\": 9, \"Rarity\": \"Rank 0\", \"Damage\": \"9d2+1\", \"Health\": 17.12, \"Energy\": 18.25, \"Sanity\": 18.46, \"Time Stamp\": \"2022-03-31 07:23:55\"}, {\"Name\": \"Pit Lord\", \"Type\": \"Devilkin\", \"Level\": 2, \"Rarity\": \"Rank 0\", \"Damage\": \"2d2+5\", \"Health\": 4.15, \"Energy\": 3.69, \"Sanity\": 4.79, \"Time Stamp\": \"2022-03-31 07:23:55\"}, {\"Name\": \"Poltergeist\", \"Type\": \"Undead\", \"Level\": 8, \"Rarity\": \"Rank 0\", \"Damage\": \"8d2+2\", \"Health\": 16.03, \"Energy\": 15.69, \"Sanity\": 15.1, \"Time Stamp\": \"2022-03-31 07:23:55\"}, {\"Name\": \"Smoke Devil\", \"Type\": \"Devilkin\", \"Level\": 15, \"Rarity\": \"Rank 0\", \"Damage\": \"15d2\", \"Health\": 29.55, \"Energy\": 30.17, \"Sanity\": 30.09, \"Time Stamp\": \"2022-03-31 07:23:55\"}, {\"Name\": \"Pseudodragon\", \"Type\": \"Dragon\", \"Level\": 7, \"Rarity\": \"Rank 0\", \"Damage\": \"7d2\", \"Health\": 13.97, \"Energy\": 13.7, \"Sanity\": 14.25, \"Time Stamp\": \"2022-03-31 07:23:55\"}, {\"Name\": \"Efreeti\", \"Type\": \"Elemental\", \"Level\": 6, \"Rarity\": \"Rank 0\", \"Damage\": \"6d2+1\", \"Health\": 12.13, \"Energy\": 12.91, \"Sanity\": 12.71, \"Time Stamp\": \"2022-03-31 07:23:55\"}, {\"Name\": \"Kobold Archer\", \"Type\": \"Devilkin\", \"Level\": 3, \"Rarity\": \"Rank 0\", \"Damage\": \"3d2+1\", \"Health\": 6.22, \"Energy\": 6.94, \"Sanity\": 6.76, \"Time Stamp\": \"2022-03-31 07:23:55\"}, {\"Name\": \"Pseudodragon\", \"Type\": \"Dragon\", \"Level\": 2, \"Rarity\": \"Rank 0\", \"Damage\": \"2d2\", \"Health\": 4.86, \"Energy\": 4.84, \"Sanity\": 3.33, \"Time Stamp\": \"2022-03-31 07:23:55\"}, {\"Name\": \"Djinni\", \"Type\": \"Elemental\", \"Level\": 10, \"Rarity\": \"Rank 0\", \"Damage\": \"10d2+1\", \"Health\": 20.44, \"Energy\": 20.79, \"Sanity\": 20.55, \"Time Stamp\": \"2022-03-31 07:23:55\"}, {\"Name\": \"Steam Spirit\", \"Type\": \"Fey\", \"Level\": 10, \"Rarity\": \"Rank 0\", \"Damage\": \"10d2+1\", \"Health\": 20.77, \"Energy\": 20.16, \"Sanity\": 20.98, \"Time Stamp\": \"2022-03-31 07:23:55\"}, {\"Name\": \"Pit Fiend\", \"Type\": \"Demonic\", \"Level\": 2, \"Rarity\": \"Rank 0\", \"Damage\": \"2d2+1\", \"Health\": 3.81, \"Energy\": 4.8, \"Sanity\": 3.04, \"Time Stamp\": \"2022-03-31 07:23:55\"}, {\"Name\": \"Red Wyrmling\", \"Type\": \"Dragon\", \"Level\": 12, \"Rarity\": \"Rank 0\", \"Damage\": \"12d2\", \"Health\": 23.89, \"Energy\": 24.6, \"Sanity\": 24.36, \"Time Stamp\": \"2022-03-31 07:23:55\"}, {\"Name\": \"Copper Faerie\", \"Type\": \"Fey\", \"Level\": 4, \"Rarity\": \"Rank 0\", \"Damage\": \"4d2+2\", \"Health\": 8.83, \"Energy\": 7.59, \"Sanity\": 8.54, \"Time Stamp\": \"2022-03-31 07:23:55\"}, {\"Name\": \"White Archfey\", \"Type\": \"Fey\", \"Level\": 5, \"Rarity\": \"Rank 0\", \"Damage\": \"5d2+1\", \"Health\": 9.57, \"Energy\": 10.32, \"Sanity\": 9.12, \"Time Stamp\": \"2022-03-31 07:23:55\"}, {\"Name\": \"Pit Lord\", \"Type\": \"Devilkin\", \"Level\": 5, \"Rarity\": \"Rank 0\", \"Damage\": \"5d2\", \"Health\": 9.95, \"Energy\": 9.7, \"Sanity\": 9.9, \"Time Stamp\": \"2022-03-31 07:23:55\"}, {\"Name\": \"Efreeti\", \"Type\": \"Elemental\", \"Level\": 12, \"Rarity\": \"Rank 0\", \"Damage\": \"12d2+1\", \"Health\": 24.87, \"Energy\": 24.14, \"Sanity\": 24.86, \"Time Stamp\": \"2022-03-31 07:23:55\"}, {\"Name\": \"Poltergeist\", \"Type\": \"Undead\", \"Level\": 4, \"Rarity\": \"Rank 0\", \"Damage\": \"4d2\", \"Health\": 7.83, \"Energy\": 8.8, \"Sanity\": 8.09, \"Time Stamp\": \"2022-03-31 07:23:55\"}, {\"Name\": \"Silver Drake\", \"Type\": \"Dragon\", \"Level\": 6, \"Rarity\": \"Rank 0\", \"Damage\": \"6d2+1\", \"Health\": 12.03, \"Energy\": 12.49, \"Sanity\": 11.58, \"Time Stamp\": \"2022-03-31 07:23:55\"}, {\"Name\": \"Black Faerie\", \"Type\": \"Fey\", \"Level\": 11, \"Rarity\": \"Rank 0\", \"Damage\": \"11d2+3\", \"Health\": 21.07, \"Energy\": 21.22, \"Sanity\": 22.29, \"Time Stamp\": \"2022-03-31 07:23:55\"}, {\"Name\": \"Goblin Villager\", \"Type\": \"Devilkin\", \"Level\": 7, \"Rarity\": \"Rank 0\", \"Damage\": \"7d2\", \"Health\": 14.53, \"Energy\": 13.27, \"Sanity\": 13.16, \"Time Stamp\": \"2022-03-31 07:23:55\"}, {\"Name\": \"Mummy\", \"Type\": \"Undead\", \"Level\": 16, \"Rarity\": \"Rank 0\", \"Damage\": \"16d2+1\", \"Health\": 31.28, \"Energy\": 32.04, \"Sanity\": 31.95, \"Time Stamp\": \"2022-03-31 07:23:55\"}, {\"Name\": \"Spore Devil\", \"Type\": \"Devilkin\", \"Level\": 2, \"Rarity\": \"Rank 0\", \"Damage\": \"2d2+2\", \"Health\": 3.77, \"Energy\": 4.38, \"Sanity\": 3.36, \"Time Stamp\": \"2022-03-31 07:23:55\"}, {\"Name\": \"Mud Spirit\", \"Type\": \"Fey\", \"Level\": 4, \"Rarity\": \"Rank 0\", \"Damage\": \"4d2\", \"Health\": 7.63, \"Energy\": 7.18, \"Sanity\": 7.51, \"Time Stamp\": \"2022-03-31 07:23:55\"}, {\"Name\": \"Wraith\", \"Type\": \"Undead\", \"Level\": 8, \"Rarity\": \"Rank 0\", \"Damage\": \"8d2+2\", \"Health\": 16.87, \"Energy\": 15.14, \"Sanity\": 15.12, \"Time Stamp\": \"2022-03-31 07:23:55\"}, {\"Name\": \"Gold Faerie\", \"Type\": \"Fey\", \"Level\": 18, \"Rarity\": \"Rank 0\", \"Damage\": \"18d2+4\", \"Health\": 36.33, \"Energy\": 36.13, \"Sanity\": 36.88, \"Time Stamp\": \"2022-03-31 07:23:55\"}, {\"Name\": \"Pit Fiend\", \"Type\": \"Demonic\", \"Level\": 3, \"Rarity\": \"Rank 0\", \"Damage\": \"3d2+3\", \"Health\": 5.14, \"Energy\": 6.03, \"Sanity\": 6.54, \"Time Stamp\": \"2022-03-31 07:23:55\"}, {\"Name\": \"Pit Fiend\", \"Type\": \"Demonic\", \"Level\": 7, \"Rarity\": \"Rank 0\", \"Damage\": \"7d2\", \"Health\": 14.1, \"Energy\": 14.35, \"Sanity\": 14.82, \"Time Stamp\": \"2022-03-31 07:23:55\"}, {\"Name\": \"Mummy Lord\", \"Type\": \"Undead\", \"Level\": 6, \"Rarity\": \"Rank 0\", \"Damage\": \"6d2+3\", \"Health\": 11.91, \"Energy\": 12.45, \"Sanity\": 12.08, \"Time Stamp\": \"2022-03-31 07:23:55\"}, {\"Name\": \"Lightning Elemental\", \"Type\": \"Elemental\", \"Level\": 11, \"Rarity\": \"Rank 0\", \"Damage\": \"11d2+2\", \"Health\": 21.71, \"Energy\": 21.9, \"Sanity\": 21.74, \"Time Stamp\": \"2022-03-31 07:23:55\"}, {\"Name\": \"Pseudodragon\", \"Type\": \"Dragon\", \"Level\": 3, \"Rarity\": \"Rank 0\", \"Damage\": \"3d2+2\", \"Health\": 6.69, \"Energy\": 6.77, \"Sanity\": 6.19, \"Time Stamp\": \"2022-03-31 07:23:55\"}, {\"Name\": \"Spore Archfey\", \"Type\": \"Fey\", \"Level\": 8, \"Rarity\": \"Rank 0\", \"Damage\": \"8d2+4\", \"Health\": 15.38, \"Energy\": 16.01, \"Sanity\": 16.37, \"Time Stamp\": \"2022-03-31 07:23:55\"}, {\"Name\": \"Poltergeist\", \"Type\": \"Undead\", \"Level\": 12, \"Rarity\": \"Rank 0\", \"Damage\": \"12d2+3\", \"Health\": 24.64, \"Energy\": 23.33, \"Sanity\": 23.11, \"Time Stamp\": \"2022-03-31 07:23:55\"}, {\"Name\": \"Kobold Guard\", \"Type\": \"Devilkin\", \"Level\": 7, \"Rarity\": \"Rank 0\", \"Damage\": \"7d2+3\", \"Health\": 14.52, \"Energy\": 13.17, \"Sanity\": 13.56, \"Time Stamp\": \"2022-03-31 07:23:55\"}, {\"Name\": \"Pit Lord\", \"Type\": \"Devilkin\", \"Level\": 8, \"Rarity\": \"Rank 0\", \"Damage\": \"8d2\", \"Health\": 15.6, \"Energy\": 15.78, \"Sanity\": 16.99, \"Time Stamp\": \"2022-03-31 07:23:55\"}, {\"Name\": \"Copper Wyrmling\", \"Type\": \"Dragon\", \"Level\": 3, \"Rarity\": \"Rank 0\", \"Damage\": \"3d2\", \"Health\": 6.06, \"Energy\": 6.32, \"Sanity\": 6.5, \"Time Stamp\": \"2022-03-31 07:23:55\"}, {\"Name\": \"Ghoul\", \"Type\": \"Undead\", \"Level\": 5, \"Rarity\": \"Rank 0\", \"Damage\": \"5d2+2\", \"Health\": 9.46, \"Energy\": 9.53, \"Sanity\": 9.54, \"Time Stamp\": \"2022-03-31 07:23:55\"}, {\"Name\": \"Pseudodragon\", \"Type\": \"Dragon\", \"Level\": 11, \"Rarity\": \"Rank 0\", \"Damage\": \"11d2+4\", \"Health\": 21.52, \"Energy\": 21.48, \"Sanity\": 22.49, \"Time Stamp\": \"2022-03-31 07:23:55\"}, {\"Name\": \"Mud Mephit\", \"Type\": \"Elemental\", \"Level\": 13, \"Rarity\": \"Rank 0\", \"Damage\": \"13d2\", \"Health\": 26.84, \"Energy\": 26.63, \"Sanity\": 26.01, \"Time Stamp\": \"2022-03-31 07:23:55\"}, {\"Name\": \"Diamond Demon\", \"Type\": \"Demonic\", \"Level\": 7, \"Rarity\": \"Rank 0\", \"Damage\": \"7d2+3\", \"Health\": 14.8, \"Energy\": 13.9, \"Sanity\": 14.59, \"Time Stamp\": \"2022-03-31 07:23:55\"}, {\"Name\": \"Efreeti\", \"Type\": \"Elemental\", \"Level\": 9, \"Rarity\": \"Rank 0\", \"Damage\": \"9d2+1\", \"Health\": 17.01, \"Energy\": 17.94, \"Sanity\": 17.22, \"Time Stamp\": \"2022-03-31 07:23:55\"}, {\"Name\": \"Ice Spirit\", \"Type\": \"Fey\", \"Level\": 7, \"Rarity\": \"Rank 0\", \"Damage\": \"7d2+1\", \"Health\": 13.61, \"Energy\": 13.95, \"Sanity\": 13.19, \"Time Stamp\": \"2022-03-31 07:23:55\"}, {\"Name\": \"Bronze Drake\", \"Type\": \"Dragon\", \"Level\": 14, \"Rarity\": \"Rank 0\", \"Damage\": \"14d2+4\", \"Health\": 27.39, \"Energy\": 28.36, \"Sanity\": 28.63, \"Time Stamp\": \"2022-03-31 07:23:55\"}, {\"Name\": \"Spore Spirit\", \"Type\": \"Fey\", \"Level\": 7, \"Rarity\": \"Rank 0\", \"Damage\": \"7d2+1\", \"Health\": 13.9, \"Energy\": 13.02, \"Sanity\": 14.29, \"Time Stamp\": \"2022-03-31 07:23:55\"}, {\"Name\": \"Smoke Elemental\", \"Type\": \"Elemental\", \"Level\": 4, \"Rarity\": \"Rank 0\", \"Damage\": \"4d2+4\", \"Health\": 7.74, \"Energy\": 7.53, \"Sanity\": 8.48, \"Time Stamp\": \"2022-03-31 07:23:55\"}, {\"Name\": \"Imp\", \"Type\": \"Demonic\", \"Level\": 11, \"Rarity\": \"Rank 0\", \"Damage\": \"11d2+3\", \"Health\": 22.42, \"Energy\": 21.26, \"Sanity\": 22.65, \"Time Stamp\": \"2022-03-31 07:23:55\"}, {\"Name\": \"Flame Mephit\", \"Type\": \"Elemental\", \"Level\": 7, \"Rarity\": \"Rank 0\", \"Damage\": \"7d2\", \"Health\": 14.12, \"Energy\": 13.36, \"Sanity\": 13.9, \"Time Stamp\": \"2022-03-31 07:23:55\"}, {\"Name\": \"Prince of Fear\", \"Type\": \"Devilkin\", \"Level\": 10, \"Rarity\": \"Rank 0\", \"Damage\": \"10d2\", \"Health\": 20.48, \"Energy\": 19.35, \"Sanity\": 19.14, \"Time Stamp\": \"2022-03-31 07:23:55\"}, {\"Name\": \"Dust Mephit\", \"Type\": \"Elemental\", \"Level\": 14, \"Rarity\": \"Rank 0\", \"Damage\": \"14d2\", \"Health\": 28.69, \"Energy\": 28.93, \"Sanity\": 27.97, \"Time Stamp\": \"2022-03-31 07:23:55\"}, {\"Name\": \"Wyvern\", \"Type\": \"Dragon\", \"Level\": 3, \"Rarity\": \"Rank 0\", \"Damage\": \"3d2+4\", \"Health\": 6.55, \"Energy\": 5.05, \"Sanity\": 6.69, \"Time Stamp\": \"2022-03-31 07:23:55\"}, {\"Name\": \"Zombie Mage\", \"Type\": \"Undead\", \"Level\": 5, \"Rarity\": \"Rank 0\", \"Damage\": \"5d2+2\", \"Health\": 9.26, \"Energy\": 9.31, \"Sanity\": 10.07, \"Time Stamp\": \"2022-03-31 07:23:55\"}, {\"Name\": \"Goblin Guard\", \"Type\": \"Devilkin\", \"Level\": 7, \"Rarity\": \"Rank 0\", \"Damage\": \"7d2+1\", \"Health\": 14.07, \"Energy\": 13.37, \"Sanity\": 13.39, \"Time Stamp\": \"2022-03-31 07:23:55\"}, {\"Name\": \"Lightning Archfey\", \"Type\": \"Fey\", \"Level\": 11, \"Rarity\": \"Rank 0\", \"Damage\": \"11d2+2\", \"Health\": 22.01, \"Energy\": 22.84, \"Sanity\": 21.79, \"Time Stamp\": \"2022-03-31 07:23:55\"}, {\"Name\": \"Succubus\", \"Type\": \"Devilkin\", \"Level\": 7, \"Rarity\": \"Rank 0\", \"Damage\": \"7d2+1\", \"Health\": 13.85, \"Energy\": 13.32, \"Sanity\": 13.27, \"Time Stamp\": \"2022-03-31 07:23:55\"}, {\"Name\": \"White Dragon\", \"Type\": \"Dragon\", \"Level\": 4, \"Rarity\": \"Rank 0\", \"Damage\": \"4d2+1\", \"Health\": 8.38, \"Energy\": 8.43, \"Sanity\": 7.7, \"Time Stamp\": \"2022-03-31 07:23:55\"}, {\"Name\": \"Emerald Faerie\", \"Type\": \"Fey\", \"Level\": 17, \"Rarity\": \"Rank 0\", \"Damage\": \"17d2+1\", \"Health\": 33.41, \"Energy\": 34.62, \"Sanity\": 33.98, \"Time Stamp\": \"2022-03-31 07:23:55\"}, {\"Name\": \"Hook Horror\", \"Type\": \"Demonic\", \"Level\": 11, \"Rarity\": \"Rank 0\", \"Damage\": \"11d2+3\", \"Health\": 21.13, \"Energy\": 21.71, \"Sanity\": 22.92, \"Time Stamp\": \"2022-03-31 07:23:55\"}, {\"Name\": \"Sapphire Faerie\", \"Type\": \"Fey\", \"Level\": 10, \"Rarity\": \"Rank 0\", \"Damage\": \"10d2\", \"Health\": 19.29, \"Energy\": 19.72, \"Sanity\": 20.35, \"Time Stamp\": \"2022-03-31 07:23:55\"}, {\"Name\": \"Djinni\", \"Type\": \"Elemental\", \"Level\": 15, \"Rarity\": \"Rank 0\", \"Damage\": \"15d2+4\", \"Health\": 30.7, \"Energy\": 30.72, \"Sanity\": 29.33, \"Time Stamp\": \"2022-03-31 07:23:55\"}, {\"Name\": \"Smoke Devil\", \"Type\": \"Devilkin\", \"Level\": 3, \"Rarity\": \"Rank 0\", \"Damage\": \"3d2+4\", \"Health\": 5.11, \"Energy\": 6.81, \"Sanity\": 6.02, \"Time Stamp\": \"2022-03-31 07:23:55\"}, {\"Name\": \"Mummy Lord\", \"Type\": \"Undead\", \"Level\": 17, \"Rarity\": \"Rank 0\", \"Damage\": \"17d2\", \"Health\": 34.73, \"Energy\": 34.15, \"Sanity\": 34.89, \"Time Stamp\": \"2022-03-31 07:23:55\"}, {\"Name\": \"Balor\", \"Type\": \"Demonic\", \"Level\": 7, \"Rarity\": \"Rank 0\", \"Damage\": \"7d2+3\", \"Health\": 14.78, \"Energy\": 13.68, \"Sanity\": 14.28, \"Time Stamp\": \"2022-03-31 07:23:55\"}, {\"Name\": \"Gold Demon\", \"Type\": \"Demonic\", \"Level\": 10, \"Rarity\": \"Rank 0\", \"Damage\": \"10d2+2\", \"Health\": 20.18, \"Energy\": 20.01, \"Sanity\": 19.4, \"Time Stamp\": \"2022-03-31 07:23:55\"}, {\"Name\": \"Magma Devil\", \"Type\": \"Devilkin\", \"Level\": 15, \"Rarity\": \"Rank 0\", \"Damage\": \"15d2\", \"Health\": 30.31, \"Energy\": 30.38, \"Sanity\": 30.74, \"Time Stamp\": \"2022-03-31 07:23:55\"}, {\"Name\": \"Black Dragon\", \"Type\": \"Dragon\", \"Level\": 10, \"Rarity\": \"Rank 0\", \"Damage\": \"10d2\", \"Health\": 20.03, \"Energy\": 20.24, \"Sanity\": 19.41, \"Time Stamp\": \"2022-03-31 07:23:55\"}, {\"Name\": \"Prince of Fear\", \"Type\": \"Devilkin\", \"Level\": 8, \"Rarity\": \"Rank 0\", \"Damage\": \"8d2+3\", \"Health\": 16.02, \"Energy\": 15.47, \"Sanity\": 15.45, \"Time Stamp\": \"2022-03-31 07:23:55\"}, {\"Name\": \"Goblin Mage\", \"Type\": \"Devilkin\", \"Level\": 7, \"Rarity\": \"Rank 0\", \"Damage\": \"7d2+1\", \"Health\": 14.99, \"Energy\": 14.92, \"Sanity\": 13.26, \"Time Stamp\": \"2022-03-31 07:23:55\"}, {\"Name\": \"Wyvern\", \"Type\": \"Dragon\", \"Level\": 6, \"Rarity\": \"Rank 0\", \"Damage\": \"6d2+1\", \"Health\": 11.12, \"Energy\": 11.66, \"Sanity\": 12.71, \"Time Stamp\": \"2022-03-31 07:23:55\"}, {\"Name\": \"Poltergeist\", \"Type\": \"Undead\", \"Level\": 9, \"Rarity\": \"Rank 0\", \"Damage\": \"9d2\", \"Health\": 17.01, \"Energy\": 18.79, \"Sanity\": 18.22, \"Time Stamp\": \"2022-03-31 07:23:55\"}, {\"Name\": \"Kobold Archer\", \"Type\": \"Devilkin\", \"Level\": 3, \"Rarity\": \"Rank 0\", \"Damage\": \"3d2+4\", \"Health\": 5.39, \"Energy\": 5.91, \"Sanity\": 6.81, \"Time Stamp\": \"2022-03-31 07:23:55\"}, {\"Name\": \"Incubus\", \"Type\": \"Devilkin\", \"Level\": 7, \"Rarity\": \"Rank 0\", \"Damage\": \"7d2\", \"Health\": 14.73, \"Energy\": 14.87, \"Sanity\": 13.05, \"Time Stamp\": \"2022-03-31 07:23:55\"}, {\"Name\": \"Quasit\", \"Type\": \"Demonic\", \"Level\": 2, \"Rarity\": \"Rank 0\", \"Damage\": \"2d2+2\", \"Health\": 4.16, \"Energy\": 4.32, \"Sanity\": 4.56, \"Time Stamp\": \"2022-03-31 07:23:55\"}, {\"Name\": \"Ruby Archfey\", \"Type\": \"Fey\", \"Level\": 7, \"Rarity\": \"Rank 0\", \"Damage\": \"7d2+4\", \"Health\": 14.79, \"Energy\": 13.01, \"Sanity\": 13.49, \"Time Stamp\": \"2022-03-31 07:23:55\"}, {\"Name\": \"Emerald Faerie\", \"Type\": \"Fey\", \"Level\": 6, \"Rarity\": \"Rank 0\", \"Damage\": \"6d2+1\", \"Health\": 12.36, \"Energy\": 12.19, \"Sanity\": 11.87, \"Time Stamp\": \"2022-03-31 07:23:55\"}, {\"Name\": \"Death Knight\", \"Type\": \"Undead\", \"Level\": 15, \"Rarity\": \"Rank 0\", \"Damage\": \"15d2\", \"Health\": 30.22, \"Energy\": 29.41, \"Sanity\": 29.12, \"Time Stamp\": \"2022-03-31 07:23:55\"}, {\"Name\": \"Demilich\", \"Type\": \"Undead\", \"Level\": 8, \"Rarity\": \"Rank 0\", \"Damage\": \"8d2+1\", \"Health\": 15.37, \"Energy\": 16.55, \"Sanity\": 15.17, \"Time Stamp\": \"2022-03-31 07:23:55\"}, {\"Name\": \"Blue Faerie\", \"Type\": \"Fey\", \"Level\": 5, \"Rarity\": \"Rank 0\", \"Damage\": \"5d2+1\", \"Health\": 9.98, \"Energy\": 9.55, \"Sanity\": 10.05, \"Time Stamp\": \"2022-03-31 07:23:55\"}, {\"Name\": \"Succubus\", \"Type\": \"Devilkin\", \"Level\": 9, \"Rarity\": \"Rank 0\", \"Damage\": \"9d2\", \"Health\": 18.69, \"Energy\": 17.22, \"Sanity\": 17.46, \"Time Stamp\": \"2022-03-31 07:23:55\"}, {\"Name\": \"Steam Devil\", \"Type\": \"Devilkin\", \"Level\": 7, \"Rarity\": \"Rank 0\", \"Damage\": \"7d2\", \"Health\": 14.62, \"Energy\": 13.29, \"Sanity\": 14.15, \"Time Stamp\": \"2022-03-31 07:23:55\"}, {\"Name\": \"Dust Elemental\", \"Type\": \"Elemental\", \"Level\": 3, \"Rarity\": \"Rank 0\", \"Damage\": \"3d2+1\", \"Health\": 5.28, \"Energy\": 6.07, \"Sanity\": 5.48, \"Time Stamp\": \"2022-03-31 07:23:55\"}, {\"Name\": \"Prismatic Archfey\", \"Type\": \"Fey\", \"Level\": 4, \"Rarity\": \"Rank 0\", \"Damage\": \"4d2+4\", \"Health\": 7.38, \"Energy\": 8.21, \"Sanity\": 8.93, \"Time Stamp\": \"2022-03-31 07:23:55\"}, {\"Name\": \"Mud Spirit\", \"Type\": \"Fey\", \"Level\": 13, \"Rarity\": \"Rank 0\", \"Damage\": \"13d2+2\", \"Health\": 26.4, \"Energy\": 25.81, \"Sanity\": 26.46, \"Time Stamp\": \"2022-03-31 07:23:55\"}, {\"Name\": \"Night Hag\", \"Type\": \"Demonic\", \"Level\": 7, \"Rarity\": \"Rank 0\", \"Damage\": \"7d2+3\", \"Health\": 14.9, \"Energy\": 14.5, \"Sanity\": 14.09, \"Time Stamp\": \"2022-03-31 07:23:55\"}, {\"Name\": \"Magma Devil\", \"Type\": \"Devilkin\", \"Level\": 6, \"Rarity\": \"Rank 0\", \"Damage\": \"6d2+2\", \"Health\": 11.19, \"Energy\": 11.41, \"Sanity\": 11.33, \"Time Stamp\": \"2022-03-31 07:23:55\"}, {\"Name\": \"Black Drake\", \"Type\": \"Dragon\", \"Level\": 2, \"Rarity\": \"Rank 0\", \"Damage\": \"2d2\", \"Health\": 4.38, \"Energy\": 3.06, \"Sanity\": 4.25, \"Time Stamp\": \"2022-03-31 07:23:55\"}, {\"Name\": \"Ice Mephit\", \"Type\": \"Elemental\", \"Level\": 18, \"Rarity\": \"Rank 0\", \"Damage\": \"18d2+2\", \"Health\": 36.34, \"Energy\": 35.37, \"Sanity\": 36.4, \"Time Stamp\": \"2022-03-31 07:23:55\"}, {\"Name\": \"Hell Hound\", \"Type\": \"Demonic\", \"Level\": 18, \"Rarity\": \"Rank 0\", \"Damage\": \"18d2\", \"Health\": 36.24, \"Energy\": 36.32, \"Sanity\": 35.57, \"Time Stamp\": \"2022-03-31 07:23:55\"}, {\"Name\": \"Lightning Devil\", \"Type\": \"Devilkin\", \"Level\": 8, \"Rarity\": \"Rank 0\", \"Damage\": \"8d2\", \"Health\": 15.98, \"Energy\": 16.68, \"Sanity\": 15.67, \"Time Stamp\": \"2022-03-31 07:23:55\"}, {\"Name\": \"Balor\", \"Type\": \"Demonic\", \"Level\": 5, \"Rarity\": \"Rank 0\", \"Damage\": \"5d2\", \"Health\": 9.55, \"Energy\": 10.86, \"Sanity\": 10.03, \"Time Stamp\": \"2022-03-31 07:23:55\"}, {\"Name\": \"Gold Drake\", \"Type\": \"Dragon\", \"Level\": 11, \"Rarity\": \"Rank 0\", \"Damage\": \"11d2+5\", \"Health\": 21.45, \"Energy\": 21.86, \"Sanity\": 21.2, \"Time Stamp\": \"2022-03-31 07:23:55\"}, {\"Name\": \"Hook Horror\", \"Type\": \"Demonic\", \"Level\": 8, \"Rarity\": \"Rank 0\", \"Damage\": \"8d2\", \"Health\": 16.27, \"Energy\": 16.87, \"Sanity\": 15.13, \"Time Stamp\": \"2022-03-31 07:23:55\"}, {\"Name\": \"Ice Elemental\", \"Type\": \"Elemental\", \"Level\": 3, \"Rarity\": \"Rank 0\", \"Damage\": \"3d2+3\", \"Health\": 5.22, \"Energy\": 5.87, \"Sanity\": 6.3, \"Time Stamp\": \"2022-03-31 07:23:55\"}, {\"Name\": \"Prince of Fear\", \"Type\": \"Devilkin\", \"Level\": 7, \"Rarity\": \"Rank 0\", \"Damage\": \"7d2\", \"Health\": 14.55, \"Energy\": 13.56, \"Sanity\": 13.73, \"Time Stamp\": \"2022-03-31 07:23:55\"}, {\"Name\": \"Bronze Demon\", \"Type\": \"Demonic\", \"Level\": 2, \"Rarity\": \"Rank 0\", \"Damage\": \"2d2+1\", \"Health\": 3.13, \"Energy\": 3.58, \"Sanity\": 3.08, \"Time Stamp\": \"2022-03-31 07:23:55\"}, {\"Name\": \"Efreeti\", \"Type\": \"Elemental\", \"Level\": 7, \"Rarity\": \"Rank 0\", \"Damage\": \"7d2+2\", \"Health\": 13.7, \"Energy\": 13.02, \"Sanity\": 13.12, \"Time Stamp\": \"2022-03-31 07:23:55\"}, {\"Name\": \"Night Hag\", \"Type\": \"Demonic\", \"Level\": 4, \"Rarity\": \"Rank 0\", \"Damage\": \"4d2+2\", \"Health\": 7.36, \"Energy\": 7.23, \"Sanity\": 7.78, \"Time Stamp\": \"2022-03-31 07:23:55\"}, {\"Name\": \"Magma Archfey\", \"Type\": \"Fey\", \"Level\": 5, \"Rarity\": \"Rank 0\", \"Damage\": \"5d2\", \"Health\": 10.48, \"Energy\": 9.13, \"Sanity\": 10.79, \"Time Stamp\": \"2022-03-31 07:23:55\"}, {\"Name\": \"Mud Devil\", \"Type\": \"Devilkin\", \"Level\": 3, \"Rarity\": \"Rank 0\", \"Damage\": \"3d2\", \"Health\": 6.63, \"Energy\": 6.71, \"Sanity\": 5.62, \"Time Stamp\": \"2022-03-31 07:23:55\"}, {\"Name\": \"Smoke Elemental\", \"Type\": \"Elemental\", \"Level\": 6, \"Rarity\": \"Rank 0\", \"Damage\": \"6d2+2\", \"Health\": 11.38, \"Energy\": 12.3, \"Sanity\": 11.19, \"Time Stamp\": \"2022-03-31 07:23:55\"}, {\"Name\": \"White Demon\", \"Type\": \"Demonic\", \"Level\": 4, \"Rarity\": \"Rank 0\", \"Damage\": \"4d2+4\", \"Health\": 7.56, \"Energy\": 8.98, \"Sanity\": 7.46, \"Time Stamp\": \"2022-03-31 07:23:55\"}, {\"Name\": \"Incubus\", \"Type\": \"Devilkin\", \"Level\": 13, \"Rarity\": \"Rank 0\", \"Damage\": \"13d2+2\", \"Health\": 26.15, \"Energy\": 25.26, \"Sanity\": 25.9, \"Time Stamp\": \"2022-03-31 07:23:55\"}, {\"Name\": \"Nightmare\", \"Type\": \"Demonic\", \"Level\": 2, \"Rarity\": \"Rank 0\", \"Damage\": \"2d2+2\", \"Health\": 4.59, \"Energy\": 3.85, \"Sanity\": 3.03, \"Time Stamp\": \"2022-03-31 07:23:55\"}, {\"Name\": \"Quasit\", \"Type\": \"Demonic\", \"Level\": 8, \"Rarity\": \"Rank 0\", \"Damage\": \"8d2+2\", \"Health\": 15.39, \"Energy\": 16.97, \"Sanity\": 15.35, \"Time Stamp\": \"2022-03-31 07:23:55\"}, {\"Name\": \"Red Archfey\", \"Type\": \"Fey\", \"Level\": 3, \"Rarity\": \"Rank 0\", \"Damage\": \"3d2+3\", \"Health\": 6.66, \"Energy\": 6.24, \"Sanity\": 5.05, \"Time Stamp\": \"2022-03-31 07:23:55\"}, {\"Name\": \"Banshee\", \"Type\": \"Undead\", \"Level\": 8, \"Rarity\": \"Rank 0\", \"Damage\": \"8d2+3\", \"Health\": 16.23, \"Energy\": 16.51, \"Sanity\": 15.37, \"Time Stamp\": \"2022-03-31 07:23:55\"}, {\"Name\": \"Kobold Mage\", \"Type\": \"Devilkin\", \"Level\": 5, \"Rarity\": \"Rank 0\", \"Damage\": \"5d2+2\", \"Health\": 9.84, \"Energy\": 9.35, \"Sanity\": 9.44, \"Time Stamp\": \"2022-03-31 07:23:55\"}, {\"Name\": \"Shadow Mephit\", \"Type\": \"Elemental\", \"Level\": 13, \"Rarity\": \"Rank 0\", \"Damage\": \"13d2\", \"Health\": 26.74, \"Energy\": 26.13, \"Sanity\": 26.12, \"Time Stamp\": \"2022-03-31 07:23:55\"}, {\"Name\": \"Diamond Faerie\", \"Type\": \"Fey\", \"Level\": 17, \"Rarity\": \"Rank 0\", \"Damage\": \"17d2\", \"Health\": 34.06, \"Energy\": 33.99, \"Sanity\": 34.59, \"Time Stamp\": \"2022-03-31 07:23:55\"}, {\"Name\": \"Efreeti\", \"Type\": \"Elemental\", \"Level\": 3, \"Rarity\": \"Rank 0\", \"Damage\": \"3d2+3\", \"Health\": 6.79, \"Energy\": 5.02, \"Sanity\": 6.86, \"Time Stamp\": \"2022-03-31 07:23:55\"}, {\"Name\": \"Spore Archfey\", \"Type\": \"Fey\", \"Level\": 15, \"Rarity\": \"Rank 0\", \"Damage\": \"15d2\", \"Health\": 30.39, \"Energy\": 30.58, \"Sanity\": 29.57, \"Time Stamp\": \"2022-03-31 07:23:55\"}, {\"Name\": \"Night Hag\", \"Type\": \"Demonic\", \"Level\": 5, \"Rarity\": \"Rank 0\", \"Damage\": \"5d2+2\", \"Health\": 9.81, \"Energy\": 10.31, \"Sanity\": 10.2, \"Time Stamp\": \"2022-03-31 07:23:55\"}, {\"Name\": \"White Drake\", \"Type\": \"Dragon\", \"Level\": 7, \"Rarity\": \"Rank 0\", \"Damage\": \"7d2+3\", \"Health\": 14.77, \"Energy\": 14.41, \"Sanity\": 14.6, \"Time Stamp\": \"2022-03-31 07:23:55\"}, {\"Name\": \"Faerie Dragon\", \"Type\": \"Dragon\", \"Level\": 13, \"Rarity\": \"Rank 0\", \"Damage\": \"13d2\", \"Health\": 26.02, \"Energy\": 26.34, \"Sanity\": 25.18, \"Time Stamp\": \"2022-03-31 07:23:55\"}, {\"Name\": \"Shadow Mephit\", \"Type\": \"Elemental\", \"Level\": 8, \"Rarity\": \"Rank 0\", \"Damage\": \"8d2+3\", \"Health\": 16.3, \"Energy\": 16.81, \"Sanity\": 15.45, \"Time Stamp\": \"2022-03-31 07:23:55\"}, {\"Name\": \"Prismatic Wyrmling\", \"Type\": \"Dragon\", \"Level\": 11, \"Rarity\": \"Rank 0\", \"Damage\": \"11d2+3\", \"Health\": 21.03, \"Energy\": 21.26, \"Sanity\": 22.87, \"Time Stamp\": \"2022-03-31 07:23:55\"}, {\"Name\": \"Efreeti\", \"Type\": \"Elemental\", \"Level\": 7, \"Rarity\": \"Rank 0\", \"Damage\": \"7d2\", \"Health\": 14.31, \"Energy\": 13.79, \"Sanity\": 14.59, \"Time Stamp\": \"2022-03-31 07:23:55\"}, {\"Name\": \"Night Hag\", \"Type\": \"Demonic\", \"Level\": 5, \"Rarity\": \"Rank 0\", \"Damage\": \"5d2+5\", \"Health\": 10.53, \"Energy\": 9.36, \"Sanity\": 9.18, \"Time Stamp\": \"2022-03-31 07:23:55\"}, {\"Name\": \"Smoke Elemental\", \"Type\": \"Elemental\", \"Level\": 9, \"Rarity\": \"Rank 0\", \"Damage\": \"9d2+1\", \"Health\": 18.21, \"Energy\": 17.65, \"Sanity\": 18.21, \"Time Stamp\": \"2022-03-31 07:23:55\"}, {\"Name\": \"Magma Archfey\", \"Type\": \"Fey\", \"Level\": 7, \"Rarity\": \"Rank 0\", \"Damage\": \"7d2\", \"Health\": 14.53, \"Energy\": 13.31, \"Sanity\": 13.88, \"Time Stamp\": \"2022-03-31 07:23:55\"}, {\"Name\": \"Platinum Wyrmling\", \"Type\": \"Dragon\", \"Level\": 3, \"Rarity\": \"Rank 0\", \"Damage\": \"3d2+1\", \"Health\": 5.51, \"Energy\": 5.91, \"Sanity\": 6.59, \"Time Stamp\": \"2022-03-31 07:23:55\"}, {\"Name\": \"Efreeti\", \"Type\": \"Elemental\", \"Level\": 13, \"Rarity\": \"Rank 0\", \"Damage\": \"13d2+2\", \"Health\": 25.86, \"Energy\": 26.54, \"Sanity\": 26.94, \"Time Stamp\": \"2022-03-31 07:23:55\"}, {\"Name\": \"Green Faerie\", \"Type\": \"Fey\", \"Level\": 2, \"Rarity\": \"Rank 0\", \"Damage\": \"2d2+1\", \"Health\": 3.91, \"Energy\": 3.27, \"Sanity\": 4.99, \"Time Stamp\": \"2022-03-31 07:23:55\"}, {\"Name\": \"Lightning Mephit\", \"Type\": \"Elemental\", \"Level\": 6, \"Rarity\": \"Rank 0\", \"Damage\": \"6d2+1\", \"Health\": 11.38, \"Energy\": 12.97, \"Sanity\": 11.69, \"Time Stamp\": \"2022-03-31 07:23:55\"}, {\"Name\": \"Flame Spirit\", \"Type\": \"Fey\", \"Level\": 6, \"Rarity\": \"Rank 0\", \"Damage\": \"6d2+1\", \"Health\": 12.42, \"Energy\": 11.13, \"Sanity\": 11.77, \"Time Stamp\": \"2022-03-31 07:23:55\"}, {\"Name\": \"Pseudodragon\", \"Type\": \"Dragon\", \"Level\": 11, \"Rarity\": \"Rank 0\", \"Damage\": \"11d2\", \"Health\": 21.12, \"Energy\": 21.85, \"Sanity\": 22.08, \"Time Stamp\": \"2022-03-31 07:23:55\"}, {\"Name\": \"Djinni\", \"Type\": \"Elemental\", \"Level\": 2, \"Rarity\": \"Rank 0\", \"Damage\": \"2d2\", \"Health\": 4.38, \"Energy\": 3.91, \"Sanity\": 3.17, \"Time Stamp\": \"2022-03-31 07:23:55\"}, {\"Name\": \"Imp\", \"Type\": \"Demonic\", \"Level\": 7, \"Rarity\": \"Rank 0\", \"Damage\": \"7d2\", \"Health\": 14.19, \"Energy\": 13.05, \"Sanity\": 13.47, \"Time Stamp\": \"2022-03-31 07:23:55\"}, {\"Name\": \"Ruby Drake\", \"Type\": \"Dragon\", \"Level\": 12, \"Rarity\": \"Rank 0\", \"Damage\": \"12d2+2\", \"Health\": 24.43, \"Energy\": 23.72, \"Sanity\": 24.28, \"Time Stamp\": \"2022-03-31 07:23:55\"}, {\"Name\": \"Djinni\", \"Type\": \"Elemental\", \"Level\": 2, \"Rarity\": \"Rank 0\", \"Damage\": \"2d2+3\", \"Health\": 4.25, \"Energy\": 4.18, \"Sanity\": 4.9, \"Time Stamp\": \"2022-03-31 07:23:55\"}, {\"Name\": \"Pseudodragon\", \"Type\": \"Dragon\", \"Level\": 15, \"Rarity\": \"Rank 0\", \"Damage\": \"15d2\", \"Health\": 29.68, \"Energy\": 29.28, \"Sanity\": 29.08, \"Time Stamp\": \"2022-03-31 07:23:55\"}, {\"Name\": \"Pseudodragon\", \"Type\": \"Dragon\", \"Level\": 13, \"Rarity\": \"Rank 0\", \"Damage\": \"13d2+1\", \"Health\": 25.95, \"Energy\": 25.38, \"Sanity\": 25.1, \"Time Stamp\": \"2022-03-31 07:23:55\"}, {\"Name\": \"Goblin Mage\", \"Type\": \"Devilkin\", \"Level\": 4, \"Rarity\": \"Rank 0\", \"Damage\": \"4d2\", \"Health\": 8.84, \"Energy\": 7.27, \"Sanity\": 7.01, \"Time Stamp\": \"2022-03-31 07:23:55\"}, {\"Name\": \"Efreeti\", \"Type\": \"Elemental\", \"Level\": 2, \"Rarity\": \"Rank 0\", \"Damage\": \"2d2\", \"Health\": 3.91, \"Energy\": 4.22, \"Sanity\": 3.23, \"Time Stamp\": \"2022-03-31 07:23:55\"}, {\"Name\": \"Vampire\", \"Type\": \"Undead\", \"Level\": 11, \"Rarity\": \"Rank 0\", \"Damage\": \"11d2\", \"Health\": 21.94, \"Energy\": 22.38, \"Sanity\": 21.29, \"Time Stamp\": \"2022-03-31 07:23:55\"}, {\"Name\": \"Lightning Elemental\", \"Type\": \"Elemental\", \"Level\": 1, \"Rarity\": \"Rank 0\", \"Damage\": \"1d2+1\", \"Health\": 1.94, \"Energy\": 2.34, \"Sanity\": 1.66, \"Time Stamp\": \"2022-03-31 07:23:55\"}, {\"Name\": \"Steam Spirit\", \"Type\": \"Fey\", \"Level\": 19, \"Rarity\": \"Rank 0\", \"Damage\": \"19d2+4\", \"Health\": 37.71, \"Energy\": 38.23, \"Sanity\": 37.85, \"Time Stamp\": \"2022-03-31 07:23:55\"}, {\"Name\": \"Kobold Knight\", \"Type\": \"Devilkin\", \"Level\": 8, \"Rarity\": \"Rank 0\", \"Damage\": \"8d2+1\", \"Health\": 15.35, \"Energy\": 15.78, \"Sanity\": 15.79, \"Time Stamp\": \"2022-03-31 07:23:55\"}, {\"Name\": \"Ghostly Mage\", \"Type\": \"Undead\", \"Level\": 1, \"Rarity\": \"Rank 0\", \"Damage\": \"1d2\", \"Health\": 2.67, \"Energy\": 2.28, \"Sanity\": 1.17, \"Time Stamp\": \"2022-03-31 07:23:55\"}, {\"Name\": \"Efreeti\", \"Type\": \"Elemental\", \"Level\": 11, \"Rarity\": \"Rank 0\", \"Damage\": \"11d2\", \"Health\": 22.87, \"Energy\": 22.15, \"Sanity\": 21.32, \"Time Stamp\": \"2022-03-31 07:23:55\"}, {\"Name\": \"Lich\", \"Type\": \"Undead\", \"Level\": 3, \"Rarity\": \"Rank 0\", \"Damage\": \"3d2+2\", \"Health\": 6.3, \"Energy\": 5.92, \"Sanity\": 5.23, \"Time Stamp\": \"2022-03-31 07:23:55\"}, {\"Name\": \"Djinni\", \"Type\": \"Elemental\", \"Level\": 3, \"Rarity\": \"Rank 0\", \"Damage\": \"3d2+2\", \"Health\": 6.72, \"Energy\": 6.81, \"Sanity\": 6.59, \"Time Stamp\": \"2022-03-31 07:23:55\"}, {\"Name\": \"Nightmare\", \"Type\": \"Demonic\", \"Level\": 11, \"Rarity\": \"Rank 0\", \"Damage\": \"11d2\", \"Health\": 22.09, \"Energy\": 22.65, \"Sanity\": 21.69, \"Time Stamp\": \"2022-03-31 07:23:55\"}, {\"Name\": \"Pit Lord\", \"Type\": \"Devilkin\", \"Level\": 5, \"Rarity\": \"Rank 0\", \"Damage\": \"5d2+3\", \"Health\": 9.36, \"Energy\": 10.46, \"Sanity\": 10.89, \"Time Stamp\": \"2022-03-31 07:23:55\"}, {\"Name\": \"Lightning Elemental\", \"Type\": \"Elemental\", \"Level\": 7, \"Rarity\": \"Rank 0\", \"Damage\": \"7d2\", \"Health\": 13.62, \"Energy\": 14.23, \"Sanity\": 14.08, \"Time Stamp\": \"2022-03-31 07:23:55\"}, {\"Name\": \"Pit Fiend\", \"Type\": \"Demonic\", \"Level\": 12, \"Rarity\": \"Rank 0\", \"Damage\": \"12d2+2\", \"Health\": 24.93, \"Energy\": 23.81, \"Sanity\": 24.0, \"Time Stamp\": \"2022-03-31 07:23:55\"}, {\"Name\": \"Steam Elemental\", \"Type\": \"Elemental\", \"Level\": 12, \"Rarity\": \"Rank 0\", \"Damage\": \"12d2+2\", \"Health\": 24.34, \"Energy\": 23.96, \"Sanity\": 24.56, \"Time Stamp\": \"2022-03-31 07:23:55\"}, {\"Name\": \"Lich\", \"Type\": \"Undead\", \"Level\": 2, \"Rarity\": \"Rank 0\", \"Damage\": \"2d2+1\", \"Health\": 4.14, \"Energy\": 3.49, \"Sanity\": 4.85, \"Time Stamp\": \"2022-03-31 07:23:55\"}, {\"Name\": \"Djinni\", \"Type\": \"Elemental\", \"Level\": 6, \"Rarity\": \"Rank 0\", \"Damage\": \"6d2+1\", \"Health\": 11.37, \"Energy\": 11.05, \"Sanity\": 11.88, \"Time Stamp\": \"2022-03-31 07:23:55\"}, {\"Name\": \"Prismatic Archfey\", \"Type\": \"Fey\", \"Level\": 6, \"Rarity\": \"Rank 0\", \"Damage\": \"6d2+1\", \"Health\": 12.18, \"Energy\": 12.21, \"Sanity\": 12.07, \"Time Stamp\": \"2022-03-31 07:23:55\"}, {\"Name\": \"Djinni\", \"Type\": \"Elemental\", \"Level\": 4, \"Rarity\": \"Rank 0\", \"Damage\": \"4d2+1\", \"Health\": 8.47, \"Energy\": 8.09, \"Sanity\": 8.7, \"Time Stamp\": \"2022-03-31 07:23:55\"}, {\"Name\": \"Balor\", \"Type\": \"Demonic\", \"Level\": 7, \"Rarity\": \"Rank 0\", \"Damage\": \"7d2\", \"Health\": 13.0, \"Energy\": 14.9, \"Sanity\": 13.1, \"Time Stamp\": \"2022-03-31 07:23:55\"}, {\"Name\": \"Gold Demon\", \"Type\": \"Demonic\", \"Level\": 3, \"Rarity\": \"Rank 0\", \"Damage\": \"3d2\", \"Health\": 6.65, \"Energy\": 6.34, \"Sanity\": 5.47, \"Time Stamp\": \"2022-03-31 07:23:55\"}, {\"Name\": \"Magma Devil\", \"Type\": \"Devilkin\", \"Level\": 13, \"Rarity\": \"Rank 0\", \"Damage\": \"13d2+1\", \"Health\": 25.71, \"Energy\": 25.6, \"Sanity\": 25.13, \"Time Stamp\": \"2022-03-31 07:23:55\"}, {\"Name\": \"Diamond Wyrmling\", \"Type\": \"Dragon\", \"Level\": 10, \"Rarity\": \"Rank 0\", \"Damage\": \"10d2\", \"Health\": 19.2, \"Energy\": 20.31, \"Sanity\": 20.94, \"Time Stamp\": \"2022-03-31 07:23:55\"}, {\"Name\": \"Efreeti\", \"Type\": \"Elemental\", \"Level\": 2, \"Rarity\": \"Rank 0\", \"Damage\": \"2d2+5\", \"Health\": 4.77, \"Energy\": 4.4, \"Sanity\": 3.43, \"Time Stamp\": \"2022-03-31 07:23:55\"}, {\"Name\": \"Night Hag\", \"Type\": \"Demonic\", \"Level\": 14, \"Rarity\": \"Rank 0\", \"Damage\": \"14d2+2\", \"Health\": 27.62, \"Energy\": 28.24, \"Sanity\": 27.03, \"Time Stamp\": \"2022-03-31 07:23:55\"}, {\"Name\": \"Lightning Archfey\", \"Type\": \"Fey\", \"Level\": 10, \"Rarity\": \"Rank 0\", \"Damage\": \"10d2+1\", \"Health\": 20.89, \"Energy\": 19.32, \"Sanity\": 20.38, \"Time Stamp\": \"2022-03-31 07:23:55\"}, {\"Name\": \"Sapphire Wyrmling\", \"Type\": \"Dragon\", \"Level\": 6, \"Rarity\": \"Rank 0\", \"Damage\": \"6d2\", \"Health\": 12.79, \"Energy\": 12.82, \"Sanity\": 11.01, \"Time Stamp\": \"2022-03-31 07:23:55\"}, {\"Name\": \"Zombie Guard\", \"Type\": \"Undead\", \"Level\": 4, \"Rarity\": \"Rank 0\", \"Damage\": \"4d2+5\", \"Health\": 8.45, \"Energy\": 7.44, \"Sanity\": 8.46, \"Time Stamp\": \"2022-03-31 07:23:55\"}, {\"Name\": \"Prince of Fear\", \"Type\": \"Devilkin\", \"Level\": 2, \"Rarity\": \"Rank 0\", \"Damage\": \"2d2+1\", \"Health\": 4.75, \"Energy\": 3.57, \"Sanity\": 3.04, \"Time Stamp\": \"2022-03-31 07:23:55\"}, {\"Name\": \"Brass Drake\", \"Type\": \"Dragon\", \"Level\": 5, \"Rarity\": \"Rank 0\", \"Damage\": \"5d2+2\", \"Health\": 9.57, \"Energy\": 9.3, \"Sanity\": 9.09, \"Time Stamp\": \"2022-03-31 07:23:55\"}, {\"Name\": \"Emerald Demon\", \"Type\": \"Demonic\", \"Level\": 9, \"Rarity\": \"Rank 0\", \"Damage\": \"9d2+1\", \"Health\": 17.02, \"Energy\": 17.91, \"Sanity\": 18.64, \"Time Stamp\": \"2022-03-31 07:23:55\"}]}}, {\"mode\": \"vega-lite\"});\n</script>",
      "text/plain": "alt.Chart(...)"
     },
     "execution_count": 60,
     "metadata": {},
     "output_type": "execute_result"
    }
   ]
  },
  {
   "cell_type": "markdown",
   "metadata": {
    "id": "aVjJhvdjSL1N"
   },
   "source": [
    "Same graph as above as a JSON file...\n",
    "\n",
    "Juggeling json is tricky until you get the hang of it, then it's really easy!"
   ]
  },
  {
   "cell_type": "code",
   "source": [
    "# The Altair Library provides the `.to_json()` method.\n",
    "# This creates a dirty json string. In the next section we'll see about fixing it.\n",
    "scatter_plot_json = scatter_plot.to_json()\n",
    "scatter_plot_json"
   ],
   "metadata": {
    "collapsed": false,
    "pycharm": {
     "name": "#%%\n"
    }
   },
   "execution_count": 54,
   "outputs": [
    {
     "data": {
      "text/plain": "'{\\n  \"$schema\": \"https://vega.github.io/schema/vega-lite/v4.8.1.json\",\\n  \"config\": {\\n    \"view\": {\\n      \"continuousHeight\": 300,\\n      \"continuousWidth\": 400\\n    }\\n  },\\n  \"data\": {\\n    \"name\": \"data-bc909eade4e963ccacb1652308ad0036\"\\n  },\\n  \"datasets\": {\\n    \"data-bc909eade4e963ccacb1652308ad0036\": [\\n      {\\n        \"Damage\": \"4d2+3\",\\n        \"Energy\": 8.1,\\n        \"Health\": 7.73,\\n        \"Level\": 4,\\n        \"Name\": \"Dust Spirit\",\\n        \"Rarity\": \"Rank 0\",\\n        \"Sanity\": 8.62,\\n        \"Time Stamp\": \"2022-03-31 07:23:55\",\\n        \"Type\": \"Fey\"\\n      },\\n      {\\n        \"Damage\": \"12d2\",\\n        \"Energy\": 24.32,\\n        \"Health\": 24.01,\\n        \"Level\": 12,\\n        \"Name\": \"Emerald Dragon\",\\n        \"Rarity\": \"Rank 0\",\\n        \"Sanity\": 23.85,\\n        \"Time Stamp\": \"2022-03-31 07:23:55\",\\n        \"Type\": \"Dragon\"\\n      },\\n      {\\n        \"Damage\": \"13d2+1\",\\n        \"Energy\": 25.26,\\n        \"Health\": 26.77,\\n        \"Level\": 13,\\n        \"Name\": \"Djinni\",\\n        \"Rarity\": \"Rank 0\",\\n        \"Sanity\": 25.07,\\n        \"Time Stamp\": \"2022-03-31 07:23:55\",\\n        \"Type\": \"Elemental\"\\n      },\\n      {\\n        \"Damage\": \"8d2\",\\n        \"Energy\": 16.85,\\n        \"Health\": 15.57,\\n        \"Level\": 8,\\n        \"Name\": \"Steam Archfey\",\\n        \"Rarity\": \"Rank 0\",\\n        \"Sanity\": 15.07,\\n        \"Time Stamp\": \"2022-03-31 07:23:55\",\\n        \"Type\": \"Fey\"\\n      },\\n      {\\n        \"Damage\": \"12d2\",\\n        \"Energy\": 23.42,\\n        \"Health\": 24.12,\\n        \"Level\": 12,\\n        \"Name\": \"Pit Lord\",\\n        \"Rarity\": \"Rank 0\",\\n        \"Sanity\": 24.62,\\n        \"Time Stamp\": \"2022-03-31 07:23:55\",\\n        \"Type\": \"Devilkin\"\\n      },\\n      {\\n        \"Damage\": \"3d2+3\",\\n        \"Energy\": 6.84,\\n        \"Health\": 6.38,\\n        \"Level\": 3,\\n        \"Name\": \"Smoke Archfey\",\\n        \"Rarity\": \"Rank 0\",\\n        \"Sanity\": 6.35,\\n        \"Time Stamp\": \"2022-03-31 07:23:55\",\\n        \"Type\": \"Fey\"\\n      },\\n      {\\n        \"Damage\": \"1d2+2\",\\n        \"Energy\": 2.97,\\n        \"Health\": 1.24,\\n        \"Level\": 1,\\n        \"Name\": \"Magma Spirit\",\\n        \"Rarity\": \"Rank 0\",\\n        \"Sanity\": 1.03,\\n        \"Time Stamp\": \"2022-03-31 07:23:55\",\\n        \"Type\": \"Fey\"\\n      },\\n      {\\n        \"Damage\": \"13d2\",\\n        \"Energy\": 26.15,\\n        \"Health\": 26.92,\\n        \"Level\": 13,\\n        \"Name\": \"Hook Horror\",\\n        \"Rarity\": \"Rank 0\",\\n        \"Sanity\": 25.93,\\n        \"Time Stamp\": \"2022-03-31 07:23:55\",\\n        \"Type\": \"Demonic\"\\n      },\\n      {\\n        \"Damage\": \"5d2\",\\n        \"Energy\": 9.99,\\n        \"Health\": 9.87,\\n        \"Level\": 5,\\n        \"Name\": \"Pseudodragon\",\\n        \"Rarity\": \"Rank 0\",\\n        \"Sanity\": 10.62,\\n        \"Time Stamp\": \"2022-03-31 07:23:55\",\\n        \"Type\": \"Dragon\"\\n      },\\n      {\\n        \"Damage\": \"13d2\",\\n        \"Energy\": 25.05,\\n        \"Health\": 26.85,\\n        \"Level\": 13,\\n        \"Name\": \"Shadow Archfey\",\\n        \"Rarity\": \"Rank 0\",\\n        \"Sanity\": 25.12,\\n        \"Time Stamp\": \"2022-03-31 07:23:55\",\\n        \"Type\": \"Fey\"\\n      },\\n      {\\n        \"Damage\": \"2d2+2\",\\n        \"Energy\": 4.15,\\n        \"Health\": 3.21,\\n        \"Level\": 2,\\n        \"Name\": \"Faerie Dragon\",\\n        \"Rarity\": \"Rank 0\",\\n        \"Sanity\": 4.45,\\n        \"Time Stamp\": \"2022-03-31 07:23:55\",\\n        \"Type\": \"Dragon\"\\n      },\\n      {\\n        \"Damage\": \"2d2+2\",\\n        \"Energy\": 3.37,\\n        \"Health\": 4.28,\\n        \"Level\": 2,\\n        \"Name\": \"Onyx Faerie\",\\n        \"Rarity\": \"Rank 0\",\\n        \"Sanity\": 4.54,\\n        \"Time Stamp\": \"2022-03-31 07:23:55\",\\n        \"Type\": \"Fey\"\\n      },\\n      {\\n        \"Damage\": \"3d2+1\",\\n        \"Energy\": 6.18,\\n        \"Health\": 5.61,\\n        \"Level\": 3,\\n        \"Name\": \"Nightmare\",\\n        \"Rarity\": \"Rank 0\",\\n        \"Sanity\": 6.17,\\n        \"Time Stamp\": \"2022-03-31 07:23:55\",\\n        \"Type\": \"Demonic\"\\n      },\\n      {\\n        \"Damage\": \"2d2+2\",\\n        \"Energy\": 3.24,\\n        \"Health\": 3.79,\\n        \"Level\": 2,\\n        \"Name\": \"Pit Lord\",\\n        \"Rarity\": \"Rank 0\",\\n        \"Sanity\": 3.29,\\n        \"Time Stamp\": \"2022-03-31 07:23:55\",\\n        \"Type\": \"Devilkin\"\\n      },\\n      {\\n        \"Damage\": \"7d2+1\",\\n        \"Energy\": 13.47,\\n        \"Health\": 13.17,\\n        \"Level\": 7,\\n        \"Name\": \"Wyvern\",\\n        \"Rarity\": \"Rank 0\",\\n        \"Sanity\": 14.58,\\n        \"Time Stamp\": \"2022-03-31 07:23:55\",\\n        \"Type\": \"Dragon\"\\n      },\\n      {\\n        \"Damage\": \"8d2+2\",\\n        \"Energy\": 15.35,\\n        \"Health\": 16.66,\\n        \"Level\": 8,\\n        \"Name\": \"Succubus\",\\n        \"Rarity\": \"Rank 0\",\\n        \"Sanity\": 16.35,\\n        \"Time Stamp\": \"2022-03-31 07:23:55\",\\n        \"Type\": \"Devilkin\"\\n      },\\n      {\\n        \"Damage\": \"10d2\",\\n        \"Energy\": 20.73,\\n        \"Health\": 19.75,\\n        \"Level\": 10,\\n        \"Name\": \"Wyvern\",\\n        \"Rarity\": \"Rank 0\",\\n        \"Sanity\": 19.53,\\n        \"Time Stamp\": \"2022-03-31 07:23:55\",\\n        \"Type\": \"Dragon\"\\n      },\\n      {\\n        \"Damage\": \"16d2+2\",\\n        \"Energy\": 31.18,\\n        \"Health\": 31.35,\\n        \"Level\": 16,\\n        \"Name\": \"Shadow Mephit\",\\n        \"Rarity\": \"Rank 0\",\\n        \"Sanity\": 32.25,\\n        \"Time Stamp\": \"2022-03-31 07:23:55\",\\n        \"Type\": \"Elemental\"\\n      },\\n      {\\n        \"Damage\": \"6d2+1\",\\n        \"Energy\": 11.25,\\n        \"Health\": 11.48,\\n        \"Level\": 6,\\n        \"Name\": \"Lich King\",\\n        \"Rarity\": \"Rank 0\",\\n        \"Sanity\": 11.83,\\n        \"Time Stamp\": \"2022-03-31 07:23:55\",\\n        \"Type\": \"Undead\"\\n      },\\n      {\\n        \"Damage\": \"17d2+3\",\\n        \"Energy\": 33.36,\\n        \"Health\": 33.41,\\n        \"Level\": 17,\\n        \"Name\": \"Balor\",\\n        \"Rarity\": \"Rank 0\",\\n        \"Sanity\": 34.21,\\n        \"Time Stamp\": \"2022-03-31 07:23:55\",\\n        \"Type\": \"Demonic\"\\n      },\\n      {\\n        \"Damage\": \"4d2+1\",\\n        \"Energy\": 7.34,\\n        \"Health\": 8.72,\\n        \"Level\": 4,\\n        \"Name\": \"Prince of Fear\",\\n        \"Rarity\": \"Rank 0\",\\n        \"Sanity\": 7.22,\\n        \"Time Stamp\": \"2022-03-31 07:23:55\",\\n        \"Type\": \"Devilkin\"\\n      },\\n      {\\n        \"Damage\": \"6d2\",\\n        \"Energy\": 11.39,\\n        \"Health\": 11.19,\\n        \"Level\": 6,\\n        \"Name\": \"Faerie Dragon\",\\n        \"Rarity\": \"Rank 0\",\\n        \"Sanity\": 11.14,\\n        \"Time Stamp\": \"2022-03-31 07:23:55\",\\n        \"Type\": \"Dragon\"\\n      },\\n      {\\n        \"Damage\": \"9d2\",\\n        \"Energy\": 17.4,\\n        \"Health\": 17.86,\\n        \"Level\": 9,\\n        \"Name\": \"Dust Devil\",\\n        \"Rarity\": \"Rank 0\",\\n        \"Sanity\": 18.08,\\n        \"Time Stamp\": \"2022-03-31 07:23:55\",\\n        \"Type\": \"Devilkin\"\\n      },\\n      {\\n        \"Damage\": \"10d2\",\\n        \"Energy\": 20.97,\\n        \"Health\": 19.91,\\n        \"Level\": 10,\\n        \"Name\": \"Lich King\",\\n        \"Rarity\": \"Rank 0\",\\n        \"Sanity\": 20.56,\\n        \"Time Stamp\": \"2022-03-31 07:23:55\",\\n        \"Type\": \"Undead\"\\n      },\\n      {\\n        \"Damage\": \"3d2+2\",\\n        \"Energy\": 6.58,\\n        \"Health\": 5.21,\\n        \"Level\": 3,\\n        \"Name\": \"Faerie Dragon\",\\n        \"Rarity\": \"Rank 0\",\\n        \"Sanity\": 6.17,\\n        \"Time Stamp\": \"2022-03-31 07:23:55\",\\n        \"Type\": \"Dragon\"\\n      },\\n      {\\n        \"Damage\": \"7d2\",\\n        \"Energy\": 13.26,\\n        \"Health\": 13.4,\\n        \"Level\": 7,\\n        \"Name\": \"Pit Fiend\",\\n        \"Rarity\": \"Rank 0\",\\n        \"Sanity\": 14.14,\\n        \"Time Stamp\": \"2022-03-31 07:23:55\",\\n        \"Type\": \"Demonic\"\\n      },\\n      {\\n        \"Damage\": \"5d2\",\\n        \"Energy\": 10.59,\\n        \"Health\": 10.46,\\n        \"Level\": 5,\\n        \"Name\": \"Pit Fiend\",\\n        \"Rarity\": \"Rank 0\",\\n        \"Sanity\": 10.62,\\n        \"Time Stamp\": \"2022-03-31 07:23:55\",\\n        \"Type\": \"Demonic\"\\n      },\\n      {\\n        \"Damage\": \"8d2+1\",\\n        \"Energy\": 16.51,\\n        \"Health\": 16.32,\\n        \"Level\": 8,\\n        \"Name\": \"Goblin Guard\",\\n        \"Rarity\": \"Rank 0\",\\n        \"Sanity\": 15.54,\\n        \"Time Stamp\": \"2022-03-31 07:23:55\",\\n        \"Type\": \"Devilkin\"\\n      },\\n      {\\n        \"Damage\": \"10d2+3\",\\n        \"Energy\": 19.08,\\n        \"Health\": 19.37,\\n        \"Level\": 10,\\n        \"Name\": \"Hook Horror\",\\n        \"Rarity\": \"Rank 0\",\\n        \"Sanity\": 19.85,\\n        \"Time Stamp\": \"2022-03-31 07:23:55\",\\n        \"Type\": \"Demonic\"\\n      },\\n      {\\n        \"Damage\": \"2d2+2\",\\n        \"Energy\": 3.12,\\n        \"Health\": 3.13,\\n        \"Level\": 2,\\n        \"Name\": \"Pit Lord\",\\n        \"Rarity\": \"Rank 0\",\\n        \"Sanity\": 4.07,\\n        \"Time Stamp\": \"2022-03-31 07:23:55\",\\n        \"Type\": \"Devilkin\"\\n      },\\n      {\\n        \"Damage\": \"12d2\",\\n        \"Energy\": 23.39,\\n        \"Health\": 24.64,\\n        \"Level\": 12,\\n        \"Name\": \"Silver Drake\",\\n        \"Rarity\": \"Rank 0\",\\n        \"Sanity\": 23.14,\\n        \"Time Stamp\": \"2022-03-31 07:23:55\",\\n        \"Type\": \"Dragon\"\\n      },\\n      {\\n        \"Damage\": \"2d2+4\",\\n        \"Energy\": 3.98,\\n        \"Health\": 3.19,\\n        \"Level\": 2,\\n        \"Name\": \"Platinum Faerie\",\\n        \"Rarity\": \"Rank 0\",\\n        \"Sanity\": 4.49,\\n        \"Time Stamp\": \"2022-03-31 07:23:55\",\\n        \"Type\": \"Fey\"\\n      },\\n      {\\n        \"Damage\": \"6d2\",\\n        \"Energy\": 12.6,\\n        \"Health\": 12.28,\\n        \"Level\": 6,\\n        \"Name\": \"Red Dragon\",\\n        \"Rarity\": \"Rank 0\",\\n        \"Sanity\": 12.03,\\n        \"Time Stamp\": \"2022-03-31 07:23:55\",\\n        \"Type\": \"Dragon\"\\n      },\\n      {\\n        \"Damage\": \"9d2\",\\n        \"Energy\": 18.38,\\n        \"Health\": 17.53,\\n        \"Level\": 9,\\n        \"Name\": \"Efreeti\",\\n        \"Rarity\": \"Rank 0\",\\n        \"Sanity\": 17.84,\\n        \"Time Stamp\": \"2022-03-31 07:23:55\",\\n        \"Type\": \"Elemental\"\\n      },\\n      {\\n        \"Damage\": \"12d2\",\\n        \"Energy\": 23.09,\\n        \"Health\": 23.4,\\n        \"Level\": 12,\\n        \"Name\": \"Imp\",\\n        \"Rarity\": \"Rank 0\",\\n        \"Sanity\": 24.74,\\n        \"Time Stamp\": \"2022-03-31 07:23:55\",\\n        \"Type\": \"Demonic\"\\n      },\\n      {\\n        \"Damage\": \"10d2+1\",\\n        \"Energy\": 20.19,\\n        \"Health\": 20.78,\\n        \"Level\": 10,\\n        \"Name\": \"Emerald Archfey\",\\n        \"Rarity\": \"Rank 0\",\\n        \"Sanity\": 20.59,\\n        \"Time Stamp\": \"2022-03-31 07:23:55\",\\n        \"Type\": \"Fey\"\\n      },\\n      {\\n        \"Damage\": \"7d2+2\",\\n        \"Energy\": 13.02,\\n        \"Health\": 14.19,\\n        \"Level\": 7,\\n        \"Name\": \"Prismatic Drake\",\\n        \"Rarity\": \"Rank 0\",\\n        \"Sanity\": 13.2,\\n        \"Time Stamp\": \"2022-03-31 07:23:55\",\\n        \"Type\": \"Dragon\"\\n      },\\n      {\\n        \"Damage\": \"6d2+2\",\\n        \"Energy\": 12.23,\\n        \"Health\": 12.46,\\n        \"Level\": 6,\\n        \"Name\": \"Revenant\",\\n        \"Rarity\": \"Rank 0\",\\n        \"Sanity\": 12.9,\\n        \"Time Stamp\": \"2022-03-31 07:23:55\",\\n        \"Type\": \"Undead\"\\n      },\\n      {\\n        \"Damage\": \"15d2+1\",\\n        \"Energy\": 29.84,\\n        \"Health\": 30.52,\\n        \"Level\": 15,\\n        \"Name\": \"Goblin Mage\",\\n        \"Rarity\": \"Rank 0\",\\n        \"Sanity\": 30.57,\\n        \"Time Stamp\": \"2022-03-31 07:23:55\",\\n        \"Type\": \"Devilkin\"\\n      },\\n      {\\n        \"Damage\": \"8d2+5\",\\n        \"Energy\": 15.42,\\n        \"Health\": 15.43,\\n        \"Level\": 8,\\n        \"Name\": \"Green Demon\",\\n        \"Rarity\": \"Rank 0\",\\n        \"Sanity\": 16.59,\\n        \"Time Stamp\": \"2022-03-31 07:23:55\",\\n        \"Type\": \"Demonic\"\\n      },\\n      {\\n        \"Damage\": \"7d2+3\",\\n        \"Energy\": 14.0,\\n        \"Health\": 14.21,\\n        \"Level\": 7,\\n        \"Name\": \"Revenant\",\\n        \"Rarity\": \"Rank 0\",\\n        \"Sanity\": 14.31,\\n        \"Time Stamp\": \"2022-03-31 07:23:55\",\\n        \"Type\": \"Undead\"\\n      },\\n      {\\n        \"Damage\": \"15d2+2\",\\n        \"Energy\": 29.29,\\n        \"Health\": 29.79,\\n        \"Level\": 15,\\n        \"Name\": \"Skeletal Knight\",\\n        \"Rarity\": \"Rank 0\",\\n        \"Sanity\": 30.58,\\n        \"Time Stamp\": \"2022-03-31 07:23:55\",\\n        \"Type\": \"Undead\"\\n      },\\n      {\\n        \"Damage\": \"10d2+1\",\\n        \"Energy\": 20.03,\\n        \"Health\": 20.46,\\n        \"Level\": 10,\\n        \"Name\": \"Succubus\",\\n        \"Rarity\": \"Rank 0\",\\n        \"Sanity\": 19.46,\\n        \"Time Stamp\": \"2022-03-31 07:23:55\",\\n        \"Type\": \"Devilkin\"\\n      },\\n      {\\n        \"Damage\": \"4d2+3\",\\n        \"Energy\": 7.26,\\n        \"Health\": 8.03,\\n        \"Level\": 4,\\n        \"Name\": \"Balor\",\\n        \"Rarity\": \"Rank 0\",\\n        \"Sanity\": 8.74,\\n        \"Time Stamp\": \"2022-03-31 07:23:55\",\\n        \"Type\": \"Demonic\"\\n      },\\n      {\\n        \"Damage\": \"12d2+3\",\\n        \"Energy\": 24.19,\\n        \"Health\": 23.27,\\n        \"Level\": 12,\\n        \"Name\": \"Gold Dragon\",\\n        \"Rarity\": \"Rank 0\",\\n        \"Sanity\": 23.4,\\n        \"Time Stamp\": \"2022-03-31 07:23:55\",\\n        \"Type\": \"Dragon\"\\n      },\\n      {\\n        \"Damage\": \"7d2+3\",\\n        \"Energy\": 13.61,\\n        \"Health\": 14.86,\\n        \"Level\": 7,\\n        \"Name\": \"Balor\",\\n        \"Rarity\": \"Rank 0\",\\n        \"Sanity\": 13.45,\\n        \"Time Stamp\": \"2022-03-31 07:23:55\",\\n        \"Type\": \"Demonic\"\\n      },\\n      {\\n        \"Damage\": \"2d2+3\",\\n        \"Energy\": 4.12,\\n        \"Health\": 3.2,\\n        \"Level\": 2,\\n        \"Name\": \"Demilich\",\\n        \"Rarity\": \"Rank 0\",\\n        \"Sanity\": 3.6,\\n        \"Time Stamp\": \"2022-03-31 07:23:55\",\\n        \"Type\": \"Undead\"\\n      },\\n      {\\n        \"Damage\": \"7d2+2\",\\n        \"Energy\": 14.13,\\n        \"Health\": 14.29,\\n        \"Level\": 7,\\n        \"Name\": \"Nightmare\",\\n        \"Rarity\": \"Rank 0\",\\n        \"Sanity\": 13.48,\\n        \"Time Stamp\": \"2022-03-31 07:23:55\",\\n        \"Type\": \"Demonic\"\\n      },\\n      {\\n        \"Damage\": \"8d2+4\",\\n        \"Energy\": 16.17,\\n        \"Health\": 16.09,\\n        \"Level\": 8,\\n        \"Name\": \"Quasit\",\\n        \"Rarity\": \"Rank 0\",\\n        \"Sanity\": 16.54,\\n        \"Time Stamp\": \"2022-03-31 07:23:55\",\\n        \"Type\": \"Demonic\"\\n      },\\n      {\\n        \"Damage\": \"9d2\",\\n        \"Energy\": 17.49,\\n        \"Health\": 17.41,\\n        \"Level\": 9,\\n        \"Name\": \"Djinni\",\\n        \"Rarity\": \"Rank 0\",\\n        \"Sanity\": 17.87,\\n        \"Time Stamp\": \"2022-03-31 07:23:55\",\\n        \"Type\": \"Elemental\"\\n      },\\n      {\\n        \"Damage\": \"4d2+5\",\\n        \"Energy\": 7.08,\\n        \"Health\": 8.3,\\n        \"Level\": 4,\\n        \"Name\": \"Balor\",\\n        \"Rarity\": \"Rank 0\",\\n        \"Sanity\": 7.17,\\n        \"Time Stamp\": \"2022-03-31 07:23:55\",\\n        \"Type\": \"Demonic\"\\n      },\\n      {\\n        \"Damage\": \"3d2\",\\n        \"Energy\": 5.88,\\n        \"Health\": 5.25,\\n        \"Level\": 3,\\n        \"Name\": \"Quasit\",\\n        \"Rarity\": \"Rank 0\",\\n        \"Sanity\": 6.79,\\n        \"Time Stamp\": \"2022-03-31 07:23:55\",\\n        \"Type\": \"Demonic\"\\n      },\\n      {\\n        \"Damage\": \"8d2+1\",\\n        \"Energy\": 16.11,\\n        \"Health\": 15.11,\\n        \"Level\": 8,\\n        \"Name\": \"Djinni\",\\n        \"Rarity\": \"Rank 0\",\\n        \"Sanity\": 15.06,\\n        \"Time Stamp\": \"2022-03-31 07:23:55\",\\n        \"Type\": \"Elemental\"\\n      },\\n      {\\n        \"Damage\": \"4d2+1\",\\n        \"Energy\": 7.32,\\n        \"Health\": 8.34,\\n        \"Level\": 4,\\n        \"Name\": \"Night Hag\",\\n        \"Rarity\": \"Rank 0\",\\n        \"Sanity\": 8.88,\\n        \"Time Stamp\": \"2022-03-31 07:23:55\",\\n        \"Type\": \"Demonic\"\\n      },\\n      {\\n        \"Damage\": \"11d2+1\",\\n        \"Energy\": 22.47,\\n        \"Health\": 21.89,\\n        \"Level\": 11,\\n        \"Name\": \"Green Wyrmling\",\\n        \"Rarity\": \"Rank 0\",\\n        \"Sanity\": 21.38,\\n        \"Time Stamp\": \"2022-03-31 07:23:55\",\\n        \"Type\": \"Dragon\"\\n      },\\n      {\\n        \"Damage\": \"8d2+2\",\\n        \"Energy\": 16.92,\\n        \"Health\": 16.38,\\n        \"Level\": 8,\\n        \"Name\": \"Kobold Mage\",\\n        \"Rarity\": \"Rank 0\",\\n        \"Sanity\": 16.57,\\n        \"Time Stamp\": \"2022-03-31 07:23:55\",\\n        \"Type\": \"Devilkin\"\\n      },\\n      {\\n        \"Damage\": \"13d2+1\",\\n        \"Energy\": 25.25,\\n        \"Health\": 26.05,\\n        \"Level\": 13,\\n        \"Name\": \"Balor\",\\n        \"Rarity\": \"Rank 0\",\\n        \"Sanity\": 25.2,\\n        \"Time Stamp\": \"2022-03-31 07:23:55\",\\n        \"Type\": \"Demonic\"\\n      },\\n      {\\n        \"Damage\": \"2d2+1\",\\n        \"Energy\": 3.54,\\n        \"Health\": 4.41,\\n        \"Level\": 2,\\n        \"Name\": \"Revenant\",\\n        \"Rarity\": \"Rank 0\",\\n        \"Sanity\": 4.35,\\n        \"Time Stamp\": \"2022-03-31 07:23:55\",\\n        \"Type\": \"Undead\"\\n      },\\n      {\\n        \"Damage\": \"9d2\",\\n        \"Energy\": 18.51,\\n        \"Health\": 17.32,\\n        \"Level\": 9,\\n        \"Name\": \"Platinum Archfey\",\\n        \"Rarity\": \"Rank 0\",\\n        \"Sanity\": 17.13,\\n        \"Time Stamp\": \"2022-03-31 07:23:55\",\\n        \"Type\": \"Fey\"\\n      },\\n      {\\n        \"Damage\": \"3d2+2\",\\n        \"Energy\": 6.22,\\n        \"Health\": 5.3,\\n        \"Level\": 3,\\n        \"Name\": \"Zombie Knight\",\\n        \"Rarity\": \"Rank 0\",\\n        \"Sanity\": 5.29,\\n        \"Time Stamp\": \"2022-03-31 07:23:55\",\\n        \"Type\": \"Undead\"\\n      },\\n      {\\n        \"Damage\": \"8d2+2\",\\n        \"Energy\": 16.56,\\n        \"Health\": 15.83,\\n        \"Level\": 8,\\n        \"Name\": \"Ruby Faerie\",\\n        \"Rarity\": \"Rank 0\",\\n        \"Sanity\": 16.99,\\n        \"Time Stamp\": \"2022-03-31 07:23:55\",\\n        \"Type\": \"Fey\"\\n      },\\n      {\\n        \"Damage\": \"8d2+1\",\\n        \"Energy\": 16.52,\\n        \"Health\": 15.54,\\n        \"Level\": 8,\\n        \"Name\": \"Quasit\",\\n        \"Rarity\": \"Rank 0\",\\n        \"Sanity\": 15.37,\\n        \"Time Stamp\": \"2022-03-31 07:23:55\",\\n        \"Type\": \"Demonic\"\\n      },\\n      {\\n        \"Damage\": \"7d2\",\\n        \"Energy\": 13.07,\\n        \"Health\": 13.36,\\n        \"Level\": 7,\\n        \"Name\": \"Faerie Dragon\",\\n        \"Rarity\": \"Rank 0\",\\n        \"Sanity\": 14.08,\\n        \"Time Stamp\": \"2022-03-31 07:23:55\",\\n        \"Type\": \"Dragon\"\\n      },\\n      {\\n        \"Damage\": \"3d2+1\",\\n        \"Energy\": 6.37,\\n        \"Health\": 6.15,\\n        \"Level\": 3,\\n        \"Name\": \"White Faerie\",\\n        \"Rarity\": \"Rank 0\",\\n        \"Sanity\": 5.16,\\n        \"Time Stamp\": \"2022-03-31 07:23:55\",\\n        \"Type\": \"Fey\"\\n      },\\n      {\\n        \"Damage\": \"9d2+3\",\\n        \"Energy\": 18.38,\\n        \"Health\": 17.16,\\n        \"Level\": 9,\\n        \"Name\": \"Diamond Archfey\",\\n        \"Rarity\": \"Rank 0\",\\n        \"Sanity\": 17.81,\\n        \"Time Stamp\": \"2022-03-31 07:23:55\",\\n        \"Type\": \"Fey\"\\n      },\\n      {\\n        \"Damage\": \"16d2+1\",\\n        \"Energy\": 32.47,\\n        \"Health\": 32.94,\\n        \"Level\": 16,\\n        \"Name\": \"Onyx Faerie\",\\n        \"Rarity\": \"Rank 0\",\\n        \"Sanity\": 31.36,\\n        \"Time Stamp\": \"2022-03-31 07:23:55\",\\n        \"Type\": \"Fey\"\\n      },\\n      {\\n        \"Damage\": \"8d2\",\\n        \"Energy\": 15.38,\\n        \"Health\": 16.73,\\n        \"Level\": 8,\\n        \"Name\": \"Pseudodragon\",\\n        \"Rarity\": \"Rank 0\",\\n        \"Sanity\": 15.22,\\n        \"Time Stamp\": \"2022-03-31 07:23:55\",\\n        \"Type\": \"Dragon\"\\n      },\\n      {\\n        \"Damage\": \"9d2+1\",\\n        \"Energy\": 18.19,\\n        \"Health\": 18.39,\\n        \"Level\": 9,\\n        \"Name\": \"Ice Archfey\",\\n        \"Rarity\": \"Rank 0\",\\n        \"Sanity\": 17.78,\\n        \"Time Stamp\": \"2022-03-31 07:23:55\",\\n        \"Type\": \"Fey\"\\n      },\\n      {\\n        \"Damage\": \"13d2\",\\n        \"Energy\": 26.44,\\n        \"Health\": 25.82,\\n        \"Level\": 13,\\n        \"Name\": \"White Archfey\",\\n        \"Rarity\": \"Rank 0\",\\n        \"Sanity\": 25.71,\\n        \"Time Stamp\": \"2022-03-31 07:23:55\",\\n        \"Type\": \"Fey\"\\n      },\\n      {\\n        \"Damage\": \"10d2+1\",\\n        \"Energy\": 19.58,\\n        \"Health\": 19.93,\\n        \"Level\": 10,\\n        \"Name\": \"Efreeti\",\\n        \"Rarity\": \"Rank 0\",\\n        \"Sanity\": 20.39,\\n        \"Time Stamp\": \"2022-03-31 07:23:55\",\\n        \"Type\": \"Elemental\"\\n      },\\n      {\\n        \"Damage\": \"13d2+3\",\\n        \"Energy\": 26.92,\\n        \"Health\": 25.93,\\n        \"Level\": 13,\\n        \"Name\": \"Efreeti\",\\n        \"Rarity\": \"Rank 0\",\\n        \"Sanity\": 26.93,\\n        \"Time Stamp\": \"2022-03-31 07:23:55\",\\n        \"Type\": \"Elemental\"\\n      },\\n      {\\n        \"Damage\": \"3d2\",\\n        \"Energy\": 6.93,\\n        \"Health\": 6.33,\\n        \"Level\": 3,\\n        \"Name\": \"Quasit\",\\n        \"Rarity\": \"Rank 0\",\\n        \"Sanity\": 5.56,\\n        \"Time Stamp\": \"2022-03-31 07:23:55\",\\n        \"Type\": \"Demonic\"\\n      },\\n      {\\n        \"Damage\": \"14d2\",\\n        \"Energy\": 27.53,\\n        \"Health\": 28.1,\\n        \"Level\": 14,\\n        \"Name\": \"Pit Lord\",\\n        \"Rarity\": \"Rank 0\",\\n        \"Sanity\": 27.25,\\n        \"Time Stamp\": \"2022-03-31 07:23:55\",\\n        \"Type\": \"Devilkin\"\\n      },\\n      {\\n        \"Damage\": \"2d2\",\\n        \"Energy\": 4.06,\\n        \"Health\": 4.02,\\n        \"Level\": 2,\\n        \"Name\": \"Platinum Dragon\",\\n        \"Rarity\": \"Rank 0\",\\n        \"Sanity\": 3.58,\\n        \"Time Stamp\": \"2022-03-31 07:23:55\",\\n        \"Type\": \"Dragon\"\\n      },\\n      {\\n        \"Damage\": \"9d2+3\",\\n        \"Energy\": 17.87,\\n        \"Health\": 18.66,\\n        \"Level\": 9,\\n        \"Name\": \"Red Demon\",\\n        \"Rarity\": \"Rank 0\",\\n        \"Sanity\": 17.63,\\n        \"Time Stamp\": \"2022-03-31 07:23:55\",\\n        \"Type\": \"Demonic\"\\n      },\\n      {\\n        \"Damage\": \"10d2+1\",\\n        \"Energy\": 20.61,\\n        \"Health\": 20.4,\\n        \"Level\": 10,\\n        \"Name\": \"Djinni\",\\n        \"Rarity\": \"Rank 0\",\\n        \"Sanity\": 19.08,\\n        \"Time Stamp\": \"2022-03-31 07:23:55\",\\n        \"Type\": \"Elemental\"\\n      },\\n      {\\n        \"Damage\": \"10d2+1\",\\n        \"Energy\": 20.7,\\n        \"Health\": 19.9,\\n        \"Level\": 10,\\n        \"Name\": \"Kobold Villager\",\\n        \"Rarity\": \"Rank 0\",\\n        \"Sanity\": 20.59,\\n        \"Time Stamp\": \"2022-03-31 07:23:55\",\\n        \"Type\": \"Devilkin\"\\n      },\\n      {\\n        \"Damage\": \"4d2\",\\n        \"Energy\": 7.27,\\n        \"Health\": 7.44,\\n        \"Level\": 4,\\n        \"Name\": \"Imp\",\\n        \"Rarity\": \"Rank 0\",\\n        \"Sanity\": 7.77,\\n        \"Time Stamp\": \"2022-03-31 07:23:55\",\\n        \"Type\": \"Demonic\"\\n      },\\n      {\\n        \"Damage\": \"2d2+1\",\\n        \"Energy\": 4.43,\\n        \"Health\": 3.12,\\n        \"Level\": 2,\\n        \"Name\": \"Skeletal Mage\",\\n        \"Rarity\": \"Rank 0\",\\n        \"Sanity\": 4.94,\\n        \"Time Stamp\": \"2022-03-31 07:23:55\",\\n        \"Type\": \"Undead\"\\n      },\\n      {\\n        \"Damage\": \"9d2\",\\n        \"Energy\": 17.83,\\n        \"Health\": 18.0,\\n        \"Level\": 9,\\n        \"Name\": \"Mummy Lord\",\\n        \"Rarity\": \"Rank 0\",\\n        \"Sanity\": 18.55,\\n        \"Time Stamp\": \"2022-03-31 07:23:55\",\\n        \"Type\": \"Undead\"\\n      },\\n      {\\n        \"Damage\": \"12d2+4\",\\n        \"Energy\": 23.24,\\n        \"Health\": 24.62,\\n        \"Level\": 12,\\n        \"Name\": \"Dracolich\",\\n        \"Rarity\": \"Rank 0\",\\n        \"Sanity\": 24.81,\\n        \"Time Stamp\": \"2022-03-31 07:23:55\",\\n        \"Type\": \"Undead\"\\n      },\\n      {\\n        \"Damage\": \"10d2+1\",\\n        \"Energy\": 19.5,\\n        \"Health\": 19.71,\\n        \"Level\": 10,\\n        \"Name\": \"Brass Drake\",\\n        \"Rarity\": \"Rank 0\",\\n        \"Sanity\": 19.02,\\n        \"Time Stamp\": \"2022-03-31 07:23:55\",\\n        \"Type\": \"Dragon\"\\n      },\\n      {\\n        \"Damage\": \"2d2\",\\n        \"Energy\": 3.33,\\n        \"Health\": 3.66,\\n        \"Level\": 2,\\n        \"Name\": \"Bronze Dragon\",\\n        \"Rarity\": \"Rank 0\",\\n        \"Sanity\": 4.02,\\n        \"Time Stamp\": \"2022-03-31 07:23:55\",\\n        \"Type\": \"Dragon\"\\n      },\\n      {\\n        \"Damage\": \"12d2\",\\n        \"Energy\": 24.82,\\n        \"Health\": 23.15,\\n        \"Level\": 12,\\n        \"Name\": \"Kobold Villager\",\\n        \"Rarity\": \"Rank 0\",\\n        \"Sanity\": 24.55,\\n        \"Time Stamp\": \"2022-03-31 07:23:55\",\\n        \"Type\": \"Devilkin\"\\n      },\\n      {\\n        \"Damage\": \"6d2+3\",\\n        \"Energy\": 12.94,\\n        \"Health\": 11.05,\\n        \"Level\": 6,\\n        \"Name\": \"Hook Horror\",\\n        \"Rarity\": \"Rank 0\",\\n        \"Sanity\": 11.95,\\n        \"Time Stamp\": \"2022-03-31 07:23:55\",\\n        \"Type\": \"Demonic\"\\n      },\\n      {\\n        \"Damage\": \"18d2+2\",\\n        \"Energy\": 36.69,\\n        \"Health\": 35.5,\\n        \"Level\": 18,\\n        \"Name\": \"Faerie Dragon\",\\n        \"Rarity\": \"Rank 0\",\\n        \"Sanity\": 36.74,\\n        \"Time Stamp\": \"2022-03-31 07:23:55\",\\n        \"Type\": \"Dragon\"\\n      },\\n      {\\n        \"Damage\": \"7d2\",\\n        \"Energy\": 13.93,\\n        \"Health\": 13.2,\\n        \"Level\": 7,\\n        \"Name\": \"Brass Drake\",\\n        \"Rarity\": \"Rank 0\",\\n        \"Sanity\": 13.27,\\n        \"Time Stamp\": \"2022-03-31 07:23:55\",\\n        \"Type\": \"Dragon\"\\n      },\\n      {\\n        \"Damage\": \"11d2\",\\n        \"Energy\": 22.87,\\n        \"Health\": 21.95,\\n        \"Level\": 11,\\n        \"Name\": \"Succubus\",\\n        \"Rarity\": \"Rank 0\",\\n        \"Sanity\": 22.58,\\n        \"Time Stamp\": \"2022-03-31 07:23:55\",\\n        \"Type\": \"Devilkin\"\\n      },\\n      {\\n        \"Damage\": \"3d2+2\",\\n        \"Energy\": 6.09,\\n        \"Health\": 6.24,\\n        \"Level\": 3,\\n        \"Name\": \"Djinni\",\\n        \"Rarity\": \"Rank 0\",\\n        \"Sanity\": 5.24,\\n        \"Time Stamp\": \"2022-03-31 07:23:55\",\\n        \"Type\": \"Elemental\"\\n      },\\n      {\\n        \"Damage\": \"10d2\",\\n        \"Energy\": 20.97,\\n        \"Health\": 20.2,\\n        \"Level\": 10,\\n        \"Name\": \"Bronze Faerie\",\\n        \"Rarity\": \"Rank 0\",\\n        \"Sanity\": 19.75,\\n        \"Time Stamp\": \"2022-03-31 07:23:55\",\\n        \"Type\": \"Fey\"\\n      },\\n      {\\n        \"Damage\": \"12d2+3\",\\n        \"Energy\": 23.95,\\n        \"Health\": 24.64,\\n        \"Level\": 12,\\n        \"Name\": \"Steam Mephit\",\\n        \"Rarity\": \"Rank 0\",\\n        \"Sanity\": 23.46,\\n        \"Time Stamp\": \"2022-03-31 07:23:55\",\\n        \"Type\": \"Elemental\"\\n      },\\n      {\\n        \"Damage\": \"11d2\",\\n        \"Energy\": 21.82,\\n        \"Health\": 21.18,\\n        \"Level\": 11,\\n        \"Name\": \"Lightning Mephit\",\\n        \"Rarity\": \"Rank 0\",\\n        \"Sanity\": 22.96,\\n        \"Time Stamp\": \"2022-03-31 07:23:55\",\\n        \"Type\": \"Elemental\"\\n      },\\n      {\\n        \"Damage\": \"5d2+1\",\\n        \"Energy\": 10.71,\\n        \"Health\": 9.01,\\n        \"Level\": 5,\\n        \"Name\": \"Balor\",\\n        \"Rarity\": \"Rank 0\",\\n        \"Sanity\": 10.61,\\n        \"Time Stamp\": \"2022-03-31 07:23:55\",\\n        \"Type\": \"Demonic\"\\n      },\\n      {\\n        \"Damage\": \"5d2+2\",\\n        \"Energy\": 10.85,\\n        \"Health\": 10.84,\\n        \"Level\": 5,\\n        \"Name\": \"Magma Elemental\",\\n        \"Rarity\": \"Rank 0\",\\n        \"Sanity\": 10.41,\\n        \"Time Stamp\": \"2022-03-31 07:23:55\",\\n        \"Type\": \"Elemental\"\\n      },\\n      {\\n        \"Damage\": \"13d2+2\",\\n        \"Energy\": 25.12,\\n        \"Health\": 25.65,\\n        \"Level\": 13,\\n        \"Name\": \"White Faerie\",\\n        \"Rarity\": \"Rank 0\",\\n        \"Sanity\": 25.28,\\n        \"Time Stamp\": \"2022-03-31 07:23:55\",\\n        \"Type\": \"Fey\"\\n      },\\n      {\\n        \"Damage\": \"7d2+2\",\\n        \"Energy\": 13.49,\\n        \"Health\": 13.67,\\n        \"Level\": 7,\\n        \"Name\": \"Lich\",\\n        \"Rarity\": \"Rank 0\",\\n        \"Sanity\": 14.09,\\n        \"Time Stamp\": \"2022-03-31 07:23:55\",\\n        \"Type\": \"Undead\"\\n      },\\n      {\\n        \"Damage\": \"5d2+2\",\\n        \"Energy\": 10.62,\\n        \"Health\": 10.24,\\n        \"Level\": 5,\\n        \"Name\": \"Wyvern\",\\n        \"Rarity\": \"Rank 0\",\\n        \"Sanity\": 9.18,\\n        \"Time Stamp\": \"2022-03-31 07:23:55\",\\n        \"Type\": \"Dragon\"\\n      },\\n      {\\n        \"Damage\": \"6d2+3\",\\n        \"Energy\": 11.73,\\n        \"Health\": 11.89,\\n        \"Level\": 6,\\n        \"Name\": \"Pit Fiend\",\\n        \"Rarity\": \"Rank 0\",\\n        \"Sanity\": 12.77,\\n        \"Time Stamp\": \"2022-03-31 07:23:55\",\\n        \"Type\": \"Demonic\"\\n      },\\n      {\\n        \"Damage\": \"4d2+3\",\\n        \"Energy\": 7.29,\\n        \"Health\": 8.31,\\n        \"Level\": 4,\\n        \"Name\": \"Sapphire Wyrmling\",\\n        \"Rarity\": \"Rank 0\",\\n        \"Sanity\": 8.41,\\n        \"Time Stamp\": \"2022-03-31 07:23:55\",\\n        \"Type\": \"Dragon\"\\n      },\\n      {\\n        \"Damage\": \"11d2+1\",\\n        \"Energy\": 22.83,\\n        \"Health\": 22.74,\\n        \"Level\": 11,\\n        \"Name\": \"Wraith\",\\n        \"Rarity\": \"Rank 0\",\\n        \"Sanity\": 22.01,\\n        \"Time Stamp\": \"2022-03-31 07:23:55\",\\n        \"Type\": \"Undead\"\\n      },\\n      {\\n        \"Damage\": \"14d2\",\\n        \"Energy\": 28.38,\\n        \"Health\": 28.32,\\n        \"Level\": 14,\\n        \"Name\": \"Mud Elemental\",\\n        \"Rarity\": \"Rank 0\",\\n        \"Sanity\": 28.58,\\n        \"Time Stamp\": \"2022-03-31 07:23:55\",\\n        \"Type\": \"Elemental\"\\n      },\\n      {\\n        \"Damage\": \"2d2+2\",\\n        \"Energy\": 3.28,\\n        \"Health\": 3.31,\\n        \"Level\": 2,\\n        \"Name\": \"Vampire\",\\n        \"Rarity\": \"Rank 0\",\\n        \"Sanity\": 4.35,\\n        \"Time Stamp\": \"2022-03-31 07:23:55\",\\n        \"Type\": \"Undead\"\\n      },\\n      {\\n        \"Damage\": \"6d2+1\",\\n        \"Energy\": 12.84,\\n        \"Health\": 11.63,\\n        \"Level\": 6,\\n        \"Name\": \"Hook Horror\",\\n        \"Rarity\": \"Rank 0\",\\n        \"Sanity\": 11.2,\\n        \"Time Stamp\": \"2022-03-31 07:23:55\",\\n        \"Type\": \"Demonic\"\\n      },\\n      {\\n        \"Damage\": \"8d2+2\",\\n        \"Energy\": 16.12,\\n        \"Health\": 16.67,\\n        \"Level\": 8,\\n        \"Name\": \"Succubus\",\\n        \"Rarity\": \"Rank 0\",\\n        \"Sanity\": 16.98,\\n        \"Time Stamp\": \"2022-03-31 07:23:55\",\\n        \"Type\": \"Devilkin\"\\n      },\\n      {\\n        \"Damage\": \"3d2+1\",\\n        \"Energy\": 5.53,\\n        \"Health\": 5.01,\\n        \"Level\": 3,\\n        \"Name\": \"Wyvern\",\\n        \"Rarity\": \"Rank 0\",\\n        \"Sanity\": 5.76,\\n        \"Time Stamp\": \"2022-03-31 07:23:55\",\\n        \"Type\": \"Dragon\"\\n      },\\n      {\\n        \"Damage\": \"17d2+2\",\\n        \"Energy\": 33.93,\\n        \"Health\": 33.28,\\n        \"Level\": 17,\\n        \"Name\": \"Pit Lord\",\\n        \"Rarity\": \"Rank 0\",\\n        \"Sanity\": 33.45,\\n        \"Time Stamp\": \"2022-03-31 07:23:55\",\\n        \"Type\": \"Devilkin\"\\n      },\\n      {\\n        \"Damage\": \"16d2+2\",\\n        \"Energy\": 31.4,\\n        \"Health\": 31.98,\\n        \"Level\": 16,\\n        \"Name\": \"Pseudodragon\",\\n        \"Rarity\": \"Rank 0\",\\n        \"Sanity\": 32.57,\\n        \"Time Stamp\": \"2022-03-31 07:23:55\",\\n        \"Type\": \"Dragon\"\\n      },\\n      {\\n        \"Damage\": \"11d2+5\",\\n        \"Energy\": 22.78,\\n        \"Health\": 21.29,\\n        \"Level\": 11,\\n        \"Name\": \"Wraith\",\\n        \"Rarity\": \"Rank 0\",\\n        \"Sanity\": 22.54,\\n        \"Time Stamp\": \"2022-03-31 07:23:55\",\\n        \"Type\": \"Undead\"\\n      },\\n      {\\n        \"Damage\": \"8d2+3\",\\n        \"Energy\": 15.85,\\n        \"Health\": 15.82,\\n        \"Level\": 8,\\n        \"Name\": \"Quasit\",\\n        \"Rarity\": \"Rank 0\",\\n        \"Sanity\": 15.38,\\n        \"Time Stamp\": \"2022-03-31 07:23:55\",\\n        \"Type\": \"Demonic\"\\n      },\\n      {\\n        \"Damage\": \"11d2\",\\n        \"Energy\": 21.39,\\n        \"Health\": 21.99,\\n        \"Level\": 11,\\n        \"Name\": \"Mud Archfey\",\\n        \"Rarity\": \"Rank 0\",\\n        \"Sanity\": 21.28,\\n        \"Time Stamp\": \"2022-03-31 07:23:55\",\\n        \"Type\": \"Fey\"\\n      },\\n      {\\n        \"Damage\": \"4d2+2\",\\n        \"Energy\": 8.76,\\n        \"Health\": 7.89,\\n        \"Level\": 4,\\n        \"Name\": \"Brass Wyrmling\",\\n        \"Rarity\": \"Rank 0\",\\n        \"Sanity\": 7.06,\\n        \"Time Stamp\": \"2022-03-31 07:23:55\",\\n        \"Type\": \"Dragon\"\\n      },\\n      {\\n        \"Damage\": \"2d2+4\",\\n        \"Energy\": 3.55,\\n        \"Health\": 3.83,\\n        \"Level\": 2,\\n        \"Name\": \"Djinni\",\\n        \"Rarity\": \"Rank 0\",\\n        \"Sanity\": 3.48,\\n        \"Time Stamp\": \"2022-03-31 07:23:55\",\\n        \"Type\": \"Elemental\"\\n      },\\n      {\\n        \"Damage\": \"8d2+1\",\\n        \"Energy\": 15.6,\\n        \"Health\": 16.75,\\n        \"Level\": 8,\\n        \"Name\": \"Mummy\",\\n        \"Rarity\": \"Rank 0\",\\n        \"Sanity\": 15.92,\\n        \"Time Stamp\": \"2022-03-31 07:23:55\",\\n        \"Type\": \"Undead\"\\n      },\\n      {\\n        \"Damage\": \"3d2+2\",\\n        \"Energy\": 6.66,\\n        \"Health\": 5.21,\\n        \"Level\": 3,\\n        \"Name\": \"Lightning Spirit\",\\n        \"Rarity\": \"Rank 0\",\\n        \"Sanity\": 6.36,\\n        \"Time Stamp\": \"2022-03-31 07:23:55\",\\n        \"Type\": \"Fey\"\\n      },\\n      {\\n        \"Damage\": \"9d2\",\\n        \"Energy\": 18.16,\\n        \"Health\": 18.12,\\n        \"Level\": 9,\\n        \"Name\": \"Wyvern\",\\n        \"Rarity\": \"Rank 0\",\\n        \"Sanity\": 18.15,\\n        \"Time Stamp\": \"2022-03-31 07:23:55\",\\n        \"Type\": \"Dragon\"\\n      },\\n      {\\n        \"Damage\": \"12d2+2\",\\n        \"Energy\": 23.57,\\n        \"Health\": 24.55,\\n        \"Level\": 12,\\n        \"Name\": \"Lich\",\\n        \"Rarity\": \"Rank 0\",\\n        \"Sanity\": 24.39,\\n        \"Time Stamp\": \"2022-03-31 07:23:55\",\\n        \"Type\": \"Undead\"\\n      },\\n      {\\n        \"Damage\": \"6d2\",\\n        \"Energy\": 12.51,\\n        \"Health\": 12.5,\\n        \"Level\": 6,\\n        \"Name\": \"Prince of Fear\",\\n        \"Rarity\": \"Rank 0\",\\n        \"Sanity\": 11.79,\\n        \"Time Stamp\": \"2022-03-31 07:23:55\",\\n        \"Type\": \"Devilkin\"\\n      },\\n      {\\n        \"Damage\": \"2d2\",\\n        \"Energy\": 4.04,\\n        \"Health\": 3.29,\\n        \"Level\": 2,\\n        \"Name\": \"Demilich\",\\n        \"Rarity\": \"Rank 0\",\\n        \"Sanity\": 3.45,\\n        \"Time Stamp\": \"2022-03-31 07:23:55\",\\n        \"Type\": \"Undead\"\\n      },\\n      {\\n        \"Damage\": \"6d2+2\",\\n        \"Energy\": 11.28,\\n        \"Health\": 11.44,\\n        \"Level\": 6,\\n        \"Name\": \"Zombie Villager\",\\n        \"Rarity\": \"Rank 0\",\\n        \"Sanity\": 12.53,\\n        \"Time Stamp\": \"2022-03-31 07:23:55\",\\n        \"Type\": \"Undead\"\\n      },\\n      {\\n        \"Damage\": \"13d2+4\",\\n        \"Energy\": 26.86,\\n        \"Health\": 25.33,\\n        \"Level\": 13,\\n        \"Name\": \"Prismatic Drake\",\\n        \"Rarity\": \"Rank 0\",\\n        \"Sanity\": 26.14,\\n        \"Time Stamp\": \"2022-03-31 07:23:55\",\\n        \"Type\": \"Dragon\"\\n      },\\n      {\\n        \"Damage\": \"13d2+1\",\\n        \"Energy\": 26.77,\\n        \"Health\": 25.41,\\n        \"Level\": 13,\\n        \"Name\": \"Hook Horror\",\\n        \"Rarity\": \"Rank 0\",\\n        \"Sanity\": 26.03,\\n        \"Time Stamp\": \"2022-03-31 07:23:55\",\\n        \"Type\": \"Demonic\"\\n      },\\n      {\\n        \"Damage\": \"11d2+1\",\\n        \"Energy\": 21.29,\\n        \"Health\": 22.4,\\n        \"Level\": 11,\\n        \"Name\": \"Platinum Faerie\",\\n        \"Rarity\": \"Rank 0\",\\n        \"Sanity\": 21.14,\\n        \"Time Stamp\": \"2022-03-31 07:23:55\",\\n        \"Type\": \"Fey\"\\n      },\\n      {\\n        \"Damage\": \"8d2+3\",\\n        \"Energy\": 15.35,\\n        \"Health\": 16.54,\\n        \"Level\": 8,\\n        \"Name\": \"Hell Hound\",\\n        \"Rarity\": \"Rank 0\",\\n        \"Sanity\": 15.63,\\n        \"Time Stamp\": \"2022-03-31 07:23:55\",\\n        \"Type\": \"Demonic\"\\n      },\\n      {\\n        \"Damage\": \"7d2\",\\n        \"Energy\": 14.1,\\n        \"Health\": 13.4,\\n        \"Level\": 7,\\n        \"Name\": \"Efreeti\",\\n        \"Rarity\": \"Rank 0\",\\n        \"Sanity\": 13.33,\\n        \"Time Stamp\": \"2022-03-31 07:23:55\",\\n        \"Type\": \"Elemental\"\\n      },\\n      {\\n        \"Damage\": \"7d2+1\",\\n        \"Energy\": 14.19,\\n        \"Health\": 14.86,\\n        \"Level\": 7,\\n        \"Name\": \"Zombie Mage\",\\n        \"Rarity\": \"Rank 0\",\\n        \"Sanity\": 13.21,\\n        \"Time Stamp\": \"2022-03-31 07:23:55\",\\n        \"Type\": \"Undead\"\\n      },\\n      {\\n        \"Damage\": \"8d2+1\",\\n        \"Energy\": 16.47,\\n        \"Health\": 15.14,\\n        \"Level\": 8,\\n        \"Name\": \"Incubus\",\\n        \"Rarity\": \"Rank 0\",\\n        \"Sanity\": 15.42,\\n        \"Time Stamp\": \"2022-03-31 07:23:55\",\\n        \"Type\": \"Devilkin\"\\n      },\\n      {\\n        \"Damage\": \"8d2+1\",\\n        \"Energy\": 15.4,\\n        \"Health\": 16.15,\\n        \"Level\": 8,\\n        \"Name\": \"Kobold Archer\",\\n        \"Rarity\": \"Rank 0\",\\n        \"Sanity\": 15.98,\\n        \"Time Stamp\": \"2022-03-31 07:23:55\",\\n        \"Type\": \"Devilkin\"\\n      },\\n      {\\n        \"Damage\": \"5d2+2\",\\n        \"Energy\": 9.2,\\n        \"Health\": 10.92,\\n        \"Level\": 5,\\n        \"Name\": \"Green Faerie\",\\n        \"Rarity\": \"Rank 0\",\\n        \"Sanity\": 9.02,\\n        \"Time Stamp\": \"2022-03-31 07:23:55\",\\n        \"Type\": \"Fey\"\\n      },\\n      {\\n        \"Damage\": \"10d2+4\",\\n        \"Energy\": 20.79,\\n        \"Health\": 19.36,\\n        \"Level\": 10,\\n        \"Name\": \"Balor\",\\n        \"Rarity\": \"Rank 0\",\\n        \"Sanity\": 20.93,\\n        \"Time Stamp\": \"2022-03-31 07:23:55\",\\n        \"Type\": \"Demonic\"\\n      },\\n      {\\n        \"Damage\": \"2d2+2\",\\n        \"Energy\": 4.38,\\n        \"Health\": 3.31,\\n        \"Level\": 2,\\n        \"Name\": \"Brass Faerie\",\\n        \"Rarity\": \"Rank 0\",\\n        \"Sanity\": 3.25,\\n        \"Time Stamp\": \"2022-03-31 07:23:55\",\\n        \"Type\": \"Fey\"\\n      },\\n      {\\n        \"Damage\": \"7d2\",\\n        \"Energy\": 14.21,\\n        \"Health\": 13.32,\\n        \"Level\": 7,\\n        \"Name\": \"Platinum Drake\",\\n        \"Rarity\": \"Rank 0\",\\n        \"Sanity\": 14.43,\\n        \"Time Stamp\": \"2022-03-31 07:23:55\",\\n        \"Type\": \"Dragon\"\\n      },\\n      {\\n        \"Damage\": \"3d2+5\",\\n        \"Energy\": 6.76,\\n        \"Health\": 6.62,\\n        \"Level\": 3,\\n        \"Name\": \"White Demon\",\\n        \"Rarity\": \"Rank 0\",\\n        \"Sanity\": 6.07,\\n        \"Time Stamp\": \"2022-03-31 07:23:55\",\\n        \"Type\": \"Demonic\"\\n      },\\n      {\\n        \"Damage\": \"9d2+5\",\\n        \"Energy\": 18.63,\\n        \"Health\": 17.99,\\n        \"Level\": 9,\\n        \"Name\": \"Efreeti\",\\n        \"Rarity\": \"Rank 0\",\\n        \"Sanity\": 18.74,\\n        \"Time Stamp\": \"2022-03-31 07:23:55\",\\n        \"Type\": \"Elemental\"\\n      },\\n      {\\n        \"Damage\": \"9d2+1\",\\n        \"Energy\": 18.25,\\n        \"Health\": 17.12,\\n        \"Level\": 9,\\n        \"Name\": \"Pseudodragon\",\\n        \"Rarity\": \"Rank 0\",\\n        \"Sanity\": 18.46,\\n        \"Time Stamp\": \"2022-03-31 07:23:55\",\\n        \"Type\": \"Dragon\"\\n      },\\n      {\\n        \"Damage\": \"2d2+5\",\\n        \"Energy\": 3.69,\\n        \"Health\": 4.15,\\n        \"Level\": 2,\\n        \"Name\": \"Pit Lord\",\\n        \"Rarity\": \"Rank 0\",\\n        \"Sanity\": 4.79,\\n        \"Time Stamp\": \"2022-03-31 07:23:55\",\\n        \"Type\": \"Devilkin\"\\n      },\\n      {\\n        \"Damage\": \"8d2+2\",\\n        \"Energy\": 15.69,\\n        \"Health\": 16.03,\\n        \"Level\": 8,\\n        \"Name\": \"Poltergeist\",\\n        \"Rarity\": \"Rank 0\",\\n        \"Sanity\": 15.1,\\n        \"Time Stamp\": \"2022-03-31 07:23:55\",\\n        \"Type\": \"Undead\"\\n      },\\n      {\\n        \"Damage\": \"15d2\",\\n        \"Energy\": 30.17,\\n        \"Health\": 29.55,\\n        \"Level\": 15,\\n        \"Name\": \"Smoke Devil\",\\n        \"Rarity\": \"Rank 0\",\\n        \"Sanity\": 30.09,\\n        \"Time Stamp\": \"2022-03-31 07:23:55\",\\n        \"Type\": \"Devilkin\"\\n      },\\n      {\\n        \"Damage\": \"7d2\",\\n        \"Energy\": 13.7,\\n        \"Health\": 13.97,\\n        \"Level\": 7,\\n        \"Name\": \"Pseudodragon\",\\n        \"Rarity\": \"Rank 0\",\\n        \"Sanity\": 14.25,\\n        \"Time Stamp\": \"2022-03-31 07:23:55\",\\n        \"Type\": \"Dragon\"\\n      },\\n      {\\n        \"Damage\": \"6d2+1\",\\n        \"Energy\": 12.91,\\n        \"Health\": 12.13,\\n        \"Level\": 6,\\n        \"Name\": \"Efreeti\",\\n        \"Rarity\": \"Rank 0\",\\n        \"Sanity\": 12.71,\\n        \"Time Stamp\": \"2022-03-31 07:23:55\",\\n        \"Type\": \"Elemental\"\\n      },\\n      {\\n        \"Damage\": \"3d2+1\",\\n        \"Energy\": 6.94,\\n        \"Health\": 6.22,\\n        \"Level\": 3,\\n        \"Name\": \"Kobold Archer\",\\n        \"Rarity\": \"Rank 0\",\\n        \"Sanity\": 6.76,\\n        \"Time Stamp\": \"2022-03-31 07:23:55\",\\n        \"Type\": \"Devilkin\"\\n      },\\n      {\\n        \"Damage\": \"2d2\",\\n        \"Energy\": 4.84,\\n        \"Health\": 4.86,\\n        \"Level\": 2,\\n        \"Name\": \"Pseudodragon\",\\n        \"Rarity\": \"Rank 0\",\\n        \"Sanity\": 3.33,\\n        \"Time Stamp\": \"2022-03-31 07:23:55\",\\n        \"Type\": \"Dragon\"\\n      },\\n      {\\n        \"Damage\": \"10d2+1\",\\n        \"Energy\": 20.79,\\n        \"Health\": 20.44,\\n        \"Level\": 10,\\n        \"Name\": \"Djinni\",\\n        \"Rarity\": \"Rank 0\",\\n        \"Sanity\": 20.55,\\n        \"Time Stamp\": \"2022-03-31 07:23:55\",\\n        \"Type\": \"Elemental\"\\n      },\\n      {\\n        \"Damage\": \"10d2+1\",\\n        \"Energy\": 20.16,\\n        \"Health\": 20.77,\\n        \"Level\": 10,\\n        \"Name\": \"Steam Spirit\",\\n        \"Rarity\": \"Rank 0\",\\n        \"Sanity\": 20.98,\\n        \"Time Stamp\": \"2022-03-31 07:23:55\",\\n        \"Type\": \"Fey\"\\n      },\\n      {\\n        \"Damage\": \"2d2+1\",\\n        \"Energy\": 4.8,\\n        \"Health\": 3.81,\\n        \"Level\": 2,\\n        \"Name\": \"Pit Fiend\",\\n        \"Rarity\": \"Rank 0\",\\n        \"Sanity\": 3.04,\\n        \"Time Stamp\": \"2022-03-31 07:23:55\",\\n        \"Type\": \"Demonic\"\\n      },\\n      {\\n        \"Damage\": \"12d2\",\\n        \"Energy\": 24.6,\\n        \"Health\": 23.89,\\n        \"Level\": 12,\\n        \"Name\": \"Red Wyrmling\",\\n        \"Rarity\": \"Rank 0\",\\n        \"Sanity\": 24.36,\\n        \"Time Stamp\": \"2022-03-31 07:23:55\",\\n        \"Type\": \"Dragon\"\\n      },\\n      {\\n        \"Damage\": \"4d2+2\",\\n        \"Energy\": 7.59,\\n        \"Health\": 8.83,\\n        \"Level\": 4,\\n        \"Name\": \"Copper Faerie\",\\n        \"Rarity\": \"Rank 0\",\\n        \"Sanity\": 8.54,\\n        \"Time Stamp\": \"2022-03-31 07:23:55\",\\n        \"Type\": \"Fey\"\\n      },\\n      {\\n        \"Damage\": \"5d2+1\",\\n        \"Energy\": 10.32,\\n        \"Health\": 9.57,\\n        \"Level\": 5,\\n        \"Name\": \"White Archfey\",\\n        \"Rarity\": \"Rank 0\",\\n        \"Sanity\": 9.12,\\n        \"Time Stamp\": \"2022-03-31 07:23:55\",\\n        \"Type\": \"Fey\"\\n      },\\n      {\\n        \"Damage\": \"5d2\",\\n        \"Energy\": 9.7,\\n        \"Health\": 9.95,\\n        \"Level\": 5,\\n        \"Name\": \"Pit Lord\",\\n        \"Rarity\": \"Rank 0\",\\n        \"Sanity\": 9.9,\\n        \"Time Stamp\": \"2022-03-31 07:23:55\",\\n        \"Type\": \"Devilkin\"\\n      },\\n      {\\n        \"Damage\": \"12d2+1\",\\n        \"Energy\": 24.14,\\n        \"Health\": 24.87,\\n        \"Level\": 12,\\n        \"Name\": \"Efreeti\",\\n        \"Rarity\": \"Rank 0\",\\n        \"Sanity\": 24.86,\\n        \"Time Stamp\": \"2022-03-31 07:23:55\",\\n        \"Type\": \"Elemental\"\\n      },\\n      {\\n        \"Damage\": \"4d2\",\\n        \"Energy\": 8.8,\\n        \"Health\": 7.83,\\n        \"Level\": 4,\\n        \"Name\": \"Poltergeist\",\\n        \"Rarity\": \"Rank 0\",\\n        \"Sanity\": 8.09,\\n        \"Time Stamp\": \"2022-03-31 07:23:55\",\\n        \"Type\": \"Undead\"\\n      },\\n      {\\n        \"Damage\": \"6d2+1\",\\n        \"Energy\": 12.49,\\n        \"Health\": 12.03,\\n        \"Level\": 6,\\n        \"Name\": \"Silver Drake\",\\n        \"Rarity\": \"Rank 0\",\\n        \"Sanity\": 11.58,\\n        \"Time Stamp\": \"2022-03-31 07:23:55\",\\n        \"Type\": \"Dragon\"\\n      },\\n      {\\n        \"Damage\": \"11d2+3\",\\n        \"Energy\": 21.22,\\n        \"Health\": 21.07,\\n        \"Level\": 11,\\n        \"Name\": \"Black Faerie\",\\n        \"Rarity\": \"Rank 0\",\\n        \"Sanity\": 22.29,\\n        \"Time Stamp\": \"2022-03-31 07:23:55\",\\n        \"Type\": \"Fey\"\\n      },\\n      {\\n        \"Damage\": \"7d2\",\\n        \"Energy\": 13.27,\\n        \"Health\": 14.53,\\n        \"Level\": 7,\\n        \"Name\": \"Goblin Villager\",\\n        \"Rarity\": \"Rank 0\",\\n        \"Sanity\": 13.16,\\n        \"Time Stamp\": \"2022-03-31 07:23:55\",\\n        \"Type\": \"Devilkin\"\\n      },\\n      {\\n        \"Damage\": \"16d2+1\",\\n        \"Energy\": 32.04,\\n        \"Health\": 31.28,\\n        \"Level\": 16,\\n        \"Name\": \"Mummy\",\\n        \"Rarity\": \"Rank 0\",\\n        \"Sanity\": 31.95,\\n        \"Time Stamp\": \"2022-03-31 07:23:55\",\\n        \"Type\": \"Undead\"\\n      },\\n      {\\n        \"Damage\": \"2d2+2\",\\n        \"Energy\": 4.38,\\n        \"Health\": 3.77,\\n        \"Level\": 2,\\n        \"Name\": \"Spore Devil\",\\n        \"Rarity\": \"Rank 0\",\\n        \"Sanity\": 3.36,\\n        \"Time Stamp\": \"2022-03-31 07:23:55\",\\n        \"Type\": \"Devilkin\"\\n      },\\n      {\\n        \"Damage\": \"4d2\",\\n        \"Energy\": 7.18,\\n        \"Health\": 7.63,\\n        \"Level\": 4,\\n        \"Name\": \"Mud Spirit\",\\n        \"Rarity\": \"Rank 0\",\\n        \"Sanity\": 7.51,\\n        \"Time Stamp\": \"2022-03-31 07:23:55\",\\n        \"Type\": \"Fey\"\\n      },\\n      {\\n        \"Damage\": \"8d2+2\",\\n        \"Energy\": 15.14,\\n        \"Health\": 16.87,\\n        \"Level\": 8,\\n        \"Name\": \"Wraith\",\\n        \"Rarity\": \"Rank 0\",\\n        \"Sanity\": 15.12,\\n        \"Time Stamp\": \"2022-03-31 07:23:55\",\\n        \"Type\": \"Undead\"\\n      },\\n      {\\n        \"Damage\": \"18d2+4\",\\n        \"Energy\": 36.13,\\n        \"Health\": 36.33,\\n        \"Level\": 18,\\n        \"Name\": \"Gold Faerie\",\\n        \"Rarity\": \"Rank 0\",\\n        \"Sanity\": 36.88,\\n        \"Time Stamp\": \"2022-03-31 07:23:55\",\\n        \"Type\": \"Fey\"\\n      },\\n      {\\n        \"Damage\": \"3d2+3\",\\n        \"Energy\": 6.03,\\n        \"Health\": 5.14,\\n        \"Level\": 3,\\n        \"Name\": \"Pit Fiend\",\\n        \"Rarity\": \"Rank 0\",\\n        \"Sanity\": 6.54,\\n        \"Time Stamp\": \"2022-03-31 07:23:55\",\\n        \"Type\": \"Demonic\"\\n      },\\n      {\\n        \"Damage\": \"7d2\",\\n        \"Energy\": 14.35,\\n        \"Health\": 14.1,\\n        \"Level\": 7,\\n        \"Name\": \"Pit Fiend\",\\n        \"Rarity\": \"Rank 0\",\\n        \"Sanity\": 14.82,\\n        \"Time Stamp\": \"2022-03-31 07:23:55\",\\n        \"Type\": \"Demonic\"\\n      },\\n      {\\n        \"Damage\": \"6d2+3\",\\n        \"Energy\": 12.45,\\n        \"Health\": 11.91,\\n        \"Level\": 6,\\n        \"Name\": \"Mummy Lord\",\\n        \"Rarity\": \"Rank 0\",\\n        \"Sanity\": 12.08,\\n        \"Time Stamp\": \"2022-03-31 07:23:55\",\\n        \"Type\": \"Undead\"\\n      },\\n      {\\n        \"Damage\": \"11d2+2\",\\n        \"Energy\": 21.9,\\n        \"Health\": 21.71,\\n        \"Level\": 11,\\n        \"Name\": \"Lightning Elemental\",\\n        \"Rarity\": \"Rank 0\",\\n        \"Sanity\": 21.74,\\n        \"Time Stamp\": \"2022-03-31 07:23:55\",\\n        \"Type\": \"Elemental\"\\n      },\\n      {\\n        \"Damage\": \"3d2+2\",\\n        \"Energy\": 6.77,\\n        \"Health\": 6.69,\\n        \"Level\": 3,\\n        \"Name\": \"Pseudodragon\",\\n        \"Rarity\": \"Rank 0\",\\n        \"Sanity\": 6.19,\\n        \"Time Stamp\": \"2022-03-31 07:23:55\",\\n        \"Type\": \"Dragon\"\\n      },\\n      {\\n        \"Damage\": \"8d2+4\",\\n        \"Energy\": 16.01,\\n        \"Health\": 15.38,\\n        \"Level\": 8,\\n        \"Name\": \"Spore Archfey\",\\n        \"Rarity\": \"Rank 0\",\\n        \"Sanity\": 16.37,\\n        \"Time Stamp\": \"2022-03-31 07:23:55\",\\n        \"Type\": \"Fey\"\\n      },\\n      {\\n        \"Damage\": \"12d2+3\",\\n        \"Energy\": 23.33,\\n        \"Health\": 24.64,\\n        \"Level\": 12,\\n        \"Name\": \"Poltergeist\",\\n        \"Rarity\": \"Rank 0\",\\n        \"Sanity\": 23.11,\\n        \"Time Stamp\": \"2022-03-31 07:23:55\",\\n        \"Type\": \"Undead\"\\n      },\\n      {\\n        \"Damage\": \"7d2+3\",\\n        \"Energy\": 13.17,\\n        \"Health\": 14.52,\\n        \"Level\": 7,\\n        \"Name\": \"Kobold Guard\",\\n        \"Rarity\": \"Rank 0\",\\n        \"Sanity\": 13.56,\\n        \"Time Stamp\": \"2022-03-31 07:23:55\",\\n        \"Type\": \"Devilkin\"\\n      },\\n      {\\n        \"Damage\": \"8d2\",\\n        \"Energy\": 15.78,\\n        \"Health\": 15.6,\\n        \"Level\": 8,\\n        \"Name\": \"Pit Lord\",\\n        \"Rarity\": \"Rank 0\",\\n        \"Sanity\": 16.99,\\n        \"Time Stamp\": \"2022-03-31 07:23:55\",\\n        \"Type\": \"Devilkin\"\\n      },\\n      {\\n        \"Damage\": \"3d2\",\\n        \"Energy\": 6.32,\\n        \"Health\": 6.06,\\n        \"Level\": 3,\\n        \"Name\": \"Copper Wyrmling\",\\n        \"Rarity\": \"Rank 0\",\\n        \"Sanity\": 6.5,\\n        \"Time Stamp\": \"2022-03-31 07:23:55\",\\n        \"Type\": \"Dragon\"\\n      },\\n      {\\n        \"Damage\": \"5d2+2\",\\n        \"Energy\": 9.53,\\n        \"Health\": 9.46,\\n        \"Level\": 5,\\n        \"Name\": \"Ghoul\",\\n        \"Rarity\": \"Rank 0\",\\n        \"Sanity\": 9.54,\\n        \"Time Stamp\": \"2022-03-31 07:23:55\",\\n        \"Type\": \"Undead\"\\n      },\\n      {\\n        \"Damage\": \"11d2+4\",\\n        \"Energy\": 21.48,\\n        \"Health\": 21.52,\\n        \"Level\": 11,\\n        \"Name\": \"Pseudodragon\",\\n        \"Rarity\": \"Rank 0\",\\n        \"Sanity\": 22.49,\\n        \"Time Stamp\": \"2022-03-31 07:23:55\",\\n        \"Type\": \"Dragon\"\\n      },\\n      {\\n        \"Damage\": \"13d2\",\\n        \"Energy\": 26.63,\\n        \"Health\": 26.84,\\n        \"Level\": 13,\\n        \"Name\": \"Mud Mephit\",\\n        \"Rarity\": \"Rank 0\",\\n        \"Sanity\": 26.01,\\n        \"Time Stamp\": \"2022-03-31 07:23:55\",\\n        \"Type\": \"Elemental\"\\n      },\\n      {\\n        \"Damage\": \"7d2+3\",\\n        \"Energy\": 13.9,\\n        \"Health\": 14.8,\\n        \"Level\": 7,\\n        \"Name\": \"Diamond Demon\",\\n        \"Rarity\": \"Rank 0\",\\n        \"Sanity\": 14.59,\\n        \"Time Stamp\": \"2022-03-31 07:23:55\",\\n        \"Type\": \"Demonic\"\\n      },\\n      {\\n        \"Damage\": \"9d2+1\",\\n        \"Energy\": 17.94,\\n        \"Health\": 17.01,\\n        \"Level\": 9,\\n        \"Name\": \"Efreeti\",\\n        \"Rarity\": \"Rank 0\",\\n        \"Sanity\": 17.22,\\n        \"Time Stamp\": \"2022-03-31 07:23:55\",\\n        \"Type\": \"Elemental\"\\n      },\\n      {\\n        \"Damage\": \"7d2+1\",\\n        \"Energy\": 13.95,\\n        \"Health\": 13.61,\\n        \"Level\": 7,\\n        \"Name\": \"Ice Spirit\",\\n        \"Rarity\": \"Rank 0\",\\n        \"Sanity\": 13.19,\\n        \"Time Stamp\": \"2022-03-31 07:23:55\",\\n        \"Type\": \"Fey\"\\n      },\\n      {\\n        \"Damage\": \"14d2+4\",\\n        \"Energy\": 28.36,\\n        \"Health\": 27.39,\\n        \"Level\": 14,\\n        \"Name\": \"Bronze Drake\",\\n        \"Rarity\": \"Rank 0\",\\n        \"Sanity\": 28.63,\\n        \"Time Stamp\": \"2022-03-31 07:23:55\",\\n        \"Type\": \"Dragon\"\\n      },\\n      {\\n        \"Damage\": \"7d2+1\",\\n        \"Energy\": 13.02,\\n        \"Health\": 13.9,\\n        \"Level\": 7,\\n        \"Name\": \"Spore Spirit\",\\n        \"Rarity\": \"Rank 0\",\\n        \"Sanity\": 14.29,\\n        \"Time Stamp\": \"2022-03-31 07:23:55\",\\n        \"Type\": \"Fey\"\\n      },\\n      {\\n        \"Damage\": \"4d2+4\",\\n        \"Energy\": 7.53,\\n        \"Health\": 7.74,\\n        \"Level\": 4,\\n        \"Name\": \"Smoke Elemental\",\\n        \"Rarity\": \"Rank 0\",\\n        \"Sanity\": 8.48,\\n        \"Time Stamp\": \"2022-03-31 07:23:55\",\\n        \"Type\": \"Elemental\"\\n      },\\n      {\\n        \"Damage\": \"11d2+3\",\\n        \"Energy\": 21.26,\\n        \"Health\": 22.42,\\n        \"Level\": 11,\\n        \"Name\": \"Imp\",\\n        \"Rarity\": \"Rank 0\",\\n        \"Sanity\": 22.65,\\n        \"Time Stamp\": \"2022-03-31 07:23:55\",\\n        \"Type\": \"Demonic\"\\n      },\\n      {\\n        \"Damage\": \"7d2\",\\n        \"Energy\": 13.36,\\n        \"Health\": 14.12,\\n        \"Level\": 7,\\n        \"Name\": \"Flame Mephit\",\\n        \"Rarity\": \"Rank 0\",\\n        \"Sanity\": 13.9,\\n        \"Time Stamp\": \"2022-03-31 07:23:55\",\\n        \"Type\": \"Elemental\"\\n      },\\n      {\\n        \"Damage\": \"10d2\",\\n        \"Energy\": 19.35,\\n        \"Health\": 20.48,\\n        \"Level\": 10,\\n        \"Name\": \"Prince of Fear\",\\n        \"Rarity\": \"Rank 0\",\\n        \"Sanity\": 19.14,\\n        \"Time Stamp\": \"2022-03-31 07:23:55\",\\n        \"Type\": \"Devilkin\"\\n      },\\n      {\\n        \"Damage\": \"14d2\",\\n        \"Energy\": 28.93,\\n        \"Health\": 28.69,\\n        \"Level\": 14,\\n        \"Name\": \"Dust Mephit\",\\n        \"Rarity\": \"Rank 0\",\\n        \"Sanity\": 27.97,\\n        \"Time Stamp\": \"2022-03-31 07:23:55\",\\n        \"Type\": \"Elemental\"\\n      },\\n      {\\n        \"Damage\": \"3d2+4\",\\n        \"Energy\": 5.05,\\n        \"Health\": 6.55,\\n        \"Level\": 3,\\n        \"Name\": \"Wyvern\",\\n        \"Rarity\": \"Rank 0\",\\n        \"Sanity\": 6.69,\\n        \"Time Stamp\": \"2022-03-31 07:23:55\",\\n        \"Type\": \"Dragon\"\\n      },\\n      {\\n        \"Damage\": \"5d2+2\",\\n        \"Energy\": 9.31,\\n        \"Health\": 9.26,\\n        \"Level\": 5,\\n        \"Name\": \"Zombie Mage\",\\n        \"Rarity\": \"Rank 0\",\\n        \"Sanity\": 10.07,\\n        \"Time Stamp\": \"2022-03-31 07:23:55\",\\n        \"Type\": \"Undead\"\\n      },\\n      {\\n        \"Damage\": \"7d2+1\",\\n        \"Energy\": 13.37,\\n        \"Health\": 14.07,\\n        \"Level\": 7,\\n        \"Name\": \"Goblin Guard\",\\n        \"Rarity\": \"Rank 0\",\\n        \"Sanity\": 13.39,\\n        \"Time Stamp\": \"2022-03-31 07:23:55\",\\n        \"Type\": \"Devilkin\"\\n      },\\n      {\\n        \"Damage\": \"11d2+2\",\\n        \"Energy\": 22.84,\\n        \"Health\": 22.01,\\n        \"Level\": 11,\\n        \"Name\": \"Lightning Archfey\",\\n        \"Rarity\": \"Rank 0\",\\n        \"Sanity\": 21.79,\\n        \"Time Stamp\": \"2022-03-31 07:23:55\",\\n        \"Type\": \"Fey\"\\n      },\\n      {\\n        \"Damage\": \"7d2+1\",\\n        \"Energy\": 13.32,\\n        \"Health\": 13.85,\\n        \"Level\": 7,\\n        \"Name\": \"Succubus\",\\n        \"Rarity\": \"Rank 0\",\\n        \"Sanity\": 13.27,\\n        \"Time Stamp\": \"2022-03-31 07:23:55\",\\n        \"Type\": \"Devilkin\"\\n      },\\n      {\\n        \"Damage\": \"4d2+1\",\\n        \"Energy\": 8.43,\\n        \"Health\": 8.38,\\n        \"Level\": 4,\\n        \"Name\": \"White Dragon\",\\n        \"Rarity\": \"Rank 0\",\\n        \"Sanity\": 7.7,\\n        \"Time Stamp\": \"2022-03-31 07:23:55\",\\n        \"Type\": \"Dragon\"\\n      },\\n      {\\n        \"Damage\": \"17d2+1\",\\n        \"Energy\": 34.62,\\n        \"Health\": 33.41,\\n        \"Level\": 17,\\n        \"Name\": \"Emerald Faerie\",\\n        \"Rarity\": \"Rank 0\",\\n        \"Sanity\": 33.98,\\n        \"Time Stamp\": \"2022-03-31 07:23:55\",\\n        \"Type\": \"Fey\"\\n      },\\n      {\\n        \"Damage\": \"11d2+3\",\\n        \"Energy\": 21.71,\\n        \"Health\": 21.13,\\n        \"Level\": 11,\\n        \"Name\": \"Hook Horror\",\\n        \"Rarity\": \"Rank 0\",\\n        \"Sanity\": 22.92,\\n        \"Time Stamp\": \"2022-03-31 07:23:55\",\\n        \"Type\": \"Demonic\"\\n      },\\n      {\\n        \"Damage\": \"10d2\",\\n        \"Energy\": 19.72,\\n        \"Health\": 19.29,\\n        \"Level\": 10,\\n        \"Name\": \"Sapphire Faerie\",\\n        \"Rarity\": \"Rank 0\",\\n        \"Sanity\": 20.35,\\n        \"Time Stamp\": \"2022-03-31 07:23:55\",\\n        \"Type\": \"Fey\"\\n      },\\n      {\\n        \"Damage\": \"15d2+4\",\\n        \"Energy\": 30.72,\\n        \"Health\": 30.7,\\n        \"Level\": 15,\\n        \"Name\": \"Djinni\",\\n        \"Rarity\": \"Rank 0\",\\n        \"Sanity\": 29.33,\\n        \"Time Stamp\": \"2022-03-31 07:23:55\",\\n        \"Type\": \"Elemental\"\\n      },\\n      {\\n        \"Damage\": \"3d2+4\",\\n        \"Energy\": 6.81,\\n        \"Health\": 5.11,\\n        \"Level\": 3,\\n        \"Name\": \"Smoke Devil\",\\n        \"Rarity\": \"Rank 0\",\\n        \"Sanity\": 6.02,\\n        \"Time Stamp\": \"2022-03-31 07:23:55\",\\n        \"Type\": \"Devilkin\"\\n      },\\n      {\\n        \"Damage\": \"17d2\",\\n        \"Energy\": 34.15,\\n        \"Health\": 34.73,\\n        \"Level\": 17,\\n        \"Name\": \"Mummy Lord\",\\n        \"Rarity\": \"Rank 0\",\\n        \"Sanity\": 34.89,\\n        \"Time Stamp\": \"2022-03-31 07:23:55\",\\n        \"Type\": \"Undead\"\\n      },\\n      {\\n        \"Damage\": \"7d2+3\",\\n        \"Energy\": 13.68,\\n        \"Health\": 14.78,\\n        \"Level\": 7,\\n        \"Name\": \"Balor\",\\n        \"Rarity\": \"Rank 0\",\\n        \"Sanity\": 14.28,\\n        \"Time Stamp\": \"2022-03-31 07:23:55\",\\n        \"Type\": \"Demonic\"\\n      },\\n      {\\n        \"Damage\": \"10d2+2\",\\n        \"Energy\": 20.01,\\n        \"Health\": 20.18,\\n        \"Level\": 10,\\n        \"Name\": \"Gold Demon\",\\n        \"Rarity\": \"Rank 0\",\\n        \"Sanity\": 19.4,\\n        \"Time Stamp\": \"2022-03-31 07:23:55\",\\n        \"Type\": \"Demonic\"\\n      },\\n      {\\n        \"Damage\": \"15d2\",\\n        \"Energy\": 30.38,\\n        \"Health\": 30.31,\\n        \"Level\": 15,\\n        \"Name\": \"Magma Devil\",\\n        \"Rarity\": \"Rank 0\",\\n        \"Sanity\": 30.74,\\n        \"Time Stamp\": \"2022-03-31 07:23:55\",\\n        \"Type\": \"Devilkin\"\\n      },\\n      {\\n        \"Damage\": \"10d2\",\\n        \"Energy\": 20.24,\\n        \"Health\": 20.03,\\n        \"Level\": 10,\\n        \"Name\": \"Black Dragon\",\\n        \"Rarity\": \"Rank 0\",\\n        \"Sanity\": 19.41,\\n        \"Time Stamp\": \"2022-03-31 07:23:55\",\\n        \"Type\": \"Dragon\"\\n      },\\n      {\\n        \"Damage\": \"8d2+3\",\\n        \"Energy\": 15.47,\\n        \"Health\": 16.02,\\n        \"Level\": 8,\\n        \"Name\": \"Prince of Fear\",\\n        \"Rarity\": \"Rank 0\",\\n        \"Sanity\": 15.45,\\n        \"Time Stamp\": \"2022-03-31 07:23:55\",\\n        \"Type\": \"Devilkin\"\\n      },\\n      {\\n        \"Damage\": \"7d2+1\",\\n        \"Energy\": 14.92,\\n        \"Health\": 14.99,\\n        \"Level\": 7,\\n        \"Name\": \"Goblin Mage\",\\n        \"Rarity\": \"Rank 0\",\\n        \"Sanity\": 13.26,\\n        \"Time Stamp\": \"2022-03-31 07:23:55\",\\n        \"Type\": \"Devilkin\"\\n      },\\n      {\\n        \"Damage\": \"6d2+1\",\\n        \"Energy\": 11.66,\\n        \"Health\": 11.12,\\n        \"Level\": 6,\\n        \"Name\": \"Wyvern\",\\n        \"Rarity\": \"Rank 0\",\\n        \"Sanity\": 12.71,\\n        \"Time Stamp\": \"2022-03-31 07:23:55\",\\n        \"Type\": \"Dragon\"\\n      },\\n      {\\n        \"Damage\": \"9d2\",\\n        \"Energy\": 18.79,\\n        \"Health\": 17.01,\\n        \"Level\": 9,\\n        \"Name\": \"Poltergeist\",\\n        \"Rarity\": \"Rank 0\",\\n        \"Sanity\": 18.22,\\n        \"Time Stamp\": \"2022-03-31 07:23:55\",\\n        \"Type\": \"Undead\"\\n      },\\n      {\\n        \"Damage\": \"3d2+4\",\\n        \"Energy\": 5.91,\\n        \"Health\": 5.39,\\n        \"Level\": 3,\\n        \"Name\": \"Kobold Archer\",\\n        \"Rarity\": \"Rank 0\",\\n        \"Sanity\": 6.81,\\n        \"Time Stamp\": \"2022-03-31 07:23:55\",\\n        \"Type\": \"Devilkin\"\\n      },\\n      {\\n        \"Damage\": \"7d2\",\\n        \"Energy\": 14.87,\\n        \"Health\": 14.73,\\n        \"Level\": 7,\\n        \"Name\": \"Incubus\",\\n        \"Rarity\": \"Rank 0\",\\n        \"Sanity\": 13.05,\\n        \"Time Stamp\": \"2022-03-31 07:23:55\",\\n        \"Type\": \"Devilkin\"\\n      },\\n      {\\n        \"Damage\": \"2d2+2\",\\n        \"Energy\": 4.32,\\n        \"Health\": 4.16,\\n        \"Level\": 2,\\n        \"Name\": \"Quasit\",\\n        \"Rarity\": \"Rank 0\",\\n        \"Sanity\": 4.56,\\n        \"Time Stamp\": \"2022-03-31 07:23:55\",\\n        \"Type\": \"Demonic\"\\n      },\\n      {\\n        \"Damage\": \"7d2+4\",\\n        \"Energy\": 13.01,\\n        \"Health\": 14.79,\\n        \"Level\": 7,\\n        \"Name\": \"Ruby Archfey\",\\n        \"Rarity\": \"Rank 0\",\\n        \"Sanity\": 13.49,\\n        \"Time Stamp\": \"2022-03-31 07:23:55\",\\n        \"Type\": \"Fey\"\\n      },\\n      {\\n        \"Damage\": \"6d2+1\",\\n        \"Energy\": 12.19,\\n        \"Health\": 12.36,\\n        \"Level\": 6,\\n        \"Name\": \"Emerald Faerie\",\\n        \"Rarity\": \"Rank 0\",\\n        \"Sanity\": 11.87,\\n        \"Time Stamp\": \"2022-03-31 07:23:55\",\\n        \"Type\": \"Fey\"\\n      },\\n      {\\n        \"Damage\": \"15d2\",\\n        \"Energy\": 29.41,\\n        \"Health\": 30.22,\\n        \"Level\": 15,\\n        \"Name\": \"Death Knight\",\\n        \"Rarity\": \"Rank 0\",\\n        \"Sanity\": 29.12,\\n        \"Time Stamp\": \"2022-03-31 07:23:55\",\\n        \"Type\": \"Undead\"\\n      },\\n      {\\n        \"Damage\": \"8d2+1\",\\n        \"Energy\": 16.55,\\n        \"Health\": 15.37,\\n        \"Level\": 8,\\n        \"Name\": \"Demilich\",\\n        \"Rarity\": \"Rank 0\",\\n        \"Sanity\": 15.17,\\n        \"Time Stamp\": \"2022-03-31 07:23:55\",\\n        \"Type\": \"Undead\"\\n      },\\n      {\\n        \"Damage\": \"5d2+1\",\\n        \"Energy\": 9.55,\\n        \"Health\": 9.98,\\n        \"Level\": 5,\\n        \"Name\": \"Blue Faerie\",\\n        \"Rarity\": \"Rank 0\",\\n        \"Sanity\": 10.05,\\n        \"Time Stamp\": \"2022-03-31 07:23:55\",\\n        \"Type\": \"Fey\"\\n      },\\n      {\\n        \"Damage\": \"9d2\",\\n        \"Energy\": 17.22,\\n        \"Health\": 18.69,\\n        \"Level\": 9,\\n        \"Name\": \"Succubus\",\\n        \"Rarity\": \"Rank 0\",\\n        \"Sanity\": 17.46,\\n        \"Time Stamp\": \"2022-03-31 07:23:55\",\\n        \"Type\": \"Devilkin\"\\n      },\\n      {\\n        \"Damage\": \"7d2\",\\n        \"Energy\": 13.29,\\n        \"Health\": 14.62,\\n        \"Level\": 7,\\n        \"Name\": \"Steam Devil\",\\n        \"Rarity\": \"Rank 0\",\\n        \"Sanity\": 14.15,\\n        \"Time Stamp\": \"2022-03-31 07:23:55\",\\n        \"Type\": \"Devilkin\"\\n      },\\n      {\\n        \"Damage\": \"3d2+1\",\\n        \"Energy\": 6.07,\\n        \"Health\": 5.28,\\n        \"Level\": 3,\\n        \"Name\": \"Dust Elemental\",\\n        \"Rarity\": \"Rank 0\",\\n        \"Sanity\": 5.48,\\n        \"Time Stamp\": \"2022-03-31 07:23:55\",\\n        \"Type\": \"Elemental\"\\n      },\\n      {\\n        \"Damage\": \"4d2+4\",\\n        \"Energy\": 8.21,\\n        \"Health\": 7.38,\\n        \"Level\": 4,\\n        \"Name\": \"Prismatic Archfey\",\\n        \"Rarity\": \"Rank 0\",\\n        \"Sanity\": 8.93,\\n        \"Time Stamp\": \"2022-03-31 07:23:55\",\\n        \"Type\": \"Fey\"\\n      },\\n      {\\n        \"Damage\": \"13d2+2\",\\n        \"Energy\": 25.81,\\n        \"Health\": 26.4,\\n        \"Level\": 13,\\n        \"Name\": \"Mud Spirit\",\\n        \"Rarity\": \"Rank 0\",\\n        \"Sanity\": 26.46,\\n        \"Time Stamp\": \"2022-03-31 07:23:55\",\\n        \"Type\": \"Fey\"\\n      },\\n      {\\n        \"Damage\": \"7d2+3\",\\n        \"Energy\": 14.5,\\n        \"Health\": 14.9,\\n        \"Level\": 7,\\n        \"Name\": \"Night Hag\",\\n        \"Rarity\": \"Rank 0\",\\n        \"Sanity\": 14.09,\\n        \"Time Stamp\": \"2022-03-31 07:23:55\",\\n        \"Type\": \"Demonic\"\\n      },\\n      {\\n        \"Damage\": \"6d2+2\",\\n        \"Energy\": 11.41,\\n        \"Health\": 11.19,\\n        \"Level\": 6,\\n        \"Name\": \"Magma Devil\",\\n        \"Rarity\": \"Rank 0\",\\n        \"Sanity\": 11.33,\\n        \"Time Stamp\": \"2022-03-31 07:23:55\",\\n        \"Type\": \"Devilkin\"\\n      },\\n      {\\n        \"Damage\": \"2d2\",\\n        \"Energy\": 3.06,\\n        \"Health\": 4.38,\\n        \"Level\": 2,\\n        \"Name\": \"Black Drake\",\\n        \"Rarity\": \"Rank 0\",\\n        \"Sanity\": 4.25,\\n        \"Time Stamp\": \"2022-03-31 07:23:55\",\\n        \"Type\": \"Dragon\"\\n      },\\n      {\\n        \"Damage\": \"18d2+2\",\\n        \"Energy\": 35.37,\\n        \"Health\": 36.34,\\n        \"Level\": 18,\\n        \"Name\": \"Ice Mephit\",\\n        \"Rarity\": \"Rank 0\",\\n        \"Sanity\": 36.4,\\n        \"Time Stamp\": \"2022-03-31 07:23:55\",\\n        \"Type\": \"Elemental\"\\n      },\\n      {\\n        \"Damage\": \"18d2\",\\n        \"Energy\": 36.32,\\n        \"Health\": 36.24,\\n        \"Level\": 18,\\n        \"Name\": \"Hell Hound\",\\n        \"Rarity\": \"Rank 0\",\\n        \"Sanity\": 35.57,\\n        \"Time Stamp\": \"2022-03-31 07:23:55\",\\n        \"Type\": \"Demonic\"\\n      },\\n      {\\n        \"Damage\": \"8d2\",\\n        \"Energy\": 16.68,\\n        \"Health\": 15.98,\\n        \"Level\": 8,\\n        \"Name\": \"Lightning Devil\",\\n        \"Rarity\": \"Rank 0\",\\n        \"Sanity\": 15.67,\\n        \"Time Stamp\": \"2022-03-31 07:23:55\",\\n        \"Type\": \"Devilkin\"\\n      },\\n      {\\n        \"Damage\": \"5d2\",\\n        \"Energy\": 10.86,\\n        \"Health\": 9.55,\\n        \"Level\": 5,\\n        \"Name\": \"Balor\",\\n        \"Rarity\": \"Rank 0\",\\n        \"Sanity\": 10.03,\\n        \"Time Stamp\": \"2022-03-31 07:23:55\",\\n        \"Type\": \"Demonic\"\\n      },\\n      {\\n        \"Damage\": \"11d2+5\",\\n        \"Energy\": 21.86,\\n        \"Health\": 21.45,\\n        \"Level\": 11,\\n        \"Name\": \"Gold Drake\",\\n        \"Rarity\": \"Rank 0\",\\n        \"Sanity\": 21.2,\\n        \"Time Stamp\": \"2022-03-31 07:23:55\",\\n        \"Type\": \"Dragon\"\\n      },\\n      {\\n        \"Damage\": \"8d2\",\\n        \"Energy\": 16.87,\\n        \"Health\": 16.27,\\n        \"Level\": 8,\\n        \"Name\": \"Hook Horror\",\\n        \"Rarity\": \"Rank 0\",\\n        \"Sanity\": 15.13,\\n        \"Time Stamp\": \"2022-03-31 07:23:55\",\\n        \"Type\": \"Demonic\"\\n      },\\n      {\\n        \"Damage\": \"3d2+3\",\\n        \"Energy\": 5.87,\\n        \"Health\": 5.22,\\n        \"Level\": 3,\\n        \"Name\": \"Ice Elemental\",\\n        \"Rarity\": \"Rank 0\",\\n        \"Sanity\": 6.3,\\n        \"Time Stamp\": \"2022-03-31 07:23:55\",\\n        \"Type\": \"Elemental\"\\n      },\\n      {\\n        \"Damage\": \"7d2\",\\n        \"Energy\": 13.56,\\n        \"Health\": 14.55,\\n        \"Level\": 7,\\n        \"Name\": \"Prince of Fear\",\\n        \"Rarity\": \"Rank 0\",\\n        \"Sanity\": 13.73,\\n        \"Time Stamp\": \"2022-03-31 07:23:55\",\\n        \"Type\": \"Devilkin\"\\n      },\\n      {\\n        \"Damage\": \"2d2+1\",\\n        \"Energy\": 3.58,\\n        \"Health\": 3.13,\\n        \"Level\": 2,\\n        \"Name\": \"Bronze Demon\",\\n        \"Rarity\": \"Rank 0\",\\n        \"Sanity\": 3.08,\\n        \"Time Stamp\": \"2022-03-31 07:23:55\",\\n        \"Type\": \"Demonic\"\\n      },\\n      {\\n        \"Damage\": \"7d2+2\",\\n        \"Energy\": 13.02,\\n        \"Health\": 13.7,\\n        \"Level\": 7,\\n        \"Name\": \"Efreeti\",\\n        \"Rarity\": \"Rank 0\",\\n        \"Sanity\": 13.12,\\n        \"Time Stamp\": \"2022-03-31 07:23:55\",\\n        \"Type\": \"Elemental\"\\n      },\\n      {\\n        \"Damage\": \"4d2+2\",\\n        \"Energy\": 7.23,\\n        \"Health\": 7.36,\\n        \"Level\": 4,\\n        \"Name\": \"Night Hag\",\\n        \"Rarity\": \"Rank 0\",\\n        \"Sanity\": 7.78,\\n        \"Time Stamp\": \"2022-03-31 07:23:55\",\\n        \"Type\": \"Demonic\"\\n      },\\n      {\\n        \"Damage\": \"5d2\",\\n        \"Energy\": 9.13,\\n        \"Health\": 10.48,\\n        \"Level\": 5,\\n        \"Name\": \"Magma Archfey\",\\n        \"Rarity\": \"Rank 0\",\\n        \"Sanity\": 10.79,\\n        \"Time Stamp\": \"2022-03-31 07:23:55\",\\n        \"Type\": \"Fey\"\\n      },\\n      {\\n        \"Damage\": \"3d2\",\\n        \"Energy\": 6.71,\\n        \"Health\": 6.63,\\n        \"Level\": 3,\\n        \"Name\": \"Mud Devil\",\\n        \"Rarity\": \"Rank 0\",\\n        \"Sanity\": 5.62,\\n        \"Time Stamp\": \"2022-03-31 07:23:55\",\\n        \"Type\": \"Devilkin\"\\n      },\\n      {\\n        \"Damage\": \"6d2+2\",\\n        \"Energy\": 12.3,\\n        \"Health\": 11.38,\\n        \"Level\": 6,\\n        \"Name\": \"Smoke Elemental\",\\n        \"Rarity\": \"Rank 0\",\\n        \"Sanity\": 11.19,\\n        \"Time Stamp\": \"2022-03-31 07:23:55\",\\n        \"Type\": \"Elemental\"\\n      },\\n      {\\n        \"Damage\": \"4d2+4\",\\n        \"Energy\": 8.98,\\n        \"Health\": 7.56,\\n        \"Level\": 4,\\n        \"Name\": \"White Demon\",\\n        \"Rarity\": \"Rank 0\",\\n        \"Sanity\": 7.46,\\n        \"Time Stamp\": \"2022-03-31 07:23:55\",\\n        \"Type\": \"Demonic\"\\n      },\\n      {\\n        \"Damage\": \"13d2+2\",\\n        \"Energy\": 25.26,\\n        \"Health\": 26.15,\\n        \"Level\": 13,\\n        \"Name\": \"Incubus\",\\n        \"Rarity\": \"Rank 0\",\\n        \"Sanity\": 25.9,\\n        \"Time Stamp\": \"2022-03-31 07:23:55\",\\n        \"Type\": \"Devilkin\"\\n      },\\n      {\\n        \"Damage\": \"2d2+2\",\\n        \"Energy\": 3.85,\\n        \"Health\": 4.59,\\n        \"Level\": 2,\\n        \"Name\": \"Nightmare\",\\n        \"Rarity\": \"Rank 0\",\\n        \"Sanity\": 3.03,\\n        \"Time Stamp\": \"2022-03-31 07:23:55\",\\n        \"Type\": \"Demonic\"\\n      },\\n      {\\n        \"Damage\": \"8d2+2\",\\n        \"Energy\": 16.97,\\n        \"Health\": 15.39,\\n        \"Level\": 8,\\n        \"Name\": \"Quasit\",\\n        \"Rarity\": \"Rank 0\",\\n        \"Sanity\": 15.35,\\n        \"Time Stamp\": \"2022-03-31 07:23:55\",\\n        \"Type\": \"Demonic\"\\n      },\\n      {\\n        \"Damage\": \"3d2+3\",\\n        \"Energy\": 6.24,\\n        \"Health\": 6.66,\\n        \"Level\": 3,\\n        \"Name\": \"Red Archfey\",\\n        \"Rarity\": \"Rank 0\",\\n        \"Sanity\": 5.05,\\n        \"Time Stamp\": \"2022-03-31 07:23:55\",\\n        \"Type\": \"Fey\"\\n      },\\n      {\\n        \"Damage\": \"8d2+3\",\\n        \"Energy\": 16.51,\\n        \"Health\": 16.23,\\n        \"Level\": 8,\\n        \"Name\": \"Banshee\",\\n        \"Rarity\": \"Rank 0\",\\n        \"Sanity\": 15.37,\\n        \"Time Stamp\": \"2022-03-31 07:23:55\",\\n        \"Type\": \"Undead\"\\n      },\\n      {\\n        \"Damage\": \"5d2+2\",\\n        \"Energy\": 9.35,\\n        \"Health\": 9.84,\\n        \"Level\": 5,\\n        \"Name\": \"Kobold Mage\",\\n        \"Rarity\": \"Rank 0\",\\n        \"Sanity\": 9.44,\\n        \"Time Stamp\": \"2022-03-31 07:23:55\",\\n        \"Type\": \"Devilkin\"\\n      },\\n      {\\n        \"Damage\": \"13d2\",\\n        \"Energy\": 26.13,\\n        \"Health\": 26.74,\\n        \"Level\": 13,\\n        \"Name\": \"Shadow Mephit\",\\n        \"Rarity\": \"Rank 0\",\\n        \"Sanity\": 26.12,\\n        \"Time Stamp\": \"2022-03-31 07:23:55\",\\n        \"Type\": \"Elemental\"\\n      },\\n      {\\n        \"Damage\": \"17d2\",\\n        \"Energy\": 33.99,\\n        \"Health\": 34.06,\\n        \"Level\": 17,\\n        \"Name\": \"Diamond Faerie\",\\n        \"Rarity\": \"Rank 0\",\\n        \"Sanity\": 34.59,\\n        \"Time Stamp\": \"2022-03-31 07:23:55\",\\n        \"Type\": \"Fey\"\\n      },\\n      {\\n        \"Damage\": \"3d2+3\",\\n        \"Energy\": 5.02,\\n        \"Health\": 6.79,\\n        \"Level\": 3,\\n        \"Name\": \"Efreeti\",\\n        \"Rarity\": \"Rank 0\",\\n        \"Sanity\": 6.86,\\n        \"Time Stamp\": \"2022-03-31 07:23:55\",\\n        \"Type\": \"Elemental\"\\n      },\\n      {\\n        \"Damage\": \"15d2\",\\n        \"Energy\": 30.58,\\n        \"Health\": 30.39,\\n        \"Level\": 15,\\n        \"Name\": \"Spore Archfey\",\\n        \"Rarity\": \"Rank 0\",\\n        \"Sanity\": 29.57,\\n        \"Time Stamp\": \"2022-03-31 07:23:55\",\\n        \"Type\": \"Fey\"\\n      },\\n      {\\n        \"Damage\": \"5d2+2\",\\n        \"Energy\": 10.31,\\n        \"Health\": 9.81,\\n        \"Level\": 5,\\n        \"Name\": \"Night Hag\",\\n        \"Rarity\": \"Rank 0\",\\n        \"Sanity\": 10.2,\\n        \"Time Stamp\": \"2022-03-31 07:23:55\",\\n        \"Type\": \"Demonic\"\\n      },\\n      {\\n        \"Damage\": \"7d2+3\",\\n        \"Energy\": 14.41,\\n        \"Health\": 14.77,\\n        \"Level\": 7,\\n        \"Name\": \"White Drake\",\\n        \"Rarity\": \"Rank 0\",\\n        \"Sanity\": 14.6,\\n        \"Time Stamp\": \"2022-03-31 07:23:55\",\\n        \"Type\": \"Dragon\"\\n      },\\n      {\\n        \"Damage\": \"13d2\",\\n        \"Energy\": 26.34,\\n        \"Health\": 26.02,\\n        \"Level\": 13,\\n        \"Name\": \"Faerie Dragon\",\\n        \"Rarity\": \"Rank 0\",\\n        \"Sanity\": 25.18,\\n        \"Time Stamp\": \"2022-03-31 07:23:55\",\\n        \"Type\": \"Dragon\"\\n      },\\n      {\\n        \"Damage\": \"8d2+3\",\\n        \"Energy\": 16.81,\\n        \"Health\": 16.3,\\n        \"Level\": 8,\\n        \"Name\": \"Shadow Mephit\",\\n        \"Rarity\": \"Rank 0\",\\n        \"Sanity\": 15.45,\\n        \"Time Stamp\": \"2022-03-31 07:23:55\",\\n        \"Type\": \"Elemental\"\\n      },\\n      {\\n        \"Damage\": \"11d2+3\",\\n        \"Energy\": 21.26,\\n        \"Health\": 21.03,\\n        \"Level\": 11,\\n        \"Name\": \"Prismatic Wyrmling\",\\n        \"Rarity\": \"Rank 0\",\\n        \"Sanity\": 22.87,\\n        \"Time Stamp\": \"2022-03-31 07:23:55\",\\n        \"Type\": \"Dragon\"\\n      },\\n      {\\n        \"Damage\": \"7d2\",\\n        \"Energy\": 13.79,\\n        \"Health\": 14.31,\\n        \"Level\": 7,\\n        \"Name\": \"Efreeti\",\\n        \"Rarity\": \"Rank 0\",\\n        \"Sanity\": 14.59,\\n        \"Time Stamp\": \"2022-03-31 07:23:55\",\\n        \"Type\": \"Elemental\"\\n      },\\n      {\\n        \"Damage\": \"5d2+5\",\\n        \"Energy\": 9.36,\\n        \"Health\": 10.53,\\n        \"Level\": 5,\\n        \"Name\": \"Night Hag\",\\n        \"Rarity\": \"Rank 0\",\\n        \"Sanity\": 9.18,\\n        \"Time Stamp\": \"2022-03-31 07:23:55\",\\n        \"Type\": \"Demonic\"\\n      },\\n      {\\n        \"Damage\": \"9d2+1\",\\n        \"Energy\": 17.65,\\n        \"Health\": 18.21,\\n        \"Level\": 9,\\n        \"Name\": \"Smoke Elemental\",\\n        \"Rarity\": \"Rank 0\",\\n        \"Sanity\": 18.21,\\n        \"Time Stamp\": \"2022-03-31 07:23:55\",\\n        \"Type\": \"Elemental\"\\n      },\\n      {\\n        \"Damage\": \"7d2\",\\n        \"Energy\": 13.31,\\n        \"Health\": 14.53,\\n        \"Level\": 7,\\n        \"Name\": \"Magma Archfey\",\\n        \"Rarity\": \"Rank 0\",\\n        \"Sanity\": 13.88,\\n        \"Time Stamp\": \"2022-03-31 07:23:55\",\\n        \"Type\": \"Fey\"\\n      },\\n      {\\n        \"Damage\": \"3d2+1\",\\n        \"Energy\": 5.91,\\n        \"Health\": 5.51,\\n        \"Level\": 3,\\n        \"Name\": \"Platinum Wyrmling\",\\n        \"Rarity\": \"Rank 0\",\\n        \"Sanity\": 6.59,\\n        \"Time Stamp\": \"2022-03-31 07:23:55\",\\n        \"Type\": \"Dragon\"\\n      },\\n      {\\n        \"Damage\": \"13d2+2\",\\n        \"Energy\": 26.54,\\n        \"Health\": 25.86,\\n        \"Level\": 13,\\n        \"Name\": \"Efreeti\",\\n        \"Rarity\": \"Rank 0\",\\n        \"Sanity\": 26.94,\\n        \"Time Stamp\": \"2022-03-31 07:23:55\",\\n        \"Type\": \"Elemental\"\\n      },\\n      {\\n        \"Damage\": \"2d2+1\",\\n        \"Energy\": 3.27,\\n        \"Health\": 3.91,\\n        \"Level\": 2,\\n        \"Name\": \"Green Faerie\",\\n        \"Rarity\": \"Rank 0\",\\n        \"Sanity\": 4.99,\\n        \"Time Stamp\": \"2022-03-31 07:23:55\",\\n        \"Type\": \"Fey\"\\n      },\\n      {\\n        \"Damage\": \"6d2+1\",\\n        \"Energy\": 12.97,\\n        \"Health\": 11.38,\\n        \"Level\": 6,\\n        \"Name\": \"Lightning Mephit\",\\n        \"Rarity\": \"Rank 0\",\\n        \"Sanity\": 11.69,\\n        \"Time Stamp\": \"2022-03-31 07:23:55\",\\n        \"Type\": \"Elemental\"\\n      },\\n      {\\n        \"Damage\": \"6d2+1\",\\n        \"Energy\": 11.13,\\n        \"Health\": 12.42,\\n        \"Level\": 6,\\n        \"Name\": \"Flame Spirit\",\\n        \"Rarity\": \"Rank 0\",\\n        \"Sanity\": 11.77,\\n        \"Time Stamp\": \"2022-03-31 07:23:55\",\\n        \"Type\": \"Fey\"\\n      },\\n      {\\n        \"Damage\": \"11d2\",\\n        \"Energy\": 21.85,\\n        \"Health\": 21.12,\\n        \"Level\": 11,\\n        \"Name\": \"Pseudodragon\",\\n        \"Rarity\": \"Rank 0\",\\n        \"Sanity\": 22.08,\\n        \"Time Stamp\": \"2022-03-31 07:23:55\",\\n        \"Type\": \"Dragon\"\\n      },\\n      {\\n        \"Damage\": \"2d2\",\\n        \"Energy\": 3.91,\\n        \"Health\": 4.38,\\n        \"Level\": 2,\\n        \"Name\": \"Djinni\",\\n        \"Rarity\": \"Rank 0\",\\n        \"Sanity\": 3.17,\\n        \"Time Stamp\": \"2022-03-31 07:23:55\",\\n        \"Type\": \"Elemental\"\\n      },\\n      {\\n        \"Damage\": \"7d2\",\\n        \"Energy\": 13.05,\\n        \"Health\": 14.19,\\n        \"Level\": 7,\\n        \"Name\": \"Imp\",\\n        \"Rarity\": \"Rank 0\",\\n        \"Sanity\": 13.47,\\n        \"Time Stamp\": \"2022-03-31 07:23:55\",\\n        \"Type\": \"Demonic\"\\n      },\\n      {\\n        \"Damage\": \"12d2+2\",\\n        \"Energy\": 23.72,\\n        \"Health\": 24.43,\\n        \"Level\": 12,\\n        \"Name\": \"Ruby Drake\",\\n        \"Rarity\": \"Rank 0\",\\n        \"Sanity\": 24.28,\\n        \"Time Stamp\": \"2022-03-31 07:23:55\",\\n        \"Type\": \"Dragon\"\\n      },\\n      {\\n        \"Damage\": \"2d2+3\",\\n        \"Energy\": 4.18,\\n        \"Health\": 4.25,\\n        \"Level\": 2,\\n        \"Name\": \"Djinni\",\\n        \"Rarity\": \"Rank 0\",\\n        \"Sanity\": 4.9,\\n        \"Time Stamp\": \"2022-03-31 07:23:55\",\\n        \"Type\": \"Elemental\"\\n      },\\n      {\\n        \"Damage\": \"15d2\",\\n        \"Energy\": 29.28,\\n        \"Health\": 29.68,\\n        \"Level\": 15,\\n        \"Name\": \"Pseudodragon\",\\n        \"Rarity\": \"Rank 0\",\\n        \"Sanity\": 29.08,\\n        \"Time Stamp\": \"2022-03-31 07:23:55\",\\n        \"Type\": \"Dragon\"\\n      },\\n      {\\n        \"Damage\": \"13d2+1\",\\n        \"Energy\": 25.38,\\n        \"Health\": 25.95,\\n        \"Level\": 13,\\n        \"Name\": \"Pseudodragon\",\\n        \"Rarity\": \"Rank 0\",\\n        \"Sanity\": 25.1,\\n        \"Time Stamp\": \"2022-03-31 07:23:55\",\\n        \"Type\": \"Dragon\"\\n      },\\n      {\\n        \"Damage\": \"4d2\",\\n        \"Energy\": 7.27,\\n        \"Health\": 8.84,\\n        \"Level\": 4,\\n        \"Name\": \"Goblin Mage\",\\n        \"Rarity\": \"Rank 0\",\\n        \"Sanity\": 7.01,\\n        \"Time Stamp\": \"2022-03-31 07:23:55\",\\n        \"Type\": \"Devilkin\"\\n      },\\n      {\\n        \"Damage\": \"2d2\",\\n        \"Energy\": 4.22,\\n        \"Health\": 3.91,\\n        \"Level\": 2,\\n        \"Name\": \"Efreeti\",\\n        \"Rarity\": \"Rank 0\",\\n        \"Sanity\": 3.23,\\n        \"Time Stamp\": \"2022-03-31 07:23:55\",\\n        \"Type\": \"Elemental\"\\n      },\\n      {\\n        \"Damage\": \"11d2\",\\n        \"Energy\": 22.38,\\n        \"Health\": 21.94,\\n        \"Level\": 11,\\n        \"Name\": \"Vampire\",\\n        \"Rarity\": \"Rank 0\",\\n        \"Sanity\": 21.29,\\n        \"Time Stamp\": \"2022-03-31 07:23:55\",\\n        \"Type\": \"Undead\"\\n      },\\n      {\\n        \"Damage\": \"1d2+1\",\\n        \"Energy\": 2.34,\\n        \"Health\": 1.94,\\n        \"Level\": 1,\\n        \"Name\": \"Lightning Elemental\",\\n        \"Rarity\": \"Rank 0\",\\n        \"Sanity\": 1.66,\\n        \"Time Stamp\": \"2022-03-31 07:23:55\",\\n        \"Type\": \"Elemental\"\\n      },\\n      {\\n        \"Damage\": \"19d2+4\",\\n        \"Energy\": 38.23,\\n        \"Health\": 37.71,\\n        \"Level\": 19,\\n        \"Name\": \"Steam Spirit\",\\n        \"Rarity\": \"Rank 0\",\\n        \"Sanity\": 37.85,\\n        \"Time Stamp\": \"2022-03-31 07:23:55\",\\n        \"Type\": \"Fey\"\\n      },\\n      {\\n        \"Damage\": \"8d2+1\",\\n        \"Energy\": 15.78,\\n        \"Health\": 15.35,\\n        \"Level\": 8,\\n        \"Name\": \"Kobold Knight\",\\n        \"Rarity\": \"Rank 0\",\\n        \"Sanity\": 15.79,\\n        \"Time Stamp\": \"2022-03-31 07:23:55\",\\n        \"Type\": \"Devilkin\"\\n      },\\n      {\\n        \"Damage\": \"1d2\",\\n        \"Energy\": 2.28,\\n        \"Health\": 2.67,\\n        \"Level\": 1,\\n        \"Name\": \"Ghostly Mage\",\\n        \"Rarity\": \"Rank 0\",\\n        \"Sanity\": 1.17,\\n        \"Time Stamp\": \"2022-03-31 07:23:55\",\\n        \"Type\": \"Undead\"\\n      },\\n      {\\n        \"Damage\": \"11d2\",\\n        \"Energy\": 22.15,\\n        \"Health\": 22.87,\\n        \"Level\": 11,\\n        \"Name\": \"Efreeti\",\\n        \"Rarity\": \"Rank 0\",\\n        \"Sanity\": 21.32,\\n        \"Time Stamp\": \"2022-03-31 07:23:55\",\\n        \"Type\": \"Elemental\"\\n      },\\n      {\\n        \"Damage\": \"3d2+2\",\\n        \"Energy\": 5.92,\\n        \"Health\": 6.3,\\n        \"Level\": 3,\\n        \"Name\": \"Lich\",\\n        \"Rarity\": \"Rank 0\",\\n        \"Sanity\": 5.23,\\n        \"Time Stamp\": \"2022-03-31 07:23:55\",\\n        \"Type\": \"Undead\"\\n      },\\n      {\\n        \"Damage\": \"3d2+2\",\\n        \"Energy\": 6.81,\\n        \"Health\": 6.72,\\n        \"Level\": 3,\\n        \"Name\": \"Djinni\",\\n        \"Rarity\": \"Rank 0\",\\n        \"Sanity\": 6.59,\\n        \"Time Stamp\": \"2022-03-31 07:23:55\",\\n        \"Type\": \"Elemental\"\\n      },\\n      {\\n        \"Damage\": \"11d2\",\\n        \"Energy\": 22.65,\\n        \"Health\": 22.09,\\n        \"Level\": 11,\\n        \"Name\": \"Nightmare\",\\n        \"Rarity\": \"Rank 0\",\\n        \"Sanity\": 21.69,\\n        \"Time Stamp\": \"2022-03-31 07:23:55\",\\n        \"Type\": \"Demonic\"\\n      },\\n      {\\n        \"Damage\": \"5d2+3\",\\n        \"Energy\": 10.46,\\n        \"Health\": 9.36,\\n        \"Level\": 5,\\n        \"Name\": \"Pit Lord\",\\n        \"Rarity\": \"Rank 0\",\\n        \"Sanity\": 10.89,\\n        \"Time Stamp\": \"2022-03-31 07:23:55\",\\n        \"Type\": \"Devilkin\"\\n      },\\n      {\\n        \"Damage\": \"7d2\",\\n        \"Energy\": 14.23,\\n        \"Health\": 13.62,\\n        \"Level\": 7,\\n        \"Name\": \"Lightning Elemental\",\\n        \"Rarity\": \"Rank 0\",\\n        \"Sanity\": 14.08,\\n        \"Time Stamp\": \"2022-03-31 07:23:55\",\\n        \"Type\": \"Elemental\"\\n      },\\n      {\\n        \"Damage\": \"12d2+2\",\\n        \"Energy\": 23.81,\\n        \"Health\": 24.93,\\n        \"Level\": 12,\\n        \"Name\": \"Pit Fiend\",\\n        \"Rarity\": \"Rank 0\",\\n        \"Sanity\": 24.0,\\n        \"Time Stamp\": \"2022-03-31 07:23:55\",\\n        \"Type\": \"Demonic\"\\n      },\\n      {\\n        \"Damage\": \"12d2+2\",\\n        \"Energy\": 23.96,\\n        \"Health\": 24.34,\\n        \"Level\": 12,\\n        \"Name\": \"Steam Elemental\",\\n        \"Rarity\": \"Rank 0\",\\n        \"Sanity\": 24.56,\\n        \"Time Stamp\": \"2022-03-31 07:23:55\",\\n        \"Type\": \"Elemental\"\\n      },\\n      {\\n        \"Damage\": \"2d2+1\",\\n        \"Energy\": 3.49,\\n        \"Health\": 4.14,\\n        \"Level\": 2,\\n        \"Name\": \"Lich\",\\n        \"Rarity\": \"Rank 0\",\\n        \"Sanity\": 4.85,\\n        \"Time Stamp\": \"2022-03-31 07:23:55\",\\n        \"Type\": \"Undead\"\\n      },\\n      {\\n        \"Damage\": \"6d2+1\",\\n        \"Energy\": 11.05,\\n        \"Health\": 11.37,\\n        \"Level\": 6,\\n        \"Name\": \"Djinni\",\\n        \"Rarity\": \"Rank 0\",\\n        \"Sanity\": 11.88,\\n        \"Time Stamp\": \"2022-03-31 07:23:55\",\\n        \"Type\": \"Elemental\"\\n      },\\n      {\\n        \"Damage\": \"6d2+1\",\\n        \"Energy\": 12.21,\\n        \"Health\": 12.18,\\n        \"Level\": 6,\\n        \"Name\": \"Prismatic Archfey\",\\n        \"Rarity\": \"Rank 0\",\\n        \"Sanity\": 12.07,\\n        \"Time Stamp\": \"2022-03-31 07:23:55\",\\n        \"Type\": \"Fey\"\\n      },\\n      {\\n        \"Damage\": \"4d2+1\",\\n        \"Energy\": 8.09,\\n        \"Health\": 8.47,\\n        \"Level\": 4,\\n        \"Name\": \"Djinni\",\\n        \"Rarity\": \"Rank 0\",\\n        \"Sanity\": 8.7,\\n        \"Time Stamp\": \"2022-03-31 07:23:55\",\\n        \"Type\": \"Elemental\"\\n      },\\n      {\\n        \"Damage\": \"7d2\",\\n        \"Energy\": 14.9,\\n        \"Health\": 13.0,\\n        \"Level\": 7,\\n        \"Name\": \"Balor\",\\n        \"Rarity\": \"Rank 0\",\\n        \"Sanity\": 13.1,\\n        \"Time Stamp\": \"2022-03-31 07:23:55\",\\n        \"Type\": \"Demonic\"\\n      },\\n      {\\n        \"Damage\": \"3d2\",\\n        \"Energy\": 6.34,\\n        \"Health\": 6.65,\\n        \"Level\": 3,\\n        \"Name\": \"Gold Demon\",\\n        \"Rarity\": \"Rank 0\",\\n        \"Sanity\": 5.47,\\n        \"Time Stamp\": \"2022-03-31 07:23:55\",\\n        \"Type\": \"Demonic\"\\n      },\\n      {\\n        \"Damage\": \"13d2+1\",\\n        \"Energy\": 25.6,\\n        \"Health\": 25.71,\\n        \"Level\": 13,\\n        \"Name\": \"Magma Devil\",\\n        \"Rarity\": \"Rank 0\",\\n        \"Sanity\": 25.13,\\n        \"Time Stamp\": \"2022-03-31 07:23:55\",\\n        \"Type\": \"Devilkin\"\\n      },\\n      {\\n        \"Damage\": \"10d2\",\\n        \"Energy\": 20.31,\\n        \"Health\": 19.2,\\n        \"Level\": 10,\\n        \"Name\": \"Diamond Wyrmling\",\\n        \"Rarity\": \"Rank 0\",\\n        \"Sanity\": 20.94,\\n        \"Time Stamp\": \"2022-03-31 07:23:55\",\\n        \"Type\": \"Dragon\"\\n      },\\n      {\\n        \"Damage\": \"2d2+5\",\\n        \"Energy\": 4.4,\\n        \"Health\": 4.77,\\n        \"Level\": 2,\\n        \"Name\": \"Efreeti\",\\n        \"Rarity\": \"Rank 0\",\\n        \"Sanity\": 3.43,\\n        \"Time Stamp\": \"2022-03-31 07:23:55\",\\n        \"Type\": \"Elemental\"\\n      },\\n      {\\n        \"Damage\": \"14d2+2\",\\n        \"Energy\": 28.24,\\n        \"Health\": 27.62,\\n        \"Level\": 14,\\n        \"Name\": \"Night Hag\",\\n        \"Rarity\": \"Rank 0\",\\n        \"Sanity\": 27.03,\\n        \"Time Stamp\": \"2022-03-31 07:23:55\",\\n        \"Type\": \"Demonic\"\\n      },\\n      {\\n        \"Damage\": \"10d2+1\",\\n        \"Energy\": 19.32,\\n        \"Health\": 20.89,\\n        \"Level\": 10,\\n        \"Name\": \"Lightning Archfey\",\\n        \"Rarity\": \"Rank 0\",\\n        \"Sanity\": 20.38,\\n        \"Time Stamp\": \"2022-03-31 07:23:55\",\\n        \"Type\": \"Fey\"\\n      },\\n      {\\n        \"Damage\": \"6d2\",\\n        \"Energy\": 12.82,\\n        \"Health\": 12.79,\\n        \"Level\": 6,\\n        \"Name\": \"Sapphire Wyrmling\",\\n        \"Rarity\": \"Rank 0\",\\n        \"Sanity\": 11.01,\\n        \"Time Stamp\": \"2022-03-31 07:23:55\",\\n        \"Type\": \"Dragon\"\\n      },\\n      {\\n        \"Damage\": \"4d2+5\",\\n        \"Energy\": 7.44,\\n        \"Health\": 8.45,\\n        \"Level\": 4,\\n        \"Name\": \"Zombie Guard\",\\n        \"Rarity\": \"Rank 0\",\\n        \"Sanity\": 8.46,\\n        \"Time Stamp\": \"2022-03-31 07:23:55\",\\n        \"Type\": \"Undead\"\\n      },\\n      {\\n        \"Damage\": \"2d2+1\",\\n        \"Energy\": 3.57,\\n        \"Health\": 4.75,\\n        \"Level\": 2,\\n        \"Name\": \"Prince of Fear\",\\n        \"Rarity\": \"Rank 0\",\\n        \"Sanity\": 3.04,\\n        \"Time Stamp\": \"2022-03-31 07:23:55\",\\n        \"Type\": \"Devilkin\"\\n      },\\n      {\\n        \"Damage\": \"5d2+2\",\\n        \"Energy\": 9.3,\\n        \"Health\": 9.57,\\n        \"Level\": 5,\\n        \"Name\": \"Brass Drake\",\\n        \"Rarity\": \"Rank 0\",\\n        \"Sanity\": 9.09,\\n        \"Time Stamp\": \"2022-03-31 07:23:55\",\\n        \"Type\": \"Dragon\"\\n      },\\n      {\\n        \"Damage\": \"9d2+1\",\\n        \"Energy\": 17.91,\\n        \"Health\": 17.02,\\n        \"Level\": 9,\\n        \"Name\": \"Emerald Demon\",\\n        \"Rarity\": \"Rank 0\",\\n        \"Sanity\": 18.64,\\n        \"Time Stamp\": \"2022-03-31 07:23:55\",\\n        \"Type\": \"Demonic\"\\n      }\\n    ]\\n  },\\n  \"encoding\": {\\n    \"color\": {\\n      \"field\": \"Type\",\\n      \"type\": \"nominal\"\\n    },\\n    \"tooltip\": [\\n      {\\n        \"field\": \"Name\",\\n        \"type\": \"nominal\"\\n      },\\n      {\\n        \"field\": \"Type\",\\n        \"type\": \"nominal\"\\n      },\\n      {\\n        \"field\": \"Level\",\\n        \"type\": \"quantitative\"\\n      },\\n      {\\n        \"field\": \"Rarity\",\\n        \"type\": \"nominal\"\\n      },\\n      {\\n        \"field\": \"Damage\",\\n        \"type\": \"nominal\"\\n      },\\n      {\\n        \"field\": \"Health\",\\n        \"type\": \"quantitative\"\\n      },\\n      {\\n        \"field\": \"Energy\",\\n        \"type\": \"quantitative\"\\n      },\\n      {\\n        \"field\": \"Sanity\",\\n        \"type\": \"quantitative\"\\n      },\\n      {\\n        \"field\": \"Time Stamp\",\\n        \"type\": \"nominal\"\\n      }\\n    ],\\n    \"x\": {\\n      \"axis\": {\\n        \"title\": \"Time Stamp\"\\n      },\\n      \"field\": \"Time Stamp\",\\n      \"type\": \"nominal\"\\n    },\\n    \"y\": {\\n      \"axis\": {\\n        \"title\": \"Level\"\\n      },\\n      \"field\": \"Level\",\\n      \"type\": \"quantitative\"\\n    }\\n  },\\n  \"height\": 500,\\n  \"mark\": {\\n    \"size\": 200,\\n    \"type\": \"circle\"\\n  },\\n  \"title\": \"Rank 0 Monsters\",\\n  \"width\": 500\\n}'"
     },
     "execution_count": 54,
     "metadata": {},
     "output_type": "execute_result"
    }
   ]
  },
  {
   "cell_type": "markdown",
   "source": [
    "# Data I/O Juggling"
   ],
   "metadata": {
    "collapsed": false,
    "pycharm": {
     "name": "#%% md\n"
    }
   }
  },
  {
   "cell_type": "markdown",
   "metadata": {
    "id": "WrebXgOQwAyH"
   },
   "source": [
    "### JSON Library"
   ]
  },
  {
   "cell_type": "code",
   "metadata": {
    "id": "dKx134S1JN2Z"
   },
   "source": [
    "import json"
   ],
   "execution_count": 55,
   "outputs": []
  },
  {
   "cell_type": "markdown",
   "metadata": {
    "id": "eS7I272TSc6f"
   },
   "source": [
    "The JSON python library has 4 functions to help with JSON I/O\n",
    "- 2 for File I/O\n",
    "    - `json.load` -> load a dict from JSON data in a file\n",
    "    - `json.dump` -> takes a dict and saves JSON data to a file. Best use context manager.\n",
    "- 2 for Memory I/O\n",
    "    - `json.loads` -> creates a dict from JSON data in memory (some variable)\n",
    "    - `json.dumps`  -> turns a dict into JSON data in memory (some variable)\n"
   ]
  },
  {
   "cell_type": "code",
   "metadata": {
    "id": "9IEheRgLQ_bR"
   },
   "source": [
    "# json.loads will turn dirty json into a dictionary\n",
    "scatter_plot_dict = json.loads(scatter_plot_json)\n",
    "scatter_plot_dict"
   ],
   "execution_count": 56,
   "outputs": [
    {
     "data": {
      "text/plain": "{'$schema': 'https://vega.github.io/schema/vega-lite/v4.8.1.json',\n 'config': {'view': {'continuousHeight': 300, 'continuousWidth': 400}},\n 'data': {'name': 'data-bc909eade4e963ccacb1652308ad0036'},\n 'datasets': {'data-bc909eade4e963ccacb1652308ad0036': [{'Damage': '4d2+3',\n    'Energy': 8.1,\n    'Health': 7.73,\n    'Level': 4,\n    'Name': 'Dust Spirit',\n    'Rarity': 'Rank 0',\n    'Sanity': 8.62,\n    'Time Stamp': '2022-03-31 07:23:55',\n    'Type': 'Fey'},\n   {'Damage': '12d2',\n    'Energy': 24.32,\n    'Health': 24.01,\n    'Level': 12,\n    'Name': 'Emerald Dragon',\n    'Rarity': 'Rank 0',\n    'Sanity': 23.85,\n    'Time Stamp': '2022-03-31 07:23:55',\n    'Type': 'Dragon'},\n   {'Damage': '13d2+1',\n    'Energy': 25.26,\n    'Health': 26.77,\n    'Level': 13,\n    'Name': 'Djinni',\n    'Rarity': 'Rank 0',\n    'Sanity': 25.07,\n    'Time Stamp': '2022-03-31 07:23:55',\n    'Type': 'Elemental'},\n   {'Damage': '8d2',\n    'Energy': 16.85,\n    'Health': 15.57,\n    'Level': 8,\n    'Name': 'Steam Archfey',\n    'Rarity': 'Rank 0',\n    'Sanity': 15.07,\n    'Time Stamp': '2022-03-31 07:23:55',\n    'Type': 'Fey'},\n   {'Damage': '12d2',\n    'Energy': 23.42,\n    'Health': 24.12,\n    'Level': 12,\n    'Name': 'Pit Lord',\n    'Rarity': 'Rank 0',\n    'Sanity': 24.62,\n    'Time Stamp': '2022-03-31 07:23:55',\n    'Type': 'Devilkin'},\n   {'Damage': '3d2+3',\n    'Energy': 6.84,\n    'Health': 6.38,\n    'Level': 3,\n    'Name': 'Smoke Archfey',\n    'Rarity': 'Rank 0',\n    'Sanity': 6.35,\n    'Time Stamp': '2022-03-31 07:23:55',\n    'Type': 'Fey'},\n   {'Damage': '1d2+2',\n    'Energy': 2.97,\n    'Health': 1.24,\n    'Level': 1,\n    'Name': 'Magma Spirit',\n    'Rarity': 'Rank 0',\n    'Sanity': 1.03,\n    'Time Stamp': '2022-03-31 07:23:55',\n    'Type': 'Fey'},\n   {'Damage': '13d2',\n    'Energy': 26.15,\n    'Health': 26.92,\n    'Level': 13,\n    'Name': 'Hook Horror',\n    'Rarity': 'Rank 0',\n    'Sanity': 25.93,\n    'Time Stamp': '2022-03-31 07:23:55',\n    'Type': 'Demonic'},\n   {'Damage': '5d2',\n    'Energy': 9.99,\n    'Health': 9.87,\n    'Level': 5,\n    'Name': 'Pseudodragon',\n    'Rarity': 'Rank 0',\n    'Sanity': 10.62,\n    'Time Stamp': '2022-03-31 07:23:55',\n    'Type': 'Dragon'},\n   {'Damage': '13d2',\n    'Energy': 25.05,\n    'Health': 26.85,\n    'Level': 13,\n    'Name': 'Shadow Archfey',\n    'Rarity': 'Rank 0',\n    'Sanity': 25.12,\n    'Time Stamp': '2022-03-31 07:23:55',\n    'Type': 'Fey'},\n   {'Damage': '2d2+2',\n    'Energy': 4.15,\n    'Health': 3.21,\n    'Level': 2,\n    'Name': 'Faerie Dragon',\n    'Rarity': 'Rank 0',\n    'Sanity': 4.45,\n    'Time Stamp': '2022-03-31 07:23:55',\n    'Type': 'Dragon'},\n   {'Damage': '2d2+2',\n    'Energy': 3.37,\n    'Health': 4.28,\n    'Level': 2,\n    'Name': 'Onyx Faerie',\n    'Rarity': 'Rank 0',\n    'Sanity': 4.54,\n    'Time Stamp': '2022-03-31 07:23:55',\n    'Type': 'Fey'},\n   {'Damage': '3d2+1',\n    'Energy': 6.18,\n    'Health': 5.61,\n    'Level': 3,\n    'Name': 'Nightmare',\n    'Rarity': 'Rank 0',\n    'Sanity': 6.17,\n    'Time Stamp': '2022-03-31 07:23:55',\n    'Type': 'Demonic'},\n   {'Damage': '2d2+2',\n    'Energy': 3.24,\n    'Health': 3.79,\n    'Level': 2,\n    'Name': 'Pit Lord',\n    'Rarity': 'Rank 0',\n    'Sanity': 3.29,\n    'Time Stamp': '2022-03-31 07:23:55',\n    'Type': 'Devilkin'},\n   {'Damage': '7d2+1',\n    'Energy': 13.47,\n    'Health': 13.17,\n    'Level': 7,\n    'Name': 'Wyvern',\n    'Rarity': 'Rank 0',\n    'Sanity': 14.58,\n    'Time Stamp': '2022-03-31 07:23:55',\n    'Type': 'Dragon'},\n   {'Damage': '8d2+2',\n    'Energy': 15.35,\n    'Health': 16.66,\n    'Level': 8,\n    'Name': 'Succubus',\n    'Rarity': 'Rank 0',\n    'Sanity': 16.35,\n    'Time Stamp': '2022-03-31 07:23:55',\n    'Type': 'Devilkin'},\n   {'Damage': '10d2',\n    'Energy': 20.73,\n    'Health': 19.75,\n    'Level': 10,\n    'Name': 'Wyvern',\n    'Rarity': 'Rank 0',\n    'Sanity': 19.53,\n    'Time Stamp': '2022-03-31 07:23:55',\n    'Type': 'Dragon'},\n   {'Damage': '16d2+2',\n    'Energy': 31.18,\n    'Health': 31.35,\n    'Level': 16,\n    'Name': 'Shadow Mephit',\n    'Rarity': 'Rank 0',\n    'Sanity': 32.25,\n    'Time Stamp': '2022-03-31 07:23:55',\n    'Type': 'Elemental'},\n   {'Damage': '6d2+1',\n    'Energy': 11.25,\n    'Health': 11.48,\n    'Level': 6,\n    'Name': 'Lich King',\n    'Rarity': 'Rank 0',\n    'Sanity': 11.83,\n    'Time Stamp': '2022-03-31 07:23:55',\n    'Type': 'Undead'},\n   {'Damage': '17d2+3',\n    'Energy': 33.36,\n    'Health': 33.41,\n    'Level': 17,\n    'Name': 'Balor',\n    'Rarity': 'Rank 0',\n    'Sanity': 34.21,\n    'Time Stamp': '2022-03-31 07:23:55',\n    'Type': 'Demonic'},\n   {'Damage': '4d2+1',\n    'Energy': 7.34,\n    'Health': 8.72,\n    'Level': 4,\n    'Name': 'Prince of Fear',\n    'Rarity': 'Rank 0',\n    'Sanity': 7.22,\n    'Time Stamp': '2022-03-31 07:23:55',\n    'Type': 'Devilkin'},\n   {'Damage': '6d2',\n    'Energy': 11.39,\n    'Health': 11.19,\n    'Level': 6,\n    'Name': 'Faerie Dragon',\n    'Rarity': 'Rank 0',\n    'Sanity': 11.14,\n    'Time Stamp': '2022-03-31 07:23:55',\n    'Type': 'Dragon'},\n   {'Damage': '9d2',\n    'Energy': 17.4,\n    'Health': 17.86,\n    'Level': 9,\n    'Name': 'Dust Devil',\n    'Rarity': 'Rank 0',\n    'Sanity': 18.08,\n    'Time Stamp': '2022-03-31 07:23:55',\n    'Type': 'Devilkin'},\n   {'Damage': '10d2',\n    'Energy': 20.97,\n    'Health': 19.91,\n    'Level': 10,\n    'Name': 'Lich King',\n    'Rarity': 'Rank 0',\n    'Sanity': 20.56,\n    'Time Stamp': '2022-03-31 07:23:55',\n    'Type': 'Undead'},\n   {'Damage': '3d2+2',\n    'Energy': 6.58,\n    'Health': 5.21,\n    'Level': 3,\n    'Name': 'Faerie Dragon',\n    'Rarity': 'Rank 0',\n    'Sanity': 6.17,\n    'Time Stamp': '2022-03-31 07:23:55',\n    'Type': 'Dragon'},\n   {'Damage': '7d2',\n    'Energy': 13.26,\n    'Health': 13.4,\n    'Level': 7,\n    'Name': 'Pit Fiend',\n    'Rarity': 'Rank 0',\n    'Sanity': 14.14,\n    'Time Stamp': '2022-03-31 07:23:55',\n    'Type': 'Demonic'},\n   {'Damage': '5d2',\n    'Energy': 10.59,\n    'Health': 10.46,\n    'Level': 5,\n    'Name': 'Pit Fiend',\n    'Rarity': 'Rank 0',\n    'Sanity': 10.62,\n    'Time Stamp': '2022-03-31 07:23:55',\n    'Type': 'Demonic'},\n   {'Damage': '8d2+1',\n    'Energy': 16.51,\n    'Health': 16.32,\n    'Level': 8,\n    'Name': 'Goblin Guard',\n    'Rarity': 'Rank 0',\n    'Sanity': 15.54,\n    'Time Stamp': '2022-03-31 07:23:55',\n    'Type': 'Devilkin'},\n   {'Damage': '10d2+3',\n    'Energy': 19.08,\n    'Health': 19.37,\n    'Level': 10,\n    'Name': 'Hook Horror',\n    'Rarity': 'Rank 0',\n    'Sanity': 19.85,\n    'Time Stamp': '2022-03-31 07:23:55',\n    'Type': 'Demonic'},\n   {'Damage': '2d2+2',\n    'Energy': 3.12,\n    'Health': 3.13,\n    'Level': 2,\n    'Name': 'Pit Lord',\n    'Rarity': 'Rank 0',\n    'Sanity': 4.07,\n    'Time Stamp': '2022-03-31 07:23:55',\n    'Type': 'Devilkin'},\n   {'Damage': '12d2',\n    'Energy': 23.39,\n    'Health': 24.64,\n    'Level': 12,\n    'Name': 'Silver Drake',\n    'Rarity': 'Rank 0',\n    'Sanity': 23.14,\n    'Time Stamp': '2022-03-31 07:23:55',\n    'Type': 'Dragon'},\n   {'Damage': '2d2+4',\n    'Energy': 3.98,\n    'Health': 3.19,\n    'Level': 2,\n    'Name': 'Platinum Faerie',\n    'Rarity': 'Rank 0',\n    'Sanity': 4.49,\n    'Time Stamp': '2022-03-31 07:23:55',\n    'Type': 'Fey'},\n   {'Damage': '6d2',\n    'Energy': 12.6,\n    'Health': 12.28,\n    'Level': 6,\n    'Name': 'Red Dragon',\n    'Rarity': 'Rank 0',\n    'Sanity': 12.03,\n    'Time Stamp': '2022-03-31 07:23:55',\n    'Type': 'Dragon'},\n   {'Damage': '9d2',\n    'Energy': 18.38,\n    'Health': 17.53,\n    'Level': 9,\n    'Name': 'Efreeti',\n    'Rarity': 'Rank 0',\n    'Sanity': 17.84,\n    'Time Stamp': '2022-03-31 07:23:55',\n    'Type': 'Elemental'},\n   {'Damage': '12d2',\n    'Energy': 23.09,\n    'Health': 23.4,\n    'Level': 12,\n    'Name': 'Imp',\n    'Rarity': 'Rank 0',\n    'Sanity': 24.74,\n    'Time Stamp': '2022-03-31 07:23:55',\n    'Type': 'Demonic'},\n   {'Damage': '10d2+1',\n    'Energy': 20.19,\n    'Health': 20.78,\n    'Level': 10,\n    'Name': 'Emerald Archfey',\n    'Rarity': 'Rank 0',\n    'Sanity': 20.59,\n    'Time Stamp': '2022-03-31 07:23:55',\n    'Type': 'Fey'},\n   {'Damage': '7d2+2',\n    'Energy': 13.02,\n    'Health': 14.19,\n    'Level': 7,\n    'Name': 'Prismatic Drake',\n    'Rarity': 'Rank 0',\n    'Sanity': 13.2,\n    'Time Stamp': '2022-03-31 07:23:55',\n    'Type': 'Dragon'},\n   {'Damage': '6d2+2',\n    'Energy': 12.23,\n    'Health': 12.46,\n    'Level': 6,\n    'Name': 'Revenant',\n    'Rarity': 'Rank 0',\n    'Sanity': 12.9,\n    'Time Stamp': '2022-03-31 07:23:55',\n    'Type': 'Undead'},\n   {'Damage': '15d2+1',\n    'Energy': 29.84,\n    'Health': 30.52,\n    'Level': 15,\n    'Name': 'Goblin Mage',\n    'Rarity': 'Rank 0',\n    'Sanity': 30.57,\n    'Time Stamp': '2022-03-31 07:23:55',\n    'Type': 'Devilkin'},\n   {'Damage': '8d2+5',\n    'Energy': 15.42,\n    'Health': 15.43,\n    'Level': 8,\n    'Name': 'Green Demon',\n    'Rarity': 'Rank 0',\n    'Sanity': 16.59,\n    'Time Stamp': '2022-03-31 07:23:55',\n    'Type': 'Demonic'},\n   {'Damage': '7d2+3',\n    'Energy': 14.0,\n    'Health': 14.21,\n    'Level': 7,\n    'Name': 'Revenant',\n    'Rarity': 'Rank 0',\n    'Sanity': 14.31,\n    'Time Stamp': '2022-03-31 07:23:55',\n    'Type': 'Undead'},\n   {'Damage': '15d2+2',\n    'Energy': 29.29,\n    'Health': 29.79,\n    'Level': 15,\n    'Name': 'Skeletal Knight',\n    'Rarity': 'Rank 0',\n    'Sanity': 30.58,\n    'Time Stamp': '2022-03-31 07:23:55',\n    'Type': 'Undead'},\n   {'Damage': '10d2+1',\n    'Energy': 20.03,\n    'Health': 20.46,\n    'Level': 10,\n    'Name': 'Succubus',\n    'Rarity': 'Rank 0',\n    'Sanity': 19.46,\n    'Time Stamp': '2022-03-31 07:23:55',\n    'Type': 'Devilkin'},\n   {'Damage': '4d2+3',\n    'Energy': 7.26,\n    'Health': 8.03,\n    'Level': 4,\n    'Name': 'Balor',\n    'Rarity': 'Rank 0',\n    'Sanity': 8.74,\n    'Time Stamp': '2022-03-31 07:23:55',\n    'Type': 'Demonic'},\n   {'Damage': '12d2+3',\n    'Energy': 24.19,\n    'Health': 23.27,\n    'Level': 12,\n    'Name': 'Gold Dragon',\n    'Rarity': 'Rank 0',\n    'Sanity': 23.4,\n    'Time Stamp': '2022-03-31 07:23:55',\n    'Type': 'Dragon'},\n   {'Damage': '7d2+3',\n    'Energy': 13.61,\n    'Health': 14.86,\n    'Level': 7,\n    'Name': 'Balor',\n    'Rarity': 'Rank 0',\n    'Sanity': 13.45,\n    'Time Stamp': '2022-03-31 07:23:55',\n    'Type': 'Demonic'},\n   {'Damage': '2d2+3',\n    'Energy': 4.12,\n    'Health': 3.2,\n    'Level': 2,\n    'Name': 'Demilich',\n    'Rarity': 'Rank 0',\n    'Sanity': 3.6,\n    'Time Stamp': '2022-03-31 07:23:55',\n    'Type': 'Undead'},\n   {'Damage': '7d2+2',\n    'Energy': 14.13,\n    'Health': 14.29,\n    'Level': 7,\n    'Name': 'Nightmare',\n    'Rarity': 'Rank 0',\n    'Sanity': 13.48,\n    'Time Stamp': '2022-03-31 07:23:55',\n    'Type': 'Demonic'},\n   {'Damage': '8d2+4',\n    'Energy': 16.17,\n    'Health': 16.09,\n    'Level': 8,\n    'Name': 'Quasit',\n    'Rarity': 'Rank 0',\n    'Sanity': 16.54,\n    'Time Stamp': '2022-03-31 07:23:55',\n    'Type': 'Demonic'},\n   {'Damage': '9d2',\n    'Energy': 17.49,\n    'Health': 17.41,\n    'Level': 9,\n    'Name': 'Djinni',\n    'Rarity': 'Rank 0',\n    'Sanity': 17.87,\n    'Time Stamp': '2022-03-31 07:23:55',\n    'Type': 'Elemental'},\n   {'Damage': '4d2+5',\n    'Energy': 7.08,\n    'Health': 8.3,\n    'Level': 4,\n    'Name': 'Balor',\n    'Rarity': 'Rank 0',\n    'Sanity': 7.17,\n    'Time Stamp': '2022-03-31 07:23:55',\n    'Type': 'Demonic'},\n   {'Damage': '3d2',\n    'Energy': 5.88,\n    'Health': 5.25,\n    'Level': 3,\n    'Name': 'Quasit',\n    'Rarity': 'Rank 0',\n    'Sanity': 6.79,\n    'Time Stamp': '2022-03-31 07:23:55',\n    'Type': 'Demonic'},\n   {'Damage': '8d2+1',\n    'Energy': 16.11,\n    'Health': 15.11,\n    'Level': 8,\n    'Name': 'Djinni',\n    'Rarity': 'Rank 0',\n    'Sanity': 15.06,\n    'Time Stamp': '2022-03-31 07:23:55',\n    'Type': 'Elemental'},\n   {'Damage': '4d2+1',\n    'Energy': 7.32,\n    'Health': 8.34,\n    'Level': 4,\n    'Name': 'Night Hag',\n    'Rarity': 'Rank 0',\n    'Sanity': 8.88,\n    'Time Stamp': '2022-03-31 07:23:55',\n    'Type': 'Demonic'},\n   {'Damage': '11d2+1',\n    'Energy': 22.47,\n    'Health': 21.89,\n    'Level': 11,\n    'Name': 'Green Wyrmling',\n    'Rarity': 'Rank 0',\n    'Sanity': 21.38,\n    'Time Stamp': '2022-03-31 07:23:55',\n    'Type': 'Dragon'},\n   {'Damage': '8d2+2',\n    'Energy': 16.92,\n    'Health': 16.38,\n    'Level': 8,\n    'Name': 'Kobold Mage',\n    'Rarity': 'Rank 0',\n    'Sanity': 16.57,\n    'Time Stamp': '2022-03-31 07:23:55',\n    'Type': 'Devilkin'},\n   {'Damage': '13d2+1',\n    'Energy': 25.25,\n    'Health': 26.05,\n    'Level': 13,\n    'Name': 'Balor',\n    'Rarity': 'Rank 0',\n    'Sanity': 25.2,\n    'Time Stamp': '2022-03-31 07:23:55',\n    'Type': 'Demonic'},\n   {'Damage': '2d2+1',\n    'Energy': 3.54,\n    'Health': 4.41,\n    'Level': 2,\n    'Name': 'Revenant',\n    'Rarity': 'Rank 0',\n    'Sanity': 4.35,\n    'Time Stamp': '2022-03-31 07:23:55',\n    'Type': 'Undead'},\n   {'Damage': '9d2',\n    'Energy': 18.51,\n    'Health': 17.32,\n    'Level': 9,\n    'Name': 'Platinum Archfey',\n    'Rarity': 'Rank 0',\n    'Sanity': 17.13,\n    'Time Stamp': '2022-03-31 07:23:55',\n    'Type': 'Fey'},\n   {'Damage': '3d2+2',\n    'Energy': 6.22,\n    'Health': 5.3,\n    'Level': 3,\n    'Name': 'Zombie Knight',\n    'Rarity': 'Rank 0',\n    'Sanity': 5.29,\n    'Time Stamp': '2022-03-31 07:23:55',\n    'Type': 'Undead'},\n   {'Damage': '8d2+2',\n    'Energy': 16.56,\n    'Health': 15.83,\n    'Level': 8,\n    'Name': 'Ruby Faerie',\n    'Rarity': 'Rank 0',\n    'Sanity': 16.99,\n    'Time Stamp': '2022-03-31 07:23:55',\n    'Type': 'Fey'},\n   {'Damage': '8d2+1',\n    'Energy': 16.52,\n    'Health': 15.54,\n    'Level': 8,\n    'Name': 'Quasit',\n    'Rarity': 'Rank 0',\n    'Sanity': 15.37,\n    'Time Stamp': '2022-03-31 07:23:55',\n    'Type': 'Demonic'},\n   {'Damage': '7d2',\n    'Energy': 13.07,\n    'Health': 13.36,\n    'Level': 7,\n    'Name': 'Faerie Dragon',\n    'Rarity': 'Rank 0',\n    'Sanity': 14.08,\n    'Time Stamp': '2022-03-31 07:23:55',\n    'Type': 'Dragon'},\n   {'Damage': '3d2+1',\n    'Energy': 6.37,\n    'Health': 6.15,\n    'Level': 3,\n    'Name': 'White Faerie',\n    'Rarity': 'Rank 0',\n    'Sanity': 5.16,\n    'Time Stamp': '2022-03-31 07:23:55',\n    'Type': 'Fey'},\n   {'Damage': '9d2+3',\n    'Energy': 18.38,\n    'Health': 17.16,\n    'Level': 9,\n    'Name': 'Diamond Archfey',\n    'Rarity': 'Rank 0',\n    'Sanity': 17.81,\n    'Time Stamp': '2022-03-31 07:23:55',\n    'Type': 'Fey'},\n   {'Damage': '16d2+1',\n    'Energy': 32.47,\n    'Health': 32.94,\n    'Level': 16,\n    'Name': 'Onyx Faerie',\n    'Rarity': 'Rank 0',\n    'Sanity': 31.36,\n    'Time Stamp': '2022-03-31 07:23:55',\n    'Type': 'Fey'},\n   {'Damage': '8d2',\n    'Energy': 15.38,\n    'Health': 16.73,\n    'Level': 8,\n    'Name': 'Pseudodragon',\n    'Rarity': 'Rank 0',\n    'Sanity': 15.22,\n    'Time Stamp': '2022-03-31 07:23:55',\n    'Type': 'Dragon'},\n   {'Damage': '9d2+1',\n    'Energy': 18.19,\n    'Health': 18.39,\n    'Level': 9,\n    'Name': 'Ice Archfey',\n    'Rarity': 'Rank 0',\n    'Sanity': 17.78,\n    'Time Stamp': '2022-03-31 07:23:55',\n    'Type': 'Fey'},\n   {'Damage': '13d2',\n    'Energy': 26.44,\n    'Health': 25.82,\n    'Level': 13,\n    'Name': 'White Archfey',\n    'Rarity': 'Rank 0',\n    'Sanity': 25.71,\n    'Time Stamp': '2022-03-31 07:23:55',\n    'Type': 'Fey'},\n   {'Damage': '10d2+1',\n    'Energy': 19.58,\n    'Health': 19.93,\n    'Level': 10,\n    'Name': 'Efreeti',\n    'Rarity': 'Rank 0',\n    'Sanity': 20.39,\n    'Time Stamp': '2022-03-31 07:23:55',\n    'Type': 'Elemental'},\n   {'Damage': '13d2+3',\n    'Energy': 26.92,\n    'Health': 25.93,\n    'Level': 13,\n    'Name': 'Efreeti',\n    'Rarity': 'Rank 0',\n    'Sanity': 26.93,\n    'Time Stamp': '2022-03-31 07:23:55',\n    'Type': 'Elemental'},\n   {'Damage': '3d2',\n    'Energy': 6.93,\n    'Health': 6.33,\n    'Level': 3,\n    'Name': 'Quasit',\n    'Rarity': 'Rank 0',\n    'Sanity': 5.56,\n    'Time Stamp': '2022-03-31 07:23:55',\n    'Type': 'Demonic'},\n   {'Damage': '14d2',\n    'Energy': 27.53,\n    'Health': 28.1,\n    'Level': 14,\n    'Name': 'Pit Lord',\n    'Rarity': 'Rank 0',\n    'Sanity': 27.25,\n    'Time Stamp': '2022-03-31 07:23:55',\n    'Type': 'Devilkin'},\n   {'Damage': '2d2',\n    'Energy': 4.06,\n    'Health': 4.02,\n    'Level': 2,\n    'Name': 'Platinum Dragon',\n    'Rarity': 'Rank 0',\n    'Sanity': 3.58,\n    'Time Stamp': '2022-03-31 07:23:55',\n    'Type': 'Dragon'},\n   {'Damage': '9d2+3',\n    'Energy': 17.87,\n    'Health': 18.66,\n    'Level': 9,\n    'Name': 'Red Demon',\n    'Rarity': 'Rank 0',\n    'Sanity': 17.63,\n    'Time Stamp': '2022-03-31 07:23:55',\n    'Type': 'Demonic'},\n   {'Damage': '10d2+1',\n    'Energy': 20.61,\n    'Health': 20.4,\n    'Level': 10,\n    'Name': 'Djinni',\n    'Rarity': 'Rank 0',\n    'Sanity': 19.08,\n    'Time Stamp': '2022-03-31 07:23:55',\n    'Type': 'Elemental'},\n   {'Damage': '10d2+1',\n    'Energy': 20.7,\n    'Health': 19.9,\n    'Level': 10,\n    'Name': 'Kobold Villager',\n    'Rarity': 'Rank 0',\n    'Sanity': 20.59,\n    'Time Stamp': '2022-03-31 07:23:55',\n    'Type': 'Devilkin'},\n   {'Damage': '4d2',\n    'Energy': 7.27,\n    'Health': 7.44,\n    'Level': 4,\n    'Name': 'Imp',\n    'Rarity': 'Rank 0',\n    'Sanity': 7.77,\n    'Time Stamp': '2022-03-31 07:23:55',\n    'Type': 'Demonic'},\n   {'Damage': '2d2+1',\n    'Energy': 4.43,\n    'Health': 3.12,\n    'Level': 2,\n    'Name': 'Skeletal Mage',\n    'Rarity': 'Rank 0',\n    'Sanity': 4.94,\n    'Time Stamp': '2022-03-31 07:23:55',\n    'Type': 'Undead'},\n   {'Damage': '9d2',\n    'Energy': 17.83,\n    'Health': 18.0,\n    'Level': 9,\n    'Name': 'Mummy Lord',\n    'Rarity': 'Rank 0',\n    'Sanity': 18.55,\n    'Time Stamp': '2022-03-31 07:23:55',\n    'Type': 'Undead'},\n   {'Damage': '12d2+4',\n    'Energy': 23.24,\n    'Health': 24.62,\n    'Level': 12,\n    'Name': 'Dracolich',\n    'Rarity': 'Rank 0',\n    'Sanity': 24.81,\n    'Time Stamp': '2022-03-31 07:23:55',\n    'Type': 'Undead'},\n   {'Damage': '10d2+1',\n    'Energy': 19.5,\n    'Health': 19.71,\n    'Level': 10,\n    'Name': 'Brass Drake',\n    'Rarity': 'Rank 0',\n    'Sanity': 19.02,\n    'Time Stamp': '2022-03-31 07:23:55',\n    'Type': 'Dragon'},\n   {'Damage': '2d2',\n    'Energy': 3.33,\n    'Health': 3.66,\n    'Level': 2,\n    'Name': 'Bronze Dragon',\n    'Rarity': 'Rank 0',\n    'Sanity': 4.02,\n    'Time Stamp': '2022-03-31 07:23:55',\n    'Type': 'Dragon'},\n   {'Damage': '12d2',\n    'Energy': 24.82,\n    'Health': 23.15,\n    'Level': 12,\n    'Name': 'Kobold Villager',\n    'Rarity': 'Rank 0',\n    'Sanity': 24.55,\n    'Time Stamp': '2022-03-31 07:23:55',\n    'Type': 'Devilkin'},\n   {'Damage': '6d2+3',\n    'Energy': 12.94,\n    'Health': 11.05,\n    'Level': 6,\n    'Name': 'Hook Horror',\n    'Rarity': 'Rank 0',\n    'Sanity': 11.95,\n    'Time Stamp': '2022-03-31 07:23:55',\n    'Type': 'Demonic'},\n   {'Damage': '18d2+2',\n    'Energy': 36.69,\n    'Health': 35.5,\n    'Level': 18,\n    'Name': 'Faerie Dragon',\n    'Rarity': 'Rank 0',\n    'Sanity': 36.74,\n    'Time Stamp': '2022-03-31 07:23:55',\n    'Type': 'Dragon'},\n   {'Damage': '7d2',\n    'Energy': 13.93,\n    'Health': 13.2,\n    'Level': 7,\n    'Name': 'Brass Drake',\n    'Rarity': 'Rank 0',\n    'Sanity': 13.27,\n    'Time Stamp': '2022-03-31 07:23:55',\n    'Type': 'Dragon'},\n   {'Damage': '11d2',\n    'Energy': 22.87,\n    'Health': 21.95,\n    'Level': 11,\n    'Name': 'Succubus',\n    'Rarity': 'Rank 0',\n    'Sanity': 22.58,\n    'Time Stamp': '2022-03-31 07:23:55',\n    'Type': 'Devilkin'},\n   {'Damage': '3d2+2',\n    'Energy': 6.09,\n    'Health': 6.24,\n    'Level': 3,\n    'Name': 'Djinni',\n    'Rarity': 'Rank 0',\n    'Sanity': 5.24,\n    'Time Stamp': '2022-03-31 07:23:55',\n    'Type': 'Elemental'},\n   {'Damage': '10d2',\n    'Energy': 20.97,\n    'Health': 20.2,\n    'Level': 10,\n    'Name': 'Bronze Faerie',\n    'Rarity': 'Rank 0',\n    'Sanity': 19.75,\n    'Time Stamp': '2022-03-31 07:23:55',\n    'Type': 'Fey'},\n   {'Damage': '12d2+3',\n    'Energy': 23.95,\n    'Health': 24.64,\n    'Level': 12,\n    'Name': 'Steam Mephit',\n    'Rarity': 'Rank 0',\n    'Sanity': 23.46,\n    'Time Stamp': '2022-03-31 07:23:55',\n    'Type': 'Elemental'},\n   {'Damage': '11d2',\n    'Energy': 21.82,\n    'Health': 21.18,\n    'Level': 11,\n    'Name': 'Lightning Mephit',\n    'Rarity': 'Rank 0',\n    'Sanity': 22.96,\n    'Time Stamp': '2022-03-31 07:23:55',\n    'Type': 'Elemental'},\n   {'Damage': '5d2+1',\n    'Energy': 10.71,\n    'Health': 9.01,\n    'Level': 5,\n    'Name': 'Balor',\n    'Rarity': 'Rank 0',\n    'Sanity': 10.61,\n    'Time Stamp': '2022-03-31 07:23:55',\n    'Type': 'Demonic'},\n   {'Damage': '5d2+2',\n    'Energy': 10.85,\n    'Health': 10.84,\n    'Level': 5,\n    'Name': 'Magma Elemental',\n    'Rarity': 'Rank 0',\n    'Sanity': 10.41,\n    'Time Stamp': '2022-03-31 07:23:55',\n    'Type': 'Elemental'},\n   {'Damage': '13d2+2',\n    'Energy': 25.12,\n    'Health': 25.65,\n    'Level': 13,\n    'Name': 'White Faerie',\n    'Rarity': 'Rank 0',\n    'Sanity': 25.28,\n    'Time Stamp': '2022-03-31 07:23:55',\n    'Type': 'Fey'},\n   {'Damage': '7d2+2',\n    'Energy': 13.49,\n    'Health': 13.67,\n    'Level': 7,\n    'Name': 'Lich',\n    'Rarity': 'Rank 0',\n    'Sanity': 14.09,\n    'Time Stamp': '2022-03-31 07:23:55',\n    'Type': 'Undead'},\n   {'Damage': '5d2+2',\n    'Energy': 10.62,\n    'Health': 10.24,\n    'Level': 5,\n    'Name': 'Wyvern',\n    'Rarity': 'Rank 0',\n    'Sanity': 9.18,\n    'Time Stamp': '2022-03-31 07:23:55',\n    'Type': 'Dragon'},\n   {'Damage': '6d2+3',\n    'Energy': 11.73,\n    'Health': 11.89,\n    'Level': 6,\n    'Name': 'Pit Fiend',\n    'Rarity': 'Rank 0',\n    'Sanity': 12.77,\n    'Time Stamp': '2022-03-31 07:23:55',\n    'Type': 'Demonic'},\n   {'Damage': '4d2+3',\n    'Energy': 7.29,\n    'Health': 8.31,\n    'Level': 4,\n    'Name': 'Sapphire Wyrmling',\n    'Rarity': 'Rank 0',\n    'Sanity': 8.41,\n    'Time Stamp': '2022-03-31 07:23:55',\n    'Type': 'Dragon'},\n   {'Damage': '11d2+1',\n    'Energy': 22.83,\n    'Health': 22.74,\n    'Level': 11,\n    'Name': 'Wraith',\n    'Rarity': 'Rank 0',\n    'Sanity': 22.01,\n    'Time Stamp': '2022-03-31 07:23:55',\n    'Type': 'Undead'},\n   {'Damage': '14d2',\n    'Energy': 28.38,\n    'Health': 28.32,\n    'Level': 14,\n    'Name': 'Mud Elemental',\n    'Rarity': 'Rank 0',\n    'Sanity': 28.58,\n    'Time Stamp': '2022-03-31 07:23:55',\n    'Type': 'Elemental'},\n   {'Damage': '2d2+2',\n    'Energy': 3.28,\n    'Health': 3.31,\n    'Level': 2,\n    'Name': 'Vampire',\n    'Rarity': 'Rank 0',\n    'Sanity': 4.35,\n    'Time Stamp': '2022-03-31 07:23:55',\n    'Type': 'Undead'},\n   {'Damage': '6d2+1',\n    'Energy': 12.84,\n    'Health': 11.63,\n    'Level': 6,\n    'Name': 'Hook Horror',\n    'Rarity': 'Rank 0',\n    'Sanity': 11.2,\n    'Time Stamp': '2022-03-31 07:23:55',\n    'Type': 'Demonic'},\n   {'Damage': '8d2+2',\n    'Energy': 16.12,\n    'Health': 16.67,\n    'Level': 8,\n    'Name': 'Succubus',\n    'Rarity': 'Rank 0',\n    'Sanity': 16.98,\n    'Time Stamp': '2022-03-31 07:23:55',\n    'Type': 'Devilkin'},\n   {'Damage': '3d2+1',\n    'Energy': 5.53,\n    'Health': 5.01,\n    'Level': 3,\n    'Name': 'Wyvern',\n    'Rarity': 'Rank 0',\n    'Sanity': 5.76,\n    'Time Stamp': '2022-03-31 07:23:55',\n    'Type': 'Dragon'},\n   {'Damage': '17d2+2',\n    'Energy': 33.93,\n    'Health': 33.28,\n    'Level': 17,\n    'Name': 'Pit Lord',\n    'Rarity': 'Rank 0',\n    'Sanity': 33.45,\n    'Time Stamp': '2022-03-31 07:23:55',\n    'Type': 'Devilkin'},\n   {'Damage': '16d2+2',\n    'Energy': 31.4,\n    'Health': 31.98,\n    'Level': 16,\n    'Name': 'Pseudodragon',\n    'Rarity': 'Rank 0',\n    'Sanity': 32.57,\n    'Time Stamp': '2022-03-31 07:23:55',\n    'Type': 'Dragon'},\n   {'Damage': '11d2+5',\n    'Energy': 22.78,\n    'Health': 21.29,\n    'Level': 11,\n    'Name': 'Wraith',\n    'Rarity': 'Rank 0',\n    'Sanity': 22.54,\n    'Time Stamp': '2022-03-31 07:23:55',\n    'Type': 'Undead'},\n   {'Damage': '8d2+3',\n    'Energy': 15.85,\n    'Health': 15.82,\n    'Level': 8,\n    'Name': 'Quasit',\n    'Rarity': 'Rank 0',\n    'Sanity': 15.38,\n    'Time Stamp': '2022-03-31 07:23:55',\n    'Type': 'Demonic'},\n   {'Damage': '11d2',\n    'Energy': 21.39,\n    'Health': 21.99,\n    'Level': 11,\n    'Name': 'Mud Archfey',\n    'Rarity': 'Rank 0',\n    'Sanity': 21.28,\n    'Time Stamp': '2022-03-31 07:23:55',\n    'Type': 'Fey'},\n   {'Damage': '4d2+2',\n    'Energy': 8.76,\n    'Health': 7.89,\n    'Level': 4,\n    'Name': 'Brass Wyrmling',\n    'Rarity': 'Rank 0',\n    'Sanity': 7.06,\n    'Time Stamp': '2022-03-31 07:23:55',\n    'Type': 'Dragon'},\n   {'Damage': '2d2+4',\n    'Energy': 3.55,\n    'Health': 3.83,\n    'Level': 2,\n    'Name': 'Djinni',\n    'Rarity': 'Rank 0',\n    'Sanity': 3.48,\n    'Time Stamp': '2022-03-31 07:23:55',\n    'Type': 'Elemental'},\n   {'Damage': '8d2+1',\n    'Energy': 15.6,\n    'Health': 16.75,\n    'Level': 8,\n    'Name': 'Mummy',\n    'Rarity': 'Rank 0',\n    'Sanity': 15.92,\n    'Time Stamp': '2022-03-31 07:23:55',\n    'Type': 'Undead'},\n   {'Damage': '3d2+2',\n    'Energy': 6.66,\n    'Health': 5.21,\n    'Level': 3,\n    'Name': 'Lightning Spirit',\n    'Rarity': 'Rank 0',\n    'Sanity': 6.36,\n    'Time Stamp': '2022-03-31 07:23:55',\n    'Type': 'Fey'},\n   {'Damage': '9d2',\n    'Energy': 18.16,\n    'Health': 18.12,\n    'Level': 9,\n    'Name': 'Wyvern',\n    'Rarity': 'Rank 0',\n    'Sanity': 18.15,\n    'Time Stamp': '2022-03-31 07:23:55',\n    'Type': 'Dragon'},\n   {'Damage': '12d2+2',\n    'Energy': 23.57,\n    'Health': 24.55,\n    'Level': 12,\n    'Name': 'Lich',\n    'Rarity': 'Rank 0',\n    'Sanity': 24.39,\n    'Time Stamp': '2022-03-31 07:23:55',\n    'Type': 'Undead'},\n   {'Damage': '6d2',\n    'Energy': 12.51,\n    'Health': 12.5,\n    'Level': 6,\n    'Name': 'Prince of Fear',\n    'Rarity': 'Rank 0',\n    'Sanity': 11.79,\n    'Time Stamp': '2022-03-31 07:23:55',\n    'Type': 'Devilkin'},\n   {'Damage': '2d2',\n    'Energy': 4.04,\n    'Health': 3.29,\n    'Level': 2,\n    'Name': 'Demilich',\n    'Rarity': 'Rank 0',\n    'Sanity': 3.45,\n    'Time Stamp': '2022-03-31 07:23:55',\n    'Type': 'Undead'},\n   {'Damage': '6d2+2',\n    'Energy': 11.28,\n    'Health': 11.44,\n    'Level': 6,\n    'Name': 'Zombie Villager',\n    'Rarity': 'Rank 0',\n    'Sanity': 12.53,\n    'Time Stamp': '2022-03-31 07:23:55',\n    'Type': 'Undead'},\n   {'Damage': '13d2+4',\n    'Energy': 26.86,\n    'Health': 25.33,\n    'Level': 13,\n    'Name': 'Prismatic Drake',\n    'Rarity': 'Rank 0',\n    'Sanity': 26.14,\n    'Time Stamp': '2022-03-31 07:23:55',\n    'Type': 'Dragon'},\n   {'Damage': '13d2+1',\n    'Energy': 26.77,\n    'Health': 25.41,\n    'Level': 13,\n    'Name': 'Hook Horror',\n    'Rarity': 'Rank 0',\n    'Sanity': 26.03,\n    'Time Stamp': '2022-03-31 07:23:55',\n    'Type': 'Demonic'},\n   {'Damage': '11d2+1',\n    'Energy': 21.29,\n    'Health': 22.4,\n    'Level': 11,\n    'Name': 'Platinum Faerie',\n    'Rarity': 'Rank 0',\n    'Sanity': 21.14,\n    'Time Stamp': '2022-03-31 07:23:55',\n    'Type': 'Fey'},\n   {'Damage': '8d2+3',\n    'Energy': 15.35,\n    'Health': 16.54,\n    'Level': 8,\n    'Name': 'Hell Hound',\n    'Rarity': 'Rank 0',\n    'Sanity': 15.63,\n    'Time Stamp': '2022-03-31 07:23:55',\n    'Type': 'Demonic'},\n   {'Damage': '7d2',\n    'Energy': 14.1,\n    'Health': 13.4,\n    'Level': 7,\n    'Name': 'Efreeti',\n    'Rarity': 'Rank 0',\n    'Sanity': 13.33,\n    'Time Stamp': '2022-03-31 07:23:55',\n    'Type': 'Elemental'},\n   {'Damage': '7d2+1',\n    'Energy': 14.19,\n    'Health': 14.86,\n    'Level': 7,\n    'Name': 'Zombie Mage',\n    'Rarity': 'Rank 0',\n    'Sanity': 13.21,\n    'Time Stamp': '2022-03-31 07:23:55',\n    'Type': 'Undead'},\n   {'Damage': '8d2+1',\n    'Energy': 16.47,\n    'Health': 15.14,\n    'Level': 8,\n    'Name': 'Incubus',\n    'Rarity': 'Rank 0',\n    'Sanity': 15.42,\n    'Time Stamp': '2022-03-31 07:23:55',\n    'Type': 'Devilkin'},\n   {'Damage': '8d2+1',\n    'Energy': 15.4,\n    'Health': 16.15,\n    'Level': 8,\n    'Name': 'Kobold Archer',\n    'Rarity': 'Rank 0',\n    'Sanity': 15.98,\n    'Time Stamp': '2022-03-31 07:23:55',\n    'Type': 'Devilkin'},\n   {'Damage': '5d2+2',\n    'Energy': 9.2,\n    'Health': 10.92,\n    'Level': 5,\n    'Name': 'Green Faerie',\n    'Rarity': 'Rank 0',\n    'Sanity': 9.02,\n    'Time Stamp': '2022-03-31 07:23:55',\n    'Type': 'Fey'},\n   {'Damage': '10d2+4',\n    'Energy': 20.79,\n    'Health': 19.36,\n    'Level': 10,\n    'Name': 'Balor',\n    'Rarity': 'Rank 0',\n    'Sanity': 20.93,\n    'Time Stamp': '2022-03-31 07:23:55',\n    'Type': 'Demonic'},\n   {'Damage': '2d2+2',\n    'Energy': 4.38,\n    'Health': 3.31,\n    'Level': 2,\n    'Name': 'Brass Faerie',\n    'Rarity': 'Rank 0',\n    'Sanity': 3.25,\n    'Time Stamp': '2022-03-31 07:23:55',\n    'Type': 'Fey'},\n   {'Damage': '7d2',\n    'Energy': 14.21,\n    'Health': 13.32,\n    'Level': 7,\n    'Name': 'Platinum Drake',\n    'Rarity': 'Rank 0',\n    'Sanity': 14.43,\n    'Time Stamp': '2022-03-31 07:23:55',\n    'Type': 'Dragon'},\n   {'Damage': '3d2+5',\n    'Energy': 6.76,\n    'Health': 6.62,\n    'Level': 3,\n    'Name': 'White Demon',\n    'Rarity': 'Rank 0',\n    'Sanity': 6.07,\n    'Time Stamp': '2022-03-31 07:23:55',\n    'Type': 'Demonic'},\n   {'Damage': '9d2+5',\n    'Energy': 18.63,\n    'Health': 17.99,\n    'Level': 9,\n    'Name': 'Efreeti',\n    'Rarity': 'Rank 0',\n    'Sanity': 18.74,\n    'Time Stamp': '2022-03-31 07:23:55',\n    'Type': 'Elemental'},\n   {'Damage': '9d2+1',\n    'Energy': 18.25,\n    'Health': 17.12,\n    'Level': 9,\n    'Name': 'Pseudodragon',\n    'Rarity': 'Rank 0',\n    'Sanity': 18.46,\n    'Time Stamp': '2022-03-31 07:23:55',\n    'Type': 'Dragon'},\n   {'Damage': '2d2+5',\n    'Energy': 3.69,\n    'Health': 4.15,\n    'Level': 2,\n    'Name': 'Pit Lord',\n    'Rarity': 'Rank 0',\n    'Sanity': 4.79,\n    'Time Stamp': '2022-03-31 07:23:55',\n    'Type': 'Devilkin'},\n   {'Damage': '8d2+2',\n    'Energy': 15.69,\n    'Health': 16.03,\n    'Level': 8,\n    'Name': 'Poltergeist',\n    'Rarity': 'Rank 0',\n    'Sanity': 15.1,\n    'Time Stamp': '2022-03-31 07:23:55',\n    'Type': 'Undead'},\n   {'Damage': '15d2',\n    'Energy': 30.17,\n    'Health': 29.55,\n    'Level': 15,\n    'Name': 'Smoke Devil',\n    'Rarity': 'Rank 0',\n    'Sanity': 30.09,\n    'Time Stamp': '2022-03-31 07:23:55',\n    'Type': 'Devilkin'},\n   {'Damage': '7d2',\n    'Energy': 13.7,\n    'Health': 13.97,\n    'Level': 7,\n    'Name': 'Pseudodragon',\n    'Rarity': 'Rank 0',\n    'Sanity': 14.25,\n    'Time Stamp': '2022-03-31 07:23:55',\n    'Type': 'Dragon'},\n   {'Damage': '6d2+1',\n    'Energy': 12.91,\n    'Health': 12.13,\n    'Level': 6,\n    'Name': 'Efreeti',\n    'Rarity': 'Rank 0',\n    'Sanity': 12.71,\n    'Time Stamp': '2022-03-31 07:23:55',\n    'Type': 'Elemental'},\n   {'Damage': '3d2+1',\n    'Energy': 6.94,\n    'Health': 6.22,\n    'Level': 3,\n    'Name': 'Kobold Archer',\n    'Rarity': 'Rank 0',\n    'Sanity': 6.76,\n    'Time Stamp': '2022-03-31 07:23:55',\n    'Type': 'Devilkin'},\n   {'Damage': '2d2',\n    'Energy': 4.84,\n    'Health': 4.86,\n    'Level': 2,\n    'Name': 'Pseudodragon',\n    'Rarity': 'Rank 0',\n    'Sanity': 3.33,\n    'Time Stamp': '2022-03-31 07:23:55',\n    'Type': 'Dragon'},\n   {'Damage': '10d2+1',\n    'Energy': 20.79,\n    'Health': 20.44,\n    'Level': 10,\n    'Name': 'Djinni',\n    'Rarity': 'Rank 0',\n    'Sanity': 20.55,\n    'Time Stamp': '2022-03-31 07:23:55',\n    'Type': 'Elemental'},\n   {'Damage': '10d2+1',\n    'Energy': 20.16,\n    'Health': 20.77,\n    'Level': 10,\n    'Name': 'Steam Spirit',\n    'Rarity': 'Rank 0',\n    'Sanity': 20.98,\n    'Time Stamp': '2022-03-31 07:23:55',\n    'Type': 'Fey'},\n   {'Damage': '2d2+1',\n    'Energy': 4.8,\n    'Health': 3.81,\n    'Level': 2,\n    'Name': 'Pit Fiend',\n    'Rarity': 'Rank 0',\n    'Sanity': 3.04,\n    'Time Stamp': '2022-03-31 07:23:55',\n    'Type': 'Demonic'},\n   {'Damage': '12d2',\n    'Energy': 24.6,\n    'Health': 23.89,\n    'Level': 12,\n    'Name': 'Red Wyrmling',\n    'Rarity': 'Rank 0',\n    'Sanity': 24.36,\n    'Time Stamp': '2022-03-31 07:23:55',\n    'Type': 'Dragon'},\n   {'Damage': '4d2+2',\n    'Energy': 7.59,\n    'Health': 8.83,\n    'Level': 4,\n    'Name': 'Copper Faerie',\n    'Rarity': 'Rank 0',\n    'Sanity': 8.54,\n    'Time Stamp': '2022-03-31 07:23:55',\n    'Type': 'Fey'},\n   {'Damage': '5d2+1',\n    'Energy': 10.32,\n    'Health': 9.57,\n    'Level': 5,\n    'Name': 'White Archfey',\n    'Rarity': 'Rank 0',\n    'Sanity': 9.12,\n    'Time Stamp': '2022-03-31 07:23:55',\n    'Type': 'Fey'},\n   {'Damage': '5d2',\n    'Energy': 9.7,\n    'Health': 9.95,\n    'Level': 5,\n    'Name': 'Pit Lord',\n    'Rarity': 'Rank 0',\n    'Sanity': 9.9,\n    'Time Stamp': '2022-03-31 07:23:55',\n    'Type': 'Devilkin'},\n   {'Damage': '12d2+1',\n    'Energy': 24.14,\n    'Health': 24.87,\n    'Level': 12,\n    'Name': 'Efreeti',\n    'Rarity': 'Rank 0',\n    'Sanity': 24.86,\n    'Time Stamp': '2022-03-31 07:23:55',\n    'Type': 'Elemental'},\n   {'Damage': '4d2',\n    'Energy': 8.8,\n    'Health': 7.83,\n    'Level': 4,\n    'Name': 'Poltergeist',\n    'Rarity': 'Rank 0',\n    'Sanity': 8.09,\n    'Time Stamp': '2022-03-31 07:23:55',\n    'Type': 'Undead'},\n   {'Damage': '6d2+1',\n    'Energy': 12.49,\n    'Health': 12.03,\n    'Level': 6,\n    'Name': 'Silver Drake',\n    'Rarity': 'Rank 0',\n    'Sanity': 11.58,\n    'Time Stamp': '2022-03-31 07:23:55',\n    'Type': 'Dragon'},\n   {'Damage': '11d2+3',\n    'Energy': 21.22,\n    'Health': 21.07,\n    'Level': 11,\n    'Name': 'Black Faerie',\n    'Rarity': 'Rank 0',\n    'Sanity': 22.29,\n    'Time Stamp': '2022-03-31 07:23:55',\n    'Type': 'Fey'},\n   {'Damage': '7d2',\n    'Energy': 13.27,\n    'Health': 14.53,\n    'Level': 7,\n    'Name': 'Goblin Villager',\n    'Rarity': 'Rank 0',\n    'Sanity': 13.16,\n    'Time Stamp': '2022-03-31 07:23:55',\n    'Type': 'Devilkin'},\n   {'Damage': '16d2+1',\n    'Energy': 32.04,\n    'Health': 31.28,\n    'Level': 16,\n    'Name': 'Mummy',\n    'Rarity': 'Rank 0',\n    'Sanity': 31.95,\n    'Time Stamp': '2022-03-31 07:23:55',\n    'Type': 'Undead'},\n   {'Damage': '2d2+2',\n    'Energy': 4.38,\n    'Health': 3.77,\n    'Level': 2,\n    'Name': 'Spore Devil',\n    'Rarity': 'Rank 0',\n    'Sanity': 3.36,\n    'Time Stamp': '2022-03-31 07:23:55',\n    'Type': 'Devilkin'},\n   {'Damage': '4d2',\n    'Energy': 7.18,\n    'Health': 7.63,\n    'Level': 4,\n    'Name': 'Mud Spirit',\n    'Rarity': 'Rank 0',\n    'Sanity': 7.51,\n    'Time Stamp': '2022-03-31 07:23:55',\n    'Type': 'Fey'},\n   {'Damage': '8d2+2',\n    'Energy': 15.14,\n    'Health': 16.87,\n    'Level': 8,\n    'Name': 'Wraith',\n    'Rarity': 'Rank 0',\n    'Sanity': 15.12,\n    'Time Stamp': '2022-03-31 07:23:55',\n    'Type': 'Undead'},\n   {'Damage': '18d2+4',\n    'Energy': 36.13,\n    'Health': 36.33,\n    'Level': 18,\n    'Name': 'Gold Faerie',\n    'Rarity': 'Rank 0',\n    'Sanity': 36.88,\n    'Time Stamp': '2022-03-31 07:23:55',\n    'Type': 'Fey'},\n   {'Damage': '3d2+3',\n    'Energy': 6.03,\n    'Health': 5.14,\n    'Level': 3,\n    'Name': 'Pit Fiend',\n    'Rarity': 'Rank 0',\n    'Sanity': 6.54,\n    'Time Stamp': '2022-03-31 07:23:55',\n    'Type': 'Demonic'},\n   {'Damage': '7d2',\n    'Energy': 14.35,\n    'Health': 14.1,\n    'Level': 7,\n    'Name': 'Pit Fiend',\n    'Rarity': 'Rank 0',\n    'Sanity': 14.82,\n    'Time Stamp': '2022-03-31 07:23:55',\n    'Type': 'Demonic'},\n   {'Damage': '6d2+3',\n    'Energy': 12.45,\n    'Health': 11.91,\n    'Level': 6,\n    'Name': 'Mummy Lord',\n    'Rarity': 'Rank 0',\n    'Sanity': 12.08,\n    'Time Stamp': '2022-03-31 07:23:55',\n    'Type': 'Undead'},\n   {'Damage': '11d2+2',\n    'Energy': 21.9,\n    'Health': 21.71,\n    'Level': 11,\n    'Name': 'Lightning Elemental',\n    'Rarity': 'Rank 0',\n    'Sanity': 21.74,\n    'Time Stamp': '2022-03-31 07:23:55',\n    'Type': 'Elemental'},\n   {'Damage': '3d2+2',\n    'Energy': 6.77,\n    'Health': 6.69,\n    'Level': 3,\n    'Name': 'Pseudodragon',\n    'Rarity': 'Rank 0',\n    'Sanity': 6.19,\n    'Time Stamp': '2022-03-31 07:23:55',\n    'Type': 'Dragon'},\n   {'Damage': '8d2+4',\n    'Energy': 16.01,\n    'Health': 15.38,\n    'Level': 8,\n    'Name': 'Spore Archfey',\n    'Rarity': 'Rank 0',\n    'Sanity': 16.37,\n    'Time Stamp': '2022-03-31 07:23:55',\n    'Type': 'Fey'},\n   {'Damage': '12d2+3',\n    'Energy': 23.33,\n    'Health': 24.64,\n    'Level': 12,\n    'Name': 'Poltergeist',\n    'Rarity': 'Rank 0',\n    'Sanity': 23.11,\n    'Time Stamp': '2022-03-31 07:23:55',\n    'Type': 'Undead'},\n   {'Damage': '7d2+3',\n    'Energy': 13.17,\n    'Health': 14.52,\n    'Level': 7,\n    'Name': 'Kobold Guard',\n    'Rarity': 'Rank 0',\n    'Sanity': 13.56,\n    'Time Stamp': '2022-03-31 07:23:55',\n    'Type': 'Devilkin'},\n   {'Damage': '8d2',\n    'Energy': 15.78,\n    'Health': 15.6,\n    'Level': 8,\n    'Name': 'Pit Lord',\n    'Rarity': 'Rank 0',\n    'Sanity': 16.99,\n    'Time Stamp': '2022-03-31 07:23:55',\n    'Type': 'Devilkin'},\n   {'Damage': '3d2',\n    'Energy': 6.32,\n    'Health': 6.06,\n    'Level': 3,\n    'Name': 'Copper Wyrmling',\n    'Rarity': 'Rank 0',\n    'Sanity': 6.5,\n    'Time Stamp': '2022-03-31 07:23:55',\n    'Type': 'Dragon'},\n   {'Damage': '5d2+2',\n    'Energy': 9.53,\n    'Health': 9.46,\n    'Level': 5,\n    'Name': 'Ghoul',\n    'Rarity': 'Rank 0',\n    'Sanity': 9.54,\n    'Time Stamp': '2022-03-31 07:23:55',\n    'Type': 'Undead'},\n   {'Damage': '11d2+4',\n    'Energy': 21.48,\n    'Health': 21.52,\n    'Level': 11,\n    'Name': 'Pseudodragon',\n    'Rarity': 'Rank 0',\n    'Sanity': 22.49,\n    'Time Stamp': '2022-03-31 07:23:55',\n    'Type': 'Dragon'},\n   {'Damage': '13d2',\n    'Energy': 26.63,\n    'Health': 26.84,\n    'Level': 13,\n    'Name': 'Mud Mephit',\n    'Rarity': 'Rank 0',\n    'Sanity': 26.01,\n    'Time Stamp': '2022-03-31 07:23:55',\n    'Type': 'Elemental'},\n   {'Damage': '7d2+3',\n    'Energy': 13.9,\n    'Health': 14.8,\n    'Level': 7,\n    'Name': 'Diamond Demon',\n    'Rarity': 'Rank 0',\n    'Sanity': 14.59,\n    'Time Stamp': '2022-03-31 07:23:55',\n    'Type': 'Demonic'},\n   {'Damage': '9d2+1',\n    'Energy': 17.94,\n    'Health': 17.01,\n    'Level': 9,\n    'Name': 'Efreeti',\n    'Rarity': 'Rank 0',\n    'Sanity': 17.22,\n    'Time Stamp': '2022-03-31 07:23:55',\n    'Type': 'Elemental'},\n   {'Damage': '7d2+1',\n    'Energy': 13.95,\n    'Health': 13.61,\n    'Level': 7,\n    'Name': 'Ice Spirit',\n    'Rarity': 'Rank 0',\n    'Sanity': 13.19,\n    'Time Stamp': '2022-03-31 07:23:55',\n    'Type': 'Fey'},\n   {'Damage': '14d2+4',\n    'Energy': 28.36,\n    'Health': 27.39,\n    'Level': 14,\n    'Name': 'Bronze Drake',\n    'Rarity': 'Rank 0',\n    'Sanity': 28.63,\n    'Time Stamp': '2022-03-31 07:23:55',\n    'Type': 'Dragon'},\n   {'Damage': '7d2+1',\n    'Energy': 13.02,\n    'Health': 13.9,\n    'Level': 7,\n    'Name': 'Spore Spirit',\n    'Rarity': 'Rank 0',\n    'Sanity': 14.29,\n    'Time Stamp': '2022-03-31 07:23:55',\n    'Type': 'Fey'},\n   {'Damage': '4d2+4',\n    'Energy': 7.53,\n    'Health': 7.74,\n    'Level': 4,\n    'Name': 'Smoke Elemental',\n    'Rarity': 'Rank 0',\n    'Sanity': 8.48,\n    'Time Stamp': '2022-03-31 07:23:55',\n    'Type': 'Elemental'},\n   {'Damage': '11d2+3',\n    'Energy': 21.26,\n    'Health': 22.42,\n    'Level': 11,\n    'Name': 'Imp',\n    'Rarity': 'Rank 0',\n    'Sanity': 22.65,\n    'Time Stamp': '2022-03-31 07:23:55',\n    'Type': 'Demonic'},\n   {'Damage': '7d2',\n    'Energy': 13.36,\n    'Health': 14.12,\n    'Level': 7,\n    'Name': 'Flame Mephit',\n    'Rarity': 'Rank 0',\n    'Sanity': 13.9,\n    'Time Stamp': '2022-03-31 07:23:55',\n    'Type': 'Elemental'},\n   {'Damage': '10d2',\n    'Energy': 19.35,\n    'Health': 20.48,\n    'Level': 10,\n    'Name': 'Prince of Fear',\n    'Rarity': 'Rank 0',\n    'Sanity': 19.14,\n    'Time Stamp': '2022-03-31 07:23:55',\n    'Type': 'Devilkin'},\n   {'Damage': '14d2',\n    'Energy': 28.93,\n    'Health': 28.69,\n    'Level': 14,\n    'Name': 'Dust Mephit',\n    'Rarity': 'Rank 0',\n    'Sanity': 27.97,\n    'Time Stamp': '2022-03-31 07:23:55',\n    'Type': 'Elemental'},\n   {'Damage': '3d2+4',\n    'Energy': 5.05,\n    'Health': 6.55,\n    'Level': 3,\n    'Name': 'Wyvern',\n    'Rarity': 'Rank 0',\n    'Sanity': 6.69,\n    'Time Stamp': '2022-03-31 07:23:55',\n    'Type': 'Dragon'},\n   {'Damage': '5d2+2',\n    'Energy': 9.31,\n    'Health': 9.26,\n    'Level': 5,\n    'Name': 'Zombie Mage',\n    'Rarity': 'Rank 0',\n    'Sanity': 10.07,\n    'Time Stamp': '2022-03-31 07:23:55',\n    'Type': 'Undead'},\n   {'Damage': '7d2+1',\n    'Energy': 13.37,\n    'Health': 14.07,\n    'Level': 7,\n    'Name': 'Goblin Guard',\n    'Rarity': 'Rank 0',\n    'Sanity': 13.39,\n    'Time Stamp': '2022-03-31 07:23:55',\n    'Type': 'Devilkin'},\n   {'Damage': '11d2+2',\n    'Energy': 22.84,\n    'Health': 22.01,\n    'Level': 11,\n    'Name': 'Lightning Archfey',\n    'Rarity': 'Rank 0',\n    'Sanity': 21.79,\n    'Time Stamp': '2022-03-31 07:23:55',\n    'Type': 'Fey'},\n   {'Damage': '7d2+1',\n    'Energy': 13.32,\n    'Health': 13.85,\n    'Level': 7,\n    'Name': 'Succubus',\n    'Rarity': 'Rank 0',\n    'Sanity': 13.27,\n    'Time Stamp': '2022-03-31 07:23:55',\n    'Type': 'Devilkin'},\n   {'Damage': '4d2+1',\n    'Energy': 8.43,\n    'Health': 8.38,\n    'Level': 4,\n    'Name': 'White Dragon',\n    'Rarity': 'Rank 0',\n    'Sanity': 7.7,\n    'Time Stamp': '2022-03-31 07:23:55',\n    'Type': 'Dragon'},\n   {'Damage': '17d2+1',\n    'Energy': 34.62,\n    'Health': 33.41,\n    'Level': 17,\n    'Name': 'Emerald Faerie',\n    'Rarity': 'Rank 0',\n    'Sanity': 33.98,\n    'Time Stamp': '2022-03-31 07:23:55',\n    'Type': 'Fey'},\n   {'Damage': '11d2+3',\n    'Energy': 21.71,\n    'Health': 21.13,\n    'Level': 11,\n    'Name': 'Hook Horror',\n    'Rarity': 'Rank 0',\n    'Sanity': 22.92,\n    'Time Stamp': '2022-03-31 07:23:55',\n    'Type': 'Demonic'},\n   {'Damage': '10d2',\n    'Energy': 19.72,\n    'Health': 19.29,\n    'Level': 10,\n    'Name': 'Sapphire Faerie',\n    'Rarity': 'Rank 0',\n    'Sanity': 20.35,\n    'Time Stamp': '2022-03-31 07:23:55',\n    'Type': 'Fey'},\n   {'Damage': '15d2+4',\n    'Energy': 30.72,\n    'Health': 30.7,\n    'Level': 15,\n    'Name': 'Djinni',\n    'Rarity': 'Rank 0',\n    'Sanity': 29.33,\n    'Time Stamp': '2022-03-31 07:23:55',\n    'Type': 'Elemental'},\n   {'Damage': '3d2+4',\n    'Energy': 6.81,\n    'Health': 5.11,\n    'Level': 3,\n    'Name': 'Smoke Devil',\n    'Rarity': 'Rank 0',\n    'Sanity': 6.02,\n    'Time Stamp': '2022-03-31 07:23:55',\n    'Type': 'Devilkin'},\n   {'Damage': '17d2',\n    'Energy': 34.15,\n    'Health': 34.73,\n    'Level': 17,\n    'Name': 'Mummy Lord',\n    'Rarity': 'Rank 0',\n    'Sanity': 34.89,\n    'Time Stamp': '2022-03-31 07:23:55',\n    'Type': 'Undead'},\n   {'Damage': '7d2+3',\n    'Energy': 13.68,\n    'Health': 14.78,\n    'Level': 7,\n    'Name': 'Balor',\n    'Rarity': 'Rank 0',\n    'Sanity': 14.28,\n    'Time Stamp': '2022-03-31 07:23:55',\n    'Type': 'Demonic'},\n   {'Damage': '10d2+2',\n    'Energy': 20.01,\n    'Health': 20.18,\n    'Level': 10,\n    'Name': 'Gold Demon',\n    'Rarity': 'Rank 0',\n    'Sanity': 19.4,\n    'Time Stamp': '2022-03-31 07:23:55',\n    'Type': 'Demonic'},\n   {'Damage': '15d2',\n    'Energy': 30.38,\n    'Health': 30.31,\n    'Level': 15,\n    'Name': 'Magma Devil',\n    'Rarity': 'Rank 0',\n    'Sanity': 30.74,\n    'Time Stamp': '2022-03-31 07:23:55',\n    'Type': 'Devilkin'},\n   {'Damage': '10d2',\n    'Energy': 20.24,\n    'Health': 20.03,\n    'Level': 10,\n    'Name': 'Black Dragon',\n    'Rarity': 'Rank 0',\n    'Sanity': 19.41,\n    'Time Stamp': '2022-03-31 07:23:55',\n    'Type': 'Dragon'},\n   {'Damage': '8d2+3',\n    'Energy': 15.47,\n    'Health': 16.02,\n    'Level': 8,\n    'Name': 'Prince of Fear',\n    'Rarity': 'Rank 0',\n    'Sanity': 15.45,\n    'Time Stamp': '2022-03-31 07:23:55',\n    'Type': 'Devilkin'},\n   {'Damage': '7d2+1',\n    'Energy': 14.92,\n    'Health': 14.99,\n    'Level': 7,\n    'Name': 'Goblin Mage',\n    'Rarity': 'Rank 0',\n    'Sanity': 13.26,\n    'Time Stamp': '2022-03-31 07:23:55',\n    'Type': 'Devilkin'},\n   {'Damage': '6d2+1',\n    'Energy': 11.66,\n    'Health': 11.12,\n    'Level': 6,\n    'Name': 'Wyvern',\n    'Rarity': 'Rank 0',\n    'Sanity': 12.71,\n    'Time Stamp': '2022-03-31 07:23:55',\n    'Type': 'Dragon'},\n   {'Damage': '9d2',\n    'Energy': 18.79,\n    'Health': 17.01,\n    'Level': 9,\n    'Name': 'Poltergeist',\n    'Rarity': 'Rank 0',\n    'Sanity': 18.22,\n    'Time Stamp': '2022-03-31 07:23:55',\n    'Type': 'Undead'},\n   {'Damage': '3d2+4',\n    'Energy': 5.91,\n    'Health': 5.39,\n    'Level': 3,\n    'Name': 'Kobold Archer',\n    'Rarity': 'Rank 0',\n    'Sanity': 6.81,\n    'Time Stamp': '2022-03-31 07:23:55',\n    'Type': 'Devilkin'},\n   {'Damage': '7d2',\n    'Energy': 14.87,\n    'Health': 14.73,\n    'Level': 7,\n    'Name': 'Incubus',\n    'Rarity': 'Rank 0',\n    'Sanity': 13.05,\n    'Time Stamp': '2022-03-31 07:23:55',\n    'Type': 'Devilkin'},\n   {'Damage': '2d2+2',\n    'Energy': 4.32,\n    'Health': 4.16,\n    'Level': 2,\n    'Name': 'Quasit',\n    'Rarity': 'Rank 0',\n    'Sanity': 4.56,\n    'Time Stamp': '2022-03-31 07:23:55',\n    'Type': 'Demonic'},\n   {'Damage': '7d2+4',\n    'Energy': 13.01,\n    'Health': 14.79,\n    'Level': 7,\n    'Name': 'Ruby Archfey',\n    'Rarity': 'Rank 0',\n    'Sanity': 13.49,\n    'Time Stamp': '2022-03-31 07:23:55',\n    'Type': 'Fey'},\n   {'Damage': '6d2+1',\n    'Energy': 12.19,\n    'Health': 12.36,\n    'Level': 6,\n    'Name': 'Emerald Faerie',\n    'Rarity': 'Rank 0',\n    'Sanity': 11.87,\n    'Time Stamp': '2022-03-31 07:23:55',\n    'Type': 'Fey'},\n   {'Damage': '15d2',\n    'Energy': 29.41,\n    'Health': 30.22,\n    'Level': 15,\n    'Name': 'Death Knight',\n    'Rarity': 'Rank 0',\n    'Sanity': 29.12,\n    'Time Stamp': '2022-03-31 07:23:55',\n    'Type': 'Undead'},\n   {'Damage': '8d2+1',\n    'Energy': 16.55,\n    'Health': 15.37,\n    'Level': 8,\n    'Name': 'Demilich',\n    'Rarity': 'Rank 0',\n    'Sanity': 15.17,\n    'Time Stamp': '2022-03-31 07:23:55',\n    'Type': 'Undead'},\n   {'Damage': '5d2+1',\n    'Energy': 9.55,\n    'Health': 9.98,\n    'Level': 5,\n    'Name': 'Blue Faerie',\n    'Rarity': 'Rank 0',\n    'Sanity': 10.05,\n    'Time Stamp': '2022-03-31 07:23:55',\n    'Type': 'Fey'},\n   {'Damage': '9d2',\n    'Energy': 17.22,\n    'Health': 18.69,\n    'Level': 9,\n    'Name': 'Succubus',\n    'Rarity': 'Rank 0',\n    'Sanity': 17.46,\n    'Time Stamp': '2022-03-31 07:23:55',\n    'Type': 'Devilkin'},\n   {'Damage': '7d2',\n    'Energy': 13.29,\n    'Health': 14.62,\n    'Level': 7,\n    'Name': 'Steam Devil',\n    'Rarity': 'Rank 0',\n    'Sanity': 14.15,\n    'Time Stamp': '2022-03-31 07:23:55',\n    'Type': 'Devilkin'},\n   {'Damage': '3d2+1',\n    'Energy': 6.07,\n    'Health': 5.28,\n    'Level': 3,\n    'Name': 'Dust Elemental',\n    'Rarity': 'Rank 0',\n    'Sanity': 5.48,\n    'Time Stamp': '2022-03-31 07:23:55',\n    'Type': 'Elemental'},\n   {'Damage': '4d2+4',\n    'Energy': 8.21,\n    'Health': 7.38,\n    'Level': 4,\n    'Name': 'Prismatic Archfey',\n    'Rarity': 'Rank 0',\n    'Sanity': 8.93,\n    'Time Stamp': '2022-03-31 07:23:55',\n    'Type': 'Fey'},\n   {'Damage': '13d2+2',\n    'Energy': 25.81,\n    'Health': 26.4,\n    'Level': 13,\n    'Name': 'Mud Spirit',\n    'Rarity': 'Rank 0',\n    'Sanity': 26.46,\n    'Time Stamp': '2022-03-31 07:23:55',\n    'Type': 'Fey'},\n   {'Damage': '7d2+3',\n    'Energy': 14.5,\n    'Health': 14.9,\n    'Level': 7,\n    'Name': 'Night Hag',\n    'Rarity': 'Rank 0',\n    'Sanity': 14.09,\n    'Time Stamp': '2022-03-31 07:23:55',\n    'Type': 'Demonic'},\n   {'Damage': '6d2+2',\n    'Energy': 11.41,\n    'Health': 11.19,\n    'Level': 6,\n    'Name': 'Magma Devil',\n    'Rarity': 'Rank 0',\n    'Sanity': 11.33,\n    'Time Stamp': '2022-03-31 07:23:55',\n    'Type': 'Devilkin'},\n   {'Damage': '2d2',\n    'Energy': 3.06,\n    'Health': 4.38,\n    'Level': 2,\n    'Name': 'Black Drake',\n    'Rarity': 'Rank 0',\n    'Sanity': 4.25,\n    'Time Stamp': '2022-03-31 07:23:55',\n    'Type': 'Dragon'},\n   {'Damage': '18d2+2',\n    'Energy': 35.37,\n    'Health': 36.34,\n    'Level': 18,\n    'Name': 'Ice Mephit',\n    'Rarity': 'Rank 0',\n    'Sanity': 36.4,\n    'Time Stamp': '2022-03-31 07:23:55',\n    'Type': 'Elemental'},\n   {'Damage': '18d2',\n    'Energy': 36.32,\n    'Health': 36.24,\n    'Level': 18,\n    'Name': 'Hell Hound',\n    'Rarity': 'Rank 0',\n    'Sanity': 35.57,\n    'Time Stamp': '2022-03-31 07:23:55',\n    'Type': 'Demonic'},\n   {'Damage': '8d2',\n    'Energy': 16.68,\n    'Health': 15.98,\n    'Level': 8,\n    'Name': 'Lightning Devil',\n    'Rarity': 'Rank 0',\n    'Sanity': 15.67,\n    'Time Stamp': '2022-03-31 07:23:55',\n    'Type': 'Devilkin'},\n   {'Damage': '5d2',\n    'Energy': 10.86,\n    'Health': 9.55,\n    'Level': 5,\n    'Name': 'Balor',\n    'Rarity': 'Rank 0',\n    'Sanity': 10.03,\n    'Time Stamp': '2022-03-31 07:23:55',\n    'Type': 'Demonic'},\n   {'Damage': '11d2+5',\n    'Energy': 21.86,\n    'Health': 21.45,\n    'Level': 11,\n    'Name': 'Gold Drake',\n    'Rarity': 'Rank 0',\n    'Sanity': 21.2,\n    'Time Stamp': '2022-03-31 07:23:55',\n    'Type': 'Dragon'},\n   {'Damage': '8d2',\n    'Energy': 16.87,\n    'Health': 16.27,\n    'Level': 8,\n    'Name': 'Hook Horror',\n    'Rarity': 'Rank 0',\n    'Sanity': 15.13,\n    'Time Stamp': '2022-03-31 07:23:55',\n    'Type': 'Demonic'},\n   {'Damage': '3d2+3',\n    'Energy': 5.87,\n    'Health': 5.22,\n    'Level': 3,\n    'Name': 'Ice Elemental',\n    'Rarity': 'Rank 0',\n    'Sanity': 6.3,\n    'Time Stamp': '2022-03-31 07:23:55',\n    'Type': 'Elemental'},\n   {'Damage': '7d2',\n    'Energy': 13.56,\n    'Health': 14.55,\n    'Level': 7,\n    'Name': 'Prince of Fear',\n    'Rarity': 'Rank 0',\n    'Sanity': 13.73,\n    'Time Stamp': '2022-03-31 07:23:55',\n    'Type': 'Devilkin'},\n   {'Damage': '2d2+1',\n    'Energy': 3.58,\n    'Health': 3.13,\n    'Level': 2,\n    'Name': 'Bronze Demon',\n    'Rarity': 'Rank 0',\n    'Sanity': 3.08,\n    'Time Stamp': '2022-03-31 07:23:55',\n    'Type': 'Demonic'},\n   {'Damage': '7d2+2',\n    'Energy': 13.02,\n    'Health': 13.7,\n    'Level': 7,\n    'Name': 'Efreeti',\n    'Rarity': 'Rank 0',\n    'Sanity': 13.12,\n    'Time Stamp': '2022-03-31 07:23:55',\n    'Type': 'Elemental'},\n   {'Damage': '4d2+2',\n    'Energy': 7.23,\n    'Health': 7.36,\n    'Level': 4,\n    'Name': 'Night Hag',\n    'Rarity': 'Rank 0',\n    'Sanity': 7.78,\n    'Time Stamp': '2022-03-31 07:23:55',\n    'Type': 'Demonic'},\n   {'Damage': '5d2',\n    'Energy': 9.13,\n    'Health': 10.48,\n    'Level': 5,\n    'Name': 'Magma Archfey',\n    'Rarity': 'Rank 0',\n    'Sanity': 10.79,\n    'Time Stamp': '2022-03-31 07:23:55',\n    'Type': 'Fey'},\n   {'Damage': '3d2',\n    'Energy': 6.71,\n    'Health': 6.63,\n    'Level': 3,\n    'Name': 'Mud Devil',\n    'Rarity': 'Rank 0',\n    'Sanity': 5.62,\n    'Time Stamp': '2022-03-31 07:23:55',\n    'Type': 'Devilkin'},\n   {'Damage': '6d2+2',\n    'Energy': 12.3,\n    'Health': 11.38,\n    'Level': 6,\n    'Name': 'Smoke Elemental',\n    'Rarity': 'Rank 0',\n    'Sanity': 11.19,\n    'Time Stamp': '2022-03-31 07:23:55',\n    'Type': 'Elemental'},\n   {'Damage': '4d2+4',\n    'Energy': 8.98,\n    'Health': 7.56,\n    'Level': 4,\n    'Name': 'White Demon',\n    'Rarity': 'Rank 0',\n    'Sanity': 7.46,\n    'Time Stamp': '2022-03-31 07:23:55',\n    'Type': 'Demonic'},\n   {'Damage': '13d2+2',\n    'Energy': 25.26,\n    'Health': 26.15,\n    'Level': 13,\n    'Name': 'Incubus',\n    'Rarity': 'Rank 0',\n    'Sanity': 25.9,\n    'Time Stamp': '2022-03-31 07:23:55',\n    'Type': 'Devilkin'},\n   {'Damage': '2d2+2',\n    'Energy': 3.85,\n    'Health': 4.59,\n    'Level': 2,\n    'Name': 'Nightmare',\n    'Rarity': 'Rank 0',\n    'Sanity': 3.03,\n    'Time Stamp': '2022-03-31 07:23:55',\n    'Type': 'Demonic'},\n   {'Damage': '8d2+2',\n    'Energy': 16.97,\n    'Health': 15.39,\n    'Level': 8,\n    'Name': 'Quasit',\n    'Rarity': 'Rank 0',\n    'Sanity': 15.35,\n    'Time Stamp': '2022-03-31 07:23:55',\n    'Type': 'Demonic'},\n   {'Damage': '3d2+3',\n    'Energy': 6.24,\n    'Health': 6.66,\n    'Level': 3,\n    'Name': 'Red Archfey',\n    'Rarity': 'Rank 0',\n    'Sanity': 5.05,\n    'Time Stamp': '2022-03-31 07:23:55',\n    'Type': 'Fey'},\n   {'Damage': '8d2+3',\n    'Energy': 16.51,\n    'Health': 16.23,\n    'Level': 8,\n    'Name': 'Banshee',\n    'Rarity': 'Rank 0',\n    'Sanity': 15.37,\n    'Time Stamp': '2022-03-31 07:23:55',\n    'Type': 'Undead'},\n   {'Damage': '5d2+2',\n    'Energy': 9.35,\n    'Health': 9.84,\n    'Level': 5,\n    'Name': 'Kobold Mage',\n    'Rarity': 'Rank 0',\n    'Sanity': 9.44,\n    'Time Stamp': '2022-03-31 07:23:55',\n    'Type': 'Devilkin'},\n   {'Damage': '13d2',\n    'Energy': 26.13,\n    'Health': 26.74,\n    'Level': 13,\n    'Name': 'Shadow Mephit',\n    'Rarity': 'Rank 0',\n    'Sanity': 26.12,\n    'Time Stamp': '2022-03-31 07:23:55',\n    'Type': 'Elemental'},\n   {'Damage': '17d2',\n    'Energy': 33.99,\n    'Health': 34.06,\n    'Level': 17,\n    'Name': 'Diamond Faerie',\n    'Rarity': 'Rank 0',\n    'Sanity': 34.59,\n    'Time Stamp': '2022-03-31 07:23:55',\n    'Type': 'Fey'},\n   {'Damage': '3d2+3',\n    'Energy': 5.02,\n    'Health': 6.79,\n    'Level': 3,\n    'Name': 'Efreeti',\n    'Rarity': 'Rank 0',\n    'Sanity': 6.86,\n    'Time Stamp': '2022-03-31 07:23:55',\n    'Type': 'Elemental'},\n   {'Damage': '15d2',\n    'Energy': 30.58,\n    'Health': 30.39,\n    'Level': 15,\n    'Name': 'Spore Archfey',\n    'Rarity': 'Rank 0',\n    'Sanity': 29.57,\n    'Time Stamp': '2022-03-31 07:23:55',\n    'Type': 'Fey'},\n   {'Damage': '5d2+2',\n    'Energy': 10.31,\n    'Health': 9.81,\n    'Level': 5,\n    'Name': 'Night Hag',\n    'Rarity': 'Rank 0',\n    'Sanity': 10.2,\n    'Time Stamp': '2022-03-31 07:23:55',\n    'Type': 'Demonic'},\n   {'Damage': '7d2+3',\n    'Energy': 14.41,\n    'Health': 14.77,\n    'Level': 7,\n    'Name': 'White Drake',\n    'Rarity': 'Rank 0',\n    'Sanity': 14.6,\n    'Time Stamp': '2022-03-31 07:23:55',\n    'Type': 'Dragon'},\n   {'Damage': '13d2',\n    'Energy': 26.34,\n    'Health': 26.02,\n    'Level': 13,\n    'Name': 'Faerie Dragon',\n    'Rarity': 'Rank 0',\n    'Sanity': 25.18,\n    'Time Stamp': '2022-03-31 07:23:55',\n    'Type': 'Dragon'},\n   {'Damage': '8d2+3',\n    'Energy': 16.81,\n    'Health': 16.3,\n    'Level': 8,\n    'Name': 'Shadow Mephit',\n    'Rarity': 'Rank 0',\n    'Sanity': 15.45,\n    'Time Stamp': '2022-03-31 07:23:55',\n    'Type': 'Elemental'},\n   {'Damage': '11d2+3',\n    'Energy': 21.26,\n    'Health': 21.03,\n    'Level': 11,\n    'Name': 'Prismatic Wyrmling',\n    'Rarity': 'Rank 0',\n    'Sanity': 22.87,\n    'Time Stamp': '2022-03-31 07:23:55',\n    'Type': 'Dragon'},\n   {'Damage': '7d2',\n    'Energy': 13.79,\n    'Health': 14.31,\n    'Level': 7,\n    'Name': 'Efreeti',\n    'Rarity': 'Rank 0',\n    'Sanity': 14.59,\n    'Time Stamp': '2022-03-31 07:23:55',\n    'Type': 'Elemental'},\n   {'Damage': '5d2+5',\n    'Energy': 9.36,\n    'Health': 10.53,\n    'Level': 5,\n    'Name': 'Night Hag',\n    'Rarity': 'Rank 0',\n    'Sanity': 9.18,\n    'Time Stamp': '2022-03-31 07:23:55',\n    'Type': 'Demonic'},\n   {'Damage': '9d2+1',\n    'Energy': 17.65,\n    'Health': 18.21,\n    'Level': 9,\n    'Name': 'Smoke Elemental',\n    'Rarity': 'Rank 0',\n    'Sanity': 18.21,\n    'Time Stamp': '2022-03-31 07:23:55',\n    'Type': 'Elemental'},\n   {'Damage': '7d2',\n    'Energy': 13.31,\n    'Health': 14.53,\n    'Level': 7,\n    'Name': 'Magma Archfey',\n    'Rarity': 'Rank 0',\n    'Sanity': 13.88,\n    'Time Stamp': '2022-03-31 07:23:55',\n    'Type': 'Fey'},\n   {'Damage': '3d2+1',\n    'Energy': 5.91,\n    'Health': 5.51,\n    'Level': 3,\n    'Name': 'Platinum Wyrmling',\n    'Rarity': 'Rank 0',\n    'Sanity': 6.59,\n    'Time Stamp': '2022-03-31 07:23:55',\n    'Type': 'Dragon'},\n   {'Damage': '13d2+2',\n    'Energy': 26.54,\n    'Health': 25.86,\n    'Level': 13,\n    'Name': 'Efreeti',\n    'Rarity': 'Rank 0',\n    'Sanity': 26.94,\n    'Time Stamp': '2022-03-31 07:23:55',\n    'Type': 'Elemental'},\n   {'Damage': '2d2+1',\n    'Energy': 3.27,\n    'Health': 3.91,\n    'Level': 2,\n    'Name': 'Green Faerie',\n    'Rarity': 'Rank 0',\n    'Sanity': 4.99,\n    'Time Stamp': '2022-03-31 07:23:55',\n    'Type': 'Fey'},\n   {'Damage': '6d2+1',\n    'Energy': 12.97,\n    'Health': 11.38,\n    'Level': 6,\n    'Name': 'Lightning Mephit',\n    'Rarity': 'Rank 0',\n    'Sanity': 11.69,\n    'Time Stamp': '2022-03-31 07:23:55',\n    'Type': 'Elemental'},\n   {'Damage': '6d2+1',\n    'Energy': 11.13,\n    'Health': 12.42,\n    'Level': 6,\n    'Name': 'Flame Spirit',\n    'Rarity': 'Rank 0',\n    'Sanity': 11.77,\n    'Time Stamp': '2022-03-31 07:23:55',\n    'Type': 'Fey'},\n   {'Damage': '11d2',\n    'Energy': 21.85,\n    'Health': 21.12,\n    'Level': 11,\n    'Name': 'Pseudodragon',\n    'Rarity': 'Rank 0',\n    'Sanity': 22.08,\n    'Time Stamp': '2022-03-31 07:23:55',\n    'Type': 'Dragon'},\n   {'Damage': '2d2',\n    'Energy': 3.91,\n    'Health': 4.38,\n    'Level': 2,\n    'Name': 'Djinni',\n    'Rarity': 'Rank 0',\n    'Sanity': 3.17,\n    'Time Stamp': '2022-03-31 07:23:55',\n    'Type': 'Elemental'},\n   {'Damage': '7d2',\n    'Energy': 13.05,\n    'Health': 14.19,\n    'Level': 7,\n    'Name': 'Imp',\n    'Rarity': 'Rank 0',\n    'Sanity': 13.47,\n    'Time Stamp': '2022-03-31 07:23:55',\n    'Type': 'Demonic'},\n   {'Damage': '12d2+2',\n    'Energy': 23.72,\n    'Health': 24.43,\n    'Level': 12,\n    'Name': 'Ruby Drake',\n    'Rarity': 'Rank 0',\n    'Sanity': 24.28,\n    'Time Stamp': '2022-03-31 07:23:55',\n    'Type': 'Dragon'},\n   {'Damage': '2d2+3',\n    'Energy': 4.18,\n    'Health': 4.25,\n    'Level': 2,\n    'Name': 'Djinni',\n    'Rarity': 'Rank 0',\n    'Sanity': 4.9,\n    'Time Stamp': '2022-03-31 07:23:55',\n    'Type': 'Elemental'},\n   {'Damage': '15d2',\n    'Energy': 29.28,\n    'Health': 29.68,\n    'Level': 15,\n    'Name': 'Pseudodragon',\n    'Rarity': 'Rank 0',\n    'Sanity': 29.08,\n    'Time Stamp': '2022-03-31 07:23:55',\n    'Type': 'Dragon'},\n   {'Damage': '13d2+1',\n    'Energy': 25.38,\n    'Health': 25.95,\n    'Level': 13,\n    'Name': 'Pseudodragon',\n    'Rarity': 'Rank 0',\n    'Sanity': 25.1,\n    'Time Stamp': '2022-03-31 07:23:55',\n    'Type': 'Dragon'},\n   {'Damage': '4d2',\n    'Energy': 7.27,\n    'Health': 8.84,\n    'Level': 4,\n    'Name': 'Goblin Mage',\n    'Rarity': 'Rank 0',\n    'Sanity': 7.01,\n    'Time Stamp': '2022-03-31 07:23:55',\n    'Type': 'Devilkin'},\n   {'Damage': '2d2',\n    'Energy': 4.22,\n    'Health': 3.91,\n    'Level': 2,\n    'Name': 'Efreeti',\n    'Rarity': 'Rank 0',\n    'Sanity': 3.23,\n    'Time Stamp': '2022-03-31 07:23:55',\n    'Type': 'Elemental'},\n   {'Damage': '11d2',\n    'Energy': 22.38,\n    'Health': 21.94,\n    'Level': 11,\n    'Name': 'Vampire',\n    'Rarity': 'Rank 0',\n    'Sanity': 21.29,\n    'Time Stamp': '2022-03-31 07:23:55',\n    'Type': 'Undead'},\n   {'Damage': '1d2+1',\n    'Energy': 2.34,\n    'Health': 1.94,\n    'Level': 1,\n    'Name': 'Lightning Elemental',\n    'Rarity': 'Rank 0',\n    'Sanity': 1.66,\n    'Time Stamp': '2022-03-31 07:23:55',\n    'Type': 'Elemental'},\n   {'Damage': '19d2+4',\n    'Energy': 38.23,\n    'Health': 37.71,\n    'Level': 19,\n    'Name': 'Steam Spirit',\n    'Rarity': 'Rank 0',\n    'Sanity': 37.85,\n    'Time Stamp': '2022-03-31 07:23:55',\n    'Type': 'Fey'},\n   {'Damage': '8d2+1',\n    'Energy': 15.78,\n    'Health': 15.35,\n    'Level': 8,\n    'Name': 'Kobold Knight',\n    'Rarity': 'Rank 0',\n    'Sanity': 15.79,\n    'Time Stamp': '2022-03-31 07:23:55',\n    'Type': 'Devilkin'},\n   {'Damage': '1d2',\n    'Energy': 2.28,\n    'Health': 2.67,\n    'Level': 1,\n    'Name': 'Ghostly Mage',\n    'Rarity': 'Rank 0',\n    'Sanity': 1.17,\n    'Time Stamp': '2022-03-31 07:23:55',\n    'Type': 'Undead'},\n   {'Damage': '11d2',\n    'Energy': 22.15,\n    'Health': 22.87,\n    'Level': 11,\n    'Name': 'Efreeti',\n    'Rarity': 'Rank 0',\n    'Sanity': 21.32,\n    'Time Stamp': '2022-03-31 07:23:55',\n    'Type': 'Elemental'},\n   {'Damage': '3d2+2',\n    'Energy': 5.92,\n    'Health': 6.3,\n    'Level': 3,\n    'Name': 'Lich',\n    'Rarity': 'Rank 0',\n    'Sanity': 5.23,\n    'Time Stamp': '2022-03-31 07:23:55',\n    'Type': 'Undead'},\n   {'Damage': '3d2+2',\n    'Energy': 6.81,\n    'Health': 6.72,\n    'Level': 3,\n    'Name': 'Djinni',\n    'Rarity': 'Rank 0',\n    'Sanity': 6.59,\n    'Time Stamp': '2022-03-31 07:23:55',\n    'Type': 'Elemental'},\n   {'Damage': '11d2',\n    'Energy': 22.65,\n    'Health': 22.09,\n    'Level': 11,\n    'Name': 'Nightmare',\n    'Rarity': 'Rank 0',\n    'Sanity': 21.69,\n    'Time Stamp': '2022-03-31 07:23:55',\n    'Type': 'Demonic'},\n   {'Damage': '5d2+3',\n    'Energy': 10.46,\n    'Health': 9.36,\n    'Level': 5,\n    'Name': 'Pit Lord',\n    'Rarity': 'Rank 0',\n    'Sanity': 10.89,\n    'Time Stamp': '2022-03-31 07:23:55',\n    'Type': 'Devilkin'},\n   {'Damage': '7d2',\n    'Energy': 14.23,\n    'Health': 13.62,\n    'Level': 7,\n    'Name': 'Lightning Elemental',\n    'Rarity': 'Rank 0',\n    'Sanity': 14.08,\n    'Time Stamp': '2022-03-31 07:23:55',\n    'Type': 'Elemental'},\n   {'Damage': '12d2+2',\n    'Energy': 23.81,\n    'Health': 24.93,\n    'Level': 12,\n    'Name': 'Pit Fiend',\n    'Rarity': 'Rank 0',\n    'Sanity': 24.0,\n    'Time Stamp': '2022-03-31 07:23:55',\n    'Type': 'Demonic'},\n   {'Damage': '12d2+2',\n    'Energy': 23.96,\n    'Health': 24.34,\n    'Level': 12,\n    'Name': 'Steam Elemental',\n    'Rarity': 'Rank 0',\n    'Sanity': 24.56,\n    'Time Stamp': '2022-03-31 07:23:55',\n    'Type': 'Elemental'},\n   {'Damage': '2d2+1',\n    'Energy': 3.49,\n    'Health': 4.14,\n    'Level': 2,\n    'Name': 'Lich',\n    'Rarity': 'Rank 0',\n    'Sanity': 4.85,\n    'Time Stamp': '2022-03-31 07:23:55',\n    'Type': 'Undead'},\n   {'Damage': '6d2+1',\n    'Energy': 11.05,\n    'Health': 11.37,\n    'Level': 6,\n    'Name': 'Djinni',\n    'Rarity': 'Rank 0',\n    'Sanity': 11.88,\n    'Time Stamp': '2022-03-31 07:23:55',\n    'Type': 'Elemental'},\n   {'Damage': '6d2+1',\n    'Energy': 12.21,\n    'Health': 12.18,\n    'Level': 6,\n    'Name': 'Prismatic Archfey',\n    'Rarity': 'Rank 0',\n    'Sanity': 12.07,\n    'Time Stamp': '2022-03-31 07:23:55',\n    'Type': 'Fey'},\n   {'Damage': '4d2+1',\n    'Energy': 8.09,\n    'Health': 8.47,\n    'Level': 4,\n    'Name': 'Djinni',\n    'Rarity': 'Rank 0',\n    'Sanity': 8.7,\n    'Time Stamp': '2022-03-31 07:23:55',\n    'Type': 'Elemental'},\n   {'Damage': '7d2',\n    'Energy': 14.9,\n    'Health': 13.0,\n    'Level': 7,\n    'Name': 'Balor',\n    'Rarity': 'Rank 0',\n    'Sanity': 13.1,\n    'Time Stamp': '2022-03-31 07:23:55',\n    'Type': 'Demonic'},\n   {'Damage': '3d2',\n    'Energy': 6.34,\n    'Health': 6.65,\n    'Level': 3,\n    'Name': 'Gold Demon',\n    'Rarity': 'Rank 0',\n    'Sanity': 5.47,\n    'Time Stamp': '2022-03-31 07:23:55',\n    'Type': 'Demonic'},\n   {'Damage': '13d2+1',\n    'Energy': 25.6,\n    'Health': 25.71,\n    'Level': 13,\n    'Name': 'Magma Devil',\n    'Rarity': 'Rank 0',\n    'Sanity': 25.13,\n    'Time Stamp': '2022-03-31 07:23:55',\n    'Type': 'Devilkin'},\n   {'Damage': '10d2',\n    'Energy': 20.31,\n    'Health': 19.2,\n    'Level': 10,\n    'Name': 'Diamond Wyrmling',\n    'Rarity': 'Rank 0',\n    'Sanity': 20.94,\n    'Time Stamp': '2022-03-31 07:23:55',\n    'Type': 'Dragon'},\n   {'Damage': '2d2+5',\n    'Energy': 4.4,\n    'Health': 4.77,\n    'Level': 2,\n    'Name': 'Efreeti',\n    'Rarity': 'Rank 0',\n    'Sanity': 3.43,\n    'Time Stamp': '2022-03-31 07:23:55',\n    'Type': 'Elemental'},\n   {'Damage': '14d2+2',\n    'Energy': 28.24,\n    'Health': 27.62,\n    'Level': 14,\n    'Name': 'Night Hag',\n    'Rarity': 'Rank 0',\n    'Sanity': 27.03,\n    'Time Stamp': '2022-03-31 07:23:55',\n    'Type': 'Demonic'},\n   {'Damage': '10d2+1',\n    'Energy': 19.32,\n    'Health': 20.89,\n    'Level': 10,\n    'Name': 'Lightning Archfey',\n    'Rarity': 'Rank 0',\n    'Sanity': 20.38,\n    'Time Stamp': '2022-03-31 07:23:55',\n    'Type': 'Fey'},\n   {'Damage': '6d2',\n    'Energy': 12.82,\n    'Health': 12.79,\n    'Level': 6,\n    'Name': 'Sapphire Wyrmling',\n    'Rarity': 'Rank 0',\n    'Sanity': 11.01,\n    'Time Stamp': '2022-03-31 07:23:55',\n    'Type': 'Dragon'},\n   {'Damage': '4d2+5',\n    'Energy': 7.44,\n    'Health': 8.45,\n    'Level': 4,\n    'Name': 'Zombie Guard',\n    'Rarity': 'Rank 0',\n    'Sanity': 8.46,\n    'Time Stamp': '2022-03-31 07:23:55',\n    'Type': 'Undead'},\n   {'Damage': '2d2+1',\n    'Energy': 3.57,\n    'Health': 4.75,\n    'Level': 2,\n    'Name': 'Prince of Fear',\n    'Rarity': 'Rank 0',\n    'Sanity': 3.04,\n    'Time Stamp': '2022-03-31 07:23:55',\n    'Type': 'Devilkin'},\n   {'Damage': '5d2+2',\n    'Energy': 9.3,\n    'Health': 9.57,\n    'Level': 5,\n    'Name': 'Brass Drake',\n    'Rarity': 'Rank 0',\n    'Sanity': 9.09,\n    'Time Stamp': '2022-03-31 07:23:55',\n    'Type': 'Dragon'},\n   {'Damage': '9d2+1',\n    'Energy': 17.91,\n    'Health': 17.02,\n    'Level': 9,\n    'Name': 'Emerald Demon',\n    'Rarity': 'Rank 0',\n    'Sanity': 18.64,\n    'Time Stamp': '2022-03-31 07:23:55',\n    'Type': 'Demonic'}]},\n 'encoding': {'color': {'field': 'Type', 'type': 'nominal'},\n  'tooltip': [{'field': 'Name', 'type': 'nominal'},\n   {'field': 'Type', 'type': 'nominal'},\n   {'field': 'Level', 'type': 'quantitative'},\n   {'field': 'Rarity', 'type': 'nominal'},\n   {'field': 'Damage', 'type': 'nominal'},\n   {'field': 'Health', 'type': 'quantitative'},\n   {'field': 'Energy', 'type': 'quantitative'},\n   {'field': 'Sanity', 'type': 'quantitative'},\n   {'field': 'Time Stamp', 'type': 'nominal'}],\n  'x': {'axis': {'title': 'Time Stamp'},\n   'field': 'Time Stamp',\n   'type': 'nominal'},\n  'y': {'axis': {'title': 'Level'}, 'field': 'Level', 'type': 'quantitative'}},\n 'height': 500,\n 'mark': {'size': 200, 'type': 'circle'},\n 'title': 'Rank 0 Monsters',\n 'width': 500}"
     },
     "execution_count": 56,
     "metadata": {},
     "output_type": "execute_result"
    }
   ]
  },
  {
   "cell_type": "code",
   "metadata": {
    "id": "LBBW6n9RSB2y"
   },
   "source": [
    "# json dumps will create a clean json string from a dict\n",
    "scatter_plot_json = json.dumps(scatter_plot_dict)\n",
    "scatter_plot_json"
   ],
   "execution_count": 57,
   "outputs": [
    {
     "data": {
      "text/plain": "'{\"$schema\": \"https://vega.github.io/schema/vega-lite/v4.8.1.json\", \"config\": {\"view\": {\"continuousHeight\": 300, \"continuousWidth\": 400}}, \"data\": {\"name\": \"data-bc909eade4e963ccacb1652308ad0036\"}, \"datasets\": {\"data-bc909eade4e963ccacb1652308ad0036\": [{\"Damage\": \"4d2+3\", \"Energy\": 8.1, \"Health\": 7.73, \"Level\": 4, \"Name\": \"Dust Spirit\", \"Rarity\": \"Rank 0\", \"Sanity\": 8.62, \"Time Stamp\": \"2022-03-31 07:23:55\", \"Type\": \"Fey\"}, {\"Damage\": \"12d2\", \"Energy\": 24.32, \"Health\": 24.01, \"Level\": 12, \"Name\": \"Emerald Dragon\", \"Rarity\": \"Rank 0\", \"Sanity\": 23.85, \"Time Stamp\": \"2022-03-31 07:23:55\", \"Type\": \"Dragon\"}, {\"Damage\": \"13d2+1\", \"Energy\": 25.26, \"Health\": 26.77, \"Level\": 13, \"Name\": \"Djinni\", \"Rarity\": \"Rank 0\", \"Sanity\": 25.07, \"Time Stamp\": \"2022-03-31 07:23:55\", \"Type\": \"Elemental\"}, {\"Damage\": \"8d2\", \"Energy\": 16.85, \"Health\": 15.57, \"Level\": 8, \"Name\": \"Steam Archfey\", \"Rarity\": \"Rank 0\", \"Sanity\": 15.07, \"Time Stamp\": \"2022-03-31 07:23:55\", \"Type\": \"Fey\"}, {\"Damage\": \"12d2\", \"Energy\": 23.42, \"Health\": 24.12, \"Level\": 12, \"Name\": \"Pit Lord\", \"Rarity\": \"Rank 0\", \"Sanity\": 24.62, \"Time Stamp\": \"2022-03-31 07:23:55\", \"Type\": \"Devilkin\"}, {\"Damage\": \"3d2+3\", \"Energy\": 6.84, \"Health\": 6.38, \"Level\": 3, \"Name\": \"Smoke Archfey\", \"Rarity\": \"Rank 0\", \"Sanity\": 6.35, \"Time Stamp\": \"2022-03-31 07:23:55\", \"Type\": \"Fey\"}, {\"Damage\": \"1d2+2\", \"Energy\": 2.97, \"Health\": 1.24, \"Level\": 1, \"Name\": \"Magma Spirit\", \"Rarity\": \"Rank 0\", \"Sanity\": 1.03, \"Time Stamp\": \"2022-03-31 07:23:55\", \"Type\": \"Fey\"}, {\"Damage\": \"13d2\", \"Energy\": 26.15, \"Health\": 26.92, \"Level\": 13, \"Name\": \"Hook Horror\", \"Rarity\": \"Rank 0\", \"Sanity\": 25.93, \"Time Stamp\": \"2022-03-31 07:23:55\", \"Type\": \"Demonic\"}, {\"Damage\": \"5d2\", \"Energy\": 9.99, \"Health\": 9.87, \"Level\": 5, \"Name\": \"Pseudodragon\", \"Rarity\": \"Rank 0\", \"Sanity\": 10.62, \"Time Stamp\": \"2022-03-31 07:23:55\", \"Type\": \"Dragon\"}, {\"Damage\": \"13d2\", \"Energy\": 25.05, \"Health\": 26.85, \"Level\": 13, \"Name\": \"Shadow Archfey\", \"Rarity\": \"Rank 0\", \"Sanity\": 25.12, \"Time Stamp\": \"2022-03-31 07:23:55\", \"Type\": \"Fey\"}, {\"Damage\": \"2d2+2\", \"Energy\": 4.15, \"Health\": 3.21, \"Level\": 2, \"Name\": \"Faerie Dragon\", \"Rarity\": \"Rank 0\", \"Sanity\": 4.45, \"Time Stamp\": \"2022-03-31 07:23:55\", \"Type\": \"Dragon\"}, {\"Damage\": \"2d2+2\", \"Energy\": 3.37, \"Health\": 4.28, \"Level\": 2, \"Name\": \"Onyx Faerie\", \"Rarity\": \"Rank 0\", \"Sanity\": 4.54, \"Time Stamp\": \"2022-03-31 07:23:55\", \"Type\": \"Fey\"}, {\"Damage\": \"3d2+1\", \"Energy\": 6.18, \"Health\": 5.61, \"Level\": 3, \"Name\": \"Nightmare\", \"Rarity\": \"Rank 0\", \"Sanity\": 6.17, \"Time Stamp\": \"2022-03-31 07:23:55\", \"Type\": \"Demonic\"}, {\"Damage\": \"2d2+2\", \"Energy\": 3.24, \"Health\": 3.79, \"Level\": 2, \"Name\": \"Pit Lord\", \"Rarity\": \"Rank 0\", \"Sanity\": 3.29, \"Time Stamp\": \"2022-03-31 07:23:55\", \"Type\": \"Devilkin\"}, {\"Damage\": \"7d2+1\", \"Energy\": 13.47, \"Health\": 13.17, \"Level\": 7, \"Name\": \"Wyvern\", \"Rarity\": \"Rank 0\", \"Sanity\": 14.58, \"Time Stamp\": \"2022-03-31 07:23:55\", \"Type\": \"Dragon\"}, {\"Damage\": \"8d2+2\", \"Energy\": 15.35, \"Health\": 16.66, \"Level\": 8, \"Name\": \"Succubus\", \"Rarity\": \"Rank 0\", \"Sanity\": 16.35, \"Time Stamp\": \"2022-03-31 07:23:55\", \"Type\": \"Devilkin\"}, {\"Damage\": \"10d2\", \"Energy\": 20.73, \"Health\": 19.75, \"Level\": 10, \"Name\": \"Wyvern\", \"Rarity\": \"Rank 0\", \"Sanity\": 19.53, \"Time Stamp\": \"2022-03-31 07:23:55\", \"Type\": \"Dragon\"}, {\"Damage\": \"16d2+2\", \"Energy\": 31.18, \"Health\": 31.35, \"Level\": 16, \"Name\": \"Shadow Mephit\", \"Rarity\": \"Rank 0\", \"Sanity\": 32.25, \"Time Stamp\": \"2022-03-31 07:23:55\", \"Type\": \"Elemental\"}, {\"Damage\": \"6d2+1\", \"Energy\": 11.25, \"Health\": 11.48, \"Level\": 6, \"Name\": \"Lich King\", \"Rarity\": \"Rank 0\", \"Sanity\": 11.83, \"Time Stamp\": \"2022-03-31 07:23:55\", \"Type\": \"Undead\"}, {\"Damage\": \"17d2+3\", \"Energy\": 33.36, \"Health\": 33.41, \"Level\": 17, \"Name\": \"Balor\", \"Rarity\": \"Rank 0\", \"Sanity\": 34.21, \"Time Stamp\": \"2022-03-31 07:23:55\", \"Type\": \"Demonic\"}, {\"Damage\": \"4d2+1\", \"Energy\": 7.34, \"Health\": 8.72, \"Level\": 4, \"Name\": \"Prince of Fear\", \"Rarity\": \"Rank 0\", \"Sanity\": 7.22, \"Time Stamp\": \"2022-03-31 07:23:55\", \"Type\": \"Devilkin\"}, {\"Damage\": \"6d2\", \"Energy\": 11.39, \"Health\": 11.19, \"Level\": 6, \"Name\": \"Faerie Dragon\", \"Rarity\": \"Rank 0\", \"Sanity\": 11.14, \"Time Stamp\": \"2022-03-31 07:23:55\", \"Type\": \"Dragon\"}, {\"Damage\": \"9d2\", \"Energy\": 17.4, \"Health\": 17.86, \"Level\": 9, \"Name\": \"Dust Devil\", \"Rarity\": \"Rank 0\", \"Sanity\": 18.08, \"Time Stamp\": \"2022-03-31 07:23:55\", \"Type\": \"Devilkin\"}, {\"Damage\": \"10d2\", \"Energy\": 20.97, \"Health\": 19.91, \"Level\": 10, \"Name\": \"Lich King\", \"Rarity\": \"Rank 0\", \"Sanity\": 20.56, \"Time Stamp\": \"2022-03-31 07:23:55\", \"Type\": \"Undead\"}, {\"Damage\": \"3d2+2\", \"Energy\": 6.58, \"Health\": 5.21, \"Level\": 3, \"Name\": \"Faerie Dragon\", \"Rarity\": \"Rank 0\", \"Sanity\": 6.17, \"Time Stamp\": \"2022-03-31 07:23:55\", \"Type\": \"Dragon\"}, {\"Damage\": \"7d2\", \"Energy\": 13.26, \"Health\": 13.4, \"Level\": 7, \"Name\": \"Pit Fiend\", \"Rarity\": \"Rank 0\", \"Sanity\": 14.14, \"Time Stamp\": \"2022-03-31 07:23:55\", \"Type\": \"Demonic\"}, {\"Damage\": \"5d2\", \"Energy\": 10.59, \"Health\": 10.46, \"Level\": 5, \"Name\": \"Pit Fiend\", \"Rarity\": \"Rank 0\", \"Sanity\": 10.62, \"Time Stamp\": \"2022-03-31 07:23:55\", \"Type\": \"Demonic\"}, {\"Damage\": \"8d2+1\", \"Energy\": 16.51, \"Health\": 16.32, \"Level\": 8, \"Name\": \"Goblin Guard\", \"Rarity\": \"Rank 0\", \"Sanity\": 15.54, \"Time Stamp\": \"2022-03-31 07:23:55\", \"Type\": \"Devilkin\"}, {\"Damage\": \"10d2+3\", \"Energy\": 19.08, \"Health\": 19.37, \"Level\": 10, \"Name\": \"Hook Horror\", \"Rarity\": \"Rank 0\", \"Sanity\": 19.85, \"Time Stamp\": \"2022-03-31 07:23:55\", \"Type\": \"Demonic\"}, {\"Damage\": \"2d2+2\", \"Energy\": 3.12, \"Health\": 3.13, \"Level\": 2, \"Name\": \"Pit Lord\", \"Rarity\": \"Rank 0\", \"Sanity\": 4.07, \"Time Stamp\": \"2022-03-31 07:23:55\", \"Type\": \"Devilkin\"}, {\"Damage\": \"12d2\", \"Energy\": 23.39, \"Health\": 24.64, \"Level\": 12, \"Name\": \"Silver Drake\", \"Rarity\": \"Rank 0\", \"Sanity\": 23.14, \"Time Stamp\": \"2022-03-31 07:23:55\", \"Type\": \"Dragon\"}, {\"Damage\": \"2d2+4\", \"Energy\": 3.98, \"Health\": 3.19, \"Level\": 2, \"Name\": \"Platinum Faerie\", \"Rarity\": \"Rank 0\", \"Sanity\": 4.49, \"Time Stamp\": \"2022-03-31 07:23:55\", \"Type\": \"Fey\"}, {\"Damage\": \"6d2\", \"Energy\": 12.6, \"Health\": 12.28, \"Level\": 6, \"Name\": \"Red Dragon\", \"Rarity\": \"Rank 0\", \"Sanity\": 12.03, \"Time Stamp\": \"2022-03-31 07:23:55\", \"Type\": \"Dragon\"}, {\"Damage\": \"9d2\", \"Energy\": 18.38, \"Health\": 17.53, \"Level\": 9, \"Name\": \"Efreeti\", \"Rarity\": \"Rank 0\", \"Sanity\": 17.84, \"Time Stamp\": \"2022-03-31 07:23:55\", \"Type\": \"Elemental\"}, {\"Damage\": \"12d2\", \"Energy\": 23.09, \"Health\": 23.4, \"Level\": 12, \"Name\": \"Imp\", \"Rarity\": \"Rank 0\", \"Sanity\": 24.74, \"Time Stamp\": \"2022-03-31 07:23:55\", \"Type\": \"Demonic\"}, {\"Damage\": \"10d2+1\", \"Energy\": 20.19, \"Health\": 20.78, \"Level\": 10, \"Name\": \"Emerald Archfey\", \"Rarity\": \"Rank 0\", \"Sanity\": 20.59, \"Time Stamp\": \"2022-03-31 07:23:55\", \"Type\": \"Fey\"}, {\"Damage\": \"7d2+2\", \"Energy\": 13.02, \"Health\": 14.19, \"Level\": 7, \"Name\": \"Prismatic Drake\", \"Rarity\": \"Rank 0\", \"Sanity\": 13.2, \"Time Stamp\": \"2022-03-31 07:23:55\", \"Type\": \"Dragon\"}, {\"Damage\": \"6d2+2\", \"Energy\": 12.23, \"Health\": 12.46, \"Level\": 6, \"Name\": \"Revenant\", \"Rarity\": \"Rank 0\", \"Sanity\": 12.9, \"Time Stamp\": \"2022-03-31 07:23:55\", \"Type\": \"Undead\"}, {\"Damage\": \"15d2+1\", \"Energy\": 29.84, \"Health\": 30.52, \"Level\": 15, \"Name\": \"Goblin Mage\", \"Rarity\": \"Rank 0\", \"Sanity\": 30.57, \"Time Stamp\": \"2022-03-31 07:23:55\", \"Type\": \"Devilkin\"}, {\"Damage\": \"8d2+5\", \"Energy\": 15.42, \"Health\": 15.43, \"Level\": 8, \"Name\": \"Green Demon\", \"Rarity\": \"Rank 0\", \"Sanity\": 16.59, \"Time Stamp\": \"2022-03-31 07:23:55\", \"Type\": \"Demonic\"}, {\"Damage\": \"7d2+3\", \"Energy\": 14.0, \"Health\": 14.21, \"Level\": 7, \"Name\": \"Revenant\", \"Rarity\": \"Rank 0\", \"Sanity\": 14.31, \"Time Stamp\": \"2022-03-31 07:23:55\", \"Type\": \"Undead\"}, {\"Damage\": \"15d2+2\", \"Energy\": 29.29, \"Health\": 29.79, \"Level\": 15, \"Name\": \"Skeletal Knight\", \"Rarity\": \"Rank 0\", \"Sanity\": 30.58, \"Time Stamp\": \"2022-03-31 07:23:55\", \"Type\": \"Undead\"}, {\"Damage\": \"10d2+1\", \"Energy\": 20.03, \"Health\": 20.46, \"Level\": 10, \"Name\": \"Succubus\", \"Rarity\": \"Rank 0\", \"Sanity\": 19.46, \"Time Stamp\": \"2022-03-31 07:23:55\", \"Type\": \"Devilkin\"}, {\"Damage\": \"4d2+3\", \"Energy\": 7.26, \"Health\": 8.03, \"Level\": 4, \"Name\": \"Balor\", \"Rarity\": \"Rank 0\", \"Sanity\": 8.74, \"Time Stamp\": \"2022-03-31 07:23:55\", \"Type\": \"Demonic\"}, {\"Damage\": \"12d2+3\", \"Energy\": 24.19, \"Health\": 23.27, \"Level\": 12, \"Name\": \"Gold Dragon\", \"Rarity\": \"Rank 0\", \"Sanity\": 23.4, \"Time Stamp\": \"2022-03-31 07:23:55\", \"Type\": \"Dragon\"}, {\"Damage\": \"7d2+3\", \"Energy\": 13.61, \"Health\": 14.86, \"Level\": 7, \"Name\": \"Balor\", \"Rarity\": \"Rank 0\", \"Sanity\": 13.45, \"Time Stamp\": \"2022-03-31 07:23:55\", \"Type\": \"Demonic\"}, {\"Damage\": \"2d2+3\", \"Energy\": 4.12, \"Health\": 3.2, \"Level\": 2, \"Name\": \"Demilich\", \"Rarity\": \"Rank 0\", \"Sanity\": 3.6, \"Time Stamp\": \"2022-03-31 07:23:55\", \"Type\": \"Undead\"}, {\"Damage\": \"7d2+2\", \"Energy\": 14.13, \"Health\": 14.29, \"Level\": 7, \"Name\": \"Nightmare\", \"Rarity\": \"Rank 0\", \"Sanity\": 13.48, \"Time Stamp\": \"2022-03-31 07:23:55\", \"Type\": \"Demonic\"}, {\"Damage\": \"8d2+4\", \"Energy\": 16.17, \"Health\": 16.09, \"Level\": 8, \"Name\": \"Quasit\", \"Rarity\": \"Rank 0\", \"Sanity\": 16.54, \"Time Stamp\": \"2022-03-31 07:23:55\", \"Type\": \"Demonic\"}, {\"Damage\": \"9d2\", \"Energy\": 17.49, \"Health\": 17.41, \"Level\": 9, \"Name\": \"Djinni\", \"Rarity\": \"Rank 0\", \"Sanity\": 17.87, \"Time Stamp\": \"2022-03-31 07:23:55\", \"Type\": \"Elemental\"}, {\"Damage\": \"4d2+5\", \"Energy\": 7.08, \"Health\": 8.3, \"Level\": 4, \"Name\": \"Balor\", \"Rarity\": \"Rank 0\", \"Sanity\": 7.17, \"Time Stamp\": \"2022-03-31 07:23:55\", \"Type\": \"Demonic\"}, {\"Damage\": \"3d2\", \"Energy\": 5.88, \"Health\": 5.25, \"Level\": 3, \"Name\": \"Quasit\", \"Rarity\": \"Rank 0\", \"Sanity\": 6.79, \"Time Stamp\": \"2022-03-31 07:23:55\", \"Type\": \"Demonic\"}, {\"Damage\": \"8d2+1\", \"Energy\": 16.11, \"Health\": 15.11, \"Level\": 8, \"Name\": \"Djinni\", \"Rarity\": \"Rank 0\", \"Sanity\": 15.06, \"Time Stamp\": \"2022-03-31 07:23:55\", \"Type\": \"Elemental\"}, {\"Damage\": \"4d2+1\", \"Energy\": 7.32, \"Health\": 8.34, \"Level\": 4, \"Name\": \"Night Hag\", \"Rarity\": \"Rank 0\", \"Sanity\": 8.88, \"Time Stamp\": \"2022-03-31 07:23:55\", \"Type\": \"Demonic\"}, {\"Damage\": \"11d2+1\", \"Energy\": 22.47, \"Health\": 21.89, \"Level\": 11, \"Name\": \"Green Wyrmling\", \"Rarity\": \"Rank 0\", \"Sanity\": 21.38, \"Time Stamp\": \"2022-03-31 07:23:55\", \"Type\": \"Dragon\"}, {\"Damage\": \"8d2+2\", \"Energy\": 16.92, \"Health\": 16.38, \"Level\": 8, \"Name\": \"Kobold Mage\", \"Rarity\": \"Rank 0\", \"Sanity\": 16.57, \"Time Stamp\": \"2022-03-31 07:23:55\", \"Type\": \"Devilkin\"}, {\"Damage\": \"13d2+1\", \"Energy\": 25.25, \"Health\": 26.05, \"Level\": 13, \"Name\": \"Balor\", \"Rarity\": \"Rank 0\", \"Sanity\": 25.2, \"Time Stamp\": \"2022-03-31 07:23:55\", \"Type\": \"Demonic\"}, {\"Damage\": \"2d2+1\", \"Energy\": 3.54, \"Health\": 4.41, \"Level\": 2, \"Name\": \"Revenant\", \"Rarity\": \"Rank 0\", \"Sanity\": 4.35, \"Time Stamp\": \"2022-03-31 07:23:55\", \"Type\": \"Undead\"}, {\"Damage\": \"9d2\", \"Energy\": 18.51, \"Health\": 17.32, \"Level\": 9, \"Name\": \"Platinum Archfey\", \"Rarity\": \"Rank 0\", \"Sanity\": 17.13, \"Time Stamp\": \"2022-03-31 07:23:55\", \"Type\": \"Fey\"}, {\"Damage\": \"3d2+2\", \"Energy\": 6.22, \"Health\": 5.3, \"Level\": 3, \"Name\": \"Zombie Knight\", \"Rarity\": \"Rank 0\", \"Sanity\": 5.29, \"Time Stamp\": \"2022-03-31 07:23:55\", \"Type\": \"Undead\"}, {\"Damage\": \"8d2+2\", \"Energy\": 16.56, \"Health\": 15.83, \"Level\": 8, \"Name\": \"Ruby Faerie\", \"Rarity\": \"Rank 0\", \"Sanity\": 16.99, \"Time Stamp\": \"2022-03-31 07:23:55\", \"Type\": \"Fey\"}, {\"Damage\": \"8d2+1\", \"Energy\": 16.52, \"Health\": 15.54, \"Level\": 8, \"Name\": \"Quasit\", \"Rarity\": \"Rank 0\", \"Sanity\": 15.37, \"Time Stamp\": \"2022-03-31 07:23:55\", \"Type\": \"Demonic\"}, {\"Damage\": \"7d2\", \"Energy\": 13.07, \"Health\": 13.36, \"Level\": 7, \"Name\": \"Faerie Dragon\", \"Rarity\": \"Rank 0\", \"Sanity\": 14.08, \"Time Stamp\": \"2022-03-31 07:23:55\", \"Type\": \"Dragon\"}, {\"Damage\": \"3d2+1\", \"Energy\": 6.37, \"Health\": 6.15, \"Level\": 3, \"Name\": \"White Faerie\", \"Rarity\": \"Rank 0\", \"Sanity\": 5.16, \"Time Stamp\": \"2022-03-31 07:23:55\", \"Type\": \"Fey\"}, {\"Damage\": \"9d2+3\", \"Energy\": 18.38, \"Health\": 17.16, \"Level\": 9, \"Name\": \"Diamond Archfey\", \"Rarity\": \"Rank 0\", \"Sanity\": 17.81, \"Time Stamp\": \"2022-03-31 07:23:55\", \"Type\": \"Fey\"}, {\"Damage\": \"16d2+1\", \"Energy\": 32.47, \"Health\": 32.94, \"Level\": 16, \"Name\": \"Onyx Faerie\", \"Rarity\": \"Rank 0\", \"Sanity\": 31.36, \"Time Stamp\": \"2022-03-31 07:23:55\", \"Type\": \"Fey\"}, {\"Damage\": \"8d2\", \"Energy\": 15.38, \"Health\": 16.73, \"Level\": 8, \"Name\": \"Pseudodragon\", \"Rarity\": \"Rank 0\", \"Sanity\": 15.22, \"Time Stamp\": \"2022-03-31 07:23:55\", \"Type\": \"Dragon\"}, {\"Damage\": \"9d2+1\", \"Energy\": 18.19, \"Health\": 18.39, \"Level\": 9, \"Name\": \"Ice Archfey\", \"Rarity\": \"Rank 0\", \"Sanity\": 17.78, \"Time Stamp\": \"2022-03-31 07:23:55\", \"Type\": \"Fey\"}, {\"Damage\": \"13d2\", \"Energy\": 26.44, \"Health\": 25.82, \"Level\": 13, \"Name\": \"White Archfey\", \"Rarity\": \"Rank 0\", \"Sanity\": 25.71, \"Time Stamp\": \"2022-03-31 07:23:55\", \"Type\": \"Fey\"}, {\"Damage\": \"10d2+1\", \"Energy\": 19.58, \"Health\": 19.93, \"Level\": 10, \"Name\": \"Efreeti\", \"Rarity\": \"Rank 0\", \"Sanity\": 20.39, \"Time Stamp\": \"2022-03-31 07:23:55\", \"Type\": \"Elemental\"}, {\"Damage\": \"13d2+3\", \"Energy\": 26.92, \"Health\": 25.93, \"Level\": 13, \"Name\": \"Efreeti\", \"Rarity\": \"Rank 0\", \"Sanity\": 26.93, \"Time Stamp\": \"2022-03-31 07:23:55\", \"Type\": \"Elemental\"}, {\"Damage\": \"3d2\", \"Energy\": 6.93, \"Health\": 6.33, \"Level\": 3, \"Name\": \"Quasit\", \"Rarity\": \"Rank 0\", \"Sanity\": 5.56, \"Time Stamp\": \"2022-03-31 07:23:55\", \"Type\": \"Demonic\"}, {\"Damage\": \"14d2\", \"Energy\": 27.53, \"Health\": 28.1, \"Level\": 14, \"Name\": \"Pit Lord\", \"Rarity\": \"Rank 0\", \"Sanity\": 27.25, \"Time Stamp\": \"2022-03-31 07:23:55\", \"Type\": \"Devilkin\"}, {\"Damage\": \"2d2\", \"Energy\": 4.06, \"Health\": 4.02, \"Level\": 2, \"Name\": \"Platinum Dragon\", \"Rarity\": \"Rank 0\", \"Sanity\": 3.58, \"Time Stamp\": \"2022-03-31 07:23:55\", \"Type\": \"Dragon\"}, {\"Damage\": \"9d2+3\", \"Energy\": 17.87, \"Health\": 18.66, \"Level\": 9, \"Name\": \"Red Demon\", \"Rarity\": \"Rank 0\", \"Sanity\": 17.63, \"Time Stamp\": \"2022-03-31 07:23:55\", \"Type\": \"Demonic\"}, {\"Damage\": \"10d2+1\", \"Energy\": 20.61, \"Health\": 20.4, \"Level\": 10, \"Name\": \"Djinni\", \"Rarity\": \"Rank 0\", \"Sanity\": 19.08, \"Time Stamp\": \"2022-03-31 07:23:55\", \"Type\": \"Elemental\"}, {\"Damage\": \"10d2+1\", \"Energy\": 20.7, \"Health\": 19.9, \"Level\": 10, \"Name\": \"Kobold Villager\", \"Rarity\": \"Rank 0\", \"Sanity\": 20.59, \"Time Stamp\": \"2022-03-31 07:23:55\", \"Type\": \"Devilkin\"}, {\"Damage\": \"4d2\", \"Energy\": 7.27, \"Health\": 7.44, \"Level\": 4, \"Name\": \"Imp\", \"Rarity\": \"Rank 0\", \"Sanity\": 7.77, \"Time Stamp\": \"2022-03-31 07:23:55\", \"Type\": \"Demonic\"}, {\"Damage\": \"2d2+1\", \"Energy\": 4.43, \"Health\": 3.12, \"Level\": 2, \"Name\": \"Skeletal Mage\", \"Rarity\": \"Rank 0\", \"Sanity\": 4.94, \"Time Stamp\": \"2022-03-31 07:23:55\", \"Type\": \"Undead\"}, {\"Damage\": \"9d2\", \"Energy\": 17.83, \"Health\": 18.0, \"Level\": 9, \"Name\": \"Mummy Lord\", \"Rarity\": \"Rank 0\", \"Sanity\": 18.55, \"Time Stamp\": \"2022-03-31 07:23:55\", \"Type\": \"Undead\"}, {\"Damage\": \"12d2+4\", \"Energy\": 23.24, \"Health\": 24.62, \"Level\": 12, \"Name\": \"Dracolich\", \"Rarity\": \"Rank 0\", \"Sanity\": 24.81, \"Time Stamp\": \"2022-03-31 07:23:55\", \"Type\": \"Undead\"}, {\"Damage\": \"10d2+1\", \"Energy\": 19.5, \"Health\": 19.71, \"Level\": 10, \"Name\": \"Brass Drake\", \"Rarity\": \"Rank 0\", \"Sanity\": 19.02, \"Time Stamp\": \"2022-03-31 07:23:55\", \"Type\": \"Dragon\"}, {\"Damage\": \"2d2\", \"Energy\": 3.33, \"Health\": 3.66, \"Level\": 2, \"Name\": \"Bronze Dragon\", \"Rarity\": \"Rank 0\", \"Sanity\": 4.02, \"Time Stamp\": \"2022-03-31 07:23:55\", \"Type\": \"Dragon\"}, {\"Damage\": \"12d2\", \"Energy\": 24.82, \"Health\": 23.15, \"Level\": 12, \"Name\": \"Kobold Villager\", \"Rarity\": \"Rank 0\", \"Sanity\": 24.55, \"Time Stamp\": \"2022-03-31 07:23:55\", \"Type\": \"Devilkin\"}, {\"Damage\": \"6d2+3\", \"Energy\": 12.94, \"Health\": 11.05, \"Level\": 6, \"Name\": \"Hook Horror\", \"Rarity\": \"Rank 0\", \"Sanity\": 11.95, \"Time Stamp\": \"2022-03-31 07:23:55\", \"Type\": \"Demonic\"}, {\"Damage\": \"18d2+2\", \"Energy\": 36.69, \"Health\": 35.5, \"Level\": 18, \"Name\": \"Faerie Dragon\", \"Rarity\": \"Rank 0\", \"Sanity\": 36.74, \"Time Stamp\": \"2022-03-31 07:23:55\", \"Type\": \"Dragon\"}, {\"Damage\": \"7d2\", \"Energy\": 13.93, \"Health\": 13.2, \"Level\": 7, \"Name\": \"Brass Drake\", \"Rarity\": \"Rank 0\", \"Sanity\": 13.27, \"Time Stamp\": \"2022-03-31 07:23:55\", \"Type\": \"Dragon\"}, {\"Damage\": \"11d2\", \"Energy\": 22.87, \"Health\": 21.95, \"Level\": 11, \"Name\": \"Succubus\", \"Rarity\": \"Rank 0\", \"Sanity\": 22.58, \"Time Stamp\": \"2022-03-31 07:23:55\", \"Type\": \"Devilkin\"}, {\"Damage\": \"3d2+2\", \"Energy\": 6.09, \"Health\": 6.24, \"Level\": 3, \"Name\": \"Djinni\", \"Rarity\": \"Rank 0\", \"Sanity\": 5.24, \"Time Stamp\": \"2022-03-31 07:23:55\", \"Type\": \"Elemental\"}, {\"Damage\": \"10d2\", \"Energy\": 20.97, \"Health\": 20.2, \"Level\": 10, \"Name\": \"Bronze Faerie\", \"Rarity\": \"Rank 0\", \"Sanity\": 19.75, \"Time Stamp\": \"2022-03-31 07:23:55\", \"Type\": \"Fey\"}, {\"Damage\": \"12d2+3\", \"Energy\": 23.95, \"Health\": 24.64, \"Level\": 12, \"Name\": \"Steam Mephit\", \"Rarity\": \"Rank 0\", \"Sanity\": 23.46, \"Time Stamp\": \"2022-03-31 07:23:55\", \"Type\": \"Elemental\"}, {\"Damage\": \"11d2\", \"Energy\": 21.82, \"Health\": 21.18, \"Level\": 11, \"Name\": \"Lightning Mephit\", \"Rarity\": \"Rank 0\", \"Sanity\": 22.96, \"Time Stamp\": \"2022-03-31 07:23:55\", \"Type\": \"Elemental\"}, {\"Damage\": \"5d2+1\", \"Energy\": 10.71, \"Health\": 9.01, \"Level\": 5, \"Name\": \"Balor\", \"Rarity\": \"Rank 0\", \"Sanity\": 10.61, \"Time Stamp\": \"2022-03-31 07:23:55\", \"Type\": \"Demonic\"}, {\"Damage\": \"5d2+2\", \"Energy\": 10.85, \"Health\": 10.84, \"Level\": 5, \"Name\": \"Magma Elemental\", \"Rarity\": \"Rank 0\", \"Sanity\": 10.41, \"Time Stamp\": \"2022-03-31 07:23:55\", \"Type\": \"Elemental\"}, {\"Damage\": \"13d2+2\", \"Energy\": 25.12, \"Health\": 25.65, \"Level\": 13, \"Name\": \"White Faerie\", \"Rarity\": \"Rank 0\", \"Sanity\": 25.28, \"Time Stamp\": \"2022-03-31 07:23:55\", \"Type\": \"Fey\"}, {\"Damage\": \"7d2+2\", \"Energy\": 13.49, \"Health\": 13.67, \"Level\": 7, \"Name\": \"Lich\", \"Rarity\": \"Rank 0\", \"Sanity\": 14.09, \"Time Stamp\": \"2022-03-31 07:23:55\", \"Type\": \"Undead\"}, {\"Damage\": \"5d2+2\", \"Energy\": 10.62, \"Health\": 10.24, \"Level\": 5, \"Name\": \"Wyvern\", \"Rarity\": \"Rank 0\", \"Sanity\": 9.18, \"Time Stamp\": \"2022-03-31 07:23:55\", \"Type\": \"Dragon\"}, {\"Damage\": \"6d2+3\", \"Energy\": 11.73, \"Health\": 11.89, \"Level\": 6, \"Name\": \"Pit Fiend\", \"Rarity\": \"Rank 0\", \"Sanity\": 12.77, \"Time Stamp\": \"2022-03-31 07:23:55\", \"Type\": \"Demonic\"}, {\"Damage\": \"4d2+3\", \"Energy\": 7.29, \"Health\": 8.31, \"Level\": 4, \"Name\": \"Sapphire Wyrmling\", \"Rarity\": \"Rank 0\", \"Sanity\": 8.41, \"Time Stamp\": \"2022-03-31 07:23:55\", \"Type\": \"Dragon\"}, {\"Damage\": \"11d2+1\", \"Energy\": 22.83, \"Health\": 22.74, \"Level\": 11, \"Name\": \"Wraith\", \"Rarity\": \"Rank 0\", \"Sanity\": 22.01, \"Time Stamp\": \"2022-03-31 07:23:55\", \"Type\": \"Undead\"}, {\"Damage\": \"14d2\", \"Energy\": 28.38, \"Health\": 28.32, \"Level\": 14, \"Name\": \"Mud Elemental\", \"Rarity\": \"Rank 0\", \"Sanity\": 28.58, \"Time Stamp\": \"2022-03-31 07:23:55\", \"Type\": \"Elemental\"}, {\"Damage\": \"2d2+2\", \"Energy\": 3.28, \"Health\": 3.31, \"Level\": 2, \"Name\": \"Vampire\", \"Rarity\": \"Rank 0\", \"Sanity\": 4.35, \"Time Stamp\": \"2022-03-31 07:23:55\", \"Type\": \"Undead\"}, {\"Damage\": \"6d2+1\", \"Energy\": 12.84, \"Health\": 11.63, \"Level\": 6, \"Name\": \"Hook Horror\", \"Rarity\": \"Rank 0\", \"Sanity\": 11.2, \"Time Stamp\": \"2022-03-31 07:23:55\", \"Type\": \"Demonic\"}, {\"Damage\": \"8d2+2\", \"Energy\": 16.12, \"Health\": 16.67, \"Level\": 8, \"Name\": \"Succubus\", \"Rarity\": \"Rank 0\", \"Sanity\": 16.98, \"Time Stamp\": \"2022-03-31 07:23:55\", \"Type\": \"Devilkin\"}, {\"Damage\": \"3d2+1\", \"Energy\": 5.53, \"Health\": 5.01, \"Level\": 3, \"Name\": \"Wyvern\", \"Rarity\": \"Rank 0\", \"Sanity\": 5.76, \"Time Stamp\": \"2022-03-31 07:23:55\", \"Type\": \"Dragon\"}, {\"Damage\": \"17d2+2\", \"Energy\": 33.93, \"Health\": 33.28, \"Level\": 17, \"Name\": \"Pit Lord\", \"Rarity\": \"Rank 0\", \"Sanity\": 33.45, \"Time Stamp\": \"2022-03-31 07:23:55\", \"Type\": \"Devilkin\"}, {\"Damage\": \"16d2+2\", \"Energy\": 31.4, \"Health\": 31.98, \"Level\": 16, \"Name\": \"Pseudodragon\", \"Rarity\": \"Rank 0\", \"Sanity\": 32.57, \"Time Stamp\": \"2022-03-31 07:23:55\", \"Type\": \"Dragon\"}, {\"Damage\": \"11d2+5\", \"Energy\": 22.78, \"Health\": 21.29, \"Level\": 11, \"Name\": \"Wraith\", \"Rarity\": \"Rank 0\", \"Sanity\": 22.54, \"Time Stamp\": \"2022-03-31 07:23:55\", \"Type\": \"Undead\"}, {\"Damage\": \"8d2+3\", \"Energy\": 15.85, \"Health\": 15.82, \"Level\": 8, \"Name\": \"Quasit\", \"Rarity\": \"Rank 0\", \"Sanity\": 15.38, \"Time Stamp\": \"2022-03-31 07:23:55\", \"Type\": \"Demonic\"}, {\"Damage\": \"11d2\", \"Energy\": 21.39, \"Health\": 21.99, \"Level\": 11, \"Name\": \"Mud Archfey\", \"Rarity\": \"Rank 0\", \"Sanity\": 21.28, \"Time Stamp\": \"2022-03-31 07:23:55\", \"Type\": \"Fey\"}, {\"Damage\": \"4d2+2\", \"Energy\": 8.76, \"Health\": 7.89, \"Level\": 4, \"Name\": \"Brass Wyrmling\", \"Rarity\": \"Rank 0\", \"Sanity\": 7.06, \"Time Stamp\": \"2022-03-31 07:23:55\", \"Type\": \"Dragon\"}, {\"Damage\": \"2d2+4\", \"Energy\": 3.55, \"Health\": 3.83, \"Level\": 2, \"Name\": \"Djinni\", \"Rarity\": \"Rank 0\", \"Sanity\": 3.48, \"Time Stamp\": \"2022-03-31 07:23:55\", \"Type\": \"Elemental\"}, {\"Damage\": \"8d2+1\", \"Energy\": 15.6, \"Health\": 16.75, \"Level\": 8, \"Name\": \"Mummy\", \"Rarity\": \"Rank 0\", \"Sanity\": 15.92, \"Time Stamp\": \"2022-03-31 07:23:55\", \"Type\": \"Undead\"}, {\"Damage\": \"3d2+2\", \"Energy\": 6.66, \"Health\": 5.21, \"Level\": 3, \"Name\": \"Lightning Spirit\", \"Rarity\": \"Rank 0\", \"Sanity\": 6.36, \"Time Stamp\": \"2022-03-31 07:23:55\", \"Type\": \"Fey\"}, {\"Damage\": \"9d2\", \"Energy\": 18.16, \"Health\": 18.12, \"Level\": 9, \"Name\": \"Wyvern\", \"Rarity\": \"Rank 0\", \"Sanity\": 18.15, \"Time Stamp\": \"2022-03-31 07:23:55\", \"Type\": \"Dragon\"}, {\"Damage\": \"12d2+2\", \"Energy\": 23.57, \"Health\": 24.55, \"Level\": 12, \"Name\": \"Lich\", \"Rarity\": \"Rank 0\", \"Sanity\": 24.39, \"Time Stamp\": \"2022-03-31 07:23:55\", \"Type\": \"Undead\"}, {\"Damage\": \"6d2\", \"Energy\": 12.51, \"Health\": 12.5, \"Level\": 6, \"Name\": \"Prince of Fear\", \"Rarity\": \"Rank 0\", \"Sanity\": 11.79, \"Time Stamp\": \"2022-03-31 07:23:55\", \"Type\": \"Devilkin\"}, {\"Damage\": \"2d2\", \"Energy\": 4.04, \"Health\": 3.29, \"Level\": 2, \"Name\": \"Demilich\", \"Rarity\": \"Rank 0\", \"Sanity\": 3.45, \"Time Stamp\": \"2022-03-31 07:23:55\", \"Type\": \"Undead\"}, {\"Damage\": \"6d2+2\", \"Energy\": 11.28, \"Health\": 11.44, \"Level\": 6, \"Name\": \"Zombie Villager\", \"Rarity\": \"Rank 0\", \"Sanity\": 12.53, \"Time Stamp\": \"2022-03-31 07:23:55\", \"Type\": \"Undead\"}, {\"Damage\": \"13d2+4\", \"Energy\": 26.86, \"Health\": 25.33, \"Level\": 13, \"Name\": \"Prismatic Drake\", \"Rarity\": \"Rank 0\", \"Sanity\": 26.14, \"Time Stamp\": \"2022-03-31 07:23:55\", \"Type\": \"Dragon\"}, {\"Damage\": \"13d2+1\", \"Energy\": 26.77, \"Health\": 25.41, \"Level\": 13, \"Name\": \"Hook Horror\", \"Rarity\": \"Rank 0\", \"Sanity\": 26.03, \"Time Stamp\": \"2022-03-31 07:23:55\", \"Type\": \"Demonic\"}, {\"Damage\": \"11d2+1\", \"Energy\": 21.29, \"Health\": 22.4, \"Level\": 11, \"Name\": \"Platinum Faerie\", \"Rarity\": \"Rank 0\", \"Sanity\": 21.14, \"Time Stamp\": \"2022-03-31 07:23:55\", \"Type\": \"Fey\"}, {\"Damage\": \"8d2+3\", \"Energy\": 15.35, \"Health\": 16.54, \"Level\": 8, \"Name\": \"Hell Hound\", \"Rarity\": \"Rank 0\", \"Sanity\": 15.63, \"Time Stamp\": \"2022-03-31 07:23:55\", \"Type\": \"Demonic\"}, {\"Damage\": \"7d2\", \"Energy\": 14.1, \"Health\": 13.4, \"Level\": 7, \"Name\": \"Efreeti\", \"Rarity\": \"Rank 0\", \"Sanity\": 13.33, \"Time Stamp\": \"2022-03-31 07:23:55\", \"Type\": \"Elemental\"}, {\"Damage\": \"7d2+1\", \"Energy\": 14.19, \"Health\": 14.86, \"Level\": 7, \"Name\": \"Zombie Mage\", \"Rarity\": \"Rank 0\", \"Sanity\": 13.21, \"Time Stamp\": \"2022-03-31 07:23:55\", \"Type\": \"Undead\"}, {\"Damage\": \"8d2+1\", \"Energy\": 16.47, \"Health\": 15.14, \"Level\": 8, \"Name\": \"Incubus\", \"Rarity\": \"Rank 0\", \"Sanity\": 15.42, \"Time Stamp\": \"2022-03-31 07:23:55\", \"Type\": \"Devilkin\"}, {\"Damage\": \"8d2+1\", \"Energy\": 15.4, \"Health\": 16.15, \"Level\": 8, \"Name\": \"Kobold Archer\", \"Rarity\": \"Rank 0\", \"Sanity\": 15.98, \"Time Stamp\": \"2022-03-31 07:23:55\", \"Type\": \"Devilkin\"}, {\"Damage\": \"5d2+2\", \"Energy\": 9.2, \"Health\": 10.92, \"Level\": 5, \"Name\": \"Green Faerie\", \"Rarity\": \"Rank 0\", \"Sanity\": 9.02, \"Time Stamp\": \"2022-03-31 07:23:55\", \"Type\": \"Fey\"}, {\"Damage\": \"10d2+4\", \"Energy\": 20.79, \"Health\": 19.36, \"Level\": 10, \"Name\": \"Balor\", \"Rarity\": \"Rank 0\", \"Sanity\": 20.93, \"Time Stamp\": \"2022-03-31 07:23:55\", \"Type\": \"Demonic\"}, {\"Damage\": \"2d2+2\", \"Energy\": 4.38, \"Health\": 3.31, \"Level\": 2, \"Name\": \"Brass Faerie\", \"Rarity\": \"Rank 0\", \"Sanity\": 3.25, \"Time Stamp\": \"2022-03-31 07:23:55\", \"Type\": \"Fey\"}, {\"Damage\": \"7d2\", \"Energy\": 14.21, \"Health\": 13.32, \"Level\": 7, \"Name\": \"Platinum Drake\", \"Rarity\": \"Rank 0\", \"Sanity\": 14.43, \"Time Stamp\": \"2022-03-31 07:23:55\", \"Type\": \"Dragon\"}, {\"Damage\": \"3d2+5\", \"Energy\": 6.76, \"Health\": 6.62, \"Level\": 3, \"Name\": \"White Demon\", \"Rarity\": \"Rank 0\", \"Sanity\": 6.07, \"Time Stamp\": \"2022-03-31 07:23:55\", \"Type\": \"Demonic\"}, {\"Damage\": \"9d2+5\", \"Energy\": 18.63, \"Health\": 17.99, \"Level\": 9, \"Name\": \"Efreeti\", \"Rarity\": \"Rank 0\", \"Sanity\": 18.74, \"Time Stamp\": \"2022-03-31 07:23:55\", \"Type\": \"Elemental\"}, {\"Damage\": \"9d2+1\", \"Energy\": 18.25, \"Health\": 17.12, \"Level\": 9, \"Name\": \"Pseudodragon\", \"Rarity\": \"Rank 0\", \"Sanity\": 18.46, \"Time Stamp\": \"2022-03-31 07:23:55\", \"Type\": \"Dragon\"}, {\"Damage\": \"2d2+5\", \"Energy\": 3.69, \"Health\": 4.15, \"Level\": 2, \"Name\": \"Pit Lord\", \"Rarity\": \"Rank 0\", \"Sanity\": 4.79, \"Time Stamp\": \"2022-03-31 07:23:55\", \"Type\": \"Devilkin\"}, {\"Damage\": \"8d2+2\", \"Energy\": 15.69, \"Health\": 16.03, \"Level\": 8, \"Name\": \"Poltergeist\", \"Rarity\": \"Rank 0\", \"Sanity\": 15.1, \"Time Stamp\": \"2022-03-31 07:23:55\", \"Type\": \"Undead\"}, {\"Damage\": \"15d2\", \"Energy\": 30.17, \"Health\": 29.55, \"Level\": 15, \"Name\": \"Smoke Devil\", \"Rarity\": \"Rank 0\", \"Sanity\": 30.09, \"Time Stamp\": \"2022-03-31 07:23:55\", \"Type\": \"Devilkin\"}, {\"Damage\": \"7d2\", \"Energy\": 13.7, \"Health\": 13.97, \"Level\": 7, \"Name\": \"Pseudodragon\", \"Rarity\": \"Rank 0\", \"Sanity\": 14.25, \"Time Stamp\": \"2022-03-31 07:23:55\", \"Type\": \"Dragon\"}, {\"Damage\": \"6d2+1\", \"Energy\": 12.91, \"Health\": 12.13, \"Level\": 6, \"Name\": \"Efreeti\", \"Rarity\": \"Rank 0\", \"Sanity\": 12.71, \"Time Stamp\": \"2022-03-31 07:23:55\", \"Type\": \"Elemental\"}, {\"Damage\": \"3d2+1\", \"Energy\": 6.94, \"Health\": 6.22, \"Level\": 3, \"Name\": \"Kobold Archer\", \"Rarity\": \"Rank 0\", \"Sanity\": 6.76, \"Time Stamp\": \"2022-03-31 07:23:55\", \"Type\": \"Devilkin\"}, {\"Damage\": \"2d2\", \"Energy\": 4.84, \"Health\": 4.86, \"Level\": 2, \"Name\": \"Pseudodragon\", \"Rarity\": \"Rank 0\", \"Sanity\": 3.33, \"Time Stamp\": \"2022-03-31 07:23:55\", \"Type\": \"Dragon\"}, {\"Damage\": \"10d2+1\", \"Energy\": 20.79, \"Health\": 20.44, \"Level\": 10, \"Name\": \"Djinni\", \"Rarity\": \"Rank 0\", \"Sanity\": 20.55, \"Time Stamp\": \"2022-03-31 07:23:55\", \"Type\": \"Elemental\"}, {\"Damage\": \"10d2+1\", \"Energy\": 20.16, \"Health\": 20.77, \"Level\": 10, \"Name\": \"Steam Spirit\", \"Rarity\": \"Rank 0\", \"Sanity\": 20.98, \"Time Stamp\": \"2022-03-31 07:23:55\", \"Type\": \"Fey\"}, {\"Damage\": \"2d2+1\", \"Energy\": 4.8, \"Health\": 3.81, \"Level\": 2, \"Name\": \"Pit Fiend\", \"Rarity\": \"Rank 0\", \"Sanity\": 3.04, \"Time Stamp\": \"2022-03-31 07:23:55\", \"Type\": \"Demonic\"}, {\"Damage\": \"12d2\", \"Energy\": 24.6, \"Health\": 23.89, \"Level\": 12, \"Name\": \"Red Wyrmling\", \"Rarity\": \"Rank 0\", \"Sanity\": 24.36, \"Time Stamp\": \"2022-03-31 07:23:55\", \"Type\": \"Dragon\"}, {\"Damage\": \"4d2+2\", \"Energy\": 7.59, \"Health\": 8.83, \"Level\": 4, \"Name\": \"Copper Faerie\", \"Rarity\": \"Rank 0\", \"Sanity\": 8.54, \"Time Stamp\": \"2022-03-31 07:23:55\", \"Type\": \"Fey\"}, {\"Damage\": \"5d2+1\", \"Energy\": 10.32, \"Health\": 9.57, \"Level\": 5, \"Name\": \"White Archfey\", \"Rarity\": \"Rank 0\", \"Sanity\": 9.12, \"Time Stamp\": \"2022-03-31 07:23:55\", \"Type\": \"Fey\"}, {\"Damage\": \"5d2\", \"Energy\": 9.7, \"Health\": 9.95, \"Level\": 5, \"Name\": \"Pit Lord\", \"Rarity\": \"Rank 0\", \"Sanity\": 9.9, \"Time Stamp\": \"2022-03-31 07:23:55\", \"Type\": \"Devilkin\"}, {\"Damage\": \"12d2+1\", \"Energy\": 24.14, \"Health\": 24.87, \"Level\": 12, \"Name\": \"Efreeti\", \"Rarity\": \"Rank 0\", \"Sanity\": 24.86, \"Time Stamp\": \"2022-03-31 07:23:55\", \"Type\": \"Elemental\"}, {\"Damage\": \"4d2\", \"Energy\": 8.8, \"Health\": 7.83, \"Level\": 4, \"Name\": \"Poltergeist\", \"Rarity\": \"Rank 0\", \"Sanity\": 8.09, \"Time Stamp\": \"2022-03-31 07:23:55\", \"Type\": \"Undead\"}, {\"Damage\": \"6d2+1\", \"Energy\": 12.49, \"Health\": 12.03, \"Level\": 6, \"Name\": \"Silver Drake\", \"Rarity\": \"Rank 0\", \"Sanity\": 11.58, \"Time Stamp\": \"2022-03-31 07:23:55\", \"Type\": \"Dragon\"}, {\"Damage\": \"11d2+3\", \"Energy\": 21.22, \"Health\": 21.07, \"Level\": 11, \"Name\": \"Black Faerie\", \"Rarity\": \"Rank 0\", \"Sanity\": 22.29, \"Time Stamp\": \"2022-03-31 07:23:55\", \"Type\": \"Fey\"}, {\"Damage\": \"7d2\", \"Energy\": 13.27, \"Health\": 14.53, \"Level\": 7, \"Name\": \"Goblin Villager\", \"Rarity\": \"Rank 0\", \"Sanity\": 13.16, \"Time Stamp\": \"2022-03-31 07:23:55\", \"Type\": \"Devilkin\"}, {\"Damage\": \"16d2+1\", \"Energy\": 32.04, \"Health\": 31.28, \"Level\": 16, \"Name\": \"Mummy\", \"Rarity\": \"Rank 0\", \"Sanity\": 31.95, \"Time Stamp\": \"2022-03-31 07:23:55\", \"Type\": \"Undead\"}, {\"Damage\": \"2d2+2\", \"Energy\": 4.38, \"Health\": 3.77, \"Level\": 2, \"Name\": \"Spore Devil\", \"Rarity\": \"Rank 0\", \"Sanity\": 3.36, \"Time Stamp\": \"2022-03-31 07:23:55\", \"Type\": \"Devilkin\"}, {\"Damage\": \"4d2\", \"Energy\": 7.18, \"Health\": 7.63, \"Level\": 4, \"Name\": \"Mud Spirit\", \"Rarity\": \"Rank 0\", \"Sanity\": 7.51, \"Time Stamp\": \"2022-03-31 07:23:55\", \"Type\": \"Fey\"}, {\"Damage\": \"8d2+2\", \"Energy\": 15.14, \"Health\": 16.87, \"Level\": 8, \"Name\": \"Wraith\", \"Rarity\": \"Rank 0\", \"Sanity\": 15.12, \"Time Stamp\": \"2022-03-31 07:23:55\", \"Type\": \"Undead\"}, {\"Damage\": \"18d2+4\", \"Energy\": 36.13, \"Health\": 36.33, \"Level\": 18, \"Name\": \"Gold Faerie\", \"Rarity\": \"Rank 0\", \"Sanity\": 36.88, \"Time Stamp\": \"2022-03-31 07:23:55\", \"Type\": \"Fey\"}, {\"Damage\": \"3d2+3\", \"Energy\": 6.03, \"Health\": 5.14, \"Level\": 3, \"Name\": \"Pit Fiend\", \"Rarity\": \"Rank 0\", \"Sanity\": 6.54, \"Time Stamp\": \"2022-03-31 07:23:55\", \"Type\": \"Demonic\"}, {\"Damage\": \"7d2\", \"Energy\": 14.35, \"Health\": 14.1, \"Level\": 7, \"Name\": \"Pit Fiend\", \"Rarity\": \"Rank 0\", \"Sanity\": 14.82, \"Time Stamp\": \"2022-03-31 07:23:55\", \"Type\": \"Demonic\"}, {\"Damage\": \"6d2+3\", \"Energy\": 12.45, \"Health\": 11.91, \"Level\": 6, \"Name\": \"Mummy Lord\", \"Rarity\": \"Rank 0\", \"Sanity\": 12.08, \"Time Stamp\": \"2022-03-31 07:23:55\", \"Type\": \"Undead\"}, {\"Damage\": \"11d2+2\", \"Energy\": 21.9, \"Health\": 21.71, \"Level\": 11, \"Name\": \"Lightning Elemental\", \"Rarity\": \"Rank 0\", \"Sanity\": 21.74, \"Time Stamp\": \"2022-03-31 07:23:55\", \"Type\": \"Elemental\"}, {\"Damage\": \"3d2+2\", \"Energy\": 6.77, \"Health\": 6.69, \"Level\": 3, \"Name\": \"Pseudodragon\", \"Rarity\": \"Rank 0\", \"Sanity\": 6.19, \"Time Stamp\": \"2022-03-31 07:23:55\", \"Type\": \"Dragon\"}, {\"Damage\": \"8d2+4\", \"Energy\": 16.01, \"Health\": 15.38, \"Level\": 8, \"Name\": \"Spore Archfey\", \"Rarity\": \"Rank 0\", \"Sanity\": 16.37, \"Time Stamp\": \"2022-03-31 07:23:55\", \"Type\": \"Fey\"}, {\"Damage\": \"12d2+3\", \"Energy\": 23.33, \"Health\": 24.64, \"Level\": 12, \"Name\": \"Poltergeist\", \"Rarity\": \"Rank 0\", \"Sanity\": 23.11, \"Time Stamp\": \"2022-03-31 07:23:55\", \"Type\": \"Undead\"}, {\"Damage\": \"7d2+3\", \"Energy\": 13.17, \"Health\": 14.52, \"Level\": 7, \"Name\": \"Kobold Guard\", \"Rarity\": \"Rank 0\", \"Sanity\": 13.56, \"Time Stamp\": \"2022-03-31 07:23:55\", \"Type\": \"Devilkin\"}, {\"Damage\": \"8d2\", \"Energy\": 15.78, \"Health\": 15.6, \"Level\": 8, \"Name\": \"Pit Lord\", \"Rarity\": \"Rank 0\", \"Sanity\": 16.99, \"Time Stamp\": \"2022-03-31 07:23:55\", \"Type\": \"Devilkin\"}, {\"Damage\": \"3d2\", \"Energy\": 6.32, \"Health\": 6.06, \"Level\": 3, \"Name\": \"Copper Wyrmling\", \"Rarity\": \"Rank 0\", \"Sanity\": 6.5, \"Time Stamp\": \"2022-03-31 07:23:55\", \"Type\": \"Dragon\"}, {\"Damage\": \"5d2+2\", \"Energy\": 9.53, \"Health\": 9.46, \"Level\": 5, \"Name\": \"Ghoul\", \"Rarity\": \"Rank 0\", \"Sanity\": 9.54, \"Time Stamp\": \"2022-03-31 07:23:55\", \"Type\": \"Undead\"}, {\"Damage\": \"11d2+4\", \"Energy\": 21.48, \"Health\": 21.52, \"Level\": 11, \"Name\": \"Pseudodragon\", \"Rarity\": \"Rank 0\", \"Sanity\": 22.49, \"Time Stamp\": \"2022-03-31 07:23:55\", \"Type\": \"Dragon\"}, {\"Damage\": \"13d2\", \"Energy\": 26.63, \"Health\": 26.84, \"Level\": 13, \"Name\": \"Mud Mephit\", \"Rarity\": \"Rank 0\", \"Sanity\": 26.01, \"Time Stamp\": \"2022-03-31 07:23:55\", \"Type\": \"Elemental\"}, {\"Damage\": \"7d2+3\", \"Energy\": 13.9, \"Health\": 14.8, \"Level\": 7, \"Name\": \"Diamond Demon\", \"Rarity\": \"Rank 0\", \"Sanity\": 14.59, \"Time Stamp\": \"2022-03-31 07:23:55\", \"Type\": \"Demonic\"}, {\"Damage\": \"9d2+1\", \"Energy\": 17.94, \"Health\": 17.01, \"Level\": 9, \"Name\": \"Efreeti\", \"Rarity\": \"Rank 0\", \"Sanity\": 17.22, \"Time Stamp\": \"2022-03-31 07:23:55\", \"Type\": \"Elemental\"}, {\"Damage\": \"7d2+1\", \"Energy\": 13.95, \"Health\": 13.61, \"Level\": 7, \"Name\": \"Ice Spirit\", \"Rarity\": \"Rank 0\", \"Sanity\": 13.19, \"Time Stamp\": \"2022-03-31 07:23:55\", \"Type\": \"Fey\"}, {\"Damage\": \"14d2+4\", \"Energy\": 28.36, \"Health\": 27.39, \"Level\": 14, \"Name\": \"Bronze Drake\", \"Rarity\": \"Rank 0\", \"Sanity\": 28.63, \"Time Stamp\": \"2022-03-31 07:23:55\", \"Type\": \"Dragon\"}, {\"Damage\": \"7d2+1\", \"Energy\": 13.02, \"Health\": 13.9, \"Level\": 7, \"Name\": \"Spore Spirit\", \"Rarity\": \"Rank 0\", \"Sanity\": 14.29, \"Time Stamp\": \"2022-03-31 07:23:55\", \"Type\": \"Fey\"}, {\"Damage\": \"4d2+4\", \"Energy\": 7.53, \"Health\": 7.74, \"Level\": 4, \"Name\": \"Smoke Elemental\", \"Rarity\": \"Rank 0\", \"Sanity\": 8.48, \"Time Stamp\": \"2022-03-31 07:23:55\", \"Type\": \"Elemental\"}, {\"Damage\": \"11d2+3\", \"Energy\": 21.26, \"Health\": 22.42, \"Level\": 11, \"Name\": \"Imp\", \"Rarity\": \"Rank 0\", \"Sanity\": 22.65, \"Time Stamp\": \"2022-03-31 07:23:55\", \"Type\": \"Demonic\"}, {\"Damage\": \"7d2\", \"Energy\": 13.36, \"Health\": 14.12, \"Level\": 7, \"Name\": \"Flame Mephit\", \"Rarity\": \"Rank 0\", \"Sanity\": 13.9, \"Time Stamp\": \"2022-03-31 07:23:55\", \"Type\": \"Elemental\"}, {\"Damage\": \"10d2\", \"Energy\": 19.35, \"Health\": 20.48, \"Level\": 10, \"Name\": \"Prince of Fear\", \"Rarity\": \"Rank 0\", \"Sanity\": 19.14, \"Time Stamp\": \"2022-03-31 07:23:55\", \"Type\": \"Devilkin\"}, {\"Damage\": \"14d2\", \"Energy\": 28.93, \"Health\": 28.69, \"Level\": 14, \"Name\": \"Dust Mephit\", \"Rarity\": \"Rank 0\", \"Sanity\": 27.97, \"Time Stamp\": \"2022-03-31 07:23:55\", \"Type\": \"Elemental\"}, {\"Damage\": \"3d2+4\", \"Energy\": 5.05, \"Health\": 6.55, \"Level\": 3, \"Name\": \"Wyvern\", \"Rarity\": \"Rank 0\", \"Sanity\": 6.69, \"Time Stamp\": \"2022-03-31 07:23:55\", \"Type\": \"Dragon\"}, {\"Damage\": \"5d2+2\", \"Energy\": 9.31, \"Health\": 9.26, \"Level\": 5, \"Name\": \"Zombie Mage\", \"Rarity\": \"Rank 0\", \"Sanity\": 10.07, \"Time Stamp\": \"2022-03-31 07:23:55\", \"Type\": \"Undead\"}, {\"Damage\": \"7d2+1\", \"Energy\": 13.37, \"Health\": 14.07, \"Level\": 7, \"Name\": \"Goblin Guard\", \"Rarity\": \"Rank 0\", \"Sanity\": 13.39, \"Time Stamp\": \"2022-03-31 07:23:55\", \"Type\": \"Devilkin\"}, {\"Damage\": \"11d2+2\", \"Energy\": 22.84, \"Health\": 22.01, \"Level\": 11, \"Name\": \"Lightning Archfey\", \"Rarity\": \"Rank 0\", \"Sanity\": 21.79, \"Time Stamp\": \"2022-03-31 07:23:55\", \"Type\": \"Fey\"}, {\"Damage\": \"7d2+1\", \"Energy\": 13.32, \"Health\": 13.85, \"Level\": 7, \"Name\": \"Succubus\", \"Rarity\": \"Rank 0\", \"Sanity\": 13.27, \"Time Stamp\": \"2022-03-31 07:23:55\", \"Type\": \"Devilkin\"}, {\"Damage\": \"4d2+1\", \"Energy\": 8.43, \"Health\": 8.38, \"Level\": 4, \"Name\": \"White Dragon\", \"Rarity\": \"Rank 0\", \"Sanity\": 7.7, \"Time Stamp\": \"2022-03-31 07:23:55\", \"Type\": \"Dragon\"}, {\"Damage\": \"17d2+1\", \"Energy\": 34.62, \"Health\": 33.41, \"Level\": 17, \"Name\": \"Emerald Faerie\", \"Rarity\": \"Rank 0\", \"Sanity\": 33.98, \"Time Stamp\": \"2022-03-31 07:23:55\", \"Type\": \"Fey\"}, {\"Damage\": \"11d2+3\", \"Energy\": 21.71, \"Health\": 21.13, \"Level\": 11, \"Name\": \"Hook Horror\", \"Rarity\": \"Rank 0\", \"Sanity\": 22.92, \"Time Stamp\": \"2022-03-31 07:23:55\", \"Type\": \"Demonic\"}, {\"Damage\": \"10d2\", \"Energy\": 19.72, \"Health\": 19.29, \"Level\": 10, \"Name\": \"Sapphire Faerie\", \"Rarity\": \"Rank 0\", \"Sanity\": 20.35, \"Time Stamp\": \"2022-03-31 07:23:55\", \"Type\": \"Fey\"}, {\"Damage\": \"15d2+4\", \"Energy\": 30.72, \"Health\": 30.7, \"Level\": 15, \"Name\": \"Djinni\", \"Rarity\": \"Rank 0\", \"Sanity\": 29.33, \"Time Stamp\": \"2022-03-31 07:23:55\", \"Type\": \"Elemental\"}, {\"Damage\": \"3d2+4\", \"Energy\": 6.81, \"Health\": 5.11, \"Level\": 3, \"Name\": \"Smoke Devil\", \"Rarity\": \"Rank 0\", \"Sanity\": 6.02, \"Time Stamp\": \"2022-03-31 07:23:55\", \"Type\": \"Devilkin\"}, {\"Damage\": \"17d2\", \"Energy\": 34.15, \"Health\": 34.73, \"Level\": 17, \"Name\": \"Mummy Lord\", \"Rarity\": \"Rank 0\", \"Sanity\": 34.89, \"Time Stamp\": \"2022-03-31 07:23:55\", \"Type\": \"Undead\"}, {\"Damage\": \"7d2+3\", \"Energy\": 13.68, \"Health\": 14.78, \"Level\": 7, \"Name\": \"Balor\", \"Rarity\": \"Rank 0\", \"Sanity\": 14.28, \"Time Stamp\": \"2022-03-31 07:23:55\", \"Type\": \"Demonic\"}, {\"Damage\": \"10d2+2\", \"Energy\": 20.01, \"Health\": 20.18, \"Level\": 10, \"Name\": \"Gold Demon\", \"Rarity\": \"Rank 0\", \"Sanity\": 19.4, \"Time Stamp\": \"2022-03-31 07:23:55\", \"Type\": \"Demonic\"}, {\"Damage\": \"15d2\", \"Energy\": 30.38, \"Health\": 30.31, \"Level\": 15, \"Name\": \"Magma Devil\", \"Rarity\": \"Rank 0\", \"Sanity\": 30.74, \"Time Stamp\": \"2022-03-31 07:23:55\", \"Type\": \"Devilkin\"}, {\"Damage\": \"10d2\", \"Energy\": 20.24, \"Health\": 20.03, \"Level\": 10, \"Name\": \"Black Dragon\", \"Rarity\": \"Rank 0\", \"Sanity\": 19.41, \"Time Stamp\": \"2022-03-31 07:23:55\", \"Type\": \"Dragon\"}, {\"Damage\": \"8d2+3\", \"Energy\": 15.47, \"Health\": 16.02, \"Level\": 8, \"Name\": \"Prince of Fear\", \"Rarity\": \"Rank 0\", \"Sanity\": 15.45, \"Time Stamp\": \"2022-03-31 07:23:55\", \"Type\": \"Devilkin\"}, {\"Damage\": \"7d2+1\", \"Energy\": 14.92, \"Health\": 14.99, \"Level\": 7, \"Name\": \"Goblin Mage\", \"Rarity\": \"Rank 0\", \"Sanity\": 13.26, \"Time Stamp\": \"2022-03-31 07:23:55\", \"Type\": \"Devilkin\"}, {\"Damage\": \"6d2+1\", \"Energy\": 11.66, \"Health\": 11.12, \"Level\": 6, \"Name\": \"Wyvern\", \"Rarity\": \"Rank 0\", \"Sanity\": 12.71, \"Time Stamp\": \"2022-03-31 07:23:55\", \"Type\": \"Dragon\"}, {\"Damage\": \"9d2\", \"Energy\": 18.79, \"Health\": 17.01, \"Level\": 9, \"Name\": \"Poltergeist\", \"Rarity\": \"Rank 0\", \"Sanity\": 18.22, \"Time Stamp\": \"2022-03-31 07:23:55\", \"Type\": \"Undead\"}, {\"Damage\": \"3d2+4\", \"Energy\": 5.91, \"Health\": 5.39, \"Level\": 3, \"Name\": \"Kobold Archer\", \"Rarity\": \"Rank 0\", \"Sanity\": 6.81, \"Time Stamp\": \"2022-03-31 07:23:55\", \"Type\": \"Devilkin\"}, {\"Damage\": \"7d2\", \"Energy\": 14.87, \"Health\": 14.73, \"Level\": 7, \"Name\": \"Incubus\", \"Rarity\": \"Rank 0\", \"Sanity\": 13.05, \"Time Stamp\": \"2022-03-31 07:23:55\", \"Type\": \"Devilkin\"}, {\"Damage\": \"2d2+2\", \"Energy\": 4.32, \"Health\": 4.16, \"Level\": 2, \"Name\": \"Quasit\", \"Rarity\": \"Rank 0\", \"Sanity\": 4.56, \"Time Stamp\": \"2022-03-31 07:23:55\", \"Type\": \"Demonic\"}, {\"Damage\": \"7d2+4\", \"Energy\": 13.01, \"Health\": 14.79, \"Level\": 7, \"Name\": \"Ruby Archfey\", \"Rarity\": \"Rank 0\", \"Sanity\": 13.49, \"Time Stamp\": \"2022-03-31 07:23:55\", \"Type\": \"Fey\"}, {\"Damage\": \"6d2+1\", \"Energy\": 12.19, \"Health\": 12.36, \"Level\": 6, \"Name\": \"Emerald Faerie\", \"Rarity\": \"Rank 0\", \"Sanity\": 11.87, \"Time Stamp\": \"2022-03-31 07:23:55\", \"Type\": \"Fey\"}, {\"Damage\": \"15d2\", \"Energy\": 29.41, \"Health\": 30.22, \"Level\": 15, \"Name\": \"Death Knight\", \"Rarity\": \"Rank 0\", \"Sanity\": 29.12, \"Time Stamp\": \"2022-03-31 07:23:55\", \"Type\": \"Undead\"}, {\"Damage\": \"8d2+1\", \"Energy\": 16.55, \"Health\": 15.37, \"Level\": 8, \"Name\": \"Demilich\", \"Rarity\": \"Rank 0\", \"Sanity\": 15.17, \"Time Stamp\": \"2022-03-31 07:23:55\", \"Type\": \"Undead\"}, {\"Damage\": \"5d2+1\", \"Energy\": 9.55, \"Health\": 9.98, \"Level\": 5, \"Name\": \"Blue Faerie\", \"Rarity\": \"Rank 0\", \"Sanity\": 10.05, \"Time Stamp\": \"2022-03-31 07:23:55\", \"Type\": \"Fey\"}, {\"Damage\": \"9d2\", \"Energy\": 17.22, \"Health\": 18.69, \"Level\": 9, \"Name\": \"Succubus\", \"Rarity\": \"Rank 0\", \"Sanity\": 17.46, \"Time Stamp\": \"2022-03-31 07:23:55\", \"Type\": \"Devilkin\"}, {\"Damage\": \"7d2\", \"Energy\": 13.29, \"Health\": 14.62, \"Level\": 7, \"Name\": \"Steam Devil\", \"Rarity\": \"Rank 0\", \"Sanity\": 14.15, \"Time Stamp\": \"2022-03-31 07:23:55\", \"Type\": \"Devilkin\"}, {\"Damage\": \"3d2+1\", \"Energy\": 6.07, \"Health\": 5.28, \"Level\": 3, \"Name\": \"Dust Elemental\", \"Rarity\": \"Rank 0\", \"Sanity\": 5.48, \"Time Stamp\": \"2022-03-31 07:23:55\", \"Type\": \"Elemental\"}, {\"Damage\": \"4d2+4\", \"Energy\": 8.21, \"Health\": 7.38, \"Level\": 4, \"Name\": \"Prismatic Archfey\", \"Rarity\": \"Rank 0\", \"Sanity\": 8.93, \"Time Stamp\": \"2022-03-31 07:23:55\", \"Type\": \"Fey\"}, {\"Damage\": \"13d2+2\", \"Energy\": 25.81, \"Health\": 26.4, \"Level\": 13, \"Name\": \"Mud Spirit\", \"Rarity\": \"Rank 0\", \"Sanity\": 26.46, \"Time Stamp\": \"2022-03-31 07:23:55\", \"Type\": \"Fey\"}, {\"Damage\": \"7d2+3\", \"Energy\": 14.5, \"Health\": 14.9, \"Level\": 7, \"Name\": \"Night Hag\", \"Rarity\": \"Rank 0\", \"Sanity\": 14.09, \"Time Stamp\": \"2022-03-31 07:23:55\", \"Type\": \"Demonic\"}, {\"Damage\": \"6d2+2\", \"Energy\": 11.41, \"Health\": 11.19, \"Level\": 6, \"Name\": \"Magma Devil\", \"Rarity\": \"Rank 0\", \"Sanity\": 11.33, \"Time Stamp\": \"2022-03-31 07:23:55\", \"Type\": \"Devilkin\"}, {\"Damage\": \"2d2\", \"Energy\": 3.06, \"Health\": 4.38, \"Level\": 2, \"Name\": \"Black Drake\", \"Rarity\": \"Rank 0\", \"Sanity\": 4.25, \"Time Stamp\": \"2022-03-31 07:23:55\", \"Type\": \"Dragon\"}, {\"Damage\": \"18d2+2\", \"Energy\": 35.37, \"Health\": 36.34, \"Level\": 18, \"Name\": \"Ice Mephit\", \"Rarity\": \"Rank 0\", \"Sanity\": 36.4, \"Time Stamp\": \"2022-03-31 07:23:55\", \"Type\": \"Elemental\"}, {\"Damage\": \"18d2\", \"Energy\": 36.32, \"Health\": 36.24, \"Level\": 18, \"Name\": \"Hell Hound\", \"Rarity\": \"Rank 0\", \"Sanity\": 35.57, \"Time Stamp\": \"2022-03-31 07:23:55\", \"Type\": \"Demonic\"}, {\"Damage\": \"8d2\", \"Energy\": 16.68, \"Health\": 15.98, \"Level\": 8, \"Name\": \"Lightning Devil\", \"Rarity\": \"Rank 0\", \"Sanity\": 15.67, \"Time Stamp\": \"2022-03-31 07:23:55\", \"Type\": \"Devilkin\"}, {\"Damage\": \"5d2\", \"Energy\": 10.86, \"Health\": 9.55, \"Level\": 5, \"Name\": \"Balor\", \"Rarity\": \"Rank 0\", \"Sanity\": 10.03, \"Time Stamp\": \"2022-03-31 07:23:55\", \"Type\": \"Demonic\"}, {\"Damage\": \"11d2+5\", \"Energy\": 21.86, \"Health\": 21.45, \"Level\": 11, \"Name\": \"Gold Drake\", \"Rarity\": \"Rank 0\", \"Sanity\": 21.2, \"Time Stamp\": \"2022-03-31 07:23:55\", \"Type\": \"Dragon\"}, {\"Damage\": \"8d2\", \"Energy\": 16.87, \"Health\": 16.27, \"Level\": 8, \"Name\": \"Hook Horror\", \"Rarity\": \"Rank 0\", \"Sanity\": 15.13, \"Time Stamp\": \"2022-03-31 07:23:55\", \"Type\": \"Demonic\"}, {\"Damage\": \"3d2+3\", \"Energy\": 5.87, \"Health\": 5.22, \"Level\": 3, \"Name\": \"Ice Elemental\", \"Rarity\": \"Rank 0\", \"Sanity\": 6.3, \"Time Stamp\": \"2022-03-31 07:23:55\", \"Type\": \"Elemental\"}, {\"Damage\": \"7d2\", \"Energy\": 13.56, \"Health\": 14.55, \"Level\": 7, \"Name\": \"Prince of Fear\", \"Rarity\": \"Rank 0\", \"Sanity\": 13.73, \"Time Stamp\": \"2022-03-31 07:23:55\", \"Type\": \"Devilkin\"}, {\"Damage\": \"2d2+1\", \"Energy\": 3.58, \"Health\": 3.13, \"Level\": 2, \"Name\": \"Bronze Demon\", \"Rarity\": \"Rank 0\", \"Sanity\": 3.08, \"Time Stamp\": \"2022-03-31 07:23:55\", \"Type\": \"Demonic\"}, {\"Damage\": \"7d2+2\", \"Energy\": 13.02, \"Health\": 13.7, \"Level\": 7, \"Name\": \"Efreeti\", \"Rarity\": \"Rank 0\", \"Sanity\": 13.12, \"Time Stamp\": \"2022-03-31 07:23:55\", \"Type\": \"Elemental\"}, {\"Damage\": \"4d2+2\", \"Energy\": 7.23, \"Health\": 7.36, \"Level\": 4, \"Name\": \"Night Hag\", \"Rarity\": \"Rank 0\", \"Sanity\": 7.78, \"Time Stamp\": \"2022-03-31 07:23:55\", \"Type\": \"Demonic\"}, {\"Damage\": \"5d2\", \"Energy\": 9.13, \"Health\": 10.48, \"Level\": 5, \"Name\": \"Magma Archfey\", \"Rarity\": \"Rank 0\", \"Sanity\": 10.79, \"Time Stamp\": \"2022-03-31 07:23:55\", \"Type\": \"Fey\"}, {\"Damage\": \"3d2\", \"Energy\": 6.71, \"Health\": 6.63, \"Level\": 3, \"Name\": \"Mud Devil\", \"Rarity\": \"Rank 0\", \"Sanity\": 5.62, \"Time Stamp\": \"2022-03-31 07:23:55\", \"Type\": \"Devilkin\"}, {\"Damage\": \"6d2+2\", \"Energy\": 12.3, \"Health\": 11.38, \"Level\": 6, \"Name\": \"Smoke Elemental\", \"Rarity\": \"Rank 0\", \"Sanity\": 11.19, \"Time Stamp\": \"2022-03-31 07:23:55\", \"Type\": \"Elemental\"}, {\"Damage\": \"4d2+4\", \"Energy\": 8.98, \"Health\": 7.56, \"Level\": 4, \"Name\": \"White Demon\", \"Rarity\": \"Rank 0\", \"Sanity\": 7.46, \"Time Stamp\": \"2022-03-31 07:23:55\", \"Type\": \"Demonic\"}, {\"Damage\": \"13d2+2\", \"Energy\": 25.26, \"Health\": 26.15, \"Level\": 13, \"Name\": \"Incubus\", \"Rarity\": \"Rank 0\", \"Sanity\": 25.9, \"Time Stamp\": \"2022-03-31 07:23:55\", \"Type\": \"Devilkin\"}, {\"Damage\": \"2d2+2\", \"Energy\": 3.85, \"Health\": 4.59, \"Level\": 2, \"Name\": \"Nightmare\", \"Rarity\": \"Rank 0\", \"Sanity\": 3.03, \"Time Stamp\": \"2022-03-31 07:23:55\", \"Type\": \"Demonic\"}, {\"Damage\": \"8d2+2\", \"Energy\": 16.97, \"Health\": 15.39, \"Level\": 8, \"Name\": \"Quasit\", \"Rarity\": \"Rank 0\", \"Sanity\": 15.35, \"Time Stamp\": \"2022-03-31 07:23:55\", \"Type\": \"Demonic\"}, {\"Damage\": \"3d2+3\", \"Energy\": 6.24, \"Health\": 6.66, \"Level\": 3, \"Name\": \"Red Archfey\", \"Rarity\": \"Rank 0\", \"Sanity\": 5.05, \"Time Stamp\": \"2022-03-31 07:23:55\", \"Type\": \"Fey\"}, {\"Damage\": \"8d2+3\", \"Energy\": 16.51, \"Health\": 16.23, \"Level\": 8, \"Name\": \"Banshee\", \"Rarity\": \"Rank 0\", \"Sanity\": 15.37, \"Time Stamp\": \"2022-03-31 07:23:55\", \"Type\": \"Undead\"}, {\"Damage\": \"5d2+2\", \"Energy\": 9.35, \"Health\": 9.84, \"Level\": 5, \"Name\": \"Kobold Mage\", \"Rarity\": \"Rank 0\", \"Sanity\": 9.44, \"Time Stamp\": \"2022-03-31 07:23:55\", \"Type\": \"Devilkin\"}, {\"Damage\": \"13d2\", \"Energy\": 26.13, \"Health\": 26.74, \"Level\": 13, \"Name\": \"Shadow Mephit\", \"Rarity\": \"Rank 0\", \"Sanity\": 26.12, \"Time Stamp\": \"2022-03-31 07:23:55\", \"Type\": \"Elemental\"}, {\"Damage\": \"17d2\", \"Energy\": 33.99, \"Health\": 34.06, \"Level\": 17, \"Name\": \"Diamond Faerie\", \"Rarity\": \"Rank 0\", \"Sanity\": 34.59, \"Time Stamp\": \"2022-03-31 07:23:55\", \"Type\": \"Fey\"}, {\"Damage\": \"3d2+3\", \"Energy\": 5.02, \"Health\": 6.79, \"Level\": 3, \"Name\": \"Efreeti\", \"Rarity\": \"Rank 0\", \"Sanity\": 6.86, \"Time Stamp\": \"2022-03-31 07:23:55\", \"Type\": \"Elemental\"}, {\"Damage\": \"15d2\", \"Energy\": 30.58, \"Health\": 30.39, \"Level\": 15, \"Name\": \"Spore Archfey\", \"Rarity\": \"Rank 0\", \"Sanity\": 29.57, \"Time Stamp\": \"2022-03-31 07:23:55\", \"Type\": \"Fey\"}, {\"Damage\": \"5d2+2\", \"Energy\": 10.31, \"Health\": 9.81, \"Level\": 5, \"Name\": \"Night Hag\", \"Rarity\": \"Rank 0\", \"Sanity\": 10.2, \"Time Stamp\": \"2022-03-31 07:23:55\", \"Type\": \"Demonic\"}, {\"Damage\": \"7d2+3\", \"Energy\": 14.41, \"Health\": 14.77, \"Level\": 7, \"Name\": \"White Drake\", \"Rarity\": \"Rank 0\", \"Sanity\": 14.6, \"Time Stamp\": \"2022-03-31 07:23:55\", \"Type\": \"Dragon\"}, {\"Damage\": \"13d2\", \"Energy\": 26.34, \"Health\": 26.02, \"Level\": 13, \"Name\": \"Faerie Dragon\", \"Rarity\": \"Rank 0\", \"Sanity\": 25.18, \"Time Stamp\": \"2022-03-31 07:23:55\", \"Type\": \"Dragon\"}, {\"Damage\": \"8d2+3\", \"Energy\": 16.81, \"Health\": 16.3, \"Level\": 8, \"Name\": \"Shadow Mephit\", \"Rarity\": \"Rank 0\", \"Sanity\": 15.45, \"Time Stamp\": \"2022-03-31 07:23:55\", \"Type\": \"Elemental\"}, {\"Damage\": \"11d2+3\", \"Energy\": 21.26, \"Health\": 21.03, \"Level\": 11, \"Name\": \"Prismatic Wyrmling\", \"Rarity\": \"Rank 0\", \"Sanity\": 22.87, \"Time Stamp\": \"2022-03-31 07:23:55\", \"Type\": \"Dragon\"}, {\"Damage\": \"7d2\", \"Energy\": 13.79, \"Health\": 14.31, \"Level\": 7, \"Name\": \"Efreeti\", \"Rarity\": \"Rank 0\", \"Sanity\": 14.59, \"Time Stamp\": \"2022-03-31 07:23:55\", \"Type\": \"Elemental\"}, {\"Damage\": \"5d2+5\", \"Energy\": 9.36, \"Health\": 10.53, \"Level\": 5, \"Name\": \"Night Hag\", \"Rarity\": \"Rank 0\", \"Sanity\": 9.18, \"Time Stamp\": \"2022-03-31 07:23:55\", \"Type\": \"Demonic\"}, {\"Damage\": \"9d2+1\", \"Energy\": 17.65, \"Health\": 18.21, \"Level\": 9, \"Name\": \"Smoke Elemental\", \"Rarity\": \"Rank 0\", \"Sanity\": 18.21, \"Time Stamp\": \"2022-03-31 07:23:55\", \"Type\": \"Elemental\"}, {\"Damage\": \"7d2\", \"Energy\": 13.31, \"Health\": 14.53, \"Level\": 7, \"Name\": \"Magma Archfey\", \"Rarity\": \"Rank 0\", \"Sanity\": 13.88, \"Time Stamp\": \"2022-03-31 07:23:55\", \"Type\": \"Fey\"}, {\"Damage\": \"3d2+1\", \"Energy\": 5.91, \"Health\": 5.51, \"Level\": 3, \"Name\": \"Platinum Wyrmling\", \"Rarity\": \"Rank 0\", \"Sanity\": 6.59, \"Time Stamp\": \"2022-03-31 07:23:55\", \"Type\": \"Dragon\"}, {\"Damage\": \"13d2+2\", \"Energy\": 26.54, \"Health\": 25.86, \"Level\": 13, \"Name\": \"Efreeti\", \"Rarity\": \"Rank 0\", \"Sanity\": 26.94, \"Time Stamp\": \"2022-03-31 07:23:55\", \"Type\": \"Elemental\"}, {\"Damage\": \"2d2+1\", \"Energy\": 3.27, \"Health\": 3.91, \"Level\": 2, \"Name\": \"Green Faerie\", \"Rarity\": \"Rank 0\", \"Sanity\": 4.99, \"Time Stamp\": \"2022-03-31 07:23:55\", \"Type\": \"Fey\"}, {\"Damage\": \"6d2+1\", \"Energy\": 12.97, \"Health\": 11.38, \"Level\": 6, \"Name\": \"Lightning Mephit\", \"Rarity\": \"Rank 0\", \"Sanity\": 11.69, \"Time Stamp\": \"2022-03-31 07:23:55\", \"Type\": \"Elemental\"}, {\"Damage\": \"6d2+1\", \"Energy\": 11.13, \"Health\": 12.42, \"Level\": 6, \"Name\": \"Flame Spirit\", \"Rarity\": \"Rank 0\", \"Sanity\": 11.77, \"Time Stamp\": \"2022-03-31 07:23:55\", \"Type\": \"Fey\"}, {\"Damage\": \"11d2\", \"Energy\": 21.85, \"Health\": 21.12, \"Level\": 11, \"Name\": \"Pseudodragon\", \"Rarity\": \"Rank 0\", \"Sanity\": 22.08, \"Time Stamp\": \"2022-03-31 07:23:55\", \"Type\": \"Dragon\"}, {\"Damage\": \"2d2\", \"Energy\": 3.91, \"Health\": 4.38, \"Level\": 2, \"Name\": \"Djinni\", \"Rarity\": \"Rank 0\", \"Sanity\": 3.17, \"Time Stamp\": \"2022-03-31 07:23:55\", \"Type\": \"Elemental\"}, {\"Damage\": \"7d2\", \"Energy\": 13.05, \"Health\": 14.19, \"Level\": 7, \"Name\": \"Imp\", \"Rarity\": \"Rank 0\", \"Sanity\": 13.47, \"Time Stamp\": \"2022-03-31 07:23:55\", \"Type\": \"Demonic\"}, {\"Damage\": \"12d2+2\", \"Energy\": 23.72, \"Health\": 24.43, \"Level\": 12, \"Name\": \"Ruby Drake\", \"Rarity\": \"Rank 0\", \"Sanity\": 24.28, \"Time Stamp\": \"2022-03-31 07:23:55\", \"Type\": \"Dragon\"}, {\"Damage\": \"2d2+3\", \"Energy\": 4.18, \"Health\": 4.25, \"Level\": 2, \"Name\": \"Djinni\", \"Rarity\": \"Rank 0\", \"Sanity\": 4.9, \"Time Stamp\": \"2022-03-31 07:23:55\", \"Type\": \"Elemental\"}, {\"Damage\": \"15d2\", \"Energy\": 29.28, \"Health\": 29.68, \"Level\": 15, \"Name\": \"Pseudodragon\", \"Rarity\": \"Rank 0\", \"Sanity\": 29.08, \"Time Stamp\": \"2022-03-31 07:23:55\", \"Type\": \"Dragon\"}, {\"Damage\": \"13d2+1\", \"Energy\": 25.38, \"Health\": 25.95, \"Level\": 13, \"Name\": \"Pseudodragon\", \"Rarity\": \"Rank 0\", \"Sanity\": 25.1, \"Time Stamp\": \"2022-03-31 07:23:55\", \"Type\": \"Dragon\"}, {\"Damage\": \"4d2\", \"Energy\": 7.27, \"Health\": 8.84, \"Level\": 4, \"Name\": \"Goblin Mage\", \"Rarity\": \"Rank 0\", \"Sanity\": 7.01, \"Time Stamp\": \"2022-03-31 07:23:55\", \"Type\": \"Devilkin\"}, {\"Damage\": \"2d2\", \"Energy\": 4.22, \"Health\": 3.91, \"Level\": 2, \"Name\": \"Efreeti\", \"Rarity\": \"Rank 0\", \"Sanity\": 3.23, \"Time Stamp\": \"2022-03-31 07:23:55\", \"Type\": \"Elemental\"}, {\"Damage\": \"11d2\", \"Energy\": 22.38, \"Health\": 21.94, \"Level\": 11, \"Name\": \"Vampire\", \"Rarity\": \"Rank 0\", \"Sanity\": 21.29, \"Time Stamp\": \"2022-03-31 07:23:55\", \"Type\": \"Undead\"}, {\"Damage\": \"1d2+1\", \"Energy\": 2.34, \"Health\": 1.94, \"Level\": 1, \"Name\": \"Lightning Elemental\", \"Rarity\": \"Rank 0\", \"Sanity\": 1.66, \"Time Stamp\": \"2022-03-31 07:23:55\", \"Type\": \"Elemental\"}, {\"Damage\": \"19d2+4\", \"Energy\": 38.23, \"Health\": 37.71, \"Level\": 19, \"Name\": \"Steam Spirit\", \"Rarity\": \"Rank 0\", \"Sanity\": 37.85, \"Time Stamp\": \"2022-03-31 07:23:55\", \"Type\": \"Fey\"}, {\"Damage\": \"8d2+1\", \"Energy\": 15.78, \"Health\": 15.35, \"Level\": 8, \"Name\": \"Kobold Knight\", \"Rarity\": \"Rank 0\", \"Sanity\": 15.79, \"Time Stamp\": \"2022-03-31 07:23:55\", \"Type\": \"Devilkin\"}, {\"Damage\": \"1d2\", \"Energy\": 2.28, \"Health\": 2.67, \"Level\": 1, \"Name\": \"Ghostly Mage\", \"Rarity\": \"Rank 0\", \"Sanity\": 1.17, \"Time Stamp\": \"2022-03-31 07:23:55\", \"Type\": \"Undead\"}, {\"Damage\": \"11d2\", \"Energy\": 22.15, \"Health\": 22.87, \"Level\": 11, \"Name\": \"Efreeti\", \"Rarity\": \"Rank 0\", \"Sanity\": 21.32, \"Time Stamp\": \"2022-03-31 07:23:55\", \"Type\": \"Elemental\"}, {\"Damage\": \"3d2+2\", \"Energy\": 5.92, \"Health\": 6.3, \"Level\": 3, \"Name\": \"Lich\", \"Rarity\": \"Rank 0\", \"Sanity\": 5.23, \"Time Stamp\": \"2022-03-31 07:23:55\", \"Type\": \"Undead\"}, {\"Damage\": \"3d2+2\", \"Energy\": 6.81, \"Health\": 6.72, \"Level\": 3, \"Name\": \"Djinni\", \"Rarity\": \"Rank 0\", \"Sanity\": 6.59, \"Time Stamp\": \"2022-03-31 07:23:55\", \"Type\": \"Elemental\"}, {\"Damage\": \"11d2\", \"Energy\": 22.65, \"Health\": 22.09, \"Level\": 11, \"Name\": \"Nightmare\", \"Rarity\": \"Rank 0\", \"Sanity\": 21.69, \"Time Stamp\": \"2022-03-31 07:23:55\", \"Type\": \"Demonic\"}, {\"Damage\": \"5d2+3\", \"Energy\": 10.46, \"Health\": 9.36, \"Level\": 5, \"Name\": \"Pit Lord\", \"Rarity\": \"Rank 0\", \"Sanity\": 10.89, \"Time Stamp\": \"2022-03-31 07:23:55\", \"Type\": \"Devilkin\"}, {\"Damage\": \"7d2\", \"Energy\": 14.23, \"Health\": 13.62, \"Level\": 7, \"Name\": \"Lightning Elemental\", \"Rarity\": \"Rank 0\", \"Sanity\": 14.08, \"Time Stamp\": \"2022-03-31 07:23:55\", \"Type\": \"Elemental\"}, {\"Damage\": \"12d2+2\", \"Energy\": 23.81, \"Health\": 24.93, \"Level\": 12, \"Name\": \"Pit Fiend\", \"Rarity\": \"Rank 0\", \"Sanity\": 24.0, \"Time Stamp\": \"2022-03-31 07:23:55\", \"Type\": \"Demonic\"}, {\"Damage\": \"12d2+2\", \"Energy\": 23.96, \"Health\": 24.34, \"Level\": 12, \"Name\": \"Steam Elemental\", \"Rarity\": \"Rank 0\", \"Sanity\": 24.56, \"Time Stamp\": \"2022-03-31 07:23:55\", \"Type\": \"Elemental\"}, {\"Damage\": \"2d2+1\", \"Energy\": 3.49, \"Health\": 4.14, \"Level\": 2, \"Name\": \"Lich\", \"Rarity\": \"Rank 0\", \"Sanity\": 4.85, \"Time Stamp\": \"2022-03-31 07:23:55\", \"Type\": \"Undead\"}, {\"Damage\": \"6d2+1\", \"Energy\": 11.05, \"Health\": 11.37, \"Level\": 6, \"Name\": \"Djinni\", \"Rarity\": \"Rank 0\", \"Sanity\": 11.88, \"Time Stamp\": \"2022-03-31 07:23:55\", \"Type\": \"Elemental\"}, {\"Damage\": \"6d2+1\", \"Energy\": 12.21, \"Health\": 12.18, \"Level\": 6, \"Name\": \"Prismatic Archfey\", \"Rarity\": \"Rank 0\", \"Sanity\": 12.07, \"Time Stamp\": \"2022-03-31 07:23:55\", \"Type\": \"Fey\"}, {\"Damage\": \"4d2+1\", \"Energy\": 8.09, \"Health\": 8.47, \"Level\": 4, \"Name\": \"Djinni\", \"Rarity\": \"Rank 0\", \"Sanity\": 8.7, \"Time Stamp\": \"2022-03-31 07:23:55\", \"Type\": \"Elemental\"}, {\"Damage\": \"7d2\", \"Energy\": 14.9, \"Health\": 13.0, \"Level\": 7, \"Name\": \"Balor\", \"Rarity\": \"Rank 0\", \"Sanity\": 13.1, \"Time Stamp\": \"2022-03-31 07:23:55\", \"Type\": \"Demonic\"}, {\"Damage\": \"3d2\", \"Energy\": 6.34, \"Health\": 6.65, \"Level\": 3, \"Name\": \"Gold Demon\", \"Rarity\": \"Rank 0\", \"Sanity\": 5.47, \"Time Stamp\": \"2022-03-31 07:23:55\", \"Type\": \"Demonic\"}, {\"Damage\": \"13d2+1\", \"Energy\": 25.6, \"Health\": 25.71, \"Level\": 13, \"Name\": \"Magma Devil\", \"Rarity\": \"Rank 0\", \"Sanity\": 25.13, \"Time Stamp\": \"2022-03-31 07:23:55\", \"Type\": \"Devilkin\"}, {\"Damage\": \"10d2\", \"Energy\": 20.31, \"Health\": 19.2, \"Level\": 10, \"Name\": \"Diamond Wyrmling\", \"Rarity\": \"Rank 0\", \"Sanity\": 20.94, \"Time Stamp\": \"2022-03-31 07:23:55\", \"Type\": \"Dragon\"}, {\"Damage\": \"2d2+5\", \"Energy\": 4.4, \"Health\": 4.77, \"Level\": 2, \"Name\": \"Efreeti\", \"Rarity\": \"Rank 0\", \"Sanity\": 3.43, \"Time Stamp\": \"2022-03-31 07:23:55\", \"Type\": \"Elemental\"}, {\"Damage\": \"14d2+2\", \"Energy\": 28.24, \"Health\": 27.62, \"Level\": 14, \"Name\": \"Night Hag\", \"Rarity\": \"Rank 0\", \"Sanity\": 27.03, \"Time Stamp\": \"2022-03-31 07:23:55\", \"Type\": \"Demonic\"}, {\"Damage\": \"10d2+1\", \"Energy\": 19.32, \"Health\": 20.89, \"Level\": 10, \"Name\": \"Lightning Archfey\", \"Rarity\": \"Rank 0\", \"Sanity\": 20.38, \"Time Stamp\": \"2022-03-31 07:23:55\", \"Type\": \"Fey\"}, {\"Damage\": \"6d2\", \"Energy\": 12.82, \"Health\": 12.79, \"Level\": 6, \"Name\": \"Sapphire Wyrmling\", \"Rarity\": \"Rank 0\", \"Sanity\": 11.01, \"Time Stamp\": \"2022-03-31 07:23:55\", \"Type\": \"Dragon\"}, {\"Damage\": \"4d2+5\", \"Energy\": 7.44, \"Health\": 8.45, \"Level\": 4, \"Name\": \"Zombie Guard\", \"Rarity\": \"Rank 0\", \"Sanity\": 8.46, \"Time Stamp\": \"2022-03-31 07:23:55\", \"Type\": \"Undead\"}, {\"Damage\": \"2d2+1\", \"Energy\": 3.57, \"Health\": 4.75, \"Level\": 2, \"Name\": \"Prince of Fear\", \"Rarity\": \"Rank 0\", \"Sanity\": 3.04, \"Time Stamp\": \"2022-03-31 07:23:55\", \"Type\": \"Devilkin\"}, {\"Damage\": \"5d2+2\", \"Energy\": 9.3, \"Health\": 9.57, \"Level\": 5, \"Name\": \"Brass Drake\", \"Rarity\": \"Rank 0\", \"Sanity\": 9.09, \"Time Stamp\": \"2022-03-31 07:23:55\", \"Type\": \"Dragon\"}, {\"Damage\": \"9d2+1\", \"Energy\": 17.91, \"Health\": 17.02, \"Level\": 9, \"Name\": \"Emerald Demon\", \"Rarity\": \"Rank 0\", \"Sanity\": 18.64, \"Time Stamp\": \"2022-03-31 07:23:55\", \"Type\": \"Demonic\"}]}, \"encoding\": {\"color\": {\"field\": \"Type\", \"type\": \"nominal\"}, \"tooltip\": [{\"field\": \"Name\", \"type\": \"nominal\"}, {\"field\": \"Type\", \"type\": \"nominal\"}, {\"field\": \"Level\", \"type\": \"quantitative\"}, {\"field\": \"Rarity\", \"type\": \"nominal\"}, {\"field\": \"Damage\", \"type\": \"nominal\"}, {\"field\": \"Health\", \"type\": \"quantitative\"}, {\"field\": \"Energy\", \"type\": \"quantitative\"}, {\"field\": \"Sanity\", \"type\": \"quantitative\"}, {\"field\": \"Time Stamp\", \"type\": \"nominal\"}], \"x\": {\"axis\": {\"title\": \"Time Stamp\"}, \"field\": \"Time Stamp\", \"type\": \"nominal\"}, \"y\": {\"axis\": {\"title\": \"Level\"}, \"field\": \"Level\", \"type\": \"quantitative\"}}, \"height\": 500, \"mark\": {\"size\": 200, \"type\": \"circle\"}, \"title\": \"Rank 0 Monsters\", \"width\": 500}'"
     },
     "execution_count": 57,
     "metadata": {},
     "output_type": "execute_result"
    }
   ]
  },
  {
   "cell_type": "markdown",
   "metadata": {
    "id": "LkEtWdKVn96I"
   },
   "source": [
    "Context managers help manage resources like files that need to be closed when we're done with them. The context manager automatically closes its resource when it goes out of scope. Two context managers are defined below, they begin with the `with` keyword."
   ]
  },
  {
   "cell_type": "code",
   "metadata": {
    "id": "dEhDI9fhi__k"
   },
   "source": [
    "# json dump will save a json file from a dict\n",
    "with open(\"scatter_plot.json\", \"w\") as file:\n",
    "    json.dump(scatter_plot_dict, file)"
   ],
   "execution_count": 58,
   "outputs": []
  },
  {
   "cell_type": "code",
   "metadata": {
    "id": "IxPcQv_9tgvi"
   },
   "source": [
    "# json load will open a json file and turn it into a dict\n",
    "with open(\"scatter_plot.json\", \"r\") as file:\n",
    "    json_dict = json.load(file)\n",
    "json_dict"
   ],
   "execution_count": 59,
   "outputs": [
    {
     "data": {
      "text/plain": "{'$schema': 'https://vega.github.io/schema/vega-lite/v4.8.1.json',\n 'config': {'view': {'continuousHeight': 300, 'continuousWidth': 400}},\n 'data': {'name': 'data-bc909eade4e963ccacb1652308ad0036'},\n 'datasets': {'data-bc909eade4e963ccacb1652308ad0036': [{'Damage': '4d2+3',\n    'Energy': 8.1,\n    'Health': 7.73,\n    'Level': 4,\n    'Name': 'Dust Spirit',\n    'Rarity': 'Rank 0',\n    'Sanity': 8.62,\n    'Time Stamp': '2022-03-31 07:23:55',\n    'Type': 'Fey'},\n   {'Damage': '12d2',\n    'Energy': 24.32,\n    'Health': 24.01,\n    'Level': 12,\n    'Name': 'Emerald Dragon',\n    'Rarity': 'Rank 0',\n    'Sanity': 23.85,\n    'Time Stamp': '2022-03-31 07:23:55',\n    'Type': 'Dragon'},\n   {'Damage': '13d2+1',\n    'Energy': 25.26,\n    'Health': 26.77,\n    'Level': 13,\n    'Name': 'Djinni',\n    'Rarity': 'Rank 0',\n    'Sanity': 25.07,\n    'Time Stamp': '2022-03-31 07:23:55',\n    'Type': 'Elemental'},\n   {'Damage': '8d2',\n    'Energy': 16.85,\n    'Health': 15.57,\n    'Level': 8,\n    'Name': 'Steam Archfey',\n    'Rarity': 'Rank 0',\n    'Sanity': 15.07,\n    'Time Stamp': '2022-03-31 07:23:55',\n    'Type': 'Fey'},\n   {'Damage': '12d2',\n    'Energy': 23.42,\n    'Health': 24.12,\n    'Level': 12,\n    'Name': 'Pit Lord',\n    'Rarity': 'Rank 0',\n    'Sanity': 24.62,\n    'Time Stamp': '2022-03-31 07:23:55',\n    'Type': 'Devilkin'},\n   {'Damage': '3d2+3',\n    'Energy': 6.84,\n    'Health': 6.38,\n    'Level': 3,\n    'Name': 'Smoke Archfey',\n    'Rarity': 'Rank 0',\n    'Sanity': 6.35,\n    'Time Stamp': '2022-03-31 07:23:55',\n    'Type': 'Fey'},\n   {'Damage': '1d2+2',\n    'Energy': 2.97,\n    'Health': 1.24,\n    'Level': 1,\n    'Name': 'Magma Spirit',\n    'Rarity': 'Rank 0',\n    'Sanity': 1.03,\n    'Time Stamp': '2022-03-31 07:23:55',\n    'Type': 'Fey'},\n   {'Damage': '13d2',\n    'Energy': 26.15,\n    'Health': 26.92,\n    'Level': 13,\n    'Name': 'Hook Horror',\n    'Rarity': 'Rank 0',\n    'Sanity': 25.93,\n    'Time Stamp': '2022-03-31 07:23:55',\n    'Type': 'Demonic'},\n   {'Damage': '5d2',\n    'Energy': 9.99,\n    'Health': 9.87,\n    'Level': 5,\n    'Name': 'Pseudodragon',\n    'Rarity': 'Rank 0',\n    'Sanity': 10.62,\n    'Time Stamp': '2022-03-31 07:23:55',\n    'Type': 'Dragon'},\n   {'Damage': '13d2',\n    'Energy': 25.05,\n    'Health': 26.85,\n    'Level': 13,\n    'Name': 'Shadow Archfey',\n    'Rarity': 'Rank 0',\n    'Sanity': 25.12,\n    'Time Stamp': '2022-03-31 07:23:55',\n    'Type': 'Fey'},\n   {'Damage': '2d2+2',\n    'Energy': 4.15,\n    'Health': 3.21,\n    'Level': 2,\n    'Name': 'Faerie Dragon',\n    'Rarity': 'Rank 0',\n    'Sanity': 4.45,\n    'Time Stamp': '2022-03-31 07:23:55',\n    'Type': 'Dragon'},\n   {'Damage': '2d2+2',\n    'Energy': 3.37,\n    'Health': 4.28,\n    'Level': 2,\n    'Name': 'Onyx Faerie',\n    'Rarity': 'Rank 0',\n    'Sanity': 4.54,\n    'Time Stamp': '2022-03-31 07:23:55',\n    'Type': 'Fey'},\n   {'Damage': '3d2+1',\n    'Energy': 6.18,\n    'Health': 5.61,\n    'Level': 3,\n    'Name': 'Nightmare',\n    'Rarity': 'Rank 0',\n    'Sanity': 6.17,\n    'Time Stamp': '2022-03-31 07:23:55',\n    'Type': 'Demonic'},\n   {'Damage': '2d2+2',\n    'Energy': 3.24,\n    'Health': 3.79,\n    'Level': 2,\n    'Name': 'Pit Lord',\n    'Rarity': 'Rank 0',\n    'Sanity': 3.29,\n    'Time Stamp': '2022-03-31 07:23:55',\n    'Type': 'Devilkin'},\n   {'Damage': '7d2+1',\n    'Energy': 13.47,\n    'Health': 13.17,\n    'Level': 7,\n    'Name': 'Wyvern',\n    'Rarity': 'Rank 0',\n    'Sanity': 14.58,\n    'Time Stamp': '2022-03-31 07:23:55',\n    'Type': 'Dragon'},\n   {'Damage': '8d2+2',\n    'Energy': 15.35,\n    'Health': 16.66,\n    'Level': 8,\n    'Name': 'Succubus',\n    'Rarity': 'Rank 0',\n    'Sanity': 16.35,\n    'Time Stamp': '2022-03-31 07:23:55',\n    'Type': 'Devilkin'},\n   {'Damage': '10d2',\n    'Energy': 20.73,\n    'Health': 19.75,\n    'Level': 10,\n    'Name': 'Wyvern',\n    'Rarity': 'Rank 0',\n    'Sanity': 19.53,\n    'Time Stamp': '2022-03-31 07:23:55',\n    'Type': 'Dragon'},\n   {'Damage': '16d2+2',\n    'Energy': 31.18,\n    'Health': 31.35,\n    'Level': 16,\n    'Name': 'Shadow Mephit',\n    'Rarity': 'Rank 0',\n    'Sanity': 32.25,\n    'Time Stamp': '2022-03-31 07:23:55',\n    'Type': 'Elemental'},\n   {'Damage': '6d2+1',\n    'Energy': 11.25,\n    'Health': 11.48,\n    'Level': 6,\n    'Name': 'Lich King',\n    'Rarity': 'Rank 0',\n    'Sanity': 11.83,\n    'Time Stamp': '2022-03-31 07:23:55',\n    'Type': 'Undead'},\n   {'Damage': '17d2+3',\n    'Energy': 33.36,\n    'Health': 33.41,\n    'Level': 17,\n    'Name': 'Balor',\n    'Rarity': 'Rank 0',\n    'Sanity': 34.21,\n    'Time Stamp': '2022-03-31 07:23:55',\n    'Type': 'Demonic'},\n   {'Damage': '4d2+1',\n    'Energy': 7.34,\n    'Health': 8.72,\n    'Level': 4,\n    'Name': 'Prince of Fear',\n    'Rarity': 'Rank 0',\n    'Sanity': 7.22,\n    'Time Stamp': '2022-03-31 07:23:55',\n    'Type': 'Devilkin'},\n   {'Damage': '6d2',\n    'Energy': 11.39,\n    'Health': 11.19,\n    'Level': 6,\n    'Name': 'Faerie Dragon',\n    'Rarity': 'Rank 0',\n    'Sanity': 11.14,\n    'Time Stamp': '2022-03-31 07:23:55',\n    'Type': 'Dragon'},\n   {'Damage': '9d2',\n    'Energy': 17.4,\n    'Health': 17.86,\n    'Level': 9,\n    'Name': 'Dust Devil',\n    'Rarity': 'Rank 0',\n    'Sanity': 18.08,\n    'Time Stamp': '2022-03-31 07:23:55',\n    'Type': 'Devilkin'},\n   {'Damage': '10d2',\n    'Energy': 20.97,\n    'Health': 19.91,\n    'Level': 10,\n    'Name': 'Lich King',\n    'Rarity': 'Rank 0',\n    'Sanity': 20.56,\n    'Time Stamp': '2022-03-31 07:23:55',\n    'Type': 'Undead'},\n   {'Damage': '3d2+2',\n    'Energy': 6.58,\n    'Health': 5.21,\n    'Level': 3,\n    'Name': 'Faerie Dragon',\n    'Rarity': 'Rank 0',\n    'Sanity': 6.17,\n    'Time Stamp': '2022-03-31 07:23:55',\n    'Type': 'Dragon'},\n   {'Damage': '7d2',\n    'Energy': 13.26,\n    'Health': 13.4,\n    'Level': 7,\n    'Name': 'Pit Fiend',\n    'Rarity': 'Rank 0',\n    'Sanity': 14.14,\n    'Time Stamp': '2022-03-31 07:23:55',\n    'Type': 'Demonic'},\n   {'Damage': '5d2',\n    'Energy': 10.59,\n    'Health': 10.46,\n    'Level': 5,\n    'Name': 'Pit Fiend',\n    'Rarity': 'Rank 0',\n    'Sanity': 10.62,\n    'Time Stamp': '2022-03-31 07:23:55',\n    'Type': 'Demonic'},\n   {'Damage': '8d2+1',\n    'Energy': 16.51,\n    'Health': 16.32,\n    'Level': 8,\n    'Name': 'Goblin Guard',\n    'Rarity': 'Rank 0',\n    'Sanity': 15.54,\n    'Time Stamp': '2022-03-31 07:23:55',\n    'Type': 'Devilkin'},\n   {'Damage': '10d2+3',\n    'Energy': 19.08,\n    'Health': 19.37,\n    'Level': 10,\n    'Name': 'Hook Horror',\n    'Rarity': 'Rank 0',\n    'Sanity': 19.85,\n    'Time Stamp': '2022-03-31 07:23:55',\n    'Type': 'Demonic'},\n   {'Damage': '2d2+2',\n    'Energy': 3.12,\n    'Health': 3.13,\n    'Level': 2,\n    'Name': 'Pit Lord',\n    'Rarity': 'Rank 0',\n    'Sanity': 4.07,\n    'Time Stamp': '2022-03-31 07:23:55',\n    'Type': 'Devilkin'},\n   {'Damage': '12d2',\n    'Energy': 23.39,\n    'Health': 24.64,\n    'Level': 12,\n    'Name': 'Silver Drake',\n    'Rarity': 'Rank 0',\n    'Sanity': 23.14,\n    'Time Stamp': '2022-03-31 07:23:55',\n    'Type': 'Dragon'},\n   {'Damage': '2d2+4',\n    'Energy': 3.98,\n    'Health': 3.19,\n    'Level': 2,\n    'Name': 'Platinum Faerie',\n    'Rarity': 'Rank 0',\n    'Sanity': 4.49,\n    'Time Stamp': '2022-03-31 07:23:55',\n    'Type': 'Fey'},\n   {'Damage': '6d2',\n    'Energy': 12.6,\n    'Health': 12.28,\n    'Level': 6,\n    'Name': 'Red Dragon',\n    'Rarity': 'Rank 0',\n    'Sanity': 12.03,\n    'Time Stamp': '2022-03-31 07:23:55',\n    'Type': 'Dragon'},\n   {'Damage': '9d2',\n    'Energy': 18.38,\n    'Health': 17.53,\n    'Level': 9,\n    'Name': 'Efreeti',\n    'Rarity': 'Rank 0',\n    'Sanity': 17.84,\n    'Time Stamp': '2022-03-31 07:23:55',\n    'Type': 'Elemental'},\n   {'Damage': '12d2',\n    'Energy': 23.09,\n    'Health': 23.4,\n    'Level': 12,\n    'Name': 'Imp',\n    'Rarity': 'Rank 0',\n    'Sanity': 24.74,\n    'Time Stamp': '2022-03-31 07:23:55',\n    'Type': 'Demonic'},\n   {'Damage': '10d2+1',\n    'Energy': 20.19,\n    'Health': 20.78,\n    'Level': 10,\n    'Name': 'Emerald Archfey',\n    'Rarity': 'Rank 0',\n    'Sanity': 20.59,\n    'Time Stamp': '2022-03-31 07:23:55',\n    'Type': 'Fey'},\n   {'Damage': '7d2+2',\n    'Energy': 13.02,\n    'Health': 14.19,\n    'Level': 7,\n    'Name': 'Prismatic Drake',\n    'Rarity': 'Rank 0',\n    'Sanity': 13.2,\n    'Time Stamp': '2022-03-31 07:23:55',\n    'Type': 'Dragon'},\n   {'Damage': '6d2+2',\n    'Energy': 12.23,\n    'Health': 12.46,\n    'Level': 6,\n    'Name': 'Revenant',\n    'Rarity': 'Rank 0',\n    'Sanity': 12.9,\n    'Time Stamp': '2022-03-31 07:23:55',\n    'Type': 'Undead'},\n   {'Damage': '15d2+1',\n    'Energy': 29.84,\n    'Health': 30.52,\n    'Level': 15,\n    'Name': 'Goblin Mage',\n    'Rarity': 'Rank 0',\n    'Sanity': 30.57,\n    'Time Stamp': '2022-03-31 07:23:55',\n    'Type': 'Devilkin'},\n   {'Damage': '8d2+5',\n    'Energy': 15.42,\n    'Health': 15.43,\n    'Level': 8,\n    'Name': 'Green Demon',\n    'Rarity': 'Rank 0',\n    'Sanity': 16.59,\n    'Time Stamp': '2022-03-31 07:23:55',\n    'Type': 'Demonic'},\n   {'Damage': '7d2+3',\n    'Energy': 14.0,\n    'Health': 14.21,\n    'Level': 7,\n    'Name': 'Revenant',\n    'Rarity': 'Rank 0',\n    'Sanity': 14.31,\n    'Time Stamp': '2022-03-31 07:23:55',\n    'Type': 'Undead'},\n   {'Damage': '15d2+2',\n    'Energy': 29.29,\n    'Health': 29.79,\n    'Level': 15,\n    'Name': 'Skeletal Knight',\n    'Rarity': 'Rank 0',\n    'Sanity': 30.58,\n    'Time Stamp': '2022-03-31 07:23:55',\n    'Type': 'Undead'},\n   {'Damage': '10d2+1',\n    'Energy': 20.03,\n    'Health': 20.46,\n    'Level': 10,\n    'Name': 'Succubus',\n    'Rarity': 'Rank 0',\n    'Sanity': 19.46,\n    'Time Stamp': '2022-03-31 07:23:55',\n    'Type': 'Devilkin'},\n   {'Damage': '4d2+3',\n    'Energy': 7.26,\n    'Health': 8.03,\n    'Level': 4,\n    'Name': 'Balor',\n    'Rarity': 'Rank 0',\n    'Sanity': 8.74,\n    'Time Stamp': '2022-03-31 07:23:55',\n    'Type': 'Demonic'},\n   {'Damage': '12d2+3',\n    'Energy': 24.19,\n    'Health': 23.27,\n    'Level': 12,\n    'Name': 'Gold Dragon',\n    'Rarity': 'Rank 0',\n    'Sanity': 23.4,\n    'Time Stamp': '2022-03-31 07:23:55',\n    'Type': 'Dragon'},\n   {'Damage': '7d2+3',\n    'Energy': 13.61,\n    'Health': 14.86,\n    'Level': 7,\n    'Name': 'Balor',\n    'Rarity': 'Rank 0',\n    'Sanity': 13.45,\n    'Time Stamp': '2022-03-31 07:23:55',\n    'Type': 'Demonic'},\n   {'Damage': '2d2+3',\n    'Energy': 4.12,\n    'Health': 3.2,\n    'Level': 2,\n    'Name': 'Demilich',\n    'Rarity': 'Rank 0',\n    'Sanity': 3.6,\n    'Time Stamp': '2022-03-31 07:23:55',\n    'Type': 'Undead'},\n   {'Damage': '7d2+2',\n    'Energy': 14.13,\n    'Health': 14.29,\n    'Level': 7,\n    'Name': 'Nightmare',\n    'Rarity': 'Rank 0',\n    'Sanity': 13.48,\n    'Time Stamp': '2022-03-31 07:23:55',\n    'Type': 'Demonic'},\n   {'Damage': '8d2+4',\n    'Energy': 16.17,\n    'Health': 16.09,\n    'Level': 8,\n    'Name': 'Quasit',\n    'Rarity': 'Rank 0',\n    'Sanity': 16.54,\n    'Time Stamp': '2022-03-31 07:23:55',\n    'Type': 'Demonic'},\n   {'Damage': '9d2',\n    'Energy': 17.49,\n    'Health': 17.41,\n    'Level': 9,\n    'Name': 'Djinni',\n    'Rarity': 'Rank 0',\n    'Sanity': 17.87,\n    'Time Stamp': '2022-03-31 07:23:55',\n    'Type': 'Elemental'},\n   {'Damage': '4d2+5',\n    'Energy': 7.08,\n    'Health': 8.3,\n    'Level': 4,\n    'Name': 'Balor',\n    'Rarity': 'Rank 0',\n    'Sanity': 7.17,\n    'Time Stamp': '2022-03-31 07:23:55',\n    'Type': 'Demonic'},\n   {'Damage': '3d2',\n    'Energy': 5.88,\n    'Health': 5.25,\n    'Level': 3,\n    'Name': 'Quasit',\n    'Rarity': 'Rank 0',\n    'Sanity': 6.79,\n    'Time Stamp': '2022-03-31 07:23:55',\n    'Type': 'Demonic'},\n   {'Damage': '8d2+1',\n    'Energy': 16.11,\n    'Health': 15.11,\n    'Level': 8,\n    'Name': 'Djinni',\n    'Rarity': 'Rank 0',\n    'Sanity': 15.06,\n    'Time Stamp': '2022-03-31 07:23:55',\n    'Type': 'Elemental'},\n   {'Damage': '4d2+1',\n    'Energy': 7.32,\n    'Health': 8.34,\n    'Level': 4,\n    'Name': 'Night Hag',\n    'Rarity': 'Rank 0',\n    'Sanity': 8.88,\n    'Time Stamp': '2022-03-31 07:23:55',\n    'Type': 'Demonic'},\n   {'Damage': '11d2+1',\n    'Energy': 22.47,\n    'Health': 21.89,\n    'Level': 11,\n    'Name': 'Green Wyrmling',\n    'Rarity': 'Rank 0',\n    'Sanity': 21.38,\n    'Time Stamp': '2022-03-31 07:23:55',\n    'Type': 'Dragon'},\n   {'Damage': '8d2+2',\n    'Energy': 16.92,\n    'Health': 16.38,\n    'Level': 8,\n    'Name': 'Kobold Mage',\n    'Rarity': 'Rank 0',\n    'Sanity': 16.57,\n    'Time Stamp': '2022-03-31 07:23:55',\n    'Type': 'Devilkin'},\n   {'Damage': '13d2+1',\n    'Energy': 25.25,\n    'Health': 26.05,\n    'Level': 13,\n    'Name': 'Balor',\n    'Rarity': 'Rank 0',\n    'Sanity': 25.2,\n    'Time Stamp': '2022-03-31 07:23:55',\n    'Type': 'Demonic'},\n   {'Damage': '2d2+1',\n    'Energy': 3.54,\n    'Health': 4.41,\n    'Level': 2,\n    'Name': 'Revenant',\n    'Rarity': 'Rank 0',\n    'Sanity': 4.35,\n    'Time Stamp': '2022-03-31 07:23:55',\n    'Type': 'Undead'},\n   {'Damage': '9d2',\n    'Energy': 18.51,\n    'Health': 17.32,\n    'Level': 9,\n    'Name': 'Platinum Archfey',\n    'Rarity': 'Rank 0',\n    'Sanity': 17.13,\n    'Time Stamp': '2022-03-31 07:23:55',\n    'Type': 'Fey'},\n   {'Damage': '3d2+2',\n    'Energy': 6.22,\n    'Health': 5.3,\n    'Level': 3,\n    'Name': 'Zombie Knight',\n    'Rarity': 'Rank 0',\n    'Sanity': 5.29,\n    'Time Stamp': '2022-03-31 07:23:55',\n    'Type': 'Undead'},\n   {'Damage': '8d2+2',\n    'Energy': 16.56,\n    'Health': 15.83,\n    'Level': 8,\n    'Name': 'Ruby Faerie',\n    'Rarity': 'Rank 0',\n    'Sanity': 16.99,\n    'Time Stamp': '2022-03-31 07:23:55',\n    'Type': 'Fey'},\n   {'Damage': '8d2+1',\n    'Energy': 16.52,\n    'Health': 15.54,\n    'Level': 8,\n    'Name': 'Quasit',\n    'Rarity': 'Rank 0',\n    'Sanity': 15.37,\n    'Time Stamp': '2022-03-31 07:23:55',\n    'Type': 'Demonic'},\n   {'Damage': '7d2',\n    'Energy': 13.07,\n    'Health': 13.36,\n    'Level': 7,\n    'Name': 'Faerie Dragon',\n    'Rarity': 'Rank 0',\n    'Sanity': 14.08,\n    'Time Stamp': '2022-03-31 07:23:55',\n    'Type': 'Dragon'},\n   {'Damage': '3d2+1',\n    'Energy': 6.37,\n    'Health': 6.15,\n    'Level': 3,\n    'Name': 'White Faerie',\n    'Rarity': 'Rank 0',\n    'Sanity': 5.16,\n    'Time Stamp': '2022-03-31 07:23:55',\n    'Type': 'Fey'},\n   {'Damage': '9d2+3',\n    'Energy': 18.38,\n    'Health': 17.16,\n    'Level': 9,\n    'Name': 'Diamond Archfey',\n    'Rarity': 'Rank 0',\n    'Sanity': 17.81,\n    'Time Stamp': '2022-03-31 07:23:55',\n    'Type': 'Fey'},\n   {'Damage': '16d2+1',\n    'Energy': 32.47,\n    'Health': 32.94,\n    'Level': 16,\n    'Name': 'Onyx Faerie',\n    'Rarity': 'Rank 0',\n    'Sanity': 31.36,\n    'Time Stamp': '2022-03-31 07:23:55',\n    'Type': 'Fey'},\n   {'Damage': '8d2',\n    'Energy': 15.38,\n    'Health': 16.73,\n    'Level': 8,\n    'Name': 'Pseudodragon',\n    'Rarity': 'Rank 0',\n    'Sanity': 15.22,\n    'Time Stamp': '2022-03-31 07:23:55',\n    'Type': 'Dragon'},\n   {'Damage': '9d2+1',\n    'Energy': 18.19,\n    'Health': 18.39,\n    'Level': 9,\n    'Name': 'Ice Archfey',\n    'Rarity': 'Rank 0',\n    'Sanity': 17.78,\n    'Time Stamp': '2022-03-31 07:23:55',\n    'Type': 'Fey'},\n   {'Damage': '13d2',\n    'Energy': 26.44,\n    'Health': 25.82,\n    'Level': 13,\n    'Name': 'White Archfey',\n    'Rarity': 'Rank 0',\n    'Sanity': 25.71,\n    'Time Stamp': '2022-03-31 07:23:55',\n    'Type': 'Fey'},\n   {'Damage': '10d2+1',\n    'Energy': 19.58,\n    'Health': 19.93,\n    'Level': 10,\n    'Name': 'Efreeti',\n    'Rarity': 'Rank 0',\n    'Sanity': 20.39,\n    'Time Stamp': '2022-03-31 07:23:55',\n    'Type': 'Elemental'},\n   {'Damage': '13d2+3',\n    'Energy': 26.92,\n    'Health': 25.93,\n    'Level': 13,\n    'Name': 'Efreeti',\n    'Rarity': 'Rank 0',\n    'Sanity': 26.93,\n    'Time Stamp': '2022-03-31 07:23:55',\n    'Type': 'Elemental'},\n   {'Damage': '3d2',\n    'Energy': 6.93,\n    'Health': 6.33,\n    'Level': 3,\n    'Name': 'Quasit',\n    'Rarity': 'Rank 0',\n    'Sanity': 5.56,\n    'Time Stamp': '2022-03-31 07:23:55',\n    'Type': 'Demonic'},\n   {'Damage': '14d2',\n    'Energy': 27.53,\n    'Health': 28.1,\n    'Level': 14,\n    'Name': 'Pit Lord',\n    'Rarity': 'Rank 0',\n    'Sanity': 27.25,\n    'Time Stamp': '2022-03-31 07:23:55',\n    'Type': 'Devilkin'},\n   {'Damage': '2d2',\n    'Energy': 4.06,\n    'Health': 4.02,\n    'Level': 2,\n    'Name': 'Platinum Dragon',\n    'Rarity': 'Rank 0',\n    'Sanity': 3.58,\n    'Time Stamp': '2022-03-31 07:23:55',\n    'Type': 'Dragon'},\n   {'Damage': '9d2+3',\n    'Energy': 17.87,\n    'Health': 18.66,\n    'Level': 9,\n    'Name': 'Red Demon',\n    'Rarity': 'Rank 0',\n    'Sanity': 17.63,\n    'Time Stamp': '2022-03-31 07:23:55',\n    'Type': 'Demonic'},\n   {'Damage': '10d2+1',\n    'Energy': 20.61,\n    'Health': 20.4,\n    'Level': 10,\n    'Name': 'Djinni',\n    'Rarity': 'Rank 0',\n    'Sanity': 19.08,\n    'Time Stamp': '2022-03-31 07:23:55',\n    'Type': 'Elemental'},\n   {'Damage': '10d2+1',\n    'Energy': 20.7,\n    'Health': 19.9,\n    'Level': 10,\n    'Name': 'Kobold Villager',\n    'Rarity': 'Rank 0',\n    'Sanity': 20.59,\n    'Time Stamp': '2022-03-31 07:23:55',\n    'Type': 'Devilkin'},\n   {'Damage': '4d2',\n    'Energy': 7.27,\n    'Health': 7.44,\n    'Level': 4,\n    'Name': 'Imp',\n    'Rarity': 'Rank 0',\n    'Sanity': 7.77,\n    'Time Stamp': '2022-03-31 07:23:55',\n    'Type': 'Demonic'},\n   {'Damage': '2d2+1',\n    'Energy': 4.43,\n    'Health': 3.12,\n    'Level': 2,\n    'Name': 'Skeletal Mage',\n    'Rarity': 'Rank 0',\n    'Sanity': 4.94,\n    'Time Stamp': '2022-03-31 07:23:55',\n    'Type': 'Undead'},\n   {'Damage': '9d2',\n    'Energy': 17.83,\n    'Health': 18.0,\n    'Level': 9,\n    'Name': 'Mummy Lord',\n    'Rarity': 'Rank 0',\n    'Sanity': 18.55,\n    'Time Stamp': '2022-03-31 07:23:55',\n    'Type': 'Undead'},\n   {'Damage': '12d2+4',\n    'Energy': 23.24,\n    'Health': 24.62,\n    'Level': 12,\n    'Name': 'Dracolich',\n    'Rarity': 'Rank 0',\n    'Sanity': 24.81,\n    'Time Stamp': '2022-03-31 07:23:55',\n    'Type': 'Undead'},\n   {'Damage': '10d2+1',\n    'Energy': 19.5,\n    'Health': 19.71,\n    'Level': 10,\n    'Name': 'Brass Drake',\n    'Rarity': 'Rank 0',\n    'Sanity': 19.02,\n    'Time Stamp': '2022-03-31 07:23:55',\n    'Type': 'Dragon'},\n   {'Damage': '2d2',\n    'Energy': 3.33,\n    'Health': 3.66,\n    'Level': 2,\n    'Name': 'Bronze Dragon',\n    'Rarity': 'Rank 0',\n    'Sanity': 4.02,\n    'Time Stamp': '2022-03-31 07:23:55',\n    'Type': 'Dragon'},\n   {'Damage': '12d2',\n    'Energy': 24.82,\n    'Health': 23.15,\n    'Level': 12,\n    'Name': 'Kobold Villager',\n    'Rarity': 'Rank 0',\n    'Sanity': 24.55,\n    'Time Stamp': '2022-03-31 07:23:55',\n    'Type': 'Devilkin'},\n   {'Damage': '6d2+3',\n    'Energy': 12.94,\n    'Health': 11.05,\n    'Level': 6,\n    'Name': 'Hook Horror',\n    'Rarity': 'Rank 0',\n    'Sanity': 11.95,\n    'Time Stamp': '2022-03-31 07:23:55',\n    'Type': 'Demonic'},\n   {'Damage': '18d2+2',\n    'Energy': 36.69,\n    'Health': 35.5,\n    'Level': 18,\n    'Name': 'Faerie Dragon',\n    'Rarity': 'Rank 0',\n    'Sanity': 36.74,\n    'Time Stamp': '2022-03-31 07:23:55',\n    'Type': 'Dragon'},\n   {'Damage': '7d2',\n    'Energy': 13.93,\n    'Health': 13.2,\n    'Level': 7,\n    'Name': 'Brass Drake',\n    'Rarity': 'Rank 0',\n    'Sanity': 13.27,\n    'Time Stamp': '2022-03-31 07:23:55',\n    'Type': 'Dragon'},\n   {'Damage': '11d2',\n    'Energy': 22.87,\n    'Health': 21.95,\n    'Level': 11,\n    'Name': 'Succubus',\n    'Rarity': 'Rank 0',\n    'Sanity': 22.58,\n    'Time Stamp': '2022-03-31 07:23:55',\n    'Type': 'Devilkin'},\n   {'Damage': '3d2+2',\n    'Energy': 6.09,\n    'Health': 6.24,\n    'Level': 3,\n    'Name': 'Djinni',\n    'Rarity': 'Rank 0',\n    'Sanity': 5.24,\n    'Time Stamp': '2022-03-31 07:23:55',\n    'Type': 'Elemental'},\n   {'Damage': '10d2',\n    'Energy': 20.97,\n    'Health': 20.2,\n    'Level': 10,\n    'Name': 'Bronze Faerie',\n    'Rarity': 'Rank 0',\n    'Sanity': 19.75,\n    'Time Stamp': '2022-03-31 07:23:55',\n    'Type': 'Fey'},\n   {'Damage': '12d2+3',\n    'Energy': 23.95,\n    'Health': 24.64,\n    'Level': 12,\n    'Name': 'Steam Mephit',\n    'Rarity': 'Rank 0',\n    'Sanity': 23.46,\n    'Time Stamp': '2022-03-31 07:23:55',\n    'Type': 'Elemental'},\n   {'Damage': '11d2',\n    'Energy': 21.82,\n    'Health': 21.18,\n    'Level': 11,\n    'Name': 'Lightning Mephit',\n    'Rarity': 'Rank 0',\n    'Sanity': 22.96,\n    'Time Stamp': '2022-03-31 07:23:55',\n    'Type': 'Elemental'},\n   {'Damage': '5d2+1',\n    'Energy': 10.71,\n    'Health': 9.01,\n    'Level': 5,\n    'Name': 'Balor',\n    'Rarity': 'Rank 0',\n    'Sanity': 10.61,\n    'Time Stamp': '2022-03-31 07:23:55',\n    'Type': 'Demonic'},\n   {'Damage': '5d2+2',\n    'Energy': 10.85,\n    'Health': 10.84,\n    'Level': 5,\n    'Name': 'Magma Elemental',\n    'Rarity': 'Rank 0',\n    'Sanity': 10.41,\n    'Time Stamp': '2022-03-31 07:23:55',\n    'Type': 'Elemental'},\n   {'Damage': '13d2+2',\n    'Energy': 25.12,\n    'Health': 25.65,\n    'Level': 13,\n    'Name': 'White Faerie',\n    'Rarity': 'Rank 0',\n    'Sanity': 25.28,\n    'Time Stamp': '2022-03-31 07:23:55',\n    'Type': 'Fey'},\n   {'Damage': '7d2+2',\n    'Energy': 13.49,\n    'Health': 13.67,\n    'Level': 7,\n    'Name': 'Lich',\n    'Rarity': 'Rank 0',\n    'Sanity': 14.09,\n    'Time Stamp': '2022-03-31 07:23:55',\n    'Type': 'Undead'},\n   {'Damage': '5d2+2',\n    'Energy': 10.62,\n    'Health': 10.24,\n    'Level': 5,\n    'Name': 'Wyvern',\n    'Rarity': 'Rank 0',\n    'Sanity': 9.18,\n    'Time Stamp': '2022-03-31 07:23:55',\n    'Type': 'Dragon'},\n   {'Damage': '6d2+3',\n    'Energy': 11.73,\n    'Health': 11.89,\n    'Level': 6,\n    'Name': 'Pit Fiend',\n    'Rarity': 'Rank 0',\n    'Sanity': 12.77,\n    'Time Stamp': '2022-03-31 07:23:55',\n    'Type': 'Demonic'},\n   {'Damage': '4d2+3',\n    'Energy': 7.29,\n    'Health': 8.31,\n    'Level': 4,\n    'Name': 'Sapphire Wyrmling',\n    'Rarity': 'Rank 0',\n    'Sanity': 8.41,\n    'Time Stamp': '2022-03-31 07:23:55',\n    'Type': 'Dragon'},\n   {'Damage': '11d2+1',\n    'Energy': 22.83,\n    'Health': 22.74,\n    'Level': 11,\n    'Name': 'Wraith',\n    'Rarity': 'Rank 0',\n    'Sanity': 22.01,\n    'Time Stamp': '2022-03-31 07:23:55',\n    'Type': 'Undead'},\n   {'Damage': '14d2',\n    'Energy': 28.38,\n    'Health': 28.32,\n    'Level': 14,\n    'Name': 'Mud Elemental',\n    'Rarity': 'Rank 0',\n    'Sanity': 28.58,\n    'Time Stamp': '2022-03-31 07:23:55',\n    'Type': 'Elemental'},\n   {'Damage': '2d2+2',\n    'Energy': 3.28,\n    'Health': 3.31,\n    'Level': 2,\n    'Name': 'Vampire',\n    'Rarity': 'Rank 0',\n    'Sanity': 4.35,\n    'Time Stamp': '2022-03-31 07:23:55',\n    'Type': 'Undead'},\n   {'Damage': '6d2+1',\n    'Energy': 12.84,\n    'Health': 11.63,\n    'Level': 6,\n    'Name': 'Hook Horror',\n    'Rarity': 'Rank 0',\n    'Sanity': 11.2,\n    'Time Stamp': '2022-03-31 07:23:55',\n    'Type': 'Demonic'},\n   {'Damage': '8d2+2',\n    'Energy': 16.12,\n    'Health': 16.67,\n    'Level': 8,\n    'Name': 'Succubus',\n    'Rarity': 'Rank 0',\n    'Sanity': 16.98,\n    'Time Stamp': '2022-03-31 07:23:55',\n    'Type': 'Devilkin'},\n   {'Damage': '3d2+1',\n    'Energy': 5.53,\n    'Health': 5.01,\n    'Level': 3,\n    'Name': 'Wyvern',\n    'Rarity': 'Rank 0',\n    'Sanity': 5.76,\n    'Time Stamp': '2022-03-31 07:23:55',\n    'Type': 'Dragon'},\n   {'Damage': '17d2+2',\n    'Energy': 33.93,\n    'Health': 33.28,\n    'Level': 17,\n    'Name': 'Pit Lord',\n    'Rarity': 'Rank 0',\n    'Sanity': 33.45,\n    'Time Stamp': '2022-03-31 07:23:55',\n    'Type': 'Devilkin'},\n   {'Damage': '16d2+2',\n    'Energy': 31.4,\n    'Health': 31.98,\n    'Level': 16,\n    'Name': 'Pseudodragon',\n    'Rarity': 'Rank 0',\n    'Sanity': 32.57,\n    'Time Stamp': '2022-03-31 07:23:55',\n    'Type': 'Dragon'},\n   {'Damage': '11d2+5',\n    'Energy': 22.78,\n    'Health': 21.29,\n    'Level': 11,\n    'Name': 'Wraith',\n    'Rarity': 'Rank 0',\n    'Sanity': 22.54,\n    'Time Stamp': '2022-03-31 07:23:55',\n    'Type': 'Undead'},\n   {'Damage': '8d2+3',\n    'Energy': 15.85,\n    'Health': 15.82,\n    'Level': 8,\n    'Name': 'Quasit',\n    'Rarity': 'Rank 0',\n    'Sanity': 15.38,\n    'Time Stamp': '2022-03-31 07:23:55',\n    'Type': 'Demonic'},\n   {'Damage': '11d2',\n    'Energy': 21.39,\n    'Health': 21.99,\n    'Level': 11,\n    'Name': 'Mud Archfey',\n    'Rarity': 'Rank 0',\n    'Sanity': 21.28,\n    'Time Stamp': '2022-03-31 07:23:55',\n    'Type': 'Fey'},\n   {'Damage': '4d2+2',\n    'Energy': 8.76,\n    'Health': 7.89,\n    'Level': 4,\n    'Name': 'Brass Wyrmling',\n    'Rarity': 'Rank 0',\n    'Sanity': 7.06,\n    'Time Stamp': '2022-03-31 07:23:55',\n    'Type': 'Dragon'},\n   {'Damage': '2d2+4',\n    'Energy': 3.55,\n    'Health': 3.83,\n    'Level': 2,\n    'Name': 'Djinni',\n    'Rarity': 'Rank 0',\n    'Sanity': 3.48,\n    'Time Stamp': '2022-03-31 07:23:55',\n    'Type': 'Elemental'},\n   {'Damage': '8d2+1',\n    'Energy': 15.6,\n    'Health': 16.75,\n    'Level': 8,\n    'Name': 'Mummy',\n    'Rarity': 'Rank 0',\n    'Sanity': 15.92,\n    'Time Stamp': '2022-03-31 07:23:55',\n    'Type': 'Undead'},\n   {'Damage': '3d2+2',\n    'Energy': 6.66,\n    'Health': 5.21,\n    'Level': 3,\n    'Name': 'Lightning Spirit',\n    'Rarity': 'Rank 0',\n    'Sanity': 6.36,\n    'Time Stamp': '2022-03-31 07:23:55',\n    'Type': 'Fey'},\n   {'Damage': '9d2',\n    'Energy': 18.16,\n    'Health': 18.12,\n    'Level': 9,\n    'Name': 'Wyvern',\n    'Rarity': 'Rank 0',\n    'Sanity': 18.15,\n    'Time Stamp': '2022-03-31 07:23:55',\n    'Type': 'Dragon'},\n   {'Damage': '12d2+2',\n    'Energy': 23.57,\n    'Health': 24.55,\n    'Level': 12,\n    'Name': 'Lich',\n    'Rarity': 'Rank 0',\n    'Sanity': 24.39,\n    'Time Stamp': '2022-03-31 07:23:55',\n    'Type': 'Undead'},\n   {'Damage': '6d2',\n    'Energy': 12.51,\n    'Health': 12.5,\n    'Level': 6,\n    'Name': 'Prince of Fear',\n    'Rarity': 'Rank 0',\n    'Sanity': 11.79,\n    'Time Stamp': '2022-03-31 07:23:55',\n    'Type': 'Devilkin'},\n   {'Damage': '2d2',\n    'Energy': 4.04,\n    'Health': 3.29,\n    'Level': 2,\n    'Name': 'Demilich',\n    'Rarity': 'Rank 0',\n    'Sanity': 3.45,\n    'Time Stamp': '2022-03-31 07:23:55',\n    'Type': 'Undead'},\n   {'Damage': '6d2+2',\n    'Energy': 11.28,\n    'Health': 11.44,\n    'Level': 6,\n    'Name': 'Zombie Villager',\n    'Rarity': 'Rank 0',\n    'Sanity': 12.53,\n    'Time Stamp': '2022-03-31 07:23:55',\n    'Type': 'Undead'},\n   {'Damage': '13d2+4',\n    'Energy': 26.86,\n    'Health': 25.33,\n    'Level': 13,\n    'Name': 'Prismatic Drake',\n    'Rarity': 'Rank 0',\n    'Sanity': 26.14,\n    'Time Stamp': '2022-03-31 07:23:55',\n    'Type': 'Dragon'},\n   {'Damage': '13d2+1',\n    'Energy': 26.77,\n    'Health': 25.41,\n    'Level': 13,\n    'Name': 'Hook Horror',\n    'Rarity': 'Rank 0',\n    'Sanity': 26.03,\n    'Time Stamp': '2022-03-31 07:23:55',\n    'Type': 'Demonic'},\n   {'Damage': '11d2+1',\n    'Energy': 21.29,\n    'Health': 22.4,\n    'Level': 11,\n    'Name': 'Platinum Faerie',\n    'Rarity': 'Rank 0',\n    'Sanity': 21.14,\n    'Time Stamp': '2022-03-31 07:23:55',\n    'Type': 'Fey'},\n   {'Damage': '8d2+3',\n    'Energy': 15.35,\n    'Health': 16.54,\n    'Level': 8,\n    'Name': 'Hell Hound',\n    'Rarity': 'Rank 0',\n    'Sanity': 15.63,\n    'Time Stamp': '2022-03-31 07:23:55',\n    'Type': 'Demonic'},\n   {'Damage': '7d2',\n    'Energy': 14.1,\n    'Health': 13.4,\n    'Level': 7,\n    'Name': 'Efreeti',\n    'Rarity': 'Rank 0',\n    'Sanity': 13.33,\n    'Time Stamp': '2022-03-31 07:23:55',\n    'Type': 'Elemental'},\n   {'Damage': '7d2+1',\n    'Energy': 14.19,\n    'Health': 14.86,\n    'Level': 7,\n    'Name': 'Zombie Mage',\n    'Rarity': 'Rank 0',\n    'Sanity': 13.21,\n    'Time Stamp': '2022-03-31 07:23:55',\n    'Type': 'Undead'},\n   {'Damage': '8d2+1',\n    'Energy': 16.47,\n    'Health': 15.14,\n    'Level': 8,\n    'Name': 'Incubus',\n    'Rarity': 'Rank 0',\n    'Sanity': 15.42,\n    'Time Stamp': '2022-03-31 07:23:55',\n    'Type': 'Devilkin'},\n   {'Damage': '8d2+1',\n    'Energy': 15.4,\n    'Health': 16.15,\n    'Level': 8,\n    'Name': 'Kobold Archer',\n    'Rarity': 'Rank 0',\n    'Sanity': 15.98,\n    'Time Stamp': '2022-03-31 07:23:55',\n    'Type': 'Devilkin'},\n   {'Damage': '5d2+2',\n    'Energy': 9.2,\n    'Health': 10.92,\n    'Level': 5,\n    'Name': 'Green Faerie',\n    'Rarity': 'Rank 0',\n    'Sanity': 9.02,\n    'Time Stamp': '2022-03-31 07:23:55',\n    'Type': 'Fey'},\n   {'Damage': '10d2+4',\n    'Energy': 20.79,\n    'Health': 19.36,\n    'Level': 10,\n    'Name': 'Balor',\n    'Rarity': 'Rank 0',\n    'Sanity': 20.93,\n    'Time Stamp': '2022-03-31 07:23:55',\n    'Type': 'Demonic'},\n   {'Damage': '2d2+2',\n    'Energy': 4.38,\n    'Health': 3.31,\n    'Level': 2,\n    'Name': 'Brass Faerie',\n    'Rarity': 'Rank 0',\n    'Sanity': 3.25,\n    'Time Stamp': '2022-03-31 07:23:55',\n    'Type': 'Fey'},\n   {'Damage': '7d2',\n    'Energy': 14.21,\n    'Health': 13.32,\n    'Level': 7,\n    'Name': 'Platinum Drake',\n    'Rarity': 'Rank 0',\n    'Sanity': 14.43,\n    'Time Stamp': '2022-03-31 07:23:55',\n    'Type': 'Dragon'},\n   {'Damage': '3d2+5',\n    'Energy': 6.76,\n    'Health': 6.62,\n    'Level': 3,\n    'Name': 'White Demon',\n    'Rarity': 'Rank 0',\n    'Sanity': 6.07,\n    'Time Stamp': '2022-03-31 07:23:55',\n    'Type': 'Demonic'},\n   {'Damage': '9d2+5',\n    'Energy': 18.63,\n    'Health': 17.99,\n    'Level': 9,\n    'Name': 'Efreeti',\n    'Rarity': 'Rank 0',\n    'Sanity': 18.74,\n    'Time Stamp': '2022-03-31 07:23:55',\n    'Type': 'Elemental'},\n   {'Damage': '9d2+1',\n    'Energy': 18.25,\n    'Health': 17.12,\n    'Level': 9,\n    'Name': 'Pseudodragon',\n    'Rarity': 'Rank 0',\n    'Sanity': 18.46,\n    'Time Stamp': '2022-03-31 07:23:55',\n    'Type': 'Dragon'},\n   {'Damage': '2d2+5',\n    'Energy': 3.69,\n    'Health': 4.15,\n    'Level': 2,\n    'Name': 'Pit Lord',\n    'Rarity': 'Rank 0',\n    'Sanity': 4.79,\n    'Time Stamp': '2022-03-31 07:23:55',\n    'Type': 'Devilkin'},\n   {'Damage': '8d2+2',\n    'Energy': 15.69,\n    'Health': 16.03,\n    'Level': 8,\n    'Name': 'Poltergeist',\n    'Rarity': 'Rank 0',\n    'Sanity': 15.1,\n    'Time Stamp': '2022-03-31 07:23:55',\n    'Type': 'Undead'},\n   {'Damage': '15d2',\n    'Energy': 30.17,\n    'Health': 29.55,\n    'Level': 15,\n    'Name': 'Smoke Devil',\n    'Rarity': 'Rank 0',\n    'Sanity': 30.09,\n    'Time Stamp': '2022-03-31 07:23:55',\n    'Type': 'Devilkin'},\n   {'Damage': '7d2',\n    'Energy': 13.7,\n    'Health': 13.97,\n    'Level': 7,\n    'Name': 'Pseudodragon',\n    'Rarity': 'Rank 0',\n    'Sanity': 14.25,\n    'Time Stamp': '2022-03-31 07:23:55',\n    'Type': 'Dragon'},\n   {'Damage': '6d2+1',\n    'Energy': 12.91,\n    'Health': 12.13,\n    'Level': 6,\n    'Name': 'Efreeti',\n    'Rarity': 'Rank 0',\n    'Sanity': 12.71,\n    'Time Stamp': '2022-03-31 07:23:55',\n    'Type': 'Elemental'},\n   {'Damage': '3d2+1',\n    'Energy': 6.94,\n    'Health': 6.22,\n    'Level': 3,\n    'Name': 'Kobold Archer',\n    'Rarity': 'Rank 0',\n    'Sanity': 6.76,\n    'Time Stamp': '2022-03-31 07:23:55',\n    'Type': 'Devilkin'},\n   {'Damage': '2d2',\n    'Energy': 4.84,\n    'Health': 4.86,\n    'Level': 2,\n    'Name': 'Pseudodragon',\n    'Rarity': 'Rank 0',\n    'Sanity': 3.33,\n    'Time Stamp': '2022-03-31 07:23:55',\n    'Type': 'Dragon'},\n   {'Damage': '10d2+1',\n    'Energy': 20.79,\n    'Health': 20.44,\n    'Level': 10,\n    'Name': 'Djinni',\n    'Rarity': 'Rank 0',\n    'Sanity': 20.55,\n    'Time Stamp': '2022-03-31 07:23:55',\n    'Type': 'Elemental'},\n   {'Damage': '10d2+1',\n    'Energy': 20.16,\n    'Health': 20.77,\n    'Level': 10,\n    'Name': 'Steam Spirit',\n    'Rarity': 'Rank 0',\n    'Sanity': 20.98,\n    'Time Stamp': '2022-03-31 07:23:55',\n    'Type': 'Fey'},\n   {'Damage': '2d2+1',\n    'Energy': 4.8,\n    'Health': 3.81,\n    'Level': 2,\n    'Name': 'Pit Fiend',\n    'Rarity': 'Rank 0',\n    'Sanity': 3.04,\n    'Time Stamp': '2022-03-31 07:23:55',\n    'Type': 'Demonic'},\n   {'Damage': '12d2',\n    'Energy': 24.6,\n    'Health': 23.89,\n    'Level': 12,\n    'Name': 'Red Wyrmling',\n    'Rarity': 'Rank 0',\n    'Sanity': 24.36,\n    'Time Stamp': '2022-03-31 07:23:55',\n    'Type': 'Dragon'},\n   {'Damage': '4d2+2',\n    'Energy': 7.59,\n    'Health': 8.83,\n    'Level': 4,\n    'Name': 'Copper Faerie',\n    'Rarity': 'Rank 0',\n    'Sanity': 8.54,\n    'Time Stamp': '2022-03-31 07:23:55',\n    'Type': 'Fey'},\n   {'Damage': '5d2+1',\n    'Energy': 10.32,\n    'Health': 9.57,\n    'Level': 5,\n    'Name': 'White Archfey',\n    'Rarity': 'Rank 0',\n    'Sanity': 9.12,\n    'Time Stamp': '2022-03-31 07:23:55',\n    'Type': 'Fey'},\n   {'Damage': '5d2',\n    'Energy': 9.7,\n    'Health': 9.95,\n    'Level': 5,\n    'Name': 'Pit Lord',\n    'Rarity': 'Rank 0',\n    'Sanity': 9.9,\n    'Time Stamp': '2022-03-31 07:23:55',\n    'Type': 'Devilkin'},\n   {'Damage': '12d2+1',\n    'Energy': 24.14,\n    'Health': 24.87,\n    'Level': 12,\n    'Name': 'Efreeti',\n    'Rarity': 'Rank 0',\n    'Sanity': 24.86,\n    'Time Stamp': '2022-03-31 07:23:55',\n    'Type': 'Elemental'},\n   {'Damage': '4d2',\n    'Energy': 8.8,\n    'Health': 7.83,\n    'Level': 4,\n    'Name': 'Poltergeist',\n    'Rarity': 'Rank 0',\n    'Sanity': 8.09,\n    'Time Stamp': '2022-03-31 07:23:55',\n    'Type': 'Undead'},\n   {'Damage': '6d2+1',\n    'Energy': 12.49,\n    'Health': 12.03,\n    'Level': 6,\n    'Name': 'Silver Drake',\n    'Rarity': 'Rank 0',\n    'Sanity': 11.58,\n    'Time Stamp': '2022-03-31 07:23:55',\n    'Type': 'Dragon'},\n   {'Damage': '11d2+3',\n    'Energy': 21.22,\n    'Health': 21.07,\n    'Level': 11,\n    'Name': 'Black Faerie',\n    'Rarity': 'Rank 0',\n    'Sanity': 22.29,\n    'Time Stamp': '2022-03-31 07:23:55',\n    'Type': 'Fey'},\n   {'Damage': '7d2',\n    'Energy': 13.27,\n    'Health': 14.53,\n    'Level': 7,\n    'Name': 'Goblin Villager',\n    'Rarity': 'Rank 0',\n    'Sanity': 13.16,\n    'Time Stamp': '2022-03-31 07:23:55',\n    'Type': 'Devilkin'},\n   {'Damage': '16d2+1',\n    'Energy': 32.04,\n    'Health': 31.28,\n    'Level': 16,\n    'Name': 'Mummy',\n    'Rarity': 'Rank 0',\n    'Sanity': 31.95,\n    'Time Stamp': '2022-03-31 07:23:55',\n    'Type': 'Undead'},\n   {'Damage': '2d2+2',\n    'Energy': 4.38,\n    'Health': 3.77,\n    'Level': 2,\n    'Name': 'Spore Devil',\n    'Rarity': 'Rank 0',\n    'Sanity': 3.36,\n    'Time Stamp': '2022-03-31 07:23:55',\n    'Type': 'Devilkin'},\n   {'Damage': '4d2',\n    'Energy': 7.18,\n    'Health': 7.63,\n    'Level': 4,\n    'Name': 'Mud Spirit',\n    'Rarity': 'Rank 0',\n    'Sanity': 7.51,\n    'Time Stamp': '2022-03-31 07:23:55',\n    'Type': 'Fey'},\n   {'Damage': '8d2+2',\n    'Energy': 15.14,\n    'Health': 16.87,\n    'Level': 8,\n    'Name': 'Wraith',\n    'Rarity': 'Rank 0',\n    'Sanity': 15.12,\n    'Time Stamp': '2022-03-31 07:23:55',\n    'Type': 'Undead'},\n   {'Damage': '18d2+4',\n    'Energy': 36.13,\n    'Health': 36.33,\n    'Level': 18,\n    'Name': 'Gold Faerie',\n    'Rarity': 'Rank 0',\n    'Sanity': 36.88,\n    'Time Stamp': '2022-03-31 07:23:55',\n    'Type': 'Fey'},\n   {'Damage': '3d2+3',\n    'Energy': 6.03,\n    'Health': 5.14,\n    'Level': 3,\n    'Name': 'Pit Fiend',\n    'Rarity': 'Rank 0',\n    'Sanity': 6.54,\n    'Time Stamp': '2022-03-31 07:23:55',\n    'Type': 'Demonic'},\n   {'Damage': '7d2',\n    'Energy': 14.35,\n    'Health': 14.1,\n    'Level': 7,\n    'Name': 'Pit Fiend',\n    'Rarity': 'Rank 0',\n    'Sanity': 14.82,\n    'Time Stamp': '2022-03-31 07:23:55',\n    'Type': 'Demonic'},\n   {'Damage': '6d2+3',\n    'Energy': 12.45,\n    'Health': 11.91,\n    'Level': 6,\n    'Name': 'Mummy Lord',\n    'Rarity': 'Rank 0',\n    'Sanity': 12.08,\n    'Time Stamp': '2022-03-31 07:23:55',\n    'Type': 'Undead'},\n   {'Damage': '11d2+2',\n    'Energy': 21.9,\n    'Health': 21.71,\n    'Level': 11,\n    'Name': 'Lightning Elemental',\n    'Rarity': 'Rank 0',\n    'Sanity': 21.74,\n    'Time Stamp': '2022-03-31 07:23:55',\n    'Type': 'Elemental'},\n   {'Damage': '3d2+2',\n    'Energy': 6.77,\n    'Health': 6.69,\n    'Level': 3,\n    'Name': 'Pseudodragon',\n    'Rarity': 'Rank 0',\n    'Sanity': 6.19,\n    'Time Stamp': '2022-03-31 07:23:55',\n    'Type': 'Dragon'},\n   {'Damage': '8d2+4',\n    'Energy': 16.01,\n    'Health': 15.38,\n    'Level': 8,\n    'Name': 'Spore Archfey',\n    'Rarity': 'Rank 0',\n    'Sanity': 16.37,\n    'Time Stamp': '2022-03-31 07:23:55',\n    'Type': 'Fey'},\n   {'Damage': '12d2+3',\n    'Energy': 23.33,\n    'Health': 24.64,\n    'Level': 12,\n    'Name': 'Poltergeist',\n    'Rarity': 'Rank 0',\n    'Sanity': 23.11,\n    'Time Stamp': '2022-03-31 07:23:55',\n    'Type': 'Undead'},\n   {'Damage': '7d2+3',\n    'Energy': 13.17,\n    'Health': 14.52,\n    'Level': 7,\n    'Name': 'Kobold Guard',\n    'Rarity': 'Rank 0',\n    'Sanity': 13.56,\n    'Time Stamp': '2022-03-31 07:23:55',\n    'Type': 'Devilkin'},\n   {'Damage': '8d2',\n    'Energy': 15.78,\n    'Health': 15.6,\n    'Level': 8,\n    'Name': 'Pit Lord',\n    'Rarity': 'Rank 0',\n    'Sanity': 16.99,\n    'Time Stamp': '2022-03-31 07:23:55',\n    'Type': 'Devilkin'},\n   {'Damage': '3d2',\n    'Energy': 6.32,\n    'Health': 6.06,\n    'Level': 3,\n    'Name': 'Copper Wyrmling',\n    'Rarity': 'Rank 0',\n    'Sanity': 6.5,\n    'Time Stamp': '2022-03-31 07:23:55',\n    'Type': 'Dragon'},\n   {'Damage': '5d2+2',\n    'Energy': 9.53,\n    'Health': 9.46,\n    'Level': 5,\n    'Name': 'Ghoul',\n    'Rarity': 'Rank 0',\n    'Sanity': 9.54,\n    'Time Stamp': '2022-03-31 07:23:55',\n    'Type': 'Undead'},\n   {'Damage': '11d2+4',\n    'Energy': 21.48,\n    'Health': 21.52,\n    'Level': 11,\n    'Name': 'Pseudodragon',\n    'Rarity': 'Rank 0',\n    'Sanity': 22.49,\n    'Time Stamp': '2022-03-31 07:23:55',\n    'Type': 'Dragon'},\n   {'Damage': '13d2',\n    'Energy': 26.63,\n    'Health': 26.84,\n    'Level': 13,\n    'Name': 'Mud Mephit',\n    'Rarity': 'Rank 0',\n    'Sanity': 26.01,\n    'Time Stamp': '2022-03-31 07:23:55',\n    'Type': 'Elemental'},\n   {'Damage': '7d2+3',\n    'Energy': 13.9,\n    'Health': 14.8,\n    'Level': 7,\n    'Name': 'Diamond Demon',\n    'Rarity': 'Rank 0',\n    'Sanity': 14.59,\n    'Time Stamp': '2022-03-31 07:23:55',\n    'Type': 'Demonic'},\n   {'Damage': '9d2+1',\n    'Energy': 17.94,\n    'Health': 17.01,\n    'Level': 9,\n    'Name': 'Efreeti',\n    'Rarity': 'Rank 0',\n    'Sanity': 17.22,\n    'Time Stamp': '2022-03-31 07:23:55',\n    'Type': 'Elemental'},\n   {'Damage': '7d2+1',\n    'Energy': 13.95,\n    'Health': 13.61,\n    'Level': 7,\n    'Name': 'Ice Spirit',\n    'Rarity': 'Rank 0',\n    'Sanity': 13.19,\n    'Time Stamp': '2022-03-31 07:23:55',\n    'Type': 'Fey'},\n   {'Damage': '14d2+4',\n    'Energy': 28.36,\n    'Health': 27.39,\n    'Level': 14,\n    'Name': 'Bronze Drake',\n    'Rarity': 'Rank 0',\n    'Sanity': 28.63,\n    'Time Stamp': '2022-03-31 07:23:55',\n    'Type': 'Dragon'},\n   {'Damage': '7d2+1',\n    'Energy': 13.02,\n    'Health': 13.9,\n    'Level': 7,\n    'Name': 'Spore Spirit',\n    'Rarity': 'Rank 0',\n    'Sanity': 14.29,\n    'Time Stamp': '2022-03-31 07:23:55',\n    'Type': 'Fey'},\n   {'Damage': '4d2+4',\n    'Energy': 7.53,\n    'Health': 7.74,\n    'Level': 4,\n    'Name': 'Smoke Elemental',\n    'Rarity': 'Rank 0',\n    'Sanity': 8.48,\n    'Time Stamp': '2022-03-31 07:23:55',\n    'Type': 'Elemental'},\n   {'Damage': '11d2+3',\n    'Energy': 21.26,\n    'Health': 22.42,\n    'Level': 11,\n    'Name': 'Imp',\n    'Rarity': 'Rank 0',\n    'Sanity': 22.65,\n    'Time Stamp': '2022-03-31 07:23:55',\n    'Type': 'Demonic'},\n   {'Damage': '7d2',\n    'Energy': 13.36,\n    'Health': 14.12,\n    'Level': 7,\n    'Name': 'Flame Mephit',\n    'Rarity': 'Rank 0',\n    'Sanity': 13.9,\n    'Time Stamp': '2022-03-31 07:23:55',\n    'Type': 'Elemental'},\n   {'Damage': '10d2',\n    'Energy': 19.35,\n    'Health': 20.48,\n    'Level': 10,\n    'Name': 'Prince of Fear',\n    'Rarity': 'Rank 0',\n    'Sanity': 19.14,\n    'Time Stamp': '2022-03-31 07:23:55',\n    'Type': 'Devilkin'},\n   {'Damage': '14d2',\n    'Energy': 28.93,\n    'Health': 28.69,\n    'Level': 14,\n    'Name': 'Dust Mephit',\n    'Rarity': 'Rank 0',\n    'Sanity': 27.97,\n    'Time Stamp': '2022-03-31 07:23:55',\n    'Type': 'Elemental'},\n   {'Damage': '3d2+4',\n    'Energy': 5.05,\n    'Health': 6.55,\n    'Level': 3,\n    'Name': 'Wyvern',\n    'Rarity': 'Rank 0',\n    'Sanity': 6.69,\n    'Time Stamp': '2022-03-31 07:23:55',\n    'Type': 'Dragon'},\n   {'Damage': '5d2+2',\n    'Energy': 9.31,\n    'Health': 9.26,\n    'Level': 5,\n    'Name': 'Zombie Mage',\n    'Rarity': 'Rank 0',\n    'Sanity': 10.07,\n    'Time Stamp': '2022-03-31 07:23:55',\n    'Type': 'Undead'},\n   {'Damage': '7d2+1',\n    'Energy': 13.37,\n    'Health': 14.07,\n    'Level': 7,\n    'Name': 'Goblin Guard',\n    'Rarity': 'Rank 0',\n    'Sanity': 13.39,\n    'Time Stamp': '2022-03-31 07:23:55',\n    'Type': 'Devilkin'},\n   {'Damage': '11d2+2',\n    'Energy': 22.84,\n    'Health': 22.01,\n    'Level': 11,\n    'Name': 'Lightning Archfey',\n    'Rarity': 'Rank 0',\n    'Sanity': 21.79,\n    'Time Stamp': '2022-03-31 07:23:55',\n    'Type': 'Fey'},\n   {'Damage': '7d2+1',\n    'Energy': 13.32,\n    'Health': 13.85,\n    'Level': 7,\n    'Name': 'Succubus',\n    'Rarity': 'Rank 0',\n    'Sanity': 13.27,\n    'Time Stamp': '2022-03-31 07:23:55',\n    'Type': 'Devilkin'},\n   {'Damage': '4d2+1',\n    'Energy': 8.43,\n    'Health': 8.38,\n    'Level': 4,\n    'Name': 'White Dragon',\n    'Rarity': 'Rank 0',\n    'Sanity': 7.7,\n    'Time Stamp': '2022-03-31 07:23:55',\n    'Type': 'Dragon'},\n   {'Damage': '17d2+1',\n    'Energy': 34.62,\n    'Health': 33.41,\n    'Level': 17,\n    'Name': 'Emerald Faerie',\n    'Rarity': 'Rank 0',\n    'Sanity': 33.98,\n    'Time Stamp': '2022-03-31 07:23:55',\n    'Type': 'Fey'},\n   {'Damage': '11d2+3',\n    'Energy': 21.71,\n    'Health': 21.13,\n    'Level': 11,\n    'Name': 'Hook Horror',\n    'Rarity': 'Rank 0',\n    'Sanity': 22.92,\n    'Time Stamp': '2022-03-31 07:23:55',\n    'Type': 'Demonic'},\n   {'Damage': '10d2',\n    'Energy': 19.72,\n    'Health': 19.29,\n    'Level': 10,\n    'Name': 'Sapphire Faerie',\n    'Rarity': 'Rank 0',\n    'Sanity': 20.35,\n    'Time Stamp': '2022-03-31 07:23:55',\n    'Type': 'Fey'},\n   {'Damage': '15d2+4',\n    'Energy': 30.72,\n    'Health': 30.7,\n    'Level': 15,\n    'Name': 'Djinni',\n    'Rarity': 'Rank 0',\n    'Sanity': 29.33,\n    'Time Stamp': '2022-03-31 07:23:55',\n    'Type': 'Elemental'},\n   {'Damage': '3d2+4',\n    'Energy': 6.81,\n    'Health': 5.11,\n    'Level': 3,\n    'Name': 'Smoke Devil',\n    'Rarity': 'Rank 0',\n    'Sanity': 6.02,\n    'Time Stamp': '2022-03-31 07:23:55',\n    'Type': 'Devilkin'},\n   {'Damage': '17d2',\n    'Energy': 34.15,\n    'Health': 34.73,\n    'Level': 17,\n    'Name': 'Mummy Lord',\n    'Rarity': 'Rank 0',\n    'Sanity': 34.89,\n    'Time Stamp': '2022-03-31 07:23:55',\n    'Type': 'Undead'},\n   {'Damage': '7d2+3',\n    'Energy': 13.68,\n    'Health': 14.78,\n    'Level': 7,\n    'Name': 'Balor',\n    'Rarity': 'Rank 0',\n    'Sanity': 14.28,\n    'Time Stamp': '2022-03-31 07:23:55',\n    'Type': 'Demonic'},\n   {'Damage': '10d2+2',\n    'Energy': 20.01,\n    'Health': 20.18,\n    'Level': 10,\n    'Name': 'Gold Demon',\n    'Rarity': 'Rank 0',\n    'Sanity': 19.4,\n    'Time Stamp': '2022-03-31 07:23:55',\n    'Type': 'Demonic'},\n   {'Damage': '15d2',\n    'Energy': 30.38,\n    'Health': 30.31,\n    'Level': 15,\n    'Name': 'Magma Devil',\n    'Rarity': 'Rank 0',\n    'Sanity': 30.74,\n    'Time Stamp': '2022-03-31 07:23:55',\n    'Type': 'Devilkin'},\n   {'Damage': '10d2',\n    'Energy': 20.24,\n    'Health': 20.03,\n    'Level': 10,\n    'Name': 'Black Dragon',\n    'Rarity': 'Rank 0',\n    'Sanity': 19.41,\n    'Time Stamp': '2022-03-31 07:23:55',\n    'Type': 'Dragon'},\n   {'Damage': '8d2+3',\n    'Energy': 15.47,\n    'Health': 16.02,\n    'Level': 8,\n    'Name': 'Prince of Fear',\n    'Rarity': 'Rank 0',\n    'Sanity': 15.45,\n    'Time Stamp': '2022-03-31 07:23:55',\n    'Type': 'Devilkin'},\n   {'Damage': '7d2+1',\n    'Energy': 14.92,\n    'Health': 14.99,\n    'Level': 7,\n    'Name': 'Goblin Mage',\n    'Rarity': 'Rank 0',\n    'Sanity': 13.26,\n    'Time Stamp': '2022-03-31 07:23:55',\n    'Type': 'Devilkin'},\n   {'Damage': '6d2+1',\n    'Energy': 11.66,\n    'Health': 11.12,\n    'Level': 6,\n    'Name': 'Wyvern',\n    'Rarity': 'Rank 0',\n    'Sanity': 12.71,\n    'Time Stamp': '2022-03-31 07:23:55',\n    'Type': 'Dragon'},\n   {'Damage': '9d2',\n    'Energy': 18.79,\n    'Health': 17.01,\n    'Level': 9,\n    'Name': 'Poltergeist',\n    'Rarity': 'Rank 0',\n    'Sanity': 18.22,\n    'Time Stamp': '2022-03-31 07:23:55',\n    'Type': 'Undead'},\n   {'Damage': '3d2+4',\n    'Energy': 5.91,\n    'Health': 5.39,\n    'Level': 3,\n    'Name': 'Kobold Archer',\n    'Rarity': 'Rank 0',\n    'Sanity': 6.81,\n    'Time Stamp': '2022-03-31 07:23:55',\n    'Type': 'Devilkin'},\n   {'Damage': '7d2',\n    'Energy': 14.87,\n    'Health': 14.73,\n    'Level': 7,\n    'Name': 'Incubus',\n    'Rarity': 'Rank 0',\n    'Sanity': 13.05,\n    'Time Stamp': '2022-03-31 07:23:55',\n    'Type': 'Devilkin'},\n   {'Damage': '2d2+2',\n    'Energy': 4.32,\n    'Health': 4.16,\n    'Level': 2,\n    'Name': 'Quasit',\n    'Rarity': 'Rank 0',\n    'Sanity': 4.56,\n    'Time Stamp': '2022-03-31 07:23:55',\n    'Type': 'Demonic'},\n   {'Damage': '7d2+4',\n    'Energy': 13.01,\n    'Health': 14.79,\n    'Level': 7,\n    'Name': 'Ruby Archfey',\n    'Rarity': 'Rank 0',\n    'Sanity': 13.49,\n    'Time Stamp': '2022-03-31 07:23:55',\n    'Type': 'Fey'},\n   {'Damage': '6d2+1',\n    'Energy': 12.19,\n    'Health': 12.36,\n    'Level': 6,\n    'Name': 'Emerald Faerie',\n    'Rarity': 'Rank 0',\n    'Sanity': 11.87,\n    'Time Stamp': '2022-03-31 07:23:55',\n    'Type': 'Fey'},\n   {'Damage': '15d2',\n    'Energy': 29.41,\n    'Health': 30.22,\n    'Level': 15,\n    'Name': 'Death Knight',\n    'Rarity': 'Rank 0',\n    'Sanity': 29.12,\n    'Time Stamp': '2022-03-31 07:23:55',\n    'Type': 'Undead'},\n   {'Damage': '8d2+1',\n    'Energy': 16.55,\n    'Health': 15.37,\n    'Level': 8,\n    'Name': 'Demilich',\n    'Rarity': 'Rank 0',\n    'Sanity': 15.17,\n    'Time Stamp': '2022-03-31 07:23:55',\n    'Type': 'Undead'},\n   {'Damage': '5d2+1',\n    'Energy': 9.55,\n    'Health': 9.98,\n    'Level': 5,\n    'Name': 'Blue Faerie',\n    'Rarity': 'Rank 0',\n    'Sanity': 10.05,\n    'Time Stamp': '2022-03-31 07:23:55',\n    'Type': 'Fey'},\n   {'Damage': '9d2',\n    'Energy': 17.22,\n    'Health': 18.69,\n    'Level': 9,\n    'Name': 'Succubus',\n    'Rarity': 'Rank 0',\n    'Sanity': 17.46,\n    'Time Stamp': '2022-03-31 07:23:55',\n    'Type': 'Devilkin'},\n   {'Damage': '7d2',\n    'Energy': 13.29,\n    'Health': 14.62,\n    'Level': 7,\n    'Name': 'Steam Devil',\n    'Rarity': 'Rank 0',\n    'Sanity': 14.15,\n    'Time Stamp': '2022-03-31 07:23:55',\n    'Type': 'Devilkin'},\n   {'Damage': '3d2+1',\n    'Energy': 6.07,\n    'Health': 5.28,\n    'Level': 3,\n    'Name': 'Dust Elemental',\n    'Rarity': 'Rank 0',\n    'Sanity': 5.48,\n    'Time Stamp': '2022-03-31 07:23:55',\n    'Type': 'Elemental'},\n   {'Damage': '4d2+4',\n    'Energy': 8.21,\n    'Health': 7.38,\n    'Level': 4,\n    'Name': 'Prismatic Archfey',\n    'Rarity': 'Rank 0',\n    'Sanity': 8.93,\n    'Time Stamp': '2022-03-31 07:23:55',\n    'Type': 'Fey'},\n   {'Damage': '13d2+2',\n    'Energy': 25.81,\n    'Health': 26.4,\n    'Level': 13,\n    'Name': 'Mud Spirit',\n    'Rarity': 'Rank 0',\n    'Sanity': 26.46,\n    'Time Stamp': '2022-03-31 07:23:55',\n    'Type': 'Fey'},\n   {'Damage': '7d2+3',\n    'Energy': 14.5,\n    'Health': 14.9,\n    'Level': 7,\n    'Name': 'Night Hag',\n    'Rarity': 'Rank 0',\n    'Sanity': 14.09,\n    'Time Stamp': '2022-03-31 07:23:55',\n    'Type': 'Demonic'},\n   {'Damage': '6d2+2',\n    'Energy': 11.41,\n    'Health': 11.19,\n    'Level': 6,\n    'Name': 'Magma Devil',\n    'Rarity': 'Rank 0',\n    'Sanity': 11.33,\n    'Time Stamp': '2022-03-31 07:23:55',\n    'Type': 'Devilkin'},\n   {'Damage': '2d2',\n    'Energy': 3.06,\n    'Health': 4.38,\n    'Level': 2,\n    'Name': 'Black Drake',\n    'Rarity': 'Rank 0',\n    'Sanity': 4.25,\n    'Time Stamp': '2022-03-31 07:23:55',\n    'Type': 'Dragon'},\n   {'Damage': '18d2+2',\n    'Energy': 35.37,\n    'Health': 36.34,\n    'Level': 18,\n    'Name': 'Ice Mephit',\n    'Rarity': 'Rank 0',\n    'Sanity': 36.4,\n    'Time Stamp': '2022-03-31 07:23:55',\n    'Type': 'Elemental'},\n   {'Damage': '18d2',\n    'Energy': 36.32,\n    'Health': 36.24,\n    'Level': 18,\n    'Name': 'Hell Hound',\n    'Rarity': 'Rank 0',\n    'Sanity': 35.57,\n    'Time Stamp': '2022-03-31 07:23:55',\n    'Type': 'Demonic'},\n   {'Damage': '8d2',\n    'Energy': 16.68,\n    'Health': 15.98,\n    'Level': 8,\n    'Name': 'Lightning Devil',\n    'Rarity': 'Rank 0',\n    'Sanity': 15.67,\n    'Time Stamp': '2022-03-31 07:23:55',\n    'Type': 'Devilkin'},\n   {'Damage': '5d2',\n    'Energy': 10.86,\n    'Health': 9.55,\n    'Level': 5,\n    'Name': 'Balor',\n    'Rarity': 'Rank 0',\n    'Sanity': 10.03,\n    'Time Stamp': '2022-03-31 07:23:55',\n    'Type': 'Demonic'},\n   {'Damage': '11d2+5',\n    'Energy': 21.86,\n    'Health': 21.45,\n    'Level': 11,\n    'Name': 'Gold Drake',\n    'Rarity': 'Rank 0',\n    'Sanity': 21.2,\n    'Time Stamp': '2022-03-31 07:23:55',\n    'Type': 'Dragon'},\n   {'Damage': '8d2',\n    'Energy': 16.87,\n    'Health': 16.27,\n    'Level': 8,\n    'Name': 'Hook Horror',\n    'Rarity': 'Rank 0',\n    'Sanity': 15.13,\n    'Time Stamp': '2022-03-31 07:23:55',\n    'Type': 'Demonic'},\n   {'Damage': '3d2+3',\n    'Energy': 5.87,\n    'Health': 5.22,\n    'Level': 3,\n    'Name': 'Ice Elemental',\n    'Rarity': 'Rank 0',\n    'Sanity': 6.3,\n    'Time Stamp': '2022-03-31 07:23:55',\n    'Type': 'Elemental'},\n   {'Damage': '7d2',\n    'Energy': 13.56,\n    'Health': 14.55,\n    'Level': 7,\n    'Name': 'Prince of Fear',\n    'Rarity': 'Rank 0',\n    'Sanity': 13.73,\n    'Time Stamp': '2022-03-31 07:23:55',\n    'Type': 'Devilkin'},\n   {'Damage': '2d2+1',\n    'Energy': 3.58,\n    'Health': 3.13,\n    'Level': 2,\n    'Name': 'Bronze Demon',\n    'Rarity': 'Rank 0',\n    'Sanity': 3.08,\n    'Time Stamp': '2022-03-31 07:23:55',\n    'Type': 'Demonic'},\n   {'Damage': '7d2+2',\n    'Energy': 13.02,\n    'Health': 13.7,\n    'Level': 7,\n    'Name': 'Efreeti',\n    'Rarity': 'Rank 0',\n    'Sanity': 13.12,\n    'Time Stamp': '2022-03-31 07:23:55',\n    'Type': 'Elemental'},\n   {'Damage': '4d2+2',\n    'Energy': 7.23,\n    'Health': 7.36,\n    'Level': 4,\n    'Name': 'Night Hag',\n    'Rarity': 'Rank 0',\n    'Sanity': 7.78,\n    'Time Stamp': '2022-03-31 07:23:55',\n    'Type': 'Demonic'},\n   {'Damage': '5d2',\n    'Energy': 9.13,\n    'Health': 10.48,\n    'Level': 5,\n    'Name': 'Magma Archfey',\n    'Rarity': 'Rank 0',\n    'Sanity': 10.79,\n    'Time Stamp': '2022-03-31 07:23:55',\n    'Type': 'Fey'},\n   {'Damage': '3d2',\n    'Energy': 6.71,\n    'Health': 6.63,\n    'Level': 3,\n    'Name': 'Mud Devil',\n    'Rarity': 'Rank 0',\n    'Sanity': 5.62,\n    'Time Stamp': '2022-03-31 07:23:55',\n    'Type': 'Devilkin'},\n   {'Damage': '6d2+2',\n    'Energy': 12.3,\n    'Health': 11.38,\n    'Level': 6,\n    'Name': 'Smoke Elemental',\n    'Rarity': 'Rank 0',\n    'Sanity': 11.19,\n    'Time Stamp': '2022-03-31 07:23:55',\n    'Type': 'Elemental'},\n   {'Damage': '4d2+4',\n    'Energy': 8.98,\n    'Health': 7.56,\n    'Level': 4,\n    'Name': 'White Demon',\n    'Rarity': 'Rank 0',\n    'Sanity': 7.46,\n    'Time Stamp': '2022-03-31 07:23:55',\n    'Type': 'Demonic'},\n   {'Damage': '13d2+2',\n    'Energy': 25.26,\n    'Health': 26.15,\n    'Level': 13,\n    'Name': 'Incubus',\n    'Rarity': 'Rank 0',\n    'Sanity': 25.9,\n    'Time Stamp': '2022-03-31 07:23:55',\n    'Type': 'Devilkin'},\n   {'Damage': '2d2+2',\n    'Energy': 3.85,\n    'Health': 4.59,\n    'Level': 2,\n    'Name': 'Nightmare',\n    'Rarity': 'Rank 0',\n    'Sanity': 3.03,\n    'Time Stamp': '2022-03-31 07:23:55',\n    'Type': 'Demonic'},\n   {'Damage': '8d2+2',\n    'Energy': 16.97,\n    'Health': 15.39,\n    'Level': 8,\n    'Name': 'Quasit',\n    'Rarity': 'Rank 0',\n    'Sanity': 15.35,\n    'Time Stamp': '2022-03-31 07:23:55',\n    'Type': 'Demonic'},\n   {'Damage': '3d2+3',\n    'Energy': 6.24,\n    'Health': 6.66,\n    'Level': 3,\n    'Name': 'Red Archfey',\n    'Rarity': 'Rank 0',\n    'Sanity': 5.05,\n    'Time Stamp': '2022-03-31 07:23:55',\n    'Type': 'Fey'},\n   {'Damage': '8d2+3',\n    'Energy': 16.51,\n    'Health': 16.23,\n    'Level': 8,\n    'Name': 'Banshee',\n    'Rarity': 'Rank 0',\n    'Sanity': 15.37,\n    'Time Stamp': '2022-03-31 07:23:55',\n    'Type': 'Undead'},\n   {'Damage': '5d2+2',\n    'Energy': 9.35,\n    'Health': 9.84,\n    'Level': 5,\n    'Name': 'Kobold Mage',\n    'Rarity': 'Rank 0',\n    'Sanity': 9.44,\n    'Time Stamp': '2022-03-31 07:23:55',\n    'Type': 'Devilkin'},\n   {'Damage': '13d2',\n    'Energy': 26.13,\n    'Health': 26.74,\n    'Level': 13,\n    'Name': 'Shadow Mephit',\n    'Rarity': 'Rank 0',\n    'Sanity': 26.12,\n    'Time Stamp': '2022-03-31 07:23:55',\n    'Type': 'Elemental'},\n   {'Damage': '17d2',\n    'Energy': 33.99,\n    'Health': 34.06,\n    'Level': 17,\n    'Name': 'Diamond Faerie',\n    'Rarity': 'Rank 0',\n    'Sanity': 34.59,\n    'Time Stamp': '2022-03-31 07:23:55',\n    'Type': 'Fey'},\n   {'Damage': '3d2+3',\n    'Energy': 5.02,\n    'Health': 6.79,\n    'Level': 3,\n    'Name': 'Efreeti',\n    'Rarity': 'Rank 0',\n    'Sanity': 6.86,\n    'Time Stamp': '2022-03-31 07:23:55',\n    'Type': 'Elemental'},\n   {'Damage': '15d2',\n    'Energy': 30.58,\n    'Health': 30.39,\n    'Level': 15,\n    'Name': 'Spore Archfey',\n    'Rarity': 'Rank 0',\n    'Sanity': 29.57,\n    'Time Stamp': '2022-03-31 07:23:55',\n    'Type': 'Fey'},\n   {'Damage': '5d2+2',\n    'Energy': 10.31,\n    'Health': 9.81,\n    'Level': 5,\n    'Name': 'Night Hag',\n    'Rarity': 'Rank 0',\n    'Sanity': 10.2,\n    'Time Stamp': '2022-03-31 07:23:55',\n    'Type': 'Demonic'},\n   {'Damage': '7d2+3',\n    'Energy': 14.41,\n    'Health': 14.77,\n    'Level': 7,\n    'Name': 'White Drake',\n    'Rarity': 'Rank 0',\n    'Sanity': 14.6,\n    'Time Stamp': '2022-03-31 07:23:55',\n    'Type': 'Dragon'},\n   {'Damage': '13d2',\n    'Energy': 26.34,\n    'Health': 26.02,\n    'Level': 13,\n    'Name': 'Faerie Dragon',\n    'Rarity': 'Rank 0',\n    'Sanity': 25.18,\n    'Time Stamp': '2022-03-31 07:23:55',\n    'Type': 'Dragon'},\n   {'Damage': '8d2+3',\n    'Energy': 16.81,\n    'Health': 16.3,\n    'Level': 8,\n    'Name': 'Shadow Mephit',\n    'Rarity': 'Rank 0',\n    'Sanity': 15.45,\n    'Time Stamp': '2022-03-31 07:23:55',\n    'Type': 'Elemental'},\n   {'Damage': '11d2+3',\n    'Energy': 21.26,\n    'Health': 21.03,\n    'Level': 11,\n    'Name': 'Prismatic Wyrmling',\n    'Rarity': 'Rank 0',\n    'Sanity': 22.87,\n    'Time Stamp': '2022-03-31 07:23:55',\n    'Type': 'Dragon'},\n   {'Damage': '7d2',\n    'Energy': 13.79,\n    'Health': 14.31,\n    'Level': 7,\n    'Name': 'Efreeti',\n    'Rarity': 'Rank 0',\n    'Sanity': 14.59,\n    'Time Stamp': '2022-03-31 07:23:55',\n    'Type': 'Elemental'},\n   {'Damage': '5d2+5',\n    'Energy': 9.36,\n    'Health': 10.53,\n    'Level': 5,\n    'Name': 'Night Hag',\n    'Rarity': 'Rank 0',\n    'Sanity': 9.18,\n    'Time Stamp': '2022-03-31 07:23:55',\n    'Type': 'Demonic'},\n   {'Damage': '9d2+1',\n    'Energy': 17.65,\n    'Health': 18.21,\n    'Level': 9,\n    'Name': 'Smoke Elemental',\n    'Rarity': 'Rank 0',\n    'Sanity': 18.21,\n    'Time Stamp': '2022-03-31 07:23:55',\n    'Type': 'Elemental'},\n   {'Damage': '7d2',\n    'Energy': 13.31,\n    'Health': 14.53,\n    'Level': 7,\n    'Name': 'Magma Archfey',\n    'Rarity': 'Rank 0',\n    'Sanity': 13.88,\n    'Time Stamp': '2022-03-31 07:23:55',\n    'Type': 'Fey'},\n   {'Damage': '3d2+1',\n    'Energy': 5.91,\n    'Health': 5.51,\n    'Level': 3,\n    'Name': 'Platinum Wyrmling',\n    'Rarity': 'Rank 0',\n    'Sanity': 6.59,\n    'Time Stamp': '2022-03-31 07:23:55',\n    'Type': 'Dragon'},\n   {'Damage': '13d2+2',\n    'Energy': 26.54,\n    'Health': 25.86,\n    'Level': 13,\n    'Name': 'Efreeti',\n    'Rarity': 'Rank 0',\n    'Sanity': 26.94,\n    'Time Stamp': '2022-03-31 07:23:55',\n    'Type': 'Elemental'},\n   {'Damage': '2d2+1',\n    'Energy': 3.27,\n    'Health': 3.91,\n    'Level': 2,\n    'Name': 'Green Faerie',\n    'Rarity': 'Rank 0',\n    'Sanity': 4.99,\n    'Time Stamp': '2022-03-31 07:23:55',\n    'Type': 'Fey'},\n   {'Damage': '6d2+1',\n    'Energy': 12.97,\n    'Health': 11.38,\n    'Level': 6,\n    'Name': 'Lightning Mephit',\n    'Rarity': 'Rank 0',\n    'Sanity': 11.69,\n    'Time Stamp': '2022-03-31 07:23:55',\n    'Type': 'Elemental'},\n   {'Damage': '6d2+1',\n    'Energy': 11.13,\n    'Health': 12.42,\n    'Level': 6,\n    'Name': 'Flame Spirit',\n    'Rarity': 'Rank 0',\n    'Sanity': 11.77,\n    'Time Stamp': '2022-03-31 07:23:55',\n    'Type': 'Fey'},\n   {'Damage': '11d2',\n    'Energy': 21.85,\n    'Health': 21.12,\n    'Level': 11,\n    'Name': 'Pseudodragon',\n    'Rarity': 'Rank 0',\n    'Sanity': 22.08,\n    'Time Stamp': '2022-03-31 07:23:55',\n    'Type': 'Dragon'},\n   {'Damage': '2d2',\n    'Energy': 3.91,\n    'Health': 4.38,\n    'Level': 2,\n    'Name': 'Djinni',\n    'Rarity': 'Rank 0',\n    'Sanity': 3.17,\n    'Time Stamp': '2022-03-31 07:23:55',\n    'Type': 'Elemental'},\n   {'Damage': '7d2',\n    'Energy': 13.05,\n    'Health': 14.19,\n    'Level': 7,\n    'Name': 'Imp',\n    'Rarity': 'Rank 0',\n    'Sanity': 13.47,\n    'Time Stamp': '2022-03-31 07:23:55',\n    'Type': 'Demonic'},\n   {'Damage': '12d2+2',\n    'Energy': 23.72,\n    'Health': 24.43,\n    'Level': 12,\n    'Name': 'Ruby Drake',\n    'Rarity': 'Rank 0',\n    'Sanity': 24.28,\n    'Time Stamp': '2022-03-31 07:23:55',\n    'Type': 'Dragon'},\n   {'Damage': '2d2+3',\n    'Energy': 4.18,\n    'Health': 4.25,\n    'Level': 2,\n    'Name': 'Djinni',\n    'Rarity': 'Rank 0',\n    'Sanity': 4.9,\n    'Time Stamp': '2022-03-31 07:23:55',\n    'Type': 'Elemental'},\n   {'Damage': '15d2',\n    'Energy': 29.28,\n    'Health': 29.68,\n    'Level': 15,\n    'Name': 'Pseudodragon',\n    'Rarity': 'Rank 0',\n    'Sanity': 29.08,\n    'Time Stamp': '2022-03-31 07:23:55',\n    'Type': 'Dragon'},\n   {'Damage': '13d2+1',\n    'Energy': 25.38,\n    'Health': 25.95,\n    'Level': 13,\n    'Name': 'Pseudodragon',\n    'Rarity': 'Rank 0',\n    'Sanity': 25.1,\n    'Time Stamp': '2022-03-31 07:23:55',\n    'Type': 'Dragon'},\n   {'Damage': '4d2',\n    'Energy': 7.27,\n    'Health': 8.84,\n    'Level': 4,\n    'Name': 'Goblin Mage',\n    'Rarity': 'Rank 0',\n    'Sanity': 7.01,\n    'Time Stamp': '2022-03-31 07:23:55',\n    'Type': 'Devilkin'},\n   {'Damage': '2d2',\n    'Energy': 4.22,\n    'Health': 3.91,\n    'Level': 2,\n    'Name': 'Efreeti',\n    'Rarity': 'Rank 0',\n    'Sanity': 3.23,\n    'Time Stamp': '2022-03-31 07:23:55',\n    'Type': 'Elemental'},\n   {'Damage': '11d2',\n    'Energy': 22.38,\n    'Health': 21.94,\n    'Level': 11,\n    'Name': 'Vampire',\n    'Rarity': 'Rank 0',\n    'Sanity': 21.29,\n    'Time Stamp': '2022-03-31 07:23:55',\n    'Type': 'Undead'},\n   {'Damage': '1d2+1',\n    'Energy': 2.34,\n    'Health': 1.94,\n    'Level': 1,\n    'Name': 'Lightning Elemental',\n    'Rarity': 'Rank 0',\n    'Sanity': 1.66,\n    'Time Stamp': '2022-03-31 07:23:55',\n    'Type': 'Elemental'},\n   {'Damage': '19d2+4',\n    'Energy': 38.23,\n    'Health': 37.71,\n    'Level': 19,\n    'Name': 'Steam Spirit',\n    'Rarity': 'Rank 0',\n    'Sanity': 37.85,\n    'Time Stamp': '2022-03-31 07:23:55',\n    'Type': 'Fey'},\n   {'Damage': '8d2+1',\n    'Energy': 15.78,\n    'Health': 15.35,\n    'Level': 8,\n    'Name': 'Kobold Knight',\n    'Rarity': 'Rank 0',\n    'Sanity': 15.79,\n    'Time Stamp': '2022-03-31 07:23:55',\n    'Type': 'Devilkin'},\n   {'Damage': '1d2',\n    'Energy': 2.28,\n    'Health': 2.67,\n    'Level': 1,\n    'Name': 'Ghostly Mage',\n    'Rarity': 'Rank 0',\n    'Sanity': 1.17,\n    'Time Stamp': '2022-03-31 07:23:55',\n    'Type': 'Undead'},\n   {'Damage': '11d2',\n    'Energy': 22.15,\n    'Health': 22.87,\n    'Level': 11,\n    'Name': 'Efreeti',\n    'Rarity': 'Rank 0',\n    'Sanity': 21.32,\n    'Time Stamp': '2022-03-31 07:23:55',\n    'Type': 'Elemental'},\n   {'Damage': '3d2+2',\n    'Energy': 5.92,\n    'Health': 6.3,\n    'Level': 3,\n    'Name': 'Lich',\n    'Rarity': 'Rank 0',\n    'Sanity': 5.23,\n    'Time Stamp': '2022-03-31 07:23:55',\n    'Type': 'Undead'},\n   {'Damage': '3d2+2',\n    'Energy': 6.81,\n    'Health': 6.72,\n    'Level': 3,\n    'Name': 'Djinni',\n    'Rarity': 'Rank 0',\n    'Sanity': 6.59,\n    'Time Stamp': '2022-03-31 07:23:55',\n    'Type': 'Elemental'},\n   {'Damage': '11d2',\n    'Energy': 22.65,\n    'Health': 22.09,\n    'Level': 11,\n    'Name': 'Nightmare',\n    'Rarity': 'Rank 0',\n    'Sanity': 21.69,\n    'Time Stamp': '2022-03-31 07:23:55',\n    'Type': 'Demonic'},\n   {'Damage': '5d2+3',\n    'Energy': 10.46,\n    'Health': 9.36,\n    'Level': 5,\n    'Name': 'Pit Lord',\n    'Rarity': 'Rank 0',\n    'Sanity': 10.89,\n    'Time Stamp': '2022-03-31 07:23:55',\n    'Type': 'Devilkin'},\n   {'Damage': '7d2',\n    'Energy': 14.23,\n    'Health': 13.62,\n    'Level': 7,\n    'Name': 'Lightning Elemental',\n    'Rarity': 'Rank 0',\n    'Sanity': 14.08,\n    'Time Stamp': '2022-03-31 07:23:55',\n    'Type': 'Elemental'},\n   {'Damage': '12d2+2',\n    'Energy': 23.81,\n    'Health': 24.93,\n    'Level': 12,\n    'Name': 'Pit Fiend',\n    'Rarity': 'Rank 0',\n    'Sanity': 24.0,\n    'Time Stamp': '2022-03-31 07:23:55',\n    'Type': 'Demonic'},\n   {'Damage': '12d2+2',\n    'Energy': 23.96,\n    'Health': 24.34,\n    'Level': 12,\n    'Name': 'Steam Elemental',\n    'Rarity': 'Rank 0',\n    'Sanity': 24.56,\n    'Time Stamp': '2022-03-31 07:23:55',\n    'Type': 'Elemental'},\n   {'Damage': '2d2+1',\n    'Energy': 3.49,\n    'Health': 4.14,\n    'Level': 2,\n    'Name': 'Lich',\n    'Rarity': 'Rank 0',\n    'Sanity': 4.85,\n    'Time Stamp': '2022-03-31 07:23:55',\n    'Type': 'Undead'},\n   {'Damage': '6d2+1',\n    'Energy': 11.05,\n    'Health': 11.37,\n    'Level': 6,\n    'Name': 'Djinni',\n    'Rarity': 'Rank 0',\n    'Sanity': 11.88,\n    'Time Stamp': '2022-03-31 07:23:55',\n    'Type': 'Elemental'},\n   {'Damage': '6d2+1',\n    'Energy': 12.21,\n    'Health': 12.18,\n    'Level': 6,\n    'Name': 'Prismatic Archfey',\n    'Rarity': 'Rank 0',\n    'Sanity': 12.07,\n    'Time Stamp': '2022-03-31 07:23:55',\n    'Type': 'Fey'},\n   {'Damage': '4d2+1',\n    'Energy': 8.09,\n    'Health': 8.47,\n    'Level': 4,\n    'Name': 'Djinni',\n    'Rarity': 'Rank 0',\n    'Sanity': 8.7,\n    'Time Stamp': '2022-03-31 07:23:55',\n    'Type': 'Elemental'},\n   {'Damage': '7d2',\n    'Energy': 14.9,\n    'Health': 13.0,\n    'Level': 7,\n    'Name': 'Balor',\n    'Rarity': 'Rank 0',\n    'Sanity': 13.1,\n    'Time Stamp': '2022-03-31 07:23:55',\n    'Type': 'Demonic'},\n   {'Damage': '3d2',\n    'Energy': 6.34,\n    'Health': 6.65,\n    'Level': 3,\n    'Name': 'Gold Demon',\n    'Rarity': 'Rank 0',\n    'Sanity': 5.47,\n    'Time Stamp': '2022-03-31 07:23:55',\n    'Type': 'Demonic'},\n   {'Damage': '13d2+1',\n    'Energy': 25.6,\n    'Health': 25.71,\n    'Level': 13,\n    'Name': 'Magma Devil',\n    'Rarity': 'Rank 0',\n    'Sanity': 25.13,\n    'Time Stamp': '2022-03-31 07:23:55',\n    'Type': 'Devilkin'},\n   {'Damage': '10d2',\n    'Energy': 20.31,\n    'Health': 19.2,\n    'Level': 10,\n    'Name': 'Diamond Wyrmling',\n    'Rarity': 'Rank 0',\n    'Sanity': 20.94,\n    'Time Stamp': '2022-03-31 07:23:55',\n    'Type': 'Dragon'},\n   {'Damage': '2d2+5',\n    'Energy': 4.4,\n    'Health': 4.77,\n    'Level': 2,\n    'Name': 'Efreeti',\n    'Rarity': 'Rank 0',\n    'Sanity': 3.43,\n    'Time Stamp': '2022-03-31 07:23:55',\n    'Type': 'Elemental'},\n   {'Damage': '14d2+2',\n    'Energy': 28.24,\n    'Health': 27.62,\n    'Level': 14,\n    'Name': 'Night Hag',\n    'Rarity': 'Rank 0',\n    'Sanity': 27.03,\n    'Time Stamp': '2022-03-31 07:23:55',\n    'Type': 'Demonic'},\n   {'Damage': '10d2+1',\n    'Energy': 19.32,\n    'Health': 20.89,\n    'Level': 10,\n    'Name': 'Lightning Archfey',\n    'Rarity': 'Rank 0',\n    'Sanity': 20.38,\n    'Time Stamp': '2022-03-31 07:23:55',\n    'Type': 'Fey'},\n   {'Damage': '6d2',\n    'Energy': 12.82,\n    'Health': 12.79,\n    'Level': 6,\n    'Name': 'Sapphire Wyrmling',\n    'Rarity': 'Rank 0',\n    'Sanity': 11.01,\n    'Time Stamp': '2022-03-31 07:23:55',\n    'Type': 'Dragon'},\n   {'Damage': '4d2+5',\n    'Energy': 7.44,\n    'Health': 8.45,\n    'Level': 4,\n    'Name': 'Zombie Guard',\n    'Rarity': 'Rank 0',\n    'Sanity': 8.46,\n    'Time Stamp': '2022-03-31 07:23:55',\n    'Type': 'Undead'},\n   {'Damage': '2d2+1',\n    'Energy': 3.57,\n    'Health': 4.75,\n    'Level': 2,\n    'Name': 'Prince of Fear',\n    'Rarity': 'Rank 0',\n    'Sanity': 3.04,\n    'Time Stamp': '2022-03-31 07:23:55',\n    'Type': 'Devilkin'},\n   {'Damage': '5d2+2',\n    'Energy': 9.3,\n    'Health': 9.57,\n    'Level': 5,\n    'Name': 'Brass Drake',\n    'Rarity': 'Rank 0',\n    'Sanity': 9.09,\n    'Time Stamp': '2022-03-31 07:23:55',\n    'Type': 'Dragon'},\n   {'Damage': '9d2+1',\n    'Energy': 17.91,\n    'Health': 17.02,\n    'Level': 9,\n    'Name': 'Emerald Demon',\n    'Rarity': 'Rank 0',\n    'Sanity': 18.64,\n    'Time Stamp': '2022-03-31 07:23:55',\n    'Type': 'Demonic'}]},\n 'encoding': {'color': {'field': 'Type', 'type': 'nominal'},\n  'tooltip': [{'field': 'Name', 'type': 'nominal'},\n   {'field': 'Type', 'type': 'nominal'},\n   {'field': 'Level', 'type': 'quantitative'},\n   {'field': 'Rarity', 'type': 'nominal'},\n   {'field': 'Damage', 'type': 'nominal'},\n   {'field': 'Health', 'type': 'quantitative'},\n   {'field': 'Energy', 'type': 'quantitative'},\n   {'field': 'Sanity', 'type': 'quantitative'},\n   {'field': 'Time Stamp', 'type': 'nominal'}],\n  'x': {'axis': {'title': 'Time Stamp'},\n   'field': 'Time Stamp',\n   'type': 'nominal'},\n  'y': {'axis': {'title': 'Level'}, 'field': 'Level', 'type': 'quantitative'}},\n 'height': 500,\n 'mark': {'size': 200, 'type': 'circle'},\n 'title': 'Rank 0 Monsters',\n 'width': 500}"
     },
     "execution_count": 59,
     "metadata": {},
     "output_type": "execute_result"
    }
   ]
  },
  {
   "cell_type": "code",
   "metadata": {
    "id": "kMWI9ghXt1Gk"
   },
   "source": [],
   "execution_count": null,
   "outputs": []
  }
 ]
}